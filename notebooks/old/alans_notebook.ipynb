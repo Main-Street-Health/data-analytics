{
 "cells": [
  {
   "cell_type": "code",
   "execution_count": null,
   "metadata": {},
   "outputs": [],
   "source": [
    "import sys\n",
    "import time\n",
    "import numpy as np\n",
    "import pandas as pd\n",
    "import matplotlib.pyplot as plt\n",
    "import seaborn as sns\n",
    "\n",
    "sys.path.append('../src')\n",
    "import cb_utils\n",
    "\n",
    "sns.set(style=\"darkgrid\")\n",
    "pd.options.display.max_columns = 500\n",
    "\n",
    "%load_ext autoreload\n",
    "%autoreload 2"
   ]
  },
  {
   "cell_type": "code",
   "execution_count": null,
   "metadata": {},
   "outputs": [],
   "source": [
    "util2 = cb_utils.get_table('vw_tmp_av_util_by_year')"
   ]
  },
  {
   "cell_type": "code",
   "execution_count": null,
   "metadata": {},
   "outputs": [],
   "source": [
    "#util.query('mm_auth > 2').pct_util.hist(bins=50)\n",
    "#util2.query('mco_id == 1 and yr == 2019').pct_util.hist(bins=50)\n",
    "\n",
    "fig, axes = plt.subplots(1, 2, figsize=(10,5))\n",
    "util2.query('mco_id == 1 and yr == 2019 and pct_util < 1.5').pct_util.hist(bins=50, ax=axes[0])\n",
    "util2.query('mco_id == 2 and yr == 2019 and pct_util < 1.5').pct_util.hist(bins=50, ax=axes[1])"
   ]
  },
  {
   "cell_type": "code",
   "execution_count": null,
   "metadata": {},
   "outputs": [],
   "source": [
    "util.query('ggroup == 2.0 and lob < 2.5').pct_util.describe()"
   ]
  },
  {
   "cell_type": "code",
   "execution_count": null,
   "metadata": {},
   "outputs": [],
   "source": [
    "util.query(\"lob == 1 and ggroup == 2\")"
   ]
  },
  {
   "cell_type": "code",
   "execution_count": null,
   "metadata": {},
   "outputs": [],
   "source": [
    "# Draw a scatter plot while assigning point colors and sizes to different\n",
    "# variables in the dataset\n",
    "f, ax = plt.subplots(figsize=(6.5, 6.5))\n",
    "sns.despine(f, left=True, bottom=True)\n",
    "sns.scatterplot(x=\"a_hrs\", y=\"pct_util\",\n",
    "                hue=\"lob\",\n",
    "                size=\"v_hrs\",\n",
    "#                palette=\"ch:r=-.2,d=.3_r\",\n",
    "                alpha=.5,palette=\"muted\",\n",
    "                linewidth=1,\n",
    "                data=util.query('ggroup == 2.0 and lob < 3'), ax=ax)"
   ]
  },
  {
   "cell_type": "code",
   "execution_count": null,
   "metadata": {},
   "outputs": [],
   "source": [
    "util.head()"
   ]
  },
  {
   "cell_type": "code",
   "execution_count": null,
   "metadata": {},
   "outputs": [],
   "source": [
    "# Draw a scatter plot while assigning point colors and sizes to different\n",
    "# variables in the dataset\n",
    "sns.relplot(x=\"a_hrs\", y=\"pct_util\",\n",
    "                hue=\"mco_id\",# size=\"ggroup\",\n",
    "                height=10, sizes=(10,5),\n",
    "                alpha=.50,   palette=\"muted\",\n",
    "                data=util2.query('pct_util < 1 and mco_id == 1 and yr == 2019 and a_hrs < 3000'))\n",
    "\n",
    "sns.relplot(x=\"a_hrs\", y=\"pct_util\",\n",
    "                hue=\"mco_id\",# size=\"ggroup\",\n",
    "                height=10, sizes=(10,5),\n",
    "                alpha=.50,   palette=\"muted\",\n",
    "                data=util2.query('pct_util < 1 and mco_id == 2 and yr == 2019 and a_hrs < 3000'))\n",
    "\n",
    "sns.relplot(x=\"a_hrs\", y=\"pct_util\",\n",
    "                hue=\"mco_id\",# size=\"ggroup\",\n",
    "                height=10, sizes=(10,5),\n",
    "                alpha=.30,   palette=\"muted\",\n",
    "                data=util2.query('pct_util < 1 and yr == 2019 and a_hrs < 3000'))\n"
   ]
  },
  {
   "cell_type": "code",
   "execution_count": null,
   "metadata": {},
   "outputs": [],
   "source": [
    "# Draw a scatter plot while assigning point colors and sizes to different\n",
    "# variables in the dataset\n",
    "sns.relplot(x=\"a_hrs\", y=\"pct_util\",\n",
    "                hue=\"lob\",# size=\"ggroup\",\n",
    "                height=10, sizes=(5,20),\n",
    "                alpha=.75,   palette=\"muted\",\n",
    "                data=util.query(' pct_util < 1.1 and ggroup == 2.0  '))\n",
    "\n"
   ]
  },
  {
   "cell_type": "code",
   "execution_count": null,
   "metadata": {},
   "outputs": [],
   "source": [
    "util.query('lob==1')"
   ]
  },
  {
   "cell_type": "code",
   "execution_count": null,
   "metadata": {},
   "outputs": [],
   "source": [
    "sns.set(style=\"ticks\", color_codes=True)\n",
    "sns.pairplot(util.query('mm_auth > 1 and ggroup == 2 and lob <= 2.5')[['a_hrs', 'v_hrs', 'pct_util']])#, hue='mm_auth')"
   ]
  },
  {
   "cell_type": "code",
   "execution_count": null,
   "metadata": {},
   "outputs": [],
   "source": []
  }
 ],
 "metadata": {
  "kernelspec": {
   "display_name": "Python 3",
   "language": "python",
   "name": "python3"
  },
  "language_info": {
   "codemirror_mode": {
    "name": "ipython",
    "version": 3
   },
   "file_extension": ".py",
   "mimetype": "text/x-python",
   "name": "python",
   "nbconvert_exporter": "python",
   "pygments_lexer": "ipython3",
   "version": "3.8.3"
  }
 },
 "nbformat": 4,
 "nbformat_minor": 4
}
