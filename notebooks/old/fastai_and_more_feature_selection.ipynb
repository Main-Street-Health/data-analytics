{
 "cells": [
  {
   "cell_type": "code",
   "execution_count": null,
   "metadata": {},
   "outputs": [],
   "source": [
    "import os\n",
    "import sys\n",
    "import time\n",
    "import random\n",
    "import collections\n",
    "import numpy as np\n",
    "import pandas as pd\n",
    "import matplotlib.pyplot as plt\n",
    "import seaborn as sns\n",
    "from sklearn.model_selection import train_test_split, cross_val_score, GridSearchCV\n",
    "from sklearn.ensemble import RandomForestRegressor, GradientBoostingRegressor, BaggingRegressor, StackingRegressor\n",
    "from sklearn.linear_model import Ridge, Lasso, BayesianRidge, ElasticNet\n",
    "\n",
    "sys.path.append('../src')\n",
    "import cb_utils\n",
    "\n",
    "sns.set(style=\"darkgrid\")\n",
    "pd.options.display.max_columns = 500\n",
    "\n",
    "%load_ext autoreload\n",
    "%autoreload 2"
   ]
  },
  {
   "cell_type": "code",
   "execution_count": null,
   "metadata": {},
   "outputs": [],
   "source": [
    "# from fastai.tabular import * "
   ]
  },
  {
   "cell_type": "code",
   "execution_count": null,
   "metadata": {
    "tags": []
   },
   "outputs": [],
   "source": [
    "# configuration\n",
    "lvl = '2. m'\n",
    "target_col = 'savings_tgt'\n",
    "use_cache = True\n",
    "seed = random.randint(0, 100)\n",
    "test_set_pct = 0.2\n",
    "print(f'Seed: {seed}')"
   ]
  },
  {
   "cell_type": "code",
   "execution_count": null,
   "metadata": {
    "tags": []
   },
   "outputs": [],
   "source": [
    "# Load data\n",
    "# 2018\n",
    "query = \"SELECT * FROM cb.vw_mab_training_data WHERE mab_id = 4;\"\n",
    "mab4 = cb_utils.sql_query_to_df(query, use_cache=use_cache)\n",
    "# mab4.fillna(0, inplace=True)\n",
    "\n",
    "# 2017\n",
    "query = \"SELECT * FROM cb.vw_mab_training_data WHERE mab_id = 3;\"\n",
    "mab3 = cb_utils.sql_query_to_df(query, use_cache=use_cache)\n",
    "# mab3.fillna(0, inplace=True)"
   ]
  },
  {
   "cell_type": "code",
   "execution_count": null,
   "metadata": {},
   "outputs": [],
   "source": [
    "mom_feature_columns = [\n",
    "#     'lob_at_id'\n",
    "#   , 'grp_at_id'\n",
    "    'lob_1_days'\n",
    "  , 'lob_2_days'\n",
    "  , 'lob_3_days'\n",
    "  , 'grp_1_days'\n",
    "  , 'grp_2_days'\n",
    "  , 'grp_3_days'\n",
    "  , 'grp_5_days'\n",
    "  , 'grp_6_days'\n",
    "  , 'grp_7_days'\n",
    "  , 'grp_8_days'\n",
    "  , 'unaligned_days'\n",
    "#   , 'is_unaligned'\n",
    "  , 'tc'\n",
    "  , 'hcbs_tc'\n",
    "  , 'icf_tc'\n",
    "  , 'ip_tc'\n",
    "  , 'rx_tc'\n",
    "  , 'ed_tc'\n",
    "  , 'snf_tc'\n",
    "  , 'out_tc'\n",
    "  , 'pro_tc'\n",
    "  , 'spfac_tc'\n",
    "  , 'amb_tc'\n",
    "  , 'hh_tc'\n",
    "  , 'hosp_tc'\n",
    "  , 'oth_tc'\n",
    "  , 'p_mm'\n",
    "  , 'mm'\n",
    "  , 'hcbs_respite_tc'\n",
    "  , 'hcbs_fam_care_stip_tc'\n",
    "  , 'hcbs_com_trans_tc'\n",
    "  , 'hcbs_educ_train_tc'\n",
    "  , 'hcbs_com_liv_fam_tc'\n",
    "  , 'hcbs_com_liv_tc'\n",
    "  , 'hcbs_attend_care_tc'\n",
    "  , 'hcbs_com_trans_waiv_tc'\n",
    "  , 'hcbs_home_meal_tc'\n",
    "  , 'hcbs_pers_care_tc'\n",
    "  , 'hcbs_ther_behav_tc'\n",
    "  , 'hcbs_unsk_respite_tc'\n",
    "  , 'hcbs_waiv_svc_tc'\n",
    "  , 'ddos'\n",
    "  , 'hcbs_ddos'\n",
    "  , 'icf_ddos'\n",
    "  , 'ip_ddos'\n",
    "  , 'rx_ddos'\n",
    "  , 'ed_ddos'\n",
    "  , 'snf_ddos'\n",
    "  , 'out_ddos'\n",
    "  , 'pro_ddos'\n",
    "  , 'spfac_ddos'\n",
    "  , 'amb_ddos'\n",
    "  , 'hh_ddos'\n",
    "  , 'hosp_ddos'\n",
    "  , 'oth_ddos'\n",
    "  , 'pcp_ddos'\n",
    "  , 'chf_ddos'\n",
    "  , 'heart_ddos'\n",
    "  , 'copd_ddos'\n",
    "  , 'pulmonar_ddos'\n",
    "  , 'cancer_ddos'\n",
    "  , 'ckd_ddos'\n",
    "  , 'esrd_ddos'\n",
    "  , 'hyperlipid_ddos'\n",
    "  , 'diab_ddos'\n",
    "  , 'alzh_ddos'\n",
    "  , 'dementia_ddos'\n",
    "  , 'stroke_ddos'\n",
    "  , 'hypertension_ddos'\n",
    "  , 'fall_ddos'\n",
    "  , 'transplant_ddos'\n",
    "  , 'liver_ddos'\n",
    "  , 'hippfract_ddos'\n",
    "  , 'depression_ddos'\n",
    "  , 'psychosis_ddos'\n",
    "  , 'drug_ddos'\n",
    "  , 'alcohol_ddos'\n",
    "  , 'paralysis_ddos'\n",
    "]\n",
    "annual_feature_columns = [\n",
    "#   , 'lvl_ft'\n",
    "#   , 'is_unaligned_ft'\n",
    "    'unaligned_mm_ft'\n",
    "  , 'is_self_directed_ft'\n",
    "  , 'is_cat0_ft'\n",
    "  , 'is_cat1_ft'\n",
    "  , 'is_cat2_ft'\n",
    "  , 'is_cat3_ft'\n",
    "  , 'is_cat4_ft'\n",
    "  , 'is_lob1_ft'\n",
    "  , 'is_lob2_ft'\n",
    "  , 'is_lob3_ft'\n",
    "  , 'is_grp1_ft'\n",
    "  , 'is_grp2_ft'\n",
    "  , 'is_grp3_ft'\n",
    "  , 'is_grp45678_ft'\n",
    "  , 'sav_pct_ft'\n",
    "  , 'raf_sav_pct_ft'\n",
    "  , 'ds_sav_pct_ft'\n",
    "  , 'ip_sav_pct_ft'\n",
    "  , 'snf_sav_pct_ft'\n",
    "  , 'icf_sav_pct_ft'\n",
    "  , 'ed_sav_pct_ft'\n",
    "  , 'hh_sav_pct_ft'\n",
    "  , 'pro_sav_pct_ft'\n",
    "  , 'out_sav_pct_ft'\n",
    "  , 'savings_ft'\n",
    "  , 'raf_savings_ft'\n",
    "  , 'ds_savings_ft'\n",
    "  , 'ip_savings_ft'\n",
    "  , 'snf_savings_ft'\n",
    "  , 'icf_savings_ft'\n",
    "  , 'ed_savings_ft'\n",
    "  , 'hh_savings_ft'\n",
    "  , 'pro_savings_ft'\n",
    "  , 'out_savings_ft'\n",
    "  , 'tc_ft'\n",
    "  , 'hcbs_atd_pcs_tc_ft'\n",
    "  , 'ip_tc_ft'\n",
    "  , 'snf_tc_ft'\n",
    "  , 'icf_tc_ft'\n",
    "  , 'ed_tc_ft'\n",
    "  , 'hh_tc_ft'\n",
    "  , 'pro_tc_ft'\n",
    "  , 'out_tc_ft'\n",
    "  , 'savings_pmpm_ft'\n",
    "  , 'raf_sav_pmpm_ft'\n",
    "  , 'ds_sav_pmpm_ft'\n",
    "  , 'ip_sav_pmpm_ft'\n",
    "  , 'snf_sav_pmpm_ft'\n",
    "  , 'icf_sav_pmpm_ft'\n",
    "  , 'ed_sav_pmpm_ft'\n",
    "  , 'hh_sav_pmpm_ft'\n",
    "  , 'pro_sav_pmpm_ft'\n",
    "  , 'out_sav_pmpm_ft'\n",
    "  , 'tc_pmpm_ft'\n",
    "  , 'hcbs_attd_pmpm_ft'\n",
    "  , 'ip_pmpm_ft'\n",
    "  , 'snf_pmpm_ft'\n",
    "  , 'icf_pmpm_ft'\n",
    "  , 'ed_pmpm_ft'\n",
    "  , 'hh_pmpm_ft'\n",
    "  , 'pro_pmpm_ft'\n",
    "  , 'out_pmpm_ft'\n",
    "  , 'mm_ft'\n",
    "  , 'age'\n",
    "  , 'is_male'\n",
    "\n",
    "]\n",
    "target_col = 'savings_tgt'\n",
    "lvl = '2. m'\n",
    "\n",
    "feature_columns = mom_feature_columns + annual_feature_columns\n",
    "print(f'N Potential Features: {len(feature_columns)}')"
   ]
  },
  {
   "cell_type": "code",
   "execution_count": null,
   "metadata": {},
   "outputs": [],
   "source": [
    "df = mab4.loc[mab4.lvl_tgt == lvl]\n",
    "\n",
    "targets_df = df[['member_id', target_col]].groupby('member_id').first()\n",
    "\n",
    "features_df = cb_utils.features_annual(df, mom_feature_columns)\n",
    "pre_annual = df.query(\"period < 0\")[annual_feature_columns + ['member_id']].groupby('member_id').first()\n",
    "\n",
    "features_df = features_df.merge(pre_annual, left_index=True, right_index=True)\n",
    "\n",
    "# order features and targets by member id, make sure they line up perfectly\n",
    "features_df.sort_index(inplace=True)\n",
    "targets_df.sort_index(inplace=True)\n",
    "assert sum(targets_df.index - features_df.index) == 0\n",
    "\n",
    "X_train, X_test, y_train, y_test = train_test_split(features_df, targets_df[target_col], test_size=test_set_pct, random_state=seed)\n",
    "df = features_df.merge(targets_df, left_index=True, right_index=True)\n",
    "\n",
    "df = df.assign(cat=0, grp=1, lob=1)\n",
    "df.loc[df.is_cat1_ft == 1, 'cat'] = 1\n",
    "df.loc[df.is_cat2_ft == 1, 'cat'] = 2\n",
    "df.loc[df.is_cat3_ft == 1, 'cat'] = 3\n",
    "df.loc[df.is_cat4_ft == 1, 'cat'] = 4\n",
    "\n",
    "df.loc[df.is_grp2_ft == 1, 'grp'] = 2\n",
    "df.loc[df.is_grp3_ft == 1, 'grp'] = 3\n",
    "df.loc[df.is_grp45678_ft == 1, 'grp'] = 4\n",
    "\n",
    "df.loc[df.is_lob2_ft == 1, 'lob'] = 2\n",
    "df.loc[df.is_lob3_ft == 1, 'lob'] = 3\n",
    "\n",
    "df.head()"
   ]
  },
  {
   "cell_type": "code",
   "execution_count": null,
   "metadata": {},
   "outputs": [],
   "source": [
    "procs = [FillMissing, Categorify, Normalize]"
   ]
  },
  {
   "cell_type": "code",
   "execution_count": null,
   "metadata": {},
   "outputs": [],
   "source": [
    "valid_idx = []\n",
    "for i, x in enumerate(df.itertuples()):\n",
    "    if x.Index in X_test.index:\n",
    "        valid_idx.append(i)"
   ]
  },
  {
   "cell_type": "code",
   "execution_count": null,
   "metadata": {},
   "outputs": [],
   "source": [
    "dep_var = target_col\n",
    "cat_names = [  \n",
    "    'is_self_directed_ft'\n",
    "  , 'cat'\n",
    "  , 'grp'\n",
    "  , 'lob'\n",
    "  , 'is_male'\n",
    "]\n",
    "cont_names = [\n",
    "    'age',\n",
    "    'tc',\n",
    "    'hcbs_tc',\n",
    "    'ip_tc',\n",
    "    'savings_pmpm_ft',\n",
    "    'raf_savings_ft',\n",
    "    'ds_savings_ft',\n",
    "    'ip_savings_ft',\n",
    "    'p_mm',\n",
    "    'ddos'\n",
    "]"
   ]
  },
  {
   "cell_type": "code",
   "execution_count": null,
   "metadata": {},
   "outputs": [],
   "source": [
    "data = TabularDataBunch.from_df('test_bunch_path', df, dep_var, valid_idx=valid_idx, procs=procs, cat_names=cat_names, cont_names=cont_names,num_workers=os.cpu_count())\n",
    "print(data.train_ds.cat_names)\n",
    "print(data.train_ds.cont_names)"
   ]
  },
  {
   "cell_type": "code",
   "execution_count": null,
   "metadata": {},
   "outputs": [],
   "source": [
    "(cat_x,cont_x),y = next(iter(data.train_dl))\n",
    "for o in (cat_x, cont_x, y): print(to_np(o[:5]))"
   ]
  },
  {
   "cell_type": "code",
   "execution_count": null,
   "metadata": {},
   "outputs": [],
   "source": [
    "# learn = tabular_learner(data, layers=[20,10], emb_szs={'grp': 5, 'cat': 5}, metrics=accuracy)\n",
    "learn = tabular_learner(data, layers=[32,16], metrics=[root_mean_squared_error, r2_score])\n",
    "learn.lr_find()"
   ]
  },
  {
   "cell_type": "code",
   "execution_count": null,
   "metadata": {},
   "outputs": [],
   "source": [
    "learn.recorder.plot()"
   ]
  },
  {
   "cell_type": "code",
   "execution_count": null,
   "metadata": {},
   "outputs": [],
   "source": [
    "# learn.fit(100, 1e-2)\n",
    "learn.fit_one_cycle(10, 1e-1)"
   ]
  },
  {
   "cell_type": "code",
   "execution_count": null,
   "metadata": {},
   "outputs": [],
   "source": [
    "learn.recorder.plot_losses()"
   ]
  },
  {
   "cell_type": "code",
   "execution_count": null,
   "metadata": {},
   "outputs": [],
   "source": [
    "learn.recorder.plot_metrics()"
   ]
  },
  {
   "cell_type": "code",
   "execution_count": null,
   "metadata": {},
   "outputs": [],
   "source": []
  },
  {
   "cell_type": "markdown",
   "metadata": {},
   "source": [
    "# Doesn't make any sense that it does so poorly, investigate\n",
    "First up, plot some corelations"
   ]
  },
  {
   "cell_type": "code",
   "execution_count": null,
   "metadata": {},
   "outputs": [],
   "source": [
    "y = \"savings_pmpm_tgt\"\n",
    "x = \"savings_pmpm_ft\""
   ]
  },
  {
   "cell_type": "code",
   "execution_count": null,
   "metadata": {},
   "outputs": [],
   "source": [
    "df = mab4.loc[mab4.lvl_tgt == lvl]\n",
    "# df = mab3.loc[mab3.lvl_tgt == lvl]\n",
    "target_col = y\n",
    "\n",
    "targets_df = df[['member_id', target_col]].groupby('member_id').first()\n",
    "\n",
    "features_df = cb_utils.features_annual(df, mom_feature_columns)\n",
    "pre_annual = df.query(\"period < 0\")[annual_feature_columns + ['member_id']].groupby('member_id').first()\n",
    "\n",
    "features_df = features_df.merge(pre_annual, left_index=True, right_index=True)\n",
    "\n",
    "# order features and targets by member id, make sure they line up perfectly\n",
    "features_df.sort_index(inplace=True)\n",
    "targets_df.sort_index(inplace=True)\n",
    "assert sum(targets_df.index - features_df.index) == 0\n",
    "\n",
    "# X_train, X_test, y_train, y_test = train_test_split(features_df, targets_df[target_col], test_size=test_set_pct, random_state=seed)\n",
    "# df = features_df.merge(targets_df, left_index=True, right_index=True)\n",
    "\n",
    "df = df.assign(cat=0, grp=1, lob=1)\n",
    "df.loc[df.is_cat1_ft == 1, 'cat'] = 1\n",
    "df.loc[df.is_cat2_ft == 1, 'cat'] = 2\n",
    "df.loc[df.is_cat3_ft == 1, 'cat'] = 3\n",
    "df.loc[df.is_cat4_ft == 1, 'cat'] = 4\n",
    "\n",
    "df.loc[df.is_grp2_ft == 1, 'grp'] = 2\n",
    "df.loc[df.is_grp3_ft == 1, 'grp'] = 3\n",
    "df.loc[df.is_grp45678_ft == 1, 'grp'] = 4\n",
    "\n",
    "df.loc[df.is_lob2_ft == 1, 'lob'] = 2\n",
    "df.loc[df.is_lob3_ft == 1, 'lob'] = 3\n",
    "df = df.fillna(0)\n",
    "# df =     df.sort_values('savings_ft', ascending=False).iloc[:850]"
   ]
  },
  {
   "cell_type": "code",
   "execution_count": null,
   "metadata": {},
   "outputs": [],
   "source": [
    "df.shape"
   ]
  },
  {
   "cell_type": "code",
   "execution_count": null,
   "metadata": {},
   "outputs": [],
   "source": [
    "\n",
    "g = sns.relplot(x=x, y=y, hue=\"cat\", col=\"lob\", row=\"grp\", data=df)"
   ]
  },
  {
   "cell_type": "code",
   "execution_count": null,
   "metadata": {},
   "outputs": [],
   "source": [
    "g = sns.relplot(x=x, y=y, hue=\"cat\", col=\"lob\", row=\"grp\", data=df)"
   ]
  },
  {
   "cell_type": "code",
   "execution_count": null,
   "metadata": {},
   "outputs": [],
   "source": [
    "g = sns.relplot(x=\"savings_ft\", y=\"savings_tgt\", hue=\"age\", col=\"cat\", row=\"grp\", data=df)"
   ]
  },
  {
   "cell_type": "code",
   "execution_count": null,
   "metadata": {},
   "outputs": [],
   "source": [
    "g = sns.relplot(x=\"savings_ft\", y=\"savings_tgt\", hue=\"ddos\", col=\"cat\", row=\"grp\", data=df)"
   ]
  },
  {
   "cell_type": "code",
   "execution_count": null,
   "metadata": {},
   "outputs": [],
   "source": [
    "# df = mab4.loc[mab4.lvl_tgt == lvl]\n",
    "df = mab3.loc[mab3.lvl_tgt == lvl]\n",
    "\n",
    "targets_df = df[['member_id', target_col]].groupby('member_id').first()\n",
    "\n",
    "features_df = cb_utils.features_annual(df, mom_feature_columns)\n",
    "pre_annual = df.query(\"period < 0\")[annual_feature_columns + ['member_id']].groupby('member_id').first()\n",
    "\n",
    "features_df = features_df.merge(pre_annual, left_index=True, right_index=True)\n",
    "\n",
    "# order features and targets by member id, make sure they line up perfectly\n",
    "features_df.sort_index(inplace=True)\n",
    "targets_df.sort_index(inplace=True)\n",
    "assert sum(targets_df.index - features_df.index) == 0\n",
    "\n",
    "X_train, X_test, y_train, y_test = train_test_split(features_df, targets_df[target_col], test_size=test_set_pct, random_state=seed)\n",
    "df = features_df.merge(targets_df, left_index=True, right_index=True)\n",
    "\n",
    "df = df.assign(cat=0, grp=1, lob=1)\n",
    "df.loc[df.is_cat1_ft == 1, 'cat'] = 1\n",
    "df.loc[df.is_cat2_ft == 1, 'cat'] = 2\n",
    "df.loc[df.is_cat3_ft == 1, 'cat'] = 3\n",
    "df.loc[df.is_cat4_ft == 1, 'cat'] = 4\n",
    "\n",
    "df.loc[df.is_grp2_ft == 1, 'grp'] = 2\n",
    "df.loc[df.is_grp3_ft == 1, 'grp'] = 3\n",
    "df.loc[df.is_grp45678_ft == 1, 'grp'] = 4\n",
    "\n",
    "df.loc[df.is_lob2_ft == 1, 'lob'] = 2\n",
    "df.loc[df.is_lob3_ft == 1, 'lob'] = 3\n",
    "df = df.fillna(0)"
   ]
  },
  {
   "cell_type": "code",
   "execution_count": null,
   "metadata": {},
   "outputs": [],
   "source": [
    "g = sns.relplot(x=x, y=y, hue=\"cat\", col=\"lob\", row=\"grp\", data=df)"
   ]
  },
  {
   "cell_type": "markdown",
   "metadata": {},
   "source": [
    "# check feature importance permeations"
   ]
  },
  {
   "cell_type": "code",
   "execution_count": null,
   "metadata": {},
   "outputs": [],
   "source": [
    "## see how diff features affect perf\n",
    "hot_cat_names = ['is_self_directed_ft','is_cat0_ft','is_cat1_ft','is_cat2_ft','is_cat3_ft','is_cat4_ft','is_lob1_ft','is_lob2_ft','is_lob3_ft','is_grp1_ft','is_grp2_ft','is_grp3_ft','is_grp45678_ft']\n",
    "df = df.fillna(0)\n",
    "df[hot_cat_names] = df[hot_cat_names].astype(int)\n",
    "df[cont_names + hot_cat_names ].head()\n",
    "\n",
    "# features = ['age','savings_ft', 'tc_ft', 'ddos']\n",
    "# features = cont_names + hot_cat_names\n",
    "features = [c for c in df.columns if 'tgt' not in c]\n",
    "# model = Lasso(alpha=1.0)\n",
    "model = Ridge(alpha=1.0)\n",
    "model.fit(df[features], df[target_col])\n",
    "\n",
    "model.score(df[features], df[target_col])"
   ]
  },
  {
   "cell_type": "code",
   "execution_count": null,
   "metadata": {},
   "outputs": [],
   "source": [
    "df = mab4.loc[mab4.lvl_tgt == lvl]\n",
    "df = df.fillna(0)\n",
    "\n",
    "targets_df = df[['member_id', target_col]].groupby('member_id').first()\n",
    "\n",
    "features_df = cb_utils.features_annual(df, mom_feature_columns)\n",
    "pre_annual = df.query(\"period < 0\")[annual_feature_columns + ['member_id']].groupby('member_id').first()\n",
    "\n",
    "features_df = features_df.merge(pre_annual, left_index=True, right_index=True)\n",
    "\n",
    "# order features and targets by member id, make sure they line up perfectly\n",
    "features_df.sort_index(inplace=True)\n",
    "targets_df.sort_index(inplace=True)\n",
    "assert sum(targets_df.index - features_df.index) == 0\n",
    "\n",
    "X_train, X_test, y_train, y_test = train_test_split(features_df, targets_df[target_col], test_size=test_set_pct, random_state=seed)"
   ]
  },
  {
   "cell_type": "code",
   "execution_count": null,
   "metadata": {},
   "outputs": [],
   "source": [
    "# model = Lasso(alpha=1.)\n",
    "model = BayesianRidge()\n",
    "model.fit(X_train, y_train)\n",
    "model.score(X_test, y_test)"
   ]
  },
  {
   "cell_type": "code",
   "execution_count": null,
   "metadata": {},
   "outputs": [],
   "source": [
    "from sklearn.inspection import permutation_importance\n",
    "\n",
    "r = permutation_importance(model, X_test, y_test, n_repeats=30, random_state=0)\n",
    "feats = []\n",
    "\n",
    "for i in r.importances_mean.argsort()[::-1]:\n",
    "    if r.importances_mean[i] - 2 * r.importances_std[i] > 0:\n",
    "        print(f\"{X_train.columns[i]:<8} {r.importances_mean[i]:.3f} +/- {r.importances_std[i]:.3f}\")\n",
    "        feats.append(X_train.columns[i])"
   ]
  },
  {
   "cell_type": "code",
   "execution_count": null,
   "metadata": {},
   "outputs": [],
   "source": [
    "best_feats = [\n",
    " 'savings_ft',\n",
    " 'ip_tc_ft',\n",
    " 'hh_tc_ft',\n",
    " 'hcbs_atd_pcs_tc_ft',\n",
    " 'pro_tc_ft',\n",
    " 'snf_tc_ft',\n",
    " 'ds_savings_ft',\n",
    " 'rx_tc'\n",
    "]"
   ]
  },
  {
   "cell_type": "markdown",
   "metadata": {},
   "source": [
    "### Try on 2017"
   ]
  },
  {
   "cell_type": "code",
   "execution_count": null,
   "metadata": {},
   "outputs": [],
   "source": [
    "df = mab3.loc[mab3.lvl_tgt == lvl]\n",
    "df = df.fillna(0)\n",
    "\n",
    "targets_df = df[['member_id', target_col]].groupby('member_id').first()\n",
    "\n",
    "features_df = cb_utils.features_annual(df, mom_feature_columns)\n",
    "pre_annual = df.query(\"period < 0\")[annual_feature_columns + ['member_id']].groupby('member_id').first()\n",
    "\n",
    "features_df = features_df.merge(pre_annual, left_index=True, right_index=True)\n",
    "\n",
    "# order features and targets by member id, make sure they line up perfectly\n",
    "features_df.sort_index(inplace=True)\n",
    "targets_df.sort_index(inplace=True)\n",
    "assert sum(targets_df.index - features_df.index) == 0\n",
    "\n",
    "model.score(features_df, targets_df[target_col])\n",
    "# X_train, X_test, y_train, y_test = train_test_split(features_df, targets_df[target_col], test_size=test_set_pct, random_state=seed)"
   ]
  },
  {
   "cell_type": "code",
   "execution_count": null,
   "metadata": {},
   "outputs": [],
   "source": [
    "from sklearn.inspection import permutation_importance\n",
    "\n",
    "r = permutation_importance(model, features_df, targets_df[target_col], n_repeats=30, random_state=0)\n",
    "feats = []\n",
    "\n",
    "for i in r.importances_mean.argsort()[::-1]:\n",
    "    if r.importances_mean[i] - 2 * r.importances_std[i] > 0:\n",
    "        print(f\"{X_train.columns[i]:<8} {r.importances_mean[i]:.3f} +/- {r.importances_std[i]:.3f}\")\n",
    "        feats.append(X_train.columns[i])"
   ]
  },
  {
   "cell_type": "markdown",
   "metadata": {},
   "source": [
    "# Double check that rules are really winning"
   ]
  },
  {
   "cell_type": "code",
   "execution_count": null,
   "metadata": {},
   "outputs": [],
   "source": []
  },
  {
   "cell_type": "code",
   "execution_count": null,
   "metadata": {},
   "outputs": [],
   "source": []
  },
  {
   "cell_type": "code",
   "execution_count": null,
   "metadata": {},
   "outputs": [],
   "source": []
  },
  {
   "cell_type": "code",
   "execution_count": null,
   "metadata": {},
   "outputs": [],
   "source": []
  },
  {
   "cell_type": "code",
   "execution_count": null,
   "metadata": {},
   "outputs": [],
   "source": [
    "raise Exception(\"STOP\")"
   ]
  }
 ],
 "metadata": {
  "kernelspec": {
   "display_name": "Python 3",
   "language": "python",
   "name": "python3"
  },
  "language_info": {
   "codemirror_mode": {
    "name": "ipython",
    "version": 3
   },
   "file_extension": ".py",
   "mimetype": "text/x-python",
   "name": "python",
   "nbconvert_exporter": "python",
   "pygments_lexer": "ipython3",
   "version": "3.8.5"
  }
 },
 "nbformat": 4,
 "nbformat_minor": 4
}
