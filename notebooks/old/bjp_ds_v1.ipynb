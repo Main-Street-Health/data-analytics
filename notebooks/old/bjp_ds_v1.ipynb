{
 "cells": [
  {
   "cell_type": "code",
   "execution_count": null,
   "metadata": {},
   "outputs": [],
   "source": [
    "import os\n",
    "import sys\n",
    "import time\n",
    "import random\n",
    "import collections\n",
    "import numpy as np\n",
    "import pandas as pd\n",
    "import matplotlib.pyplot as plt\n",
    "import seaborn as sns\n",
    "from sklearn.model_selection import train_test_split, cross_val_score, GridSearchCV\n",
    "from sklearn.ensemble import RandomForestRegressor, GradientBoostingRegressor, BaggingRegressor, StackingRegressor\n",
    "from sklearn.linear_model import Ridge, Lasso, BayesianRidge, ElasticNet\n",
    "\n",
    "sys.path.append('../src')\n",
    "import cb_utils\n",
    "\n",
    "sns.set(style=\"darkgrid\")\n",
    "pd.options.display.max_columns = 500\n",
    "\n",
    "%load_ext autoreload\n",
    "%autoreload 2"
   ]
  },
  {
   "cell_type": "code",
   "execution_count": null,
   "metadata": {},
   "outputs": [],
   "source": [
    "# configuration\n",
    "use_cache = True\n",
    "seed = random.randint(0, 100)\n",
    "test_set_pct = 0.2\n",
    "print(f'Seed: {seed}')"
   ]
  },
  {
   "cell_type": "code",
   "execution_count": null,
   "metadata": {},
   "outputs": [],
   "source": [
    "# Load data\n",
    "# 2019\n",
    "query = \"SELECT * FROM cb.vwm_elig_claims_visits_auths_mm vec ORDER BY member_id, bom\"\n",
    "visits = cb_utils.sql_query_to_df(query, use_cache=use_cache)\n",
    "visits.fillna(0, inplace=True)"
   ]
  },
  {
   "cell_type": "code",
   "execution_count": null,
   "metadata": {},
   "outputs": [],
   "source": [
    "visits.shape"
   ]
  },
  {
   "cell_type": "code",
   "execution_count": null,
   "metadata": {},
   "outputs": [],
   "source": [
    "visits.member_id.nunique()"
   ]
  },
  {
   "cell_type": "code",
   "execution_count": null,
   "metadata": {},
   "outputs": [],
   "source": [
    "visits.describe()"
   ]
  },
  {
   "cell_type": "code",
   "execution_count": null,
   "metadata": {},
   "outputs": [],
   "source": [
    "visits.head()"
   ]
  },
  {
   "cell_type": "code",
   "execution_count": null,
   "metadata": {},
   "outputs": [],
   "source": [
    "cols = ['bom', 'attd_pcs_appropriate_hrs', 'visit_hrs', 'has_facility_ddos']\n",
    "mom_appropriate_hours = visits[cols].groupby('bom', as_index=False).mean()\n",
    "sns.relplot(x='bom', y='attd_pcs_appropriate_hrs', hue='has_facility_ddos', size='has_facility_ddos', data=mom_appropriate_hours, height=4, aspect=3)"
   ]
  },
  {
   "cell_type": "code",
   "execution_count": null,
   "metadata": {},
   "outputs": [],
   "source": [
    "sns.relplot(x='bom', y='visit_hrs', data=mom_appropriate_hours, height=4, aspect=3)"
   ]
  },
  {
   "cell_type": "code",
   "execution_count": null,
   "metadata": {},
   "outputs": [],
   "source": [
    "mom_appropriate_hours = visits[cols].groupby('bom', as_index=False).mean()\n",
    "melted = mom_appropriate_hours[['bom', 'visit_hrs', 'attd_pcs_appropriate_hrs']].melt(id_vars=['bom'], var_name='hrs_type', value_name='hrs_val')\n",
    "g = sns.relplot(x='bom', y='hrs_val',  hue='hrs_type', data=melted, height=5, aspect=3)"
   ]
  },
  {
   "cell_type": "code",
   "execution_count": null,
   "metadata": {},
   "outputs": [],
   "source": [
    "mom_appropriate_hours"
   ]
  },
  {
   "cell_type": "code",
   "execution_count": null,
   "metadata": {},
   "outputs": [],
   "source": [
    "## good dates 2017-07-01 to  2020-03-01\n",
    "start_date = pd.to_datetime('2018-01-01')\n",
    "id_date = pd.to_datetime('2019-01-01')\n",
    "end_date = pd.to_datetime('2019-12-31')\n",
    "mco_id = 2\n",
    "good_visits = visits.loc[(start_date <= visits.bom) & (end_date >= visits.bom) & (visits.mco_id == mco_id)]"
   ]
  },
  {
   "cell_type": "code",
   "execution_count": null,
   "metadata": {},
   "outputs": [],
   "source": [
    "good_visits.member_id.nunique()"
   ]
  },
  {
   "cell_type": "code",
   "execution_count": null,
   "metadata": {},
   "outputs": [],
   "source": [
    "visits_all_pre_post = good_visits.groupby('member_id', as_index=False).filter(lambda x: x.shape[0] == 24)\n",
    "visits_all_pre_post.member_id.nunique()"
   ]
  },
  {
   "cell_type": "code",
   "execution_count": null,
   "metadata": {},
   "outputs": [],
   "source": [
    "pre = visits_all_pre_post.loc[visits_all_pre_post.bom < id_date] #.groupby('member_id', as_index=False).sum()\n",
    "post = visits_all_pre_post.loc[visits_all_pre_post.bom >= id_date] #.groupby('member_id', as_index=False).sum() "
   ]
  },
  {
   "cell_type": "code",
   "execution_count": null,
   "metadata": {},
   "outputs": [],
   "source": [
    "post.head()"
   ]
  },
  {
   "cell_type": "code",
   "execution_count": null,
   "metadata": {},
   "outputs": [],
   "source": [
    "yearly_feats = [\n",
    " 'lob',\n",
    " 'ggroup',\n",
    " 'is_aligned',\n",
    " 'is_unaligned',\n",
    " 'has_facility_ddos',\n",
    " 'auth_attd_pcs_util_pct',\n",
    "'auth_resp_util_pct',\n",
    "]\n",
    "sum_feats = [\n",
    "'attd_pcs_hrs',\n",
    " 'auths_n',\n",
    " 'auth_attd_n',\n",
    " 'auth_meal_n',\n",
    " 'auth_pc_n',\n",
    " 'auth_resp_n',\n",
    " 'auth_units',\n",
    " 'auth_hrs',\n",
    " 'auth_attd_pcs_hrs',\n",
    " 'auth_attd_hrs',\n",
    " 'auth_meal_hrs',\n",
    " 'auth_pcs_hrs',\n",
    " 'auth_resp_hrs',\n",
    " 'visit_hrs',\n",
    " 'attd_pcs_visit_hrs',\n",
    " 'attd_visit_hrs',\n",
    " 'pcs_visit_hrs',\n",
    " 'resp_visit_hrs',\n",
    " 'night_visit_hrs',\n",
    " 'attd_pcs_night_visit_hrs',\n",
    " 'attd_night_visit_hrs',\n",
    " 'pcs_night_visit_hrs',\n",
    " 'resp_night_visit_hrs',\n",
    " 'visit_n',\n",
    " 'attd_pcs_visit_n',\n",
    " 'attd_visit_n',\n",
    " 'pcs_visit_n',\n",
    " 'resp_visit_n',\n",
    " 'meal_visit_n',\n",
    " 'night_visit_n',\n",
    " 'attd_pcs_night_visit_n',\n",
    " 'attd_night_visit_n',\n",
    " 'pcs_night_visit_n',\n",
    " 'resp_night_visit_n',\n",
    " 'meal_night_visit_n',\n",
    " 'avg_visit_hrs',\n",
    " 'avg_night_visit_hrs',\n",
    " 'attd_avg_night_visit_hrs',\n",
    " 'pcs_avg_night_visit_hrs',\n",
    " 'resp_avg_night_visit_hrs',\n",
    " 'cg_visit_nd',\n",
    " 'attd_pcs_cg_visit_nd',\n",
    " 'attd_cg_visit_nd',\n",
    " 'pcs_cg_visit_nd',\n",
    " 'meal_cg_visit_nd',\n",
    " 'resp_cg_visit_nd',\n",
    " 'missed_n',\n",
    " 'attd_pcs_missed_n',\n",
    " 'attd_missed_n',\n",
    " 'pcs_missed_n',\n",
    " 'meal_missed_n',\n",
    " 'missed_hrs',\n",
    " 'attd_pcs_missed_hrs',\n",
    " 'attd_missed_hrs',\n",
    " 'pcs_missed_hrs',\n",
    " 'meal_missed_hrs',\n",
    " 'memb_init_missed_n',\n",
    " 'attd_pcs_memb_init_missed_n',\n",
    " 'attd_memb_init_missed_n',\n",
    " 'pcs_memb_init_missed_n',\n",
    " 'meal_memb_init_missed_n',\n",
    " 'memb_init_missed_hrs',\n",
    " 'attd_pcs_memb_init_missed_hrs',\n",
    " 'attd_memb_init_missed_hrs',\n",
    " 'pcs_memb_init_missed_hrs',\n",
    " 'prov_init_missed_n',\n",
    " 'attd_pcs_prov_init_missed_n',\n",
    " 'attd_prov_init_missed_n',\n",
    " 'pcs_prov_init_missed_n',\n",
    " 'prov_init_missed_hrs',\n",
    " 'attd_pcs_prov_init_missed_hrs',\n",
    " 'attd_prov_init_missed_hrs',\n",
    " 'pcs_prov_init_missed_hrs',\n",
    " 'night_missed_hrs',\n",
    " 'attd_pcs_night_missed_hrs',\n",
    " 'attd_night_missed_hrs',\n",
    " 'pcs_night_missed_hrs',\n",
    " 'night_missed_n',\n",
    " 'attd_pcs_night_missed_n',\n",
    " 'attd_night_missed_n',\n",
    " 'pcs_night_missed_n',\n",
    " 'meal_night_missed_n',\n",
    " 'attd_pcs_appropriate_hrs',\n",
    " 'tc',\n",
    " 'hcbs_tc',\n",
    " 'icf_tc',\n",
    " 'ip_tc',\n",
    " 'rx_tc',\n",
    " 'ed_tc',\n",
    " 'snf_tc',\n",
    " 'out_tc',\n",
    " 'pro_tc',\n",
    " 'spfac_tc',\n",
    " 'amb_tc',\n",
    " 'hh_tc',\n",
    " 'hosp_tc',\n",
    " 'oth_tc',\n",
    " 'hcbs_respite_tc',\n",
    " 'hcbs_fam_care_stip_tc',\n",
    " 'hcbs_com_trans_tc',\n",
    " 'hcbs_educ_train_tc',\n",
    " 'hcbs_com_liv_fam_tc',\n",
    " 'hcbs_com_liv_tc',\n",
    " 'hcbs_attend_care_tc',\n",
    " 'hcbs_com_trans_waiv_tc',\n",
    " 'hcbs_home_meal_tc',\n",
    " 'hcbs_pers_care_tc',\n",
    " 'hcbs_ther_behav_tc',\n",
    " 'hcbs_unsk_respite_tc',\n",
    " 'hcbs_waiv_svc_tc',\n",
    " 'ddos',\n",
    " 'hcbs_ddos',\n",
    " 'icf_ddos',\n",
    " 'ip_ddos',\n",
    " 'rx_ddos',\n",
    " 'ed_ddos',\n",
    " 'snf_ddos',\n",
    " 'out_ddos',\n",
    " 'pro_ddos',\n",
    " 'spfac_ddos',\n",
    " 'amb_ddos',\n",
    " 'hh_ddos',\n",
    " 'hosp_ddos',\n",
    " 'oth_ddos',\n",
    " 'pcp_ddos',\n",
    " 'pulmonar_ddos',\n",
    " 'copd_ddos',\n",
    " 'chf_ddos',\n",
    " 'heart_ddos',\n",
    " 'cancer_ddos',\n",
    " 'ckd_ddos',\n",
    " 'esrd_ddos',\n",
    " 'hyperlipid_ddos',\n",
    " 'diab_ddos',\n",
    " 'alzh_ddos',\n",
    " 'dementia_ddos',\n",
    " 'stroke_ddos',\n",
    " 'hypertension_ddos',\n",
    " 'fall_ddos',\n",
    " 'transplant_ddos',\n",
    " 'liver_ddos',\n",
    " 'hippfract_ddos',\n",
    " 'depression_ddos',\n",
    " 'psychosis_ddos',\n",
    " 'drug_ddos',\n",
    " 'alcohol_ddos',\n",
    " 'paralysis_ddos'\n",
    "]\n"
   ]
  },
  {
   "cell_type": "code",
   "execution_count": null,
   "metadata": {},
   "outputs": [],
   "source": [
    "pre_year = pre.groupby('member_id').mean()\n",
    "pre_year.ggroup =  pre_year.ggroup.astype(int)\n",
    "pre_year.lob =  pre_year.lob.astype(int)\n",
    "pre_year = pre_year.sort_index()\n",
    "pre_year"
   ]
  },
  {
   "cell_type": "code",
   "execution_count": null,
   "metadata": {},
   "outputs": [],
   "source": [
    "target = post.groupby('member_id')[['attd_pcs_appropriate_hrs', 'visit_hrs']].sum()\n",
    "target = target.sort_index()\n",
    "target"
   ]
  },
  {
   "cell_type": "code",
   "execution_count": null,
   "metadata": {},
   "outputs": [],
   "source": [
    "df = pre_year.merge(target, left_index=True, right_index=True)"
   ]
  },
  {
   "cell_type": "code",
   "execution_count": null,
   "metadata": {},
   "outputs": [],
   "source": [
    "df.head()"
   ]
  },
  {
   "cell_type": "code",
   "execution_count": null,
   "metadata": {},
   "outputs": [],
   "source": [
    "df.ggroup.value_counts()"
   ]
  },
  {
   "cell_type": "code",
   "execution_count": null,
   "metadata": {},
   "outputs": [],
   "source": [
    "# g = sns.relplot(x='attd_pcs_appropriate_hrs_x', y='attd_pcs_appropriate_hrs_y', row='ggroup', col='lob', hue='auth_attd_pcs_util_pct', data=df)\n",
    "df = df.loc[(df.ggroup < 4) & (df.ggroup > 0)]"
   ]
  },
  {
   "cell_type": "code",
   "execution_count": null,
   "metadata": {},
   "outputs": [],
   "source": [
    "g = sns.relplot(x='visit_hrs_x', y='visit_hrs_y', row='ggroup', col='lob', hue='auth_attd_pcs_util_pct', data=df)"
   ]
  },
  {
   "cell_type": "code",
   "execution_count": null,
   "metadata": {},
   "outputs": [],
   "source": [
    "g = sns.relplot(x='attd_pcs_appropriate_hrs_x', y='attd_pcs_appropriate_hrs_y', row='ggroup', col='lob', hue='auth_attd_pcs_util_pct', data=df)"
   ]
  },
  {
   "cell_type": "markdown",
   "metadata": {},
   "source": [
    "# Train lasso model"
   ]
  },
  {
   "cell_type": "code",
   "execution_count": null,
   "metadata": {},
   "outputs": [],
   "source": [
    "seed = random.randint(0, 1000)\n",
    "features = [c for c in df if c != 'attd_pcs_appropriate_hrs_y']\n",
    "# model = Lasso(alpha=1.0, random_state=seed,max_iter=10000, normalize=True)\n",
    "model = Lasso(alpha=.85, random_state=seed,max_iter=10000, normalize=True)\n",
    "\n",
    "X_train, X_test, y_train, y_test = train_test_split(df[features], df.attd_pcs_appropriate_hrs_y)\n",
    "model.fit(X_train, y_train)"
   ]
  },
  {
   "cell_type": "code",
   "execution_count": null,
   "metadata": {},
   "outputs": [],
   "source": [
    "for c, f in sorted(zip(model.coef_, features), reverse=True):\n",
    "    if c != 0:\n",
    "        print(f, c)"
   ]
  },
  {
   "cell_type": "code",
   "execution_count": null,
   "metadata": {},
   "outputs": [],
   "source": [
    "model.score(X_test, y_test)"
   ]
  },
  {
   "cell_type": "markdown",
   "metadata": {},
   "source": [
    "# Try some other model types"
   ]
  },
  {
   "cell_type": "code",
   "execution_count": null,
   "metadata": {},
   "outputs": [],
   "source": [
    "rf = RandomForestRegressor(random_state=seed)\n",
    "rf.fit(X_train, y_train)\n",
    "rf.score(X_test, y_test)"
   ]
  },
  {
   "cell_type": "code",
   "execution_count": null,
   "metadata": {},
   "outputs": [],
   "source": [
    "gb = GradientBoostingRegressor(random_state=seed)\n",
    "gb.fit(X_train, y_train)\n",
    "gb.score(X_test, y_test)"
   ]
  },
  {
   "cell_type": "markdown",
   "metadata": {},
   "source": [
    "# Train 1000 lasso's, find the best features"
   ]
  },
  {
   "cell_type": "code",
   "execution_count": null,
   "metadata": {},
   "outputs": [],
   "source": [
    "cnt = collections.Counter()\n",
    "scores = []"
   ]
  },
  {
   "cell_type": "code",
   "execution_count": null,
   "metadata": {},
   "outputs": [],
   "source": [
    "for i in range(1000):\n",
    "    seed = random.randint(0, 1000)\n",
    "    alpha = max(random.random(), 0.5)\n",
    "    model = Lasso(alpha=alpha, random_state=seed,max_iter=10000, normalize=True)\n",
    "\n",
    "    X_train, X_test, y_train, y_test = train_test_split(df[features], df.attd_pcs_appropriate_hrs_y)\n",
    "    model.fit(X_train, y_train)\n",
    "    scores.append(model.score(X_test, y_test))\n",
    "\n",
    "    for c, f in sorted(zip(model.coef_, features), reverse=True):\n",
    "        if c != 0:\n",
    "            cnt[f] += 1\n"
   ]
  },
  {
   "cell_type": "code",
   "execution_count": null,
   "metadata": {},
   "outputs": [],
   "source": [
    "np.mean(scores)"
   ]
  },
  {
   "cell_type": "code",
   "execution_count": null,
   "metadata": {},
   "outputs": [],
   "source": [
    "cnt.most_common(50)"
   ]
  },
  {
   "cell_type": "code",
   "execution_count": null,
   "metadata": {},
   "outputs": [],
   "source": [
    "old = collections.Counter({'icf_ddos': 61,\n",
    "         'resp_cg_visit_nd': 283,\n",
    "         'auth_attd_pcs_util_pct': 960,\n",
    "         'avg_visit_hrs': 889,\n",
    "         'attd_pcs_cg_visit_nd': 950,\n",
    "         'attd_pcs_appropriate_hrs_x': 1000,\n",
    "         'attd_pcs_visit_n': 914,\n",
    "         'auth_units': 935,\n",
    "         'night_missed_n': 167,\n",
    "         'visit_hrs': 765,\n",
    "         'attd_pcs_hrs': 461,\n",
    "         'resp_visit_hrs': 213,\n",
    "         'missed_n': 277,\n",
    "         'auth_resp_hrs': 360,\n",
    "         'missed_hrs': 150,\n",
    "         'auths_n': 8,\n",
    "         'attd_cg_visit_nd': 95,\n",
    "         'attd_pcs_visit_hrs': 41,\n",
    "         'resp_visit_n': 1,\n",
    "         'auth_attd_pcs_hrs': 70,\n",
    "         'attd_night_visit_hrs': 6,\n",
    "         'dementia_ddos': 5,\n",
    "         'hh_tc': 9,\n",
    "         'night_missed_hrs': 16,\n",
    "         'hh_ddos': 12,\n",
    "         'resp_night_visit_n': 5,\n",
    "         'auth_hrs': 2,\n",
    "         'auth_pc_n': 2,\n",
    "         'auth_resp_n': 2,\n",
    "         'attd_memb_init_missed_n': 1,\n",
    "         'attd_memb_init_missed_hrs': 1})\n",
    "old.most_common(50)"
   ]
  },
  {
   "cell_type": "markdown",
   "metadata": {},
   "source": [
    "# Try KNN with the best features"
   ]
  },
  {
   "cell_type": "code",
   "execution_count": null,
   "metadata": {},
   "outputs": [],
   "source": [
    "best_feats = [f for f, n in cnt.most_common(20) if n > 100]"
   ]
  },
  {
   "cell_type": "code",
   "execution_count": null,
   "metadata": {},
   "outputs": [],
   "source": [
    "from sklearn.neighbors import KNeighborsRegressor"
   ]
  },
  {
   "cell_type": "code",
   "execution_count": null,
   "metadata": {},
   "outputs": [],
   "source": [
    "knn = KNeighborsRegressor(n_neighbors=100, weights = 'distance')\n",
    "X_train, X_test, y_train, y_test = train_test_split(df[best_feats], df.attd_pcs_appropriate_hrs_y)\n",
    "\n",
    "knn.fit(X_train, y_train)\n",
    "knn.score(X_test, y_test)"
   ]
  },
  {
   "cell_type": "code",
   "execution_count": null,
   "metadata": {},
   "outputs": [],
   "source": []
  },
  {
   "cell_type": "code",
   "execution_count": null,
   "metadata": {},
   "outputs": [],
   "source": []
  },
  {
   "cell_type": "code",
   "execution_count": null,
   "metadata": {},
   "outputs": [],
   "source": []
  }
 ],
 "metadata": {
  "kernelspec": {
   "display_name": "Python 3",
   "language": "python",
   "name": "python3"
  },
  "language_info": {
   "codemirror_mode": {
    "name": "ipython",
    "version": 3
   },
   "file_extension": ".py",
   "mimetype": "text/x-python",
   "name": "python",
   "nbconvert_exporter": "python",
   "pygments_lexer": "ipython3",
   "version": "3.8.5"
  }
 },
 "nbformat": 4,
 "nbformat_minor": 4
}
