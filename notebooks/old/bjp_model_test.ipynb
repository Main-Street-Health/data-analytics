{
 "cells": [
  {
   "cell_type": "code",
   "execution_count": null,
   "metadata": {},
   "outputs": [],
   "source": [
    "import sys\n",
    "import time\n",
    "import numpy as np\n",
    "import pandas as pd\n",
    "import matplotlib.pyplot as plt\n",
    "import seaborn as sns\n",
    "from sklearn.model_selection import train_test_split, cross_val_score\n",
    "from sklearn.ensemble import RandomForestRegressor, GradientBoostingRegressor\n",
    "\n",
    "sys.path.append('../src')\n",
    "import cb_utils\n",
    "\n",
    "sns.set(style=\"darkgrid\")\n",
    "pd.options.display.max_columns = 500\n",
    "\n",
    "%load_ext autoreload\n",
    "%autoreload 2"
   ]
  },
  {
   "cell_type": "code",
   "execution_count": null,
   "metadata": {},
   "outputs": [],
   "source": [
    "# configuration\n",
    "cache = True\n",
    "seed = 0\n",
    "test_set_pct = 0.2"
   ]
  },
  {
   "cell_type": "code",
   "execution_count": null,
   "metadata": {},
   "outputs": [],
   "source": [
    "# Load data\n",
    "auths = cb_utils.get_table('vw_ds_auth_mm', use_cache=cache)\n",
    "claims = cb_utils.get_table('vw_ds_claims_mm', use_cache=cache)\n",
    "visits = cb_utils.get_table('vw_ds_visit_features_mm', use_cache=cache)\n",
    "all_df = cb_utils.merge_member_month_dfs(claims, auths, visits)"
   ]
  },
  {
   "cell_type": "code",
   "execution_count": null,
   "metadata": {},
   "outputs": [],
   "source": [
    "def limit_df_to_12m_members(d):\n",
    "    return d.groupby('member_id', as_index=False).filter(lambda x: x.shape[0] == 12)\n",
    "all_df = limit_df_to_12m_members(all_df) "
   ]
  },
  {
   "cell_type": "code",
   "execution_count": null,
   "metadata": {},
   "outputs": [],
   "source": [
    "# Build training and test features and targets\n",
    "dxs = [c for c in claims.columns if '_dx' in c]\n",
    "pmpms = [c for c in claims.columns if '_pmpm' in c]\n",
    "\n",
    "features = dxs + pmpms\n",
    "target = 'attd_pcs_visit_hrs'\n",
    "\n",
    "mem_years = all_df[features + ['member_id', target]].groupby('member_id', as_index=False)[features + [target]].mean().fillna(0)\n",
    "\n",
    "X = mem_years[features]\n",
    "y = mem_years.attd_pcs_visit_hrs\n",
    "\n",
    "X_train, X_test, y_train, y_test = train_test_split(X, y, test_size=test_set_pct, random_state=seed)"
   ]
  },
  {
   "cell_type": "code",
   "execution_count": null,
   "metadata": {},
   "outputs": [],
   "source": [
    "# train and test some tree models\n",
    "def train_and_evaluate(regr):\n",
    "    regr.fit(X_train, y_train)\n",
    "    preds = regr.predict(X_test)\n",
    "    error = np.abs(y_test - preds)\n",
    "    mean_hrs_error = error.mean()\n",
    "    median_hrs_error = error.median()\n",
    "    r2_score = regr.score(X_test, y_test)\n",
    "\n",
    "\n",
    "    print(f'R^2 Score: {r2_score}')\n",
    "    print(f'Mean absolute hrs error: {mean_hrs_error}')\n",
    "    print(f'Median absolute hrs error: {median_hrs_error}')\n",
    "    print('Feature Importance')\n",
    "    for imp, feat in sorted([(b, a) for a, b in zip(features, regr.feature_importances_)], reverse=True):\n",
    "        print('%0.3f: %s' % (imp, feat))\n",
    "\n",
    "    fig, axes = plt.subplots(nrows=2, figsize=(20,20))\n",
    "    ax = axes[0]\n",
    "    ax.scatter(preds, y_test)\n",
    "    ax.set_xlabel('preds')\n",
    "    ax.set_ylabel('actual');\n",
    "    ax.set_title('Predicted vs actual monthly pcs attd hours')\n",
    "    \n",
    "    ax = axes[1]\n",
    "    ax.hist(error)\n",
    "    ax.set_title('Histogram of absolute error in hrs')\n",
    "    "
   ]
  },
  {
   "cell_type": "code",
   "execution_count": null,
   "metadata": {},
   "outputs": [],
   "source": [
    "rf = RandomForestRegressor(random_state=seed)\n",
    "train_and_evaluate(rf)"
   ]
  },
  {
   "cell_type": "code",
   "execution_count": null,
   "metadata": {},
   "outputs": [],
   "source": [
    "gb = GradientBoostingRegressor(random_state=seed)\n",
    "train_and_evaluate(gb)"
   ]
  },
  {
   "cell_type": "code",
   "execution_count": null,
   "metadata": {},
   "outputs": [],
   "source": []
  },
  {
   "cell_type": "code",
   "execution_count": null,
   "metadata": {},
   "outputs": [],
   "source": []
  },
  {
   "cell_type": "code",
   "execution_count": null,
   "metadata": {},
   "outputs": [],
   "source": []
  }
 ],
 "metadata": {
  "kernelspec": {
   "display_name": "Python 3",
   "language": "python",
   "name": "python3"
  },
  "language_info": {
   "codemirror_mode": {
    "name": "ipython",
    "version": 3
   },
   "file_extension": ".py",
   "mimetype": "text/x-python",
   "name": "python",
   "nbconvert_exporter": "python",
   "pygments_lexer": "ipython3",
   "version": "3.8.4"
  }
 },
 "nbformat": 4,
 "nbformat_minor": 4
}
