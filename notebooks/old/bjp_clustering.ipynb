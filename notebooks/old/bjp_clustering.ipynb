{
 "cells": [
  {
   "cell_type": "code",
   "execution_count": null,
   "metadata": {},
   "outputs": [],
   "source": [
    "import sys\n",
    "import time\n",
    "import numpy as np\n",
    "import pandas as pd\n",
    "import matplotlib.pyplot as plt\n",
    "import seaborn as sns\n",
    "\n",
    "sys.path.append('../src')\n",
    "import cb_utils\n",
    "\n",
    "sns.set(style=\"darkgrid\")\n",
    "pd.options.display.max_columns = 500\n",
    "\n",
    "%load_ext autoreload\n",
    "%autoreload 2"
   ]
  },
  {
   "cell_type": "code",
   "execution_count": null,
   "metadata": {},
   "outputs": [],
   "source": [
    "cache = True\n",
    "auths = cb_utils.get_table('vw_ds_auth_mm', use_cache=cache)\n",
    "claims = cb_utils.get_table('vw_ds_claims_mm', use_cache=cache)\n",
    "visits = cb_utils.get_table('vw_ds_visit_features_mm', use_cache=cache)"
   ]
  },
  {
   "cell_type": "code",
   "execution_count": null,
   "metadata": {},
   "outputs": [],
   "source": [
    "df = cb_utils.merge_member_month_dfs(claims, auths, visits)"
   ]
  },
  {
   "cell_type": "code",
   "execution_count": null,
   "metadata": {},
   "outputs": [],
   "source": [
    "df.head()"
   ]
  },
  {
   "cell_type": "code",
   "execution_count": null,
   "metadata": {},
   "outputs": [],
   "source": [
    "claims.head()"
   ]
  },
  {
   "cell_type": "code",
   "execution_count": null,
   "metadata": {},
   "outputs": [],
   "source": [
    "from sklearn import decomposition\n",
    "dxs = [c for c in claims.columns if '_dx' in c]\n",
    "x = df[dxs].fillna(0)\n",
    "y = df.grp.astype(int).values\n",
    "\n",
    "pca = decomposition.PCA(n_components=2)\n",
    "\n",
    "pca.fit(x)\n",
    "X = pca.transform(x)\n",
    "\n",
    "pca_df = pd.DataFrame(X, columns=['a', 'b'])\n",
    "pca_df['grp'] = pd.Series(y)\n",
    "sns.relplot(x='a', y='b', hue='grp', data=pca_df, height=10)"
   ]
  },
  {
   "cell_type": "code",
   "execution_count": null,
   "metadata": {},
   "outputs": [],
   "source": [
    "pca.explained_variance_ratio_"
   ]
  },
  {
   "cell_type": "code",
   "execution_count": null,
   "metadata": {},
   "outputs": [],
   "source": [
    "import plotly.express as px\n",
    "np.random.seed(1)\n",
    "\n",
    "x = df[dxs].fillna(0)\n",
    "y = df.grp.astype(int).values\n",
    "\n",
    "pca = decomposition.PCA(n_components=3)\n",
    "\n",
    "pca.fit(x)\n",
    "X = pca.transform(x)\n",
    "\n",
    "pca_df = pd.DataFrame(X, columns=['a', 'b', 'c'])\n",
    "pca_df['grp'] = pd.Series(y)\n",
    "\n",
    "fig = px.scatter_3d(pca_df, x='a', y='b', z='c', color='grp',opacity=0.1, height=1000)\n",
    "fig.show()"
   ]
  },
  {
   "cell_type": "code",
   "execution_count": null,
   "metadata": {},
   "outputs": [],
   "source": [
    "pca.explained_variance_ratio_"
   ]
  },
  {
   "cell_type": "code",
   "execution_count": null,
   "metadata": {},
   "outputs": [],
   "source": [
    "from sklearn import decomposition\n",
    "grped = df[dxs + ['member_id', 'attd_pcs_visit_hrs']].fillna(0).groupby('member_id', as_index=False).mean()\n",
    "x = grped[dxs]\n",
    "\n",
    "pca = decomposition.PCA(n_components=2)\n",
    "\n",
    "pca.fit(x)\n",
    "X = pca.transform(x)\n",
    "\n",
    "pca_df = pd.DataFrame(X, columns=['a', 'b'])\n",
    "pca_df['attd_pcs_visit_hrs'] = grped.attd_pcs_visit_hrs\n",
    "sns.relplot(x='a', y='b', hue='attd_pcs_visit_hrs', size='attd_pcs_visit_hrs', data=pca_df, height=10, alpha=0.7)"
   ]
  },
  {
   "cell_type": "code",
   "execution_count": null,
   "metadata": {},
   "outputs": [],
   "source": [
    "from sklearn import decomposition\n",
    "grped = df[dxs + ['member_id', 'attd_pcs_visit_hrs']].fillna(0)\n",
    "x = grped[dxs]\n",
    "\n",
    "pca = decomposition.PCA(n_components=2)\n",
    "\n",
    "pca.fit(x)\n",
    "X = pca.transform(x)\n",
    "\n",
    "pca_df = pd.DataFrame(X, columns=['a', 'b'])\n",
    "pca_df['attd_pcs_visit_hrs'] = grped.attd_pcs_visit_hrs\n",
    "sns.relplot(x='a', y='b', hue='attd_pcs_visit_hrs', size='attd_pcs_visit_hrs', data=pca_df, height=10, alpha=0.7)"
   ]
  },
  {
   "cell_type": "code",
   "execution_count": null,
   "metadata": {},
   "outputs": [],
   "source": [
    "# test LDA w/hrs bucket as target\n",
    "from sklearn.discriminant_analysis import LinearDiscriminantAnalysis\n",
    "grped = df[dxs + ['member_id', 'attd_pcs_visit_hrs']].fillna(0).groupby('member_id', as_index=False).mean()\n",
    "x = grped[dxs]\n",
    "y = pd.cut(grped.attd_pcs_visit_hrs, 5, labels=['a', 'b', 'c', 'd', 'e'])\n",
    "\n",
    "lda = LinearDiscriminantAnalysis(n_components=2)\n",
    "\n",
    "lda.fit(x, y)\n",
    "X = lda.transform(x)\n",
    "\n",
    "lda_df = pd.DataFrame(X, columns=['a', 'b'])\n",
    "lda_df['attd_pcs_visit_hrs'] = grped.attd_pcs_visit_hrs\n",
    "sns.relplot(x='a', y='b', hue='attd_pcs_visit_hrs', size='attd_pcs_visit_hrs', data=lda_df, height=10, alpha=0.7)"
   ]
  },
  {
   "cell_type": "code",
   "execution_count": null,
   "metadata": {},
   "outputs": [],
   "source": [
    "x = "
   ]
  },
  {
   "cell_type": "code",
   "execution_count": null,
   "metadata": {},
   "outputs": [],
   "source": []
  },
  {
   "cell_type": "code",
   "execution_count": null,
   "metadata": {},
   "outputs": [],
   "source": [
    "p = pca.components_[1]\n",
    "coef =  sorted([(b, a) for a, b in zip(dxs, p)])\n",
    "coef"
   ]
  },
  {
   "cell_type": "code",
   "execution_count": null,
   "metadata": {},
   "outputs": [],
   "source": [
    "from sklearn.cluster import MiniBatchKMeans\n",
    "grped = df[dxs + ['member_id', 'attd_pcs_visit_hrs', 'attd_pcs_missed_hrs']].groupby('member_id', as_index=False).mean().fillna(0)\n",
    "X = grped.fillna(0)\n",
    "\n",
    "kmeans = MiniBatchKMeans(n_clusters=7, random_state=0, batch_size=256)\n",
    "\n",
    "preds = kmeans.fit_predict(X)\n",
    "preds\n",
    "# pca_df = pd.DataFrame(X, columns=['a', 'b'])\n",
    "# pca_df['grp'] = pd.Series(y)\n",
    "# sns.relplot(x='a', y='b', hue='grp', data=pca_df)"
   ]
  },
  {
   "cell_type": "code",
   "execution_count": null,
   "metadata": {},
   "outputs": [],
   "source": [
    "kmeans_df = grped.assign(cluster=preds)\n",
    "sns.relplot(x='attd_pcs_missed_hrs', y='attd_pcs_visit_hrs', hue='cluster', data=kmeans_df, height=10)"
   ]
  },
  {
   "cell_type": "code",
   "execution_count": null,
   "metadata": {},
   "outputs": [],
   "source": [
    "kmeans_df.cluster.describe()"
   ]
  },
  {
   "cell_type": "code",
   "execution_count": null,
   "metadata": {},
   "outputs": [],
   "source": [
    "mem_avg = kmeans_df[dxs + ['member_id', 'cluster']].fillna(0).groupby('member_id', as_index=False).mean()\n",
    "melted = mem_avg.melt(id_vars=['member_id', 'cluster'], var_name='dx', value_name='dx_val')\n",
    "g = sns.relplot(x='dx_val', y='cluster', col='dx', col_wrap=4, hue='dx', data=melted)"
   ]
  },
  {
   "cell_type": "code",
   "execution_count": null,
   "metadata": {},
   "outputs": [],
   "source": []
  },
  {
   "cell_type": "code",
   "execution_count": null,
   "metadata": {},
   "outputs": [],
   "source": []
  }
 ],
 "metadata": {
  "kernelspec": {
   "display_name": "Python 3",
   "language": "python",
   "name": "python3"
  },
  "language_info": {
   "codemirror_mode": {
    "name": "ipython",
    "version": 3
   },
   "file_extension": ".py",
   "mimetype": "text/x-python",
   "name": "python",
   "nbconvert_exporter": "python",
   "pygments_lexer": "ipython3",
   "version": "3.8.5"
  }
 },
 "nbformat": 4,
 "nbformat_minor": 4
}
