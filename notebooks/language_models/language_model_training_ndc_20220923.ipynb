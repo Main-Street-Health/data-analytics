{
 "cells": [
  {
   "cell_type": "code",
   "execution_count": 4,
   "metadata": {},
   "outputs": [
    {
     "name": "stdout",
     "output_type": "stream",
     "text": [
      "The autoreload extension is already loaded. To reload it, use:\n",
      "  %reload_ext autoreload\n"
     ]
    }
   ],
   "source": [
    "import os\n",
    "import sys\n",
    "import re\n",
    "import time\n",
    "import random\n",
    "import warnings\n",
    "import collections\n",
    "from tqdm import tqdm\n",
    "import numpy as np\n",
    "import pandas as pd\n",
    "import matplotlib.pyplot as plt\n",
    "import matplotlib.gridspec as gridspec\n",
    "import seaborn as sns\n",
    "\n",
    "# sys.path.append('../src')\n",
    "# import cb_utils\n",
    "\n",
    "sns.set(style=\"darkgrid\")\n",
    "pd.options.display.max_columns = 500\n",
    "\n",
    "%load_ext autoreload\n",
    "%autoreload 2"
   ]
  },
  {
   "cell_type": "code",
   "execution_count": null,
   "metadata": {},
   "outputs": [],
   "source": []
  },
  {
   "cell_type": "markdown",
   "metadata": {},
   "source": [
    "### Modelling"
   ]
  },
  {
   "cell_type": "code",
   "execution_count": 5,
   "metadata": {},
   "outputs": [],
   "source": [
    "from fastai.text.all import *"
   ]
  },
  {
   "cell_type": "code",
   "execution_count": 6,
   "metadata": {},
   "outputs": [],
   "source": [
    "path = Path('../')"
   ]
  },
  {
   "cell_type": "code",
   "execution_count": 16,
   "metadata": {},
   "outputs": [],
   "source": [
    "folder = 'just_ndcs'"
   ]
  },
  {
   "cell_type": "code",
   "execution_count": 7,
   "metadata": {},
   "outputs": [],
   "source": [
    "files = get_text_files(path, folders = [folder])"
   ]
  },
  {
   "cell_type": "code",
   "execution_count": 8,
   "metadata": {},
   "outputs": [
    {
     "data": {
      "text/plain": [
       "121690"
      ]
     },
     "execution_count": 8,
     "metadata": {},
     "output_type": "execute_result"
    }
   ],
   "source": [
    "len(files)"
   ]
  },
  {
   "cell_type": "code",
   "execution_count": 9,
   "metadata": {},
   "outputs": [],
   "source": [
    "txts = L(o.open().read().split(' ') for o in files)"
   ]
  },
  {
   "cell_type": "code",
   "execution_count": 10,
   "metadata": {},
   "outputs": [
    {
     "data": {
      "text/plain": [
       "121690"
      ]
     },
     "execution_count": 10,
     "metadata": {},
     "output_type": "execute_result"
    }
   ],
   "source": [
    "len(txts)"
   ]
  },
  {
   "cell_type": "code",
   "execution_count": 11,
   "metadata": {},
   "outputs": [],
   "source": [
    "lens = [len(t) for t in txts]"
   ]
  },
  {
   "cell_type": "code",
   "execution_count": 17,
   "metadata": {},
   "outputs": [
    {
     "data": {
      "text/plain": [
       "(161.34843454679924, 29.0, 4309, 1)"
      ]
     },
     "execution_count": 17,
     "metadata": {},
     "output_type": "execute_result"
    }
   ],
   "source": [
    "np.mean(lens), np.median(lens), np.max(lens), np.min(lens)"
   ]
  },
  {
   "cell_type": "code",
   "execution_count": 13,
   "metadata": {},
   "outputs": [],
   "source": [
    "counter = Counter(tok for pat in txts for tok in set(pat))"
   ]
  },
  {
   "cell_type": "code",
   "execution_count": 14,
   "metadata": {},
   "outputs": [],
   "source": [
    "vocab = make_vocab(counter, min_freq=20)"
   ]
  },
  {
   "cell_type": "code",
   "execution_count": 18,
   "metadata": {},
   "outputs": [
    {
     "data": {
      "text/html": [],
      "text/plain": [
       "<IPython.core.display.HTML object>"
      ]
     },
     "metadata": {},
     "output_type": "display_data"
    }
   ],
   "source": [
    "dls = TextDataLoaders.from_folder(\n",
    "    path / folder,\n",
    "    valid_pct=.1,\n",
    "    seed=None,\n",
    "    text_vocab=vocab,\n",
    "    is_lm=True,\n",
    "    tok_tfm=None,\n",
    "    seq_len=72,\n",
    "    backwards=False,\n",
    "    bs=64,\n",
    "    val_bs=None,\n",
    "    shuffle=True,\n",
    "    device=None\n",
    ")"
   ]
  },
  {
   "cell_type": "code",
   "execution_count": 19,
   "metadata": {},
   "outputs": [],
   "source": [
    "learn = language_model_learner(\n",
    "    dls=dls,\n",
    "    arch=AWD_LSTM,\n",
    "    drop_mult=1,\n",
    "    pretrained=False,\n",
    "    cbs=[\n",
    "        EarlyStoppingCallback(monitor='valid_loss', min_delta=0.01, patience=4),\n",
    "        SaveModelCallback(monitor='valid_loss',fname='ndc_model_20220923')\n",
    "    ],\n",
    "    metrics=[accuracy, Perplexity()]).to_fp16()"
   ]
  },
  {
   "cell_type": "code",
   "execution_count": 22,
   "metadata": {},
   "outputs": [
    {
     "data": {
      "text/html": [
       "<table border=\"1\" class=\"dataframe\">\n",
       "  <thead>\n",
       "    <tr style=\"text-align: right;\">\n",
       "      <th></th>\n",
       "      <th>text</th>\n",
       "      <th>text_</th>\n",
       "    </tr>\n",
       "  </thead>\n",
       "  <tbody>\n",
       "    <tr>\n",
       "      <th>0</th>\n",
       "      <td>xxbos 00904643480 ttlc_30 00904671960 ttlc_60 61314063006 ttlc_gt180 xxunk xxrep xxunk 0 xxunk ttlc_15 00904671980 00904672580 ttlc_180 45802006003 ttlc_10 45802006003 ttlc_90 xxunk xxrep xxunk 0 xxunk ttlc_180 16729017217 67877019805 68382011214 ttlc_2 xxunk xxrep xxunk 0 xxunk ttlc_30 49483034010 ttlc_10 49483034010 ttlc_30 49483008010 ttlc_30 xxunk xxrep xxunk 0 xxunk ttlc_2 49483034010 ttlc_5 49483034010 ttlc_30 49483034010 ttlc_30 49483034010 ttlc_30 xxunk xxrep xxunk 0 xxunk ttlc_5 49483034010 ttlc_30 49483034010 ttlc_10 xxunk xxrep xxunk 0 xxunk ttlc_30</td>\n",
       "      <td>00904643480 ttlc_30 00904671960 ttlc_60 61314063006 ttlc_gt180 xxunk xxrep xxunk 0 xxunk ttlc_15 00904671980 00904672580 ttlc_180 45802006003 ttlc_10 45802006003 ttlc_90 xxunk xxrep xxunk 0 xxunk ttlc_180 16729017217 67877019805 68382011214 ttlc_2 xxunk xxrep xxunk 0 xxunk ttlc_30 49483034010 ttlc_10 49483034010 ttlc_30 49483008010 ttlc_30 xxunk xxrep xxunk 0 xxunk ttlc_2 49483034010 ttlc_5 49483034010 ttlc_30 49483034010 ttlc_30 49483034010 ttlc_30 xxunk xxrep xxunk 0 xxunk ttlc_5 49483034010 ttlc_30 49483034010 ttlc_10 xxunk xxrep xxunk 0 xxunk ttlc_30 49483034010</td>\n",
       "    </tr>\n",
       "    <tr>\n",
       "      <th>1</th>\n",
       "      <td>xxrep xxunk xxunk xxunk ttlc_2 00591024105 65162010350 ttlc_5 16729017601 ttlc_1 68382031910 ttlc_10 57237010099 ttlc_10 xxunk xxrep xxunk xxunk xxunk 68180098003 68462033090 ttlc_10 31722071390 ttlc_2 65162010350 ttlc_2 16729017601 ttlc_10 16729017601 68462033090 ttlc_1 00378001805 68180098003 68382031910 ttlc_1 16729017601 68462033090 ttlc_1 68180098003 ttlc_5 00591024105 xxunk xxrep xxunk xxunk xxunk ttlc_2 xxunk xxrep xxunk xxunk xxunk ttlc_1 42192015101 68180098003 ttlc_2 68462033090 ttlc_10 65162010350 ttlc_2 xxunk xxrep xxunk xxunk xxunk ttlc_1 xxunk xxrep xxunk xxunk xxunk ttlc_10</td>\n",
       "      <td>xxunk xxunk xxunk ttlc_2 00591024105 65162010350 ttlc_5 16729017601 ttlc_1 68382031910 ttlc_10 57237010099 ttlc_10 xxunk xxrep xxunk xxunk xxunk 68180098003 68462033090 ttlc_10 31722071390 ttlc_2 65162010350 ttlc_2 16729017601 ttlc_10 16729017601 68462033090 ttlc_1 00378001805 68180098003 68382031910 ttlc_1 16729017601 68462033090 ttlc_1 68180098003 ttlc_5 00591024105 xxunk xxrep xxunk xxunk xxunk ttlc_2 xxunk xxrep xxunk xxunk xxunk ttlc_1 42192015101 68180098003 ttlc_2 68462033090 ttlc_10 65162010350 ttlc_2 xxunk xxrep xxunk xxunk xxunk ttlc_1 xxunk xxrep xxunk xxunk xxunk ttlc_10 16729017601</td>\n",
       "    </tr>\n",
       "  </tbody>\n",
       "</table>"
      ],
      "text/plain": [
       "<IPython.core.display.HTML object>"
      ]
     },
     "metadata": {},
     "output_type": "display_data"
    }
   ],
   "source": [
    "dls.show_batch(max_n=2)"
   ]
  },
  {
   "cell_type": "code",
   "execution_count": 23,
   "metadata": {},
   "outputs": [
    {
     "data": {
      "text/plain": [
       "14152"
      ]
     },
     "execution_count": 23,
     "metadata": {},
     "output_type": "execute_result"
    }
   ],
   "source": [
    "len(vocab)"
   ]
  },
  {
   "cell_type": "code",
   "execution_count": 24,
   "metadata": {},
   "outputs": [
    {
     "data": {
      "text/plain": [
       "SequentialRNN(\n",
       "  (0): AWD_LSTM(\n",
       "    (encoder): Embedding(14152, 400, padding_idx=1)\n",
       "    (encoder_dp): EmbeddingDropout(\n",
       "      (emb): Embedding(14152, 400, padding_idx=1)\n",
       "    )\n",
       "    (rnns): ModuleList(\n",
       "      (0): WeightDropout(\n",
       "        (module): LSTM(400, 1152, batch_first=True)\n",
       "      )\n",
       "      (1): WeightDropout(\n",
       "        (module): LSTM(1152, 1152, batch_first=True)\n",
       "      )\n",
       "      (2): WeightDropout(\n",
       "        (module): LSTM(1152, 400, batch_first=True)\n",
       "      )\n",
       "    )\n",
       "    (input_dp): RNNDropout()\n",
       "    (hidden_dps): ModuleList(\n",
       "      (0): RNNDropout()\n",
       "      (1): RNNDropout()\n",
       "      (2): RNNDropout()\n",
       "    )\n",
       "  )\n",
       "  (1): LinearDecoder(\n",
       "    (decoder): Linear(in_features=400, out_features=14152, bias=True)\n",
       "    (output_dp): RNNDropout()\n",
       "  )\n",
       ")"
      ]
     },
     "execution_count": 24,
     "metadata": {},
     "output_type": "execute_result"
    }
   ],
   "source": [
    "learn.model"
   ]
  },
  {
   "cell_type": "code",
   "execution_count": 25,
   "metadata": {},
   "outputs": [
    {
     "data": {
      "text/html": [],
      "text/plain": [
       "<IPython.core.display.HTML object>"
      ]
     },
     "metadata": {},
     "output_type": "display_data"
    },
    {
     "name": "stderr",
     "output_type": "stream",
     "text": [
      "/home/bp/.local/share/virtualenvs/data-analytics-qWXImv-u/lib/python3.8/site-packages/fastai/callback/schedule.py:269: UserWarning: color is redundantly defined by the 'color' keyword argument and the fmt string \"ro\" (-> color='r'). The keyword argument will take precedence.\n",
      "  ax.plot(val, idx, 'ro', label=nm, c=color)\n"
     ]
    },
    {
     "data": {
      "text/plain": [
       "SuggestedLRs(valley=0.00010964782268274575)"
      ]
     },
     "execution_count": 25,
     "metadata": {},
     "output_type": "execute_result"
    },
    {
     "data": {
      "image/png": "[encoded data removed]",
      "text/plain": [
       "<Figure size 432x288 with 1 Axes>"
      ]
     },
     "metadata": {},
     "output_type": "display_data"
    }
   ],
   "source": [
    "learn.lr_find()"
   ]
  },
  {
   "cell_type": "code",
   "execution_count": 26,
   "metadata": {},
   "outputs": [
    {
     "data": {
      "text/html": [
       "<table border=\"1\" class=\"dataframe\">\n",
       "  <thead>\n",
       "    <tr style=\"text-align: left;\">\n",
       "      <th>epoch</th>\n",
       "      <th>train_loss</th>\n",
       "      <th>valid_loss</th>\n",
       "      <th>accuracy</th>\n",
       "      <th>perplexity</th>\n",
       "      <th>time</th>\n",
       "    </tr>\n",
       "  </thead>\n",
       "  <tbody>\n",
       "    <tr>\n",
       "      <td>0</td>\n",
       "      <td>3.913317</td>\n",
       "      <td>3.890378</td>\n",
       "      <td>0.410274</td>\n",
       "      <td>48.929367</td>\n",
       "      <td>17:21</td>\n",
       "    </tr>\n",
       "    <tr>\n",
       "      <td>1</td>\n",
       "      <td>3.600747</td>\n",
       "      <td>3.652501</td>\n",
       "      <td>0.429780</td>\n",
       "      <td>38.571007</td>\n",
       "      <td>17:16</td>\n",
       "    </tr>\n",
       "    <tr>\n",
       "      <td>2</td>\n",
       "      <td>3.422592</td>\n",
       "      <td>3.402328</td>\n",
       "      <td>0.438338</td>\n",
       "      <td>30.033953</td>\n",
       "      <td>17:17</td>\n",
       "    </tr>\n",
       "    <tr>\n",
       "      <td>3</td>\n",
       "      <td>3.077512</td>\n",
       "      <td>3.145263</td>\n",
       "      <td>0.448301</td>\n",
       "      <td>23.225788</td>\n",
       "      <td>17:17</td>\n",
       "    </tr>\n",
       "    <tr>\n",
       "      <td>4</td>\n",
       "      <td>2.951503</td>\n",
       "      <td>2.940205</td>\n",
       "      <td>0.460008</td>\n",
       "      <td>18.919725</td>\n",
       "      <td>17:22</td>\n",
       "    </tr>\n",
       "    <tr>\n",
       "      <td>5</td>\n",
       "      <td>2.807185</td>\n",
       "      <td>2.772980</td>\n",
       "      <td>0.470915</td>\n",
       "      <td>16.006269</td>\n",
       "      <td>17:18</td>\n",
       "    </tr>\n",
       "    <tr>\n",
       "      <td>6</td>\n",
       "      <td>2.635876</td>\n",
       "      <td>2.662339</td>\n",
       "      <td>0.478905</td>\n",
       "      <td>14.329767</td>\n",
       "      <td>17:19</td>\n",
       "    </tr>\n",
       "    <tr>\n",
       "      <td>7</td>\n",
       "      <td>2.610885</td>\n",
       "      <td>2.583760</td>\n",
       "      <td>0.484117</td>\n",
       "      <td>13.246857</td>\n",
       "      <td>17:19</td>\n",
       "    </tr>\n",
       "    <tr>\n",
       "      <td>8</td>\n",
       "      <td>2.514476</td>\n",
       "      <td>2.532968</td>\n",
       "      <td>0.486559</td>\n",
       "      <td>12.590824</td>\n",
       "      <td>17:18</td>\n",
       "    </tr>\n",
       "    <tr>\n",
       "      <td>9</td>\n",
       "      <td>2.476986</td>\n",
       "      <td>2.497094</td>\n",
       "      <td>0.488656</td>\n",
       "      <td>12.147140</td>\n",
       "      <td>17:18</td>\n",
       "    </tr>\n",
       "    <tr>\n",
       "      <td>10</td>\n",
       "      <td>2.490155</td>\n",
       "      <td>2.465898</td>\n",
       "      <td>0.491218</td>\n",
       "      <td>11.774045</td>\n",
       "      <td>17:18</td>\n",
       "    </tr>\n",
       "    <tr>\n",
       "      <td>11</td>\n",
       "      <td>2.414876</td>\n",
       "      <td>2.433115</td>\n",
       "      <td>0.493571</td>\n",
       "      <td>11.394320</td>\n",
       "      <td>17:19</td>\n",
       "    </tr>\n",
       "    <tr>\n",
       "      <td>12</td>\n",
       "      <td>2.414516</td>\n",
       "      <td>2.412843</td>\n",
       "      <td>0.493854</td>\n",
       "      <td>11.165666</td>\n",
       "      <td>17:26</td>\n",
       "    </tr>\n",
       "    <tr>\n",
       "      <td>13</td>\n",
       "      <td>2.390008</td>\n",
       "      <td>2.402242</td>\n",
       "      <td>0.494500</td>\n",
       "      <td>11.047915</td>\n",
       "      <td>17:20</td>\n",
       "    </tr>\n",
       "    <tr>\n",
       "      <td>14</td>\n",
       "      <td>2.383044</td>\n",
       "      <td>2.378165</td>\n",
       "      <td>0.496475</td>\n",
       "      <td>10.785099</td>\n",
       "      <td>17:20</td>\n",
       "    </tr>\n",
       "    <tr>\n",
       "      <td>15</td>\n",
       "      <td>2.358055</td>\n",
       "      <td>2.364241</td>\n",
       "      <td>0.497787</td>\n",
       "      <td>10.635967</td>\n",
       "      <td>17:20</td>\n",
       "    </tr>\n",
       "    <tr>\n",
       "      <td>16</td>\n",
       "      <td>2.310485</td>\n",
       "      <td>2.350525</td>\n",
       "      <td>0.499338</td>\n",
       "      <td>10.491080</td>\n",
       "      <td>17:21</td>\n",
       "    </tr>\n",
       "    <tr>\n",
       "      <td>17</td>\n",
       "      <td>2.328044</td>\n",
       "      <td>2.338248</td>\n",
       "      <td>0.499101</td>\n",
       "      <td>10.363060</td>\n",
       "      <td>17:20</td>\n",
       "    </tr>\n",
       "    <tr>\n",
       "      <td>18</td>\n",
       "      <td>2.347278</td>\n",
       "      <td>2.330891</td>\n",
       "      <td>0.499947</td>\n",
       "      <td>10.287107</td>\n",
       "      <td>17:20</td>\n",
       "    </tr>\n",
       "    <tr>\n",
       "      <td>19</td>\n",
       "      <td>2.330667</td>\n",
       "      <td>2.329665</td>\n",
       "      <td>0.499135</td>\n",
       "      <td>10.274501</td>\n",
       "      <td>17:22</td>\n",
       "    </tr>\n",
       "    <tr>\n",
       "      <td>20</td>\n",
       "      <td>2.325748</td>\n",
       "      <td>2.313441</td>\n",
       "      <td>0.500959</td>\n",
       "      <td>10.109153</td>\n",
       "      <td>17:20</td>\n",
       "    </tr>\n",
       "    <tr>\n",
       "      <td>21</td>\n",
       "      <td>2.259987</td>\n",
       "      <td>2.304708</td>\n",
       "      <td>0.501605</td>\n",
       "      <td>10.021252</td>\n",
       "      <td>17:21</td>\n",
       "    </tr>\n",
       "    <tr>\n",
       "      <td>22</td>\n",
       "      <td>2.244511</td>\n",
       "      <td>2.293432</td>\n",
       "      <td>0.502866</td>\n",
       "      <td>9.908889</td>\n",
       "      <td>17:21</td>\n",
       "    </tr>\n",
       "    <tr>\n",
       "      <td>23</td>\n",
       "      <td>2.278656</td>\n",
       "      <td>2.285968</td>\n",
       "      <td>0.503891</td>\n",
       "      <td>9.835205</td>\n",
       "      <td>17:20</td>\n",
       "    </tr>\n",
       "    <tr>\n",
       "      <td>24</td>\n",
       "      <td>2.225147</td>\n",
       "      <td>2.279162</td>\n",
       "      <td>0.504176</td>\n",
       "      <td>9.768495</td>\n",
       "      <td>17:19</td>\n",
       "    </tr>\n",
       "    <tr>\n",
       "      <td>25</td>\n",
       "      <td>2.219732</td>\n",
       "      <td>2.274386</td>\n",
       "      <td>0.504593</td>\n",
       "      <td>9.721945</td>\n",
       "      <td>17:21</td>\n",
       "    </tr>\n",
       "    <tr>\n",
       "      <td>26</td>\n",
       "      <td>2.232300</td>\n",
       "      <td>2.265724</td>\n",
       "      <td>0.505410</td>\n",
       "      <td>9.638104</td>\n",
       "      <td>17:29</td>\n",
       "    </tr>\n",
       "    <tr>\n",
       "      <td>27</td>\n",
       "      <td>2.231974</td>\n",
       "      <td>2.256549</td>\n",
       "      <td>0.506273</td>\n",
       "      <td>9.550076</td>\n",
       "      <td>17:22</td>\n",
       "    </tr>\n",
       "    <tr>\n",
       "      <td>28</td>\n",
       "      <td>2.197803</td>\n",
       "      <td>2.247493</td>\n",
       "      <td>0.507271</td>\n",
       "      <td>9.463983</td>\n",
       "      <td>17:23</td>\n",
       "    </tr>\n",
       "    <tr>\n",
       "      <td>29</td>\n",
       "      <td>2.193732</td>\n",
       "      <td>2.240914</td>\n",
       "      <td>0.507961</td>\n",
       "      <td>9.401924</td>\n",
       "      <td>17:19</td>\n",
       "    </tr>\n",
       "    <tr>\n",
       "      <td>30</td>\n",
       "      <td>2.191470</td>\n",
       "      <td>2.237467</td>\n",
       "      <td>0.508800</td>\n",
       "      <td>9.369571</td>\n",
       "      <td>17:19</td>\n",
       "    </tr>\n",
       "    <tr>\n",
       "      <td>31</td>\n",
       "      <td>2.167272</td>\n",
       "      <td>2.230664</td>\n",
       "      <td>0.508979</td>\n",
       "      <td>9.306041</td>\n",
       "      <td>17:22</td>\n",
       "    </tr>\n",
       "    <tr>\n",
       "      <td>32</td>\n",
       "      <td>2.182176</td>\n",
       "      <td>2.224643</td>\n",
       "      <td>0.509210</td>\n",
       "      <td>9.250175</td>\n",
       "      <td>17:20</td>\n",
       "    </tr>\n",
       "    <tr>\n",
       "      <td>33</td>\n",
       "      <td>2.124957</td>\n",
       "      <td>2.218571</td>\n",
       "      <td>0.509939</td>\n",
       "      <td>9.194184</td>\n",
       "      <td>17:20</td>\n",
       "    </tr>\n",
       "    <tr>\n",
       "      <td>34</td>\n",
       "      <td>2.165222</td>\n",
       "      <td>2.215397</td>\n",
       "      <td>0.510736</td>\n",
       "      <td>9.165044</td>\n",
       "      <td>17:20</td>\n",
       "    </tr>\n",
       "    <tr>\n",
       "      <td>35</td>\n",
       "      <td>2.140608</td>\n",
       "      <td>2.209912</td>\n",
       "      <td>0.510939</td>\n",
       "      <td>9.114913</td>\n",
       "      <td>17:20</td>\n",
       "    </tr>\n",
       "    <tr>\n",
       "      <td>36</td>\n",
       "      <td>2.153099</td>\n",
       "      <td>2.206547</td>\n",
       "      <td>0.511059</td>\n",
       "      <td>9.084296</td>\n",
       "      <td>17:20</td>\n",
       "    </tr>\n",
       "    <tr>\n",
       "      <td>37</td>\n",
       "      <td>2.123774</td>\n",
       "      <td>2.201535</td>\n",
       "      <td>0.511754</td>\n",
       "      <td>9.038873</td>\n",
       "      <td>17:34</td>\n",
       "    </tr>\n",
       "    <tr>\n",
       "      <td>38</td>\n",
       "      <td>2.110857</td>\n",
       "      <td>2.198073</td>\n",
       "      <td>0.512034</td>\n",
       "      <td>9.007638</td>\n",
       "      <td>17:22</td>\n",
       "    </tr>\n",
       "    <tr>\n",
       "      <td>39</td>\n",
       "      <td>2.115448</td>\n",
       "      <td>2.193864</td>\n",
       "      <td>0.512325</td>\n",
       "      <td>8.969805</td>\n",
       "      <td>17:20</td>\n",
       "    </tr>\n",
       "    <tr>\n",
       "      <td>40</td>\n",
       "      <td>2.106571</td>\n",
       "      <td>2.190640</td>\n",
       "      <td>0.512991</td>\n",
       "      <td>8.940931</td>\n",
       "      <td>17:22</td>\n",
       "    </tr>\n",
       "    <tr>\n",
       "      <td>41</td>\n",
       "      <td>2.111997</td>\n",
       "      <td>2.190172</td>\n",
       "      <td>0.512911</td>\n",
       "      <td>8.936752</td>\n",
       "      <td>17:20</td>\n",
       "    </tr>\n",
       "    <tr>\n",
       "      <td>42</td>\n",
       "      <td>2.106888</td>\n",
       "      <td>2.187778</td>\n",
       "      <td>0.513301</td>\n",
       "      <td>8.915377</td>\n",
       "      <td>17:20</td>\n",
       "    </tr>\n",
       "    <tr>\n",
       "      <td>43</td>\n",
       "      <td>2.075886</td>\n",
       "      <td>2.185288</td>\n",
       "      <td>0.513546</td>\n",
       "      <td>8.893207</td>\n",
       "      <td>17:20</td>\n",
       "    </tr>\n",
       "    <tr>\n",
       "      <td>44</td>\n",
       "      <td>2.099822</td>\n",
       "      <td>2.185135</td>\n",
       "      <td>0.513598</td>\n",
       "      <td>8.891846</td>\n",
       "      <td>17:21</td>\n",
       "    </tr>\n",
       "    <tr>\n",
       "      <td>45</td>\n",
       "      <td>2.082414</td>\n",
       "      <td>2.183613</td>\n",
       "      <td>0.513729</td>\n",
       "      <td>8.878328</td>\n",
       "      <td>17:21</td>\n",
       "    </tr>\n",
       "    <tr>\n",
       "      <td>46</td>\n",
       "      <td>2.100137</td>\n",
       "      <td>2.182983</td>\n",
       "      <td>0.513741</td>\n",
       "      <td>8.872733</td>\n",
       "      <td>17:22</td>\n",
       "    </tr>\n",
       "  </tbody>\n",
       "</table>"
      ],
      "text/plain": [
       "<IPython.core.display.HTML object>"
      ]
     },
     "metadata": {},
     "output_type": "display_data"
    },
    {
     "name": "stdout",
     "output_type": "stream",
     "text": [
      "Better model found at epoch 0 with valid_loss value: 3.8903777599334717.\n",
      "Better model found at epoch 1 with valid_loss value: 3.652500867843628.\n",
      "Better model found at epoch 2 with valid_loss value: 3.4023284912109375.\n",
      "Better model found at epoch 3 with valid_loss value: 3.145263195037842.\n",
      "Better model found at epoch 4 with valid_loss value: 2.9402050971984863.\n",
      "Better model found at epoch 5 with valid_loss value: 2.7729804515838623.\n",
      "Better model found at epoch 6 with valid_loss value: 2.662338972091675.\n",
      "Better model found at epoch 7 with valid_loss value: 2.5837602615356445.\n",
      "Better model found at epoch 8 with valid_loss value: 2.532968282699585.\n",
      "Better model found at epoch 9 with valid_loss value: 2.497093677520752.\n",
      "Better model found at epoch 10 with valid_loss value: 2.465897560119629.\n",
      "Better model found at epoch 11 with valid_loss value: 2.433115005493164.\n",
      "Better model found at epoch 12 with valid_loss value: 2.4128434658050537.\n",
      "Better model found at epoch 13 with valid_loss value: 2.4022417068481445.\n",
      "Better model found at epoch 14 with valid_loss value: 2.3781654834747314.\n",
      "Better model found at epoch 15 with valid_loss value: 2.364241361618042.\n",
      "Better model found at epoch 16 with valid_loss value: 2.350525379180908.\n",
      "Better model found at epoch 17 with valid_loss value: 2.338247537612915.\n",
      "Better model found at epoch 18 with valid_loss value: 2.3308913707733154.\n",
      "Better model found at epoch 19 with valid_loss value: 2.329665184020996.\n",
      "Better model found at epoch 20 with valid_loss value: 2.313441276550293.\n",
      "Better model found at epoch 21 with valid_loss value: 2.3047080039978027.\n",
      "Better model found at epoch 22 with valid_loss value: 2.2934322357177734.\n",
      "Better model found at epoch 23 with valid_loss value: 2.28596830368042.\n",
      "Better model found at epoch 24 with valid_loss value: 2.2791624069213867.\n",
      "Better model found at epoch 25 with valid_loss value: 2.274385690689087.\n",
      "Better model found at epoch 26 with valid_loss value: 2.2657244205474854.\n",
      "Better model found at epoch 27 with valid_loss value: 2.256549119949341.\n",
      "Better model found at epoch 28 with valid_loss value: 2.247493267059326.\n",
      "Better model found at epoch 29 with valid_loss value: 2.2409143447875977.\n",
      "Better model found at epoch 30 with valid_loss value: 2.2374672889709473.\n",
      "Better model found at epoch 31 with valid_loss value: 2.230663776397705.\n",
      "Better model found at epoch 32 with valid_loss value: 2.224642515182495.\n",
      "Better model found at epoch 33 with valid_loss value: 2.218571186065674.\n",
      "Better model found at epoch 34 with valid_loss value: 2.2153966426849365.\n",
      "Better model found at epoch 35 with valid_loss value: 2.209911823272705.\n",
      "Better model found at epoch 36 with valid_loss value: 2.206547260284424.\n",
      "Better model found at epoch 37 with valid_loss value: 2.2015345096588135.\n",
      "Better model found at epoch 38 with valid_loss value: 2.198072910308838.\n",
      "Better model found at epoch 39 with valid_loss value: 2.193863868713379.\n",
      "Better model found at epoch 40 with valid_loss value: 2.1906397342681885.\n",
      "Better model found at epoch 41 with valid_loss value: 2.1901721954345703.\n",
      "Better model found at epoch 42 with valid_loss value: 2.187777519226074.\n",
      "Better model found at epoch 43 with valid_loss value: 2.1852877140045166.\n",
      "Better model found at epoch 44 with valid_loss value: 2.1851346492767334.\n",
      "Better model found at epoch 45 with valid_loss value: 2.1836133003234863.\n",
      "Better model found at epoch 46 with valid_loss value: 2.182982921600342.\n",
      "No improvement since epoch 42: early stopping\n"
     ]
    }
   ],
   "source": [
    "learn.fit_one_cycle(50, 10e-4)"
   ]
  },
  {
   "cell_type": "code",
   "execution_count": null,
   "metadata": {},
   "outputs": [],
   "source": []
  },
  {
   "cell_type": "markdown",
   "metadata": {},
   "source": [
    "### Save model, encoder, and vocab"
   ]
  },
  {
   "cell_type": "code",
   "execution_count": 27,
   "metadata": {},
   "outputs": [
    {
     "data": {
      "text/plain": [
       "'/home/bp/data-analytics/models/ndc_lml_epoch_20_20220923.pkl'"
      ]
     },
     "execution_count": 27,
     "metadata": {},
     "output_type": "execute_result"
    }
   ],
   "source": [
    "models_path = '/home/bp/data-analytics/models/'\n",
    "file = models_path + 'ndc_lml_epoch_20_20220923.pkl'\n",
    "file"
   ]
  },
  {
   "cell_type": "code",
   "execution_count": 28,
   "metadata": {},
   "outputs": [
    {
     "data": {
      "text/plain": [
       "Path('/home/bp/data-analytics/models/ndc_lml_epoch_20_20220923.pkl.pth')"
      ]
     },
     "execution_count": 28,
     "metadata": {},
     "output_type": "execute_result"
    }
   ],
   "source": [
    "learn.save(file, with_opt=True, pickle_protocol=2)"
   ]
  },
  {
   "cell_type": "code",
   "execution_count": 29,
   "metadata": {},
   "outputs": [],
   "source": [
    "file = models_path + 'ndc_lml_epoch_20_encoder_20220923'\n",
    "learn.save_encoder(file)"
   ]
  },
  {
   "cell_type": "code",
   "execution_count": 30,
   "metadata": {},
   "outputs": [
    {
     "data": {
      "text/plain": [
       "'/home/bp/data-analytics/models/ndc_lml_epoch_20_encoder_20220923'"
      ]
     },
     "execution_count": 30,
     "metadata": {},
     "output_type": "execute_result"
    }
   ],
   "source": [
    "file"
   ]
  },
  {
   "cell_type": "code",
   "execution_count": 31,
   "metadata": {},
   "outputs": [
    {
     "data": {
      "text/plain": [
       "'/home/bp/data-analytics/models/ndc_lml_epoch_20_vocab_20220923.pkl'"
      ]
     },
     "execution_count": 31,
     "metadata": {},
     "output_type": "execute_result"
    }
   ],
   "source": [
    "vocab_path = models_path + 'ndc_lml_epoch_20_vocab_20220923.pkl'\n",
    "with open(vocab_path, 'wb') as f:\n",
    "    pickle.dump(vocab, f)\n",
    "vocab_path"
   ]
  },
  {
   "cell_type": "markdown",
   "metadata": {},
   "source": [
    "### Visualize Results"
   ]
  },
  {
   "cell_type": "code",
   "execution_count": 34,
   "metadata": {},
   "outputs": [
    {
     "data": {
      "text/plain": [
       "SequentialRNN(\n",
       "  (0): AWD_LSTM(\n",
       "    (encoder): Embedding(10952, 400, padding_idx=1)\n",
       "    (encoder_dp): EmbeddingDropout(\n",
       "      (emb): Embedding(10952, 400, padding_idx=1)\n",
       "    )\n",
       "    (rnns): ModuleList(\n",
       "      (0): WeightDropout(\n",
       "        (module): LSTM(400, 1152, batch_first=True)\n",
       "      )\n",
       "      (1): WeightDropout(\n",
       "        (module): LSTM(1152, 1152, batch_first=True)\n",
       "      )\n",
       "      (2): WeightDropout(\n",
       "        (module): LSTM(1152, 400, batch_first=True)\n",
       "      )\n",
       "    )\n",
       "    (input_dp): RNNDropout()\n",
       "    (hidden_dps): ModuleList(\n",
       "      (0): RNNDropout()\n",
       "      (1): RNNDropout()\n",
       "      (2): RNNDropout()\n",
       "    )\n",
       "  )\n",
       "  (1): LinearDecoder(\n",
       "    (decoder): Linear(in_features=400, out_features=10952, bias=True)\n",
       "    (output_dp): RNNDropout()\n",
       "  )\n",
       ")"
      ]
     },
     "execution_count": 34,
     "metadata": {},
     "output_type": "execute_result"
    }
   ],
   "source": [
    "learn.model"
   ]
  },
  {
   "cell_type": "code",
   "execution_count": 33,
   "metadata": {},
   "outputs": [
    {
     "data": {
      "text/plain": [
       "'senna'"
      ]
     },
     "execution_count": 33,
     "metadata": {},
     "output_type": "execute_result"
    }
   ],
   "source": [
    "# with open('jsonb_object_agg_ndcoprietary_name___json.json', 'rb') as f:\n",
    "#     ndc_lookup = json.load(f)\n",
    "#     ndc_lookup = ndc_lookup[0]['jsonb_object_agg']\n",
    "# with open('ndc_lookup.json', 'wb') as f:\n",
    "#     pickle.dump(ndc_lookup, f)\n",
    "with open('ndc_lookup.json', 'rb') as f:\n",
    "    ndc_lookup = pickle.load(f)\n",
    "ndc_lookup['00904643480']"
   ]
  },
  {
   "cell_type": "code",
   "execution_count": 42,
   "metadata": {},
   "outputs": [],
   "source": [
    "from torch.nn import functional as F\n",
    "\n",
    "def get_normalized_embeddings():\n",
    "    return F.normalize(learn.model[0].encoder.weight)\n",
    "\n",
    "def most_similar(token, embs):\n",
    "    if token[:2] == 'xx':\n",
    "        return\n",
    "#     idx = num.vocab.itos.index(token)\n",
    "    idx = vocab.index(token)\n",
    "    sims = (embs[idx] @ embs.t()).cpu().detach().numpy()\n",
    "\n",
    "    print(f'Similar to: {token}: {ndc_lookup[token]}')\n",
    "    for sim_idx in np.argsort(sims)[::-1][1:11]:\n",
    "        if vocab[sim_idx][:2] == 'xx':\n",
    "            print(f'{sims[sim_idx]:.02f}: {vocab[sim_idx]}')\n",
    "        else:\n",
    "            print(f'{sims[sim_idx]:.02f}: {vocab[sim_idx]}: {ndc_lookup[vocab[sim_idx]]}')\n",
    "            "
   ]
  },
  {
   "cell_type": "code",
   "execution_count": 43,
   "metadata": {},
   "outputs": [],
   "source": [
    "embeddings = get_normalized_embeddings()"
   ]
  },
  {
   "cell_type": "code",
   "execution_count": 47,
   "metadata": {},
   "outputs": [
    {
     "name": "stdout",
     "output_type": "stream",
     "text": [
      "Similar to: 68462010630: ondansetron\n",
      "0.99: 68462010530: ondansetron\n",
      "0.98: 68462015813: ondansetron\n",
      "0.98: 68382079101: acyclovir\n",
      "0.98: 68382004001: promethazine hydrochloride\n",
      "0.98: 68462018117: clotrimazole\n",
      "0.98: 68462079817: triamcinolone acetonide\n",
      "0.98: 68462018801: naproxen\n",
      "0.98: 68180016613: vancomycin hydrochloride\n",
      "0.98: 68462041820: lidocaine\n",
      "0.97: 70710122501: amitriptyline hydrochloride\n",
      "\n",
      "Similar to: 13668044101: celecoxib\n",
      "0.98: 13668044201: celecoxib\n",
      "0.98: 00713067653: triamcinolone acetonide\n",
      "0.98: 13668044205: celecoxib\n",
      "0.98: 00713063737: metronidazole\n",
      "0.98: 13925015901: lidocaine hydrochloride\n",
      "0.98: 00115174501: metaxalone\n",
      "0.98: 13913001203: diclofenac potassium\n",
      "0.98: 42858049340: buprenorphine\n",
      "0.98: 00713022615: triamcinolone acetonide\n",
      "0.98: 13811068930: tramadol hydrochloride\n",
      "\n",
      "Similar to: 42806015901: hydroxyzine hydrochloride\n",
      "0.99: 72888001405: cyclobenzaprine hydrochloride\n",
      "0.99: 55111059660: memantine\n",
      "0.99: 00093753656: anastrozole\n",
      "0.99: 00006412102: human papillomavirus 9-valent vaccine, recombinant\n"
     ]
    },
    {
     "ename": "KeyError",
     "evalue": "'96295012777'",
     "output_type": "error",
     "traceback": [
      "\u001b[0;31m---------------------------------------------------------------------------\u001b[0m",
      "\u001b[0;31mKeyError\u001b[0m                                  Traceback (most recent call last)",
      "\u001b[0;32m/tmp/ipykernel_58277/1145003472.py\u001b[0m in \u001b[0;36m<module>\u001b[0;34m\u001b[0m\n\u001b[1;32m      1\u001b[0m \u001b[0;32mfor\u001b[0m \u001b[0mcode\u001b[0m \u001b[0;32min\u001b[0m \u001b[0mrandom\u001b[0m\u001b[0;34m.\u001b[0m\u001b[0msample\u001b[0m\u001b[0;34m(\u001b[0m\u001b[0mvocab\u001b[0m\u001b[0;34m,\u001b[0m \u001b[0;36m10\u001b[0m\u001b[0;34m)\u001b[0m\u001b[0;34m:\u001b[0m\u001b[0;34m\u001b[0m\u001b[0;34m\u001b[0m\u001b[0m\n\u001b[0;32m----> 2\u001b[0;31m     \u001b[0mmost_similar\u001b[0m\u001b[0;34m(\u001b[0m\u001b[0mcode\u001b[0m\u001b[0;34m,\u001b[0m \u001b[0membeddings\u001b[0m\u001b[0;34m)\u001b[0m\u001b[0;34m\u001b[0m\u001b[0;34m\u001b[0m\u001b[0m\n\u001b[0m\u001b[1;32m      3\u001b[0m     \u001b[0mprint\u001b[0m\u001b[0;34m(\u001b[0m\u001b[0;34m''\u001b[0m\u001b[0;34m)\u001b[0m\u001b[0;34m\u001b[0m\u001b[0;34m\u001b[0m\u001b[0m\n",
      "\u001b[0;32m/tmp/ipykernel_58277/3660750827.py\u001b[0m in \u001b[0;36mmost_similar\u001b[0;34m(token, embs)\u001b[0m\n\u001b[1;32m     16\u001b[0m             \u001b[0mprint\u001b[0m\u001b[0;34m(\u001b[0m\u001b[0;34mf'{sims[sim_idx]:.02f}: {vocab[sim_idx]}'\u001b[0m\u001b[0;34m)\u001b[0m\u001b[0;34m\u001b[0m\u001b[0;34m\u001b[0m\u001b[0m\n\u001b[1;32m     17\u001b[0m         \u001b[0;32melse\u001b[0m\u001b[0;34m:\u001b[0m\u001b[0;34m\u001b[0m\u001b[0;34m\u001b[0m\u001b[0m\n\u001b[0;32m---> 18\u001b[0;31m             \u001b[0mprint\u001b[0m\u001b[0;34m(\u001b[0m\u001b[0;34mf'{sims[sim_idx]:.02f}: {vocab[sim_idx]}: {ndc_lookup[vocab[sim_idx]]}'\u001b[0m\u001b[0;34m)\u001b[0m\u001b[0;34m\u001b[0m\u001b[0;34m\u001b[0m\u001b[0m\n\u001b[0m\u001b[1;32m     19\u001b[0m \u001b[0;34m\u001b[0m\u001b[0m\n",
      "\u001b[0;31mKeyError\u001b[0m: '96295012777'"
     ]
    }
   ],
   "source": [
    "for code in random.sample(vocab, 10):\n",
    "    most_similar(code, embeddings)\n",
    "    print('')"
   ]
  },
  {
   "cell_type": "code",
   "execution_count": null,
   "metadata": {},
   "outputs": [],
   "source": []
  },
  {
   "cell_type": "code",
   "execution_count": null,
   "metadata": {},
   "outputs": [],
   "source": []
  },
  {
   "cell_type": "code",
   "execution_count": null,
   "metadata": {},
   "outputs": [],
   "source": []
  },
  {
   "cell_type": "code",
   "execution_count": null,
   "metadata": {},
   "outputs": [],
   "source": []
  },
  {
   "cell_type": "code",
   "execution_count": null,
   "metadata": {},
   "outputs": [],
   "source": []
  },
  {
   "cell_type": "code",
   "execution_count": 39,
   "metadata": {},
   "outputs": [],
   "source": []
  },
  {
   "cell_type": "code",
   "execution_count": null,
   "metadata": {},
   "outputs": [],
   "source": []
  },
  {
   "cell_type": "code",
   "execution_count": null,
   "metadata": {},
   "outputs": [],
   "source": []
  },
  {
   "cell_type": "code",
   "execution_count": null,
   "metadata": {},
   "outputs": [],
   "source": []
  },
  {
   "cell_type": "code",
   "execution_count": null,
   "metadata": {},
   "outputs": [],
   "source": []
  },
  {
   "cell_type": "code",
   "execution_count": null,
   "metadata": {},
   "outputs": [],
   "source": []
  },
  {
   "cell_type": "code",
   "execution_count": null,
   "metadata": {},
   "outputs": [],
   "source": []
  },
  {
   "cell_type": "code",
   "execution_count": null,
   "metadata": {},
   "outputs": [],
   "source": []
  },
  {
   "cell_type": "code",
   "execution_count": null,
   "metadata": {},
   "outputs": [],
   "source": []
  },
  {
   "cell_type": "code",
   "execution_count": null,
   "metadata": {},
   "outputs": [],
   "source": []
  },
  {
   "cell_type": "code",
   "execution_count": null,
   "metadata": {},
   "outputs": [],
   "source": []
  },
  {
   "cell_type": "code",
   "execution_count": null,
   "metadata": {},
   "outputs": [],
   "source": []
  }
 ],
 "metadata": {
  "kernelspec": {
   "display_name": "Python 3 (ipykernel)",
   "language": "python",
   "name": "python3"
  },
  "language_info": {
   "codemirror_mode": {
    "name": "ipython",
    "version": 3
   },
   "file_extension": ".py",
   "mimetype": "text/x-python",
   "name": "python",
   "nbconvert_exporter": "python",
   "pygments_lexer": "ipython3",
   "version": "3.8.3"
  }
 },
 "nbformat": 4,
 "nbformat_minor": 4
}
