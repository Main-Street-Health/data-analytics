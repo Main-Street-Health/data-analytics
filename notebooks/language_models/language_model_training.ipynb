{
 "cells": [
  {
   "cell_type": "code",
   "execution_count": 1,
   "metadata": {},
   "outputs": [],
   "source": [
    "import os\n",
    "import sys\n",
    "import re\n",
    "import time\n",
    "import random\n",
    "import warnings\n",
    "import collections\n",
    "from tqdm import tqdm\n",
    "import numpy as np\n",
    "import pandas as pd\n",
    "import matplotlib.pyplot as plt\n",
    "import matplotlib.gridspec as gridspec\n",
    "import seaborn as sns\n",
    "\n",
    "# sys.path.append('../src')\n",
    "# import cb_utils\n",
    "\n",
    "sns.set(style=\"darkgrid\")\n",
    "pd.options.display.max_columns = 500\n",
    "\n",
    "%load_ext autoreload\n",
    "%autoreload 2"
   ]
  },
  {
   "cell_type": "code",
   "execution_count": null,
   "metadata": {},
   "outputs": [],
   "source": []
  },
  {
   "cell_type": "code",
   "execution_count": null,
   "metadata": {},
   "outputs": [],
   "source": []
  },
  {
   "cell_type": "code",
   "execution_count": null,
   "metadata": {},
   "outputs": [],
   "source": []
  },
  {
   "cell_type": "code",
   "execution_count": null,
   "metadata": {},
   "outputs": [],
   "source": []
  },
  {
   "cell_type": "markdown",
   "metadata": {},
   "source": [
    "### Modelling"
   ]
  },
  {
   "cell_type": "code",
   "execution_count": null,
   "metadata": {},
   "outputs": [],
   "source": [
    "from fastai.text.all import *"
   ]
  },
  {
   "cell_type": "code",
   "execution_count": null,
   "metadata": {},
   "outputs": [],
   "source": [
    "path = Path('../..')"
   ]
  },
  {
   "cell_type": "code",
   "execution_count": null,
   "metadata": {},
   "outputs": [],
   "source": [
    "files = get_text_files(path, folders = ['just_icds'])"
   ]
  },
  {
   "cell_type": "code",
   "execution_count": null,
   "metadata": {},
   "outputs": [
    {
     "data": {
      "text/plain": [
       "79174"
      ]
     },
     "execution_count": 5,
     "metadata": {},
     "output_type": "execute_result"
    }
   ],
   "source": [
    "len(files)"
   ]
  },
  {
   "cell_type": "code",
   "execution_count": 10,
   "metadata": {},
   "outputs": [
    {
     "data": {
      "text/plain": [
       "'xxbos e881 z23 e785 r5381 g620 q828 f410 ttlc_60 z1331 r000 ttlc_15 j441 r9'"
      ]
     },
     "execution_count": 10,
     "metadata": {},
     "output_type": "execute_result"
    }
   ],
   "source": [
    "txt = files[10].open().read(); txt[:75]"
   ]
  },
  {
   "cell_type": "code",
   "execution_count": 13,
   "metadata": {},
   "outputs": [],
   "source": [
    "txts = L(o.open().read().split(' ') for o in files)"
   ]
  },
  {
   "cell_type": "code",
   "execution_count": 14,
   "metadata": {},
   "outputs": [
    {
     "data": {
      "text/plain": [
       "79174"
      ]
     },
     "execution_count": 14,
     "metadata": {},
     "output_type": "execute_result"
    }
   ],
   "source": [
    "len(txts)"
   ]
  },
  {
   "cell_type": "code",
   "execution_count": 80,
   "metadata": {},
   "outputs": [],
   "source": [
    "lens = [len(t) for t in txts]"
   ]
  },
  {
   "cell_type": "code",
   "execution_count": 82,
   "metadata": {},
   "outputs": [
    {
     "data": {
      "text/plain": [
       "(445.10812893121476, 14228, 1)"
      ]
     },
     "execution_count": 82,
     "metadata": {},
     "output_type": "execute_result"
    }
   ],
   "source": [
    "np.mean(lens), np.max(lens), np.min(lens)"
   ]
  },
  {
   "cell_type": "code",
   "execution_count": 15,
   "metadata": {},
   "outputs": [],
   "source": [
    "num = Numericalize(min_freq=20)\n",
    "num.setup(txts)"
   ]
  },
  {
   "cell_type": "code",
   "execution_count": 16,
   "metadata": {},
   "outputs": [
    {
     "data": {
      "text/plain": [
       "\"(#14008) ['xxunk','xxpad','xxbos','xxeos','xxfld','xxrep','xxwrep','xxup','xxmaj','ttlc_1','i10','ttlc_5','ttlc_10','ttlc_2','e119','n186','j449','ttlc_30','m6281','z992'...]\""
      ]
     },
     "execution_count": 16,
     "metadata": {},
     "output_type": "execute_result"
    }
   ],
   "source": [
    "coll_repr(num.vocab, 20)"
   ]
  },
  {
   "cell_type": "code",
   "execution_count": 17,
   "metadata": {},
   "outputs": [],
   "source": [
    "nums = txts.map(num)"
   ]
  },
  {
   "cell_type": "code",
   "execution_count": null,
   "metadata": {},
   "outputs": [],
   "source": [
    "' '.join(num.vocab[o] for o in nums[0])"
   ]
  },
  {
   "cell_type": "code",
   "execution_count": 109,
   "metadata": {},
   "outputs": [],
   "source": [
    "dl = LMDataLoader(nums)"
   ]
  },
  {
   "cell_type": "code",
   "execution_count": 110,
   "metadata": {},
   "outputs": [],
   "source": [
    "x,y = first(dl)"
   ]
  },
  {
   "cell_type": "code",
   "execution_count": 112,
   "metadata": {},
   "outputs": [
    {
     "data": {
      "text/plain": [
       "(torch.Size([64, 72]), torch.Size([64, 72]))"
      ]
     },
     "execution_count": 112,
     "metadata": {},
     "output_type": "execute_result"
    }
   ],
   "source": [
    "x.shape, y.shape"
   ]
  },
  {
   "cell_type": "code",
   "execution_count": 113,
   "metadata": {},
   "outputs": [
    {
     "data": {
      "text/plain": [
       "'xxbos ttlc_0 i1311 n185 z905 r630 r634 d631 ttlc_0 i1311 n185 z905 r630 r634 d631 ttlc_0 i1311 n185 z905 r630'"
      ]
     },
     "execution_count": 113,
     "metadata": {},
     "output_type": "execute_result"
    }
   ],
   "source": [
    "' '.join(num.vocab[o] for o in x[0][:20])"
   ]
  },
  {
   "cell_type": "code",
   "execution_count": 114,
   "metadata": {},
   "outputs": [
    {
     "data": {
      "text/plain": [
       "'ttlc_0 i1311 n185 z905 r630 r634 d631 ttlc_0 i1311 n185 z905 r630 r634 d631 ttlc_0 i1311 n185 z905 r630 r634'"
      ]
     },
     "execution_count": 114,
     "metadata": {},
     "output_type": "execute_result"
    }
   ],
   "source": [
    "' '.join(num.vocab[o] for o in y[0][:20])"
   ]
  },
  {
   "cell_type": "code",
   "execution_count": null,
   "metadata": {},
   "outputs": [],
   "source": []
  },
  {
   "cell_type": "code",
   "execution_count": 120,
   "metadata": {},
   "outputs": [
    {
     "data": {
      "text/plain": [
       "\u001b[0;31mType:\u001b[0m        LMDataLoader\n",
       "\u001b[0;31mString form:\u001b[0m <fastai.text.data.LMDataLoader object at 0x1583917c0>\n",
       "\u001b[0;31mLength:\u001b[0m      463\n",
       "\u001b[0;31mFile:\u001b[0m        ~/.local/share/virtualenvs/data-analytics-1yVNxZKx/lib/python3.8/site-packages/fastai/text/data.py\n",
       "\u001b[0;31mDocstring:\u001b[0m   A `DataLoader` suitable for language modeling\n"
      ]
     },
     "metadata": {},
     "output_type": "display_data"
    }
   ],
   "source": [
    "dl?"
   ]
  },
  {
   "cell_type": "code",
   "execution_count": 20,
   "metadata": {},
   "outputs": [
    {
     "data": {
      "text/html": [],
      "text/plain": [
       "<IPython.core.display.HTML object>"
      ]
     },
     "metadata": {},
     "output_type": "display_data"
    }
   ],
   "source": [
    "dls = TextDataLoaders.from_folder(\n",
    "    path / 'just_icds', valid_pct=.1,\n",
    "    seed=None,\n",
    "    text_vocab=num.vocab,\n",
    "    is_lm=True,\n",
    "    tok_tfm=None,\n",
    "    seq_len=72,\n",
    "    backwards=False,\n",
    "    bs=64,\n",
    "    val_bs=None,\n",
    "    shuffle=True,\n",
    "    device=None\n",
    ")"
   ]
  },
  {
   "cell_type": "code",
   "execution_count": null,
   "metadata": {},
   "outputs": [],
   "source": []
  },
  {
   "cell_type": "code",
   "execution_count": 21,
   "metadata": {},
   "outputs": [],
   "source": [
    "learn = language_model_learner(\n",
    "    dls=dls,\n",
    "    arch=AWD_LSTM,\n",
    "    drop_mult=1,\n",
    "    pretrained=False,\n",
    "    metrics=[accuracy, Perplexity()]).to_fp16()"
   ]
  },
  {
   "cell_type": "code",
   "execution_count": 22,
   "metadata": {},
   "outputs": [
    {
     "data": {
      "text/html": [],
      "text/plain": [
       "<IPython.core.display.HTML object>"
      ]
     },
     "metadata": {},
     "output_type": "display_data"
    },
    {
     "name": "stderr",
     "output_type": "stream",
     "text": [
      "/home/bp/.local/share/virtualenvs/data-analytics-qWXImv-u/lib/python3.8/site-packages/fastai/callback/schedule.py:269: UserWarning: color is redundantly defined by the 'color' keyword argument and the fmt string \"ro\" (-> color='r'). The keyword argument will take precedence.\n",
      "  ax.plot(val, idx, 'ro', label=nm, c=color)\n"
     ]
    },
    {
     "data": {
      "text/plain": [
       "SuggestedLRs(valley=0.0002290867705596611)"
      ]
     },
     "execution_count": 22,
     "metadata": {},
     "output_type": "execute_result"
    },
    {
     "data": {
      "image/png": "[encoded data removed]",
      "text/plain": [
       "<Figure size 432x288 with 1 Axes>"
      ]
     },
     "metadata": {},
     "output_type": "display_data"
    }
   ],
   "source": [
    "learn.lr_find()"
   ]
  },
  {
   "cell_type": "code",
   "execution_count": 23,
   "metadata": {},
   "outputs": [
    {
     "data": {
      "text/html": [
       "<table border=\"1\" class=\"dataframe\">\n",
       "  <thead>\n",
       "    <tr style=\"text-align: left;\">\n",
       "      <th>epoch</th>\n",
       "      <th>train_loss</th>\n",
       "      <th>valid_loss</th>\n",
       "      <th>accuracy</th>\n",
       "      <th>perplexity</th>\n",
       "      <th>time</th>\n",
       "    </tr>\n",
       "  </thead>\n",
       "  <tbody>\n",
       "    <tr>\n",
       "      <td>0</td>\n",
       "      <td>4.963367</td>\n",
       "      <td>4.985633</td>\n",
       "      <td>0.188913</td>\n",
       "      <td>146.296143</td>\n",
       "      <td>22:36</td>\n",
       "    </tr>\n",
       "  </tbody>\n",
       "</table>"
      ],
      "text/plain": [
       "<IPython.core.display.HTML object>"
      ]
     },
     "metadata": {},
     "output_type": "display_data"
    }
   ],
   "source": [
    "learn.fit_one_cycle(1, 2e-4)"
   ]
  },
  {
   "cell_type": "code",
   "execution_count": 26,
   "metadata": {},
   "outputs": [
    {
     "data": {
      "text/html": [
       "<table border=\"1\" class=\"dataframe\">\n",
       "  <thead>\n",
       "    <tr style=\"text-align: left;\">\n",
       "      <th>epoch</th>\n",
       "      <th>train_loss</th>\n",
       "      <th>valid_loss</th>\n",
       "      <th>accuracy</th>\n",
       "      <th>perplexity</th>\n",
       "      <th>time</th>\n",
       "    </tr>\n",
       "  </thead>\n",
       "  <tbody>\n",
       "    <tr>\n",
       "      <td>0</td>\n",
       "      <td>4.878683</td>\n",
       "      <td>4.882506</td>\n",
       "      <td>0.199884</td>\n",
       "      <td>131.960938</td>\n",
       "      <td>22:50</td>\n",
       "    </tr>\n",
       "    <tr>\n",
       "      <td>1</td>\n",
       "      <td>4.484203</td>\n",
       "      <td>4.615439</td>\n",
       "      <td>0.228636</td>\n",
       "      <td>101.032166</td>\n",
       "      <td>22:38</td>\n",
       "    </tr>\n",
       "    <tr>\n",
       "      <td>2</td>\n",
       "      <td>3.830352</td>\n",
       "      <td>4.015234</td>\n",
       "      <td>0.322365</td>\n",
       "      <td>55.436264</td>\n",
       "      <td>22:33</td>\n",
       "    </tr>\n",
       "    <tr>\n",
       "      <td>3</td>\n",
       "      <td>3.487774</td>\n",
       "      <td>3.535611</td>\n",
       "      <td>0.396861</td>\n",
       "      <td>34.315971</td>\n",
       "      <td>22:36</td>\n",
       "    </tr>\n",
       "    <tr>\n",
       "      <td>4</td>\n",
       "      <td>3.211609</td>\n",
       "      <td>3.292233</td>\n",
       "      <td>0.427635</td>\n",
       "      <td>26.902870</td>\n",
       "      <td>22:37</td>\n",
       "    </tr>\n",
       "    <tr>\n",
       "      <td>5</td>\n",
       "      <td>3.179427</td>\n",
       "      <td>3.152504</td>\n",
       "      <td>0.443818</td>\n",
       "      <td>23.394581</td>\n",
       "      <td>22:32</td>\n",
       "    </tr>\n",
       "    <tr>\n",
       "      <td>6</td>\n",
       "      <td>3.101207</td>\n",
       "      <td>3.068931</td>\n",
       "      <td>0.452708</td>\n",
       "      <td>21.518885</td>\n",
       "      <td>22:34</td>\n",
       "    </tr>\n",
       "    <tr>\n",
       "      <td>7</td>\n",
       "      <td>3.015949</td>\n",
       "      <td>3.006184</td>\n",
       "      <td>0.461579</td>\n",
       "      <td>20.210133</td>\n",
       "      <td>22:52</td>\n",
       "    </tr>\n",
       "    <tr>\n",
       "      <td>8</td>\n",
       "      <td>3.123395</td>\n",
       "      <td>2.957121</td>\n",
       "      <td>0.467365</td>\n",
       "      <td>19.242495</td>\n",
       "      <td>22:49</td>\n",
       "    </tr>\n",
       "    <tr>\n",
       "      <td>9</td>\n",
       "      <td>3.013978</td>\n",
       "      <td>2.925106</td>\n",
       "      <td>0.471856</td>\n",
       "      <td>18.636208</td>\n",
       "      <td>22:33</td>\n",
       "    </tr>\n",
       "    <tr>\n",
       "      <td>10</td>\n",
       "      <td>2.872290</td>\n",
       "      <td>2.897101</td>\n",
       "      <td>0.474734</td>\n",
       "      <td>18.121534</td>\n",
       "      <td>22:34</td>\n",
       "    </tr>\n",
       "    <tr>\n",
       "      <td>11</td>\n",
       "      <td>2.870242</td>\n",
       "      <td>2.873805</td>\n",
       "      <td>0.477492</td>\n",
       "      <td>17.704256</td>\n",
       "      <td>22:59</td>\n",
       "    </tr>\n",
       "    <tr>\n",
       "      <td>12</td>\n",
       "      <td>2.833498</td>\n",
       "      <td>2.858053</td>\n",
       "      <td>0.479680</td>\n",
       "      <td>17.427563</td>\n",
       "      <td>22:44</td>\n",
       "    </tr>\n",
       "    <tr>\n",
       "      <td>13</td>\n",
       "      <td>2.787504</td>\n",
       "      <td>2.842799</td>\n",
       "      <td>0.481485</td>\n",
       "      <td>17.163742</td>\n",
       "      <td>22:34</td>\n",
       "    </tr>\n",
       "    <tr>\n",
       "      <td>14</td>\n",
       "      <td>2.836818</td>\n",
       "      <td>2.832588</td>\n",
       "      <td>0.482589</td>\n",
       "      <td>16.989380</td>\n",
       "      <td>22:37</td>\n",
       "    </tr>\n",
       "    <tr>\n",
       "      <td>15</td>\n",
       "      <td>2.636890</td>\n",
       "      <td>2.823992</td>\n",
       "      <td>0.483591</td>\n",
       "      <td>16.843958</td>\n",
       "      <td>22:36</td>\n",
       "    </tr>\n",
       "    <tr>\n",
       "      <td>16</td>\n",
       "      <td>2.784053</td>\n",
       "      <td>2.819405</td>\n",
       "      <td>0.484195</td>\n",
       "      <td>16.766872</td>\n",
       "      <td>22:42</td>\n",
       "    </tr>\n",
       "    <tr>\n",
       "      <td>17</td>\n",
       "      <td>2.757162</td>\n",
       "      <td>2.816382</td>\n",
       "      <td>0.484599</td>\n",
       "      <td>16.716265</td>\n",
       "      <td>22:38</td>\n",
       "    </tr>\n",
       "    <tr>\n",
       "      <td>18</td>\n",
       "      <td>2.775798</td>\n",
       "      <td>2.815182</td>\n",
       "      <td>0.484779</td>\n",
       "      <td>16.696209</td>\n",
       "      <td>22:39</td>\n",
       "    </tr>\n",
       "    <tr>\n",
       "      <td>19</td>\n",
       "      <td>2.727488</td>\n",
       "      <td>2.815049</td>\n",
       "      <td>0.484832</td>\n",
       "      <td>16.693993</td>\n",
       "      <td>22:35</td>\n",
       "    </tr>\n",
       "  </tbody>\n",
       "</table>"
      ],
      "text/plain": [
       "<IPython.core.display.HTML object>"
      ]
     },
     "metadata": {},
     "output_type": "display_data"
    }
   ],
   "source": [
    "learn.fit_one_cycle(20, 2e-4)"
   ]
  },
  {
   "cell_type": "code",
   "execution_count": 27,
   "metadata": {},
   "outputs": [
    {
     "data": {
      "text/plain": [
       "'/home/bp/data-analytics/modelslml_epoch_20_20220918.pkl'"
      ]
     },
     "execution_count": 27,
     "metadata": {},
     "output_type": "execute_result"
    }
   ],
   "source": [
    "models_path = '/home/bp/data-analytics/models'\n",
    "file = models_path + 'lml_epoch_20_20220918.pkl'\n",
    "file"
   ]
  },
  {
   "cell_type": "code",
   "execution_count": 28,
   "metadata": {},
   "outputs": [
    {
     "data": {
      "text/plain": [
       "Path('/home/bp/data-analytics/modelslml_epoch_20_20220918.pkl.pth')"
      ]
     },
     "execution_count": 28,
     "metadata": {},
     "output_type": "execute_result"
    }
   ],
   "source": [
    "learn.save(file, with_opt=True, pickle_protocol=2)"
   ]
  },
  {
   "cell_type": "code",
   "execution_count": 83,
   "metadata": {},
   "outputs": [],
   "source": [
    "file = models_path + 'lml_epoch_20_encoder_20220918'\n",
    "learn.save_encoder(file)"
   ]
  },
  {
   "cell_type": "code",
   "execution_count": 87,
   "metadata": {},
   "outputs": [
    {
     "data": {
      "text/plain": [
       "'/home/bp/data-analytics/modelslml_epoch_20_encoder_20220918'"
      ]
     },
     "execution_count": 87,
     "metadata": {},
     "output_type": "execute_result"
    }
   ],
   "source": [
    "file"
   ]
  },
  {
   "cell_type": "code",
   "execution_count": 86,
   "metadata": {},
   "outputs": [
    {
     "data": {
      "text/plain": [
       "'/home/bp/data-analytics/modelslml_epoch_20_vocab_20220918.pkl'"
      ]
     },
     "execution_count": 86,
     "metadata": {},
     "output_type": "execute_result"
    }
   ],
   "source": [
    "vocab_path = models_path + 'lml_epoch_20_vocab_20220918.pkl'\n",
    "with open(vocab_path, 'wb') as f:\n",
    "    pickle.dump(num.vocab, f)\n",
    "vocab_path"
   ]
  },
  {
   "cell_type": "markdown",
   "metadata": {},
   "source": [
    "### Visualize Results"
   ]
  },
  {
   "cell_type": "code",
   "execution_count": 29,
   "metadata": {},
   "outputs": [
    {
     "data": {
      "text/plain": [
       "SequentialRNN(\n",
       "  (0): AWD_LSTM(\n",
       "    (encoder): Embedding(14008, 400, padding_idx=1)\n",
       "    (encoder_dp): EmbeddingDropout(\n",
       "      (emb): Embedding(14008, 400, padding_idx=1)\n",
       "    )\n",
       "    (rnns): ModuleList(\n",
       "      (0): WeightDropout(\n",
       "        (module): LSTM(400, 1152, batch_first=True)\n",
       "      )\n",
       "      (1): WeightDropout(\n",
       "        (module): LSTM(1152, 1152, batch_first=True)\n",
       "      )\n",
       "      (2): WeightDropout(\n",
       "        (module): LSTM(1152, 400, batch_first=True)\n",
       "      )\n",
       "    )\n",
       "    (input_dp): RNNDropout()\n",
       "    (hidden_dps): ModuleList(\n",
       "      (0): RNNDropout()\n",
       "      (1): RNNDropout()\n",
       "      (2): RNNDropout()\n",
       "    )\n",
       "  )\n",
       "  (1): LinearDecoder(\n",
       "    (decoder): Linear(in_features=400, out_features=14008, bias=True)\n",
       "    (output_dp): RNNDropout()\n",
       "  )\n",
       ")"
      ]
     },
     "execution_count": 29,
     "metadata": {},
     "output_type": "execute_result"
    }
   ],
   "source": [
    "learn.model"
   ]
  },
  {
   "cell_type": "code",
   "execution_count": 75,
   "metadata": {},
   "outputs": [],
   "source": [
    "from torch.nn import functional as F\n",
    "\n",
    "def get_normalized_embeddings():\n",
    "    return F.normalize(learn.model[0].encoder.weight)\n",
    "\n",
    "def most_similar(token, embs):\n",
    "    if token[:2] == 'xx':\n",
    "        return\n",
    "#     idx = num.vocab.itos.index(token)\n",
    "    idx = num.vocab.index(token)\n",
    "    sims = (embs[idx] @ embs.t()).cpu().detach().numpy()\n",
    "\n",
    "    print(f'Similar to: {token}: {icd_lookup[token]}')\n",
    "    for sim_idx in np.argsort(sims)[::-1][1:11]:\n",
    "        if num.vocab[sim_idx][:2] == 'xx':\n",
    "            print(f'{sims[sim_idx]:.02f}: {num.vocab[sim_idx]}')\n",
    "        else:\n",
    "            print(f'{sims[sim_idx]:.02f}: {num.vocab[sim_idx]}: {icd_lookup[num.vocab[sim_idx]]}')\n",
    "            "
   ]
  },
  {
   "cell_type": "code",
   "execution_count": 76,
   "metadata": {},
   "outputs": [],
   "source": [
    "from sklearn.manifold import TSNE\n",
    "import matplotlib.pyplot as plt\n",
    "import random\n",
    "import json\n",
    "\n",
    "\n",
    "with open('icd_descr_lookup.json', 'r') as f:\n",
    "    icd_lookup = json.load(f)\n",
    "\n",
    "def tsne_plot(model):\n",
    "    \"Creates and TSNE model and plots it\"\n",
    "    labels = []\n",
    "    tokens = []\n",
    "\n",
    "    for word in model.wv.vocab:\n",
    "        tokens.append(model[word])\n",
    "        labels.append(word)\n",
    "    \n",
    "    tsne_model = TSNE(perplexity=40, n_components=2, init='pca', n_iter=2500, random_state=23)\n",
    "    new_values = tsne_model.fit_transform(tokens)\n",
    "\n",
    "    x = []\n",
    "    y = []\n",
    "    for value in new_values:\n",
    "        x.append(value[0])\n",
    "        y.append(value[1])\n",
    "        \n",
    "    plt.figure(figsize=(16, 16)) \n",
    "    for i in range(len(x)):\n",
    "        plt.scatter(x[i],y[i])\n",
    "        plt.annotate(labels[i],\n",
    "                     xy=(x[i], y[i]),\n",
    "                     xytext=(5, 2),\n",
    "                     textcoords='offset points',\n",
    "                     ha='right',\n",
    "                     va='bottom')\n",
    "    plt.show()"
   ]
  },
  {
   "cell_type": "code",
   "execution_count": 77,
   "metadata": {},
   "outputs": [
    {
     "name": "stdout",
     "output_type": "stream",
     "text": [
      "Similar to: e11: Type 2 diabetes mellitus\n",
      "0.87: r73: Elevated blood glucose level\n",
      "0.86: m79: Other and unspecified soft tissue disorders, not elsewhere classified\n",
      "0.86: e10: Type 1 diabetes mellitus\n",
      "0.86: e78: Disorders of lipoprotein metabolism and other lipidemias\n",
      "0.86: e08: Diabetes mellitus due to underlying condition\n",
      "0.85: d64: Other anemias\n",
      "0.85: m54: Dorsalgia\n",
      "0.85: m25: Other joint disorder, not elsewhere classified\n",
      "0.85: r60: Edema, not elsewhere classified\n",
      "0.85: z00: Encounter for general examination without complaint, suspected or reported diagnosis\n"
     ]
    }
   ],
   "source": [
    "embeddings = get_normalized_embeddings()\n",
    "most_similar('e11', embeddings)"
   ]
  },
  {
   "cell_type": "code",
   "execution_count": 78,
   "metadata": {},
   "outputs": [
    {
     "name": "stdout",
     "output_type": "stream",
     "text": [
      "Similar to: m8588: Other specified disorders of bone density and structure, other site\n",
      "0.95: m85851: Other specified disorders of bone density and structure, right thigh\n",
      "0.95: m85852: Other specified disorders of bone density and structure, left thigh\n",
      "0.94: m8589: Other specified disorders of bone density and structure, multiple sites\n",
      "0.93: z780: Asymptomatic menopausal state\n",
      "0.93: z13820: Encounter for screening for osteoporosis\n",
      "0.92: e2839: Other primary ovarian failure\n",
      "0.91: m85859: Other specified disorders of bone density and structure, unspecified thigh\n",
      "0.91: n958: Other specified menopausal and perimenopausal disorders\n",
      "0.90: r920: Mammographic microcalcification found on diagnostic imaging of breast\n",
      "0.90: n6011: Diffuse cystic mastopathy of right breast\n",
      "\n",
      "Similar to: q203: Discordant ventriculoarterial connection\n",
      "0.94: q2542: Hypoplasia of aorta\n",
      "0.94: q204: Double inlet ventricle\n",
      "0.94: q200: Common arterial trunk\n",
      "0.94: p7889: Other specified perinatal digestive system disorders\n",
      "0.94: p2810: Unspecified atelectasis of newborn\n",
      "0.94: q226: Hypoplastic right heart syndrome\n",
      "0.94: t82847a: Pain due to cardiac prosthetic devices, implants and grafts, initial encounter\n",
      "0.94: i2783: Eisenmenger's syndrome\n",
      "0.93: q228: Other congenital malformations of tricuspid valve\n",
      "0.93: i82b13: Acute embolism and thrombosis of subclavian vein, bilateral\n",
      "\n",
      "Similar to: h349: Unspecified retinal vascular occlusion\n",
      "0.96: h353120: Nonexudative age-related macular degeneration, left eye, stage unspecified\n",
      "0.96: h11041: Peripheral pterygium, stationary, right eye\n",
      "0.96: h02821: Cysts of right upper eyelid\n",
      "0.96: h0259: Other disorders affecting eyelid function\n",
      "0.96: b999: Unspecified infectious disease\n",
      "0.96: t868412: Corneal transplant failure, left eye\n",
      "0.96: g8111: Spastic hemiplegia affecting right dominant side\n",
      "0.96: e113499: Type 2 diabetes mellitus with severe nonproliferative diabetic retinopathy without macular edema, unspecified eye\n",
      "0.96: z813: Family history of other psychoactive substance abuse and dependence\n",
      "0.96: h11053: Peripheral pterygium, progressive, bilateral\n",
      "\n",
      "Similar to: c83: Non-follicular lymphoma\n",
      "0.96: d70: Neutropenia\n",
      "0.95: a31: Infection due to other mycobacteria\n",
      "0.95: c77: Secondary and unspecified malignant neoplasm of lymph nodes\n",
      "0.95: t46: Poisoning by, adverse effect of and underdosing of agents primarily affecting the cardiovascular system\n",
      "0.95: n47: Disorders of prepuce\n",
      "0.95: e23: Hypofunction and other disorders of the pituitary gland\n",
      "0.95: i7772: Dissection of iliac artery\n",
      "0.95: m31: Other necrotizing vasculopathies\n",
      "0.95: c92: Myeloid leukemia\n",
      "0.95: c48: Malignant neoplasm of retroperitoneum and peritoneum\n",
      "\n",
      "Similar to: c718: Malignant neoplasm of overlapping sites of brain\n",
      "0.96: m23331: Other meniscus derangements, other medial meniscus, right knee\n",
      "0.96: s12000a: Unspecified displaced fracture of first cervical vertebra, initial encounter for closed fracture\n",
      "0.96: h5000: Unspecified esotropia\n",
      "0.96: t83192s: Other mechanical complication of indwelling ureteral stent, sequela\n",
      "0.96: s43014d: Anterior dislocation of right humerus, subsequent encounter\n",
      "0.96: a199: Miliary tuberculosis, unspecified\n",
      "0.96: c710: Malignant neoplasm of cerebrum, except lobes and ventricles\n",
      "0.96: s41111a: Laceration without foreign body of right upper arm, initial encounter\n",
      "0.96: t424x1s: Poisoning by benzodiazepines, accidental (unintentional), sequela\n",
      "0.96: t25212d: Burn of second degree of left ankle, subsequent encounter\n",
      "\n",
      "Similar to: s14154d: Other incomplete lesion at C4 level of cervical spinal cord, subsequent encounter\n",
      "0.95: e74810: Glucose transporter protein type 1 deficiency\n",
      "0.95: c113: Malignant neoplasm of anterior wall of nasopharynx\n",
      "0.95: s41111a: Laceration without foreign body of right upper arm, initial encounter\n",
      "0.95: s069x5d: Unspecified intracranial injury with loss of consciousness greater than 24 hours with return to pre-existing conscious level, subsequent encounter\n",
      "0.95: s062x1s: Diffuse traumatic brain injury with loss of consciousness of 30 minutes or less, sequela\n",
      "0.95: m86669: Other chronic osteomyelitis, unspecified tibia and fibula\n",
      "0.95: s82101s: Unspecified fracture of upper end of right tibia, sequela\n",
      "0.95: s14103d: Unspecified injury at C3 level of cervical spinal cord, subsequent encounter\n",
      "0.95: p0700: Extremely low birth weight newborn, unspecified weight\n",
      "0.95: i69861: Other paralytic syndrome following other cerebrovascular disease affecting right dominant side\n",
      "\n",
      "Similar to: f43: Reaction to severe stress, and adjustment disorders\n",
      "0.91: g47: Sleep disorders\n",
      "0.90: f34: Persistent mood [affective] disorders\n",
      "0.89: h10: Conjunctivitis\n",
      "0.89: r25: Abnormal involuntary movements\n",
      "0.89: j30: Vasomotor and allergic rhinitis\n",
      "0.89: f51: Sleep disorders not due to a substance or known physiological condition\n",
      "0.89: h61: Other disorders of external ear\n",
      "0.89: l29: Pruritus\n",
      "0.89: j02: Acute pharyngitis\n",
      "0.89: f32: Depressive episode\n",
      "\n",
      "Similar to: e0910: Drug or chemical induced diabetes mellitus with ketoacidosis without coma\n",
      "0.96: h52221: Regular astigmatism, right eye\n",
      "0.96: s2221xd: Fracture of manubrium, subsequent encounter for fracture with routine healing\n",
      "0.96: s91115a: Laceration without foreign body of left lesser toe(s) without damage to nail, initial encounter\n",
      "0.96: t82190d: Other mechanical complication of cardiac electrode, subsequent encounter\n",
      "0.96: s32130a: Nondisplaced Zone III fracture of sacrum, initial encounter for closed fracture\n",
      "0.96: w19xxxa: Unspecified fall, initial encounter\n",
      "0.96: s0003xd: Contusion of scalp, subsequent encounter\n",
      "0.96: f4000: Agoraphobia, unspecified\n",
      "0.96: s88111d: Complete traumatic amputation at level between knee and ankle, right lower leg, subsequent encounter\n",
      "0.96: h27111: Subluxation of lens, right eye\n",
      "\n",
      "Similar to: f422: Mixed obsessional thoughts and acts\n",
      "0.89: f913: Oppositional defiant disorder\n",
      "0.88: f605: Obsessive-compulsive personality disorder\n",
      "0.88: f428: Other obsessive-compulsive disorder\n",
      "0.88: f930: Separation anxiety disorder of childhood\n",
      "0.87: f4001: Agoraphobia with panic disorder\n",
      "0.87: f4010: Social phobia, unspecified\n",
      "0.87: f1521: Other stimulant dependence, in remission\n",
      "0.87: f429: Obsessive-compulsive disorder, unspecified\n",
      "0.87: f0633: Mood disorder due to known physiological condition with manic features\n",
      "0.87: f632: Kleptomania\n",
      "\n",
      "Similar to: f10180: Alcohol abuse with alcohol-induced anxiety disorder\n",
      "0.94: f10982: Alcohol use, unspecified with alcohol-induced sleep disorder\n",
      "0.94: z6372: Alcoholism and drug addiction in family\n",
      "0.94: e300: Delayed puberty\n",
      "0.94: s83012d: Lateral subluxation of left patella, subsequent encounter\n",
      "0.94: c460: Kaposi's sarcoma of skin\n",
      "0.94: s72001g: Fracture of unspecified part of neck of right femur, subsequent encounter for closed fracture with delayed healing\n",
      "0.94: f601: Schizoid personality disorder\n",
      "0.94: k716: Toxic liver disease with hepatitis, not elsewhere classified\n",
      "0.94: f11288: Opioid dependence with other opioid-induced disorder\n",
      "0.94: e724: Disorders of ornithine metabolism\n",
      "\n"
     ]
    }
   ],
   "source": [
    "for code in random.sample(num.vocab, 10):\n",
    "    most_similar(code, embeddings)\n",
    "    print('')"
   ]
  },
  {
   "cell_type": "code",
   "execution_count": null,
   "metadata": {},
   "outputs": [],
   "source": []
  },
  {
   "cell_type": "code",
   "execution_count": 74,
   "metadata": {},
   "outputs": [
    {
     "data": {
      "text/plain": [
       "'xx'"
      ]
     },
     "execution_count": 74,
     "metadata": {},
     "output_type": "execute_result"
    }
   ],
   "source": [
    "'xxfake'[:2]"
   ]
  },
  {
   "cell_type": "code",
   "execution_count": 47,
   "metadata": {},
   "outputs": [],
   "source": [
    "icd_lookup = icd_lookup[0]['jsonb_object_agg']"
   ]
  },
  {
   "cell_type": "code",
   "execution_count": 48,
   "metadata": {},
   "outputs": [
    {
     "data": {
      "text/plain": [
       "'Type 2 diabetes mellitus'"
      ]
     },
     "execution_count": 48,
     "metadata": {},
     "output_type": "execute_result"
    }
   ],
   "source": [
    "icd_lookup['e11']"
   ]
  },
  {
   "cell_type": "code",
   "execution_count": 49,
   "metadata": {},
   "outputs": [],
   "source": [
    "with open('icd_descr_lookup.json', 'w') as f:\n",
    "    json.dump(icd_lookup, f)"
   ]
  },
  {
   "cell_type": "code",
   "execution_count": null,
   "metadata": {},
   "outputs": [],
   "source": []
  },
  {
   "cell_type": "code",
   "execution_count": null,
   "metadata": {},
   "outputs": [],
   "source": []
  },
  {
   "cell_type": "code",
   "execution_count": null,
   "metadata": {},
   "outputs": [],
   "source": []
  },
  {
   "cell_type": "code",
   "execution_count": null,
   "metadata": {},
   "outputs": [],
   "source": []
  },
  {
   "cell_type": "code",
   "execution_count": null,
   "metadata": {},
   "outputs": [],
   "source": []
  },
  {
   "cell_type": "code",
   "execution_count": null,
   "metadata": {},
   "outputs": [],
   "source": []
  },
  {
   "cell_type": "code",
   "execution_count": null,
   "metadata": {},
   "outputs": [],
   "source": []
  },
  {
   "cell_type": "code",
   "execution_count": null,
   "metadata": {},
   "outputs": [],
   "source": []
  },
  {
   "cell_type": "code",
   "execution_count": null,
   "metadata": {},
   "outputs": [],
   "source": []
  },
  {
   "cell_type": "code",
   "execution_count": null,
   "metadata": {},
   "outputs": [],
   "source": []
  },
  {
   "cell_type": "code",
   "execution_count": null,
   "metadata": {},
   "outputs": [],
   "source": []
  },
  {
   "cell_type": "code",
   "execution_count": null,
   "metadata": {},
   "outputs": [],
   "source": []
  }
 ],
 "metadata": {
  "kernelspec": {
   "display_name": "Python 3 (ipykernel)",
   "language": "python",
   "name": "python3"
  },
  "language_info": {
   "codemirror_mode": {
    "name": "ipython",
    "version": 3
   },
   "file_extension": ".py",
   "mimetype": "text/x-python",
   "name": "python",
   "nbconvert_exporter": "python",
   "pygments_lexer": "ipython3",
   "version": "3.10.4"
  }
 },
 "nbformat": 4,
 "nbformat_minor": 4
}
