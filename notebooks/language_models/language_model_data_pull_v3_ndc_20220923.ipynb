{
 "cells": [
  {
   "cell_type": "code",
   "execution_count": 6,
   "metadata": {},
   "outputs": [
    {
     "name": "stdout",
     "output_type": "stream",
     "text": [
      "pwd /Users/bp/workspace/cb/data-analytics/notebooks\n"
     ]
    }
   ],
   "source": [
    "import os\n",
    "import sys\n",
    "import re\n",
    "import time\n",
    "import random\n",
    "import warnings\n",
    "import collections\n",
    "from tqdm import tqdm\n",
    "import numpy as np\n",
    "import pandas as pd\n",
    "import matplotlib.pyplot as plt\n",
    "import matplotlib.gridspec as gridspec\n",
    "import seaborn as sns\n",
    "\n",
    "sys.path.append('../src')\n",
    "import cb_utils\n",
    "\n",
    "sns.set(style=\"darkgrid\")\n",
    "pd.options.display.max_columns = 500\n",
    "print('pwd', os.getcwd())\n",
    "\n",
    "%load_ext autoreload\n",
    "%autoreload 2"
   ]
  },
  {
   "cell_type": "markdown",
   "metadata": {},
   "source": [
    "### Try combining claim level chunks that take the form\n",
    "ttlc claim_service_type cpt_1 dx1 dx2 dx3 cpt_2 dx4 dx5"
   ]
  },
  {
   "cell_type": "code",
   "execution_count": 20,
   "metadata": {},
   "outputs": [],
   "source": [
    "member_ids_query = f\"SELECT id FROM cb.members m where m.mco_id = %(mco_id)s\"\n",
    "\n",
    "member_claims_query = f\"\"\"\n",
    "  WITH\n",
    "      encounter_level   AS ( SELECT DISTINCT\n",
    "                                    c.member_id\n",
    "                                  , c.date_from\n",
    "                                  , c.rx_ndc_code\n",
    "                             FROM\n",
    "                                 cb.claims c\n",
    "                             WHERE\n",
    "                                   c.mco_id = %(mco_id)s\n",
    "                               and c.member_id = %(member_id)s\n",
    "                               AND c.is_rx\n",
    "                               and c.rx_ndc_code is not null\n",
    "                             )\n",
    "    , lagged_encounters AS ( SELECT\n",
    "                                 el.*\n",
    "                               , LAG(date_from) OVER (PARTITION BY member_id ORDER BY date_from) prev_claim_date\n",
    "                             FROM\n",
    "                                 encounter_level el )\n",
    "                                 \n",
    "  SELECT distinct\n",
    "    le.member_id\n",
    "  , le.date_from\n",
    "  , le.rx_ndc_code\n",
    "  , le.date_from - prev_claim_date                                                                    days_since_last_encounter\n",
    "FROM\n",
    "    lagged_encounters le\n",
    "ORDER BY\n",
    "    1,2,3\n",
    ";\n",
    "   \"\"\" "
   ]
  },
  {
   "cell_type": "code",
   "execution_count": 21,
   "metadata": {},
   "outputs": [],
   "source": [
    "def get_days_cat(time_to_last_claim):\n",
    "    if time_to_last_claim < 0:\n",
    "        raise \"Got a negative time to last claim. should never happen\"\n",
    "    if time_to_last_claim == 0:\n",
    "        return 'ttlc_0'\n",
    "    if time_to_last_claim <= 1:\n",
    "        return 'ttlc_1'\n",
    "    if time_to_last_claim <= 2:\n",
    "        return 'ttlc_2'\n",
    "    if time_to_last_claim <= 5:\n",
    "        return 'ttlc_5'\n",
    "    if time_to_last_claim <= 10:\n",
    "        return 'ttlc_10'\n",
    "    if time_to_last_claim <= 15:\n",
    "        return 'ttlc_15'\n",
    "    if time_to_last_claim <= 30:\n",
    "        return 'ttlc_30'\n",
    "    if time_to_last_claim <= 60:\n",
    "        return 'ttlc_60'\n",
    "    if time_to_last_claim <= 90:\n",
    "        return 'ttlc_90'\n",
    "    if time_to_last_claim <= 180:\n",
    "        return 'ttlc_180'\n",
    "    \n",
    "    return 'ttlc_gt180'"
   ]
  },
  {
   "cell_type": "code",
   "execution_count": 22,
   "metadata": {},
   "outputs": [],
   "source": [
    "def fetch_and_build_member_data(cur, mco_id, member_id, save_path):\n",
    "    cur.execute(member_claims_query, {'mco_id': mco_id, 'member_id': member_id})\n",
    "\n",
    "    prev_date_from = None\n",
    "    s = ''\n",
    "    for member_id, date_from, ndc, ttlc in cur:\n",
    "        if date_from != prev_date_from and ttlc is not None:\n",
    "            s += ' ' + get_days_cat(ttlc) \n",
    "            prev_date_from = date_from\n",
    "        \n",
    "        s += ' ' + ndc \n",
    "            \n",
    "    file_name = f'{save_path}/{mco_id}_{member_id}.txt'\n",
    "\n",
    "    with open(file_name, 'w') as f: f.write(s)"
   ]
  },
  {
   "cell_type": "code",
   "execution_count": null,
   "metadata": {},
   "outputs": [],
   "source": []
  },
  {
   "cell_type": "code",
   "execution_count": 23,
   "metadata": {},
   "outputs": [],
   "source": [
    "def build_language_model_data_for_mco(mco_id):\n",
    "    conn = cb_utils.get_conn(cb_utils.get_secrets()['db_connection_string_ro'])\n",
    "    cur = conn.cursor()\n",
    "\n",
    "    cur.execute(member_ids_query, {'mco_id': mco_id}) \n",
    "\n",
    "    save_path = './data/just_ndcs'\n",
    "    for m in tqdm([x[0] for x in cur]):\n",
    "        fetch_and_build_member_data(cur, mco_id, m, save_path)"
   ]
  },
  {
   "cell_type": "code",
   "execution_count": 24,
   "metadata": {},
   "outputs": [
    {
     "name": "stderr",
     "output_type": "stream",
     "text": [
      "100%|███████████████████████████████████████████████████████████████████████████████████████████████████████████████| 7438/7438 [06:11<00:00, 20.00it/s]\n"
     ]
    }
   ],
   "source": [
    "build_language_model_data_for_mco(1)"
   ]
  },
  {
   "cell_type": "code",
   "execution_count": 25,
   "metadata": {},
   "outputs": [
    {
     "name": "stdout",
     "output_type": "stream",
     "text": [
      "Pulling mco:  2\n"
     ]
    },
    {
     "name": "stderr",
     "output_type": "stream",
     "text": [
      "100%|█████████████████████████████████████████████████████████████████████████████████████████████████████████████| 29753/29753 [26:02<00:00, 19.04it/s]\n"
     ]
    },
    {
     "name": "stdout",
     "output_type": "stream",
     "text": [
      "Pulling mco:  4\n"
     ]
    },
    {
     "name": "stderr",
     "output_type": "stream",
     "text": [
      "100%|█████████████████████████████████████████████████████████████████████████████████████████████████████████████| 14519/14519 [13:47<00:00, 17.55it/s]\n"
     ]
    },
    {
     "name": "stdout",
     "output_type": "stream",
     "text": [
      "Pulling mco:  5\n"
     ]
    },
    {
     "name": "stderr",
     "output_type": "stream",
     "text": [
      "100%|█████████████████████████████████████████████████████████████████████████████████████████████████████████████| 22251/22251 [29:34<00:00, 12.54it/s]\n"
     ]
    },
    {
     "name": "stdout",
     "output_type": "stream",
     "text": [
      "Pulling mco:  6\n"
     ]
    },
    {
     "name": "stderr",
     "output_type": "stream",
     "text": [
      "100%|███████████████████████████████████████████████████████████████████████████████████████████████████████████████| 5969/5969 [07:11<00:00, 13.84it/s]\n"
     ]
    },
    {
     "name": "stdout",
     "output_type": "stream",
     "text": [
      "Pulling mco:  7\n"
     ]
    },
    {
     "name": "stderr",
     "output_type": "stream",
     "text": [
      "100%|█████████████████████████████████████████████████████████████████████████████████████████████████████████████| 14045/14045 [13:18<00:00, 17.58it/s]\n"
     ]
    },
    {
     "name": "stdout",
     "output_type": "stream",
     "text": [
      "Pulling mco:  8\n"
     ]
    },
    {
     "name": "stderr",
     "output_type": "stream",
     "text": [
      "100%|█████████████████████████████████████████████████████████████████████████████████████████████████████████████| 17679/17679 [16:33<00:00, 17.79it/s]\n"
     ]
    },
    {
     "name": "stdout",
     "output_type": "stream",
     "text": [
      "Pulling mco:  9\n"
     ]
    },
    {
     "name": "stderr",
     "output_type": "stream",
     "text": [
      "100%|███████████████████████████████████████████████████████████████████████████████████████████████████████████████| 2185/2185 [02:19<00:00, 15.63it/s]\n"
     ]
    },
    {
     "name": "stdout",
     "output_type": "stream",
     "text": [
      "Pulling mco:  12\n"
     ]
    },
    {
     "name": "stderr",
     "output_type": "stream",
     "text": [
      "100%|███████████████████████████████████████████████████████████████████████████████████████████████████████████████| 7851/7851 [09:13<00:00, 14.19it/s]\n"
     ]
    }
   ],
   "source": [
    "for mco_id in [2,4,5,6,7,8,9,12]:\n",
    "    print('Pulling mco: ', mco_id)\n",
    "    build_language_model_data_for_mco(mco_id)"
   ]
  },
  {
   "cell_type": "code",
   "execution_count": 21,
   "metadata": {},
   "outputs": [],
   "source": [
    "build_language_model_data_for_mco(2)"
   ]
  },
  {
   "cell_type": "code",
   "execution_count": null,
   "metadata": {},
   "outputs": [],
   "source": [
    "build_language_model_data_for_mco(4)"
   ]
  },
  {
   "cell_type": "code",
   "execution_count": null,
   "metadata": {},
   "outputs": [],
   "source": [
    "build_language_model_data_for_mco(5)"
   ]
  },
  {
   "cell_type": "code",
   "execution_count": null,
   "metadata": {},
   "outputs": [],
   "source": [
    "build_language_model_data_for_mco(6)"
   ]
  },
  {
   "cell_type": "code",
   "execution_count": null,
   "metadata": {},
   "outputs": [],
   "source": [
    "build_language_model_data_for_mco(7)"
   ]
  },
  {
   "cell_type": "code",
   "execution_count": null,
   "metadata": {},
   "outputs": [],
   "source": [
    "build_language_model_data_for_mco(8)"
   ]
  },
  {
   "cell_type": "code",
   "execution_count": null,
   "metadata": {},
   "outputs": [],
   "source": [
    "build_language_model_data_for_mco(9)"
   ]
  },
  {
   "cell_type": "code",
   "execution_count": null,
   "metadata": {},
   "outputs": [],
   "source": [
    "build_language_model_data_for_mco(12)"
   ]
  },
  {
   "cell_type": "code",
   "execution_count": null,
   "metadata": {},
   "outputs": [],
   "source": []
  },
  {
   "cell_type": "code",
   "execution_count": null,
   "metadata": {},
   "outputs": [],
   "source": []
  },
  {
   "cell_type": "code",
   "execution_count": 46,
   "metadata": {},
   "outputs": [],
   "source": []
  },
  {
   "cell_type": "code",
   "execution_count": null,
   "metadata": {},
   "outputs": [],
   "source": []
  },
  {
   "cell_type": "code",
   "execution_count": null,
   "metadata": {},
   "outputs": [],
   "source": []
  },
  {
   "cell_type": "code",
   "execution_count": null,
   "metadata": {},
   "outputs": [],
   "source": []
  },
  {
   "cell_type": "code",
   "execution_count": null,
   "metadata": {},
   "outputs": [],
   "source": []
  },
  {
   "cell_type": "code",
   "execution_count": null,
   "metadata": {},
   "outputs": [],
   "source": []
  },
  {
   "cell_type": "code",
   "execution_count": null,
   "metadata": {},
   "outputs": [],
   "source": []
  },
  {
   "cell_type": "code",
   "execution_count": null,
   "metadata": {},
   "outputs": [],
   "source": []
  },
  {
   "cell_type": "code",
   "execution_count": null,
   "metadata": {},
   "outputs": [],
   "source": []
  },
  {
   "cell_type": "code",
   "execution_count": null,
   "metadata": {},
   "outputs": [],
   "source": []
  },
  {
   "cell_type": "code",
   "execution_count": null,
   "metadata": {},
   "outputs": [],
   "source": []
  },
  {
   "cell_type": "code",
   "execution_count": null,
   "metadata": {},
   "outputs": [],
   "source": []
  },
  {
   "cell_type": "code",
   "execution_count": null,
   "metadata": {},
   "outputs": [],
   "source": []
  },
  {
   "cell_type": "code",
   "execution_count": null,
   "metadata": {},
   "outputs": [],
   "source": []
  },
  {
   "cell_type": "code",
   "execution_count": null,
   "metadata": {},
   "outputs": [],
   "source": []
  },
  {
   "cell_type": "code",
   "execution_count": null,
   "metadata": {},
   "outputs": [],
   "source": []
  },
  {
   "cell_type": "code",
   "execution_count": null,
   "metadata": {},
   "outputs": [],
   "source": []
  },
  {
   "cell_type": "code",
   "execution_count": null,
   "metadata": {},
   "outputs": [],
   "source": []
  },
  {
   "cell_type": "code",
   "execution_count": null,
   "metadata": {},
   "outputs": [],
   "source": []
  },
  {
   "cell_type": "code",
   "execution_count": null,
   "metadata": {},
   "outputs": [],
   "source": []
  },
  {
   "cell_type": "code",
   "execution_count": null,
   "metadata": {},
   "outputs": [],
   "source": []
  },
  {
   "cell_type": "code",
   "execution_count": null,
   "metadata": {},
   "outputs": [],
   "source": []
  }
 ],
 "metadata": {
  "kernelspec": {
   "display_name": "Python 3 (ipykernel)",
   "language": "python",
   "name": "python3"
  },
  "language_info": {
   "codemirror_mode": {
    "name": "ipython",
    "version": 3
   },
   "file_extension": ".py",
   "mimetype": "text/x-python",
   "name": "python",
   "nbconvert_exporter": "python",
   "pygments_lexer": "ipython3",
   "version": "3.10.4"
  }
 },
 "nbformat": 4,
 "nbformat_minor": 4
}
