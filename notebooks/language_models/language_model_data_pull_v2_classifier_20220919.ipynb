{
 "cells": [
  {
   "cell_type": "code",
   "execution_count": 1,
   "metadata": {},
   "outputs": [],
   "source": [
    "import os\n",
    "import sys\n",
    "import re\n",
    "import time\n",
    "import random\n",
    "import warnings\n",
    "import collections\n",
    "from tqdm import tqdm\n",
    "import numpy as np\n",
    "import pandas as pd\n",
    "import matplotlib.pyplot as plt\n",
    "import matplotlib.gridspec as gridspec\n",
    "import seaborn as sns\n",
    "\n",
    "sys.path.append('../src')\n",
    "import cb_utils\n",
    "\n",
    "sns.set(style=\"darkgrid\")\n",
    "pd.options.display.max_columns = 500\n",
    "\n",
    "%load_ext autoreload\n",
    "%autoreload 2"
   ]
  },
  {
   "cell_type": "code",
   "execution_count": 2,
   "metadata": {},
   "outputs": [
    {
     "data": {
      "text/plain": [
       "'/Users/bp/workspace/cb/data-analytics/notebooks'"
      ]
     },
     "execution_count": 2,
     "metadata": {},
     "output_type": "execute_result"
    }
   ],
   "source": [
    "os.getcwd()"
   ]
  },
  {
   "cell_type": "code",
   "execution_count": 3,
   "metadata": {},
   "outputs": [],
   "source": [
    "member_ids_query = f\"SELECT * FROM junk.language_model_test20220923 m where m.mco_id = %(mco_id)s\"\n",
    "\n",
    "member_claims_query = f\"\"\"\n",
    "  WITH\n",
    "      encounter_level   AS ( SELECT DISTINCT\n",
    "                                 member_id\n",
    "                               , date_from\n",
    "                               , array_agg(distinct c.id) claim_ids\n",
    "                             FROM\n",
    "                                 cb.claims c\n",
    "                                 LEFT JOIN ref.place_of_services pos ON pos.id = c.place_of_service_id\n",
    "                                 LEFT JOIN ref.service_types st ON st.id = c.service_type_id\n",
    "                             WHERE\n",
    "                                   c.mco_id = %(mco_id)s\n",
    "                               and c.member_id = %(member_id)s\n",
    "                               AND c.service_type_id NOT IN (12, 13, 17, 18, 10, 15, 16)\n",
    "                               AND NOT c.is_rx\n",
    "                               AND c.date_from between %(pre_start)s and %(pre_end)s\n",
    "                             GROUP BY 1,2\n",
    "                             )\n",
    "    , lagged_encounters AS ( SELECT\n",
    "                                 el.*\n",
    "                               , LAG(date_from) OVER (PARTITION BY member_id ORDER BY date_from) prev_claim_date\n",
    "                             FROM\n",
    "                                 encounter_level el )\n",
    "  SELECT\n",
    "      le.member_id\n",
    "    , c.date_from\n",
    "    , le.date_from - prev_claim_date days_since_last_encounter\n",
    "    , ARRAY_AGG(cd.diag ORDER BY c.claim_line_id, cd.diag_sequence) FILTER ( WHERE cd.diag IS NOT NULL) icds_by_seq\n",
    "  FROM\n",
    "      lagged_encounters le\n",
    "      JOIN cb.claims c ON c.id = any(le.claim_ids)\n",
    "      LEFT JOIN cb.claims_diagnosis cd ON c.id = cd.claim_id\n",
    "  WHERE\n",
    "       c.mco_id = %(mco_id)s\n",
    "   and cd.mco_id = %(mco_id)s\n",
    "   and c.member_id = %(member_id)s\n",
    "  GROUP BY\n",
    "      1, 2, 3\n",
    "  ORDER BY\n",
    "      1, 2\n",
    ";\n",
    "   \"\"\" "
   ]
  },
  {
   "cell_type": "code",
   "execution_count": 11,
   "metadata": {},
   "outputs": [],
   "source": [
    "def get_days_cat(time_to_last_claim):\n",
    "    if time_to_last_claim < 0:\n",
    "        raise \"Got a negative time to last claim. should never happen\"\n",
    "    if time_to_last_claim == 0:\n",
    "        return 'ttlc_0'\n",
    "    if time_to_last_claim <= 1:\n",
    "        return 'ttlc_1'\n",
    "    if time_to_last_claim <= 2:\n",
    "        return 'ttlc_2'\n",
    "    if time_to_last_claim <= 5:\n",
    "        return 'ttlc_5'\n",
    "    if time_to_last_claim <= 10:\n",
    "        return 'ttlc_10'\n",
    "    if time_to_last_claim <= 15:\n",
    "        return 'ttlc_15'\n",
    "    if time_to_last_claim <= 30:\n",
    "        return 'ttlc_30'\n",
    "    if time_to_last_claim <= 60:\n",
    "        return 'ttlc_60'\n",
    "    if time_to_last_claim <= 90:\n",
    "        return 'ttlc_90'\n",
    "    if time_to_last_claim <= 180:\n",
    "        return 'ttlc_180'\n",
    "    \n",
    "    return 'ttlc_gt180'"
   ]
  },
  {
   "cell_type": "code",
   "execution_count": 8,
   "metadata": {},
   "outputs": [],
   "source": [
    "def fetch_and_build_member_data(cur, mco_id, member, is_validation, save_path):\n",
    "    member_id = member['member_id']\n",
    "    target = member['impactable_spend_post']\n",
    "    age = member['age']\n",
    "    gender = member['gender']\n",
    "    \n",
    "    cur.execute(member_claims_query, {'mco_id': mco_id, 'member_id': member_id, 'pre_start': '2020-01-01', 'pre_end': '2020-12-31'})\n",
    "\n",
    "    i = 1\n",
    "    s = 'xxbos'\n",
    "    for member_id, date_from, ttlc, icds_by_seq in cur:\n",
    "        if ttlc is not None:\n",
    "            s += ' ' + get_days_cat(ttlc) \n",
    "        s += ' ' + ' '.join(dict.fromkeys(icds_by_seq))\n",
    "        \n",
    "\n",
    "    dataset = 'valid' if is_validation else 'train'\n",
    "    file_name = f'{save_path}/{dataset}/{mco_id}_{member_id}_{age}_{gender}_{target}.txt'\n",
    "\n",
    "    with open(file_name, 'w') as f: f.write(s)"
   ]
  },
  {
   "cell_type": "code",
   "execution_count": 9,
   "metadata": {},
   "outputs": [],
   "source": [
    "def build_language_model_data_for_mco(mco_id):\n",
    "    cols = ['member_id' , 'mco_id' , 'pre_start' , 'pre_end' , 'post_start' , 'post_end' , 'impactable_spend_pre' , 'impactable_spend_post' , 'pre_impactable_spend_pct' , 'post_impactable_spend_pct' , 'age' , 'gender']\n",
    "    conn = cb_utils.get_conn()\n",
    "    cur = conn.cursor()\n",
    "\n",
    "    cur.execute(member_ids_query, {'mco_id': mco_id}) \n",
    "\n",
    "    save_path = './data/icds_and_target'\n",
    "    for row in tqdm([x for x in cur]):\n",
    "        is_validation = random.random() >= .8\n",
    "        member = {c: f for c, f in zip(cols, row)}\n",
    "        fetch_and_build_member_data(cur, mco_id, member, is_validation, save_path)"
   ]
  },
  {
   "cell_type": "code",
   "execution_count": null,
   "metadata": {},
   "outputs": [],
   "source": []
  },
  {
   "cell_type": "code",
   "execution_count": 14,
   "metadata": {},
   "outputs": [
    {
     "name": "stderr",
     "output_type": "stream",
     "text": [
      "0it [00:00, ?it/s]\n"
     ]
    }
   ],
   "source": [
    "mco_ids = [1, 2, 4, 5, 6, 8, 9]\n",
    "mco_ids = [9]\n",
    "for mco_id in mco_ids:\n",
    "    build_language_model_data_for_mco(mco_id)"
   ]
  },
  {
   "cell_type": "code",
   "execution_count": null,
   "metadata": {},
   "outputs": [],
   "source": []
  },
  {
   "cell_type": "code",
   "execution_count": null,
   "metadata": {},
   "outputs": [],
   "source": []
  },
  {
   "cell_type": "code",
   "execution_count": null,
   "metadata": {},
   "outputs": [],
   "source": []
  },
  {
   "cell_type": "code",
   "execution_count": null,
   "metadata": {},
   "outputs": [],
   "source": []
  },
  {
   "cell_type": "code",
   "execution_count": null,
   "metadata": {},
   "outputs": [],
   "source": []
  },
  {
   "cell_type": "code",
   "execution_count": null,
   "metadata": {},
   "outputs": [],
   "source": []
  },
  {
   "cell_type": "code",
   "execution_count": null,
   "metadata": {},
   "outputs": [],
   "source": []
  },
  {
   "cell_type": "code",
   "execution_count": null,
   "metadata": {},
   "outputs": [],
   "source": []
  },
  {
   "cell_type": "code",
   "execution_count": null,
   "metadata": {},
   "outputs": [],
   "source": []
  },
  {
   "cell_type": "code",
   "execution_count": null,
   "metadata": {},
   "outputs": [],
   "source": []
  },
  {
   "cell_type": "code",
   "execution_count": null,
   "metadata": {},
   "outputs": [],
   "source": []
  },
  {
   "cell_type": "code",
   "execution_count": null,
   "metadata": {},
   "outputs": [],
   "source": []
  },
  {
   "cell_type": "code",
   "execution_count": null,
   "metadata": {},
   "outputs": [],
   "source": []
  },
  {
   "cell_type": "code",
   "execution_count": null,
   "metadata": {},
   "outputs": [],
   "source": []
  },
  {
   "cell_type": "code",
   "execution_count": null,
   "metadata": {},
   "outputs": [],
   "source": []
  },
  {
   "cell_type": "code",
   "execution_count": null,
   "metadata": {},
   "outputs": [],
   "source": []
  },
  {
   "cell_type": "code",
   "execution_count": null,
   "metadata": {},
   "outputs": [],
   "source": []
  },
  {
   "cell_type": "code",
   "execution_count": null,
   "metadata": {},
   "outputs": [],
   "source": []
  },
  {
   "cell_type": "code",
   "execution_count": null,
   "metadata": {},
   "outputs": [],
   "source": []
  },
  {
   "cell_type": "code",
   "execution_count": null,
   "metadata": {},
   "outputs": [],
   "source": []
  },
  {
   "cell_type": "code",
   "execution_count": null,
   "metadata": {},
   "outputs": [],
   "source": []
  },
  {
   "cell_type": "code",
   "execution_count": null,
   "metadata": {},
   "outputs": [],
   "source": []
  },
  {
   "cell_type": "code",
   "execution_count": null,
   "metadata": {},
   "outputs": [],
   "source": []
  },
  {
   "cell_type": "code",
   "execution_count": null,
   "metadata": {},
   "outputs": [],
   "source": []
  },
  {
   "cell_type": "code",
   "execution_count": null,
   "metadata": {},
   "outputs": [],
   "source": []
  },
  {
   "cell_type": "code",
   "execution_count": null,
   "metadata": {},
   "outputs": [],
   "source": []
  },
  {
   "cell_type": "code",
   "execution_count": null,
   "metadata": {},
   "outputs": [],
   "source": []
  },
  {
   "cell_type": "code",
   "execution_count": null,
   "metadata": {},
   "outputs": [],
   "source": []
  },
  {
   "cell_type": "code",
   "execution_count": null,
   "metadata": {},
   "outputs": [],
   "source": []
  },
  {
   "cell_type": "code",
   "execution_count": null,
   "metadata": {},
   "outputs": [],
   "source": []
  },
  {
   "cell_type": "code",
   "execution_count": null,
   "metadata": {},
   "outputs": [],
   "source": []
  },
  {
   "cell_type": "code",
   "execution_count": null,
   "metadata": {},
   "outputs": [],
   "source": []
  }
 ],
 "metadata": {
  "kernelspec": {
   "display_name": "Python 3 (ipykernel)",
   "language": "python",
   "name": "python3"
  },
  "language_info": {
   "codemirror_mode": {
    "name": "ipython",
    "version": 3
   },
   "file_extension": ".py",
   "mimetype": "text/x-python",
   "name": "python",
   "nbconvert_exporter": "python",
   "pygments_lexer": "ipython3",
   "version": "3.10.4"
  }
 },
 "nbformat": 4,
 "nbformat_minor": 4
}
