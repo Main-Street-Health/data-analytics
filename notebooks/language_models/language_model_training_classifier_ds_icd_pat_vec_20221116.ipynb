{
 "cells": [
  {
   "cell_type": "code",
   "execution_count": 1,
   "metadata": {},
   "outputs": [],
   "source": [
    "import os\n",
    "import sys\n",
    "import re\n",
    "import time\n",
    "import random\n",
    "import warnings\n",
    "import collections\n",
    "from tqdm import tqdm\n",
    "import numpy as np\n",
    "import pandas as pd\n",
    "import matplotlib.pyplot as plt\n",
    "import matplotlib.gridspec as gridspec\n",
    "import seaborn as sns\n",
    "\n",
    "# sys.path.append('../src')\n",
    "# import cb_utils\n",
    "\n",
    "sns.set(style=\"darkgrid\")\n",
    "pd.options.display.max_columns = 500\n",
    "\n",
    "%load_ext autoreload\n",
    "%autoreload 2"
   ]
  },
  {
   "cell_type": "code",
   "execution_count": 114,
   "metadata": {},
   "outputs": [
    {
     "name": "stdout",
     "output_type": "stream",
     "text": [
      "test set has 1153 samples\n"
     ]
    },
    {
     "data": {
      "text/html": [
       "<div>\n",
       "<style scoped>\n",
       "    .dataframe tbody tr th:only-of-type {\n",
       "        vertical-align: middle;\n",
       "    }\n",
       "\n",
       "    .dataframe tbody tr th {\n",
       "        vertical-align: top;\n",
       "    }\n",
       "\n",
       "    .dataframe thead th {\n",
       "        text-align: right;\n",
       "    }\n",
       "</style>\n",
       "<table border=\"1\" class=\"dataframe\">\n",
       "  <thead>\n",
       "    <tr style=\"text-align: right;\">\n",
       "      <th></th>\n",
       "      <th>sfere_id</th>\n",
       "    </tr>\n",
       "  </thead>\n",
       "  <tbody>\n",
       "    <tr>\n",
       "      <th>0</th>\n",
       "      <td>28800</td>\n",
       "    </tr>\n",
       "    <tr>\n",
       "      <th>1</th>\n",
       "      <td>30479</td>\n",
       "    </tr>\n",
       "    <tr>\n",
       "      <th>2</th>\n",
       "      <td>28008</td>\n",
       "    </tr>\n",
       "    <tr>\n",
       "      <th>3</th>\n",
       "      <td>28682</td>\n",
       "    </tr>\n",
       "    <tr>\n",
       "      <th>4</th>\n",
       "      <td>31076</td>\n",
       "    </tr>\n",
       "  </tbody>\n",
       "</table>\n",
       "</div>"
      ],
      "text/plain": [
       "   sfere_id\n",
       "0     28800\n",
       "1     30479\n",
       "2     28008\n",
       "3     28682\n",
       "4     31076"
      ]
     },
     "execution_count": 114,
     "metadata": {},
     "output_type": "execute_result"
    }
   ],
   "source": [
    "# use a consistent to make comparable to sklearn model\n",
    "test_sfere_ids = pd.read_csv('/home/bp/data-analytics/notebooks/data/sfere_og_test_set.csv', low_memory=False)\n",
    "print(f'test set has {test_sfere_ids.shape[0]} samples')\n",
    "test_sfere_ids.head()"
   ]
  },
  {
   "cell_type": "code",
   "execution_count": 115,
   "metadata": {},
   "outputs": [],
   "source": [
    "from fastai.text.all import *"
   ]
  },
  {
   "cell_type": "code",
   "execution_count": 116,
   "metadata": {},
   "outputs": [],
   "source": [
    "path = Path('./data/')"
   ]
  },
  {
   "cell_type": "code",
   "execution_count": 117,
   "metadata": {},
   "outputs": [
    {
     "data": {
      "text/plain": [
       "12881"
      ]
     },
     "execution_count": 117,
     "metadata": {},
     "output_type": "execute_result"
    }
   ],
   "source": [
    "files_dir = 'ds_lm_12m_icd_sfere'\n",
    "files = get_text_files(path, folders = [files_dir])\n",
    "\n",
    "len(files)"
   ]
  },
  {
   "cell_type": "markdown",
   "metadata": {},
   "source": [
    "### Modelling"
   ]
  },
  {
   "cell_type": "code",
   "execution_count": 118,
   "metadata": {},
   "outputs": [
    {
     "data": {
      "text/plain": [
       "12881"
      ]
     },
     "execution_count": 118,
     "metadata": {},
     "output_type": "execute_result"
    }
   ],
   "source": [
    "files_dir = 'ds_lm_12m_icd_sfere'\n",
    "files = get_text_files(path, folders = [files_dir])\n",
    "\n",
    "len(files)"
   ]
  },
  {
   "cell_type": "code",
   "execution_count": null,
   "metadata": {},
   "outputs": [],
   "source": []
  },
  {
   "cell_type": "code",
   "execution_count": null,
   "metadata": {},
   "outputs": [],
   "source": []
  },
  {
   "cell_type": "code",
   "execution_count": 119,
   "metadata": {},
   "outputs": [],
   "source": [
    "models_path = '/home/bp/data-analytics/models/'\n",
    "model_root_name = 'ds_icds_model_20221111'"
   ]
  },
  {
   "cell_type": "code",
   "execution_count": 120,
   "metadata": {},
   "outputs": [],
   "source": [
    "vocab_path = '/home/bp/data-analytics/modelslml_epoch_20_vocab_20220922.pkl'\n",
    "with open(vocab_path, 'rb') as f:\n",
    "    vocab = pickle.load(f)"
   ]
  },
  {
   "cell_type": "code",
   "execution_count": 121,
   "metadata": {},
   "outputs": [
    {
     "data": {
      "text/html": [],
      "text/plain": [
       "<IPython.core.display.HTML object>"
      ]
     },
     "metadata": {},
     "output_type": "display_data"
    }
   ],
   "source": [
    "text_block = TextBlock.from_folder(\n",
    "    path / files_dir, \n",
    "    vocab=vocab,\n",
    "    is_lm=False,\n",
    "    seq_len=72,\n",
    "    backwards=False\n",
    ")"
   ]
  },
  {
   "cell_type": "code",
   "execution_count": 122,
   "metadata": {},
   "outputs": [],
   "source": [
    "def label_func(fname):\n",
    "    match = re.match('\\d*_\\d*_(.*)\\.txt$', fname.name)\n",
    "    if match is not None:\n",
    "        return float(match.groups()[0])\n",
    "    else:\n",
    "        print('failed on', fname.name)\n",
    "        return int(match.groups()[0])\n",
    "#     return float(re.match(r'^\\d_\\d*_(.*)\\.txt$', fname.name).groups()[0])"
   ]
  },
  {
   "cell_type": "code",
   "execution_count": 123,
   "metadata": {},
   "outputs": [],
   "source": [
    "dblocks = DataBlock(blocks=(text_block, RegressionBlock),\n",
    "                 get_items=get_text_files,\n",
    "                 get_y=label_func,\n",
    "                 splitter=RandomSplitter())"
   ]
  },
  {
   "cell_type": "code",
   "execution_count": 124,
   "metadata": {},
   "outputs": [],
   "source": [
    "dls = dblocks.dataloaders(path / 'ds_lm_12m_icd_sfere', bs=64)"
   ]
  },
  {
   "cell_type": "code",
   "execution_count": 125,
   "metadata": {},
   "outputs": [
    {
     "data": {
      "text/html": [
       "<table border=\"1\" class=\"dataframe\">\n",
       "  <thead>\n",
       "    <tr style=\"text-align: right;\">\n",
       "      <th></th>\n",
       "      <th>text</th>\n",
       "      <th>text_</th>\n",
       "    </tr>\n",
       "  </thead>\n",
       "  <tbody>\n",
       "    <tr>\n",
       "      <th>0</th>\n",
       "      <td>xxbos b1710 e109 f1020 f1120 f1210 xxunk xxrep xxunk xxunk f82 z89512 ttlc_30 b1710 e109 f1020 f1120 f1210 xxunk xxrep xxunk xxunk f82 z89512 ttlc_10 b1710 e109 f1020 f1120 f1210 xxunk xxrep xxunk xxunk f82 z89512 ttlc_10 b1710 e109 f1020 f1120 f1210 xxunk xxrep xxunk xxunk f82 g629 z89512 ttlc_60 b1710 e109 f1020 f1120 f1210 xxunk xxrep xxunk xxunk f82 z89512 ttlc_10 b1710 e109 f1020 f1120 f1210 xxunk xxrep xxunk xxunk f82 z89512 ttlc_10 b1710 e109 f1020 f1120 f1210 xxunk xxrep xxunk xxunk f82 z89512 ttlc_15 b1710 e109 f1020 f1120 f1210 xxunk xxrep xxunk xxunk f82 z89512 ttlc_5 b1710 e109 f1020 f1120 f1210 xxunk xxrep xxunk xxunk f82 z89512 ttlc_5 b1710 e109 f1020 f1120 f1210 xxunk xxrep xxunk xxunk f82 z89512 ttlc_15 b1710 e109 f1020 f1120 f1210 xxunk xxrep xxunk xxunk f82 i10 z89512 ttlc_1 b1710 e109 f1020 f1120 f1210 xxunk xxrep xxunk xxunk f82 ttlc_1 b1710 e109 f1020 f1120</td>\n",
       "      <td>25.0</td>\n",
       "    </tr>\n",
       "    <tr>\n",
       "      <th>1</th>\n",
       "      <td>xxbos e119 e785 g311 i4891 m1990 r1310 r627 r6889 ttlc_1 e119 e785 g311 i4891 m1990 r1310 r627 ttlc_1 e119 e785 g311 i4891 m1990 r1310 r627 ttlc_1 e119 e785 g311 i4891 m1990 r1310 r627 ttlc_1 e119 e785 g311 i4891 m1990 r1310 r627 ttlc_1 e119 e785 g311 i4891 m1990 r1310 r627 ttlc_1 e119 e785 g311 i4891 m1990 r1310 r627 ttlc_1 e119 e785 g311 i4891 m1990 r1310 r627 ttlc_1 e119 e785 g311 i4891 m1990 r1310 r627 ttlc_1 e119 e785 g311 i4891 m1990 r1310 r627 ttlc_1 e119 e785 g311 i4891 m1990 r1310 r627 ttlc_1 e119 e785 g311 i4891 m1990 r1310 r627 ttlc_1 e119 e785 g311 i4891 m1990 r1310 r627 ttlc_1 e119 e785 g311 i4891 m1990 r1310 r627 ttlc_1 e119 e785 g311 i4891 m1990 r1310 r627 ttlc_1 e119 e785 g311 i4891 m1990 r1310 r627 ttlc_1 e119 e785 g311 i4891 m1990 r1310 r627 ttlc_1 e119 e785 g311 i4891 m1990 r1310 r627 ttlc_1 e119 e785 g311 i4891</td>\n",
       "      <td>56.0</td>\n",
       "    </tr>\n",
       "    <tr>\n",
       "      <th>2</th>\n",
       "      <td>xxbos f0280 g20 g40909 i110 i4891 i509 n390 r5381 ttlc_5 f0280 g20 g40909 i110 i4891 i509 n390 r300 r350 r5381 ttlc_30 g20 g40909 i110 i4891 i509 n390 r5381 z466 ttlc_10 g20 g40909 i110 i4891 i509 n390 r5381 z466 ttlc_2 g20 g40909 i110 i4891 i509 n390 r5381 z466 ttlc_5 g20 g40909 i110 i4891 i509 n390 r5381 z466 ttlc_5 g20 g40909 i110 i4891 i509 n390 r5381 z466 ttlc_5 g20 g40909 i110 i4891 i509 n390 r5381 z466 ttlc_5 g20 g40909 i110 i4891 i509 n390 r5381 z466 ttlc_15 f319 g8220 i10 j449 m479 n390 r5381 z452 ttlc_5 f319 g8220 i10 j449 m479 n390 r5381 z452 ttlc_10 f319 g8220 i10 j449 m479 n390 r5381 z452 ttlc_1 f319 g8220 i10 i499 j449 m2450 m479 n390 r21 r5381 r609 z452 z993 ttlc_10 f319 g8220 i10 j449 m479 n390 r5381 z452 ttlc_10 e876 f319 g8220 i10 i499 j449 m2450 m479 m519 n390 r5381 z452 ttlc_5 f319 g8220 i10</td>\n",
       "      <td>56.0</td>\n",
       "    </tr>\n",
       "  </tbody>\n",
       "</table>"
      ],
      "text/plain": [
       "<IPython.core.display.HTML object>"
      ]
     },
     "metadata": {},
     "output_type": "display_data"
    }
   ],
   "source": [
    "dls.show_batch(max_n=3)"
   ]
  },
  {
   "cell_type": "code",
   "execution_count": 126,
   "metadata": {},
   "outputs": [],
   "source": [
    "learn = text_classifier_learner(\n",
    "    dls,\n",
    "    AWD_LSTM,\n",
    "#     drop_mult=0.5,\n",
    "    metrics=[mae],\n",
    "    cbs=EarlyStoppingCallback(monitor='valid_loss', min_delta=0.01, patience=4)\n",
    ").to_fp16()\n",
    "\n",
    "learn = learn.load_encoder('/home/bp/data-analytics/modelslml_epoch_20_encoder_20220922')"
   ]
  },
  {
   "cell_type": "code",
   "execution_count": null,
   "metadata": {},
   "outputs": [],
   "source": []
  },
  {
   "cell_type": "code",
   "execution_count": 127,
   "metadata": {},
   "outputs": [
    {
     "data": {
      "text/plain": [
       "SequentialRNN(\n",
       "  (0): SentenceEncoder(\n",
       "    (module): AWD_LSTM(\n",
       "      (encoder): Embedding(10952, 400, padding_idx=1)\n",
       "      (encoder_dp): EmbeddingDropout(\n",
       "        (emb): Embedding(10952, 400, padding_idx=1)\n",
       "      )\n",
       "      (rnns): ModuleList(\n",
       "        (0): WeightDropout(\n",
       "          (module): LSTM(400, 1152, batch_first=True)\n",
       "        )\n",
       "        (1): WeightDropout(\n",
       "          (module): LSTM(1152, 1152, batch_first=True)\n",
       "        )\n",
       "        (2): WeightDropout(\n",
       "          (module): LSTM(1152, 400, batch_first=True)\n",
       "        )\n",
       "      )\n",
       "      (input_dp): RNNDropout()\n",
       "      (hidden_dps): ModuleList(\n",
       "        (0): RNNDropout()\n",
       "        (1): RNNDropout()\n",
       "        (2): RNNDropout()\n",
       "      )\n",
       "    )\n",
       "  )\n",
       "  (1): PoolingLinearClassifier(\n",
       "    (layers): Sequential(\n",
       "      (0): LinBnDrop(\n",
       "        (0): BatchNorm1d(1200, eps=1e-05, momentum=0.1, affine=True, track_running_stats=True)\n",
       "        (1): Dropout(p=0.2, inplace=False)\n",
       "        (2): Linear(in_features=1200, out_features=50, bias=False)\n",
       "        (3): ReLU(inplace=True)\n",
       "      )\n",
       "      (1): LinBnDrop(\n",
       "        (0): BatchNorm1d(50, eps=1e-05, momentum=0.1, affine=True, track_running_stats=True)\n",
       "        (1): Dropout(p=0.1, inplace=False)\n",
       "        (2): Linear(in_features=50, out_features=1, bias=False)\n",
       "      )\n",
       "    )\n",
       "  )\n",
       ")"
      ]
     },
     "execution_count": 127,
     "metadata": {},
     "output_type": "execute_result"
    }
   ],
   "source": [
    "learn.model"
   ]
  },
  {
   "cell_type": "code",
   "execution_count": 128,
   "metadata": {},
   "outputs": [],
   "source": [
    "learn.freeze()"
   ]
  },
  {
   "cell_type": "code",
   "execution_count": 129,
   "metadata": {},
   "outputs": [
    {
     "data": {
      "text/html": [],
      "text/plain": [
       "<IPython.core.display.HTML object>"
      ]
     },
     "metadata": {},
     "output_type": "display_data"
    },
    {
     "name": "stderr",
     "output_type": "stream",
     "text": [
      "/home/bp/.local/share/virtualenvs/data-analytics-qWXImv-u/lib/python3.8/site-packages/fastai/callback/schedule.py:269: UserWarning: color is redundantly defined by the 'color' keyword argument and the fmt string \"ro\" (-> color='r'). The keyword argument will take precedence.\n",
      "  ax.plot(val, idx, 'ro', label=nm, c=color)\n"
     ]
    },
    {
     "data": {
      "text/plain": [
       "SuggestedLRs(valley=0.0691830962896347)"
      ]
     },
     "execution_count": 129,
     "metadata": {},
     "output_type": "execute_result"
    },
    {
     "data": {
      "image/png": "[encoded data removed]",
      "text/plain": [
       "<Figure size 432x288 with 1 Axes>"
      ]
     },
     "metadata": {},
     "output_type": "display_data"
    }
   ],
   "source": [
    "learn.lr_find()"
   ]
  },
  {
   "cell_type": "code",
   "execution_count": 130,
   "metadata": {},
   "outputs": [
    {
     "data": {
      "text/html": [
       "<table border=\"1\" class=\"dataframe\">\n",
       "  <thead>\n",
       "    <tr style=\"text-align: left;\">\n",
       "      <th>epoch</th>\n",
       "      <th>train_loss</th>\n",
       "      <th>valid_loss</th>\n",
       "      <th>mae</th>\n",
       "      <th>time</th>\n",
       "    </tr>\n",
       "  </thead>\n",
       "  <tbody>\n",
       "    <tr>\n",
       "      <td>0</td>\n",
       "      <td>447.303223</td>\n",
       "      <td>272.426666</td>\n",
       "      <td>11.692067</td>\n",
       "      <td>00:29</td>\n",
       "    </tr>\n",
       "    <tr>\n",
       "      <td>1</td>\n",
       "      <td>239.186600</td>\n",
       "      <td>239.748978</td>\n",
       "      <td>11.084970</td>\n",
       "      <td>00:29</td>\n",
       "    </tr>\n",
       "    <tr>\n",
       "      <td>2</td>\n",
       "      <td>215.996613</td>\n",
       "      <td>234.788605</td>\n",
       "      <td>11.058614</td>\n",
       "      <td>00:29</td>\n",
       "    </tr>\n",
       "    <tr>\n",
       "      <td>3</td>\n",
       "      <td>193.488678</td>\n",
       "      <td>228.754120</td>\n",
       "      <td>11.020343</td>\n",
       "      <td>00:29</td>\n",
       "    </tr>\n",
       "    <tr>\n",
       "      <td>4</td>\n",
       "      <td>180.418030</td>\n",
       "      <td>229.137085</td>\n",
       "      <td>10.980090</td>\n",
       "      <td>00:29</td>\n",
       "    </tr>\n",
       "  </tbody>\n",
       "</table>"
      ],
      "text/plain": [
       "<IPython.core.display.HTML object>"
      ]
     },
     "metadata": {},
     "output_type": "display_data"
    }
   ],
   "source": [
    "learn.fit_one_cycle(5, 10e-3)"
   ]
  },
  {
   "cell_type": "code",
   "execution_count": 131,
   "metadata": {},
   "outputs": [
    {
     "data": {
      "text/html": [
       "<table border=\"1\" class=\"dataframe\">\n",
       "  <thead>\n",
       "    <tr style=\"text-align: left;\">\n",
       "      <th>epoch</th>\n",
       "      <th>train_loss</th>\n",
       "      <th>valid_loss</th>\n",
       "      <th>mae</th>\n",
       "      <th>time</th>\n",
       "    </tr>\n",
       "  </thead>\n",
       "  <tbody>\n",
       "    <tr>\n",
       "      <td>0</td>\n",
       "      <td>184.964645</td>\n",
       "      <td>228.383682</td>\n",
       "      <td>10.923099</td>\n",
       "      <td>00:29</td>\n",
       "    </tr>\n",
       "  </tbody>\n",
       "</table>"
      ],
      "text/plain": [
       "<IPython.core.display.HTML object>"
      ]
     },
     "metadata": {},
     "output_type": "display_data"
    },
    {
     "data": {
      "text/html": [
       "<table border=\"1\" class=\"dataframe\">\n",
       "  <thead>\n",
       "    <tr style=\"text-align: left;\">\n",
       "      <th>epoch</th>\n",
       "      <th>train_loss</th>\n",
       "      <th>valid_loss</th>\n",
       "      <th>mae</th>\n",
       "      <th>time</th>\n",
       "    </tr>\n",
       "  </thead>\n",
       "  <tbody>\n",
       "    <tr>\n",
       "      <td>0</td>\n",
       "      <td>183.250748</td>\n",
       "      <td>236.199432</td>\n",
       "      <td>11.422044</td>\n",
       "      <td>01:05</td>\n",
       "    </tr>\n",
       "    <tr>\n",
       "      <td>1</td>\n",
       "      <td>185.058029</td>\n",
       "      <td>230.773026</td>\n",
       "      <td>11.025460</td>\n",
       "      <td>01:05</td>\n",
       "    </tr>\n",
       "    <tr>\n",
       "      <td>2</td>\n",
       "      <td>168.229156</td>\n",
       "      <td>230.579803</td>\n",
       "      <td>11.186184</td>\n",
       "      <td>01:05</td>\n",
       "    </tr>\n",
       "    <tr>\n",
       "      <td>3</td>\n",
       "      <td>152.482483</td>\n",
       "      <td>225.336548</td>\n",
       "      <td>10.912498</td>\n",
       "      <td>01:05</td>\n",
       "    </tr>\n",
       "    <tr>\n",
       "      <td>4</td>\n",
       "      <td>143.311127</td>\n",
       "      <td>226.416031</td>\n",
       "      <td>10.991318</td>\n",
       "      <td>01:06</td>\n",
       "    </tr>\n",
       "  </tbody>\n",
       "</table>"
      ],
      "text/plain": [
       "<IPython.core.display.HTML object>"
      ]
     },
     "metadata": {},
     "output_type": "display_data"
    }
   ],
   "source": [
    "learn.fine_tune(5)"
   ]
  },
  {
   "cell_type": "code",
   "execution_count": null,
   "metadata": {},
   "outputs": [],
   "source": []
  },
  {
   "cell_type": "code",
   "execution_count": null,
   "metadata": {},
   "outputs": [],
   "source": []
  },
  {
   "cell_type": "code",
   "execution_count": null,
   "metadata": {},
   "outputs": [],
   "source": []
  },
  {
   "cell_type": "code",
   "execution_count": 132,
   "metadata": {},
   "outputs": [],
   "source": [
    "f = files[0]"
   ]
  },
  {
   "cell_type": "code",
   "execution_count": 141,
   "metadata": {},
   "outputs": [
    {
     "data": {
      "text/plain": [
       "'valid'"
      ]
     },
     "execution_count": 141,
     "metadata": {},
     "output_type": "execute_result"
    }
   ],
   "source": []
  },
  {
   "cell_type": "code",
   "execution_count": 142,
   "metadata": {},
   "outputs": [],
   "source": [
    "# need to move the test file back b/c of fastai path check\n",
    "test_files = []\n",
    "for f in files:\n",
    "    if f.parts[-2] == 'valid':\n",
    "        test_files.append(f)\n",
    "#     match = re.match('\\d*_(.*)_\\d*\\.txt$', f.name)\n",
    "#     sfere_id = int(match.groups()[0])\n",
    "#     if sfere_id in test_sfere_ids.sfere_id.values:\n",
    "#     os.rename(f, f'data/ds_lm_12m_icd_sfere/{f.name}')"
   ]
  },
  {
   "cell_type": "code",
   "execution_count": 143,
   "metadata": {},
   "outputs": [],
   "source": [
    "test_dl = learn.dls.test_dl(test_files)"
   ]
  },
  {
   "cell_type": "code",
   "execution_count": 144,
   "metadata": {},
   "outputs": [
    {
     "data": {
      "text/html": [],
      "text/plain": [
       "<IPython.core.display.HTML object>"
      ]
     },
     "metadata": {},
     "output_type": "display_data"
    }
   ],
   "source": [
    "r = learn.get_preds(dl=test_dl)"
   ]
  },
  {
   "cell_type": "code",
   "execution_count": 145,
   "metadata": {},
   "outputs": [],
   "source": [
    "preds, _ = r\n",
    "preds = preds.flatten().tolist()\n",
    "# preds"
   ]
  },
  {
   "cell_type": "code",
   "execution_count": 146,
   "metadata": {},
   "outputs": [
    {
     "data": {
      "text/plain": [
       "(1106, 1106)"
      ]
     },
     "execution_count": 146,
     "metadata": {},
     "output_type": "execute_result"
    }
   ],
   "source": [
    "len(test_files), len(preds)"
   ]
  },
  {
   "cell_type": "code",
   "execution_count": 147,
   "metadata": {},
   "outputs": [],
   "source": [
    "rows = []\n",
    "for p, f in zip(preds, files):\n",
    "    f.name\n",
    "    match = re.match('\\d*_(.*)_\\d*\\.txt$', f.name)\n",
    "    rows.append((int(match.groups()[0]), p))\n",
    "\n",
    "df = pd.DataFrame(rows, columns=['sfere_id', 'pred'])\n",
    "df.head()"
   ]
  },
  {
   "cell_type": "code",
   "execution_count": 149,
   "metadata": {},
   "outputs": [],
   "source": [
    "df.to_csv('./outputs/ds_hrs_lm_sfere_preds.csv', index=False)"
   ]
  },
  {
   "cell_type": "code",
   "execution_count": null,
   "metadata": {},
   "outputs": [],
   "source": []
  },
  {
   "cell_type": "code",
   "execution_count": null,
   "metadata": {},
   "outputs": [],
   "source": []
  },
  {
   "cell_type": "markdown",
   "metadata": {},
   "source": [
    "### Try and get patient vectors"
   ]
  },
  {
   "cell_type": "code",
   "execution_count": 43,
   "metadata": {},
   "outputs": [],
   "source": [
    "# TODO: Add some addl features ie age gender pre_impactable_spend and combine with encoded icds"
   ]
  },
  {
   "cell_type": "code",
   "execution_count": 157,
   "metadata": {},
   "outputs": [
    {
     "data": {
      "text/plain": [
       "PoolingLinearClassifier(\n",
       "  (layers): Sequential(\n",
       "    (0): LinBnDrop(\n",
       "      (0): BatchNorm1d(1200, eps=1e-05, momentum=0.1, affine=True, track_running_stats=True)\n",
       "      (1): Dropout(p=0.2, inplace=False)\n",
       "      (2): Linear(in_features=1200, out_features=50, bias=False)\n",
       "      (3): ReLU(inplace=True)\n",
       "    )\n",
       "    (1): LinBnDrop(\n",
       "      (0): BatchNorm1d(50, eps=1e-05, momentum=0.1, affine=True, track_running_stats=True)\n",
       "      (1): Dropout(p=0.1, inplace=False)\n",
       "      (2): Linear(in_features=50, out_features=1, bias=False)\n",
       "    )\n",
       "  )\n",
       ")"
      ]
     },
     "execution_count": 157,
     "metadata": {},
     "output_type": "execute_result"
    }
   ],
   "source": [
    "learn.model[1]"
   ]
  },
  {
   "cell_type": "code",
   "execution_count": 159,
   "metadata": {},
   "outputs": [
    {
     "data": {
      "text/plain": [
       "{'emb_sz': 400,\n",
       " 'n_hid': 1152,\n",
       " 'n_layers': 3,\n",
       " 'pad_token': 1,\n",
       " 'bidir': False,\n",
       " 'output_p': 0.1,\n",
       " 'hidden_p': 0.15,\n",
       " 'input_p': 0.25,\n",
       " 'embed_p': 0.02,\n",
       " 'weight_p': 0.2,\n",
       " 'tie_weights': True,\n",
       " 'out_bias': True}"
      ]
     },
     "execution_count": 159,
     "metadata": {},
     "output_type": "execute_result"
    }
   ],
   "source": [
    "config = awd_lstm_lm_config.copy()\n",
    "config"
   ]
  },
  {
   "cell_type": "code",
   "execution_count": 174,
   "metadata": {},
   "outputs": [],
   "source": [
    "learn.model = learn.model[0]\n",
    "# [1].get_submodule('layers')\n",
    "# [c for c in learn.model.children()]"
   ]
  },
  {
   "cell_type": "code",
   "execution_count": 185,
   "metadata": {},
   "outputs": [
    {
     "name": "stdout",
     "output_type": "stream",
     "text": [
      "(TensorText([[  2, 146, 465,  ..., 163,  12,  24],\n",
      "        [  2, 119, 317,  ...,   1,   1,   1],\n",
      "        [  1,   1,   1,  ...,   1,   1,   1],\n",
      "        ...,\n",
      "        [  1,   1,   1,  ...,   1,   1,   1],\n",
      "        [  1,   1,   1,  ...,   1,   1,   1],\n",
      "        [  1,   1,   1,  ...,   1,   1,   1]], device='cuda:0'),)\n"
     ]
    }
   ],
   "source": [
    "for b in test_dl:\n",
    "    print(b)\n",
    "    break"
   ]
  },
  {
   "cell_type": "code",
   "execution_count": 191,
   "metadata": {},
   "outputs": [
    {
     "data": {
      "text/plain": [
       "torch.Size([64, 3537])"
      ]
     },
     "execution_count": 191,
     "metadata": {},
     "output_type": "execute_result"
    }
   ],
   "source": [
    "b[0].shape"
   ]
  },
  {
   "cell_type": "code",
   "execution_count": 197,
   "metadata": {},
   "outputs": [
    {
     "data": {
      "text/plain": [
       "TensorText([  2, 146, 465,  ..., 163,  12,  24], device='cuda:0')"
      ]
     },
     "execution_count": 197,
     "metadata": {},
     "output_type": "execute_result"
    }
   ],
   "source": [
    "b[0][0]"
   ]
  },
  {
   "cell_type": "code",
   "execution_count": 199,
   "metadata": {},
   "outputs": [],
   "source": [
    "p = learn.model(b[0])"
   ]
  },
  {
   "cell_type": "code",
   "execution_count": 201,
   "metadata": {},
   "outputs": [
    {
     "data": {
      "text/plain": [
       "torch.Size([64, 1377, 400])"
      ]
     },
     "execution_count": 201,
     "metadata": {},
     "output_type": "execute_result"
    }
   ],
   "source": [
    "p[0].shape"
   ]
  },
  {
   "cell_type": "code",
   "execution_count": 204,
   "metadata": {},
   "outputs": [
    {
     "data": {
      "text/plain": [
       "TensorText([[ 0.8836,  0.9973,  0.9230,  ...,  0.9945, -0.8946,  0.9447],\n",
       "        [ 0.3784,  0.9992,  0.9986,  ...,  0.9920, -0.5852,  0.9875],\n",
       "        [ 0.2520,  0.9956,  0.9047,  ...,  0.8931, -0.2326,  0.9911],\n",
       "        ...,\n",
       "        [ 0.8409,  0.9967,  0.9999,  ...,  0.9142, -0.0750,  0.8968],\n",
       "        [ 0.9875,  0.9477,  0.9963,  ...,  0.9869,  0.9775,  0.8365],\n",
       "        [ 0.9904,  0.9387,  1.0000,  ...,  0.9259,  0.8454,  0.6689]],\n",
       "       device='cuda:0', grad_fn=<AliasBackward>)"
      ]
     },
     "execution_count": 204,
     "metadata": {},
     "output_type": "execute_result"
    }
   ],
   "source": [
    "def masked_max_pool(output, mask, bptt):\n",
    "    return output.masked_fill(mask[:,:,None], -float('inf')).max(dim=1)[0]\n",
    "r = masked_max_pool(p[0], p[1], None)\n",
    "r"
   ]
  },
  {
   "cell_type": "code",
   "execution_count": 205,
   "metadata": {},
   "outputs": [
    {
     "data": {
      "text/plain": [
       "torch.Size([64, 400])"
      ]
     },
     "execution_count": 205,
     "metadata": {},
     "output_type": "execute_result"
    }
   ],
   "source": [
    "r.shape"
   ]
  },
  {
   "cell_type": "code",
   "execution_count": 208,
   "metadata": {},
   "outputs": [],
   "source": [
    "def masked_max_pool(output, mask, bptt):\n",
    "    return output.masked_fill(mask[:,:,None], -float('inf')).max(dim=1)[0]\n",
    "\n",
    "def last_hdn_pool(output, mask, bptt):\n",
    "    last_lens = mask[:,-bptt:].long().sum(dim=1)\n",
    "    return output[torch.arange(0, output.size(0)),-last_lens-1]\n",
    "\n",
    "def masked_avg_pool(output, mask, bptt):\n",
    "    lens = output.shape[1] - mask.long().sum(dim=1)\n",
    "    avg_pool = output.masked_fill(mask[:, :, None], 0).sum(dim=1)\n",
    "    avg_pool.div_(lens.type(avg_pool.dtype)[:,None])\n",
    "    return avg_pool\n",
    "\n",
    "_pooler = {\n",
    "    'concat': masked_concat_pool,\n",
    "    'max': masked_max_pool,\n",
    "    'last': last_hdn_pool,\n",
    "    'avg': masked_avg_pool,\n",
    "}\n",
    "\n",
    "def get_sentence_encodings(learn, dl=None, method='max'):\n",
    "    if dl is None:\n",
    "        dl = learn.dls.valid\n",
    "    learn.model.to(dl.device)\n",
    "    learn.model.eval()\n",
    "    sentence_encoder = learn.model\n",
    "#     sentence_encoder = learn.model[0]\n",
    "    bptt = getattr(sentence_encoder, 'bptt')\n",
    "    encodings = []\n",
    "    y = []\n",
    "    pool = _pooler[method]\n",
    "    pbar = progress_bar(dl)\n",
    "    for b in pbar:\n",
    "        xb = b[0]\n",
    "        with torch.no_grad():\n",
    "            enc, mask = sentence_encoder(xb)\n",
    "        encodings.append(pool(enc, mask, bptt))\n",
    "        if len(b)==2: y.append(b[1])\n",
    "    if y:\n",
    "        return torch.cat(encodings), torch.cat(y)\n",
    "    else:\n",
    "        return torch.cat(encodings), None"
   ]
  },
  {
   "cell_type": "code",
   "execution_count": 209,
   "metadata": {},
   "outputs": [
    {
     "data": {
      "text/html": [
       "\n",
       "    <div>\n",
       "        <style>\n",
       "            /* Turns off some styling */\n",
       "            progress {\n",
       "                /* gets rid of default border in Firefox and Opera. */\n",
       "                border: none;\n",
       "                /* Needs to be in here for Safari polyfill so background images work as expected. */\n",
       "                background-size: auto;\n",
       "            }\n",
       "            .progress-bar-interrupted, .progress-bar-interrupted::-webkit-progress-bar {\n",
       "                background: #F44336;\n",
       "            }\n",
       "        </style>\n",
       "      <progress value='18' class='' max='18' style='width:300px; height:20px; vertical-align: middle;'></progress>\n",
       "      100.00% [18/18 00:03<00:00]\n",
       "    </div>\n",
       "    "
      ],
      "text/plain": [
       "<IPython.core.display.HTML object>"
      ]
     },
     "metadata": {},
     "output_type": "display_data"
    }
   ],
   "source": [
    "encodings = get_sentence_encodings(learn, test_dl, method='max')"
   ]
  },
  {
   "cell_type": "code",
   "execution_count": 213,
   "metadata": {},
   "outputs": [
    {
     "data": {
      "text/plain": [
       "torch.Size([1106, 400])"
      ]
     },
     "execution_count": 213,
     "metadata": {},
     "output_type": "execute_result"
    }
   ],
   "source": [
    "encodings[0].shape"
   ]
  },
  {
   "cell_type": "code",
   "execution_count": null,
   "metadata": {},
   "outputs": [],
   "source": []
  },
  {
   "cell_type": "code",
   "execution_count": 218,
   "metadata": {},
   "outputs": [
    {
     "data": {
      "text/html": [
       "<div>\n",
       "<style scoped>\n",
       "    .dataframe tbody tr th:only-of-type {\n",
       "        vertical-align: middle;\n",
       "    }\n",
       "\n",
       "    .dataframe tbody tr th {\n",
       "        vertical-align: top;\n",
       "    }\n",
       "\n",
       "    .dataframe thead th {\n",
       "        text-align: right;\n",
       "    }\n",
       "</style>\n",
       "<table border=\"1\" class=\"dataframe\">\n",
       "  <thead>\n",
       "    <tr style=\"text-align: right;\">\n",
       "      <th></th>\n",
       "      <th>sfere_id</th>\n",
       "      <th>encoding</th>\n",
       "    </tr>\n",
       "  </thead>\n",
       "  <tbody>\n",
       "    <tr>\n",
       "      <th>0</th>\n",
       "      <td>29581</td>\n",
       "      <td>[0.8835988640785217, 0.9973404407501221, 0.9230003356933594, 0.9132328033447266, 0.9837498664855957, 0.7293370366096497, 0.9370369911193848, 0.9514392018318176, 0.8978133797645569, 0.9928809404373169, 0.9834848046302795, 0.953713059425354, 0.9896664023399353, 0.9973999261856079, -0.07194118946790695, 0.9450374841690063, 0.7615752816200256, 0.9904870986938477, 0.8037583827972412, 0.9943156242370605, 0.9940720796585083, 0.989417314529419, 0.9500094652175903, 0.9966490268707275, 0.828056812286377, 0.25515642762184143, 0.9107691645622253, 0.9946683645248413, 0.9959135055541992, 0.8740137219429...</td>\n",
       "    </tr>\n",
       "    <tr>\n",
       "      <th>1</th>\n",
       "      <td>30246</td>\n",
       "      <td>[0.3783913552761078, 0.9992464780807495, 0.9985890984535217, 0.9930770397186279, 0.02186255156993866, 0.9901297092437744, 0.9082229137420654, 0.9673084020614624, 0.9985529780387878, 0.9831606149673462, 0.9944190382957458, 0.967221200466156, 0.998047947883606, 0.9978540539741516, 0.8389221429824829, 0.9017278552055359, 0.7639859318733215, 0.9962981939315796, 0.995924174785614, 0.9981665015220642, 0.9996671080589294, 0.994836151599884, 0.9868093132972717, 0.7239110469818115, 0.9861724972724915, 0.9989901185035706, 0.99885094165802, 0.9946638941764832, 0.8583559393882751, 0.9095064997673035, ...</td>\n",
       "    </tr>\n",
       "    <tr>\n",
       "      <th>2</th>\n",
       "      <td>30670</td>\n",
       "      <td>[0.252015084028244, 0.9955561757087708, 0.904729425907135, 0.9822694063186646, -0.13174910843372345, 0.9912676215171814, 0.7731713652610779, 0.8867921829223633, 0.8739010095596313, 0.9115517735481262, 0.9992135763168335, 0.819994330406189, 0.9877215027809143, 0.7854332327842712, 0.7505148649215698, 0.8042514324188232, 0.7611901164054871, 0.9664459824562073, 0.9780089259147644, 0.9840108156204224, 0.980398416519165, 0.9957728981971741, 0.8297146558761597, 0.9050136804580688, 0.9423801898956299, 0.9985165596008301, 0.9825594425201416, 0.9225603938102722, 0.9639935493469238, 0.818164110183715...</td>\n",
       "    </tr>\n",
       "    <tr>\n",
       "      <th>3</th>\n",
       "      <td>29249</td>\n",
       "      <td>[0.262898713350296, 0.9745723009109497, 0.9780696630477905, 0.9146320819854736, -0.7055046558380127, -0.6905450820922852, 0.7993090152740479, 0.9679160714149475, 0.9890725016593933, 0.9975789785385132, 0.9981364607810974, 0.9175068736076355, 0.9988387823104858, 0.9996628165245056, -0.10055335611104965, 0.9197019338607788, 0.6942135095596313, 0.9186991453170776, 0.5703691244125366, 0.9993622899055481, 0.9900875687599182, 0.9298713207244873, 0.9865602850914001, 0.7949761748313904, 0.9677327275276184, 0.9995937943458557, 0.9872386455535889, 0.9951695799827576, 0.9999866485595703, 0.9033841490...</td>\n",
       "    </tr>\n",
       "    <tr>\n",
       "      <th>4</th>\n",
       "      <td>29553</td>\n",
       "      <td>[0.9917703866958618, 0.9752515554428101, 0.9997694492340088, 0.942697286605835, -0.6068078875541687, 0.761864423751831, 0.8708745837211609, 0.9986209869384766, 0.9943908452987671, 0.9776286482810974, 0.9981840252876282, 0.9948448538780212, 0.9329229593276978, 0.9012890458106995, 0.38269251585006714, 0.8409509062767029, 0.7721584439277649, 0.9142084121704102, 0.9927392601966858, 0.9729107022285461, 0.9991215467453003, 0.9878517389297485, 0.8707382678985596, 0.999883234500885, 0.9611760973930359, 0.9647038578987122, 0.9519413709640503, 0.9944515824317932, 0.9901971220970154, 0.97000205516815...</td>\n",
       "    </tr>\n",
       "  </tbody>\n",
       "</table>\n",
       "</div>"
      ],
      "text/plain": [
       "   sfere_id  \\\n",
       "0     29581   \n",
       "1     30246   \n",
       "2     30670   \n",
       "3     29249   \n",
       "4     29553   \n",
       "\n",
       "                                                                                                                                                                                                                                                                                                                                                                                                                                                                                                                                                                                                                  encoding  \n",
       "0  [0.8835988640785217, 0.9973404407501221, 0.9230003356933594, 0.9132328033447266, 0.9837498664855957, 0.7293370366096497, 0.9370369911193848, 0.9514392018318176, 0.8978133797645569, 0.9928809404373169, 0.9834848046302795, 0.953713059425354, 0.9896664023399353, 0.9973999261856079, -0.07194118946790695, 0.9450374841690063, 0.7615752816200256, 0.9904870986938477, 0.8037583827972412, 0.9943156242370605, 0.9940720796585083, 0.989417314529419, 0.9500094652175903, 0.9966490268707275, 0.828056812286377, 0.25515642762184143, 0.9107691645622253, 0.9946683645248413, 0.9959135055541992, 0.8740137219429...  \n",
       "1  [0.3783913552761078, 0.9992464780807495, 0.9985890984535217, 0.9930770397186279, 0.02186255156993866, 0.9901297092437744, 0.9082229137420654, 0.9673084020614624, 0.9985529780387878, 0.9831606149673462, 0.9944190382957458, 0.967221200466156, 0.998047947883606, 0.9978540539741516, 0.8389221429824829, 0.9017278552055359, 0.7639859318733215, 0.9962981939315796, 0.995924174785614, 0.9981665015220642, 0.9996671080589294, 0.994836151599884, 0.9868093132972717, 0.7239110469818115, 0.9861724972724915, 0.9989901185035706, 0.99885094165802, 0.9946638941764832, 0.8583559393882751, 0.9095064997673035, ...  \n",
       "2  [0.252015084028244, 0.9955561757087708, 0.904729425907135, 0.9822694063186646, -0.13174910843372345, 0.9912676215171814, 0.7731713652610779, 0.8867921829223633, 0.8739010095596313, 0.9115517735481262, 0.9992135763168335, 0.819994330406189, 0.9877215027809143, 0.7854332327842712, 0.7505148649215698, 0.8042514324188232, 0.7611901164054871, 0.9664459824562073, 0.9780089259147644, 0.9840108156204224, 0.980398416519165, 0.9957728981971741, 0.8297146558761597, 0.9050136804580688, 0.9423801898956299, 0.9985165596008301, 0.9825594425201416, 0.9225603938102722, 0.9639935493469238, 0.818164110183715...  \n",
       "3  [0.262898713350296, 0.9745723009109497, 0.9780696630477905, 0.9146320819854736, -0.7055046558380127, -0.6905450820922852, 0.7993090152740479, 0.9679160714149475, 0.9890725016593933, 0.9975789785385132, 0.9981364607810974, 0.9175068736076355, 0.9988387823104858, 0.9996628165245056, -0.10055335611104965, 0.9197019338607788, 0.6942135095596313, 0.9186991453170776, 0.5703691244125366, 0.9993622899055481, 0.9900875687599182, 0.9298713207244873, 0.9865602850914001, 0.7949761748313904, 0.9677327275276184, 0.9995937943458557, 0.9872386455535889, 0.9951695799827576, 0.9999866485595703, 0.9033841490...  \n",
       "4  [0.9917703866958618, 0.9752515554428101, 0.9997694492340088, 0.942697286605835, -0.6068078875541687, 0.761864423751831, 0.8708745837211609, 0.9986209869384766, 0.9943908452987671, 0.9776286482810974, 0.9981840252876282, 0.9948448538780212, 0.9329229593276978, 0.9012890458106995, 0.38269251585006714, 0.8409509062767029, 0.7721584439277649, 0.9142084121704102, 0.9927392601966858, 0.9729107022285461, 0.9991215467453003, 0.9878517389297485, 0.8707382678985596, 0.999883234500885, 0.9611760973930359, 0.9647038578987122, 0.9519413709640503, 0.9944515824317932, 0.9901971220970154, 0.97000205516815...  "
      ]
     },
     "execution_count": 218,
     "metadata": {},
     "output_type": "execute_result"
    }
   ],
   "source": [
    "rows = []\n",
    "for p, f in zip(encodings[0], test_files):\n",
    "    f.name\n",
    "    match = re.match('\\d*_(.*)_\\d*\\.txt$', f.name)\n",
    "    rows.append((int(match.groups()[0]), p.tolist()))\n",
    "\n",
    "df = pd.DataFrame(rows, columns=['sfere_id', 'encoding'])\n",
    "df.head()"
   ]
  },
  {
   "cell_type": "code",
   "execution_count": 219,
   "metadata": {},
   "outputs": [],
   "source": [
    "df.to_csv('./outputs/sfere_icd_encodings_20221116.csv', index=False)"
   ]
  },
  {
   "cell_type": "code",
   "execution_count": null,
   "metadata": {},
   "outputs": [],
   "source": []
  },
  {
   "cell_type": "code",
   "execution_count": null,
   "metadata": {},
   "outputs": [],
   "source": []
  },
  {
   "cell_type": "code",
   "execution_count": null,
   "metadata": {},
   "outputs": [],
   "source": []
  },
  {
   "cell_type": "code",
   "execution_count": null,
   "metadata": {},
   "outputs": [],
   "source": []
  },
  {
   "cell_type": "code",
   "execution_count": null,
   "metadata": {},
   "outputs": [],
   "source": []
  },
  {
   "cell_type": "markdown",
   "metadata": {},
   "source": [
    "### Visualize Results"
   ]
  },
  {
   "cell_type": "code",
   "execution_count": null,
   "metadata": {},
   "outputs": [],
   "source": [
    "learn.model"
   ]
  },
  {
   "cell_type": "code",
   "execution_count": null,
   "metadata": {},
   "outputs": [],
   "source": [
    "from torch.nn import functional as F\n",
    "\n",
    "def get_normalized_embeddings():\n",
    "    return F.normalize(learn.model[0].encoder.weight)\n",
    "\n",
    "def most_similar(token, embs):\n",
    "    if token[:2] == 'xx':\n",
    "        return\n",
    "#     idx = num.vocab.itos.index(token)\n",
    "    idx = num.vocab.index(token)\n",
    "    sims = (embs[idx] @ embs.t()).cpu().detach().numpy()\n",
    "\n",
    "    print(f'Similar to: {token}: {icd_lookup[token]}')\n",
    "    for sim_idx in np.argsort(sims)[::-1][1:11]:\n",
    "        if num.vocab[sim_idx][:2] == 'xx':\n",
    "            print(f'{sims[sim_idx]:.02f}: {num.vocab[sim_idx]}')\n",
    "        else:\n",
    "            print(f'{sims[sim_idx]:.02f}: {num.vocab[sim_idx]}: {icd_lookup[num.vocab[sim_idx]]}')\n",
    "            "
   ]
  },
  {
   "cell_type": "code",
   "execution_count": null,
   "metadata": {},
   "outputs": [],
   "source": [
    "from sklearn.manifold import TSNE\n",
    "import matplotlib.pyplot as plt\n",
    "import random\n",
    "import json\n",
    "\n",
    "\n",
    "with open('icd_descr_lookup.json', 'r') as f:\n",
    "    icd_lookup = json.load(f)\n",
    "\n",
    "def tsne_plot(model):\n",
    "    \"Creates and TSNE model and plots it\"\n",
    "    labels = []\n",
    "    tokens = []\n",
    "\n",
    "    for word in model.wv.vocab:\n",
    "        tokens.append(model[word])\n",
    "        labels.append(word)\n",
    "    \n",
    "    tsne_model = TSNE(perplexity=40, n_components=2, init='pca', n_iter=2500, random_state=23)\n",
    "    new_values = tsne_model.fit_transform(tokens)\n",
    "\n",
    "    x = []\n",
    "    y = []\n",
    "    for value in new_values:\n",
    "        x.append(value[0])\n",
    "        y.append(value[1])\n",
    "        \n",
    "    plt.figure(figsize=(16, 16)) \n",
    "    for i in range(len(x)):\n",
    "        plt.scatter(x[i],y[i])\n",
    "        plt.annotate(labels[i],\n",
    "                     xy=(x[i], y[i]),\n",
    "                     xytext=(5, 2),\n",
    "                     textcoords='offset points',\n",
    "                     ha='right',\n",
    "                     va='bottom')\n",
    "    plt.show()"
   ]
  },
  {
   "cell_type": "code",
   "execution_count": null,
   "metadata": {},
   "outputs": [],
   "source": [
    "embeddings = get_normalized_embeddings()\n",
    "most_similar('e11', embeddings)"
   ]
  },
  {
   "cell_type": "code",
   "execution_count": null,
   "metadata": {},
   "outputs": [],
   "source": [
    "for code in random.sample(num.vocab, 10):\n",
    "    most_similar(code, embeddings)\n",
    "    print('')"
   ]
  },
  {
   "cell_type": "code",
   "execution_count": null,
   "metadata": {},
   "outputs": [],
   "source": []
  },
  {
   "cell_type": "code",
   "execution_count": null,
   "metadata": {},
   "outputs": [],
   "source": [
    "'xxfake'[:2]"
   ]
  },
  {
   "cell_type": "code",
   "execution_count": null,
   "metadata": {},
   "outputs": [],
   "source": [
    "icd_lookup = icd_lookup[0]['jsonb_object_agg']"
   ]
  },
  {
   "cell_type": "code",
   "execution_count": null,
   "metadata": {},
   "outputs": [],
   "source": [
    "icd_lookup['e11']"
   ]
  },
  {
   "cell_type": "code",
   "execution_count": null,
   "metadata": {},
   "outputs": [],
   "source": [
    "with open('icd_descr_lookup.json', 'w') as f:\n",
    "    json.dump(icd_lookup, f)"
   ]
  },
  {
   "cell_type": "code",
   "execution_count": null,
   "metadata": {},
   "outputs": [],
   "source": []
  },
  {
   "cell_type": "code",
   "execution_count": null,
   "metadata": {},
   "outputs": [],
   "source": []
  },
  {
   "cell_type": "code",
   "execution_count": null,
   "metadata": {},
   "outputs": [],
   "source": []
  },
  {
   "cell_type": "code",
   "execution_count": null,
   "metadata": {},
   "outputs": [],
   "source": []
  },
  {
   "cell_type": "code",
   "execution_count": null,
   "metadata": {},
   "outputs": [],
   "source": []
  },
  {
   "cell_type": "code",
   "execution_count": null,
   "metadata": {},
   "outputs": [],
   "source": []
  },
  {
   "cell_type": "code",
   "execution_count": null,
   "metadata": {},
   "outputs": [],
   "source": []
  },
  {
   "cell_type": "code",
   "execution_count": null,
   "metadata": {},
   "outputs": [],
   "source": []
  },
  {
   "cell_type": "code",
   "execution_count": null,
   "metadata": {},
   "outputs": [],
   "source": []
  },
  {
   "cell_type": "code",
   "execution_count": null,
   "metadata": {},
   "outputs": [],
   "source": []
  },
  {
   "cell_type": "code",
   "execution_count": null,
   "metadata": {},
   "outputs": [],
   "source": []
  },
  {
   "cell_type": "code",
   "execution_count": null,
   "metadata": {},
   "outputs": [],
   "source": []
  }
 ],
 "metadata": {
  "kernelspec": {
   "display_name": "Python 3 (ipykernel)",
   "language": "python",
   "name": "python3"
  },
  "language_info": {
   "codemirror_mode": {
    "name": "ipython",
    "version": 3
   },
   "file_extension": ".py",
   "mimetype": "text/x-python",
   "name": "python",
   "nbconvert_exporter": "python",
   "pygments_lexer": "ipython3",
   "version": "3.8.3"
  }
 },
 "nbformat": 4,
 "nbformat_minor": 4
}
