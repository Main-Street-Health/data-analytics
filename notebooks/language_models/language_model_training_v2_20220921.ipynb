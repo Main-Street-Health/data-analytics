{
 "cells": [
  {
   "cell_type": "code",
   "execution_count": 1,
   "metadata": {},
   "outputs": [],
   "source": [
    "import os\n",
    "import sys\n",
    "import re\n",
    "import time\n",
    "import random\n",
    "import warnings\n",
    "import collections\n",
    "from tqdm import tqdm\n",
    "import numpy as np\n",
    "import pandas as pd\n",
    "import matplotlib.pyplot as plt\n",
    "import matplotlib.gridspec as gridspec\n",
    "import seaborn as sns\n",
    "\n",
    "# sys.path.append('../src')\n",
    "# import cb_utils\n",
    "\n",
    "sns.set(style=\"darkgrid\")\n",
    "pd.options.display.max_columns = 500\n",
    "\n",
    "%load_ext autoreload\n",
    "%autoreload 2"
   ]
  },
  {
   "cell_type": "code",
   "execution_count": null,
   "metadata": {},
   "outputs": [],
   "source": []
  },
  {
   "cell_type": "markdown",
   "metadata": {},
   "source": [
    "### Modelling"
   ]
  },
  {
   "cell_type": "code",
   "execution_count": 2,
   "metadata": {},
   "outputs": [],
   "source": [
    "from fastai.text.all import *"
   ]
  },
  {
   "cell_type": "code",
   "execution_count": 3,
   "metadata": {},
   "outputs": [],
   "source": [
    "path = Path('../..')"
   ]
  },
  {
   "cell_type": "code",
   "execution_count": 4,
   "metadata": {},
   "outputs": [],
   "source": [
    "files = get_text_files(path, folders = ['just_icds'])"
   ]
  },
  {
   "cell_type": "code",
   "execution_count": 5,
   "metadata": {},
   "outputs": [
    {
     "data": {
      "text/plain": [
       "120789"
      ]
     },
     "execution_count": 5,
     "metadata": {},
     "output_type": "execute_result"
    }
   ],
   "source": [
    "len(files)"
   ]
  },
  {
   "cell_type": "code",
   "execution_count": 6,
   "metadata": {},
   "outputs": [],
   "source": [
    "txts = L(o.open().read().split(' ') for o in files)"
   ]
  },
  {
   "cell_type": "code",
   "execution_count": 7,
   "metadata": {},
   "outputs": [
    {
     "data": {
      "text/plain": [
       "120789"
      ]
     },
     "execution_count": 7,
     "metadata": {},
     "output_type": "execute_result"
    }
   ],
   "source": [
    "len(txts)"
   ]
  },
  {
   "cell_type": "code",
   "execution_count": 8,
   "metadata": {},
   "outputs": [],
   "source": [
    "lens = [len(t) for t in txts]"
   ]
  },
  {
   "cell_type": "code",
   "execution_count": 9,
   "metadata": {},
   "outputs": [
    {
     "data": {
      "text/plain": [
       "(411.2740398546225, 14228, 1)"
      ]
     },
     "execution_count": 9,
     "metadata": {},
     "output_type": "execute_result"
    }
   ],
   "source": [
    "np.mean(lens), np.max(lens), np.min(lens)"
   ]
  },
  {
   "cell_type": "code",
   "execution_count": 10,
   "metadata": {},
   "outputs": [],
   "source": [
    "counter = Counter(tok for pat in txts for tok in set(pat))"
   ]
  },
  {
   "cell_type": "code",
   "execution_count": 11,
   "metadata": {},
   "outputs": [],
   "source": [
    "vocab = make_vocab(counter, min_freq=20)"
   ]
  },
  {
   "cell_type": "code",
   "execution_count": 12,
   "metadata": {},
   "outputs": [],
   "source": [
    "dls = TextDataLoaders.from_folder(\n",
    "    path / 'just_icds',\n",
    "    valid_pct=.1,\n",
    "    seed=None,\n",
    "    text_vocab=vocab,\n",
    "    is_lm=True,\n",
    "    tok_tfm=None,\n",
    "    seq_len=72,\n",
    "    backwards=False,\n",
    "    bs=64,\n",
    "    val_bs=None,\n",
    "    shuffle=True,\n",
    "    device=None\n",
    ")"
   ]
  },
  {
   "cell_type": "code",
   "execution_count": 23,
   "metadata": {},
   "outputs": [],
   "source": [
    "learn = language_model_learner(\n",
    "    dls=dls,\n",
    "    arch=AWD_LSTM,\n",
    "    drop_mult=1,\n",
    "    pretrained=False,\n",
    "    cbs=EarlyStoppingCallback(monitor='valid_loss', min_delta=0.01, patience=4),\n",
    "    metrics=[accuracy, Perplexity()]).to_fp16()"
   ]
  },
  {
   "cell_type": "code",
   "execution_count": 24,
   "metadata": {},
   "outputs": [
    {
     "data": {
      "text/plain": [
       "10952"
      ]
     },
     "execution_count": 24,
     "metadata": {},
     "output_type": "execute_result"
    }
   ],
   "source": [
    "len(vocab)"
   ]
  },
  {
   "cell_type": "code",
   "execution_count": 25,
   "metadata": {},
   "outputs": [
    {
     "data": {
      "text/plain": [
       "SequentialRNN(\n",
       "  (0): AWD_LSTM(\n",
       "    (encoder): Embedding(10952, 400, padding_idx=1)\n",
       "    (encoder_dp): EmbeddingDropout(\n",
       "      (emb): Embedding(10952, 400, padding_idx=1)\n",
       "    )\n",
       "    (rnns): ModuleList(\n",
       "      (0): WeightDropout(\n",
       "        (module): LSTM(400, 1152, batch_first=True)\n",
       "      )\n",
       "      (1): WeightDropout(\n",
       "        (module): LSTM(1152, 1152, batch_first=True)\n",
       "      )\n",
       "      (2): WeightDropout(\n",
       "        (module): LSTM(1152, 400, batch_first=True)\n",
       "      )\n",
       "    )\n",
       "    (input_dp): RNNDropout()\n",
       "    (hidden_dps): ModuleList(\n",
       "      (0): RNNDropout()\n",
       "      (1): RNNDropout()\n",
       "      (2): RNNDropout()\n",
       "    )\n",
       "  )\n",
       "  (1): LinearDecoder(\n",
       "    (decoder): Linear(in_features=400, out_features=10952, bias=True)\n",
       "    (output_dp): RNNDropout()\n",
       "  )\n",
       ")"
      ]
     },
     "execution_count": 25,
     "metadata": {},
     "output_type": "execute_result"
    }
   ],
   "source": [
    "learn.model"
   ]
  },
  {
   "cell_type": "code",
   "execution_count": null,
   "metadata": {},
   "outputs": [],
   "source": []
  },
  {
   "cell_type": "code",
   "execution_count": 22,
   "metadata": {},
   "outputs": [
    {
     "data": {
      "text/html": [],
      "text/plain": [
       "<IPython.core.display.HTML object>"
      ]
     },
     "metadata": {},
     "output_type": "display_data"
    },
    {
     "name": "stderr",
     "output_type": "stream",
     "text": [
      "/home/bp/.local/share/virtualenvs/data-analytics-qWXImv-u/lib/python3.8/site-packages/fastai/callback/schedule.py:269: UserWarning: color is redundantly defined by the 'color' keyword argument and the fmt string \"ro\" (-> color='r'). The keyword argument will take precedence.\n",
      "  ax.plot(val, idx, 'ro', label=nm, c=color)\n"
     ]
    },
    {
     "data": {
      "text/plain": [
       "SuggestedLRs(valley=0.00013182566908653826)"
      ]
     },
     "execution_count": 22,
     "metadata": {},
     "output_type": "execute_result"
    },
    {
     "data": {
      "image/png": "[encoded data removed]",
      "text/plain": [
       "<Figure size 432x288 with 1 Axes>"
      ]
     },
     "metadata": {},
     "output_type": "display_data"
    }
   ],
   "source": [
    "learn.lr_find()"
   ]
  },
  {
   "cell_type": "code",
   "execution_count": 27,
   "metadata": {},
   "outputs": [
    {
     "data": {
      "text/html": [
       "<table border=\"1\" class=\"dataframe\">\n",
       "  <thead>\n",
       "    <tr style=\"text-align: left;\">\n",
       "      <th>epoch</th>\n",
       "      <th>train_loss</th>\n",
       "      <th>valid_loss</th>\n",
       "      <th>accuracy</th>\n",
       "      <th>perplexity</th>\n",
       "      <th>time</th>\n",
       "    </tr>\n",
       "  </thead>\n",
       "  <tbody>\n",
       "    <tr>\n",
       "      <td>0</td>\n",
       "      <td>4.855841</td>\n",
       "      <td>4.892498</td>\n",
       "      <td>0.194350</td>\n",
       "      <td>133.286102</td>\n",
       "      <td>30:39</td>\n",
       "    </tr>\n",
       "    <tr>\n",
       "      <td>1</td>\n",
       "      <td>3.516081</td>\n",
       "      <td>3.396230</td>\n",
       "      <td>0.410725</td>\n",
       "      <td>29.851347</td>\n",
       "      <td>30:16</td>\n",
       "    </tr>\n",
       "    <tr>\n",
       "      <td>2</td>\n",
       "      <td>3.042230</td>\n",
       "      <td>2.983474</td>\n",
       "      <td>0.463655</td>\n",
       "      <td>19.756327</td>\n",
       "      <td>30:21</td>\n",
       "    </tr>\n",
       "    <tr>\n",
       "      <td>3</td>\n",
       "      <td>2.883500</td>\n",
       "      <td>2.828753</td>\n",
       "      <td>0.483862</td>\n",
       "      <td>16.924339</td>\n",
       "      <td>30:27</td>\n",
       "    </tr>\n",
       "    <tr>\n",
       "      <td>4</td>\n",
       "      <td>2.825930</td>\n",
       "      <td>2.738872</td>\n",
       "      <td>0.494305</td>\n",
       "      <td>15.469522</td>\n",
       "      <td>30:15</td>\n",
       "    </tr>\n",
       "    <tr>\n",
       "      <td>5</td>\n",
       "      <td>2.805090</td>\n",
       "      <td>2.680237</td>\n",
       "      <td>0.501016</td>\n",
       "      <td>14.588544</td>\n",
       "      <td>30:18</td>\n",
       "    </tr>\n",
       "    <tr>\n",
       "      <td>6</td>\n",
       "      <td>2.762902</td>\n",
       "      <td>2.645252</td>\n",
       "      <td>0.505322</td>\n",
       "      <td>14.086994</td>\n",
       "      <td>30:36</td>\n",
       "    </tr>\n",
       "    <tr>\n",
       "      <td>7</td>\n",
       "      <td>2.708227</td>\n",
       "      <td>2.614480</td>\n",
       "      <td>0.508642</td>\n",
       "      <td>13.660115</td>\n",
       "      <td>30:18</td>\n",
       "    </tr>\n",
       "    <tr>\n",
       "      <td>8</td>\n",
       "      <td>2.745945</td>\n",
       "      <td>2.587319</td>\n",
       "      <td>0.511145</td>\n",
       "      <td>13.294087</td>\n",
       "      <td>30:18</td>\n",
       "    </tr>\n",
       "    <tr>\n",
       "      <td>9</td>\n",
       "      <td>2.622487</td>\n",
       "      <td>2.564356</td>\n",
       "      <td>0.513946</td>\n",
       "      <td>12.992293</td>\n",
       "      <td>30:38</td>\n",
       "    </tr>\n",
       "    <tr>\n",
       "      <td>10</td>\n",
       "      <td>2.629423</td>\n",
       "      <td>2.546241</td>\n",
       "      <td>0.515956</td>\n",
       "      <td>12.759049</td>\n",
       "      <td>30:18</td>\n",
       "    </tr>\n",
       "    <tr>\n",
       "      <td>11</td>\n",
       "      <td>2.594825</td>\n",
       "      <td>2.524354</td>\n",
       "      <td>0.518094</td>\n",
       "      <td>12.482835</td>\n",
       "      <td>30:19</td>\n",
       "    </tr>\n",
       "    <tr>\n",
       "      <td>12</td>\n",
       "      <td>2.442693</td>\n",
       "      <td>2.508066</td>\n",
       "      <td>0.520102</td>\n",
       "      <td>12.281155</td>\n",
       "      <td>30:15</td>\n",
       "    </tr>\n",
       "    <tr>\n",
       "      <td>13</td>\n",
       "      <td>2.559941</td>\n",
       "      <td>2.494064</td>\n",
       "      <td>0.522100</td>\n",
       "      <td>12.110397</td>\n",
       "      <td>30:16</td>\n",
       "    </tr>\n",
       "    <tr>\n",
       "      <td>14</td>\n",
       "      <td>2.582794</td>\n",
       "      <td>2.479933</td>\n",
       "      <td>0.523106</td>\n",
       "      <td>11.940462</td>\n",
       "      <td>30:16</td>\n",
       "    </tr>\n",
       "    <tr>\n",
       "      <td>15</td>\n",
       "      <td>2.495661</td>\n",
       "      <td>2.469100</td>\n",
       "      <td>0.524707</td>\n",
       "      <td>11.811811</td>\n",
       "      <td>30:31</td>\n",
       "    </tr>\n",
       "    <tr>\n",
       "      <td>16</td>\n",
       "      <td>2.503924</td>\n",
       "      <td>2.461954</td>\n",
       "      <td>0.525536</td>\n",
       "      <td>11.727707</td>\n",
       "      <td>30:28</td>\n",
       "    </tr>\n",
       "    <tr>\n",
       "      <td>17</td>\n",
       "      <td>2.416735</td>\n",
       "      <td>2.457894</td>\n",
       "      <td>0.526093</td>\n",
       "      <td>11.680182</td>\n",
       "      <td>30:22</td>\n",
       "    </tr>\n",
       "    <tr>\n",
       "      <td>18</td>\n",
       "      <td>2.520345</td>\n",
       "      <td>2.455580</td>\n",
       "      <td>0.526285</td>\n",
       "      <td>11.653188</td>\n",
       "      <td>30:22</td>\n",
       "    </tr>\n",
       "    <tr>\n",
       "      <td>19</td>\n",
       "      <td>2.492350</td>\n",
       "      <td>2.455203</td>\n",
       "      <td>0.526249</td>\n",
       "      <td>11.648799</td>\n",
       "      <td>30:21</td>\n",
       "    </tr>\n",
       "  </tbody>\n",
       "</table>"
      ],
      "text/plain": [
       "<IPython.core.display.HTML object>"
      ]
     },
     "metadata": {},
     "output_type": "display_data"
    }
   ],
   "source": [
    "learn.fit_one_cycle(20, 10e-4)"
   ]
  },
  {
   "cell_type": "markdown",
   "metadata": {},
   "source": [
    "### Save model, encoder, and vocab"
   ]
  },
  {
   "cell_type": "code",
   "execution_count": 28,
   "metadata": {},
   "outputs": [
    {
     "data": {
      "text/plain": [
       "'/home/bp/data-analytics/modelslml_epoch_20_20220922.pkl'"
      ]
     },
     "execution_count": 28,
     "metadata": {},
     "output_type": "execute_result"
    }
   ],
   "source": [
    "models_path = '/home/bp/data-analytics/models'\n",
    "file = models_path + 'lml_epoch_20_20220922.pkl'\n",
    "file"
   ]
  },
  {
   "cell_type": "code",
   "execution_count": 29,
   "metadata": {},
   "outputs": [
    {
     "data": {
      "text/plain": [
       "Path('/home/bp/data-analytics/modelslml_epoch_20_20220922.pkl.pth')"
      ]
     },
     "execution_count": 29,
     "metadata": {},
     "output_type": "execute_result"
    }
   ],
   "source": [
    "learn.save(file, with_opt=True, pickle_protocol=2)"
   ]
  },
  {
   "cell_type": "code",
   "execution_count": 30,
   "metadata": {},
   "outputs": [],
   "source": [
    "file = models_path + 'lml_epoch_20_encoder_20220922'\n",
    "learn.save_encoder(file)"
   ]
  },
  {
   "cell_type": "code",
   "execution_count": 31,
   "metadata": {},
   "outputs": [
    {
     "data": {
      "text/plain": [
       "'/home/bp/data-analytics/modelslml_epoch_20_encoder_20220922'"
      ]
     },
     "execution_count": 31,
     "metadata": {},
     "output_type": "execute_result"
    }
   ],
   "source": [
    "file"
   ]
  },
  {
   "cell_type": "code",
   "execution_count": 33,
   "metadata": {},
   "outputs": [
    {
     "data": {
      "text/plain": [
       "'/home/bp/data-analytics/modelslml_epoch_20_vocab_20220922.pkl'"
      ]
     },
     "execution_count": 33,
     "metadata": {},
     "output_type": "execute_result"
    }
   ],
   "source": [
    "vocab_path = models_path + 'lml_epoch_20_vocab_20220922.pkl'\n",
    "with open(vocab_path, 'wb') as f:\n",
    "    pickle.dump(vocab, f)\n",
    "vocab_path"
   ]
  },
  {
   "cell_type": "markdown",
   "metadata": {},
   "source": [
    "### Visualize Results"
   ]
  },
  {
   "cell_type": "code",
   "execution_count": 34,
   "metadata": {},
   "outputs": [
    {
     "data": {
      "text/plain": [
       "SequentialRNN(\n",
       "  (0): AWD_LSTM(\n",
       "    (encoder): Embedding(10952, 400, padding_idx=1)\n",
       "    (encoder_dp): EmbeddingDropout(\n",
       "      (emb): Embedding(10952, 400, padding_idx=1)\n",
       "    )\n",
       "    (rnns): ModuleList(\n",
       "      (0): WeightDropout(\n",
       "        (module): LSTM(400, 1152, batch_first=True)\n",
       "      )\n",
       "      (1): WeightDropout(\n",
       "        (module): LSTM(1152, 1152, batch_first=True)\n",
       "      )\n",
       "      (2): WeightDropout(\n",
       "        (module): LSTM(1152, 400, batch_first=True)\n",
       "      )\n",
       "    )\n",
       "    (input_dp): RNNDropout()\n",
       "    (hidden_dps): ModuleList(\n",
       "      (0): RNNDropout()\n",
       "      (1): RNNDropout()\n",
       "      (2): RNNDropout()\n",
       "    )\n",
       "  )\n",
       "  (1): LinearDecoder(\n",
       "    (decoder): Linear(in_features=400, out_features=10952, bias=True)\n",
       "    (output_dp): RNNDropout()\n",
       "  )\n",
       ")"
      ]
     },
     "execution_count": 34,
     "metadata": {},
     "output_type": "execute_result"
    }
   ],
   "source": [
    "learn.model"
   ]
  },
  {
   "cell_type": "code",
   "execution_count": 41,
   "metadata": {},
   "outputs": [
    {
     "data": {
      "text/plain": [
       "'Type 2 diabetes mellitus'"
      ]
     },
     "execution_count": 41,
     "metadata": {},
     "output_type": "execute_result"
    }
   ],
   "source": [
    "with open('icd_descr_lookup.json', 'rb') as f:\n",
    "    icd_lookup = json.load(f)\n",
    "icd_lookup['e11']"
   ]
  },
  {
   "cell_type": "code",
   "execution_count": 42,
   "metadata": {},
   "outputs": [],
   "source": [
    "from torch.nn import functional as F\n",
    "\n",
    "def get_normalized_embeddings():\n",
    "    return F.normalize(learn.model[0].encoder.weight)\n",
    "\n",
    "def most_similar(token, embs):\n",
    "    if token[:2] == 'xx':\n",
    "        return\n",
    "#     idx = num.vocab.itos.index(token)\n",
    "    idx = vocab.index(token)\n",
    "    sims = (embs[idx] @ embs.t()).cpu().detach().numpy()\n",
    "\n",
    "    print(f'Similar to: {token}: {icd_lookup[token]}')\n",
    "    for sim_idx in np.argsort(sims)[::-1][1:11]:\n",
    "        if vocab[sim_idx][:2] == 'xx':\n",
    "            print(f'{sims[sim_idx]:.02f}: {vocab[sim_idx]}')\n",
    "        else:\n",
    "            print(f'{sims[sim_idx]:.02f}: {vocab[sim_idx]}: {icd_lookup[vocab[sim_idx]]}')\n",
    "            "
   ]
  },
  {
   "cell_type": "code",
   "execution_count": 46,
   "metadata": {},
   "outputs": [
    {
     "name": "stdout",
     "output_type": "stream",
     "text": [
      "Similar to: e10: Type 1 diabetes mellitus\n",
      "0.95: e08: Diabetes mellitus due to underlying condition\n",
      "0.95: e13: Other specified diabetes mellitus\n",
      "0.94: e16: Other disorders of pancreatic internal secretion\n",
      "0.94: e11: Type 2 diabetes mellitus\n",
      "0.94: k52: Other and unspecified noninfective gastroenteritis and colitis\n",
      "0.93: i73: Other peripheral vascular diseases\n",
      "0.93: h54: Blindness and low vision\n",
      "0.93: r73: Elevated blood glucose level\n",
      "0.93: d50: Iron deficiency anemia\n",
      "0.93: l03: Cellulitis and acute lymphangitis\n"
     ]
    }
   ],
   "source": [
    "embeddings = get_normalized_embeddings()\n",
    "most_similar('e10', embeddings)"
   ]
  },
  {
   "cell_type": "code",
   "execution_count": 47,
   "metadata": {},
   "outputs": [
    {
     "name": "stdout",
     "output_type": "stream",
     "text": [
      "Similar to: m24112: Other articular cartilage disorders, left shoulder\n",
      "0.98: m24012: Loose body in left shoulder\n",
      "0.98: m948x1: Other specified disorders of cartilage, shoulder\n",
      "0.98: s46212a: Strain of muscle, fascia and tendon of other parts of biceps, left arm, initial encounter\n",
      "0.98: s43032a: Inferior subluxation of left humerus, initial encounter\n",
      "0.98: s43492a: Other sprain of left shoulder joint, initial encounter\n",
      "0.98: m21822: Other specified acquired deformities of left upper arm\n",
      "0.98: s46112a: Strain of muscle, fascia and tendon of long head of biceps, left arm, initial encounter\n",
      "0.98: m94212: Chondromalacia, left shoulder\n",
      "0.97: s43082a: Other subluxation of left shoulder joint, initial encounter\n",
      "0.97: s43002a: Unspecified subluxation of left shoulder joint, initial encounter\n",
      "\n",
      "Similar to: t83092a: Other mechanical complication of nephrostomy catheter, initial encounter\n",
      "0.97: t83022a: Displacement of nephrostomy catheter, initial encounter\n",
      "0.97: t83032a: Leakage of nephrostomy catheter, initial encounter\n",
      "0.97: n99522: Malfunction of incontinent external stoma of urinary tract\n",
      "0.97: t83122a: Displacement of indwelling ureteral stent, initial encounter\n",
      "0.96: t83020a: Displacement of cystostomy catheter, initial encounter\n",
      "0.96: n99521: Infection of incontinent external stoma of urinary tract\n",
      "0.96: n99528: Other complication of incontinent external stoma of urinary tract\n",
      "0.96: t83021a: Displacement of indwelling urethral catheter, initial encounter\n",
      "0.96: n2882: Megaloureter\n",
      "0.96: t83038a: Leakage of other urinary catheter, initial encounter\n",
      "\n",
      "Similar to: s91319a: Laceration without foreign body, unspecified foot, initial encounter\n",
      "0.99: m8000xg: Age-related osteoporosis with current pathological fracture, unspecified site, subsequent encounter for fracture with delayed healing\n",
      "0.99: i69991: Dysphagia following unspecified cerebrovascular disease\n",
      "0.99: y00xxxa: Assault by blunt object, initial encounter\n",
      "0.99: s99921a: Unspecified injury of right foot, initial encounter\n",
      "0.99: s6000xa: Contusion of unspecified finger without damage to nail, initial encounter\n",
      "0.99: r1115: Cyclical vomiting syndrome unrelated to migraine\n",
      "0.99: s7222xa: Displaced subtrochanteric fracture of left femur, initial encounter for closed fracture\n",
      "0.99: g4000: Localization-related (focal) (partial) idiopathic epilepsy and epileptic syndromes with seizures of localized onset, not intractable\n",
      "0.99: i69111: Memory deficit following nontraumatic intracerebral hemorrhage\n",
      "0.99: h2000: Unspecified acute and subacute iridocyclitis\n",
      "\n",
      "Similar to: h11152: Pinguecula, left eye\n",
      "1.00: h01114: Allergic dermatitis of left upper eyelid\n",
      "1.00: s41112d: Laceration without foreign body of left upper arm, subsequent encounter\n",
      "1.00: g40009: Localization-related (focal) (partial) idiopathic epilepsy and epileptic syndromes with seizures of localized onset, not intractable, without status epilepticus\n",
      "1.00: i2111: ST elevation (STEMI) myocardial infarction involving right coronary artery\n",
      "1.00: x58xxxa: Exposure to other specified factors, initial encounter\n",
      "1.00: s32000s: Wedge compression fracture of unspecified lumbar vertebra, sequela\n",
      "1.00: g7000: Myasthenia gravis without (acute) exacerbation\n",
      "1.00: m60009: Infective myositis, unspecified site\n",
      "1.00: w06xxxa: Fall from bed, initial encounter\n",
      "1.00: z86000: Personal history of in-situ neoplasm of breast\n",
      "\n",
      "Similar to: s22000a: Wedge compression fracture of unspecified thoracic vertebra, initial encounter for closed fracture\n",
      "1.00: x19xxxa: Contact with other heat and hot substances, initial encounter\n",
      "1.00: t2000xa: Burn of unspecified degree of head, face, and neck, unspecified site, initial encounter\n",
      "1.00: xxpad\n",
      "1.00: r1115: Cyclical vomiting syndrome unrelated to migraine\n",
      "1.00: i2111: ST elevation (STEMI) myocardial infarction involving right coronary artery\n",
      "1.00: s42222d: 2-part displaced fracture of surgical neck of left humerus, subsequent encounter for fracture with routine healing\n",
      "1.00: s0003xa: Contusion of scalp, initial encounter\n",
      "1.00: z0000: Encounter for general adult medical examination without abnormal findings\n",
      "1.00: y00xxxa: Assault by blunt object, initial encounter\n",
      "1.00: h11151: Pinguecula, right eye\n",
      "\n",
      "Similar to: h66005: Acute suppurative otitis media without spontaneous rupture of ear drum, recurrent, left ear\n",
      "0.98: h66004: Acute suppurative otitis media without spontaneous rupture of ear drum, recurrent, right ear\n",
      "0.98: h66006: Acute suppurative otitis media without spontaneous rupture of ear drum, recurrent, bilateral\n",
      "0.97: h66003: Acute suppurative otitis media without spontaneous rupture of ear drum, bilateral\n",
      "0.97: h66013: Acute suppurative otitis media with spontaneous rupture of ear drum, bilateral\n",
      "0.97: h66002: Acute suppurative otitis media without spontaneous rupture of ear drum, left ear\n",
      "0.97: h66012: Acute suppurative otitis media with spontaneous rupture of ear drum, left ear\n",
      "0.97: h66011: Acute suppurative otitis media with spontaneous rupture of ear drum, right ear\n",
      "0.97: h65492: Other chronic nonsuppurative otitis media, left ear\n",
      "0.97: h66001: Acute suppurative otitis media without spontaneous rupture of ear drum, right ear\n",
      "0.97: h65193: Other acute nonsuppurative otitis media, bilateral\n",
      "\n",
      "Similar to: h6613: Chronic tubotympanic suppurative otitis media, bilateral\n",
      "0.98: g8111: Spastic hemiplegia affecting right dominant side\n",
      "0.98: m19111: Post-traumatic osteoarthritis, right shoulder\n",
      "0.98: f333: Major depressive disorder, recurrent, severe with psychotic symptoms\n",
      "0.98: h33321: Round hole, right eye\n",
      "0.98: w07xxxa: Fall from chair, initial encounter\n",
      "0.98: r000: Tachycardia, unspecified\n",
      "0.98: j0111: Acute recurrent frontal sinusitis\n",
      "0.98: d444: Neoplasm of uncertain behavior of craniopharyngeal duct\n",
      "0.98: f1110: Opioid abuse, uncomplicated\n",
      "0.98: s32010g: Wedge compression fracture of first lumbar vertebra, subsequent encounter for fracture with delayed healing\n",
      "\n",
      "Similar to: z0142: Encounter for cervical smear to confirm findings of recent normal smear following initial abnormal smear\n",
      "0.98: r87811: Vaginal high risk human papillomavirus (HPV) DNA test positive\n",
      "0.98: s91115a: Laceration without foreign body of left lesser toe(s) without damage to nail, initial encounter\n",
      "0.98: s12000d: Unspecified displaced fracture of first cervical vertebra, subsequent encounter for fracture with routine healing\n",
      "0.98: c4442: Squamous cell carcinoma of skin of scalp and neck\n",
      "0.98: x58xxxa: Exposure to other specified factors, initial encounter\n",
      "0.98: q111: Other anophthalmos\n",
      "0.98: t2000xa: Burn of unspecified degree of head, face, and neck, unspecified site, initial encounter\n",
      "0.98: s91114a: Laceration without foreign body of right lesser toe(s) without damage to nail, initial encounter\n",
      "0.98: m222x2: Patellofemoral disorders, left knee\n",
      "0.98: d444: Neoplasm of uncertain behavior of craniopharyngeal duct\n",
      "\n",
      "Similar to: k2990: Gastroduodenitis, unspecified, without bleeding\n",
      "0.96: k2960: Other gastritis without bleeding\n",
      "0.96: k319: Disease of stomach and duodenum, unspecified\n",
      "0.96: k229: Disease of esophagus, unspecified\n",
      "0.96: d131: Benign neoplasm of stomach\n",
      "0.96: k2930: Chronic superficial gastritis without bleeding\n",
      "0.96: k5710: Diverticulosis of small intestine without perforation or abscess without bleeding\n",
      "0.96: k228: Other specified diseases of esophagus\n",
      "0.96: d132: Benign neoplasm of duodenum\n",
      "0.95: d130: Benign neoplasm of esophagus\n",
      "0.95: k2980: Duodenitis without bleeding\n",
      "\n",
      "Similar to: q753: Macrocephaly\n",
      "0.96: q388: Other congenital malformations of pharynx\n",
      "0.96: q5310: Unspecified undescended testicle, unilateral\n",
      "0.96: f958: Other tic disorders\n",
      "0.96: h6642: Suppurative otitis media, unspecified, left ear\n",
      "0.96: q381: Ankyloglossia\n",
      "0.96: z1341: Encounter for autism screening\n",
      "0.96: z7183: Encounter for nonprocreative genetic counseling\n",
      "0.96: q53112: Unilateral inguinal testis\n",
      "0.96: f984: Stereotyped movement disorders\n",
      "0.96: z8279: Family history of other congenital malformations, deformations and chromosomal abnormalities\n",
      "\n"
     ]
    }
   ],
   "source": [
    "for code in random.sample(vocab, 10):\n",
    "    most_similar(code, embeddings)\n",
    "    print('')"
   ]
  },
  {
   "cell_type": "code",
   "execution_count": null,
   "metadata": {},
   "outputs": [],
   "source": []
  },
  {
   "cell_type": "code",
   "execution_count": null,
   "metadata": {},
   "outputs": [],
   "source": []
  },
  {
   "cell_type": "code",
   "execution_count": null,
   "metadata": {},
   "outputs": [],
   "source": []
  },
  {
   "cell_type": "code",
   "execution_count": null,
   "metadata": {},
   "outputs": [],
   "source": []
  },
  {
   "cell_type": "code",
   "execution_count": null,
   "metadata": {},
   "outputs": [],
   "source": []
  },
  {
   "cell_type": "code",
   "execution_count": 39,
   "metadata": {},
   "outputs": [],
   "source": []
  },
  {
   "cell_type": "code",
   "execution_count": null,
   "metadata": {},
   "outputs": [],
   "source": []
  },
  {
   "cell_type": "code",
   "execution_count": null,
   "metadata": {},
   "outputs": [],
   "source": []
  },
  {
   "cell_type": "code",
   "execution_count": null,
   "metadata": {},
   "outputs": [],
   "source": []
  },
  {
   "cell_type": "code",
   "execution_count": null,
   "metadata": {},
   "outputs": [],
   "source": []
  },
  {
   "cell_type": "code",
   "execution_count": null,
   "metadata": {},
   "outputs": [],
   "source": []
  },
  {
   "cell_type": "code",
   "execution_count": null,
   "metadata": {},
   "outputs": [],
   "source": []
  },
  {
   "cell_type": "code",
   "execution_count": null,
   "metadata": {},
   "outputs": [],
   "source": []
  },
  {
   "cell_type": "code",
   "execution_count": null,
   "metadata": {},
   "outputs": [],
   "source": []
  },
  {
   "cell_type": "code",
   "execution_count": null,
   "metadata": {},
   "outputs": [],
   "source": []
  },
  {
   "cell_type": "code",
   "execution_count": null,
   "metadata": {},
   "outputs": [],
   "source": []
  },
  {
   "cell_type": "code",
   "execution_count": null,
   "metadata": {},
   "outputs": [],
   "source": []
  }
 ],
 "metadata": {
  "kernelspec": {
   "display_name": "Python 3 (ipykernel)",
   "language": "python",
   "name": "python3"
  },
  "language_info": {
   "codemirror_mode": {
    "name": "ipython",
    "version": 3
   },
   "file_extension": ".py",
   "mimetype": "text/x-python",
   "name": "python",
   "nbconvert_exporter": "python",
   "pygments_lexer": "ipython3",
   "version": "3.8.3"
  }
 },
 "nbformat": 4,
 "nbformat_minor": 4
}
