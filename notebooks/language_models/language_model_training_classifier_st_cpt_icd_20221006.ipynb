{
 "cells": [
  {
   "cell_type": "code",
   "execution_count": 78,
   "metadata": {},
   "outputs": [
    {
     "name": "stdout",
     "output_type": "stream",
     "text": [
      "The autoreload extension is already loaded. To reload it, use:\n",
      "  %reload_ext autoreload\n"
     ]
    }
   ],
   "source": [
    "import os\n",
    "import sys\n",
    "import re\n",
    "import time\n",
    "import random\n",
    "import warnings\n",
    "import collections\n",
    "from tqdm import tqdm\n",
    "import numpy as np\n",
    "import pandas as pd\n",
    "import matplotlib.pyplot as plt\n",
    "import matplotlib.gridspec as gridspec\n",
    "import seaborn as sns\n",
    "\n",
    "# sys.path.append('../src')\n",
    "# import cb_utils\n",
    "\n",
    "sns.set(style=\"darkgrid\")\n",
    "pd.options.display.max_columns = 500\n",
    "\n",
    "%load_ext autoreload\n",
    "%autoreload 2"
   ]
  },
  {
   "cell_type": "code",
   "execution_count": null,
   "metadata": {},
   "outputs": [],
   "source": []
  },
  {
   "cell_type": "markdown",
   "metadata": {},
   "source": [
    "### Modelling"
   ]
  },
  {
   "cell_type": "code",
   "execution_count": 79,
   "metadata": {},
   "outputs": [],
   "source": [
    "from fastai.text.all import *"
   ]
  },
  {
   "cell_type": "code",
   "execution_count": 80,
   "metadata": {},
   "outputs": [],
   "source": [
    "path = Path('../')"
   ]
  },
  {
   "cell_type": "code",
   "execution_count": 81,
   "metadata": {},
   "outputs": [],
   "source": [
    "files_dir = 'service_type_cpt_icds_target'\n",
    "files = get_text_files(path, folders = [files_dir])"
   ]
  },
  {
   "cell_type": "code",
   "execution_count": 83,
   "metadata": {},
   "outputs": [
    {
     "data": {
      "text/plain": [
       "51645"
      ]
     },
     "execution_count": 83,
     "metadata": {},
     "output_type": "execute_result"
    }
   ],
   "source": [
    "len(files)"
   ]
  },
  {
   "cell_type": "code",
   "execution_count": null,
   "metadata": {},
   "outputs": [],
   "source": []
  },
  {
   "cell_type": "code",
   "execution_count": 84,
   "metadata": {},
   "outputs": [],
   "source": [
    "models_path = '/home/bp/data-analytics/models/'\n",
    "model_root_name = 'st_cpt_icd_model_20221006'"
   ]
  },
  {
   "cell_type": "code",
   "execution_count": 85,
   "metadata": {},
   "outputs": [],
   "source": [
    "vocab_path = models_path + 'vocab_' + model_root_name\n",
    "with open(vocab_path, 'rb') as f:\n",
    "    vocab = pickle.load(f)"
   ]
  },
  {
   "cell_type": "code",
   "execution_count": 86,
   "metadata": {},
   "outputs": [
    {
     "data": {
      "text/html": [],
      "text/plain": [
       "<IPython.core.display.HTML object>"
      ]
     },
     "metadata": {},
     "output_type": "display_data"
    }
   ],
   "source": [
    "text_block = TextBlock.from_folder(\n",
    "    path / files_dir, \n",
    "    vocab=vocab,\n",
    "    is_lm=False,\n",
    "    seq_len=72,\n",
    "    backwards=False\n",
    ")"
   ]
  },
  {
   "cell_type": "code",
   "execution_count": 87,
   "metadata": {},
   "outputs": [
    {
     "data": {
      "text/plain": [
       "(#3) [Path('../service_type_cpt_icds_target/283809_0_0.txt'),Path('../service_type_cpt_icds_target/975362_0_0.txt'),Path('../service_type_cpt_icds_target/258459_0_0.txt')]"
      ]
     },
     "execution_count": 87,
     "metadata": {},
     "output_type": "execute_result"
    }
   ],
   "source": [
    "files[:3]"
   ]
  },
  {
   "cell_type": "code",
   "execution_count": 88,
   "metadata": {},
   "outputs": [],
   "source": [
    "def label_func(fname):\n",
    "    match = re.match('\\d*_(.*)_\\d*\\.txt$', fname.name)\n",
    "    if match is not None:\n",
    "        return float(match.groups()[0])\n",
    "    else:\n",
    "        print('failed on', fname.name)\n",
    "        return float(match.groups()[0])\n",
    "#     return float(re.match(r'^\\d_\\d*_(.*)\\.txt$', fname.name).groups()[0])"
   ]
  },
  {
   "cell_type": "code",
   "execution_count": 89,
   "metadata": {},
   "outputs": [],
   "source": [
    "dblocks = DataBlock(blocks=(text_block, RegressionBlock),\n",
    "                 get_items=get_text_files,\n",
    "                 get_y=label_func,\n",
    "                 splitter=RandomSplitter())"
   ]
  },
  {
   "cell_type": "code",
   "execution_count": 90,
   "metadata": {},
   "outputs": [],
   "source": [
    "dls = dblocks.dataloaders(path / 'service_type_cpt_icds_target', bs=64)"
   ]
  },
  {
   "cell_type": "code",
   "execution_count": 91,
   "metadata": {},
   "outputs": [
    {
     "data": {
      "text/html": [
       "<table border=\"1\" class=\"dataframe\">\n",
       "  <thead>\n",
       "    <tr style=\"text-align: right;\">\n",
       "      <th></th>\n",
       "      <th>text</th>\n",
       "      <th>text_</th>\n",
       "    </tr>\n",
       "  </thead>\n",
       "  <tbody>\n",
       "    <tr>\n",
       "      <th>0</th>\n",
       "      <td>xxbos st_8 cpt_90960 icd_n186 ttlc_60 st_8 cpt_93010 icd_r001 st_8 cpt_93010 icd_r001 st_8 cpt_99214 icd_e1122 icd_e1151 icd_i120 icd_n186 icd_z8659 icd_z87891 icd_z992 st_8 cpt_99214 icd_e1122 icd_e1151 icd_i120 icd_n186 icd_z8659 icd_z87891 icd_z992 st_8 cpt_90961 icd_n186 st_8 cpt_99215 icd_e1122 icd_e1151 icd_i120 icd_n186 icd_z794 icd_z87891 icd_z95820 st_8 cpt_99214 icd_e1122 icd_e1151 icd_i120 icd_n186 icd_z8659 icd_z87891 icd_z992 st_8 cpt_90961 icd_n186 st_3 cpt_36415 icd_e1122 icd_e1151 icd_i120 icd_n186 icd_z8659 icd_z87891 icd_z992 cpt_86480 icd_e1122 icd_e1151 icd_i120 icd_n186 icd_z8659 icd_z87891 icd_z992 cpt_80076 icd_e1122 icd_e1151 icd_i120 icd_n186 icd_z8659 icd_z87891 icd_z992 cpt_80307 icd_e1122 icd_e1151 icd_i120 icd_n186 icd_z8659 icd_z87891 icd_z992 cpt_82565 icd_e1122 icd_e1151 icd_i120 icd_n186 icd_z8659 icd_z87891 icd_z992 cpt_84520 icd_e1122 icd_e1151 icd_i120 icd_n186 icd_z8659 icd_z87891 icd_z992 cpt_86592 icd_e1122 icd_e1151 icd_i120 icd_n186 icd_z8659 icd_z87891 icd_z992 cpt_86593 icd_e1122 icd_e1151 icd_i120 icd_n186 icd_z8659 icd_z87891 icd_z992 cpt_86644 icd_e1122 icd_e1151 icd_i120 icd_n186 icd_z8659 icd_z87891 icd_z992 xxunk xxrep xxunk xxunk xxunk icd_e1122 icd_e1151 icd_i120 icd_n186 icd_z8659 icd_z87891 icd_z992 cpt_86704 icd_e1122 icd_e1151 icd_i120 icd_n186 icd_z8659 icd_z87891 icd_z992 cpt_86706 icd_e1122 icd_e1151 icd_i120</td>\n",
       "      <td>5825.0</td>\n",
       "    </tr>\n",
       "    <tr>\n",
       "      <th>1</th>\n",
       "      <td>xxbos ttlc_10 st_8 cpt_90960 icd_n186 ttlc_5 st_3 cpt_a4657 icd_d631 icd_n186 icd_n2581 cpt_j0604 icd_d631 icd_n186 icd_n2581 xxunk xxrep xxunk xxunk icd_d631 icd_n186 icd_n2581 ttlc_5 st_6 cpt_a0427 icd_r079 cpt_a0425 icd_r079 st_8 cpt_93010 icd_r0789 st_8 cpt_93010 icd_r0789 st_2 cpt_99283 icd_e8351 icd_i110 icd_m7989 st_2 cpt_99283 icd_e8351 icd_i110 icd_m7989 st_2 icd_e1122 icd_e8351 icd_h5711 icd_i132 icd_m7989 icd_n186 icd_r0789 cpt_36415 icd_e1122 icd_e8351 icd_h5711 icd_i132 icd_m7989 icd_n186 icd_r0789 cpt_80053 icd_e1122 icd_e8351 icd_h5711 icd_i132 icd_m7989 icd_n186 icd_r0789 cpt_82962 icd_e1122 icd_e8351 icd_h5711 icd_i132 icd_m7989 icd_n186 icd_r0789 cpt_83690 icd_e1122 icd_e8351 icd_h5711 icd_i132 icd_m7989 icd_n186 icd_r0789 cpt_84484 icd_e1122 icd_e8351 icd_h5711 icd_i132 icd_m7989 icd_n186 icd_r0789 cpt_85025 icd_e1122 icd_e8351 icd_h5711 icd_i132 icd_m7989 icd_n186 icd_r0789 cpt_71045 icd_e1122 icd_e8351 icd_h5711 icd_i132 icd_m7989 icd_n186 icd_r0789 cpt_99283 icd_e1122 icd_e8351 icd_h5711 icd_i132 icd_m7989 icd_n186 icd_r0789 cpt_99284 icd_e1122 icd_e8351 icd_h5711 icd_i132 icd_m7989 icd_n186 icd_r0789 cpt_j0610 icd_e1122 icd_e8351 icd_h5711 icd_i132 icd_m7989 icd_n186 icd_r0789 cpt_93005 icd_e1122 icd_e8351 icd_h5711 icd_i132 icd_m7989 icd_n186 icd_r0789 st_8 cpt_71045 icd_r079 st_8 cpt_99291 icd_e8351 icd_i110 icd_m7989 icd_r079 ttlc_2</td>\n",
       "      <td>20488.0</td>\n",
       "    </tr>\n",
       "    <tr>\n",
       "      <th>2</th>\n",
       "      <td>xxbos ttlc_2 st_8 cpt_90960 icd_e1122 icd_n186 icd_z992 st_12 cpt_e0260 icd_e1142 icd_g894 icd_m542 icd_n186 cpt_e0261 icd_e1142 icd_g894 icd_m542 icd_n186 st_8 cpt_90960 icd_e1122 icd_n186 icd_z992 st_17 cpt_s5125 icd_r6889 cpt_s5161 icd_r6889 st_12 cpt_e0260 icd_e1142 icd_g894 icd_m542 icd_n186 cpt_e0261 icd_e1142 icd_g894 icd_m542 icd_n186 st_12 xxunk xxrep xxunk xxunk xxunk icd_e1142 icd_g894 icd_m542 icd_n186 st_12 xxunk xxrep xxunk xxunk xxunk icd_e1142 icd_g894 icd_m542 icd_n186 ttlc_1 icd_d509 icd_d631 icd_d689 icd_e1129 icd_n186 icd_n2581 icd_z992 cpt_a4657 icd_d509 icd_d631 icd_d689 icd_e1129 icd_n186 icd_n2581 icd_z992 cpt_j1644 icd_d509 icd_d631 icd_d689 icd_e1129 icd_n186 icd_n2581 icd_z992 xxunk xxrep xxunk xxunk icd_d509 icd_d631 icd_d689 icd_e1129 icd_n186 icd_n2581 icd_z992 icd_d509 icd_d631 icd_d689 icd_e1129 icd_n186 icd_n2581 icd_z992 cpt_a4657 icd_d509 icd_d631 icd_d689 icd_e1129 icd_n186 icd_n2581 icd_z992 cpt_j1644 icd_d509 icd_d631 icd_d689 icd_e1129 icd_n186 icd_n2581 icd_z992 xxunk xxrep xxunk xxunk icd_d509 icd_d631 icd_d689 icd_e1129 icd_n186 icd_n2581 icd_z992 st_8 cpt_a0130 icd_r6889 cpt_a0130 icd_r6889 ttlc_2 st_8 cpt_a0130 icd_r6889 cpt_a0130 icd_r6889 icd_d509 icd_d631 icd_d689 icd_e1129 icd_n186 icd_n2581 icd_z992 cpt_a4657 icd_d509 icd_d631 icd_d689</td>\n",
       "      <td>6929.0</td>\n",
       "    </tr>\n",
       "  </tbody>\n",
       "</table>"
      ],
      "text/plain": [
       "<IPython.core.display.HTML object>"
      ]
     },
     "metadata": {},
     "output_type": "display_data"
    }
   ],
   "source": [
    "dls.show_batch(max_n=3)"
   ]
  },
  {
   "cell_type": "code",
   "execution_count": 92,
   "metadata": {},
   "outputs": [],
   "source": [
    "learn = text_classifier_learner(\n",
    "    dls,\n",
    "    AWD_LSTM,\n",
    "#     drop_mult=0.5,\n",
    "    metrics=[accuracy],\n",
    "    cbs=EarlyStoppingCallback(monitor='valid_loss', min_delta=0.01, patience=4)\n",
    ").to_fp16()\n",
    "\n",
    "enc_path = models_path + 'enc_' + model_root_name\n",
    "learn = learn.load_encoder(enc_path)"
   ]
  },
  {
   "cell_type": "code",
   "execution_count": null,
   "metadata": {},
   "outputs": [],
   "source": []
  },
  {
   "cell_type": "code",
   "execution_count": 93,
   "metadata": {},
   "outputs": [
    {
     "data": {
      "text/plain": [
       "SequentialRNN(\n",
       "  (0): SentenceEncoder(\n",
       "    (module): AWD_LSTM(\n",
       "      (encoder): Embedding(18080, 400, padding_idx=1)\n",
       "      (encoder_dp): EmbeddingDropout(\n",
       "        (emb): Embedding(18080, 400, padding_idx=1)\n",
       "      )\n",
       "      (rnns): ModuleList(\n",
       "        (0): WeightDropout(\n",
       "          (module): LSTM(400, 1152, batch_first=True)\n",
       "        )\n",
       "        (1): WeightDropout(\n",
       "          (module): LSTM(1152, 1152, batch_first=True)\n",
       "        )\n",
       "        (2): WeightDropout(\n",
       "          (module): LSTM(1152, 400, batch_first=True)\n",
       "        )\n",
       "      )\n",
       "      (input_dp): RNNDropout()\n",
       "      (hidden_dps): ModuleList(\n",
       "        (0): RNNDropout()\n",
       "        (1): RNNDropout()\n",
       "        (2): RNNDropout()\n",
       "      )\n",
       "    )\n",
       "  )\n",
       "  (1): PoolingLinearClassifier(\n",
       "    (layers): Sequential(\n",
       "      (0): LinBnDrop(\n",
       "        (0): BatchNorm1d(1200, eps=1e-05, momentum=0.1, affine=True, track_running_stats=True)\n",
       "        (1): Dropout(p=0.2, inplace=False)\n",
       "        (2): Linear(in_features=1200, out_features=50, bias=False)\n",
       "        (3): ReLU(inplace=True)\n",
       "      )\n",
       "      (1): LinBnDrop(\n",
       "        (0): BatchNorm1d(50, eps=1e-05, momentum=0.1, affine=True, track_running_stats=True)\n",
       "        (1): Dropout(p=0.1, inplace=False)\n",
       "        (2): Linear(in_features=50, out_features=1, bias=False)\n",
       "      )\n",
       "    )\n",
       "  )\n",
       ")"
      ]
     },
     "execution_count": 93,
     "metadata": {},
     "output_type": "execute_result"
    }
   ],
   "source": [
    "learn.model"
   ]
  },
  {
   "cell_type": "code",
   "execution_count": 94,
   "metadata": {},
   "outputs": [],
   "source": [
    "learn.freeze()"
   ]
  },
  {
   "cell_type": "code",
   "execution_count": 95,
   "metadata": {},
   "outputs": [
    {
     "data": {
      "text/html": [],
      "text/plain": [
       "<IPython.core.display.HTML object>"
      ]
     },
     "metadata": {},
     "output_type": "display_data"
    },
    {
     "name": "stderr",
     "output_type": "stream",
     "text": [
      "/home/bp/.local/share/virtualenvs/data-analytics-qWXImv-u/lib/python3.8/site-packages/fastai/callback/schedule.py:269: UserWarning: color is redundantly defined by the 'color' keyword argument and the fmt string \"ro\" (-> color='r'). The keyword argument will take precedence.\n",
      "  ax.plot(val, idx, 'ro', label=nm, c=color)\n"
     ]
    },
    {
     "data": {
      "text/plain": [
       "SuggestedLRs(valley=0.2089296132326126)"
      ]
     },
     "execution_count": 95,
     "metadata": {},
     "output_type": "execute_result"
    },
    {
     "data": {
      "image/png": "[encoded data removed]",
      "text/plain": [
       "<Figure size 432x288 with 1 Axes>"
      ]
     },
     "metadata": {},
     "output_type": "display_data"
    }
   ],
   "source": [
    "learn.lr_find()"
   ]
  },
  {
   "cell_type": "code",
   "execution_count": 96,
   "metadata": {},
   "outputs": [
    {
     "data": {
      "text/html": [
       "<table border=\"1\" class=\"dataframe\">\n",
       "  <thead>\n",
       "    <tr style=\"text-align: left;\">\n",
       "      <th>epoch</th>\n",
       "      <th>train_loss</th>\n",
       "      <th>valid_loss</th>\n",
       "      <th>accuracy</th>\n",
       "      <th>time</th>\n",
       "    </tr>\n",
       "  </thead>\n",
       "  <tbody>\n",
       "    <tr>\n",
       "      <td>0</td>\n",
       "      <td>216279760.000000</td>\n",
       "      <td>670429632.000000</td>\n",
       "      <td>0.623197</td>\n",
       "      <td>06:53</td>\n",
       "    </tr>\n",
       "    <tr>\n",
       "      <td>1</td>\n",
       "      <td>172067520.000000</td>\n",
       "      <td>655581760.000000</td>\n",
       "      <td>0.623197</td>\n",
       "      <td>06:50</td>\n",
       "    </tr>\n",
       "    <tr>\n",
       "      <td>2</td>\n",
       "      <td>235681120.000000</td>\n",
       "      <td>633594752.000000</td>\n",
       "      <td>0.623197</td>\n",
       "      <td>06:53</td>\n",
       "    </tr>\n",
       "    <tr>\n",
       "      <td>3</td>\n",
       "      <td>348598560.000000</td>\n",
       "      <td>626353472.000000</td>\n",
       "      <td>0.623197</td>\n",
       "      <td>06:52</td>\n",
       "    </tr>\n",
       "    <tr>\n",
       "      <td>4</td>\n",
       "      <td>171819104.000000</td>\n",
       "      <td>621807744.000000</td>\n",
       "      <td>0.623197</td>\n",
       "      <td>06:53</td>\n",
       "    </tr>\n",
       "    <tr>\n",
       "      <td>5</td>\n",
       "      <td>167729776.000000</td>\n",
       "      <td>617563392.000000</td>\n",
       "      <td>0.623197</td>\n",
       "      <td>06:55</td>\n",
       "    </tr>\n",
       "    <tr>\n",
       "      <td>6</td>\n",
       "      <td>210163424.000000</td>\n",
       "      <td>619330944.000000</td>\n",
       "      <td>0.623197</td>\n",
       "      <td>06:52</td>\n",
       "    </tr>\n",
       "    <tr>\n",
       "      <td>7</td>\n",
       "      <td>228347936.000000</td>\n",
       "      <td>621696768.000000</td>\n",
       "      <td>0.623197</td>\n",
       "      <td>06:50</td>\n",
       "    </tr>\n",
       "    <tr>\n",
       "      <td>8</td>\n",
       "      <td>231089248.000000</td>\n",
       "      <td>623400896.000000</td>\n",
       "      <td>0.623197</td>\n",
       "      <td>06:52</td>\n",
       "    </tr>\n",
       "    <tr>\n",
       "      <td>9</td>\n",
       "      <td>259217632.000000</td>\n",
       "      <td>623426880.000000</td>\n",
       "      <td>0.623197</td>\n",
       "      <td>06:48</td>\n",
       "    </tr>\n",
       "  </tbody>\n",
       "</table>"
      ],
      "text/plain": [
       "<IPython.core.display.HTML object>"
      ]
     },
     "metadata": {},
     "output_type": "display_data"
    },
    {
     "name": "stdout",
     "output_type": "stream",
     "text": [
      "No improvement since epoch 5: early stopping\n"
     ]
    }
   ],
   "source": [
    "learn.fit_one_cycle(10, 10e-3)"
   ]
  },
  {
   "cell_type": "code",
   "execution_count": 97,
   "metadata": {},
   "outputs": [
    {
     "data": {
      "text/html": [
       "<table border=\"1\" class=\"dataframe\">\n",
       "  <thead>\n",
       "    <tr style=\"text-align: left;\">\n",
       "      <th>epoch</th>\n",
       "      <th>train_loss</th>\n",
       "      <th>valid_loss</th>\n",
       "      <th>accuracy</th>\n",
       "      <th>time</th>\n",
       "    </tr>\n",
       "  </thead>\n",
       "  <tbody>\n",
       "    <tr>\n",
       "      <td>0</td>\n",
       "      <td>225772112.000000</td>\n",
       "      <td>621456768.000000</td>\n",
       "      <td>0.623197</td>\n",
       "      <td>06:48</td>\n",
       "    </tr>\n",
       "  </tbody>\n",
       "</table>"
      ],
      "text/plain": [
       "<IPython.core.display.HTML object>"
      ]
     },
     "metadata": {},
     "output_type": "display_data"
    },
    {
     "data": {
      "text/html": [
       "<table border=\"1\" class=\"dataframe\">\n",
       "  <thead>\n",
       "    <tr style=\"text-align: left;\">\n",
       "      <th>epoch</th>\n",
       "      <th>train_loss</th>\n",
       "      <th>valid_loss</th>\n",
       "      <th>accuracy</th>\n",
       "      <th>time</th>\n",
       "    </tr>\n",
       "  </thead>\n",
       "  <tbody>\n",
       "    <tr>\n",
       "      <td>0</td>\n",
       "      <td>174807664.000000</td>\n",
       "      <td>618966400.000000</td>\n",
       "      <td>0.623197</td>\n",
       "      <td>11:47</td>\n",
       "    </tr>\n",
       "    <tr>\n",
       "      <td>1</td>\n",
       "      <td>207689984.000000</td>\n",
       "      <td>619513344.000000</td>\n",
       "      <td>0.623197</td>\n",
       "      <td>11:48</td>\n",
       "    </tr>\n",
       "    <tr>\n",
       "      <td>2</td>\n",
       "      <td>175929952.000000</td>\n",
       "      <td>617204864.000000</td>\n",
       "      <td>0.623197</td>\n",
       "      <td>11:47</td>\n",
       "    </tr>\n",
       "    <tr>\n",
       "      <td>3</td>\n",
       "      <td>168619984.000000</td>\n",
       "      <td>618810560.000000</td>\n",
       "      <td>0.623197</td>\n",
       "      <td>11:50</td>\n",
       "    </tr>\n",
       "    <tr>\n",
       "      <td>4</td>\n",
       "      <td>237594048.000000</td>\n",
       "      <td>624160192.000000</td>\n",
       "      <td>0.623197</td>\n",
       "      <td>11:48</td>\n",
       "    </tr>\n",
       "  </tbody>\n",
       "</table>"
      ],
      "text/plain": [
       "<IPython.core.display.HTML object>"
      ]
     },
     "metadata": {},
     "output_type": "display_data"
    }
   ],
   "source": [
    "learn.fine_tune(5)"
   ]
  },
  {
   "cell_type": "code",
   "execution_count": 36,
   "metadata": {},
   "outputs": [
    {
     "data": {
      "text/plain": [
       "SentenceEncoder(\n",
       "  (module): AWD_LSTM(\n",
       "    (encoder): Embedding(10952, 400, padding_idx=1)\n",
       "    (encoder_dp): EmbeddingDropout(\n",
       "      (emb): Embedding(10952, 400, padding_idx=1)\n",
       "    )\n",
       "    (rnns): ModuleList(\n",
       "      (0): WeightDropout(\n",
       "        (module): LSTM(400, 1152, batch_first=True)\n",
       "      )\n",
       "      (1): WeightDropout(\n",
       "        (module): LSTM(1152, 1152, batch_first=True)\n",
       "      )\n",
       "      (2): WeightDropout(\n",
       "        (module): LSTM(1152, 400, batch_first=True)\n",
       "      )\n",
       "    )\n",
       "    (input_dp): RNNDropout()\n",
       "    (hidden_dps): ModuleList(\n",
       "      (0): RNNDropout()\n",
       "      (1): RNNDropout()\n",
       "      (2): RNNDropout()\n",
       "    )\n",
       "  )\n",
       ")"
      ]
     },
     "execution_count": 36,
     "metadata": {},
     "output_type": "execute_result"
    }
   ],
   "source": [
    "learn.model[0]"
   ]
  },
  {
   "cell_type": "markdown",
   "metadata": {},
   "source": [
    "### Attempt custom model"
   ]
  },
  {
   "cell_type": "code",
   "execution_count": 43,
   "metadata": {},
   "outputs": [],
   "source": [
    "# TODO: Add some addl features ie age gender pre_impactable_spend and combine with encoded icds"
   ]
  },
  {
   "cell_type": "code",
   "execution_count": 98,
   "metadata": {},
   "outputs": [
    {
     "data": {
      "text/html": [
       "<div>\n",
       "<style scoped>\n",
       "    .dataframe tbody tr th:only-of-type {\n",
       "        vertical-align: middle;\n",
       "    }\n",
       "\n",
       "    .dataframe tbody tr th {\n",
       "        vertical-align: top;\n",
       "    }\n",
       "\n",
       "    .dataframe thead th {\n",
       "        text-align: right;\n",
       "    }\n",
       "</style>\n",
       "<table border=\"1\" class=\"dataframe\">\n",
       "  <thead>\n",
       "    <tr style=\"text-align: right;\">\n",
       "      <th></th>\n",
       "      <th>252421</th>\n",
       "      <th>0</th>\n",
       "    </tr>\n",
       "  </thead>\n",
       "  <tbody>\n",
       "    <tr>\n",
       "      <th>0</th>\n",
       "      <td>252423</td>\n",
       "      <td>0.00</td>\n",
       "    </tr>\n",
       "    <tr>\n",
       "      <th>1</th>\n",
       "      <td>252425</td>\n",
       "      <td>0.00</td>\n",
       "    </tr>\n",
       "    <tr>\n",
       "      <th>2</th>\n",
       "      <td>252427</td>\n",
       "      <td>0.00</td>\n",
       "    </tr>\n",
       "    <tr>\n",
       "      <th>3</th>\n",
       "      <td>252430</td>\n",
       "      <td>745.62</td>\n",
       "    </tr>\n",
       "    <tr>\n",
       "      <th>4</th>\n",
       "      <td>252437</td>\n",
       "      <td>0.00</td>\n",
       "    </tr>\n",
       "  </tbody>\n",
       "</table>\n",
       "</div>"
      ],
      "text/plain": [
       "   252421       0\n",
       "0  252423    0.00\n",
       "1  252425    0.00\n",
       "2  252427    0.00\n",
       "3  252430  745.62\n",
       "4  252437    0.00"
      ]
     },
     "execution_count": 98,
     "metadata": {},
     "output_type": "execute_result"
    }
   ],
   "source": [
    "tx = pd.read_csv('data/uhc_tx_2021_imp_12m_spend_target.csv')\n",
    "tx.head()"
   ]
  },
  {
   "cell_type": "code",
   "execution_count": 100,
   "metadata": {},
   "outputs": [
    {
     "data": {
      "text/plain": [
       "(#2) [Path('../service_type_cpt_icds_target/283809_0_0.txt'),Path('../service_type_cpt_icds_target/975362_0_0.txt')]"
      ]
     },
     "execution_count": 100,
     "metadata": {},
     "output_type": "execute_result"
    }
   ],
   "source": [
    "files[:2]"
   ]
  },
  {
   "cell_type": "code",
   "execution_count": null,
   "metadata": {},
   "outputs": [],
   "source": []
  },
  {
   "cell_type": "code",
   "execution_count": null,
   "metadata": {},
   "outputs": [],
   "source": []
  },
  {
   "cell_type": "code",
   "execution_count": null,
   "metadata": {},
   "outputs": [],
   "source": []
  },
  {
   "cell_type": "code",
   "execution_count": null,
   "metadata": {},
   "outputs": [],
   "source": []
  },
  {
   "cell_type": "code",
   "execution_count": null,
   "metadata": {},
   "outputs": [],
   "source": []
  },
  {
   "cell_type": "code",
   "execution_count": 16,
   "metadata": {},
   "outputs": [
    {
     "data": {
      "text/html": [
       "<table border=\"1\" class=\"dataframe\">\n",
       "  <thead>\n",
       "    <tr style=\"text-align: left;\">\n",
       "      <th>epoch</th>\n",
       "      <th>train_loss</th>\n",
       "      <th>valid_loss</th>\n",
       "      <th>accuracy</th>\n",
       "      <th>time</th>\n",
       "    </tr>\n",
       "  </thead>\n",
       "  <tbody>\n",
       "    <tr>\n",
       "      <td>0</td>\n",
       "      <td>1.551492</td>\n",
       "      <td>1.280669</td>\n",
       "      <td>0.536749</td>\n",
       "      <td>00:41</td>\n",
       "    </tr>\n",
       "    <tr>\n",
       "      <td>1</td>\n",
       "      <td>1.340670</td>\n",
       "      <td>1.211811</td>\n",
       "      <td>0.574534</td>\n",
       "      <td>00:41</td>\n",
       "    </tr>\n",
       "    <tr>\n",
       "      <td>2</td>\n",
       "      <td>1.086072</td>\n",
       "      <td>0.985283</td>\n",
       "      <td>0.613354</td>\n",
       "      <td>00:41</td>\n",
       "    </tr>\n",
       "    <tr>\n",
       "      <td>3</td>\n",
       "      <td>1.062969</td>\n",
       "      <td>0.965925</td>\n",
       "      <td>0.626812</td>\n",
       "      <td>00:41</td>\n",
       "    </tr>\n",
       "    <tr>\n",
       "      <td>4</td>\n",
       "      <td>0.953208</td>\n",
       "      <td>1.050241</td>\n",
       "      <td>0.619048</td>\n",
       "      <td>00:41</td>\n",
       "    </tr>\n",
       "  </tbody>\n",
       "</table>"
      ],
      "text/plain": [
       "<IPython.core.display.HTML object>"
      ]
     },
     "metadata": {},
     "output_type": "display_data"
    },
    {
     "data": {
      "text/html": [
       "<table border=\"1\" class=\"dataframe\">\n",
       "  <thead>\n",
       "    <tr style=\"text-align: left;\">\n",
       "      <th>epoch</th>\n",
       "      <th>train_loss</th>\n",
       "      <th>valid_loss</th>\n",
       "      <th>accuracy</th>\n",
       "      <th>time</th>\n",
       "    </tr>\n",
       "  </thead>\n",
       "  <tbody>\n",
       "    <tr>\n",
       "      <td>0</td>\n",
       "      <td>0.911304</td>\n",
       "      <td>0.938879</td>\n",
       "      <td>0.635611</td>\n",
       "      <td>01:28</td>\n",
       "    </tr>\n",
       "    <tr>\n",
       "      <td>1</td>\n",
       "      <td>0.882791</td>\n",
       "      <td>0.922758</td>\n",
       "      <td>0.635611</td>\n",
       "      <td>01:28</td>\n",
       "    </tr>\n",
       "    <tr>\n",
       "      <td>2</td>\n",
       "      <td>0.785760</td>\n",
       "      <td>0.949789</td>\n",
       "      <td>0.631470</td>\n",
       "      <td>01:28</td>\n",
       "    </tr>\n",
       "    <tr>\n",
       "      <td>3</td>\n",
       "      <td>0.677352</td>\n",
       "      <td>0.977448</td>\n",
       "      <td>0.627847</td>\n",
       "      <td>01:28</td>\n",
       "    </tr>\n",
       "    <tr>\n",
       "      <td>4</td>\n",
       "      <td>0.586884</td>\n",
       "      <td>0.988345</td>\n",
       "      <td>0.622671</td>\n",
       "      <td>01:28</td>\n",
       "    </tr>\n",
       "  </tbody>\n",
       "</table>"
      ],
      "text/plain": [
       "<IPython.core.display.HTML object>"
      ]
     },
     "metadata": {},
     "output_type": "display_data"
    }
   ],
   "source": [
    "learn.fine_tune(5, freeze_epochs=5)"
   ]
  },
  {
   "cell_type": "code",
   "execution_count": null,
   "metadata": {},
   "outputs": [],
   "source": [
    "models_path = '/home/bp/data-analytics/models/'\n",
    "file = models_path + 'lml_epoch_20_20220918.pkl'\n",
    "file"
   ]
  },
  {
   "cell_type": "code",
   "execution_count": null,
   "metadata": {},
   "outputs": [],
   "source": [
    "learn.save(file, with_opt=True, pickle_protocol=2)"
   ]
  },
  {
   "cell_type": "code",
   "execution_count": null,
   "metadata": {},
   "outputs": [],
   "source": [
    "file = models_path + 'lml_epoch_20_encoder_20220918'\n",
    "learn.save_encoder(file)"
   ]
  },
  {
   "cell_type": "markdown",
   "metadata": {},
   "source": [
    "### Visualize Results"
   ]
  },
  {
   "cell_type": "code",
   "execution_count": null,
   "metadata": {},
   "outputs": [],
   "source": [
    "learn.model"
   ]
  },
  {
   "cell_type": "code",
   "execution_count": null,
   "metadata": {},
   "outputs": [],
   "source": [
    "from torch.nn import functional as F\n",
    "\n",
    "def get_normalized_embeddings():\n",
    "    return F.normalize(learn.model[0].encoder.weight)\n",
    "\n",
    "def most_similar(token, embs):\n",
    "    if token[:2] == 'xx':\n",
    "        return\n",
    "#     idx = num.vocab.itos.index(token)\n",
    "    idx = num.vocab.index(token)\n",
    "    sims = (embs[idx] @ embs.t()).cpu().detach().numpy()\n",
    "\n",
    "    print(f'Similar to: {token}: {icd_lookup[token]}')\n",
    "    for sim_idx in np.argsort(sims)[::-1][1:11]:\n",
    "        if num.vocab[sim_idx][:2] == 'xx':\n",
    "            print(f'{sims[sim_idx]:.02f}: {num.vocab[sim_idx]}')\n",
    "        else:\n",
    "            print(f'{sims[sim_idx]:.02f}: {num.vocab[sim_idx]}: {icd_lookup[num.vocab[sim_idx]]}')\n",
    "            "
   ]
  },
  {
   "cell_type": "code",
   "execution_count": null,
   "metadata": {},
   "outputs": [],
   "source": [
    "from sklearn.manifold import TSNE\n",
    "import matplotlib.pyplot as plt\n",
    "import random\n",
    "import json\n",
    "\n",
    "\n",
    "with open('icd_descr_lookup.json', 'r') as f:\n",
    "    icd_lookup = json.load(f)\n",
    "\n",
    "def tsne_plot(model):\n",
    "    \"Creates and TSNE model and plots it\"\n",
    "    labels = []\n",
    "    tokens = []\n",
    "\n",
    "    for word in model.wv.vocab:\n",
    "        tokens.append(model[word])\n",
    "        labels.append(word)\n",
    "    \n",
    "    tsne_model = TSNE(perplexity=40, n_components=2, init='pca', n_iter=2500, random_state=23)\n",
    "    new_values = tsne_model.fit_transform(tokens)\n",
    "\n",
    "    x = []\n",
    "    y = []\n",
    "    for value in new_values:\n",
    "        x.append(value[0])\n",
    "        y.append(value[1])\n",
    "        \n",
    "    plt.figure(figsize=(16, 16)) \n",
    "    for i in range(len(x)):\n",
    "        plt.scatter(x[i],y[i])\n",
    "        plt.annotate(labels[i],\n",
    "                     xy=(x[i], y[i]),\n",
    "                     xytext=(5, 2),\n",
    "                     textcoords='offset points',\n",
    "                     ha='right',\n",
    "                     va='bottom')\n",
    "    plt.show()"
   ]
  },
  {
   "cell_type": "code",
   "execution_count": null,
   "metadata": {},
   "outputs": [],
   "source": [
    "embeddings = get_normalized_embeddings()\n",
    "most_similar('e11', embeddings)"
   ]
  },
  {
   "cell_type": "code",
   "execution_count": null,
   "metadata": {},
   "outputs": [],
   "source": [
    "for code in random.sample(num.vocab, 10):\n",
    "    most_similar(code, embeddings)\n",
    "    print('')"
   ]
  },
  {
   "cell_type": "code",
   "execution_count": null,
   "metadata": {},
   "outputs": [],
   "source": []
  },
  {
   "cell_type": "code",
   "execution_count": null,
   "metadata": {},
   "outputs": [],
   "source": [
    "'xxfake'[:2]"
   ]
  },
  {
   "cell_type": "code",
   "execution_count": null,
   "metadata": {},
   "outputs": [],
   "source": [
    "icd_lookup = icd_lookup[0]['jsonb_object_agg']"
   ]
  },
  {
   "cell_type": "code",
   "execution_count": null,
   "metadata": {},
   "outputs": [],
   "source": [
    "icd_lookup['e11']"
   ]
  },
  {
   "cell_type": "code",
   "execution_count": null,
   "metadata": {},
   "outputs": [],
   "source": [
    "with open('icd_descr_lookup.json', 'w') as f:\n",
    "    json.dump(icd_lookup, f)"
   ]
  },
  {
   "cell_type": "code",
   "execution_count": null,
   "metadata": {},
   "outputs": [],
   "source": []
  },
  {
   "cell_type": "code",
   "execution_count": null,
   "metadata": {},
   "outputs": [],
   "source": []
  },
  {
   "cell_type": "code",
   "execution_count": null,
   "metadata": {},
   "outputs": [],
   "source": []
  },
  {
   "cell_type": "code",
   "execution_count": null,
   "metadata": {},
   "outputs": [],
   "source": []
  },
  {
   "cell_type": "code",
   "execution_count": null,
   "metadata": {},
   "outputs": [],
   "source": []
  },
  {
   "cell_type": "code",
   "execution_count": null,
   "metadata": {},
   "outputs": [],
   "source": []
  },
  {
   "cell_type": "code",
   "execution_count": null,
   "metadata": {},
   "outputs": [],
   "source": []
  },
  {
   "cell_type": "code",
   "execution_count": null,
   "metadata": {},
   "outputs": [],
   "source": []
  },
  {
   "cell_type": "code",
   "execution_count": null,
   "metadata": {},
   "outputs": [],
   "source": []
  },
  {
   "cell_type": "code",
   "execution_count": null,
   "metadata": {},
   "outputs": [],
   "source": []
  },
  {
   "cell_type": "code",
   "execution_count": null,
   "metadata": {},
   "outputs": [],
   "source": []
  },
  {
   "cell_type": "code",
   "execution_count": null,
   "metadata": {},
   "outputs": [],
   "source": []
  }
 ],
 "metadata": {
  "kernelspec": {
   "display_name": "Python 3 (ipykernel)",
   "language": "python",
   "name": "python3"
  },
  "language_info": {
   "codemirror_mode": {
    "name": "ipython",
    "version": 3
   },
   "file_extension": ".py",
   "mimetype": "text/x-python",
   "name": "python",
   "nbconvert_exporter": "python",
   "pygments_lexer": "ipython3",
   "version": "3.8.3"
  }
 },
 "nbformat": 4,
 "nbformat_minor": 4
}
