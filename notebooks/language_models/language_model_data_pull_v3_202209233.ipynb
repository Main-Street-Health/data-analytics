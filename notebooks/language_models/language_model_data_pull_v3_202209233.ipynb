{
 "cells": [
  {
   "cell_type": "code",
   "execution_count": 1,
   "metadata": {},
   "outputs": [
    {
     "name": "stdout",
     "output_type": "stream",
     "text": [
      "pwd /Users/bp/workspace/cb/data-analytics/notebooks\n"
     ]
    }
   ],
   "source": [
    "import os\n",
    "import sys\n",
    "import re\n",
    "import time\n",
    "import random\n",
    "import warnings\n",
    "import collections\n",
    "from tqdm import tqdm\n",
    "import numpy as np\n",
    "import pandas as pd\n",
    "import matplotlib.pyplot as plt\n",
    "import matplotlib.gridspec as gridspec\n",
    "import seaborn as sns\n",
    "\n",
    "sys.path.append('../src')\n",
    "import cb_utils\n",
    "\n",
    "sns.set(style=\"darkgrid\")\n",
    "pd.options.display.max_columns = 500\n",
    "print('pwd', os.getcwd())\n",
    "\n",
    "%load_ext autoreload\n",
    "%autoreload 2"
   ]
  },
  {
   "cell_type": "markdown",
   "metadata": {},
   "source": [
    "### Try combining claim level chunks that take the form\n",
    "ttlc claim_service_type cpt_1 dx1 dx2 dx3 cpt_2 dx4 dx5\n",
    "# texts were too big\n",
    "Need to try limiting to a single year"
   ]
  },
  {
   "cell_type": "code",
   "execution_count": 4,
   "metadata": {},
   "outputs": [],
   "source": [
    "member_ids_query = f\"SELECT id FROM cb.members m where m.mco_id = %(mco_id)s\"\n",
    "\n",
    "member_claims_query = f\"\"\"\n",
    "  WITH\n",
    "      encounter_level   AS ( SELECT\n",
    "                                 member_id\n",
    "                               , mco_id\n",
    "                               , date_from\n",
    "                             FROM\n",
    "                                 cb.claims c\n",
    "                                 LEFT JOIN ref.service_types st ON st.id = c.service_type_id\n",
    "                             WHERE\n",
    "                                   c.mco_id = %(mco_id)s\n",
    "                               and c.member_id = %(member_id)s\n",
    "                               AND c.service_type_id NOT IN (12, 13, 17, 18, 10, 15, 16)\n",
    "                               AND NOT c.is_rx\n",
    "                             GROUP BY 1,2,3\n",
    "                             )\n",
    "    , lagged_encounters AS ( SELECT\n",
    "                                 el.*\n",
    "                               , LAG(date_from) OVER (PARTITION BY member_id ORDER BY date_from) prev_claim_date\n",
    "                             FROM\n",
    "                                 encounter_level el )\n",
    "\n",
    "  SELECT\n",
    "    le.member_id\n",
    "  , c.date_from\n",
    "  , date_part('year', c.date_from) yr\n",
    "  , c.source_claim_id\n",
    "  , c.claim_line_id\n",
    "  , c.procedure_code\n",
    "  , c.service_type_id\n",
    "  , le.date_from - prev_claim_date                                                                    days_since_last_encounter\n",
    "  , ARRAY_AGG(DISTINCT cd.diag ORDER BY cd.diag) FILTER ( WHERE cd.diag IS NOT NULL) icds_by_alpha\n",
    "FROM\n",
    "    lagged_encounters le\n",
    "    JOIN cb.claims c ON c.date_from = le.date_from and c.member_id = le.member_id and c.mco_id = le.mco_id\n",
    "    LEFT JOIN cb.claims_diagnosis cd ON c.id = cd.claim_id\n",
    "WHERE\n",
    "       c.mco_id = %(mco_id)s\n",
    "   and cd.mco_id = %(mco_id)s\n",
    "   and c.member_id = %(member_id)s\n",
    "   and not c.is_rx -- remove for ndc language model\n",
    "GROUP BY\n",
    "    1, 2, 3, 4, 5, 6, 7, 8\n",
    "ORDER BY\n",
    "    1, 2,3,4,5;\n",
    "   \"\"\" "
   ]
  },
  {
   "cell_type": "code",
   "execution_count": 5,
   "metadata": {},
   "outputs": [],
   "source": [
    "def get_days_cat(time_to_last_claim):\n",
    "    if time_to_last_claim < 0:\n",
    "        raise \"Got a negative time to last claim. should never happen\"\n",
    "    if time_to_last_claim == 0:\n",
    "        return 'ttlc_0'\n",
    "    if time_to_last_claim <= 1:\n",
    "        return 'ttlc_1'\n",
    "    if time_to_last_claim <= 2:\n",
    "        return 'ttlc_2'\n",
    "    if time_to_last_claim <= 5:\n",
    "        return 'ttlc_5'\n",
    "    if time_to_last_claim <= 10:\n",
    "        return 'ttlc_10'\n",
    "    if time_to_last_claim <= 15:\n",
    "        return 'ttlc_15'\n",
    "    if time_to_last_claim <= 30:\n",
    "        return 'ttlc_30'\n",
    "    if time_to_last_claim <= 60:\n",
    "        return 'ttlc_60'\n",
    "    if time_to_last_claim <= 90:\n",
    "        return 'ttlc_90'\n",
    "    if time_to_last_claim <= 180:\n",
    "        return 'ttlc_180'\n",
    "    \n",
    "    return 'ttlc_gt180'"
   ]
  },
  {
   "cell_type": "code",
   "execution_count": 11,
   "metadata": {},
   "outputs": [],
   "source": [
    "def write_member_file(save_path, yr, mco_id, member_id, body):\n",
    "    file_name = f'{save_path}/{mco_id}_{yr}_{member_id}.txt'\n",
    "\n",
    "    with open(file_name, 'w') as f: f.write(body)"
   ]
  },
  {
   "cell_type": "code",
   "execution_count": 16,
   "metadata": {},
   "outputs": [],
   "source": [
    "def fetch_and_build_member_data(cur, mco_id, member_id, save_path):\n",
    "    cur.execute(member_claims_query, {'mco_id': mco_id, 'member_id': member_id})\n",
    "\n",
    "    prev_date_from = None\n",
    "    prev_yr = None\n",
    "    s = ''\n",
    "    for member_id, date_from, yr, source_claim_id, claim_line_id, cpt,st_id,ttlc,icds_by_alpha in cur:\n",
    "        if prev_yr is None:\n",
    "            prev_yr = yr\n",
    "            \n",
    "        if yr != prev_yr:\n",
    "            write_member_file(save_path, prev_yr, mco_id, member_id, s)\n",
    "            prev_yr = yr\n",
    "            s = ''\n",
    "            \n",
    "        if date_from != prev_date_from and ttlc is not None:\n",
    "            s += ' ' + get_days_cat(ttlc) \n",
    "            prev_date_from = date_from\n",
    "        \n",
    "        # add the service type once per claim\n",
    "        if claim_line_id == 1 and st_id is not None:\n",
    "            s += ' st_' + str(st_id)\n",
    "            \n",
    "        if cpt is not None:\n",
    "            s += ' cpt_' + cpt \n",
    "            \n",
    "        s += ' ' + ' '.join('icd_' + icd for icd in dict.fromkeys(icds_by_alpha))\n",
    "        \n",
    "    if s != '':\n",
    "        write_member_file(save_path, prev_yr, mco_id, member_id, s)"
   ]
  },
  {
   "cell_type": "code",
   "execution_count": null,
   "metadata": {},
   "outputs": [],
   "source": []
  },
  {
   "cell_type": "code",
   "execution_count": 17,
   "metadata": {},
   "outputs": [],
   "source": [
    "def build_language_model_data_for_mco(mco_id):\n",
    "    conn = cb_utils.get_conn(cb_utils.get_secrets()['db_connection_string_ro'])\n",
    "    # conn = cb_utils.get_conn()\n",
    "    cur = conn.cursor()\n",
    "\n",
    "    cur.execute(member_ids_query, {'mco_id': mco_id}) \n",
    "\n",
    "    save_path = './data/service_type_cpt_icds'\n",
    "    for m in tqdm([x[0] for x in cur]):\n",
    "        fetch_and_build_member_data(cur, mco_id, m, save_path)\n",
    "    cur.close()\n",
    "    conn.close()"
   ]
  },
  {
   "cell_type": "code",
   "execution_count": 18,
   "metadata": {},
   "outputs": [],
   "source": [
    "# build_language_model_data_for_mco(1)"
   ]
  },
  {
   "cell_type": "code",
   "execution_count": 19,
   "metadata": {},
   "outputs": [
    {
     "name": "stdout",
     "output_type": "stream",
     "text": [
      "Pulling mco:  2\n"
     ]
    },
    {
     "name": "stderr",
     "output_type": "stream",
     "text": [
      "100%|█████████████████████████████████████| 29753/29753 [54:58<00:00,  9.02it/s]\n"
     ]
    },
    {
     "name": "stdout",
     "output_type": "stream",
     "text": [
      "Pulling mco:  4\n"
     ]
    },
    {
     "name": "stderr",
     "output_type": "stream",
     "text": [
      "100%|█████████████████████████████████████| 14519/14519 [31:00<00:00,  7.81it/s]\n"
     ]
    },
    {
     "name": "stdout",
     "output_type": "stream",
     "text": [
      "Pulling mco:  5\n"
     ]
    },
    {
     "name": "stderr",
     "output_type": "stream",
     "text": [
      "100%|███████████████████████████████████| 22469/22469 [1:07:44<00:00,  5.53it/s]\n"
     ]
    },
    {
     "name": "stdout",
     "output_type": "stream",
     "text": [
      "Pulling mco:  6\n"
     ]
    },
    {
     "name": "stderr",
     "output_type": "stream",
     "text": [
      "100%|███████████████████████████████████████| 7929/7929 [22:00<00:00,  6.00it/s]\n"
     ]
    },
    {
     "name": "stdout",
     "output_type": "stream",
     "text": [
      "Pulling mco:  7\n"
     ]
    },
    {
     "name": "stderr",
     "output_type": "stream",
     "text": [
      "100%|█████████████████████████████████████| 14045/14045 [22:56<00:00, 10.20it/s]\n"
     ]
    },
    {
     "name": "stdout",
     "output_type": "stream",
     "text": [
      "Pulling mco:  8\n"
     ]
    },
    {
     "name": "stderr",
     "output_type": "stream",
     "text": [
      "100%|█████████████████████████████████████| 17679/17679 [33:20<00:00,  8.84it/s]\n"
     ]
    },
    {
     "name": "stdout",
     "output_type": "stream",
     "text": [
      "Pulling mco:  9\n"
     ]
    },
    {
     "name": "stderr",
     "output_type": "stream",
     "text": [
      "100%|███████████████████████████████████████| 2185/2185 [05:54<00:00,  6.16it/s]\n"
     ]
    },
    {
     "name": "stdout",
     "output_type": "stream",
     "text": [
      "Pulling mco:  12\n"
     ]
    },
    {
     "name": "stderr",
     "output_type": "stream",
     "text": [
      "100%|███████████████████████████████████████| 7851/7851 [21:36<00:00,  6.05it/s]\n"
     ]
    }
   ],
   "source": [
    "# for mco_id in [8,9,12]:\n",
    "# for mco_id in [5,6,7,8,9,12]:\n",
    "for mco_id in [2,4,5,6,7,8,9,12]:\n",
    "    print('Pulling mco: ', mco_id)\n",
    "    build_language_model_data_for_mco(mco_id)"
   ]
  },
  {
   "cell_type": "code",
   "execution_count": null,
   "metadata": {},
   "outputs": [],
   "source": []
  },
  {
   "cell_type": "code",
   "execution_count": null,
   "metadata": {},
   "outputs": [],
   "source": []
  },
  {
   "cell_type": "code",
   "execution_count": null,
   "metadata": {},
   "outputs": [],
   "source": []
  },
  {
   "cell_type": "code",
   "execution_count": null,
   "metadata": {},
   "outputs": [],
   "source": []
  },
  {
   "cell_type": "code",
   "execution_count": null,
   "metadata": {},
   "outputs": [],
   "source": []
  },
  {
   "cell_type": "code",
   "execution_count": null,
   "metadata": {},
   "outputs": [],
   "source": []
  },
  {
   "cell_type": "code",
   "execution_count": null,
   "metadata": {},
   "outputs": [],
   "source": []
  },
  {
   "cell_type": "code",
   "execution_count": null,
   "metadata": {},
   "outputs": [],
   "source": []
  },
  {
   "cell_type": "code",
   "execution_count": null,
   "metadata": {},
   "outputs": [],
   "source": []
  },
  {
   "cell_type": "code",
   "execution_count": null,
   "metadata": {},
   "outputs": [],
   "source": []
  },
  {
   "cell_type": "code",
   "execution_count": null,
   "metadata": {},
   "outputs": [],
   "source": []
  },
  {
   "cell_type": "code",
   "execution_count": null,
   "metadata": {},
   "outputs": [],
   "source": []
  },
  {
   "cell_type": "code",
   "execution_count": null,
   "metadata": {},
   "outputs": [],
   "source": []
  },
  {
   "cell_type": "code",
   "execution_count": null,
   "metadata": {},
   "outputs": [],
   "source": []
  },
  {
   "cell_type": "code",
   "execution_count": null,
   "metadata": {},
   "outputs": [],
   "source": []
  },
  {
   "cell_type": "code",
   "execution_count": null,
   "metadata": {},
   "outputs": [],
   "source": []
  },
  {
   "cell_type": "code",
   "execution_count": null,
   "metadata": {},
   "outputs": [],
   "source": []
  },
  {
   "cell_type": "code",
   "execution_count": null,
   "metadata": {},
   "outputs": [],
   "source": []
  },
  {
   "cell_type": "code",
   "execution_count": null,
   "metadata": {},
   "outputs": [],
   "source": []
  },
  {
   "cell_type": "code",
   "execution_count": null,
   "metadata": {},
   "outputs": [],
   "source": []
  },
  {
   "cell_type": "code",
   "execution_count": null,
   "metadata": {},
   "outputs": [],
   "source": []
  },
  {
   "cell_type": "code",
   "execution_count": null,
   "metadata": {},
   "outputs": [],
   "source": []
  },
  {
   "cell_type": "code",
   "execution_count": null,
   "metadata": {},
   "outputs": [],
   "source": []
  },
  {
   "cell_type": "code",
   "execution_count": null,
   "metadata": {},
   "outputs": [],
   "source": []
  },
  {
   "cell_type": "code",
   "execution_count": null,
   "metadata": {},
   "outputs": [],
   "source": []
  },
  {
   "cell_type": "code",
   "execution_count": null,
   "metadata": {},
   "outputs": [],
   "source": []
  },
  {
   "cell_type": "code",
   "execution_count": null,
   "metadata": {},
   "outputs": [],
   "source": []
  },
  {
   "cell_type": "code",
   "execution_count": null,
   "metadata": {},
   "outputs": [],
   "source": []
  }
 ],
 "metadata": {
  "kernelspec": {
   "display_name": "Python 3 (ipykernel)",
   "language": "python",
   "name": "python3"
  },
  "language_info": {
   "codemirror_mode": {
    "name": "ipython",
    "version": 3
   },
   "file_extension": ".py",
   "mimetype": "text/x-python",
   "name": "python",
   "nbconvert_exporter": "python",
   "pygments_lexer": "ipython3",
   "version": "3.10.4"
  }
 },
 "nbformat": 4,
 "nbformat_minor": 4
}
