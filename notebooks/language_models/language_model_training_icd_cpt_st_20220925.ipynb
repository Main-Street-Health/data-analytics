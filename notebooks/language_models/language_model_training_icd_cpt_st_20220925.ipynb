{
 "cells": [
  {
   "cell_type": "code",
   "execution_count": 2,
   "metadata": {},
   "outputs": [],
   "source": [
    "import os\n",
    "import sys\n",
    "import re\n",
    "import time\n",
    "import random\n",
    "import warnings\n",
    "import collections\n",
    "from tqdm import tqdm\n",
    "import numpy as np\n",
    "import pandas as pd\n",
    "import matplotlib.pyplot as plt\n",
    "import matplotlib.gridspec as gridspec\n",
    "import seaborn as sns\n",
    "\n",
    "# sys.path.append('../src')\n",
    "# import cb_utils\n",
    "\n",
    "sns.set(style=\"darkgrid\")\n",
    "pd.options.display.max_columns = 500\n",
    "\n",
    "%load_ext autoreload\n",
    "%autoreload 2"
   ]
  },
  {
   "cell_type": "code",
   "execution_count": null,
   "metadata": {},
   "outputs": [],
   "source": []
  },
  {
   "cell_type": "markdown",
   "metadata": {},
   "source": [
    "### Modelling"
   ]
  },
  {
   "cell_type": "code",
   "execution_count": 3,
   "metadata": {},
   "outputs": [],
   "source": [
    "from fastai.text.all import *"
   ]
  },
  {
   "cell_type": "code",
   "execution_count": 4,
   "metadata": {},
   "outputs": [],
   "source": [
    "path = Path('../')"
   ]
  },
  {
   "cell_type": "code",
   "execution_count": 5,
   "metadata": {},
   "outputs": [],
   "source": [
    "folder = 'service_type_cpt_icds'"
   ]
  },
  {
   "cell_type": "code",
   "execution_count": 6,
   "metadata": {},
   "outputs": [],
   "source": [
    "files = get_text_files(path, folders = [folder])"
   ]
  },
  {
   "cell_type": "code",
   "execution_count": 7,
   "metadata": {},
   "outputs": [
    {
     "data": {
      "text/plain": [
       "291076"
      ]
     },
     "execution_count": 7,
     "metadata": {},
     "output_type": "execute_result"
    }
   ],
   "source": [
    "len(files)"
   ]
  },
  {
   "cell_type": "code",
   "execution_count": 8,
   "metadata": {},
   "outputs": [],
   "source": [
    "txts = L(o.open().read().split(' ') for o in files)"
   ]
  },
  {
   "cell_type": "code",
   "execution_count": 9,
   "metadata": {},
   "outputs": [
    {
     "data": {
      "text/plain": [
       "291076"
      ]
     },
     "execution_count": 9,
     "metadata": {},
     "output_type": "execute_result"
    }
   ],
   "source": [
    "len(txts)"
   ]
  },
  {
   "cell_type": "code",
   "execution_count": 10,
   "metadata": {},
   "outputs": [],
   "source": [
    "lens = [len(t) for t in txts]"
   ]
  },
  {
   "cell_type": "code",
   "execution_count": 11,
   "metadata": {},
   "outputs": [
    {
     "data": {
      "text/plain": [
       "(811.2318604075912, 288.0, 63946, 3)"
      ]
     },
     "execution_count": 11,
     "metadata": {},
     "output_type": "execute_result"
    }
   ],
   "source": [
    "np.mean(lens), np.median(lens), np.max(lens), np.min(lens)"
   ]
  },
  {
   "cell_type": "code",
   "execution_count": 12,
   "metadata": {},
   "outputs": [],
   "source": [
    "counter = Counter(tok for pat in txts for tok in set(pat))"
   ]
  },
  {
   "cell_type": "code",
   "execution_count": 13,
   "metadata": {},
   "outputs": [],
   "source": [
    "vocab = make_vocab(counter, min_freq=20)"
   ]
  },
  {
   "cell_type": "code",
   "execution_count": 14,
   "metadata": {},
   "outputs": [
    {
     "data": {
      "text/plain": [
       "18080"
      ]
     },
     "execution_count": 14,
     "metadata": {},
     "output_type": "execute_result"
    }
   ],
   "source": [
    "len(vocab)"
   ]
  },
  {
   "cell_type": "code",
   "execution_count": 15,
   "metadata": {},
   "outputs": [],
   "source": [
    "dls = TextDataLoaders.from_folder(\n",
    "    path / folder,\n",
    "    valid_pct=.1,\n",
    "    seed=None,\n",
    "    text_vocab=vocab,\n",
    "    is_lm=True,\n",
    "    tok_tfm=None,\n",
    "    seq_len=72,\n",
    "    backwards=False,\n",
    "    bs=64,\n",
    "    val_bs=None,\n",
    "    shuffle=True,\n",
    "    device=None\n",
    ")"
   ]
  },
  {
   "cell_type": "code",
   "execution_count": 18,
   "metadata": {},
   "outputs": [],
   "source": [
    "model_root_name = 'st_cpt_icd_model_20220925'\n",
    "learn = language_model_learner(\n",
    "    dls=dls,\n",
    "    arch=AWD_LSTM,\n",
    "    drop_mult=1,\n",
    "    pretrained=False,\n",
    "    cbs=[\n",
    "        EarlyStoppingCallback(monitor='valid_loss', min_delta=0.01, patience=4),\n",
    "        SaveModelCallback(monitor='valid_loss',fname=model_root_name)\n",
    "    ],\n",
    "    metrics=[accuracy, Perplexity()]).to_fp16()"
   ]
  },
  {
   "cell_type": "code",
   "execution_count": 17,
   "metadata": {},
   "outputs": [
    {
     "data": {
      "text/html": [
       "<table border=\"1\" class=\"dataframe\">\n",
       "  <thead>\n",
       "    <tr style=\"text-align: right;\">\n",
       "      <th></th>\n",
       "      <th>text</th>\n",
       "      <th>text_</th>\n",
       "    </tr>\n",
       "  </thead>\n",
       "  <tbody>\n",
       "    <tr>\n",
       "      <th>0</th>\n",
       "      <td>xxbos st_11 xxunk xxrep xxunk xxunk icd_f459 icd_i10 icd_m6281 icd_r1310 icd_r41841 icd_z931 ttlc_1 st_8 cpt_99310 icd_f44 icd_i10 icd_m6281 icd_z931 ttlc_1 st_8 cpt_90792 icd_f44 icd_f459 ttlc_1 st_8 cpt_99309 icd_f419 icd_f44 icd_i10 icd_r52 xxunk xxrep xxunk xxunk icd_f459 icd_i10 icd_m6281 icd_r1310 icd_r41841 icd_z931 ttlc_5 st_8 cpt_99309 icd_d649 icd_f44 icd_r52 icd_z931 ttlc_5 st_8 cpt_99309 icd_f419 icd_f44 icd_r52 ttlc_5 st_8 cpt_99307 icd_d649 icd_f419 icd_f44 icd_i10 ttlc_1 st_8 cpt_99310 icd_f44 icd_f459 ttlc_1 st_8 cpt_99307 icd_d649 icd_f419 icd_f44</td>\n",
       "      <td>st_11 xxunk xxrep xxunk xxunk icd_f459 icd_i10 icd_m6281 icd_r1310 icd_r41841 icd_z931 ttlc_1 st_8 cpt_99310 icd_f44 icd_i10 icd_m6281 icd_z931 ttlc_1 st_8 cpt_90792 icd_f44 icd_f459 ttlc_1 st_8 cpt_99309 icd_f419 icd_f44 icd_i10 icd_r52 xxunk xxrep xxunk xxunk icd_f459 icd_i10 icd_m6281 icd_r1310 icd_r41841 icd_z931 ttlc_5 st_8 cpt_99309 icd_d649 icd_f44 icd_r52 icd_z931 ttlc_5 st_8 cpt_99309 icd_f419 icd_f44 icd_r52 ttlc_5 st_8 cpt_99307 icd_d649 icd_f419 icd_f44 icd_i10 ttlc_1 st_8 cpt_99310 icd_f44 icd_f459 ttlc_1 st_8 cpt_99307 icd_d649 icd_f419 icd_f44 icd_r1310</td>\n",
       "    </tr>\n",
       "    <tr>\n",
       "      <th>1</th>\n",
       "      <td>icd_r110 xxunk xxrep xxunk xxunk xxunk icd_z992 cpt_q4081 icd_d509 icd_d631 icd_n186 icd_r110 xxunk xxrep xxunk xxunk xxunk icd_z992 cpt_q4081 icd_d509 icd_d631 icd_n186 icd_r110 xxunk xxrep xxunk xxunk xxunk icd_z992 cpt_j1756 icd_d509 icd_d631 icd_n186 icd_r110 xxunk xxrep xxunk xxunk xxunk icd_z992 cpt_j2405 icd_d509 icd_d631 icd_n186 icd_r110 xxunk xxrep xxunk xxunk xxunk icd_z992 xxunk xxrep xxunk xxunk icd_d509 icd_d631 icd_n186 icd_r110 xxunk xxrep xxunk xxunk xxunk icd_z992 cpt_85041 icd_d509 icd_d631 icd_n186 icd_r110 xxunk xxrep</td>\n",
       "      <td>xxunk xxrep xxunk xxunk xxunk icd_z992 cpt_q4081 icd_d509 icd_d631 icd_n186 icd_r110 xxunk xxrep xxunk xxunk xxunk icd_z992 cpt_q4081 icd_d509 icd_d631 icd_n186 icd_r110 xxunk xxrep xxunk xxunk xxunk icd_z992 cpt_j1756 icd_d509 icd_d631 icd_n186 icd_r110 xxunk xxrep xxunk xxunk xxunk icd_z992 cpt_j2405 icd_d509 icd_d631 icd_n186 icd_r110 xxunk xxrep xxunk xxunk xxunk icd_z992 xxunk xxrep xxunk xxunk icd_d509 icd_d631 icd_n186 icd_r110 xxunk xxrep xxunk xxunk xxunk icd_z992 cpt_85041 icd_d509 icd_d631 icd_n186 icd_r110 xxunk xxrep xxunk</td>\n",
       "    </tr>\n",
       "  </tbody>\n",
       "</table>"
      ],
      "text/plain": [
       "<IPython.core.display.HTML object>"
      ]
     },
     "metadata": {},
     "output_type": "display_data"
    }
   ],
   "source": [
    "dls.show_batch(max_n=2)"
   ]
  },
  {
   "cell_type": "code",
   "execution_count": null,
   "metadata": {},
   "outputs": [],
   "source": []
  },
  {
   "cell_type": "code",
   "execution_count": 18,
   "metadata": {},
   "outputs": [
    {
     "data": {
      "text/plain": [
       "SequentialRNN(\n",
       "  (0): AWD_LSTM(\n",
       "    (encoder): Embedding(18080, 400, padding_idx=1)\n",
       "    (encoder_dp): EmbeddingDropout(\n",
       "      (emb): Embedding(18080, 400, padding_idx=1)\n",
       "    )\n",
       "    (rnns): ModuleList(\n",
       "      (0): WeightDropout(\n",
       "        (module): LSTM(400, 1152, batch_first=True)\n",
       "      )\n",
       "      (1): WeightDropout(\n",
       "        (module): LSTM(1152, 1152, batch_first=True)\n",
       "      )\n",
       "      (2): WeightDropout(\n",
       "        (module): LSTM(1152, 400, batch_first=True)\n",
       "      )\n",
       "    )\n",
       "    (input_dp): RNNDropout()\n",
       "    (hidden_dps): ModuleList(\n",
       "      (0): RNNDropout()\n",
       "      (1): RNNDropout()\n",
       "      (2): RNNDropout()\n",
       "    )\n",
       "  )\n",
       "  (1): LinearDecoder(\n",
       "    (decoder): Linear(in_features=400, out_features=18080, bias=True)\n",
       "    (output_dp): RNNDropout()\n",
       "  )\n",
       ")"
      ]
     },
     "execution_count": 18,
     "metadata": {},
     "output_type": "execute_result"
    }
   ],
   "source": [
    "learn.model"
   ]
  },
  {
   "cell_type": "code",
   "execution_count": 19,
   "metadata": {},
   "outputs": [
    {
     "data": {
      "text/html": [],
      "text/plain": [
       "<IPython.core.display.HTML object>"
      ]
     },
     "metadata": {},
     "output_type": "display_data"
    },
    {
     "name": "stderr",
     "output_type": "stream",
     "text": [
      "/home/bp/.local/share/virtualenvs/data-analytics-qWXImv-u/lib/python3.8/site-packages/fastai/callback/schedule.py:269: UserWarning: color is redundantly defined by the 'color' keyword argument and the fmt string \"ro\" (-> color='r'). The keyword argument will take precedence.\n",
      "  ax.plot(val, idx, 'ro', label=nm, c=color)\n"
     ]
    },
    {
     "data": {
      "text/plain": [
       "SuggestedLRs(valley=0.00019054606673307717)"
      ]
     },
     "execution_count": 19,
     "metadata": {},
     "output_type": "execute_result"
    },
    {
     "data": {
      "image/png": "[encoded data removed]",
      "text/plain": [
       "<Figure size 432x288 with 1 Axes>"
      ]
     },
     "metadata": {},
     "output_type": "display_data"
    }
   ],
   "source": [
    "learn.lr_find()"
   ]
  },
  {
   "cell_type": "code",
   "execution_count": 19,
   "metadata": {},
   "outputs": [
    {
     "data": {
      "text/html": [
       "<table border=\"1\" class=\"dataframe\">\n",
       "  <thead>\n",
       "    <tr style=\"text-align: left;\">\n",
       "      <th>epoch</th>\n",
       "      <th>train_loss</th>\n",
       "      <th>valid_loss</th>\n",
       "      <th>accuracy</th>\n",
       "      <th>perplexity</th>\n",
       "      <th>time</th>\n",
       "    </tr>\n",
       "  </thead>\n",
       "  <tbody>\n",
       "    <tr>\n",
       "      <td>0</td>\n",
       "      <td>1.419806</td>\n",
       "      <td>1.442616</td>\n",
       "      <td>0.713581</td>\n",
       "      <td>4.231753</td>\n",
       "      <td>3:02:17</td>\n",
       "    </tr>\n",
       "    <tr>\n",
       "      <td>1</td>\n",
       "      <td>1.260208</td>\n",
       "      <td>1.181609</td>\n",
       "      <td>0.749618</td>\n",
       "      <td>3.259614</td>\n",
       "      <td>3:03:26</td>\n",
       "    </tr>\n",
       "    <tr>\n",
       "      <td>2</td>\n",
       "      <td>1.196050</td>\n",
       "      <td>1.098858</td>\n",
       "      <td>0.761815</td>\n",
       "      <td>3.000738</td>\n",
       "      <td>3:00:51</td>\n",
       "    </tr>\n",
       "    <tr>\n",
       "      <td>3</td>\n",
       "      <td>1.105927</td>\n",
       "      <td>1.057861</td>\n",
       "      <td>0.768935</td>\n",
       "      <td>2.880205</td>\n",
       "      <td>3:00:53</td>\n",
       "    </tr>\n",
       "    <tr>\n",
       "      <td>4</td>\n",
       "      <td>1.064132</td>\n",
       "      <td>1.026587</td>\n",
       "      <td>0.774571</td>\n",
       "      <td>2.791522</td>\n",
       "      <td>3:05:57</td>\n",
       "    </tr>\n",
       "    <tr>\n",
       "      <td>5</td>\n",
       "      <td>1.100780</td>\n",
       "      <td>0.993935</td>\n",
       "      <td>0.779791</td>\n",
       "      <td>2.701846</td>\n",
       "      <td>3:00:33</td>\n",
       "    </tr>\n",
       "    <tr>\n",
       "      <td>6</td>\n",
       "      <td>1.078079</td>\n",
       "      <td>0.965501</td>\n",
       "      <td>0.784944</td>\n",
       "      <td>2.626102</td>\n",
       "      <td>3:00:30</td>\n",
       "    </tr>\n",
       "    <tr>\n",
       "      <td>7</td>\n",
       "      <td>1.003354</td>\n",
       "      <td>0.944411</td>\n",
       "      <td>0.788343</td>\n",
       "      <td>2.571299</td>\n",
       "      <td>3:00:45</td>\n",
       "    </tr>\n",
       "    <tr>\n",
       "      <td>8</td>\n",
       "      <td>1.032681</td>\n",
       "      <td>0.930384</td>\n",
       "      <td>0.790787</td>\n",
       "      <td>2.535482</td>\n",
       "      <td>3:00:39</td>\n",
       "    </tr>\n",
       "    <tr>\n",
       "      <td>9</td>\n",
       "      <td>1.020864</td>\n",
       "      <td>0.926789</td>\n",
       "      <td>0.791473</td>\n",
       "      <td>2.526383</td>\n",
       "      <td>3:01:40</td>\n",
       "    </tr>\n",
       "  </tbody>\n",
       "</table>"
      ],
      "text/plain": [
       "<IPython.core.display.HTML object>"
      ]
     },
     "metadata": {},
     "output_type": "display_data"
    },
    {
     "name": "stdout",
     "output_type": "stream",
     "text": [
      "Better model found at epoch 0 with valid_loss value: 1.4426164627075195.\n",
      "Better model found at epoch 1 with valid_loss value: 1.1816089153289795.\n",
      "Better model found at epoch 2 with valid_loss value: 1.0988582372665405.\n",
      "Better model found at epoch 3 with valid_loss value: 1.0578614473342896.\n",
      "Better model found at epoch 4 with valid_loss value: 1.0265870094299316.\n",
      "Better model found at epoch 5 with valid_loss value: 0.9939353466033936.\n",
      "Better model found at epoch 6 with valid_loss value: 0.9655006527900696.\n",
      "Better model found at epoch 7 with valid_loss value: 0.9444111585617065.\n",
      "Better model found at epoch 8 with valid_loss value: 0.9303838610649109.\n",
      "Better model found at epoch 9 with valid_loss value: 0.9267885684967041.\n"
     ]
    }
   ],
   "source": [
    "learn.fit_one_cycle(10, 10e-4)"
   ]
  },
  {
   "cell_type": "markdown",
   "metadata": {},
   "source": [
    "### Save model, encoder, and vocab"
   ]
  },
  {
   "cell_type": "code",
   "execution_count": 22,
   "metadata": {},
   "outputs": [
    {
     "data": {
      "text/plain": [
       "'/home/bp/data-analytics/models/st_cpt_icd_model_20221006'"
      ]
     },
     "execution_count": 22,
     "metadata": {},
     "output_type": "execute_result"
    }
   ],
   "source": [
    "models_path = '/home/bp/data-analytics/models/'\n",
    "file = models_path + model_root_name\n",
    "file"
   ]
  },
  {
   "cell_type": "code",
   "execution_count": 23,
   "metadata": {},
   "outputs": [
    {
     "data": {
      "text/plain": [
       "Path('/home/bp/data-analytics/models/st_cpt_icd_model_20221006.pth')"
      ]
     },
     "execution_count": 23,
     "metadata": {},
     "output_type": "execute_result"
    }
   ],
   "source": [
    "learn.save(file, with_opt=True, pickle_protocol=2)"
   ]
  },
  {
   "cell_type": "code",
   "execution_count": 24,
   "metadata": {},
   "outputs": [],
   "source": [
    "file = models_path + 'enc_' + model_root_name\n",
    "learn.save_encoder(file)"
   ]
  },
  {
   "cell_type": "code",
   "execution_count": 25,
   "metadata": {},
   "outputs": [
    {
     "data": {
      "text/plain": [
       "'/home/bp/data-analytics/models/enc_st_cpt_icd_model_20221006'"
      ]
     },
     "execution_count": 25,
     "metadata": {},
     "output_type": "execute_result"
    }
   ],
   "source": [
    "file"
   ]
  },
  {
   "cell_type": "code",
   "execution_count": 26,
   "metadata": {},
   "outputs": [
    {
     "data": {
      "text/plain": [
       "'/home/bp/data-analytics/models/vocab_st_cpt_icd_model_20221006'"
      ]
     },
     "execution_count": 26,
     "metadata": {},
     "output_type": "execute_result"
    }
   ],
   "source": [
    "vocab_path = models_path + 'vocab_' + model_root_name\n",
    "with open(vocab_path, 'wb') as f:\n",
    "    pickle.dump(vocab, f)\n",
    "vocab_path"
   ]
  },
  {
   "cell_type": "markdown",
   "metadata": {},
   "source": [
    "### Visualize Results"
   ]
  },
  {
   "cell_type": "code",
   "execution_count": null,
   "metadata": {},
   "outputs": [],
   "source": [
    "learn.model"
   ]
  },
  {
   "cell_type": "code",
   "execution_count": null,
   "metadata": {},
   "outputs": [],
   "source": [
    "# with open('jsonb_object_agg_ndcoprietary_name___json.json', 'rb') as f:\n",
    "#     ndc_lookup = json.load(f)\n",
    "#     ndc_lookup = ndc_lookup[0]['jsonb_object_agg']\n",
    "# with open('ndc_lookup.json', 'wb') as f:\n",
    "#     pickle.dump(ndc_lookup, f)\n",
    "with open('ndc_lookup.json', 'rb') as f:\n",
    "    ndc_lookup = pickle.load(f)\n",
    "ndc_lookup['00904643480']"
   ]
  },
  {
   "cell_type": "code",
   "execution_count": 27,
   "metadata": {},
   "outputs": [],
   "source": [
    "from torch.nn import functional as F\n",
    "\n",
    "def get_normalized_embeddings():\n",
    "    return F.normalize(learn.model[0].encoder.weight)\n",
    "\n",
    "def most_similar(token, embs):\n",
    "    if token[:2] == 'xx':\n",
    "        return\n",
    "#     idx = num.vocab.itos.index(token)\n",
    "    idx = vocab.index(token)\n",
    "    sims = (embs[idx] @ embs.t()).cpu().detach().numpy()\n",
    "\n",
    "    print(f'Similar to: {token}')\n",
    "    for sim_idx in np.argsort(sims)[::-1][1:11]:\n",
    "        if vocab[sim_idx][:2] == 'xx':\n",
    "            print(f'{sims[sim_idx]:.02f}: {vocab[sim_idx]}')\n",
    "        else:\n",
    "            print(f'{sims[sim_idx]:.02f}: {vocab[sim_idx]}: {vocab[sim_idx]}')\n",
    "            "
   ]
  },
  {
   "cell_type": "code",
   "execution_count": 28,
   "metadata": {},
   "outputs": [],
   "source": [
    "embeddings = get_normalized_embeddings()"
   ]
  },
  {
   "cell_type": "code",
   "execution_count": 82,
   "metadata": {},
   "outputs": [
    {
     "name": "stdout",
     "output_type": "stream",
     "text": [
      "Similar to: icd_z85028\n",
      "0.99: icd_s20419a: icd_s20419a\n",
      "0.99: icd_z8615: icd_z8615\n",
      "0.99: icd_y833: icd_y833\n",
      "0.99: icd_t380x6s: icd_t380x6s\n",
      "0.99: icd_z531: icd_z531\n",
      "0.99: icd_q632: icd_q632\n",
      "0.99: icd_r826: icd_r826\n",
      "0.99: icd_x102xxa: icd_x102xxa\n",
      "0.99: icd_s2249xs: icd_s2249xs\n",
      "0.99: icd_t1592xa: icd_t1592xa\n",
      "\n",
      "Similar to: icd_m1711\n",
      "0.99: icd_m170: icd_m170\n",
      "0.99: icd_m25561: icd_m25561\n",
      "0.99: icd_m1712: icd_m1712\n",
      "0.98: icd_m19011: icd_m19011\n",
      "0.98: icd_m47812: icd_m47812\n",
      "0.98: icd_m1612: icd_m1612\n",
      "0.98: icd_m48061: icd_m48061\n",
      "0.98: icd_m25562: icd_m25562\n",
      "0.98: icd_m25512: icd_m25512\n",
      "0.98: icd_m5416: icd_m5416\n",
      "\n",
      "Similar to: cpt_g2089\n",
      "1.00: cpt_g2181: cpt_g2181\n",
      "1.00: cpt_g9691: cpt_g9691\n",
      "1.00: cpt_99473: cpt_99473\n",
      "1.00: cpt_g9510: cpt_g9510\n",
      "1.00: cpt_4064f: cpt_4064f\n",
      "1.00: cpt_3025f: cpt_3025f\n",
      "1.00: cpt_g2104: cpt_g2104\n",
      "1.00: cpt_4001f: cpt_4001f\n",
      "1.00: cpt_g9459: cpt_g9459\n",
      "1.00: cpt_3354f: cpt_3354f\n",
      "\n",
      "Similar to: cpt_45990\n",
      "1.00: cpt_46270: cpt_46270\n",
      "1.00: cpt_45100: cpt_45100\n",
      "1.00: cpt_45915: cpt_45915\n",
      "1.00: cpt_46922: cpt_46922\n",
      "1.00: cpt_44620: cpt_44620\n",
      "1.00: cpt_44380: cpt_44380\n",
      "1.00: cpt_46924: cpt_46924\n",
      "1.00: cpt_54520: cpt_54520\n",
      "1.00: cpt_49321: cpt_49321\n",
      "1.00: cpt_46260: cpt_46260\n",
      "\n",
      "Similar to: cpt_a4338\n",
      "0.99: cpt_a4344: cpt_a4344\n",
      "0.99: cpt_a4357: cpt_a4357\n",
      "0.99: cpt_a4358: cpt_a4358\n",
      "0.99: cpt_a4349: cpt_a4349\n",
      "0.99: cpt_a4351: cpt_a4351\n",
      "0.99: cpt_a4362: cpt_a4362\n",
      "0.99: cpt_a4385: cpt_a4385\n",
      "0.99: cpt_a4456: cpt_a4456\n",
      "0.99: cpt_a4371: cpt_a4371\n",
      "0.99: cpt_a4452: cpt_a4452\n",
      "\n",
      "Similar to: cpt_82009\n",
      "0.99: cpt_82010: cpt_82010\n",
      "0.99: cpt_82800: cpt_82800\n",
      "0.98: cpt_86738: cpt_86738\n",
      "0.98: cpt_82272: cpt_82272\n",
      "0.98: cpt_80320: cpt_80320\n",
      "0.98: cpt_82077: cpt_82077\n",
      "0.98: cpt_82375: cpt_82375\n",
      "0.98: cpt_82271: cpt_82271\n",
      "0.98: cpt_85378: cpt_85378\n",
      "0.98: cpt_85380: cpt_85380\n",
      "\n",
      "Similar to: icd_g8250\n",
      "0.98: icd_g8220: icd_g8220\n",
      "0.98: icd_g8254: icd_g8254\n",
      "0.98: icd_g800: icd_g800\n",
      "0.98: icd_g931: icd_g931\n",
      "0.98: icd_g809: icd_g809\n",
      "0.98: icd_g8929: icd_g8929\n",
      "0.98: icd_g629: icd_g629\n",
      "0.98: icd_g808: icd_g808\n",
      "0.98: icd_g40909: icd_g40909\n",
      "0.97: icd_g894: icd_g894\n",
      "\n",
      "Similar to: cpt_99236\n",
      "1.00: cpt_99235: cpt_99235\n",
      "0.99: cpt_99234: cpt_99234\n",
      "0.99: cpt_99218: cpt_99218\n",
      "0.99: cpt_99219: cpt_99219\n",
      "0.98: cpt_99220: cpt_99220\n",
      "0.98: cpt_99252: cpt_99252\n",
      "0.98: cpt_g0427: cpt_g0427\n",
      "0.98: cpt_g0426: cpt_g0426\n",
      "0.98: cpt_g0425: cpt_g0425\n",
      "0.98: cpt_99253: cpt_99253\n",
      "\n",
      "Similar to: icd_e7871\n",
      "1.00: icd_f78a9: icd_f78a9\n",
      "1.00: icd_s99911a: icd_s99911a\n",
      "1.00: cpt_64447: cpt_64447\n",
      "1.00: icd_s46111a: icd_s46111a\n",
      "1.00: icd_m25551: icd_m25551\n",
      "1.00: cpt_a9555: cpt_a9555\n",
      "1.00: icd_h353222: icd_h353222\n",
      "1.00: icd_s22080g: icd_s22080g\n",
      "1.00: icd_i2111: icd_i2111\n",
      "1.00: cpt_0295t: cpt_0295t\n",
      "\n",
      "Similar to: icd_i67\n",
      "0.98: icd_i63: icd_i63\n",
      "0.98: icd_i69: icd_i69\n",
      "0.98: icd_i65: icd_i65\n",
      "0.98: icd_g93: icd_g93\n",
      "0.98: icd_r47: icd_r47\n",
      "0.98: icd_g31: icd_g31\n",
      "0.98: icd_i73: icd_i73\n",
      "0.98: icd_g81: icd_g81\n",
      "0.98: icd_i82: icd_i82\n",
      "0.98: icd_r29: icd_r29\n",
      "\n",
      "Similar to: st_8\n",
      "0.99: st_12: st_12\n",
      "0.98: st_3: st_3\n",
      "0.98: st_10: st_10\n",
      "0.98: st_6: st_6\n",
      "0.98: st_2: st_2\n",
      "0.97: st_15: st_15\n",
      "0.97: st_17: st_17\n",
      "0.97: st_5: st_5\n",
      "0.97: st_1: st_1\n",
      "0.97: st_4: st_4\n"
     ]
    }
   ],
   "source": [
    "for code in random.sample(vocab, 10):\n",
    "    most_similar(code, embeddings)\n",
    "    print('')\n",
    "most_similar('st_8', embeddings)"
   ]
  },
  {
   "cell_type": "code",
   "execution_count": 81,
   "metadata": {},
   "outputs": [
    {
     "data": {
      "text/plain": [
       "'st_8'"
      ]
     },
     "execution_count": 81,
     "metadata": {},
     "output_type": "execute_result"
    }
   ],
   "source": [
    "vocab[10]"
   ]
  },
  {
   "cell_type": "markdown",
   "metadata": {},
   "source": [
    "### Get embeddings for 2020 uhc tx"
   ]
  },
  {
   "cell_type": "code",
   "execution_count": 74,
   "metadata": {},
   "outputs": [
    {
     "data": {
      "text/html": [
       "<div>\n",
       "<style scoped>\n",
       "    .dataframe tbody tr th:only-of-type {\n",
       "        vertical-align: middle;\n",
       "    }\n",
       "\n",
       "    .dataframe tbody tr th {\n",
       "        vertical-align: top;\n",
       "    }\n",
       "\n",
       "    .dataframe thead th {\n",
       "        text-align: right;\n",
       "    }\n",
       "</style>\n",
       "<table border=\"1\" class=\"dataframe\">\n",
       "  <thead>\n",
       "    <tr style=\"text-align: right;\">\n",
       "      <th></th>\n",
       "      <th>mco_id</th>\n",
       "      <th>member_id</th>\n",
       "      <th>yr</th>\n",
       "      <th>ip_tc</th>\n",
       "      <th>ip_er_tc</th>\n",
       "      <th>ip_ddos_span</th>\n",
       "    </tr>\n",
       "  </thead>\n",
       "  <tbody>\n",
       "    <tr>\n",
       "      <th>0</th>\n",
       "      <td>2</td>\n",
       "      <td>1</td>\n",
       "      <td>2017</td>\n",
       "      <td>0.00</td>\n",
       "      <td>0.00</td>\n",
       "      <td>0</td>\n",
       "    </tr>\n",
       "    <tr>\n",
       "      <th>1</th>\n",
       "      <td>2</td>\n",
       "      <td>1</td>\n",
       "      <td>2018</td>\n",
       "      <td>0.00</td>\n",
       "      <td>0.00</td>\n",
       "      <td>0</td>\n",
       "    </tr>\n",
       "    <tr>\n",
       "      <th>2</th>\n",
       "      <td>2</td>\n",
       "      <td>1</td>\n",
       "      <td>2019</td>\n",
       "      <td>11429.58</td>\n",
       "      <td>11766.19</td>\n",
       "      <td>56</td>\n",
       "    </tr>\n",
       "    <tr>\n",
       "      <th>3</th>\n",
       "      <td>2</td>\n",
       "      <td>1</td>\n",
       "      <td>2020</td>\n",
       "      <td>0.00</td>\n",
       "      <td>0.00</td>\n",
       "      <td>0</td>\n",
       "    </tr>\n",
       "    <tr>\n",
       "      <th>4</th>\n",
       "      <td>2</td>\n",
       "      <td>1</td>\n",
       "      <td>2021</td>\n",
       "      <td>0.00</td>\n",
       "      <td>825.41</td>\n",
       "      <td>0</td>\n",
       "    </tr>\n",
       "  </tbody>\n",
       "</table>\n",
       "</div>"
      ],
      "text/plain": [
       "   mco_id  member_id    yr     ip_tc  ip_er_tc  ip_ddos_span\n",
       "0       2          1  2017      0.00      0.00             0\n",
       "1       2          1  2018      0.00      0.00             0\n",
       "2       2          1  2019  11429.58  11766.19            56\n",
       "3       2          1  2020      0.00      0.00             0\n",
       "4       2          1  2021      0.00    825.41             0"
      ]
     },
     "execution_count": 74,
     "metadata": {},
     "output_type": "execute_result"
    }
   ],
   "source": [
    "df = pd.read_csv('data/year_level_targets_20221010.csv')\n",
    "df.head()"
   ]
  },
  {
   "cell_type": "code",
   "execution_count": 64,
   "metadata": {},
   "outputs": [],
   "source": [
    "def is_2020(f):\n",
    "    match = re.match('^\\d*_(.*).0_\\d*\\.txt$', f.name)\n",
    "    return match.groups()[0] == '2020'\n",
    "\n",
    "twentytwenty_files = [f for f in files if is_2020(f)]"
   ]
  },
  {
   "cell_type": "code",
   "execution_count": 65,
   "metadata": {},
   "outputs": [
    {
     "data": {
      "text/plain": [
       "66038"
      ]
     },
     "execution_count": 65,
     "metadata": {},
     "output_type": "execute_result"
    }
   ],
   "source": [
    "len(twentytwenty_files)"
   ]
  },
  {
   "cell_type": "code",
   "execution_count": 40,
   "metadata": {},
   "outputs": [
    {
     "data": {
      "text/plain": [
       "'7_2019.0_307714.txt'"
      ]
     },
     "execution_count": 40,
     "metadata": {},
     "output_type": "execute_result"
    }
   ],
   "source": [
    "os.path.basename(files[0])"
   ]
  },
  {
   "cell_type": "code",
   "execution_count": 48,
   "metadata": {},
   "outputs": [
    {
     "name": "stdout",
     "output_type": "stream",
     "text": [
      "5_2020.0_252669.txt\n"
     ]
    },
    {
     "data": {
      "text/plain": [
       "'252669'"
      ]
     },
     "execution_count": 48,
     "metadata": {},
     "output_type": "execute_result"
    }
   ],
   "source": [
    "f = uhc_tx_files[0]\n",
    "print(f.name)\n",
    "match = re.match('^\\d*_\\d*.0_(.*)\\.txt$', f.name)\n",
    "match.groups()[0]"
   ]
  },
  {
   "cell_type": "code",
   "execution_count": 77,
   "metadata": {},
   "outputs": [
    {
     "name": "stderr",
     "output_type": "stream",
     "text": [
      "100%|████████████████████████████████████████████████████████████████████████████████████████████████████████████████████| 291076/291076 [04:31<00:00, 1070.61it/s]\n"
     ]
    }
   ],
   "source": [
    "import shutil\n",
    "for f in tqdm(files):\n",
    "    match = re.match('\\d*_\\d*.0_(.*)\\.txt$', f.name)\n",
    "    if match is None:\n",
    "        break\n",
    "    mem = df.loc[df.member_id== int(match.groups()[0])]\n",
    "    \n",
    "    if mem.shape[0]:\n",
    "        new_file_name = f'{mem.member_id.values[0]}_{int(mem.ip_er_tc.values[0])}_{mem.ip_ddos_span.values[0]}.txt'\n",
    "        shutil.copyfile(f, '../service_type_cpt_icds_target/'+new_file_name)\n",
    "        "
   ]
  },
  {
   "cell_type": "code",
   "execution_count": 75,
   "metadata": {},
   "outputs": [
    {
     "data": {
      "text/html": [
       "<div>\n",
       "<style scoped>\n",
       "    .dataframe tbody tr th:only-of-type {\n",
       "        vertical-align: middle;\n",
       "    }\n",
       "\n",
       "    .dataframe tbody tr th {\n",
       "        vertical-align: top;\n",
       "    }\n",
       "\n",
       "    .dataframe thead th {\n",
       "        text-align: right;\n",
       "    }\n",
       "</style>\n",
       "<table border=\"1\" class=\"dataframe\">\n",
       "  <thead>\n",
       "    <tr style=\"text-align: right;\">\n",
       "      <th></th>\n",
       "      <th>mco_id</th>\n",
       "      <th>member_id</th>\n",
       "      <th>yr</th>\n",
       "      <th>ip_tc</th>\n",
       "      <th>ip_er_tc</th>\n",
       "      <th>ip_ddos_span</th>\n",
       "    </tr>\n",
       "  </thead>\n",
       "  <tbody>\n",
       "    <tr>\n",
       "      <th>count</th>\n",
       "      <td>301609.000000</td>\n",
       "      <td>3.016090e+05</td>\n",
       "      <td>301609.000000</td>\n",
       "      <td>3.016090e+05</td>\n",
       "      <td>3.016090e+05</td>\n",
       "      <td>301609.000000</td>\n",
       "    </tr>\n",
       "    <tr>\n",
       "      <th>mean</th>\n",
       "      <td>5.996257</td>\n",
       "      <td>4.132913e+05</td>\n",
       "      <td>2019.944673</td>\n",
       "      <td>4.219352e+03</td>\n",
       "      <td>4.976447e+03</td>\n",
       "      <td>95.256123</td>\n",
       "    </tr>\n",
       "    <tr>\n",
       "      <th>std</th>\n",
       "      <td>3.709013</td>\n",
       "      <td>3.754492e+05</td>\n",
       "      <td>1.344316</td>\n",
       "      <td>1.756113e+04</td>\n",
       "      <td>1.829776e+04</td>\n",
       "      <td>507.078146</td>\n",
       "    </tr>\n",
       "    <tr>\n",
       "      <th>min</th>\n",
       "      <td>2.000000</td>\n",
       "      <td>1.000000e+00</td>\n",
       "      <td>2017.000000</td>\n",
       "      <td>0.000000e+00</td>\n",
       "      <td>0.000000e+00</td>\n",
       "      <td>0.000000</td>\n",
       "    </tr>\n",
       "    <tr>\n",
       "      <th>25%</th>\n",
       "      <td>3.000000</td>\n",
       "      <td>7.045900e+04</td>\n",
       "      <td>2019.000000</td>\n",
       "      <td>0.000000e+00</td>\n",
       "      <td>0.000000e+00</td>\n",
       "      <td>0.000000</td>\n",
       "    </tr>\n",
       "    <tr>\n",
       "      <th>50%</th>\n",
       "      <td>5.000000</td>\n",
       "      <td>2.663880e+05</td>\n",
       "      <td>2020.000000</td>\n",
       "      <td>0.000000e+00</td>\n",
       "      <td>0.000000e+00</td>\n",
       "      <td>0.000000</td>\n",
       "    </tr>\n",
       "    <tr>\n",
       "      <th>75%</th>\n",
       "      <td>7.000000</td>\n",
       "      <td>9.745660e+05</td>\n",
       "      <td>2021.000000</td>\n",
       "      <td>0.000000e+00</td>\n",
       "      <td>1.430110e+03</td>\n",
       "      <td>0.000000</td>\n",
       "    </tr>\n",
       "    <tr>\n",
       "      <th>max</th>\n",
       "      <td>13.000000</td>\n",
       "      <td>1.017277e+06</td>\n",
       "      <td>2022.000000</td>\n",
       "      <td>1.991467e+06</td>\n",
       "      <td>1.993278e+06</td>\n",
       "      <td>54575.000000</td>\n",
       "    </tr>\n",
       "  </tbody>\n",
       "</table>\n",
       "</div>"
      ],
      "text/plain": [
       "              mco_id     member_id             yr         ip_tc      ip_er_tc  \\\n",
       "count  301609.000000  3.016090e+05  301609.000000  3.016090e+05  3.016090e+05   \n",
       "mean        5.996257  4.132913e+05    2019.944673  4.219352e+03  4.976447e+03   \n",
       "std         3.709013  3.754492e+05       1.344316  1.756113e+04  1.829776e+04   \n",
       "min         2.000000  1.000000e+00    2017.000000  0.000000e+00  0.000000e+00   \n",
       "25%         3.000000  7.045900e+04    2019.000000  0.000000e+00  0.000000e+00   \n",
       "50%         5.000000  2.663880e+05    2020.000000  0.000000e+00  0.000000e+00   \n",
       "75%         7.000000  9.745660e+05    2021.000000  0.000000e+00  1.430110e+03   \n",
       "max        13.000000  1.017277e+06    2022.000000  1.991467e+06  1.993278e+06   \n",
       "\n",
       "        ip_ddos_span  \n",
       "count  301609.000000  \n",
       "mean       95.256123  \n",
       "std       507.078146  \n",
       "min         0.000000  \n",
       "25%         0.000000  \n",
       "50%         0.000000  \n",
       "75%         0.000000  \n",
       "max     54575.000000  "
      ]
     },
     "execution_count": 75,
     "metadata": {},
     "output_type": "execute_result"
    }
   ],
   "source": [
    "df.describe()"
   ]
  },
  {
   "cell_type": "markdown",
   "metadata": {},
   "source": [
    "### Create patient embeddings"
   ]
  },
  {
   "cell_type": "code",
   "execution_count": 134,
   "metadata": {
    "tags": []
   },
   "outputs": [],
   "source": [
    "embeddings = get_normalized_embeddings()\n",
    "\n",
    "results = []\n",
    "\n",
    "for file in files[:10000]:\n",
    "    with open(file, 'r') as f:\n",
    "        text = f.read()\n",
    "    text = 'xxbos' + text\n",
    "    embs = [embeddings[vocab.index(e)] for e in text.split(' ') if e in vocab]\n",
    "    final = None\n",
    "    for e in embs:\n",
    "        if final is None:\n",
    "            final = e\n",
    "        else:\n",
    "            final += e\n",
    "    results.append((file.name, final.tolist()))"
   ]
  },
  {
   "cell_type": "code",
   "execution_count": 135,
   "metadata": {},
   "outputs": [],
   "source": [
    "df = pd.DataFrame(results, columns=['file_name', 'emb'])"
   ]
  },
  {
   "cell_type": "code",
   "execution_count": 136,
   "metadata": {},
   "outputs": [
    {
     "data": {
      "text/html": [
       "<div>\n",
       "<style scoped>\n",
       "    .dataframe tbody tr th:only-of-type {\n",
       "        vertical-align: middle;\n",
       "    }\n",
       "\n",
       "    .dataframe tbody tr th {\n",
       "        vertical-align: top;\n",
       "    }\n",
       "\n",
       "    .dataframe thead th {\n",
       "        text-align: right;\n",
       "    }\n",
       "</style>\n",
       "<table border=\"1\" class=\"dataframe\">\n",
       "  <thead>\n",
       "    <tr style=\"text-align: right;\">\n",
       "      <th></th>\n",
       "      <th>file_name</th>\n",
       "      <th>emb</th>\n",
       "    </tr>\n",
       "  </thead>\n",
       "  <tbody>\n",
       "    <tr>\n",
       "      <th>0</th>\n",
       "      <td>7_2019.0_307714.txt</td>\n",
       "      <td>[0.9682520031929016, -0.28859424591064453, -0.20893384516239166, -0.29513609409332275, -0.39483708143234253, -0.206153005361557, 0.008076181635260582, -0.5558689832687378, -1.813232660293579, -18.255184173583984, -0.24172648787498474, 0.009930707514286041, 0.7637577056884766, 0.08024761080741882, 0.48981472849845886, 1.5854743719100952, 0.8164970874786377, 0.0791264995932579, -0.19146890938282013, 17.859359741210938, 0.28612056374549866, 0.2958122193813324, -3.8960041999816895, -0.38603708148002625, -4.379040241241455, 0.44293704628944397, -6.408330917358398, 0.17267541587352753, 0.0827256...</td>\n",
       "    </tr>\n",
       "    <tr>\n",
       "      <th>1</th>\n",
       "      <td>7_2020.0_287080.txt</td>\n",
       "      <td>[18.310993194580078, 1.6892184019088745, -7.697311878204346, -11.328058242797852, -5.505013942718506, -6.491467475891113, -5.7679009437561035, -9.527252197265625, -34.2703857421875, -317.95159912109375, -2.354614019393921, 2.5501978397369385, 8.778717994689941, -1.1028919219970703, 7.978809833526611, 32.4781379699707, -2.6543774604797363, 5.5189714431762695, 3.7883145809173584, 301.9561462402344, -2.0958921909332275, 1.301592469215393, -101.77124786376953, -10.065933227539062, -82.39390563964844, -0.8393005728721619, -131.99044799804688, 8.021485328674316, -0.6219528317451477, -163.9066467...</td>\n",
       "    </tr>\n",
       "    <tr>\n",
       "      <th>2</th>\n",
       "      <td>12_2020.0_980201.txt</td>\n",
       "      <td>[18.689212799072266, 1.7114108800888062, -7.914021015167236, -11.528873443603516, -5.799994945526123, -6.427154541015625, -5.840792179107666, -9.601716995239258, -35.07278060913086, -325.05999755859375, -2.364914655685425, 2.6401917934417725, 9.066614151000977, -1.1253445148468018, 8.174783706665039, 33.35862350463867, -2.728717565536499, 5.618748188018799, 3.7169768810272217, 308.21209716796875, -2.1297388076782227, 1.3620835542678833, -104.00867462158203, -10.340047836303711, -84.0798568725586, -0.8814522624015808, -134.87042236328125, 7.989661693572998, -0.5254107117652893, -167.21875, ...</td>\n",
       "    </tr>\n",
       "    <tr>\n",
       "      <th>3</th>\n",
       "      <td>8_2021.0_301342.txt</td>\n",
       "      <td>[19.71872901916504, 2.369621992111206, -8.717247009277344, -11.938640594482422, -6.481914520263672, -6.572677135467529, -6.010908126831055, -9.753923416137695, -38.412696838378906, -354.4949645996094, -2.686272382736206, 2.573132276535034, 9.73313045501709, -1.2908594608306885, 9.174948692321777, 37.08787536621094, -2.6578519344329834, 5.779391765594482, 3.913917064666748, 334.0244140625, -2.0172884464263916, 2.127295970916748, -112.96170043945312, -10.850388526916504, -91.64517974853516, -1.4090855121612549, -146.6513214111328, 7.917776107788086, -0.45733529329299927, -180.83786010742188,...</td>\n",
       "    </tr>\n",
       "    <tr>\n",
       "      <th>4</th>\n",
       "      <td>5_2019.0_268134.txt</td>\n",
       "      <td>[44.026573181152344, -1.1430140733718872, -21.884050369262695, -20.341066360473633, -15.54665470123291, -12.123716354370117, -9.65243911743164, -22.64624786376953, -107.92884063720703, -912.3770141601562, -9.322630882263184, 12.807621002197266, 28.52823829650879, -7.50709342956543, 23.166584014892578, 110.35092163085938, -4.21934700012207, 6.8746185302734375, 13.466535568237305, 947.9166259765625, -3.2824487686157227, 12.827987670898438, -312.7812194824219, -20.605215072631836, -256.9577941894531, -1.5255781412124634, -397.7538146972656, 13.967757225036621, 0.5071383118629456, -473.6279602...</td>\n",
       "    </tr>\n",
       "  </tbody>\n",
       "</table>\n",
       "</div>"
      ],
      "text/plain": [
       "              file_name  \\\n",
       "0   7_2019.0_307714.txt   \n",
       "1   7_2020.0_287080.txt   \n",
       "2  12_2020.0_980201.txt   \n",
       "3   8_2021.0_301342.txt   \n",
       "4   5_2019.0_268134.txt   \n",
       "\n",
       "                                                                                                                                                                                                                                                                                                                                                                                                                                                                                                                                                                                                                       emb  \n",
       "0  [0.9682520031929016, -0.28859424591064453, -0.20893384516239166, -0.29513609409332275, -0.39483708143234253, -0.206153005361557, 0.008076181635260582, -0.5558689832687378, -1.813232660293579, -18.255184173583984, -0.24172648787498474, 0.009930707514286041, 0.7637577056884766, 0.08024761080741882, 0.48981472849845886, 1.5854743719100952, 0.8164970874786377, 0.0791264995932579, -0.19146890938282013, 17.859359741210938, 0.28612056374549866, 0.2958122193813324, -3.8960041999816895, -0.38603708148002625, -4.379040241241455, 0.44293704628944397, -6.408330917358398, 0.17267541587352753, 0.0827256...  \n",
       "1  [18.310993194580078, 1.6892184019088745, -7.697311878204346, -11.328058242797852, -5.505013942718506, -6.491467475891113, -5.7679009437561035, -9.527252197265625, -34.2703857421875, -317.95159912109375, -2.354614019393921, 2.5501978397369385, 8.778717994689941, -1.1028919219970703, 7.978809833526611, 32.4781379699707, -2.6543774604797363, 5.5189714431762695, 3.7883145809173584, 301.9561462402344, -2.0958921909332275, 1.301592469215393, -101.77124786376953, -10.065933227539062, -82.39390563964844, -0.8393005728721619, -131.99044799804688, 8.021485328674316, -0.6219528317451477, -163.9066467...  \n",
       "2  [18.689212799072266, 1.7114108800888062, -7.914021015167236, -11.528873443603516, -5.799994945526123, -6.427154541015625, -5.840792179107666, -9.601716995239258, -35.07278060913086, -325.05999755859375, -2.364914655685425, 2.6401917934417725, 9.066614151000977, -1.1253445148468018, 8.174783706665039, 33.35862350463867, -2.728717565536499, 5.618748188018799, 3.7169768810272217, 308.21209716796875, -2.1297388076782227, 1.3620835542678833, -104.00867462158203, -10.340047836303711, -84.0798568725586, -0.8814522624015808, -134.87042236328125, 7.989661693572998, -0.5254107117652893, -167.21875, ...  \n",
       "3  [19.71872901916504, 2.369621992111206, -8.717247009277344, -11.938640594482422, -6.481914520263672, -6.572677135467529, -6.010908126831055, -9.753923416137695, -38.412696838378906, -354.4949645996094, -2.686272382736206, 2.573132276535034, 9.73313045501709, -1.2908594608306885, 9.174948692321777, 37.08787536621094, -2.6578519344329834, 5.779391765594482, 3.913917064666748, 334.0244140625, -2.0172884464263916, 2.127295970916748, -112.96170043945312, -10.850388526916504, -91.64517974853516, -1.4090855121612549, -146.6513214111328, 7.917776107788086, -0.45733529329299927, -180.83786010742188,...  \n",
       "4  [44.026573181152344, -1.1430140733718872, -21.884050369262695, -20.341066360473633, -15.54665470123291, -12.123716354370117, -9.65243911743164, -22.64624786376953, -107.92884063720703, -912.3770141601562, -9.322630882263184, 12.807621002197266, 28.52823829650879, -7.50709342956543, 23.166584014892578, 110.35092163085938, -4.21934700012207, 6.8746185302734375, 13.466535568237305, 947.9166259765625, -3.2824487686157227, 12.827987670898438, -312.7812194824219, -20.605215072631836, -256.9577941894531, -1.5255781412124634, -397.7538146972656, 13.967757225036621, 0.5071383118629456, -473.6279602...  "
      ]
     },
     "execution_count": 136,
     "metadata": {},
     "output_type": "execute_result"
    }
   ],
   "source": [
    "df.head()"
   ]
  },
  {
   "cell_type": "code",
   "execution_count": 167,
   "metadata": {},
   "outputs": [
    {
     "data": {
      "text/html": [
       "<div>\n",
       "<style scoped>\n",
       "    .dataframe tbody tr th:only-of-type {\n",
       "        vertical-align: middle;\n",
       "    }\n",
       "\n",
       "    .dataframe tbody tr th {\n",
       "        vertical-align: top;\n",
       "    }\n",
       "\n",
       "    .dataframe thead th {\n",
       "        text-align: right;\n",
       "    }\n",
       "</style>\n",
       "<table border=\"1\" class=\"dataframe\">\n",
       "  <thead>\n",
       "    <tr style=\"text-align: right;\">\n",
       "      <th></th>\n",
       "      <th>0</th>\n",
       "      <th>1</th>\n",
       "      <th>2</th>\n",
       "    </tr>\n",
       "  </thead>\n",
       "  <tbody>\n",
       "    <tr>\n",
       "      <th>0</th>\n",
       "      <td>7</td>\n",
       "      <td>2019.0</td>\n",
       "      <td>307714.txt</td>\n",
       "    </tr>\n",
       "    <tr>\n",
       "      <th>1</th>\n",
       "      <td>7</td>\n",
       "      <td>2020.0</td>\n",
       "      <td>287080.txt</td>\n",
       "    </tr>\n",
       "    <tr>\n",
       "      <th>2</th>\n",
       "      <td>12</td>\n",
       "      <td>2020.0</td>\n",
       "      <td>980201.txt</td>\n",
       "    </tr>\n",
       "    <tr>\n",
       "      <th>3</th>\n",
       "      <td>8</td>\n",
       "      <td>2021.0</td>\n",
       "      <td>301342.txt</td>\n",
       "    </tr>\n",
       "    <tr>\n",
       "      <th>4</th>\n",
       "      <td>5</td>\n",
       "      <td>2019.0</td>\n",
       "      <td>268134.txt</td>\n",
       "    </tr>\n",
       "    <tr>\n",
       "      <th>...</th>\n",
       "      <td>...</td>\n",
       "      <td>...</td>\n",
       "      <td>...</td>\n",
       "    </tr>\n",
       "    <tr>\n",
       "      <th>9995</th>\n",
       "      <td>2</td>\n",
       "      <td>2018.0</td>\n",
       "      <td>6770.txt</td>\n",
       "    </tr>\n",
       "    <tr>\n",
       "      <th>9996</th>\n",
       "      <td>2</td>\n",
       "      <td>2021.0</td>\n",
       "      <td>28653.txt</td>\n",
       "    </tr>\n",
       "    <tr>\n",
       "      <th>9997</th>\n",
       "      <td>8</td>\n",
       "      <td>2019.0</td>\n",
       "      <td>303297.txt</td>\n",
       "    </tr>\n",
       "    <tr>\n",
       "      <th>9998</th>\n",
       "      <td>2</td>\n",
       "      <td>2019.0</td>\n",
       "      <td>902.txt</td>\n",
       "    </tr>\n",
       "    <tr>\n",
       "      <th>9999</th>\n",
       "      <td>5</td>\n",
       "      <td>2018.0</td>\n",
       "      <td>252603.txt</td>\n",
       "    </tr>\n",
       "  </tbody>\n",
       "</table>\n",
       "<p>10000 rows × 3 columns</p>\n",
       "</div>"
      ],
      "text/plain": [
       "       0       1           2\n",
       "0      7  2019.0  307714.txt\n",
       "1      7  2020.0  287080.txt\n",
       "2     12  2020.0  980201.txt\n",
       "3      8  2021.0  301342.txt\n",
       "4      5  2019.0  268134.txt\n",
       "...   ..     ...         ...\n",
       "9995   2  2018.0    6770.txt\n",
       "9996   2  2021.0   28653.txt\n",
       "9997   8  2019.0  303297.txt\n",
       "9998   2  2019.0     902.txt\n",
       "9999   5  2018.0  252603.txt\n",
       "\n",
       "[10000 rows x 3 columns]"
      ]
     },
     "execution_count": 167,
     "metadata": {},
     "output_type": "execute_result"
    }
   ],
   "source": [
    "df.file_name.str.split('_', expand=True)"
   ]
  },
  {
   "cell_type": "code",
   "execution_count": 145,
   "metadata": {},
   "outputs": [],
   "source": [
    "from sklearn.manifold import TSNE\n",
    "X = np.array([np.array(x) for x in df.emb.values])"
   ]
  },
  {
   "cell_type": "code",
   "execution_count": 144,
   "metadata": {},
   "outputs": [
    {
     "data": {
      "text/plain": [
       "(10000, 400)"
      ]
     },
     "execution_count": 144,
     "metadata": {},
     "output_type": "execute_result"
    }
   ],
   "source": [
    "X.shape"
   ]
  },
  {
   "cell_type": "code",
   "execution_count": 147,
   "metadata": {},
   "outputs": [
    {
     "data": {
      "text/plain": [
       "(400,)"
      ]
     },
     "execution_count": 147,
     "metadata": {},
     "output_type": "execute_result"
    }
   ],
   "source": [
    "X[1].shape"
   ]
  },
  {
   "cell_type": "code",
   "execution_count": 162,
   "metadata": {},
   "outputs": [],
   "source": [
    "from sklearn.decomposition import PCA\n",
    "X_embedded = TSNE(n_components=2).fit_transform(X)"
   ]
  },
  {
   "cell_type": "code",
   "execution_count": 163,
   "metadata": {},
   "outputs": [
    {
     "data": {
      "text/plain": [
       "((10000, 400), (10000, 2))"
      ]
     },
     "execution_count": 163,
     "metadata": {},
     "output_type": "execute_result"
    }
   ],
   "source": [
    "X.shape, X_embedded.shape"
   ]
  },
  {
   "cell_type": "code",
   "execution_count": 164,
   "metadata": {},
   "outputs": [
    {
     "data": {
      "text/plain": [
       "array([88.1168  , 29.870747], dtype=float32)"
      ]
     },
     "execution_count": 164,
     "metadata": {},
     "output_type": "execute_result"
    }
   ],
   "source": [
    "X_embedded[9999]"
   ]
  },
  {
   "cell_type": "code",
   "execution_count": 165,
   "metadata": {},
   "outputs": [],
   "source": [
    "df = df.assign(x=X_embedded[:,0], y=X_embedded[:, 1])"
   ]
  },
  {
   "cell_type": "code",
   "execution_count": 166,
   "metadata": {},
   "outputs": [
    {
     "data": {
      "text/plain": [
       "<seaborn.axisgrid.FacetGrid at 0x7f55508a1130>"
      ]
     },
     "execution_count": 166,
     "metadata": {},
     "output_type": "execute_result"
    },
    {
     "data": {
      "image/png": "[encoded data removed]",
      "text/plain": [
       "<Figure size 360x360 with 1 Axes>"
      ]
     },
     "metadata": {},
     "output_type": "display_data"
    }
   ],
   "source": [
    "sns.relplot(data=df, x='x', y='y')"
   ]
  },
  {
   "cell_type": "code",
   "execution_count": null,
   "metadata": {},
   "outputs": [],
   "source": []
  }
 ],
 "metadata": {
  "kernelspec": {
   "display_name": "Python 3 (ipykernel)",
   "language": "python",
   "name": "python3"
  },
  "language_info": {
   "codemirror_mode": {
    "name": "ipython",
    "version": 3
   },
   "file_extension": ".py",
   "mimetype": "text/x-python",
   "name": "python",
   "nbconvert_exporter": "python",
   "pygments_lexer": "ipython3",
   "version": "3.8.3"
  }
 },
 "nbformat": 4,
 "nbformat_minor": 4
}
