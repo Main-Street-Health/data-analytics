{
 "cells": [
  {
   "cell_type": "code",
   "execution_count": 1,
   "metadata": {},
   "outputs": [],
   "source": [
    "import os\n",
    "import sys\n",
    "import time\n",
    "import random\n",
    "import warnings\n",
    "import collections\n",
    "from dateutil.relativedelta import relativedelta\n",
    "from tqdm import tqdm\n",
    "import numpy as np\n",
    "import pandas as pd\n",
    "import matplotlib.pyplot as plt\n",
    "import matplotlib.gridspec as gridspec\n",
    "import seaborn as sns\n",
    "from sklearn.experimental import enable_hist_gradient_boosting  # noqa\n",
    "from sklearn.model_selection import train_test_split, cross_val_score, GridSearchCV\n",
    "from sklearn.ensemble import RandomForestRegressor, GradientBoostingRegressor, BaggingRegressor, StackingRegressor, HistGradientBoostingRegressor \n",
    "from sklearn.linear_model import Ridge, Lasso, BayesianRidge, ElasticNet\n",
    "from sklearn.preprocessing import OneHotEncoder\n",
    "\n",
    "sys.path.append('../src')\n",
    "import cb_utils\n",
    "\n",
    "sns.set(style=\"darkgrid\")\n",
    "pd.options.display.max_columns = 500\n",
    "\n",
    "%load_ext autoreload\n",
    "%autoreload 2"
   ]
  },
  {
   "cell_type": "code",
   "execution_count": 2,
   "metadata": {},
   "outputs": [
    {
     "name": "stdout",
     "output_type": "stream",
     "text": [
      "Seed: 3\n"
     ]
    }
   ],
   "source": [
    "# configuration\n",
    "use_cache = True\n",
    "seed = random.randint(0, 100)\n",
    "\n",
    "print(f'Seed: {seed}')"
   ]
  },
  {
   "cell_type": "code",
   "execution_count": 3,
   "metadata": {},
   "outputs": [
    {
     "name": "stdout",
     "output_type": "stream",
     "text": [
      "Pulling query from db\n"
     ]
    }
   ],
   "source": [
    "query = f\"SELECT * FROM junk.ip_member_periods\"\n",
    "member_periods = cb_utils.sql_query_to_df(query, use_cache=use_cache)"
   ]
  },
  {
   "cell_type": "code",
   "execution_count": 49,
   "metadata": {},
   "outputs": [],
   "source": [
    "member_periods = member_periods.assign(is_male=np.where(member_periods.gender=='m', 1, 0))\n",
    "# member_periods.head()"
   ]
  },
  {
   "cell_type": "code",
   "execution_count": 20,
   "metadata": {},
   "outputs": [],
   "source": [
    "pre_va = member_periods.loc[(member_periods.vrs == 'A') & member_periods.is_pre]\n",
    "pre_vb = member_periods.loc[(member_periods.vrs == 'B') & member_periods.is_pre]\n",
    "post_va = member_periods.loc[(member_periods.vrs == 'A') & (member_periods.is_pre == False)]\n",
    "post_vb = member_periods.loc[(member_periods.vrs == 'B') & (member_periods.is_pre == False)]"
   ]
  },
  {
   "cell_type": "code",
   "execution_count": 41,
   "metadata": {},
   "outputs": [],
   "source": [
    "feature_cols = [\n",
    "    'age',\n",
    "    'is_male',\n",
    "    'impactable_tc',\n",
    "    'ip_ddos',\n",
    "    'er_ddos',\n",
    "    'nf_ddos',\n",
    "    'amb_ddos',\n",
    "    'pro_ddos',\n",
    "    'out_ddos'\n",
    "]\n",
    "\n",
    "def build_xy(pre, post):\n",
    "    targets = post.assign(target=post.impactable_tc)[['member_id', 'target']]\n",
    "    features = pre[['member_id'] + feature_cols ]\n",
    "    feature_targets = features.merge(targets, on='member_id')\n",
    "    x = feature_targets[feature_cols]\n",
    "    y = feature_targets.target\n",
    "    return x, y"
   ]
  },
  {
   "cell_type": "code",
   "execution_count": 42,
   "metadata": {},
   "outputs": [],
   "source": [
    "x, y = build_xy(pre_va, post_va)"
   ]
  },
  {
   "cell_type": "code",
   "execution_count": 43,
   "metadata": {},
   "outputs": [
    {
     "data": {
      "text/plain": [
       "0.13032879413342502"
      ]
     },
     "execution_count": 43,
     "metadata": {},
     "output_type": "execute_result"
    }
   ],
   "source": [
    "ridge = Ridge(alpha=.5, normalize=True)\n",
    "ridge.fit(x, y)\n",
    "ridge.score(x,y)"
   ]
  },
  {
   "cell_type": "code",
   "execution_count": 44,
   "metadata": {},
   "outputs": [
    {
     "data": {
      "text/plain": [
       "0.2350317573140548"
      ]
     },
     "execution_count": 44,
     "metadata": {},
     "output_type": "execute_result"
    }
   ],
   "source": [
    "bt = HistGradientBoostingRegressor()\n",
    "bt.fit(x, y)\n",
    "bt.score(x,y)"
   ]
  },
  {
   "cell_type": "code",
   "execution_count": 37,
   "metadata": {},
   "outputs": [],
   "source": [
    "preds = bt.predict(x)"
   ]
  },
  {
   "cell_type": "code",
   "execution_count": 38,
   "metadata": {},
   "outputs": [],
   "source": [
    "feature_target_scores = feature_targets.assign(pred=preds)"
   ]
  },
  {
   "cell_type": "code",
   "execution_count": 40,
   "metadata": {},
   "outputs": [],
   "source": [
    "# feature_target_scores[['member_id', 'target', 'pred']].to_csv('preds.csv',index=False)"
   ]
  },
  {
   "cell_type": "code",
   "execution_count": 47,
   "metadata": {},
   "outputs": [
    {
     "data": {
      "text/plain": [
       "(0.11946043447844856, 0.12041944906182545)"
      ]
     },
     "execution_count": 47,
     "metadata": {},
     "output_type": "execute_result"
    }
   ],
   "source": [
    "# val\n",
    "x, y = build_xy(pre_vb, post_vb)\n",
    "ridge.score(x,y), bt.score(x,y)"
   ]
  },
  {
   "cell_type": "code",
   "execution_count": 50,
   "metadata": {},
   "outputs": [
    {
     "data": {
      "text/plain": [
       "[(-45.509134030657435, 'is_male'),\n",
       " (0.06671202121643414, 'impactable_tc'),\n",
       " (16.116114243861965, 'pro_ddos'),\n",
       " (19.59898308717066, 'age'),\n",
       " (21.29854537924598, 'nf_ddos'),\n",
       " (44.27998474713496, 'out_ddos'),\n",
       " (68.45334242101012, 'amb_ddos'),\n",
       " (178.0896712899947, 'er_ddos'),\n",
       " (1099.9963265726187, 'ip_ddos')]"
      ]
     },
     "execution_count": 50,
     "metadata": {},
     "output_type": "execute_result"
    }
   ],
   "source": [
    "sorted(zip(ridge.coef_, x.columns))"
   ]
  },
  {
   "cell_type": "code",
   "execution_count": null,
   "metadata": {},
   "outputs": [],
   "source": []
  },
  {
   "cell_type": "code",
   "execution_count": null,
   "metadata": {},
   "outputs": [],
   "source": []
  },
  {
   "cell_type": "code",
   "execution_count": null,
   "metadata": {},
   "outputs": [],
   "source": []
  },
  {
   "cell_type": "code",
   "execution_count": null,
   "metadata": {},
   "outputs": [],
   "source": []
  },
  {
   "cell_type": "code",
   "execution_count": null,
   "metadata": {},
   "outputs": [],
   "source": []
  },
  {
   "cell_type": "code",
   "execution_count": null,
   "metadata": {},
   "outputs": [],
   "source": []
  },
  {
   "cell_type": "code",
   "execution_count": null,
   "metadata": {},
   "outputs": [],
   "source": []
  },
  {
   "cell_type": "code",
   "execution_count": null,
   "metadata": {},
   "outputs": [],
   "source": []
  },
  {
   "cell_type": "code",
   "execution_count": null,
   "metadata": {},
   "outputs": [],
   "source": []
  },
  {
   "cell_type": "code",
   "execution_count": null,
   "metadata": {},
   "outputs": [],
   "source": []
  },
  {
   "cell_type": "code",
   "execution_count": null,
   "metadata": {},
   "outputs": [],
   "source": []
  }
 ],
 "metadata": {
  "kernelspec": {
   "display_name": "Python 3 (ipykernel)",
   "language": "python",
   "name": "python3"
  },
  "language_info": {
   "codemirror_mode": {
    "name": "ipython",
    "version": 3
   },
   "file_extension": ".py",
   "mimetype": "text/x-python",
   "name": "python",
   "nbconvert_exporter": "python",
   "pygments_lexer": "ipython3",
   "version": "3.8.5"
  }
 },
 "nbformat": 4,
 "nbformat_minor": 4
}
