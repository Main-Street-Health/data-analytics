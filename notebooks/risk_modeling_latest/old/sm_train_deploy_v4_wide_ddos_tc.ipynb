{
 "cells": [
  {
   "cell_type": "code",
   "execution_count": 1,
   "id": "64164998",
   "metadata": {},
   "outputs": [],
   "source": [
    "import sagemaker\n",
    "from sagemaker.serializers import CSVSerializer\n",
    "from sagemaker.debugger import Rule, rule_configs\n",
    "from sagemaker.session import TrainingInput"
   ]
  },
  {
   "cell_type": "code",
   "execution_count": 2,
   "id": "591c411b",
   "metadata": {},
   "outputs": [
    {
     "name": "stdout",
     "output_type": "stream",
     "text": [
      "AWS Region: us-east-2\n",
      "RoleArn: arn:aws:iam::257056996471:role/cb-sagemaker\n"
     ]
    }
   ],
   "source": [
    "region = sagemaker.Session().boto_region_name\n",
    "print(\"AWS Region: {}\".format(region))\n",
    "\n",
    "role = sagemaker.get_execution_role()\n",
    "print(\"RoleArn: {}\".format(role))"
   ]
  },
  {
   "cell_type": "code",
   "execution_count": 3,
   "id": "25f227e1",
   "metadata": {},
   "outputs": [],
   "source": [
    "prefix = 'sagemaker'\n",
    "model_name = 'xgboost_model_v4_wide_tc_ddos'\n",
    "s3_model_output_location ='s3://{}/{}/{}'.format('cb-analytics-exports-us-east-2-prd', prefix, 'xgboost_model')\n",
    "inputs_bucket_name = 'cb-analytics-us-east-2-prd'"
   ]
  },
  {
   "cell_type": "code",
   "execution_count": 4,
   "id": "90c16432",
   "metadata": {},
   "outputs": [
    {
     "name": "stdout",
     "output_type": "stream",
     "text": [
      "257758044811.dkr.ecr.us-east-2.amazonaws.com/sagemaker-xgboost:1.2-1\n"
     ]
    }
   ],
   "source": [
    "container=sagemaker.image_uris.retrieve(\"xgboost\", region, \"1.2-1\")\n",
    "print(container)\n",
    "\n",
    "xgb_model=sagemaker.estimator.Estimator(\n",
    "    image_uri=container,\n",
    "    role=role,\n",
    "    instance_count=1,\n",
    "    instance_type='ml.m4.xlarge',\n",
    "    volume_size=10,\n",
    "    output_path=s3_model_output_location,\n",
    "    sagemaker_session=sagemaker.Session(),\n",
    "    rules=[Rule.sagemaker(rule_configs.create_xgboost_report())]\n",
    ")"
   ]
  },
  {
   "cell_type": "code",
   "execution_count": 6,
   "id": "66d0ccfb",
   "metadata": {},
   "outputs": [],
   "source": [
    "xgb_model.set_hyperparameters(\n",
    "    max_depth = 6,\n",
    "    objective = \"reg:squarederror\",\n",
    "    num_round = 100,\n",
    "    alpha = 0.5, # l1\n",
    "    eta = 0.3, # step size\n",
    "#     lambda = 1, # l2\n",
    "    gamma = 10 # min gain for split\n",
    ")"
   ]
  },
  {
   "cell_type": "code",
   "execution_count": 7,
   "id": "3849ee42",
   "metadata": {},
   "outputs": [],
   "source": [
    "train_input = TrainingInput(\n",
    "    \"s3://{}/{}/{}\".format(inputs_bucket_name, prefix, \"data/train_sm_v4.csv\"), content_type=\"csv\"\n",
    ")\n",
    "validation_input = TrainingInput(\n",
    "    \"s3://{}/{}/{}\".format(inputs_bucket_name, prefix, \"data/val_sm_v4.csv\"), content_type=\"csv\"\n",
    ")"
   ]
  },
  {
   "cell_type": "code",
   "execution_count": null,
   "id": "0c9b20bf",
   "metadata": {},
   "outputs": [
    {
     "name": "stdout",
     "output_type": "stream",
     "text": [
      "2022-02-23 21:06:31 Starting - Starting the training job...\n",
      "2022-02-23 21:06:57 Starting - Preparing the instances for trainingCreateXgboostReport: InProgress\n",
      "ProfilerReport-1645650391: InProgress\n",
      ".........\n",
      "2022-02-23 21:08:15 Downloading - Downloading input data.........\n",
      "2022-02-23 21:09:55 Training - Downloading the training image...\n",
      "2022-02-23 21:10:27 Training - Training image download completed. Training in progress..\u001b[34m[2022-02-23 21:10:31.780 ip-10-0-191-36.us-east-2.compute.internal:1 INFO utils.py:27] RULE_JOB_STOP_SIGNAL_FILENAME: None\u001b[0m\n",
      "\u001b[34mINFO:sagemaker-containers:Imported framework sagemaker_xgboost_container.training\u001b[0m\n",
      "\u001b[34mINFO:sagemaker-containers:Failed to parse hyperparameter objective value reg:squarederror to Json.\u001b[0m\n",
      "\u001b[34mReturning the value itself\u001b[0m\n",
      "\u001b[34mINFO:sagemaker-containers:No GPUs detected (normal if no gpus installed)\u001b[0m\n",
      "\u001b[34mINFO:sagemaker_xgboost_container.training:Running XGBoost Sagemaker in algorithm mode\u001b[0m\n",
      "\u001b[34mINFO:root:Determined delimiter of CSV input is ','\u001b[0m\n",
      "\u001b[34mINFO:root:Determined delimiter of CSV input is ','\u001b[0m\n",
      "\u001b[34mINFO:root:Determined delimiter of CSV input is ','\u001b[0m\n",
      "\u001b[34mINFO:root:Determined delimiter of CSV input is ','\u001b[0m\n",
      "\u001b[34mINFO:root:Single node training.\u001b[0m\n",
      "\u001b[34m[2022-02-23 21:11:02.838 ip-10-0-191-36.us-east-2.compute.internal:1 INFO json_config.py:91] Creating hook from json_config at /opt/ml/input/config/debughookconfig.json.\u001b[0m\n",
      "\u001b[34m[2022-02-23 21:11:02.839 ip-10-0-191-36.us-east-2.compute.internal:1 INFO hook.py:199] tensorboard_dir has not been set for the hook. SMDebug will not be exporting tensorboard summaries.\u001b[0m\n",
      "\u001b[34m[2022-02-23 21:11:02.839 ip-10-0-191-36.us-east-2.compute.internal:1 INFO profiler_config_parser.py:102] User has disabled profiler.\u001b[0m\n",
      "\u001b[34m[2022-02-23 21:11:02.840 ip-10-0-191-36.us-east-2.compute.internal:1 INFO hook.py:253] Saving to /opt/ml/output/tensors\u001b[0m\n",
      "\u001b[34m[2022-02-23 21:11:02.841 ip-10-0-191-36.us-east-2.compute.internal:1 INFO state_store.py:77] The checkpoint config file /opt/ml/input/config/checkpointconfig.json does not exist.\u001b[0m\n",
      "\u001b[34mINFO:root:Debug hook created from config\u001b[0m\n",
      "\u001b[34mINFO:root:Train matrix has 682691 rows and 668 columns\u001b[0m\n",
      "\u001b[34mINFO:root:Validation matrix has 146917 rows\u001b[0m\n",
      "\u001b[34m[0]#011train-rmse:14334.88379#011validation-rmse:14876.07812\u001b[0m\n",
      "\u001b[34m[2022-02-23 21:11:23.151 ip-10-0-191-36.us-east-2.compute.internal:1 INFO hook.py:413] Monitoring the collections: labels, feature_importance, metrics, hyperparameters, predictions\u001b[0m\n",
      "\u001b[34m[2022-02-23 21:11:23.153 ip-10-0-191-36.us-east-2.compute.internal:1 INFO hook.py:476] Hook is writing from the hook with pid: 1\u001b[0m\n",
      "\u001b[34m[1]#011train-rmse:13853.03613#011validation-rmse:14517.97949\u001b[0m\n",
      "\u001b[34m[2]#011train-rmse:13533.11328#011validation-rmse:14311.37598\u001b[0m\n",
      "\u001b[34m[3]#011train-rmse:13320.38965#011validation-rmse:14180.25098\u001b[0m\n",
      "\u001b[34m[4]#011train-rmse:13149.70703#011validation-rmse:14097.20703\u001b[0m\n",
      "\u001b[34m[5]#011train-rmse:13032.40625#011validation-rmse:14039.05566\u001b[0m\n",
      "\u001b[34m[6]#011train-rmse:12944.09863#011validation-rmse:14004.78906\u001b[0m\n",
      "\u001b[34m[7]#011train-rmse:12876.46191#011validation-rmse:13984.28613\u001b[0m\n",
      "\u001b[34m[8]#011train-rmse:12813.49023#011validation-rmse:13959.47656\u001b[0m\n",
      "\u001b[34m[9]#011train-rmse:12757.88672#011validation-rmse:13952.75195\u001b[0m\n",
      "\u001b[34m[10]#011train-rmse:12684.24609#011validation-rmse:13943.10254\u001b[0m\n",
      "\u001b[34m[11]#011train-rmse:12638.44531#011validation-rmse:13938.87305\u001b[0m\n",
      "\u001b[34m[12]#011train-rmse:12602.93164#011validation-rmse:13931.97656\u001b[0m\n",
      "\u001b[34m[13]#011train-rmse:12572.09180#011validation-rmse:13931.49707\u001b[0m\n",
      "\u001b[34m[14]#011train-rmse:12518.80664#011validation-rmse:13928.21289\u001b[0m\n",
      "\u001b[34m[15]#011train-rmse:12499.12695#011validation-rmse:13928.23535\u001b[0m\n",
      "\u001b[34m[16]#011train-rmse:12460.39844#011validation-rmse:13922.45898\u001b[0m\n",
      "\u001b[34m[17]#011train-rmse:12440.03125#011validation-rmse:13925.56934\u001b[0m\n",
      "\u001b[34m[18]#011train-rmse:12414.38965#011validation-rmse:13925.49902\u001b[0m\n",
      "\u001b[34m[19]#011train-rmse:12394.26074#011validation-rmse:13931.16309\u001b[0m\n",
      "\u001b[34m[20]#011train-rmse:12364.24805#011validation-rmse:13931.12988\u001b[0m\n",
      "\u001b[34m[21]#011train-rmse:12346.16016#011validation-rmse:13926.59766\u001b[0m\n",
      "\u001b[34m[22]#011train-rmse:12324.11035#011validation-rmse:13927.30957\u001b[0m\n",
      "\u001b[34m[23]#011train-rmse:12305.74805#011validation-rmse:13923.95508\u001b[0m\n",
      "\u001b[34m[24]#011train-rmse:12290.66602#011validation-rmse:13927.18750\u001b[0m\n",
      "\u001b[34m[25]#011train-rmse:12278.55566#011validation-rmse:13927.50000\u001b[0m\n",
      "\u001b[34m[26]#011train-rmse:12259.10644#011validation-rmse:13925.07519\u001b[0m\n",
      "\u001b[34m[27]#011train-rmse:12240.85742#011validation-rmse:13918.53613\u001b[0m\n",
      "\u001b[34m[28]#011train-rmse:12227.21289#011validation-rmse:13915.43750\u001b[0m\n",
      "\u001b[34m[29]#011train-rmse:12220.48926#011validation-rmse:13916.98144\u001b[0m\n",
      "\u001b[34m[30]#011train-rmse:12208.93750#011validation-rmse:13915.87305\u001b[0m\n",
      "\u001b[34m[31]#011train-rmse:12197.27246#011validation-rmse:13911.91016\u001b[0m\n",
      "\u001b[34m[32]#011train-rmse:12181.54981#011validation-rmse:13911.80176\u001b[0m\n",
      "\u001b[34m[33]#011train-rmse:12166.50977#011validation-rmse:13910.38769\u001b[0m\n",
      "\u001b[34m[34]#011train-rmse:12153.61231#011validation-rmse:13913.57715\u001b[0m\n",
      "\u001b[34m[35]#011train-rmse:12140.79785#011validation-rmse:13915.33301\u001b[0m\n",
      "\u001b[34m[36]#011train-rmse:12131.79004#011validation-rmse:13915.99121\u001b[0m\n",
      "\u001b[34m[37]#011train-rmse:12128.70215#011validation-rmse:13916.91406\u001b[0m\n",
      "\u001b[34m[38]#011train-rmse:12118.24512#011validation-rmse:13917.81641\u001b[0m\n",
      "\u001b[34m[39]#011train-rmse:12108.49902#011validation-rmse:13921.73144\u001b[0m\n",
      "\u001b[34m[40]#011train-rmse:12097.33496#011validation-rmse:13918.24902\u001b[0m\n",
      "\u001b[34m[41]#011train-rmse:12083.81152#011validation-rmse:13919.41406\u001b[0m\n",
      "\u001b[34m[42]#011train-rmse:12067.46289#011validation-rmse:13925.69727\u001b[0m\n",
      "\u001b[34m[43]#011train-rmse:12059.65137#011validation-rmse:13926.34180\u001b[0m\n",
      "\u001b[34m[44]#011train-rmse:12053.78125#011validation-rmse:13925.39356\u001b[0m\n",
      "\u001b[34m[45]#011train-rmse:12047.82324#011validation-rmse:13923.74805\u001b[0m\n",
      "\u001b[34m[46]#011train-rmse:12044.92676#011validation-rmse:13925.87207\u001b[0m\n",
      "\u001b[34m[47]#011train-rmse:12041.59375#011validation-rmse:13926.95606\u001b[0m\n",
      "\u001b[34m[48]#011train-rmse:12031.94043#011validation-rmse:13927.36133\u001b[0m\n",
      "\u001b[34m[49]#011train-rmse:12013.84863#011validation-rmse:13928.13379\u001b[0m\n",
      "\u001b[34m[50]#011train-rmse:12009.84766#011validation-rmse:13927.90137\u001b[0m\n",
      "\u001b[34m[51]#011train-rmse:11992.28711#011validation-rmse:13928.00781\u001b[0m\n",
      "\u001b[34m[52]#011train-rmse:11987.12891#011validation-rmse:13931.10059\u001b[0m\n",
      "\u001b[34m[53]#011train-rmse:11975.79981#011validation-rmse:13931.03320\u001b[0m\n",
      "\u001b[34m[54]#011train-rmse:11945.52148#011validation-rmse:13938.01562\u001b[0m\n",
      "\u001b[34m[55]#011train-rmse:11935.64746#011validation-rmse:13942.56836\u001b[0m\n",
      "\u001b[34m[56]#011train-rmse:11927.65234#011validation-rmse:13944.04004\u001b[0m\n",
      "\u001b[34m[57]#011train-rmse:11915.08887#011validation-rmse:13944.54590\u001b[0m\n",
      "\u001b[34m[58]#011train-rmse:11906.57324#011validation-rmse:13946.08691\u001b[0m\n",
      "\u001b[34m[59]#011train-rmse:11905.64746#011validation-rmse:13945.98144\u001b[0m\n",
      "\u001b[34m[60]#011train-rmse:11901.60449#011validation-rmse:13945.68457\u001b[0m\n",
      "\u001b[34m[61]#011train-rmse:11899.12500#011validation-rmse:13947.05664\u001b[0m\n",
      "\u001b[34m[62]#011train-rmse:11896.51172#011validation-rmse:13947.02637\u001b[0m\n",
      "\u001b[34m[63]#011train-rmse:11889.66309#011validation-rmse:13949.64356\u001b[0m\n",
      "\u001b[34m[64]#011train-rmse:11882.95996#011validation-rmse:13951.09277\u001b[0m\n",
      "\u001b[34m[65]#011train-rmse:11870.05664#011validation-rmse:13949.00879\u001b[0m\n",
      "\u001b[34m[66]#011train-rmse:11853.25977#011validation-rmse:13951.66504\u001b[0m\n",
      "\u001b[34m[67]#011train-rmse:11828.73340#011validation-rmse:13953.26172\u001b[0m\n",
      "\u001b[34m[68]#011train-rmse:11818.06934#011validation-rmse:13952.94336\u001b[0m\n",
      "\u001b[34m[69]#011train-rmse:11807.45898#011validation-rmse:13951.55762\u001b[0m\n",
      "\u001b[34m[70]#011train-rmse:11803.38965#011validation-rmse:13952.59082\u001b[0m\n",
      "\u001b[34m[71]#011train-rmse:11792.82519#011validation-rmse:13952.49609\u001b[0m\n",
      "\u001b[34m[72]#011train-rmse:11791.44531#011validation-rmse:13953.34473\u001b[0m\n",
      "\u001b[34m[73]#011train-rmse:11777.81055#011validation-rmse:13953.89356\u001b[0m\n",
      "\u001b[34m[74]#011train-rmse:11771.28613#011validation-rmse:13953.85840\u001b[0m\n",
      "\u001b[34m[75]#011train-rmse:11760.38672#011validation-rmse:13955.02344\u001b[0m\n",
      "\u001b[34m[76]#011train-rmse:11742.99414#011validation-rmse:13952.60352\u001b[0m\n",
      "\u001b[34m[77]#011train-rmse:11726.45019#011validation-rmse:13952.54199\u001b[0m\n",
      "\u001b[34m[78]#011train-rmse:11720.49121#011validation-rmse:13953.71582\u001b[0m\n",
      "\u001b[34m[79]#011train-rmse:11717.80664#011validation-rmse:13957.08984\u001b[0m\n"
     ]
    }
   ],
   "source": [
    "xgb_model.fit({\"train\": train_input, \"validation\": validation_input}, wait=True)"
   ]
  },
  {
   "cell_type": "code",
   "execution_count": null,
   "id": "0eb09249",
   "metadata": {},
   "outputs": [],
   "source": [
    "rule_output_path = xgb_model.output_path + \"/\" + xgb_model.latest_training_job.name + \"/rule-output\"\n",
    "! aws s3 ls {rule_output_path} --recursive"
   ]
  },
  {
   "cell_type": "code",
   "execution_count": 12,
   "id": "4feb7dae",
   "metadata": {},
   "outputs": [
    {
     "name": "stdout",
     "output_type": "stream",
     "text": [
      "download: s3://cb-analytics-exports-us-east-2-prd/sagemaker/xgboost_model/sagemaker-xgboost-2022-02-23-21-06-31-404/rule-output/CreateXgboostReport/xgboost-reports/FeatureImportance.json to CreateXgboostReport/xgboost-reports/FeatureImportance.json\n",
      "download: s3://cb-analytics-exports-us-east-2-prd/sagemaker/xgboost_model/sagemaker-xgboost-2022-02-23-21-06-31-404/rule-output/CreateXgboostReport/xgboost-reports/AbsoluteValidationErrorPerLabelBins.json to CreateXgboostReport/xgboost-reports/AbsoluteValidationErrorPerLabelBins.json\n",
      "download: s3://cb-analytics-exports-us-east-2-prd/sagemaker/xgboost_model/sagemaker-xgboost-2022-02-23-21-06-31-404/rule-output/CreateXgboostReport/xgboost-reports/LossData.json to CreateXgboostReport/xgboost-reports/LossData.json\n",
      "download: s3://cb-analytics-exports-us-east-2-prd/sagemaker/xgboost_model/sagemaker-xgboost-2022-02-23-21-06-31-404/rule-output/CreateXgboostReport/xgboost-reports/ResidualDistribution.json to CreateXgboostReport/xgboost-reports/ResidualDistribution.json\n",
      "download: s3://cb-analytics-exports-us-east-2-prd/sagemaker/xgboost_model/sagemaker-xgboost-2022-02-23-21-06-31-404/rule-output/CreateXgboostReport/xgboost_report.html to CreateXgboostReport/xgboost_report.html\n",
      "download: s3://cb-analytics-exports-us-east-2-prd/sagemaker/xgboost_model/sagemaker-xgboost-2022-02-23-21-06-31-404/rule-output/CreateXgboostReport/xgboost_report.ipynb to CreateXgboostReport/xgboost_report.ipynb\n",
      "download: s3://cb-analytics-exports-us-east-2-prd/sagemaker/xgboost_model/sagemaker-xgboost-2022-02-23-21-06-31-404/rule-output/ProfilerReport-1645650391/profiler-output/profiler-reports/BatchSize.json to ProfilerReport-1645650391/profiler-output/profiler-reports/BatchSize.json\n",
      "download: s3://cb-analytics-exports-us-east-2-prd/sagemaker/xgboost_model/sagemaker-xgboost-2022-02-23-21-06-31-404/rule-output/ProfilerReport-1645650391/profiler-output/profiler-reports/CPUBottleneck.json to ProfilerReport-1645650391/profiler-output/profiler-reports/CPUBottleneck.json\n",
      "download: s3://cb-analytics-exports-us-east-2-prd/sagemaker/xgboost_model/sagemaker-xgboost-2022-02-23-21-06-31-404/rule-output/ProfilerReport-1645650391/profiler-output/profiler-report.html to ProfilerReport-1645650391/profiler-output/profiler-report.html\n",
      "download: s3://cb-analytics-exports-us-east-2-prd/sagemaker/xgboost_model/sagemaker-xgboost-2022-02-23-21-06-31-404/rule-output/ProfilerReport-1645650391/profiler-output/profiler-reports/IOBottleneck.json to ProfilerReport-1645650391/profiler-output/profiler-reports/IOBottleneck.json\n",
      "download: s3://cb-analytics-exports-us-east-2-prd/sagemaker/xgboost_model/sagemaker-xgboost-2022-02-23-21-06-31-404/rule-output/CreateXgboostReport/xgboost-reports/LabelsDistribution.json to CreateXgboostReport/xgboost-reports/LabelsDistribution.json\n",
      "download: s3://cb-analytics-exports-us-east-2-prd/sagemaker/xgboost_model/sagemaker-xgboost-2022-02-23-21-06-31-404/rule-output/ProfilerReport-1645650391/profiler-output/profiler-reports/GPUMemoryIncrease.json to ProfilerReport-1645650391/profiler-output/profiler-reports/GPUMemoryIncrease.json\n",
      "download: s3://cb-analytics-exports-us-east-2-prd/sagemaker/xgboost_model/sagemaker-xgboost-2022-02-23-21-06-31-404/rule-output/ProfilerReport-1645650391/profiler-output/profiler-reports/Dataloader.json to ProfilerReport-1645650391/profiler-output/profiler-reports/Dataloader.json\n",
      "download: s3://cb-analytics-exports-us-east-2-prd/sagemaker/xgboost_model/sagemaker-xgboost-2022-02-23-21-06-31-404/rule-output/ProfilerReport-1645650391/profiler-output/profiler-report.ipynb to ProfilerReport-1645650391/profiler-output/profiler-report.ipynb\n",
      "download: s3://cb-analytics-exports-us-east-2-prd/sagemaker/xgboost_model/sagemaker-xgboost-2022-02-23-21-06-31-404/rule-output/ProfilerReport-1645650391/profiler-output/profiler-reports/LowGPUUtilization.json to ProfilerReport-1645650391/profiler-output/profiler-reports/LowGPUUtilization.json\n",
      "download: s3://cb-analytics-exports-us-east-2-prd/sagemaker/xgboost_model/sagemaker-xgboost-2022-02-23-21-06-31-404/rule-output/ProfilerReport-1645650391/profiler-output/profiler-reports/OverallSystemUsage.json to ProfilerReport-1645650391/profiler-output/profiler-reports/OverallSystemUsage.json\n",
      "download: s3://cb-analytics-exports-us-east-2-prd/sagemaker/xgboost_model/sagemaker-xgboost-2022-02-23-21-06-31-404/rule-output/ProfilerReport-1645650391/profiler-output/profiler-reports/LoadBalancing.json to ProfilerReport-1645650391/profiler-output/profiler-reports/LoadBalancing.json\n",
      "download: s3://cb-analytics-exports-us-east-2-prd/sagemaker/xgboost_model/sagemaker-xgboost-2022-02-23-21-06-31-404/rule-output/ProfilerReport-1645650391/profiler-output/profiler-reports/StepOutlier.json to ProfilerReport-1645650391/profiler-output/profiler-reports/StepOutlier.json\n",
      "download: s3://cb-analytics-exports-us-east-2-prd/sagemaker/xgboost_model/sagemaker-xgboost-2022-02-23-21-06-31-404/rule-output/ProfilerReport-1645650391/profiler-output/profiler-reports/MaxInitializationTime.json to ProfilerReport-1645650391/profiler-output/profiler-reports/MaxInitializationTime.json\n",
      "download: s3://cb-analytics-exports-us-east-2-prd/sagemaker/xgboost_model/sagemaker-xgboost-2022-02-23-21-06-31-404/rule-output/ProfilerReport-1645650391/profiler-output/profiler-reports/OverallFrameworkMetrics.json to ProfilerReport-1645650391/profiler-output/profiler-reports/OverallFrameworkMetrics.json\n"
     ]
    }
   ],
   "source": [
    "! aws s3 cp {rule_output_path} ./ --recursive"
   ]
  },
  {
   "cell_type": "code",
   "execution_count": 13,
   "id": "c309ef91",
   "metadata": {},
   "outputs": [
    {
     "data": {
      "text/plain": [
       "'Click link below to view the XGBoost Training report'"
      ]
     },
     "metadata": {},
     "output_type": "display_data"
    },
    {
     "data": {
      "text/html": [
       "<a href='CreateXgboostReport/xgboost_report.html' target='_blank'>CreateXgboostReport/xgboost_report.html</a><br>"
      ],
      "text/plain": [
       "/home/ec2-user/SageMaker/data-analytics/notebooks/CreateXgboostReport/xgboost_report.html"
      ]
     },
     "metadata": {},
     "output_type": "display_data"
    }
   ],
   "source": [
    "from IPython.display import FileLink, FileLinks\n",
    "display(\"Click link below to view the XGBoost Training report\", FileLink(\"CreateXgboostReport/xgboost_report.html\"))"
   ]
  },
  {
   "cell_type": "code",
   "execution_count": 14,
   "id": "480ed17c",
   "metadata": {},
   "outputs": [
    {
     "data": {
      "text/plain": [
       "'Click link below to view the profiler report'"
      ]
     },
     "metadata": {},
     "output_type": "display_data"
    },
    {
     "data": {
      "text/html": [
       "<a href='ProfilerReport-1645650391/profiler-output/profiler-report.html' target='_blank'>ProfilerReport-1645650391/profiler-output/profiler-report.html</a><br>"
      ],
      "text/plain": [
       "/home/ec2-user/SageMaker/data-analytics/notebooks/ProfilerReport-1645650391/profiler-output/profiler-report.html"
      ]
     },
     "metadata": {},
     "output_type": "display_data"
    }
   ],
   "source": [
    "profiler_report_name = [rule[\"RuleConfigurationName\"] \n",
    "                        for rule in xgb_model.latest_training_job.rule_job_summary() \n",
    "                        if \"Profiler\" in rule[\"RuleConfigurationName\"]][0]\n",
    "profiler_report_name\n",
    "display(\"Click link below to view the profiler report\", FileLink(profiler_report_name+\"/profiler-output/profiler-report.html\"))"
   ]
  },
  {
   "cell_type": "code",
   "execution_count": 24,
   "id": "eed98199",
   "metadata": {},
   "outputs": [
    {
     "data": {
      "text/plain": [
       "'s3://cb-analytics-exports-us-east-2-prd/sagemaker/xgboost_model/sagemaker-xgboost-2022-02-21-23-13-06-261/output/model.tar.gz'"
      ]
     },
     "execution_count": 24,
     "metadata": {},
     "output_type": "execute_result"
    }
   ],
   "source": [
    "xgb_model.model_data"
   ]
  },
  {
   "cell_type": "code",
   "execution_count": 25,
   "id": "50c6632d",
   "metadata": {},
   "outputs": [
    {
     "name": "stdout",
     "output_type": "stream",
     "text": [
      "-------------!"
     ]
    }
   ],
   "source": [
    "\n",
    "xgb_predictor=xgb_model.deploy(\n",
    "    initial_instance_count=1,\n",
    "    instance_type='ml.t2.medium',\n",
    "    serializer=CSVSerializer()\n",
    ")"
   ]
  },
  {
   "cell_type": "code",
   "execution_count": 26,
   "id": "c03afc60",
   "metadata": {},
   "outputs": [
    {
     "data": {
      "text/plain": [
       "'sagemaker-xgboost-2022-02-21-23-34-51-319'"
      ]
     },
     "execution_count": 26,
     "metadata": {},
     "output_type": "execute_result"
    }
   ],
   "source": [
    "xgb_predictor.endpoint_name"
   ]
  },
  {
   "cell_type": "code",
   "execution_count": null,
   "id": "96cb821c",
   "metadata": {},
   "outputs": [],
   "source": []
  }
 ],
 "metadata": {
  "kernelspec": {
   "display_name": "conda_amazonei_mxnet_p36",
   "language": "python",
   "name": "conda_amazonei_mxnet_p36"
  },
  "language_info": {
   "codemirror_mode": {
    "name": "ipython",
    "version": 3
   },
   "file_extension": ".py",
   "mimetype": "text/x-python",
   "name": "python",
   "nbconvert_exporter": "python",
   "pygments_lexer": "ipython3",
   "version": "3.6.13"
  }
 },
 "nbformat": 4,
 "nbformat_minor": 5
}
