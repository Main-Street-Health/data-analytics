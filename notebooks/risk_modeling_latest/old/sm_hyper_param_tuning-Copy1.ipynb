{
 "cells": [
  {
   "cell_type": "code",
   "execution_count": 4,
   "id": "a297ce82",
   "metadata": {},
   "outputs": [],
   "source": [
    "import os\n",
    "import io\n",
    "import boto3\n",
    "import pandas as pd\n",
    "import sagemaker\n",
    "from sagemaker.serializers import CSVSerializer\n",
    "from sagemaker.debugger import Rule, rule_configs\n",
    "from sagemaker.session import TrainingInput"
   ]
  },
  {
   "cell_type": "code",
   "execution_count": 5,
   "id": "62619bdb",
   "metadata": {},
   "outputs": [
    {
     "name": "stdout",
     "output_type": "stream",
     "text": [
      "AWS Region: us-east-2\n",
      "RoleArn: arn:aws:iam::257056996471:role/cb-sagemaker\n"
     ]
    }
   ],
   "source": [
    "region = sagemaker.Session().boto_region_name\n",
    "print(\"AWS Region: {}\".format(region))\n",
    "\n",
    "role = sagemaker.get_execution_role()\n",
    "print(\"RoleArn: {}\".format(role))"
   ]
  },
  {
   "cell_type": "markdown",
   "id": "8836555d",
   "metadata": {},
   "source": [
    "### Build Yearly DDOS service_types + Demographics"
   ]
  },
  {
   "cell_type": "code",
   "execution_count": 18,
   "id": "f65e3980",
   "metadata": {},
   "outputs": [],
   "source": [
    "prefix = 'sagemaker'\n",
    "model_name = 'xgboost_model_v7_yearly_stddos_dem'\n",
    "s3_model_output_location ='s3://{}/{}/{}'.format('cb-analytics-exports-us-east-2-prd', prefix, model_name)\n",
    "inputs_bucket_name = 'cb-analytics-us-east-2-prd'"
   ]
  },
  {
   "cell_type": "code",
   "execution_count": 19,
   "id": "7ce609eb",
   "metadata": {},
   "outputs": [
    {
     "name": "stdout",
     "output_type": "stream",
     "text": [
      "257758044811.dkr.ecr.us-east-2.amazonaws.com/sagemaker-xgboost:1.2-1\n"
     ]
    }
   ],
   "source": [
    "container=sagemaker.image_uris.retrieve(\"xgboost\", region, \"1.2-1\")\n",
    "print(container)\n",
    "\n",
    "xgb_model=sagemaker.estimator.Estimator(\n",
    "    image_uri=container,\n",
    "    role=role,\n",
    "    instance_count=1,\n",
    "    instance_type='ml.m4.xlarge',\n",
    "    volume_size=10,\n",
    "    output_path=s3_model_output_location,\n",
    "    sagemaker_session=sagemaker.Session(),\n",
    "    rules=[Rule.sagemaker(rule_configs.create_xgboost_report())]\n",
    ")"
   ]
  },
  {
   "cell_type": "code",
   "execution_count": 20,
   "id": "ab8d4811",
   "metadata": {},
   "outputs": [],
   "source": [
    "xgb_model.set_hyperparameters(\n",
    "    max_depth = 6,\n",
    "    objective = \"reg:squarederror\",\n",
    "    num_round = 100,\n",
    "    alpha = 0.5, # l1\n",
    "    eta = 0.3, # step size\n",
    "#     lambda=1, # l2\n",
    "    gamma = 10 # min gain for split\n",
    ")"
   ]
  },
  {
   "cell_type": "code",
   "execution_count": 25,
   "id": "91e7b105",
   "metadata": {},
   "outputs": [],
   "source": [
    "train_input = TrainingInput(\n",
    "    \"s3://{}/{}/{}\".format(\n",
    "        inputs_bucket_name,\n",
    "        prefix,\n",
    "        \"yearly_st_tc_dem/train.csv\"),\n",
    "    content_type=\"csv\"\n",
    ")\n",
    "validation_input = TrainingInput(\n",
    "    \"s3://{}/{}/{}\".format(inputs_bucket_name,\n",
    "                           prefix,\n",
    "                           \"yearly_st_tc_dem/val.csv\"),\n",
    "    content_type=\"csv\"\n",
    ")"
   ]
  },
  {
   "cell_type": "code",
   "execution_count": 26,
   "id": "7390a021",
   "metadata": {},
   "outputs": [
    {
     "name": "stdout",
     "output_type": "stream",
     "text": [
      "2022-02-25 21:15:17 Starting - Starting the training job...\n",
      "2022-02-25 21:15:43 Starting - Preparing the instances for trainingCreateXgboostReport: InProgress\n",
      "ProfilerReport-1645823717: InProgress\n",
      ".........\n",
      "2022-02-25 21:17:17 Downloading - Downloading input data...\n",
      "2022-02-25 21:17:42 Training - Downloading the training image......\n",
      "2022-02-25 21:18:48 Training - Training image download completed. Training in progress...\u001b[34m[2022-02-25 21:18:51.607 ip-10-0-252-143.us-east-2.compute.internal:1 INFO utils.py:27] RULE_JOB_STOP_SIGNAL_FILENAME: None\u001b[0m\n",
      "\u001b[34mINFO:sagemaker-containers:Imported framework sagemaker_xgboost_container.training\u001b[0m\n",
      "\u001b[34mINFO:sagemaker-containers:Failed to parse hyperparameter objective value reg:squarederror to Json.\u001b[0m\n",
      "\u001b[34mReturning the value itself\u001b[0m\n",
      "\u001b[34mINFO:sagemaker-containers:No GPUs detected (normal if no gpus installed)\u001b[0m\n",
      "\u001b[34mINFO:sagemaker_xgboost_container.training:Running XGBoost Sagemaker in algorithm mode\u001b[0m\n",
      "\u001b[34mINFO:root:Determined delimiter of CSV input is ','\u001b[0m\n",
      "\u001b[34mINFO:root:Determined delimiter of CSV input is ','\u001b[0m\n",
      "\u001b[34mINFO:root:Determined delimiter of CSV input is ','\u001b[0m\n",
      "\u001b[34mINFO:root:Determined delimiter of CSV input is ','\u001b[0m\n",
      "\u001b[34mINFO:root:Single node training.\u001b[0m\n",
      "\u001b[34m[2022-02-25 21:18:54.011 ip-10-0-252-143.us-east-2.compute.internal:1 INFO json_config.py:91] Creating hook from json_config at /opt/ml/input/config/debughookconfig.json.\u001b[0m\n",
      "\u001b[34m[2022-02-25 21:18:54.012 ip-10-0-252-143.us-east-2.compute.internal:1 INFO hook.py:199] tensorboard_dir has not been set for the hook. SMDebug will not be exporting tensorboard summaries.\u001b[0m\n",
      "\u001b[34m[2022-02-25 21:18:54.013 ip-10-0-252-143.us-east-2.compute.internal:1 INFO profiler_config_parser.py:102] User has disabled profiler.\u001b[0m\n",
      "\u001b[34m[2022-02-25 21:18:54.013 ip-10-0-252-143.us-east-2.compute.internal:1 INFO hook.py:253] Saving to /opt/ml/output/tensors\u001b[0m\n",
      "\u001b[34m[2022-02-25 21:18:54.013 ip-10-0-252-143.us-east-2.compute.internal:1 INFO state_store.py:77] The checkpoint config file /opt/ml/input/config/checkpointconfig.json does not exist.\u001b[0m\n",
      "\u001b[34mINFO:root:Debug hook created from config\u001b[0m\n",
      "\u001b[34mINFO:root:Train matrix has 778230 rows and 45 columns\u001b[0m\n",
      "\u001b[34mINFO:root:Validation matrix has 147001 rows\u001b[0m\n",
      "\u001b[34m[0]#011train-rmse:14259.92578#011validation-rmse:14728.25391\u001b[0m\n",
      "\u001b[34m[2022-02-25 21:18:55.902 ip-10-0-252-143.us-east-2.compute.internal:1 INFO hook.py:413] Monitoring the collections: hyperparameters, metrics, feature_importance, predictions, labels\u001b[0m\n",
      "\u001b[34m[2022-02-25 21:18:55.906 ip-10-0-252-143.us-east-2.compute.internal:1 INFO hook.py:476] Hook is writing from the hook with pid: 1\u001b[0m\n",
      "\u001b[34m[1]#011train-rmse:13786.07324#011validation-rmse:14282.14941\u001b[0m\n",
      "\u001b[34m[2]#011train-rmse:13513.57617#011validation-rmse:14079.07519\u001b[0m\n",
      "\u001b[34m[3]#011train-rmse:13331.88574#011validation-rmse:13976.02441\u001b[0m\n",
      "\u001b[34m[4]#011train-rmse:13212.82715#011validation-rmse:13928.36719\u001b[0m\n",
      "\u001b[34m[5]#011train-rmse:13145.91797#011validation-rmse:13897.37500\u001b[0m\n",
      "\u001b[34m[6]#011train-rmse:13098.28711#011validation-rmse:13891.57910\u001b[0m\n",
      "\u001b[34m[7]#011train-rmse:13059.70410#011validation-rmse:13881.06934\u001b[0m\n",
      "\u001b[34m[8]#011train-rmse:12993.02246#011validation-rmse:13903.12012\u001b[0m\n",
      "\u001b[34m[9]#011train-rmse:12942.03613#011validation-rmse:13896.30176\u001b[0m\n",
      "\u001b[34m[10]#011train-rmse:12923.08398#011validation-rmse:13894.89941\u001b[0m\n",
      "\u001b[34m[11]#011train-rmse:12904.50391#011validation-rmse:13894.72852\u001b[0m\n",
      "\u001b[34m[12]#011train-rmse:12841.94727#011validation-rmse:13895.95215\u001b[0m\n",
      "\u001b[34m[13]#011train-rmse:12805.19141#011validation-rmse:13903.04199\u001b[0m\n",
      "\u001b[34m[14]#011train-rmse:12795.65918#011validation-rmse:13906.20996\u001b[0m\n",
      "\u001b[34m[15]#011train-rmse:12783.95019#011validation-rmse:13910.28418\u001b[0m\n",
      "\u001b[34m[16]#011train-rmse:12777.51269#011validation-rmse:13908.61816\u001b[0m\n",
      "\u001b[34m[17]#011train-rmse:12738.44824#011validation-rmse:13918.92481\u001b[0m\n",
      "\u001b[34m[18]#011train-rmse:12734.74316#011validation-rmse:13918.06641\u001b[0m\n",
      "\u001b[34m[19]#011train-rmse:12699.79102#011validation-rmse:13942.44043\u001b[0m\n",
      "\u001b[34m[20]#011train-rmse:12690.71973#011validation-rmse:13945.26856\u001b[0m\n",
      "\u001b[34m[21]#011train-rmse:12680.89356#011validation-rmse:13948.24707\u001b[0m\n",
      "\u001b[34m[22]#011train-rmse:12678.28613#011validation-rmse:13946.99512\u001b[0m\n",
      "\u001b[34m[23]#011train-rmse:12667.54199#011validation-rmse:13943.74902\u001b[0m\n",
      "\u001b[34m[24]#011train-rmse:12648.31543#011validation-rmse:13944.13672\u001b[0m\n",
      "\u001b[34m[25]#011train-rmse:12628.48242#011validation-rmse:13943.09473\u001b[0m\n",
      "\u001b[34m[26]#011train-rmse:12599.41211#011validation-rmse:13960.14941\u001b[0m\n",
      "\u001b[34m[27]#011train-rmse:12596.41797#011validation-rmse:13957.62598\u001b[0m\n",
      "\u001b[34m[28]#011train-rmse:12590.56250#011validation-rmse:13958.84766\u001b[0m\n",
      "\u001b[34m[29]#011train-rmse:12582.85352#011validation-rmse:13962.60156\u001b[0m\n",
      "\u001b[34m[30]#011train-rmse:12566.84766#011validation-rmse:13963.06836\u001b[0m\n",
      "\u001b[34m[31]#011train-rmse:12553.18945#011validation-rmse:13958.28711\u001b[0m\n",
      "\u001b[34m[32]#011train-rmse:12550.92285#011validation-rmse:13961.35840\u001b[0m\n",
      "\u001b[34m[33]#011train-rmse:12536.02637#011validation-rmse:13960.41992\u001b[0m\n",
      "\u001b[34m[34]#011train-rmse:12525.71777#011validation-rmse:13962.16211\u001b[0m\n",
      "\u001b[34m[35]#011train-rmse:12510.06641#011validation-rmse:13964.49805\u001b[0m\n",
      "\u001b[34m[36]#011train-rmse:12500.30957#011validation-rmse:13972.78516\u001b[0m\n",
      "\u001b[34m[37]#011train-rmse:12495.45215#011validation-rmse:13970.91504\u001b[0m\n",
      "\u001b[34m[38]#011train-rmse:12494.25293#011validation-rmse:13970.88281\u001b[0m\n",
      "\u001b[34m[39]#011train-rmse:12489.33691#011validation-rmse:13972.97461\u001b[0m\n",
      "\u001b[34m[40]#011train-rmse:12484.00098#011validation-rmse:13976.49707\u001b[0m\n",
      "\u001b[34m[41]#011train-rmse:12459.81152#011validation-rmse:13977.19238\u001b[0m\n",
      "\u001b[34m[42]#011train-rmse:12442.36719#011validation-rmse:13978.73731\u001b[0m\n",
      "\u001b[34m[43]#011train-rmse:12436.29492#011validation-rmse:13990.71875\u001b[0m\n",
      "\u001b[34m[44]#011train-rmse:12418.39844#011validation-rmse:14003.84961\u001b[0m\n",
      "\u001b[34m[45]#011train-rmse:12409.58301#011validation-rmse:14004.72363\u001b[0m\n",
      "\u001b[34m[46]#011train-rmse:12393.94922#011validation-rmse:14012.86719\u001b[0m\n",
      "\u001b[34m[47]#011train-rmse:12392.26856#011validation-rmse:14012.90918\u001b[0m\n",
      "\u001b[34m[48]#011train-rmse:12386.20898#011validation-rmse:14010.11231\u001b[0m\n",
      "\u001b[34m[49]#011train-rmse:12380.51465#011validation-rmse:14013.65430\u001b[0m\n",
      "\u001b[34m[50]#011train-rmse:12339.70312#011validation-rmse:14022.76758\u001b[0m\n",
      "\u001b[34m[51]#011train-rmse:12331.59863#011validation-rmse:14024.14062\u001b[0m\n",
      "\u001b[34m[52]#011train-rmse:12326.99414#011validation-rmse:14025.63184\u001b[0m\n",
      "\u001b[34m[53]#011train-rmse:12300.64356#011validation-rmse:14043.41699\u001b[0m\n",
      "\u001b[34m[54]#011train-rmse:12282.93555#011validation-rmse:14055.86523\u001b[0m\n",
      "\u001b[34m[55]#011train-rmse:12259.34180#011validation-rmse:14057.67871\u001b[0m\n",
      "\u001b[34m[56]#011train-rmse:12256.69336#011validation-rmse:14058.80762\u001b[0m\n",
      "\u001b[34m[57]#011train-rmse:12251.94238#011validation-rmse:14057.70606\u001b[0m\n",
      "\u001b[34m[58]#011train-rmse:12251.27930#011validation-rmse:14057.64160\u001b[0m\n",
      "\u001b[34m[59]#011train-rmse:12232.74707#011validation-rmse:14062.25391\u001b[0m\n",
      "\u001b[34m[60]#011train-rmse:12228.45801#011validation-rmse:14057.92090\u001b[0m\n",
      "\u001b[34m[61]#011train-rmse:12226.05078#011validation-rmse:14057.47266\u001b[0m\n",
      "\u001b[34m[62]#011train-rmse:12224.29883#011validation-rmse:14058.66602\u001b[0m\n",
      "\u001b[34m[63]#011train-rmse:12221.96973#011validation-rmse:14058.49512\u001b[0m\n",
      "\u001b[34m[64]#011train-rmse:12208.72852#011validation-rmse:14060.64941\u001b[0m\n",
      "\u001b[34m[65]#011train-rmse:12204.46094#011validation-rmse:14059.50391\u001b[0m\n",
      "\u001b[34m[66]#011train-rmse:12200.20215#011validation-rmse:14062.33008\u001b[0m\n",
      "\u001b[34m[67]#011train-rmse:12191.00098#011validation-rmse:14060.71875\u001b[0m\n",
      "\u001b[34m[68]#011train-rmse:12187.72656#011validation-rmse:14060.26269\u001b[0m\n",
      "\u001b[34m[69]#011train-rmse:12181.76953#011validation-rmse:14060.53809\u001b[0m\n",
      "\u001b[34m[70]#011train-rmse:12173.98828#011validation-rmse:14061.74902\u001b[0m\n",
      "\u001b[34m[71]#011train-rmse:12165.75977#011validation-rmse:14064.07812\u001b[0m\n",
      "\u001b[34m[72]#011train-rmse:12137.81641#011validation-rmse:14062.23438\u001b[0m\n",
      "\u001b[34m[73]#011train-rmse:12136.66797#011validation-rmse:14062.14160\u001b[0m\n",
      "\u001b[34m[74]#011train-rmse:12132.31152#011validation-rmse:14062.90625\u001b[0m\n",
      "\u001b[34m[75]#011train-rmse:12119.97266#011validation-rmse:14069.39356\u001b[0m\n",
      "\u001b[34m[76]#011train-rmse:12115.06934#011validation-rmse:14065.66504\u001b[0m\n",
      "\u001b[34m[77]#011train-rmse:12111.70606#011validation-rmse:14065.21094\u001b[0m\n",
      "\u001b[34m[78]#011train-rmse:12108.15234#011validation-rmse:14063.17383\u001b[0m\n",
      "\u001b[34m[79]#011train-rmse:12107.09277#011validation-rmse:14063.67676\u001b[0m\n",
      "\u001b[34m[80]#011train-rmse:12102.18945#011validation-rmse:14061.50293\u001b[0m\n",
      "\u001b[34m[81]#011train-rmse:12095.44238#011validation-rmse:14062.38867\u001b[0m\n",
      "\u001b[34m[82]#011train-rmse:12094.35547#011validation-rmse:14062.20996\u001b[0m\n",
      "\u001b[34m[83]#011train-rmse:12092.75586#011validation-rmse:14062.44141\u001b[0m\n",
      "\u001b[34m[84]#011train-rmse:12089.65918#011validation-rmse:14061.73731\u001b[0m\n",
      "\u001b[34m[85]#011train-rmse:12070.58203#011validation-rmse:14067.71875\u001b[0m\n",
      "\u001b[34m[86]#011train-rmse:12062.95117#011validation-rmse:14067.16211\u001b[0m\n",
      "\u001b[34m[87]#011train-rmse:12046.38477#011validation-rmse:14067.28223\u001b[0m\n",
      "\u001b[34m[88]#011train-rmse:12045.06445#011validation-rmse:14066.82519\u001b[0m\n",
      "\u001b[34m[89]#011train-rmse:12032.66406#011validation-rmse:14071.06055\u001b[0m\n",
      "\u001b[34m[90]#011train-rmse:12016.39453#011validation-rmse:14077.61719\u001b[0m\n",
      "\u001b[34m[91]#011train-rmse:12010.47168#011validation-rmse:14083.87695\u001b[0m\n",
      "\u001b[34m[92]#011train-rmse:12004.71680#011validation-rmse:14089.11426\u001b[0m\n",
      "\u001b[34m[93]#011train-rmse:11998.31445#011validation-rmse:14086.80664\u001b[0m\n",
      "\u001b[34m[94]#011train-rmse:11981.92481#011validation-rmse:14089.48242\u001b[0m\n",
      "\u001b[34m[95]#011train-rmse:11977.73438#011validation-rmse:14087.36035\u001b[0m\n",
      "\u001b[34m[96]#011train-rmse:11959.07324#011validation-rmse:14090.81055\u001b[0m\n",
      "\u001b[34m[97]#011train-rmse:11952.38769#011validation-rmse:14085.57031\u001b[0m\n",
      "\n",
      "2022-02-25 21:20:48 Uploading - Uploading generated training model\u001b[34m[98]#011train-rmse:11945.35059#011validation-rmse:14085.62891\u001b[0m\n",
      "\u001b[34m[99]#011train-rmse:11935.03027#011validation-rmse:14087.39551\u001b[0m\n",
      "\n",
      "2022-02-25 21:21:18 Completed - Training job completed\n",
      "Training seconds: 248\n",
      "Billable seconds: 248\n"
     ]
    }
   ],
   "source": [
    "xgb_model.fit({\"train\": train_input, \"validation\": validation_input}, wait=True)"
   ]
  },
  {
   "cell_type": "code",
   "execution_count": null,
   "id": "ea801cad",
   "metadata": {},
   "outputs": [],
   "source": []
  },
  {
   "cell_type": "code",
   "execution_count": null,
   "id": "1eeaa871",
   "metadata": {},
   "outputs": [],
   "source": []
  },
  {
   "cell_type": "code",
   "execution_count": null,
   "id": "fb7e9ce8",
   "metadata": {},
   "outputs": [],
   "source": []
  },
  {
   "cell_type": "code",
   "execution_count": null,
   "id": "10559777",
   "metadata": {},
   "outputs": [],
   "source": [
    "rule_output_path = xgb_model.output_path + \"/\" + xgb_model.latest_training_job.name + \"/rule-output\"\n",
    "! aws s3 ls {rule_output_path} --recursive"
   ]
  },
  {
   "cell_type": "code",
   "execution_count": null,
   "id": "65665ee6",
   "metadata": {},
   "outputs": [],
   "source": [
    "! aws s3 cp {rule_output_path} ./ --recursive"
   ]
  },
  {
   "cell_type": "code",
   "execution_count": null,
   "id": "c46a6cb5",
   "metadata": {},
   "outputs": [],
   "source": [
    "from IPython.display import FileLink, FileLinks\n",
    "display(\"Click link below to view the XGBoost Training report\", FileLink(\"CreateXgboostReport/xgboost_report.html\"))"
   ]
  },
  {
   "cell_type": "code",
   "execution_count": null,
   "id": "66e0abd3",
   "metadata": {},
   "outputs": [],
   "source": [
    "profiler_report_name = [rule[\"RuleConfigurationName\"] \n",
    "                        for rule in xgb_model.latest_training_job.rule_job_summary() \n",
    "                        if \"Profiler\" in rule[\"RuleConfigurationName\"]][0]\n",
    "profiler_report_name\n",
    "display(\"Click link below to view the profiler report\", FileLink(profiler_report_name+\"/profiler-output/profiler-report.html\"))"
   ]
  },
  {
   "cell_type": "code",
   "execution_count": null,
   "id": "3f37b49a",
   "metadata": {},
   "outputs": [],
   "source": [
    "xgb_model.model_data"
   ]
  },
  {
   "cell_type": "code",
   "execution_count": null,
   "id": "dd555038",
   "metadata": {},
   "outputs": [],
   "source": [
    "\n",
    "xgb_predictor=xgb_model.deploy(\n",
    "    initial_instance_count=1,\n",
    "    instance_type='ml.t2.medium',\n",
    "    serializer=CSVSerializer()\n",
    ")"
   ]
  },
  {
   "cell_type": "code",
   "execution_count": null,
   "id": "3f4c2a3a",
   "metadata": {},
   "outputs": [],
   "source": [
    "xgb_predictor.endpoint_name"
   ]
  },
  {
   "cell_type": "code",
   "execution_count": null,
   "id": "113e4651",
   "metadata": {},
   "outputs": [],
   "source": []
  }
 ],
 "metadata": {
  "kernelspec": {
   "display_name": "conda_python3",
   "language": "python",
   "name": "conda_python3"
  },
  "language_info": {
   "codemirror_mode": {
    "name": "ipython",
    "version": 3
   },
   "file_extension": ".py",
   "mimetype": "text/x-python",
   "name": "python",
   "nbconvert_exporter": "python",
   "pygments_lexer": "ipython3",
   "version": "3.8.12"
  }
 },
 "nbformat": 4,
 "nbformat_minor": 5
}
