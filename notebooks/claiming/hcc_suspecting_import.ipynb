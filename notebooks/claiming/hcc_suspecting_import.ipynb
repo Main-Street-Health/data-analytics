{
 "cells": [
  {
   "cell_type": "code",
   "execution_count": null,
   "metadata": {},
   "outputs": [],
   "source": [
    "import os\n",
    "import sys\n",
    "import time\n",
    "import random\n",
    "import warnings\n",
    "import collections\n",
    "from tqdm import tqdm\n",
    "import numpy as np\n",
    "import pandas as pd\n",
    "import matplotlib.pyplot as plt\n",
    "import matplotlib.gridspec as gridspec\n",
    "import seaborn as sns\n",
    "\n",
    "sys.path.append('../src')\n",
    "import cb_utils\n",
    "\n",
    "sns.set(style=\"darkgrid\")\n",
    "pd.options.display.max_columns = 500\n",
    "\n",
    "%load_ext autoreload\n",
    "%autoreload 2"
   ]
  },
  {
   "cell_type": "code",
   "execution_count": null,
   "metadata": {},
   "outputs": [],
   "source": [
    "path = '/Users/bp/Downloads/all_suspect_logic.xlsx'\n",
    "icd_suspects = pd.read_excel(path, sheet_name='simple_icd_match', header=0)\n",
    "cpt_suspects = pd.read_excel(path, sheet_name='simple_cpt', header=0)\n",
    "ndc_suspect = pd.read_excel(path, sheet_name='drug_level_ndc', header=0)"
   ]
  },
  {
   "cell_type": "code",
   "execution_count": null,
   "metadata": {},
   "outputs": [],
   "source": [
    "icd_suspects.head()\n",
    "# icd_suspects.loc[icd_suspects.melinda_edits != 'REMOVE'].head()"
   ]
  },
  {
   "cell_type": "code",
   "execution_count": null,
   "metadata": {},
   "outputs": [],
   "source": [
    "cpt_suspects.head()"
   ]
  },
  {
   "cell_type": "code",
   "execution_count": null,
   "metadata": {},
   "outputs": [],
   "source": [
    "ndc_suspect.head(10)"
   ]
  },
  {
   "cell_type": "code",
   "execution_count": null,
   "metadata": {},
   "outputs": [],
   "source": [
    "# ndc_suspect.dtypes"
   ]
  },
  {
   "cell_type": "code",
   "execution_count": null,
   "metadata": {},
   "outputs": [],
   "source": [
    "ndc_suspect.loc[~ndc_suspect.melinda_flag_to_remove].head()"
   ]
  },
  {
   "cell_type": "code",
   "execution_count": null,
   "metadata": {},
   "outputs": [],
   "source": []
  },
  {
   "cell_type": "code",
   "execution_count": null,
   "metadata": {},
   "outputs": [],
   "source": [
    "eng = cb_utils.get_engine(source='msh_analytics')"
   ]
  },
  {
   "cell_type": "code",
   "execution_count": null,
   "metadata": {},
   "outputs": [],
   "source": [
    "icd_suspects.loc[icd_suspects.melinda_edits != 'REMOVE'].to_sql('hcc_icd_suspects', eng, schema='ref', if_exists='replace', index=False)"
   ]
  },
  {
   "cell_type": "code",
   "execution_count": null,
   "metadata": {},
   "outputs": [],
   "source": [
    "cpt_suspects.to_sql('hcc_cpt_suspects', eng, schema='ref', if_exists='replace', index=False)"
   ]
  },
  {
   "cell_type": "code",
   "execution_count": null,
   "metadata": {},
   "outputs": [],
   "source": [
    "ndc_suspect.loc[~ndc_suspect.melinda_flag_to_remove].to_sql('hcc_ndc_suspects', eng, schema='ref', if_exists='replace', index=False)"
   ]
  },
  {
   "cell_type": "code",
   "execution_count": null,
   "metadata": {},
   "outputs": [],
   "source": []
  },
  {
   "cell_type": "code",
   "execution_count": null,
   "metadata": {},
   "outputs": [],
   "source": []
  },
  {
   "cell_type": "markdown",
   "metadata": {},
   "source": [
    "# Imort External EMR data"
   ]
  },
  {
   "cell_type": "code",
   "execution_count": null,
   "metadata": {},
   "outputs": [],
   "source": [
    "def format_icd10(df, col):\n",
    "    df[col] = df[col].astype(str).str.replace('.', '', regex=False).str.lower().str.strip()\n",
    "    return df"
   ]
  },
  {
   "cell_type": "code",
   "execution_count": null,
   "metadata": {},
   "outputs": [],
   "source": [
    "base_dir = '/Users/bp/msh/external_emr_data/'\n",
    "file_names = [f for f in os.listdir(base_dir) if '20211020' in f]\n",
    "file_names"
   ]
  },
  {
   "cell_type": "code",
   "execution_count": null,
   "metadata": {},
   "outputs": [],
   "source": [
    "for file_name in file_names:\n",
    "    emr_data = pd.read_excel(f'{base_dir}/{file_name}', sheet_name='Sheet1', header=0)\n",
    "#     emr_data.columns = emr_data.columns.str.replace('[^a-zA-Z ]', '').str.replace(' ', '_').str.lower()\n",
    "    emr_data = emr_data[['golgi_id', 'patient_name_last', 'patient_name_first', 'dob', 'location', 'captured_icd_10', 'date_captured', 'recapture_icd_10', 'date_last_captured', 'suspect_icd_10', 'notes']]\n",
    "    icd_cols = ['captured_icd_10', 'recapture_icd_10', 'suspect_icd_10']\n",
    "    for col in icd_cols:\n",
    "        emr_data = format_icd10(emr_data, col)\n",
    "    \n",
    "    table = file_name.replace('.xlsx', '')\n",
    "    eng = cb_utils.get_engine(source='msh_analytics')\n",
    "    emr_data.to_sql(f'external_emr_data_{table}', eng, schema='junk', if_exists='replace', method='multi', index=False)"
   ]
  },
  {
   "cell_type": "code",
   "execution_count": null,
   "metadata": {},
   "outputs": [],
   "source": [
    "emr_data.head(100)"
   ]
  },
  {
   "cell_type": "code",
   "execution_count": null,
   "metadata": {},
   "outputs": [],
   "source": []
  },
  {
   "cell_type": "code",
   "execution_count": null,
   "metadata": {},
   "outputs": [],
   "source": [
    "emr_data.replace({np.nan: None}).head()"
   ]
  },
  {
   "cell_type": "code",
   "execution_count": null,
   "metadata": {},
   "outputs": [],
   "source": []
  },
  {
   "cell_type": "code",
   "execution_count": null,
   "metadata": {},
   "outputs": [],
   "source": [
    "file_name = '20211006_medina.xlsx'\n",
    "emr_data = pd.read_excel(f'{base_dir}/{file_name}', sheet_name='Sheet1', header=0)"
   ]
  },
  {
   "cell_type": "code",
   "execution_count": null,
   "metadata": {},
   "outputs": [],
   "source": [
    "emr_data.head()"
   ]
  },
  {
   "cell_type": "code",
   "execution_count": null,
   "metadata": {},
   "outputs": [],
   "source": [
    "name_mapping = {\n",
    "    'Patient Name': 'patient_name',\n",
    "    'Golgi ID': 'golgi_id', \n",
    "    'IT Upload Date': 'it_upload_date',\n",
    "    'DOB': 'dob',\n",
    "    'Location': 'location',\n",
    "    'Insurance': 'insurance',\n",
    "    'Billed ICD10s 2021': 'billed_icd10_2021',\n",
    "    'DOS': 'dos',\n",
    "    'Suspected ICD10': 'suspected_icd10',\n",
    "    'DOS of Suspected': 'date_of_suspected_icd10',\n",
    "    'Historical ICD10': 'historical_icd10',\n",
    "#     'Historical ICD10-before 2021': 'historical_icd10',\n",
    "}\n",
    "emr_data = emr_data.rename(columns=name_mapping)\n",
    "# emr_data.rename(columns=name_mapping)\n",
    "emr_data.head()"
   ]
  },
  {
   "cell_type": "code",
   "execution_count": null,
   "metadata": {},
   "outputs": [],
   "source": [
    "def format_icd10(df, col):\n",
    "    df[col] = df[col].str.replace('.', '', regex=False).str.lower().str.strip()\n",
    "    return df"
   ]
  },
  {
   "cell_type": "code",
   "execution_count": null,
   "metadata": {},
   "outputs": [],
   "source": [
    "icd_cols = ['suspected_icd10', 'billed_icd10_2021', 'historical_icd10', 'missed_icd10']\n",
    "for col in icd_cols:\n",
    "    emr_data = format_icd10(emr_data, col)"
   ]
  },
  {
   "cell_type": "code",
   "execution_count": null,
   "metadata": {},
   "outputs": [],
   "source": [
    "emr_data.head()\n",
    "list(emr_data.columns)"
   ]
  },
  {
   "cell_type": "code",
   "execution_count": null,
   "metadata": {},
   "outputs": [],
   "source": [
    "cols = [\n",
    " 'patient_name',\n",
    " 'golgi_id',\n",
    " 'location',\n",
    " 'insurance',\n",
    " 'billed_icd10_2021',\n",
    " 'dos',\n",
    " 'suspected_icd10',\n",
    "#  'date_of_suspected_icd10',\n",
    " 'historical_icd10',\n",
    " 'missed_icd10',\n",
    " 'dos_of_missed',\n",
    "]"
   ]
  },
  {
   "cell_type": "code",
   "execution_count": null,
   "metadata": {},
   "outputs": [],
   "source": [
    "eng = cb_utils.get_engine(source='msh_analytics')\n",
    "emr_data[cols].to_sql('external_emr_data', eng, schema='raw', if_exists='append', method='multi', index=False)"
   ]
  },
  {
   "cell_type": "code",
   "execution_count": null,
   "metadata": {},
   "outputs": [],
   "source": []
  },
  {
   "cell_type": "markdown",
   "metadata": {},
   "source": [
    "# Import Labs"
   ]
  },
  {
   "cell_type": "code",
   "execution_count": null,
   "metadata": {},
   "outputs": [],
   "source": [
    "def rename_lab_cols(labs):\n",
    "    name_mapping = {\n",
    "       \"creatinine_eGFR_nonafricn_am\": \"creatinine_egfr_nonafricn_am\",\n",
    "       \"creatinine_eGFR_africn_am\": \"creatinine_egfr_africn_am\",\n",
    "       \"hemoglobin_A1c\": \"hemoglobin_a1c\"\n",
    "    }\n",
    "    return labs.rename(columns=name_mapping)"
   ]
  },
  {
   "cell_type": "code",
   "execution_count": null,
   "metadata": {},
   "outputs": [],
   "source": [
    "base_dir = '/Users/bp/msh/labs/'\n",
    "file_names = [f for f in os.listdir(base_dir) if '20211020' in f and '~$' not in f]\n",
    "file_names"
   ]
  },
  {
   "cell_type": "code",
   "execution_count": null,
   "metadata": {},
   "outputs": [],
   "source": [
    "for file_name in file_names:\n",
    "    lab_data = pd.read_excel(f'{base_dir}/{file_name}', sheet_name='next 8 days', header=0)\n",
    "    lab_data = rename_lab_cols(lab_data)\n",
    "    lab_data = lab_data.replace({'hiv_ag_ab_with_reflex': {'Non Reactive': 0, 'Reactive': 1}})\n",
    "    lab_data = pd.melt(lab_data, id_vars=['patient_id', 'patient_first_name', 'patient_last_name', 'date_of_birth', 'date_of_lab_collection'], var_name='lab_type', value_name='lab_value', ignore_index=True)\n",
    "\n",
    "    table = file_name.replace('.xlsx', '')\n",
    "    eng = cb_utils.get_engine(source='msh_analytics')\n",
    "#     lab_data.to_sql(f'hcc_suspecting_lab_data', eng, schema='junk', if_exists='replace', method='multi', index=False)\n",
    "    lab_data.to_sql(f'hcc_suspecting_lab_data', eng, schema='raw', if_exists='append', method='multi', index=False)"
   ]
  },
  {
   "cell_type": "code",
   "execution_count": null,
   "metadata": {},
   "outputs": [],
   "source": [
    "lab_data.dtypes"
   ]
  },
  {
   "cell_type": "code",
   "execution_count": null,
   "metadata": {},
   "outputs": [],
   "source": [
    "lab_data.head(100)"
   ]
  },
  {
   "cell_type": "code",
   "execution_count": null,
   "metadata": {},
   "outputs": [],
   "source": []
  },
  {
   "cell_type": "code",
   "execution_count": null,
   "metadata": {},
   "outputs": [],
   "source": [
    "lab_data.hiv_ag_ab_with_reflex.value_counts()"
   ]
  },
  {
   "cell_type": "code",
   "execution_count": null,
   "metadata": {},
   "outputs": [],
   "source": []
  },
  {
   "cell_type": "markdown",
   "metadata": {},
   "source": [
    "# Old"
   ]
  },
  {
   "cell_type": "code",
   "execution_count": null,
   "metadata": {},
   "outputs": [],
   "source": [
    "base_dir = '/Users/bp/msh/suspecting_analysis'\n",
    "ndcs = pd.read_excel(f'{base_dir}/Xwalk_Master_Final_NDC.xlsx', sheet_name='RB NDC updates', header=1)"
   ]
  },
  {
   "cell_type": "code",
   "execution_count": null,
   "metadata": {},
   "outputs": [],
   "source": [
    "ndcs.head()"
   ]
  },
  {
   "cell_type": "code",
   "execution_count": null,
   "metadata": {},
   "outputs": [],
   "source": []
  },
  {
   "cell_type": "code",
   "execution_count": null,
   "metadata": {},
   "outputs": [],
   "source": [
    "hcc_col = ndcs.columns[0]\n",
    "\n",
    "ndcs = ndcs.loc[~ndcs[hcc_col].isna()]"
   ]
  },
  {
   "cell_type": "code",
   "execution_count": null,
   "metadata": {},
   "outputs": [],
   "source": [
    "ndcs['ICD10s'] = ndcs['ICD10s'].str.split('\\n|,')\n",
    "ndcs = ndcs.explode('ICD10s').query(\"ICD10s != ''\")\n",
    "ndcs['ICD10s'] = ndcs['ICD10s'].str.replace('.', '', regex=False).str.lower().str.strip()"
   ]
  },
  {
   "cell_type": "code",
   "execution_count": null,
   "metadata": {},
   "outputs": [],
   "source": [
    "ndcs.columns =  ['hcc', 'hcc_descr', 'coefficient', 'icd10', 'med', 'ndc', 'non_hcc_codes']\n",
    "ndcs['med'] = ndcs['med'].str.lower().str.strip()\n",
    "ndcs = ndcs.assign(ndc_code=ndcs['ndc'].str.replace('-', '', regex=False))"
   ]
  },
  {
   "cell_type": "code",
   "execution_count": null,
   "metadata": {},
   "outputs": [],
   "source": [
    "ndcs.head()"
   ]
  },
  {
   "cell_type": "code",
   "execution_count": null,
   "metadata": {},
   "outputs": [],
   "source": [
    "ndcs.shape"
   ]
  },
  {
   "cell_type": "code",
   "execution_count": null,
   "metadata": {},
   "outputs": [],
   "source": [
    "eng = cb_utils.get_engine()"
   ]
  },
  {
   "cell_type": "code",
   "execution_count": null,
   "metadata": {},
   "outputs": [],
   "source": [
    "ndcs.to_sql('ndc_xwalk', eng, schema='junk', if_exists='replace', index=False)"
   ]
  },
  {
   "cell_type": "code",
   "execution_count": null,
   "metadata": {},
   "outputs": [],
   "source": []
  },
  {
   "cell_type": "code",
   "execution_count": null,
   "metadata": {},
   "outputs": [],
   "source": []
  },
  {
   "cell_type": "code",
   "execution_count": null,
   "metadata": {},
   "outputs": [],
   "source": []
  },
  {
   "cell_type": "code",
   "execution_count": null,
   "metadata": {},
   "outputs": [],
   "source": []
  },
  {
   "cell_type": "code",
   "execution_count": null,
   "metadata": {},
   "outputs": [],
   "source": []
  },
  {
   "cell_type": "code",
   "execution_count": null,
   "metadata": {},
   "outputs": [],
   "source": []
  },
  {
   "cell_type": "code",
   "execution_count": null,
   "metadata": {},
   "outputs": [],
   "source": []
  },
  {
   "cell_type": "code",
   "execution_count": null,
   "metadata": {},
   "outputs": [],
   "source": [
    "base_dir = '/Users/bp/msh/suspecting_analysis'\n",
    "ndcs = pd.read_excel(f'{base_dir}/Xwalk_Master_Final_NDC_cleanedup.xlsx', sheet_name='verified_ndc', header=0, converters={'ndc': lambda x: str(x)})"
   ]
  },
  {
   "cell_type": "code",
   "execution_count": null,
   "metadata": {},
   "outputs": [],
   "source": [
    "ndcs.head()"
   ]
  },
  {
   "cell_type": "code",
   "execution_count": null,
   "metadata": {},
   "outputs": [],
   "source": [
    "ndcs.to_sql('ndc_xwalk_clean', eng, schema='junk', if_exists='replace', index=False)"
   ]
  },
  {
   "cell_type": "code",
   "execution_count": null,
   "metadata": {},
   "outputs": [],
   "source": []
  },
  {
   "cell_type": "code",
   "execution_count": null,
   "metadata": {},
   "outputs": [],
   "source": []
  },
  {
   "cell_type": "code",
   "execution_count": null,
   "metadata": {},
   "outputs": [],
   "source": []
  },
  {
   "cell_type": "code",
   "execution_count": null,
   "metadata": {},
   "outputs": [],
   "source": []
  },
  {
   "cell_type": "code",
   "execution_count": null,
   "metadata": {},
   "outputs": [],
   "source": []
  },
  {
   "cell_type": "code",
   "execution_count": null,
   "metadata": {},
   "outputs": [],
   "source": []
  },
  {
   "cell_type": "code",
   "execution_count": null,
   "metadata": {},
   "outputs": [],
   "source": []
  },
  {
   "cell_type": "code",
   "execution_count": null,
   "metadata": {},
   "outputs": [],
   "source": []
  },
  {
   "cell_type": "code",
   "execution_count": null,
   "metadata": {},
   "outputs": [],
   "source": []
  },
  {
   "cell_type": "code",
   "execution_count": null,
   "metadata": {},
   "outputs": [],
   "source": []
  },
  {
   "cell_type": "code",
   "execution_count": null,
   "metadata": {},
   "outputs": [],
   "source": [
    "query = f\"SELECT dtw.* FROM cb.ds_tall_wide dtw JOIN cb.mcos m ON m.id = {mco_id} AND m.ds_batch_id = dtw.ds_batch_id;\"\n",
    "ds_tall_wide = cb_utils.sql_query_to_df(query, use_cache=use_cache)\n",
    "ds_tall_wide = ds_tall_wide.drop(columns=['created_at'])\n",
    "ds_tall_wide.transplant_ddos = [0 if r is None else r for r in ds_tall_wide.transplant_ddos]"
   ]
  },
  {
   "cell_type": "code",
   "execution_count": null,
   "metadata": {},
   "outputs": [],
   "source": [
    "query = f\"SELECT v.* FROM cb.ds_vaps v JOIN cb.mcos m on m.id = {mco_id} and m.ds_batch_id = v.ds_batch_id;\"\n",
    "# query = \"SELECT * FROM cb.ds_vaps v WHERE v.ds_batch_id = 18;\"\n",
    "vap = cb_utils.sql_query_to_df(query, use_cache=use_cache)"
   ]
  },
  {
   "cell_type": "code",
   "execution_count": null,
   "metadata": {},
   "outputs": [],
   "source": []
  },
  {
   "cell_type": "code",
   "execution_count": null,
   "metadata": {},
   "outputs": [],
   "source": []
  },
  {
   "cell_type": "code",
   "execution_count": null,
   "metadata": {},
   "outputs": [],
   "source": []
  },
  {
   "cell_type": "code",
   "execution_count": null,
   "metadata": {},
   "outputs": [],
   "source": []
  },
  {
   "cell_type": "code",
   "execution_count": null,
   "metadata": {},
   "outputs": [],
   "source": []
  },
  {
   "cell_type": "code",
   "execution_count": null,
   "metadata": {},
   "outputs": [],
   "source": []
  },
  {
   "cell_type": "code",
   "execution_count": null,
   "metadata": {},
   "outputs": [],
   "source": []
  },
  {
   "cell_type": "code",
   "execution_count": null,
   "metadata": {},
   "outputs": [],
   "source": []
  },
  {
   "cell_type": "code",
   "execution_count": null,
   "metadata": {},
   "outputs": [],
   "source": []
  },
  {
   "cell_type": "code",
   "execution_count": null,
   "metadata": {},
   "outputs": [],
   "source": []
  },
  {
   "cell_type": "code",
   "execution_count": null,
   "metadata": {},
   "outputs": [],
   "source": []
  },
  {
   "cell_type": "code",
   "execution_count": null,
   "metadata": {},
   "outputs": [],
   "source": []
  },
  {
   "cell_type": "code",
   "execution_count": null,
   "metadata": {},
   "outputs": [],
   "source": []
  },
  {
   "cell_type": "code",
   "execution_count": null,
   "metadata": {},
   "outputs": [],
   "source": []
  },
  {
   "cell_type": "code",
   "execution_count": null,
   "metadata": {},
   "outputs": [],
   "source": []
  },
  {
   "cell_type": "code",
   "execution_count": null,
   "metadata": {},
   "outputs": [],
   "source": []
  }
 ],
 "metadata": {
  "kernelspec": {
   "display_name": "Python 3 (ipykernel)",
   "language": "python",
   "name": "python3"
  },
  "language_info": {
   "codemirror_mode": {
    "name": "ipython",
    "version": 3
   },
   "file_extension": ".py",
   "mimetype": "text/x-python",
   "name": "python",
   "nbconvert_exporter": "python",
   "pygments_lexer": "ipython3",
   "version": "3.8.5"
  }
 },
 "nbformat": 4,
 "nbformat_minor": 4
}
