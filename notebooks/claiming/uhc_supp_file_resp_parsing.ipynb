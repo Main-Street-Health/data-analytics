{
 "cells": [
  {
   "cell_type": "code",
   "execution_count": null,
   "metadata": {},
   "outputs": [],
   "source": [
    "import os\n",
    "import re\n",
    "import sys\n",
    "import time\n",
    "import random\n",
    "import warnings\n",
    "import collections\n",
    "from dateutil.relativedelta import relativedelta\n",
    "from datetime import datetime\n",
    "from tqdm import tqdm\n",
    "import numpy as np\n",
    "import pandas as pd\n",
    "import matplotlib.pyplot as plt\n",
    "import matplotlib.gridspec as gridspec\n",
    "import seaborn as sns\n",
    "\n",
    "sys.path.append('../src')\n",
    "import cb_utils\n",
    "\n",
    "sns.set(style=\"darkgrid\")\n",
    "pd.options.display.max_columns = 500\n",
    "\n",
    "%load_ext autoreload\n",
    "%autoreload 2"
   ]
  },
  {
   "cell_type": "markdown",
   "metadata": {},
   "source": [
    "# Script to parse supplemental file response from UHC"
   ]
  },
  {
   "cell_type": "code",
   "execution_count": null,
   "metadata": {},
   "outputs": [],
   "source": [
    "file_path = '/Users/bp/workspace/cb/data/00795_UHC_ASMP_DIRECT_20220409122222_RESUB1.txt'"
   ]
  },
  {
   "cell_type": "markdown",
   "metadata": {},
   "source": [
    "### Columns from the file we built"
   ]
  },
  {
   "cell_type": "code",
   "execution_count": null,
   "metadata": {},
   "outputs": [],
   "source": [
    "dx_cols = [f'DX_{i}' for i in range(40)]\n",
    "columns = [\n",
    "    'SEG TYPE',\n",
    "    'REF #',\n",
    "    'LAST NAME',\n",
    "    'FIRST NAME',\n",
    "    'MI',\n",
    "    'DOB',\n",
    "    'MEMBER ID- need either member ID or MBI',\n",
    "    'Retrieval NPI (Internal Use)',\n",
    "    'GENDER',\n",
    "    'STATE CODE',\n",
    "    'MBI-  need either member ID or MBI',\n",
    "    'FDOS',\n",
    "    'TDOS',\n",
    "    'BILL TYPE- Institutional Only',\n",
    "    'NU Indicator (Internal Use)',\n",
    "    'PROV ID',\n",
    "    'NPI',\n",
    "    'PROV TYPE',\n",
    "    'FACILITY NM- required for Institutional',\n",
    "    'PROV LAST NAME- Required for Professional',\n",
    "    'PROV FIRST NAME- required for Professional',\n",
    "    'CMS SPECIALTY- Required for Professional',\n",
    "    'TAX ID',\n",
    "    'CPT- Professional and Hospital Outpatient only',\n",
    "    'REV CODE - Required for Institutional',\n",
    "    'SERVICE FDOS',\n",
    "    'SERVICE TDOS',\n",
    "    'POS- Professional only',\n",
    "    'ICD INDIC',\n",
    "    'RA Code- Required for Professional',\n",
    "    'Chart Barcode (Internal Use)',\n",
    "    'Chart Enc Key (Internal Use)',\n",
    "    'Chart DX Key  (Internal Use)',\n",
    "    'Contract ID (Tufts use only)',\n",
    "    'Mem Street Address ',\n",
    "    'Mem Address 2',\n",
    "    'Mem City',\n",
    "    'Mem State',\n",
    "    'Mem Zip Code',\n",
    "    'CLAIMID/PCN',\n",
    "] + dx_cols"
   ]
  },
  {
   "cell_type": "markdown",
   "metadata": {},
   "source": [
    "### response"
   ]
  },
  {
   "cell_type": "code",
   "execution_count": null,
   "metadata": {},
   "outputs": [],
   "source": [
    "cols = [re.sub('[^0-9a-zA-Z]+', '_', c.lower()) for c in columns+['err_id', 'error']]\n",
    "df = pd.read_csv(file_path, sep='|', header=None, skipfooter=1, skiprows=1, names=cols, engine='python')\n",
    "df.head()"
   ]
  },
  {
   "cell_type": "code",
   "execution_count": null,
   "metadata": {},
   "outputs": [],
   "source": [
    "df.error.value_counts()"
   ]
  },
  {
   "cell_type": "code",
   "execution_count": null,
   "metadata": {},
   "outputs": [],
   "source": [
    "# HDR|8.9|00795|00795_UHC_ASMP_DIRECT_20220328162146_RESUB1.txt|UHC|DIRECT|P|Y"
   ]
  },
  {
   "cell_type": "code",
   "execution_count": null,
   "metadata": {},
   "outputs": [],
   "source": []
  },
  {
   "cell_type": "code",
   "execution_count": null,
   "metadata": {},
   "outputs": [],
   "source": [
    "df.to_csv('/Users/bp/Downloads/uhc_supp_file_errors_20220418.csv', index=False)"
   ]
  },
  {
   "cell_type": "code",
   "execution_count": null,
   "metadata": {},
   "outputs": [],
   "source": []
  }
 ],
 "metadata": {
  "kernelspec": {
   "display_name": "Python 3 (ipykernel)",
   "language": "python",
   "name": "python3"
  },
  "language_info": {
   "codemirror_mode": {
    "name": "ipython",
    "version": 3
   },
   "file_extension": ".py",
   "mimetype": "text/x-python",
   "name": "python",
   "nbconvert_exporter": "python",
   "pygments_lexer": "ipython3",
   "version": "3.10.4"
  }
 },
 "nbformat": 4,
 "nbformat_minor": 4
}
