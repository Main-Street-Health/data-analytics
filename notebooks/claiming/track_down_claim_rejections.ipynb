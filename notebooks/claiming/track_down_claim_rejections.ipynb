{
 "cells": [
  {
   "cell_type": "code",
   "execution_count": 47,
   "metadata": {},
   "outputs": [
    {
     "name": "stdout",
     "output_type": "stream",
     "text": [
      "The autoreload extension is already loaded. To reload it, use:\n",
      "  %reload_ext autoreload\n"
     ]
    }
   ],
   "source": [
    "import sys\n",
    "import pandas as pd\n",
    "import boto3\n",
    "from time import time\n",
    "import subprocess\n",
    "sys.path.append('../src')\n",
    "import cb_utils\n",
    "import datetime\n",
    "import json\n",
    "\n",
    "pd.options.display.max_columns = 500\n",
    "con = cb_utils.get_engine()\n",
    "\n",
    "%load_ext autoreload\n",
    "%autoreload 2"
   ]
  },
  {
   "cell_type": "code",
   "execution_count": 10,
   "metadata": {},
   "outputs": [],
   "source": [
    "bucket_name = 'cb-member-doc-us-east-2-prd'\n",
    "prefix = 'parsed_claim_file_archive/'"
   ]
  },
  {
   "cell_type": "code",
   "execution_count": 4,
   "metadata": {},
   "outputs": [],
   "source": [
    "client = boto3.client('s3')"
   ]
  },
  {
   "cell_type": "code",
   "execution_count": 5,
   "metadata": {},
   "outputs": [],
   "source": [
    "response = client.list_objects_v2(Bucket=bucket_name, Prefix=prefix)"
   ]
  },
  {
   "cell_type": "code",
   "execution_count": 7,
   "metadata": {},
   "outputs": [],
   "source": [
    "contents = response['Contents']"
   ]
  },
  {
   "cell_type": "code",
   "execution_count": 52,
   "metadata": {},
   "outputs": [],
   "source": [
    "s3 = boto3.resource('s3')\n",
    "bucket = s3.Bucket(bucket_name)    \n",
    "files = []\n",
    "for file in bucket.objects.filter(Prefix=prefix):\n",
    "    #compare dates \n",
    "    if (file.last_modified).replace(tzinfo = None).date() >= datetime.datetime(2021,1, 5,tzinfo = None).date():\n",
    "        files.append(file)"
   ]
  },
  {
   "cell_type": "code",
   "execution_count": 53,
   "metadata": {},
   "outputs": [
    {
     "data": {
      "text/plain": [
       "551"
      ]
     },
     "execution_count": 53,
     "metadata": {},
     "output_type": "execute_result"
    }
   ],
   "source": [
    "len(files)"
   ]
  },
  {
   "cell_type": "code",
   "execution_count": 54,
   "metadata": {},
   "outputs": [],
   "source": [
    "files = [f for f in files if '999.x12.json' not in f.key]"
   ]
  },
  {
   "cell_type": "code",
   "execution_count": 55,
   "metadata": {},
   "outputs": [
    {
     "data": {
      "text/plain": [
       "365"
      ]
     },
     "execution_count": 55,
     "metadata": {},
     "output_type": "execute_result"
    }
   ],
   "source": [
    "len(files)"
   ]
  },
  {
   "cell_type": "code",
   "execution_count": 56,
   "metadata": {},
   "outputs": [],
   "source": [
    "files = [f for f in files if '.277Ack.x12.json' not in f.key]"
   ]
  },
  {
   "cell_type": "code",
   "execution_count": 57,
   "metadata": {},
   "outputs": [
    {
     "data": {
      "text/plain": [
       "189"
      ]
     },
     "execution_count": 57,
     "metadata": {},
     "output_type": "execute_result"
    }
   ],
   "source": [
    "len(files)"
   ]
  },
  {
   "cell_type": "code",
   "execution_count": 58,
   "metadata": {},
   "outputs": [],
   "source": [
    "files = [f for f in files if '.277.json' in f.key]"
   ]
  },
  {
   "cell_type": "code",
   "execution_count": 59,
   "metadata": {},
   "outputs": [
    {
     "data": {
      "text/plain": [
       "35"
      ]
     },
     "execution_count": 59,
     "metadata": {},
     "output_type": "execute_result"
    }
   ],
   "source": [
    "len(files)"
   ]
  },
  {
   "cell_type": "code",
   "execution_count": 60,
   "metadata": {},
   "outputs": [],
   "source": [
    "hs_files = [\n",
    "'10472_UB920166_2021010406020901.277.json',\n",
    "'10652_UB920166_2021010501521901.277.json',\n",
    "'10653_UB920166_2021010502035101.277.json',\n",
    "'10654_UB920166_2021010502071001.277.json',\n",
    "'10655_UB920166_2021010502194201.277.json',\n",
    "'10656_UB920166_2021010502411601.277.json',\n",
    "'10657_UB920166_2021010504160001.277.json',\n",
    "'10658_UB920166_2021010504160002.277.json',\n",
    "'10659_UB920166_2021010504160003.277.json',\n",
    "'10660_UB920166_2021010504160004.277.json',\n",
    "'10661_UB920166_2021010504160005.277.json',\n",
    "'10662_UB920166_2021010504160006.277.json',\n",
    "'10663_UB920166_2021010504160101.277.json',\n",
    "]\n",
    "def hs_file(f):\n",
    "    is_hs_file = False\n",
    "    for hs_f in hs_files:\n",
    "        if hs_f in f.key:\n",
    "            is_hs_file = True\n",
    "            break\n",
    "    return is_hs_file"
   ]
  },
  {
   "cell_type": "code",
   "execution_count": 61,
   "metadata": {},
   "outputs": [],
   "source": [
    "files = [f for f in files if not hs_file(f)]"
   ]
  },
  {
   "cell_type": "code",
   "execution_count": 62,
   "metadata": {},
   "outputs": [
    {
     "data": {
      "text/plain": [
       "23"
      ]
     },
     "execution_count": 62,
     "metadata": {},
     "output_type": "execute_result"
    }
   ],
   "source": [
    "len(files)"
   ]
  },
  {
   "cell_type": "code",
   "execution_count": null,
   "metadata": {},
   "outputs": [],
   "source": []
  },
  {
   "cell_type": "code",
   "execution_count": 36,
   "metadata": {},
   "outputs": [
    {
     "name": "stdout",
     "output_type": "stream",
     "text": [
      "parsed_claim_file_archive/10474_GATE0166_2021010413064501.277.json 2021-01-05 00:00:22+00:00\n",
      "parsed_claim_file_archive/10475_GATE0166_2021010416160401.277.json 2021-01-05 00:00:23+00:00\n",
      "parsed_claim_file_archive/10476_GATE0166_2021010420005201.277.json 2021-01-05 06:00:23+00:00\n",
      "parsed_claim_file_archive/10735_UB920166_2021010506015101.277.json 2021-01-05 18:00:25+00:00\n",
      "parsed_claim_file_archive/10736_UB920166_2021010506160101.277.json 2021-01-05 18:00:25+00:00\n",
      "parsed_claim_file_archive/10737_UB920166_2021010507160301.277.json 2021-01-05 18:00:26+00:00\n",
      "parsed_claim_file_archive/10739_GATE0166_2021010511524401.277.json 2021-01-06 00:00:24+00:00\n",
      "parsed_claim_file_archive/10740_GATE0166_2021010512312601.277.json 2021-01-06 00:00:25+00:00\n",
      "parsed_claim_file_archive/10741_GATE0166_2021010516160501.277.json 2021-01-06 00:00:25+00:00\n",
      "parsed_claim_file_archive/10742_UB920166_2021010516020001.277.json 2021-01-06 00:00:26+00:00\n",
      "parsed_claim_file_archive/10743_GATE0166_2021010520080901.277.json 2021-01-06 06:00:25+00:00\n",
      "parsed_claim_file_archive/10744_GATE0166_2021010521024201.277.json 2021-01-06 06:00:25+00:00\n",
      "parsed_claim_file_archive/11016_UB920166_2021010602022801.277.json 2021-01-06 12:00:25+00:00\n",
      "parsed_claim_file_archive/11017_UB920166_2021010602035001.277.json 2021-01-06 12:00:26+00:00\n",
      "parsed_claim_file_archive/11018_UB920166_2021010602124601.277.json 2021-01-06 12:00:26+00:00\n",
      "parsed_claim_file_archive/11019_UB920166_2021010602253201.277.json 2021-01-06 12:00:27+00:00\n",
      "parsed_claim_file_archive/11020_UB920166_2021010604160001.277.json 2021-01-06 12:00:27+00:00\n",
      "parsed_claim_file_archive/11021_UB920166_2021010604160002.277.json 2021-01-06 12:00:28+00:00\n",
      "parsed_claim_file_archive/11022_UB920166_2021010604160101.277.json 2021-01-06 12:00:28+00:00\n",
      "parsed_claim_file_archive/11023_UB920166_2021010604160102.277.json 2021-01-06 12:00:28+00:00\n",
      "parsed_claim_file_archive/11024_UB920166_2021010604160103.277.json 2021-01-06 12:00:29+00:00\n",
      "parsed_claim_file_archive/11025_UB920166_2021010604160201.277.json 2021-01-06 12:00:29+00:00\n",
      "parsed_claim_file_archive/11026_UB920166_2021010604160301.277.json 2021-01-06 12:00:29+00:00\n"
     ]
    }
   ],
   "source": [
    "for f in files[:23]:\n",
    "    print(f.key, f.last_modified)"
   ]
  },
  {
   "cell_type": "code",
   "execution_count": 37,
   "metadata": {},
   "outputs": [],
   "source": [
    "potential = [\n",
    "'parsed_claim_file_archive/10735_UB920166_2021010506015101.277.json',\n",
    "'parsed_claim_file_archive/10736_UB920166_2021010506160101.277.json',\n",
    "'parsed_claim_file_archive/10737_UB920166_2021010507160301.277.json',\n",
    "]"
   ]
  },
  {
   "cell_type": "code",
   "execution_count": 38,
   "metadata": {},
   "outputs": [
    {
     "name": "stdout",
     "output_type": "stream",
     "text": [
      "s3.ObjectSummary(bucket_name='cb-member-doc-us-east-2-prd', key='parsed_claim_file_archive/10735_UB920166_2021010506015101.277.json')\n",
      "s3.ObjectSummary(bucket_name='cb-member-doc-us-east-2-prd', key='parsed_claim_file_archive/10736_UB920166_2021010506160101.277.json')\n",
      "s3.ObjectSummary(bucket_name='cb-member-doc-us-east-2-prd', key='parsed_claim_file_archive/10737_UB920166_2021010507160301.277.json')\n"
     ]
    }
   ],
   "source": [
    "for f in files:\n",
    "    if f.key in potential:\n",
    "        print(f)"
   ]
  },
  {
   "cell_type": "code",
   "execution_count": 70,
   "metadata": {},
   "outputs": [],
   "source": [
    "content = [(f, f.get()['Body'].read().decode('utf-8')) for f in files]"
   ]
  },
  {
   "cell_type": "code",
   "execution_count": 71,
   "metadata": {},
   "outputs": [],
   "source": [
    "# json.loads?\n",
    "# c = content[0]['Body'].read().decode('utf-8')"
   ]
  },
  {
   "cell_type": "code",
   "execution_count": 74,
   "metadata": {},
   "outputs": [
    {
     "name": "stdout",
     "output_type": "stream",
     "text": [
      "one s3.ObjectSummary(bucket_name='cb-member-doc-us-east-2-prd', key='parsed_claim_file_archive/10739_GATE0166_2021010511524401.277.json')\n",
      "two s3.ObjectSummary(bucket_name='cb-member-doc-us-east-2-prd', key='parsed_claim_file_archive/10739_GATE0166_2021010511524401.277.json')\n"
     ]
    }
   ],
   "source": [
    "for f, c in content:\n",
    "    if '100000035' in c:\n",
    "        if '3785' in c:\n",
    "            print('one', f)\n",
    "            file_content_3785 = json.loads(c)\n",
    "        if '3778' in c:\n",
    "            print('two', f)\n",
    "            file_content_3778 = json.loads(c)"
   ]
  },
  {
   "cell_type": "code",
   "execution_count": 75,
   "metadata": {},
   "outputs": [
    {
     "data": {
      "text/plain": [
       "{'document': [{'billing_provider_name': 'CAREBRIDGE MEDICAL GROUP, PC',\n",
       "   'billing_provider_npi': '1124656616',\n",
       "   'check_date': None,\n",
       "   'check_number': '',\n",
       "   'claim_amount': '0',\n",
       "   'claim_external_status_code': 'A6:21',\n",
       "   'claim_external_status_description': 'Missing or invalid information. Note: At least one other status code is required to identify the missing or invalid information.',\n",
       "   'claim_status': 'U',\n",
       "   'clearinghouse_id': None,\n",
       "   'date_of_service': '2020-10-13',\n",
       "   'date_of_services': '20201013-20201013',\n",
       "   'is_claim_accepted': False,\n",
       "   'is_claim_denied': False,\n",
       "   'is_claim_paid': False,\n",
       "   'is_claim_rejected': True,\n",
       "   'is_submitter_accepted': True,\n",
       "   'paid_amount': '',\n",
       "   'patient_control_num': '3778',\n",
       "   'patient_fname': 'SHIRLEY',\n",
       "   'patient_id': '106538691',\n",
       "   'patient_lname': 'LINCOLN',\n",
       "   'payer_clrhs_name': 'INGENIX - EDIS',\n",
       "   'payer_entity_identifier_code': 'AY',\n",
       "   'payer_entity_type_qualifier': '2',\n",
       "   'payer_identifier': '9080180109',\n",
       "   'process_date': '2021-01-05',\n",
       "   'raw_data': \"ST*277*000000001*005010X214~BHT*0085*08*000000001*20210105*1152*TH~HL*1**20*1~NM1*AY*2*INGENIX - EDIS*****46*9080180109~TRN*1*000000001~DTP*050*D8*20210105~DTP*009*D8*20210105~HL*2*1*21*1~NM1*41*2*CAREBRIDGEHEALTH*****46*GATE0166~TRN*2*100000035-0159~STC*A0:16*20210105*WQ*0~QTY*90*0~QTY*AA*1~AMT*YU*0~AMT*YY*0~HL*3*2*19*1~NM1*85*2*CAREBRIDGE MEDICAL GROUP, PC*****XX*1124656616~TRN*1*0~QTY*QA*0~QTY*QC*1~AMT*YU*0~AMT*YY*0~HL*4*3*PT~NM1*QC*1*LINCOLN*SHIRLEY****MI*106538691~TRN*2*3778~STC*A6:21*20210105*U*0********H10614 Missing Mandatory 'Professional Service - Product/Service ID', required for HIPAA.~DTP*472*RD8*20201013-20201013~SE*28*000000001\",\n",
       "   'received_date': '2021-01-05',\n",
       "   'submitter_external_status_code': 'A0:16',\n",
       "   'submitter_external_status_description': 'Claim/encounter has been forwarded to entity. Note: This code requires use of an Entity Code.',\n",
       "   'submitter_status': 'WQ',\n",
       "   'transmit_receipt': '000000001'},\n",
       "  {'billing_provider_name': 'CAREBRIDGE MEDICAL GROUP, PC',\n",
       "   'billing_provider_npi': '1124656616',\n",
       "   'check_date': None,\n",
       "   'check_number': '',\n",
       "   'claim_amount': '0',\n",
       "   'claim_external_status_code': 'A6:21',\n",
       "   'claim_external_status_description': 'Missing or invalid information. Note: At least one other status code is required to identify the missing or invalid information.',\n",
       "   'claim_status': 'U',\n",
       "   'clearinghouse_id': None,\n",
       "   'date_of_service': '2020-10-13',\n",
       "   'date_of_services': '20201013-20201013',\n",
       "   'is_claim_accepted': False,\n",
       "   'is_claim_denied': False,\n",
       "   'is_claim_paid': False,\n",
       "   'is_claim_rejected': True,\n",
       "   'is_submitter_accepted': True,\n",
       "   'paid_amount': '',\n",
       "   'patient_control_num': '3785',\n",
       "   'patient_fname': 'ELLA',\n",
       "   'patient_id': '106452415',\n",
       "   'patient_lname': 'BAKER',\n",
       "   'payer_clrhs_name': 'INGENIX - EDIS',\n",
       "   'payer_entity_identifier_code': 'AY',\n",
       "   'payer_entity_type_qualifier': '2',\n",
       "   'payer_identifier': '9080180109',\n",
       "   'process_date': '2021-01-05',\n",
       "   'raw_data': \"ST*277*000000002*005010X214~BHT*0085*08*000000002*20210105*1152*TH~HL*1**20*1~NM1*AY*2*INGENIX - EDIS*****46*9080180109~TRN*1*000000002~DTP*050*D8*20210105~DTP*009*D8*20210105~HL*2*1*21*1~NM1*41*2*CAREBRIDGEHEALTH*****46*GATE0166~TRN*2*100000035-0198~STC*A0:16*20210105*WQ*0~QTY*90*0~QTY*AA*1~AMT*YU*0~AMT*YY*0~HL*3*2*19*1~NM1*85*2*CAREBRIDGE MEDICAL GROUP, PC*****XX*1124656616~TRN*1*0~QTY*QA*0~QTY*QC*1~AMT*YU*0~AMT*YY*0~HL*4*3*PT~NM1*QC*1*BAKER*ELLA****MI*106452415~TRN*2*3785~STC*A6:21*20210105*U*0********H10614 Missing Mandatory 'Professional Service - Product/Service ID', required for HIPAA.~DTP*472*RD8*20201013-20201013~SE*28*000000002~GE*2*26324679~IEA*1*026324679\",\n",
       "   'received_date': '2021-01-05',\n",
       "   'submitter_external_status_code': 'A0:16',\n",
       "   'submitter_external_status_description': 'Claim/encounter has been forwarded to entity. Note: This code requires use of an Entity Code.',\n",
       "   'submitter_status': 'WQ',\n",
       "   'transmit_receipt': '000000002'}],\n",
       " 's3_e_tag': '\"008754dee0a271d5ba245157581d02d6\"',\n",
       " 's3_last_modified': '2021-01-05T23:45:04.000Z',\n",
       " 's3_size': '1614',\n",
       " 'status': 'success'}"
      ]
     },
     "execution_count": 75,
     "metadata": {},
     "output_type": "execute_result"
    }
   ],
   "source": [
    "file_content_3778"
   ]
  },
  {
   "cell_type": "code",
   "execution_count": null,
   "metadata": {},
   "outputs": [],
   "source": []
  }
 ],
 "metadata": {
  "kernelspec": {
   "display_name": "Python 3",
   "language": "python",
   "name": "python3"
  },
  "language_info": {
   "codemirror_mode": {
    "name": "ipython",
    "version": 3
   },
   "file_extension": ".py",
   "mimetype": "text/x-python",
   "name": "python",
   "nbconvert_exporter": "python",
   "pygments_lexer": "ipython3",
   "version": "3.8.5"
  }
 },
 "nbformat": 4,
 "nbformat_minor": 4
}
