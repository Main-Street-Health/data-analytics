{
 "cells": [
  {
   "cell_type": "code",
   "execution_count": null,
   "metadata": {},
   "outputs": [],
   "source": [
    "import os\n",
    "import sys\n",
    "import time\n",
    "import random\n",
    "import warnings\n",
    "import collections\n",
    "from dateutil.relativedelta import relativedelta\n",
    "from datetime import datetime\n",
    "from tqdm import tqdm\n",
    "import numpy as np\n",
    "import pandas as pd\n",
    "import matplotlib.pyplot as plt\n",
    "import matplotlib.gridspec as gridspec\n",
    "import seaborn as sns\n",
    "\n",
    "sys.path.append('../src')\n",
    "import cb_utils\n",
    "\n",
    "sns.set(style=\"darkgrid\")\n",
    "pd.options.display.max_columns = 500\n",
    "\n",
    "%load_ext autoreload\n",
    "%autoreload 2"
   ]
  },
  {
   "cell_type": "markdown",
   "metadata": {},
   "source": [
    "The notebook will find any service type missmatches between memberdoc `analytics_claims` and analytics `cb.claims` and update them in batches of 10000"
   ]
  },
  {
   "cell_type": "markdown",
   "metadata": {},
   "source": [
    "### Pull Data"
   ]
  },
  {
   "cell_type": "code",
   "execution_count": null,
   "metadata": {},
   "outputs": [],
   "source": [
    "query = \"\"\"\n",
    "SELECT\n",
    "    c.analytics_id\n",
    "  , st.service_type_description AS ref_table\n",
    "FROM\n",
    "    fdw_member_doc.analytics_claims c\n",
    "    JOIN cb.claims ca ON c.analytics_id = ca.id\n",
    "    JOIN ref.service_types st ON st.id = ca.service_type_id\n",
    "WHERE\n",
    "    c.service_type <> st.service_type_description\n",
    "limit 10000\n",
    "\"\"\""
   ]
  },
  {
   "cell_type": "code",
   "execution_count": null,
   "metadata": {},
   "outputs": [],
   "source": [
    "# Connect to your postgres DB\n",
    "# conn = psycopg2.connect()\n",
    "pg_conn = cb_utils.get_member_doc_conn()\n",
    "def update_member_doc():\n",
    "    # Open a cursor to perform database operations\n",
    "    cur = pg_conn.cursor()\n",
    "\n",
    "    # Execute a query\n",
    "    cur.execute(\"call junk.update_service_type_update();\")\n",
    "\n",
    "    # Retrieve query results\n",
    "    # records = cur.fetchall()\n",
    "    cur.close()\n",
    "    pg_conn.commit()"
   ]
  },
  {
   "cell_type": "code",
   "execution_count": null,
   "metadata": {},
   "outputs": [],
   "source": [
    "def update_service_types():\n",
    "    df = cb_utils.sql_query_to_df(query, use_cache=False, verbose=False);\n",
    "    conn = cb_utils.get_engine(source='member_doc')\n",
    "    i = 1\n",
    "    elapsed = 0\n",
    "    start = time.time()\n",
    "    while df.shape[0] > 0:\n",
    "        df.to_sql('claim_service_type_mapping', con=conn, schema='junk', index=False, chunksize=1000, if_exists='append')\n",
    "        update_member_doc()\n",
    "        df = cb_utils.sql_query_to_df(query, use_cache=False, verbose=False);\n",
    "        i += 1\n",
    "        end = time.time()\n",
    "        duration = end - start\n",
    "        elapsed += duration\n",
    "        print(f'Update #: {i} in {round(duration)}s, {round(elapsed)}s total')\n",
    "        start = end"
   ]
  },
  {
   "cell_type": "code",
   "execution_count": null,
   "metadata": {},
   "outputs": [],
   "source": [
    "update_service_types();"
   ]
  },
  {
   "cell_type": "code",
   "execution_count": null,
   "metadata": {},
   "outputs": [],
   "source": [
    "update_service_types();"
   ]
  },
  {
   "cell_type": "code",
   "execution_count": null,
   "metadata": {},
   "outputs": [],
   "source": [
    "df = cb_utils.sql_query_to_df(query, use_cache=False);"
   ]
  },
  {
   "cell_type": "code",
   "execution_count": null,
   "metadata": {},
   "outputs": [],
   "source": [
    "conn = cb_utils.get_engine(source='member_doc')"
   ]
  },
  {
   "cell_type": "code",
   "execution_count": null,
   "metadata": {},
   "outputs": [],
   "source": [
    "df.to_sql('claim_service_type_mapping', con=conn, schema='junk', index=False, chunksize=1000, if_exists='append')"
   ]
  },
  {
   "cell_type": "code",
   "execution_count": null,
   "metadata": {},
   "outputs": [],
   "source": [
    "update_member_doc()"
   ]
  },
  {
   "cell_type": "code",
   "execution_count": null,
   "metadata": {},
   "outputs": [],
   "source": [
    "df = cb_utils.sql_query_to_df(query, use_cache=False, verbose=False);"
   ]
  },
  {
   "cell_type": "code",
   "execution_count": null,
   "metadata": {},
   "outputs": [],
   "source": [
    "end  = time.time()\n",
    "print('%.0fs' % (end - start))"
   ]
  },
  {
   "cell_type": "code",
   "execution_count": null,
   "metadata": {},
   "outputs": [],
   "source": [
    "pg_conn.close()"
   ]
  },
  {
   "cell_type": "code",
   "execution_count": null,
   "metadata": {},
   "outputs": [],
   "source": []
  }
 ],
 "metadata": {
  "kernelspec": {
   "display_name": "Python 3 (ipykernel)",
   "language": "python",
   "name": "python3"
  },
  "language_info": {
   "codemirror_mode": {
    "name": "ipython",
    "version": 3
   },
   "file_extension": ".py",
   "mimetype": "text/x-python",
   "name": "python",
   "nbconvert_exporter": "python",
   "pygments_lexer": "ipython3",
   "version": "3.10.4"
  }
 },
 "nbformat": 4,
 "nbformat_minor": 4
}
