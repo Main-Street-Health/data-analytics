{
 "cells": [
  {
   "cell_type": "code",
   "execution_count": 1,
   "metadata": {},
   "outputs": [],
   "source": [
    "import os\n",
    "import sys\n",
    "import time\n",
    "import random\n",
    "import warnings\n",
    "import collections\n",
    "from dateutil.relativedelta import relativedelta\n",
    "from datetime import datetime\n",
    "from tqdm import tqdm\n",
    "import numpy as np\n",
    "import pandas as pd\n",
    "import matplotlib.pyplot as plt\n",
    "import matplotlib.gridspec as gridspec\n",
    "import seaborn as sns\n",
    "\n",
    "sys.path.append('../../src')\n",
    "import cb_utils\n",
    "\n",
    "sns.set(style=\"darkgrid\")\n",
    "pd.options.display.max_columns = 500\n",
    "\n",
    "%load_ext autoreload\n",
    "%autoreload 2"
   ]
  },
  {
   "cell_type": "markdown",
   "metadata": {},
   "source": [
    "# Script to generate supplemental file for claim submission\n",
    "Currently configured for UHC, other plans may be signifigantly different\n",
    "\n",
    "### Questions: \n",
    "1) Can we always pad out to 40dx\n",
    "2) Can we include lines that don't have any dx?\n",
    "    - If not what about situations where the dx is associated to a non ra cpt\n",
    "3) What member ID to use if we don't have MBI?"
   ]
  },
  {
   "cell_type": "code",
   "execution_count": 2,
   "metadata": {},
   "outputs": [
    {
     "name": "stdout",
     "output_type": "stream",
     "text": [
      "Seed: 32\n"
     ]
    }
   ],
   "source": [
    "# configuration\n",
    "use_cache = False\n",
    "seed = random.randint(0, 100)\n",
    "from_date = '2022-03-23'\n",
    "\n",
    "print(f'Seed: {seed}')"
   ]
  },
  {
   "cell_type": "markdown",
   "metadata": {},
   "source": [
    "### Pull Data"
   ]
  },
  {
   "cell_type": "code",
   "execution_count": 6,
   "metadata": {},
   "outputs": [],
   "source": [
    "query = f\"\"\"\n",
    "with\n",
    "    good_mbi AS\n",
    "        (\n",
    "            SELECT\n",
    "                mco_id\n",
    "              , analytics_member_id\n",
    "              , medicare_no\n",
    "              , case WHEN medicare_no !~* 's|l|o|i|b|z' -- invalid characters in an MBI\n",
    "                  AND LENGTH(REPLACE(LOWER(TRIM(medicare_no)), '-', '')) = 11\n",
    "                    THEN upper((regexp_match(REGEXP_REPLACE(LOWER(TRIM(medicare_no)), '[s|l|o|i|b|z|-]', '', 'g'),\n",
    "                        '[1-9][a-z][0-9a-z][0-9][a-z][0-9a-z][0-9][a-z][a-z][0-9][0-9]'))[1])\n",
    "                END mbi\n",
    "            FROM\n",
    "                fdw_member_doc.analytics_patients\n",
    "            WHERE\n",
    "                medicare_no IS NOT NULL\n",
    "        )\n",
    "  , encounter_icds   AS (\n",
    "    SELECT\n",
    "        b.id                                                                      elation_bill_id\n",
    "      , ARRAY_AGG(i.code ORDER BY bidx.seqno) FILTER ( WHERE i.code IS NOT NULL ) icds\n",
    "    FROM\n",
    "        fdw_member_doc.emr_origin_bill b\n",
    "        JOIN fdw_member_doc.emr_origin_bill_item bi ON bi.bill_id = b.id AND bi.deletion_time ISNULL\n",
    "        JOIN fdw_member_doc.emr_origin_visit_note vn ON vn.id = b.visit_note_id AND vn.deletion_time ISNULL\n",
    "        JOIN fdw_member_doc.emr_origin_bill_item_dx bidx ON bi.id = bidx.bill_item_id\n",
    "        JOIN fdw_member_doc.emr_origin_icd10 i ON i.id = bidx.icd10_id\n",
    "        JOIN fdw_member_doc.patients p ON p.emr_origin_patient_id = vn.patient_id\n",
    "        JOIN fdw_member_doc.payers pay ON p.payer_id = pay.id and pay.name ~* 'uhc' and pay.should_run_claiming\n",
    "\n",
    "    WHERE\n",
    "          p.payer_id IN (2, 4, 5, 6)\n",
    "      AND vn.signed_by_user_id IS NOT NULL\n",
    "      AND vn.signed_time IS NOT NULL\n",
    "      AND vn.signed_time >= '{from_date}'\n",
    "    GROUP BY\n",
    "        1\n",
    ")\n",
    "  , encounter_ra_cpt AS (\n",
    "    SELECT\n",
    "        b.id                                                    elation_bill_id\n",
    "      , UPPER(bi.cpt)                                           procedure_code\n",
    "      , ROW_NUMBER() OVER (PARTITION BY b.id ORDER BY bi.seqno) rn\n",
    "    FROM\n",
    "        fdw_member_doc.emr_origin_bill b\n",
    "        JOIN encounter_icds ei ON ei.elation_bill_id = b.id\n",
    "        JOIN fdw_member_doc.emr_origin_bill_item bi ON bi.bill_id = b.id AND bi.deletion_time ISNULL\n",
    "        JOIN fdw_member_doc.procedure_codes pc ON pc.code = bi.cpt AND pc.is_valid_for_hccs\n",
    "), pre_medicare_filter_list as (\n",
    "    SELECT\n",
    "        b.id                                         elation_bill_id\n",
    "      , p.first_name                                 patient_first_name\n",
    "      , p.last_name                                  patient_last_name\n",
    "      , p.dob                                        patient_dob\n",
    "      , coalesce(mbi, trim(gm.medicare_no))          mbi -- DO WE WANT TO DO THIS or should this be NULL if it is not an MBI?\n",
    "      , p.subscriber_id                              member_id\n",
    "      , LEFT(p.gender, 1)                            gender\n",
    "      , vn.document_date ::DATE                      date_of_service\n",
    "      , emr_u.first_name                             provider_first_name\n",
    "      , emr_u.last_name                              provider_last_name\n",
    "      , emr_u.email                                  provider_email\n",
    "      , emr_u.npi                                    provider_npi\n",
    "      , ntc.medicare_specialty_code_int              medicare_specialty_code_int\n",
    "      , '84-2590508'                                 tax_id\n",
    "      , '02'                                         place_of_service\n",
    "    --   , b.place_of_service\n",
    "      , 'A'                                          ra_code\n",
    "      --, pa.line1                                     line1\n",
    "      --, pa.line2                                     line2\n",
    "      --, pa.city                                      city\n",
    "      --, pa.state                                     state\n",
    "      --, pa.postal_code                               postal_code\n",
    "      , ecpt.procedure_code                          procedure_code\n",
    "      , ei.icds                                      icds\n",
    "      , p.analytics_member_id\n",
    "      , p.id golgi_id\n",
    "    FROM\n",
    "        fdw_member_doc.emr_origin_bill b\n",
    "        JOIN encounter_icds ei ON ei.elation_bill_id = b.id\n",
    "        JOIN encounter_ra_cpt ecpt ON ei.elation_bill_id = ecpt.elation_bill_id AND ecpt.rn = 1\n",
    "        JOIN fdw_member_doc.emr_origin_visit_note vn ON vn.id = b.visit_note_id AND vn.deletion_time ISNULL\n",
    "        JOIN fdw_member_doc.emr_origin_user emr_u ON emr_u.id = vn.physician_user_id\n",
    "        LEFT JOIN fdw_member_doc.provider_taxonomy_codes ptc ON ptc.npi = emr_u.npi\n",
    "        LEFT JOIN ref.npi_taxonomy_crosswalk ntc ON ntc.provider_taxonomy_code = ptc.taxonomy_code\n",
    "        JOIN fdw_member_doc.patients p ON p.emr_origin_patient_id = vn.patient_id\n",
    "        left JOIN good_mbi gm ON gm.analytics_member_id = p.analytics_member_id and mbi IS NOT NULL\n",
    "        -- left JOIN fdw_member_doc.analytics_patients ap ON p.analytics_member_id = ap.analytics_member_id\n",
    "        -- JOIN fdw_member_doc.patient_addresses pa ON p.id = pa.patient_id -- 1-1 for now, careful for future!\n",
    "    WHERE\n",
    "          p.payer_id IN (2, 4, 5, 6)\n",
    "      AND vn.signed_by_user_id IS NOT NULL\n",
    "      AND vn.signed_time IS NOT NULL\n",
    "      -- AND ap.line_of_business_name != 'medicaid'\n",
    "    ORDER BY\n",
    "        vn.document_date::DATE\n",
    "),\n",
    "ever_medicare as (\n",
    "    select\n",
    "        distinct pl.analytics_member_id, pl.golgi_id\n",
    "    from\n",
    "        (select distinct analytics_member_id, golgi_id from pre_medicare_filter_list x) pl\n",
    "        join cb.members m on m.id = pl.analytics_member_id\n",
    "        join cb.eligibility_days ed on ed.member_id = pl.analytics_member_id and ed.mco_id = m.mco_id and ed.line_of_business_id in (2,3)\n",
    "),\n",
    "one_address as (\n",
    "    select * from (\n",
    "        select\n",
    "            pa.*,\n",
    "            row_number() over (partition by em.golgi_id order by case when pa.type = 'home' then '1' else pa.type end asc) rn\n",
    "        from\n",
    "            ever_medicare em\n",
    "            JOIN fdw_member_doc.patient_addresses pa ON em.golgi_id = pa.patient_id\n",
    "    ) addr\n",
    "    where addr.rn = 1\n",
    ")\n",
    "select\n",
    "    pml.elation_bill_id,\n",
    "    pml.patient_first_name,\n",
    "    pml.patient_last_name,\n",
    "    pml.patient_dob,\n",
    "    pml.mbi,\n",
    "    pml.member_id,\n",
    "    pml.gender,\n",
    "    pml.date_of_service,\n",
    "    pml.provider_first_name,\n",
    "    pml.provider_last_name,\n",
    "    pml.provider_email,\n",
    "    pml.provider_npi,\n",
    "    pml.medicare_specialty_code_int,\n",
    "    pml.tax_id,\n",
    "    pml.place_of_service,\n",
    "    pml.ra_code,\n",
    "    oa.line1,\n",
    "    oa.line2,\n",
    "    oa.city,\n",
    "    oa.state,\n",
    "    oa.postal_code,\n",
    "    pml.procedure_code,\n",
    "    pml.icds\n",
    "from\n",
    "    pre_medicare_filter_list pml\n",
    "    join ever_medicare em on em.analytics_member_id = pml.analytics_member_id\n",
    "    join one_address oa on oa.patient_id = pml.golgi_id\n",
    ";\n",
    "\"\"\""
   ]
  },
  {
   "cell_type": "code",
   "execution_count": 7,
   "metadata": {},
   "outputs": [
    {
     "name": "stdout",
     "output_type": "stream",
     "text": [
      "Pulling query from db\n"
     ]
    }
   ],
   "source": [
    "df = cb_utils.sql_query_to_df(query, use_cache=use_cache)"
   ]
  },
  {
   "cell_type": "code",
   "execution_count": 8,
   "metadata": {},
   "outputs": [
    {
     "data": {
      "text/plain": [
       "(6711, 23)"
      ]
     },
     "execution_count": 8,
     "metadata": {},
     "output_type": "execute_result"
    }
   ],
   "source": [
    "df.shape # 4609 -> 6954"
   ]
  },
  {
   "cell_type": "code",
   "execution_count": 9,
   "metadata": {},
   "outputs": [
    {
     "data": {
      "text/plain": [
       "(3855, 3862)"
      ]
     },
     "execution_count": 9,
     "metadata": {},
     "output_type": "execute_result"
    }
   ],
   "source": [
    "df.mbi.nunique(),  df.member_id.nunique()"
   ]
  },
  {
   "cell_type": "code",
   "execution_count": 10,
   "metadata": {},
   "outputs": [
    {
     "data": {
      "text/html": [
       "<div>\n",
       "<style scoped>\n",
       "    .dataframe tbody tr th:only-of-type {\n",
       "        vertical-align: middle;\n",
       "    }\n",
       "\n",
       "    .dataframe tbody tr th {\n",
       "        vertical-align: top;\n",
       "    }\n",
       "\n",
       "    .dataframe thead th {\n",
       "        text-align: right;\n",
       "    }\n",
       "</style>\n",
       "<table border=\"1\" class=\"dataframe\">\n",
       "  <thead>\n",
       "    <tr style=\"text-align: right;\">\n",
       "      <th></th>\n",
       "      <th>elation_bill_id</th>\n",
       "      <th>patient_first_name</th>\n",
       "      <th>patient_last_name</th>\n",
       "      <th>patient_dob</th>\n",
       "      <th>mbi</th>\n",
       "      <th>member_id</th>\n",
       "      <th>gender</th>\n",
       "      <th>date_of_service</th>\n",
       "      <th>provider_first_name</th>\n",
       "      <th>provider_last_name</th>\n",
       "      <th>provider_email</th>\n",
       "      <th>provider_npi</th>\n",
       "      <th>medicare_specialty_code_int</th>\n",
       "      <th>tax_id</th>\n",
       "      <th>place_of_service</th>\n",
       "      <th>ra_code</th>\n",
       "      <th>line1</th>\n",
       "      <th>line2</th>\n",
       "      <th>city</th>\n",
       "      <th>state</th>\n",
       "      <th>postal_code</th>\n",
       "      <th>procedure_code</th>\n",
       "      <th>icds</th>\n",
       "    </tr>\n",
       "  </thead>\n",
       "  <tbody>\n",
       "    <tr>\n",
       "      <th>0</th>\n",
       "      <td>599715650928796</td>\n",
       "      <td>Elizabeth</td>\n",
       "      <td>Gallon</td>\n",
       "      <td>1951-03-27</td>\n",
       "      <td>8HH0UU4DN45</td>\n",
       "      <td>112236294</td>\n",
       "      <td>F</td>\n",
       "      <td>2023-05-03</td>\n",
       "      <td>Kathy</td>\n",
       "      <td>Agiri</td>\n",
       "      <td>kathy.agiri@carebridgehealth.com</td>\n",
       "      <td>1619328531</td>\n",
       "      <td>50</td>\n",
       "      <td>84-2590508</td>\n",
       "      <td>02</td>\n",
       "      <td>A</td>\n",
       "      <td>7486 E Holmes Rd</td>\n",
       "      <td>None</td>\n",
       "      <td>Memphis</td>\n",
       "      <td>TN</td>\n",
       "      <td>38125</td>\n",
       "      <td>99213</td>\n",
       "      <td>[N39.0, R05.9]</td>\n",
       "    </tr>\n",
       "    <tr>\n",
       "      <th>1</th>\n",
       "      <td>493387270586524</td>\n",
       "      <td>Edith</td>\n",
       "      <td>Schlayer</td>\n",
       "      <td>1950-03-08</td>\n",
       "      <td>7GJ5T84QD50</td>\n",
       "      <td>106299767</td>\n",
       "      <td>F</td>\n",
       "      <td>2022-07-25</td>\n",
       "      <td>Jessica</td>\n",
       "      <td>Flippo</td>\n",
       "      <td>jessica.flippo@carebridgehealth.com</td>\n",
       "      <td>1194221317</td>\n",
       "      <td>50</td>\n",
       "      <td>84-2590508</td>\n",
       "      <td>02</td>\n",
       "      <td>A</td>\n",
       "      <td>601 E BARTON RIDGE RD</td>\n",
       "      <td>Apt 102</td>\n",
       "      <td>GREENEVILLE</td>\n",
       "      <td>TN</td>\n",
       "      <td>37745</td>\n",
       "      <td>99212</td>\n",
       "      <td>[E66.01, I50.9, E26.1, E11.42, E11.42, E11.51,...</td>\n",
       "    </tr>\n",
       "    <tr>\n",
       "      <th>2</th>\n",
       "      <td>600248033345692</td>\n",
       "      <td>Edith</td>\n",
       "      <td>Schlayer</td>\n",
       "      <td>1950-03-08</td>\n",
       "      <td>7GJ5T84QD50</td>\n",
       "      <td>106299767</td>\n",
       "      <td>F</td>\n",
       "      <td>2023-05-04</td>\n",
       "      <td>Leanne</td>\n",
       "      <td>Balmer</td>\n",
       "      <td>Leanne.Balmer@carebridgehealth.com</td>\n",
       "      <td>1629335120</td>\n",
       "      <td>50</td>\n",
       "      <td>84-2590508</td>\n",
       "      <td>02</td>\n",
       "      <td>A</td>\n",
       "      <td>601 E BARTON RIDGE RD</td>\n",
       "      <td>Apt 102</td>\n",
       "      <td>GREENEVILLE</td>\n",
       "      <td>TN</td>\n",
       "      <td>37745</td>\n",
       "      <td>98966</td>\n",
       "      <td>[Z51.89]</td>\n",
       "    </tr>\n",
       "    <tr>\n",
       "      <th>3</th>\n",
       "      <td>556769413890204</td>\n",
       "      <td>Thomas</td>\n",
       "      <td>Hayes</td>\n",
       "      <td>1982-10-25</td>\n",
       "      <td>6AH0C76FQ17</td>\n",
       "      <td>112236182</td>\n",
       "      <td>M</td>\n",
       "      <td>2023-01-17</td>\n",
       "      <td>Jessica</td>\n",
       "      <td>Flippo</td>\n",
       "      <td>jessica.flippo@carebridgehealth.com</td>\n",
       "      <td>1194221317</td>\n",
       "      <td>50</td>\n",
       "      <td>84-2590508</td>\n",
       "      <td>02</td>\n",
       "      <td>A</td>\n",
       "      <td>2242 DRY VALLEY RD</td>\n",
       "      <td>None</td>\n",
       "      <td>THORN HILL</td>\n",
       "      <td>TN</td>\n",
       "      <td>37881</td>\n",
       "      <td>99214</td>\n",
       "      <td>[S24.153S, G82.22, M62.838, N31.9]</td>\n",
       "    </tr>\n",
       "    <tr>\n",
       "      <th>4</th>\n",
       "      <td>498085003657372</td>\n",
       "      <td>Betty</td>\n",
       "      <td>Ray</td>\n",
       "      <td>1937-03-16</td>\n",
       "      <td>7QY0U85FJ05</td>\n",
       "      <td>106297839</td>\n",
       "      <td>F</td>\n",
       "      <td>2022-08-05</td>\n",
       "      <td>Lacey</td>\n",
       "      <td>Bolden</td>\n",
       "      <td>lacey.bolden@carebridgehealth.com</td>\n",
       "      <td>1740410703</td>\n",
       "      <td>50</td>\n",
       "      <td>84-2590508</td>\n",
       "      <td>02</td>\n",
       "      <td>A</td>\n",
       "      <td>2114 DUNCAN AVE</td>\n",
       "      <td>None</td>\n",
       "      <td>CHATTANOOGA</td>\n",
       "      <td>TN</td>\n",
       "      <td>37404</td>\n",
       "      <td>98966</td>\n",
       "      <td>[Z51.89]</td>\n",
       "    </tr>\n",
       "  </tbody>\n",
       "</table>\n",
       "</div>"
      ],
      "text/plain": [
       "   elation_bill_id patient_first_name patient_last_name patient_dob  \\\n",
       "0  599715650928796          Elizabeth            Gallon  1951-03-27   \n",
       "1  493387270586524              Edith          Schlayer  1950-03-08   \n",
       "2  600248033345692              Edith          Schlayer  1950-03-08   \n",
       "3  556769413890204             Thomas             Hayes  1982-10-25   \n",
       "4  498085003657372              Betty               Ray  1937-03-16   \n",
       "\n",
       "           mbi  member_id gender date_of_service provider_first_name  \\\n",
       "0  8HH0UU4DN45  112236294      F      2023-05-03               Kathy   \n",
       "1  7GJ5T84QD50  106299767      F      2022-07-25             Jessica   \n",
       "2  7GJ5T84QD50  106299767      F      2023-05-04              Leanne   \n",
       "3  6AH0C76FQ17  112236182      M      2023-01-17             Jessica   \n",
       "4  7QY0U85FJ05  106297839      F      2022-08-05               Lacey   \n",
       "\n",
       "  provider_last_name                       provider_email provider_npi  \\\n",
       "0              Agiri     kathy.agiri@carebridgehealth.com   1619328531   \n",
       "1             Flippo  jessica.flippo@carebridgehealth.com   1194221317   \n",
       "2             Balmer   Leanne.Balmer@carebridgehealth.com   1629335120   \n",
       "3             Flippo  jessica.flippo@carebridgehealth.com   1194221317   \n",
       "4             Bolden    lacey.bolden@carebridgehealth.com   1740410703   \n",
       "\n",
       "   medicare_specialty_code_int      tax_id place_of_service ra_code  \\\n",
       "0                           50  84-2590508               02       A   \n",
       "1                           50  84-2590508               02       A   \n",
       "2                           50  84-2590508               02       A   \n",
       "3                           50  84-2590508               02       A   \n",
       "4                           50  84-2590508               02       A   \n",
       "\n",
       "                    line1    line2         city state postal_code  \\\n",
       "0        7486 E Holmes Rd     None      Memphis    TN       38125   \n",
       "1   601 E BARTON RIDGE RD  Apt 102  GREENEVILLE    TN       37745   \n",
       "2   601 E BARTON RIDGE RD  Apt 102  GREENEVILLE    TN       37745   \n",
       "3     2242 DRY VALLEY RD      None   THORN HILL    TN       37881   \n",
       "4       2114 DUNCAN AVE       None  CHATTANOOGA    TN       37404   \n",
       "\n",
       "  procedure_code                                               icds  \n",
       "0          99213                                     [N39.0, R05.9]  \n",
       "1          99212  [E66.01, I50.9, E26.1, E11.42, E11.42, E11.51,...  \n",
       "2          98966                                           [Z51.89]  \n",
       "3          99214                 [S24.153S, G82.22, M62.838, N31.9]  \n",
       "4          98966                                           [Z51.89]  "
      ]
     },
     "execution_count": 10,
     "metadata": {},
     "output_type": "execute_result"
    }
   ],
   "source": [
    "df.head()"
   ]
  },
  {
   "cell_type": "code",
   "execution_count": 11,
   "metadata": {},
   "outputs": [],
   "source": [
    "# dupe check\n",
    "assert df.elation_bill_id.nunique() == df.shape[0]"
   ]
  },
  {
   "cell_type": "code",
   "execution_count": 12,
   "metadata": {},
   "outputs": [],
   "source": [
    "# icd check\n",
    "assert df.loc[df.icds.isna()].shape[0] == 0"
   ]
  },
  {
   "cell_type": "code",
   "execution_count": 13,
   "metadata": {},
   "outputs": [],
   "source": [
    "# if more than 40 we need to duplicate the row and add the additional icds on the dupe row\n",
    "# currently not coded up because the situation doesn't exist\n",
    "assert df.icds.apply(lambda x: x if x is None else len(set(x))).max() <= 40"
   ]
  },
  {
   "cell_type": "markdown",
   "metadata": {},
   "source": [
    "#### Pad dx list col to 40"
   ]
  },
  {
   "cell_type": "code",
   "execution_count": null,
   "metadata": {},
   "outputs": [],
   "source": [
    "def pad_dx_col(icds):\n",
    "    if icds is None:\n",
    "        return [None] * 40\n",
    "    \n",
    "    icds = [i.replace('.', '') for i in set(icds)]\n",
    "    \n",
    "    if len(icds) < 40:\n",
    "        return icds + [None] * (40 - len(icds))\n",
    "    return icds\n",
    "    \n",
    "    \n",
    "df.icds = df.icds.apply(pad_dx_col)"
   ]
  },
  {
   "cell_type": "markdown",
   "metadata": {},
   "source": [
    "### Format dates"
   ]
  },
  {
   "cell_type": "code",
   "execution_count": null,
   "metadata": {},
   "outputs": [],
   "source": [
    "df.date_of_service = pd.to_datetime(df.date_of_service).dt.strftime('%m/%d/%Y')\n",
    "df.patient_dob = pd.to_datetime(df.patient_dob).dt.strftime('%m/%d/%Y')"
   ]
  },
  {
   "cell_type": "markdown",
   "metadata": {},
   "source": [
    "### Build rows"
   ]
  },
  {
   "cell_type": "code",
   "execution_count": null,
   "metadata": {},
   "outputs": [],
   "source": [
    "def build_file_row(i, row):\n",
    "    return [\n",
    "        'DTL', # seg type\n",
    "        row.elation_bill_id, # ref #\n",
    "        row.patient_last_name,\n",
    "        row.patient_first_name,\n",
    "        None, # MI\n",
    "        row.patient_dob,\n",
    "        row.member_id if row.mbi is None else None, # member id\n",
    "        None, # 'Retrieval NPI (Internal Use)',\n",
    "        row.gender, # 'GENDER',\n",
    "        None, # 'STATE CODE',\n",
    "        row.mbi, # 'MBI-  need either member ID or MBI',\n",
    "        row.date_of_service, # 'FDOS',\n",
    "        row.date_of_service, # 'TDOS',\n",
    "        None, # 'BILL TYPE- Institutional Only',\n",
    "        None, # 'NU Indicator (Internal Use)',\n",
    "        None, # 'PROV ID',\n",
    "        row.provider_npi, # 'NPI',\n",
    "        None, # 'PROV TYPE',\n",
    "        None, # 'FACILITY NM- required for Institutional',\n",
    "        row.provider_last_name, # 'PROV LAST NAME- Required for Professional',\n",
    "        row.provider_first_name, # 'PROV FIRST NAME- required for Professional',\n",
    "        f'{row.medicare_specialty_code_int}', # 'CMS SPECIALTY- Required for Professional',\n",
    "        row.tax_id, # 'TAX ID',\n",
    "        row.procedure_code, # 'CPT- Professional and Hospital Outpatient only',\n",
    "        None, # 'REV CODE - Required for Institutional',\n",
    "        None, # 'SERVICE FDOS',\n",
    "        None, # 'SERVICE TDOS',\n",
    "        row.place_of_service, # 'POS- Professional only',\n",
    "        '0', # 'ICD INDIC',\n",
    "        row.ra_code, # 'RA Code- Required for Professional',\n",
    "        None, # 'Chart Barcode (Internal Use)',\n",
    "        None, # 'Chart Enc Key (Internal Use)',\n",
    "        None, # 'Chart DX Key  (Internal Use)',\n",
    "        None, # 'Contract ID (Tufts use only)',\n",
    "        row.line1, # 'Mem Street Address ',\n",
    "        row.line2, # 'Mem Address 2',\n",
    "        row.city, # 'Mem City',\n",
    "        row.state, # 'Mem State',\n",
    "        row.postal_code, # 'Mem Zip Code',\n",
    "        None, # 'CLAIMID/PCN', -- This would link it to an existing claim and make it a resubmit\n",
    "    ] + row.icds\n",
    "\n",
    "rows = []\n",
    "for i, row in df.iterrows():\n",
    "    rows.append(build_file_row(i, row))"
   ]
  },
  {
   "cell_type": "markdown",
   "metadata": {},
   "source": [
    "### Add header and footer rows"
   ]
  },
  {
   "cell_type": "code",
   "execution_count": null,
   "metadata": {},
   "outputs": [],
   "source": [
    "n_rows, n_columns = len(rows), len(rows[0])\n",
    "# 100k limit per file\n",
    "assert n_rows <= 100000\n",
    "\n",
    "training_partner_id = '00795'\n",
    "file_name = f'{training_partner_id}_UHC_ASMP_DIRECT_{datetime.now().strftime(\"%Y%m%d%H%M%S\")}.txt'\n",
    "\n",
    "header_vals = [\n",
    "    'HDR',\n",
    "    '8.9',\n",
    "    training_partner_id,\n",
    "    file_name,\n",
    "    'UHC',\n",
    "    'DIRECT',\n",
    "    'P',\n",
    "    'Y'\n",
    "]\n",
    "header_vals = header_vals + [None] * (n_columns - len(header_vals))\n",
    "footer_vals = [\n",
    "    'TRL',\n",
    "    training_partner_id,\n",
    "    n_rows\n",
    "]\n",
    "footer_vals = footer_vals + [None] * (n_columns - len(footer_vals))"
   ]
  },
  {
   "cell_type": "code",
   "execution_count": null,
   "metadata": {},
   "outputs": [],
   "source": [
    "rows.insert(0, header_vals)\n",
    "rows.append(footer_vals)"
   ]
  },
  {
   "cell_type": "markdown",
   "metadata": {},
   "source": [
    "### Build File"
   ]
  },
  {
   "cell_type": "code",
   "execution_count": null,
   "metadata": {},
   "outputs": [],
   "source": [
    "dx_cols = [f'DX_{i}' for i in range(40)]\n",
    "columns = [\n",
    "    'SEG TYPE',\n",
    "    'REF #',\n",
    "    'LAST NAME',\n",
    "    'FIRST NAME',\n",
    "    'MI',\n",
    "    'DOB',\n",
    "    'MEMBER ID- need either member ID or MBI',\n",
    "    'Retrieval NPI (Internal Use)',\n",
    "    'GENDER',\n",
    "    'STATE CODE',\n",
    "    'MBI-  need either member ID or MBI',\n",
    "    'FDOS',\n",
    "    'TDOS',\n",
    "    'BILL TYPE- Institutional Only',\n",
    "    'NU Indicator (Internal Use)',\n",
    "    'PROV ID',\n",
    "    'NPI',\n",
    "    'PROV TYPE',\n",
    "    'FACILITY NM- required for Institutional',\n",
    "    'PROV LAST NAME- Required for Professional',\n",
    "    'PROV FIRST NAME- required for Professional',\n",
    "    'CMS SPECIALTY- Required for Professional',\n",
    "    'TAX ID',\n",
    "    'CPT- Professional and Hospital Outpatient only',\n",
    "    'REV CODE - Required for Institutional',\n",
    "    'SERVICE FDOS',\n",
    "    'SERVICE TDOS',\n",
    "    'POS- Professional only',\n",
    "    'ICD INDIC',\n",
    "    'RA Code- Required for Professional',\n",
    "    'Chart Barcode (Internal Use)',\n",
    "    'Chart Enc Key (Internal Use)',\n",
    "    'Chart DX Key  (Internal Use)',\n",
    "    'Contract ID (Tufts use only)',\n",
    "    'Mem Street Address ',\n",
    "    'Mem Address 2',\n",
    "    'Mem City',\n",
    "    'Mem State',\n",
    "    'Mem Zip Code',\n",
    "    'CLAIMID/PCN',\n",
    "] + dx_cols"
   ]
  },
  {
   "cell_type": "code",
   "execution_count": null,
   "metadata": {},
   "outputs": [],
   "source": [
    "file_df = pd.DataFrame(rows, columns=columns)"
   ]
  },
  {
   "cell_type": "code",
   "execution_count": null,
   "metadata": {},
   "outputs": [],
   "source": [
    "file_df.head(20)"
   ]
  },
  {
   "cell_type": "code",
   "execution_count": null,
   "metadata": {},
   "outputs": [],
   "source": [
    "file_df.to_csv(f'./data/{file_name}', sep='|', index=False, header=False)"
   ]
  },
  {
   "cell_type": "code",
   "execution_count": null,
   "metadata": {},
   "outputs": [],
   "source": [
    "file_name"
   ]
  },
  {
   "cell_type": "code",
   "execution_count": null,
   "metadata": {},
   "outputs": [],
   "source": [
    "'Hel O'"
   ]
  },
  {
   "cell_type": "markdown",
   "metadata": {},
   "source": [
    "### response"
   ]
  },
  {
   "cell_type": "code",
   "execution_count": null,
   "metadata": {},
   "outputs": [],
   "source": [
    "import re\n",
    "\n",
    "cols = [re.sub('[^0-9a-zA-Z]+', '_', c.lower()) for c in columns+['err_id', 'error']]\n",
    "df = pd.read_csv('/Users/bp/workspace/cb/data/00795_UHC_ASMP_DIRECT_20220328162146_RESUB1.txt',\n",
    "                 sep='|', header=None, skipfooter=1, skiprows=1, names=cols, engine='python'\n",
    "                )\n",
    "df.head()\n"
   ]
  },
  {
   "cell_type": "code",
   "execution_count": null,
   "metadata": {},
   "outputs": [],
   "source": [
    "df.error.value_counts()"
   ]
  },
  {
   "cell_type": "code",
   "execution_count": null,
   "metadata": {},
   "outputs": [],
   "source": [
    "# HDR|8.9|00795|00795_UHC_ASMP_DIRECT_20220328162146_RESUB1.txt|UHC|DIRECT|P|Y"
   ]
  },
  {
   "cell_type": "code",
   "execution_count": null,
   "metadata": {},
   "outputs": [],
   "source": [
    "df.loc[df.error == 'err18-Blank MemberID; err40-Member not found in plan membership;']"
   ]
  },
  {
   "cell_type": "code",
   "execution_count": null,
   "metadata": {},
   "outputs": [],
   "source": [
    "df.to_csv('/Users/bp/Downloads/uhc_supp_file_errors.csv', index=False)"
   ]
  },
  {
   "cell_type": "code",
   "execution_count": null,
   "metadata": {},
   "outputs": [],
   "source": []
  }
 ],
 "metadata": {
  "kernelspec": {
   "display_name": "Python 3 (ipykernel)",
   "language": "python",
   "name": "python3"
  },
  "language_info": {
   "codemirror_mode": {
    "name": "ipython",
    "version": 3
   },
   "file_extension": ".py",
   "mimetype": "text/x-python",
   "name": "python",
   "nbconvert_exporter": "python",
   "pygments_lexer": "ipython3",
   "version": "3.10.8"
  }
 },
 "nbformat": 4,
 "nbformat_minor": 4
}
