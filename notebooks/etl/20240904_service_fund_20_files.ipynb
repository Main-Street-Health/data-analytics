{
 "cells": [
  {
   "cell_type": "code",
   "execution_count": 1,
   "id": "39494305-5cba-421d-9de8-dc19abaf685e",
   "metadata": {},
   "outputs": [],
   "source": [
    "import os\n",
    "import sys\n",
    "import re\n",
    "import time\n",
    "import random\n",
    "import warnings\n",
    "import collections\n",
    "from tqdm import tqdm\n",
    "import numpy as np\n",
    "import pandas as pd\n",
    "import matplotlib.pyplot as plt\n",
    "import matplotlib.gridspec as gridspec\n",
    "import seaborn as sns\n",
    "\n",
    "sys.path.append('../../src')\n",
    "import cb_utils\n",
    "\n",
    "sns.set(style=\"darkgrid\")\n",
    "pd.options.display.max_columns = 500\n",
    "\n",
    "%load_ext autoreload\n",
    "%autoreload 2"
   ]
  },
  {
   "cell_type": "markdown",
   "id": "2529f94e-739c-44c3-b29e-46caf7b10032",
   "metadata": {},
   "source": [
    "# Service Fund etl one off"
   ]
  },
  {
   "cell_type": "markdown",
   "id": "44215ce0-432e-4587-84b8-a042cd97819e",
   "metadata": {},
   "source": [
    "### Config"
   ]
  },
  {
   "cell_type": "code",
   "execution_count": 2,
   "id": "32367e78-9b95-4d7f-9a6f-791f100c15a4",
   "metadata": {},
   "outputs": [],
   "source": [
    "data_dir = '/Users/bp/workspace/msh/service_fund_data'\n",
    "current_folder = '20240904'\n",
    "# pro_file_name = 'ACO Builder MSSP Prospective Explorer v2025.3.txt'\n",
    "# retro_file_name = 'ACO Builder MSSP Retrospective Explorer v2025.3.txt'\n",
    "table_prefix = 'sf_data'"
   ]
  },
  {
   "cell_type": "code",
   "execution_count": 11,
   "id": "5872f1dd-d229-4c38-9327-87ec3a2bf12e",
   "metadata": {},
   "outputs": [
    {
     "data": {
      "text/plain": [
       "['TX_TX0185252_MCR_TCOC_RX_CLAIM_FILE_2024_20240814_331.csv',\n",
       " 'AR_AR0185420_MCR_TCOC_CAPITATION_FILE_2024_20240814_332.csv',\n",
       " 'AR_AR0185420_MCR_TCOC_RX_CLAIM_FILE_2024_20240814_332.csv',\n",
       " 'AR_AR0185420_MCR_TCOC_MED_CLAIMS_FILE_2024_20240814_332.csv',\n",
       " 'TX_TX0185252_MCR_TCOC_MED_CLAIMS_FILE_2024_20240814_331.csv',\n",
       " 'TX_TX0185252_MCR_TCOC_MEMBER_ELIG_MMR_FILE_2024_20240814_331.csv',\n",
       " 'TX_TX0185252_MCR_TCOC_CAPITATION_FILE_2024_20240814_331.csv',\n",
       " 'AR_AR0185420_MCR_TCOC_OTHER_ADJUSTMENTS_FILE_2023_20240814_332.csv',\n",
       " 'AR_AR0185420_MCR_TCOC_MEMBER_ELIG_MMR_FILE_2024_20240814_332.csv',\n",
       " 'TX_TX0185252_MCR_TCOC_OTHER_ADJUSTMENTS_FILE_2024_20240814_331.csv',\n",
       " 'TX_TX0185252_MCR_TCOC_CAPITATION_FILE_2023_20240814_331.csv',\n",
       " 'AR_AR0185420_MCR_TCOC_OTHER_ADJUSTMENTS_FILE_2024_20240814_332.csv',\n",
       " 'TX_TX0185252_MCR_TCOC_MEMBER_ELIG_MMR_FILE_2023_20240814_331.csv',\n",
       " 'AR_AR0185420_MCR_TCOC_MEMBER_ELIG_MMR_FILE_2023_20240814_332.csv',\n",
       " 'TX_TX0185252_MCR_TCOC_OTHER_ADJUSTMENTS_FILE_2023_20240814_331.csv',\n",
       " 'TX_TX0185252_MCR_TCOC_MED_CLAIMS_FILE_2023_20240814_331.csv',\n",
       " 'AR_AR0185420_MCR_TCOC_MED_CLAIMS_FILE_2023_20240814_332.csv',\n",
       " 'TX_TX0185252_MCR_TCOC_RX_CLAIM_FILE_2023_20240814_331.csv',\n",
       " 'AR_AR0185420_MCR_TCOC_RX_CLAIM_FILE_2023_20240814_332.csv',\n",
       " 'AR_AR0185420_MCR_TCOC_CAPITATION_FILE_2023_20240814_332.csv']"
      ]
     },
     "execution_count": 11,
     "metadata": {},
     "output_type": "execute_result"
    }
   ],
   "source": [
    "files = [f for f in os.listdir(f'{data_dir}/{current_folder}') if f != '.DS_Store']\n",
    "files"
   ]
  },
  {
   "cell_type": "code",
   "execution_count": 57,
   "id": "fa3a1e30-f766-4010-a043-273dcb9fce76",
   "metadata": {},
   "outputs": [
    {
     "data": {
      "text/plain": [
       "'MCR_TCOC_20240814_ar_ar0185420_other_adjustments_2023_20240814_332'"
      ]
     },
     "execution_count": 57,
     "metadata": {},
     "output_type": "execute_result"
    }
   ],
   "source": [
    "'MCR_TCOC_' + 'MCR_TCOC_20240814_AR_AR0185420_OTHER_ADJUSTMENTS_FILE_2023_20240814_332'.replace('MCR_TCOC_', '').replace('.csv', '').replace('FILE_', '').lower()"
   ]
  },
  {
   "cell_type": "code",
   "execution_count": 59,
   "id": "1920cc72-ff8a-4eea-b5e4-2a11fe8c473d",
   "metadata": {},
   "outputs": [
    {
     "data": {
      "text/plain": [
       "['TX_TX0185252_MCR_TCOC_OTHER_ADJUSTMENTS_FILE_2024_20240814_331.csv',\n",
       " 'TX_TX0185252_MCR_TCOC_CAPITATION_FILE_2023_20240814_331.csv',\n",
       " 'AR_AR0185420_MCR_TCOC_OTHER_ADJUSTMENTS_FILE_2024_20240814_332.csv',\n",
       " 'TX_TX0185252_MCR_TCOC_MEMBER_ELIG_MMR_FILE_2023_20240814_331.csv',\n",
       " 'AR_AR0185420_MCR_TCOC_MEMBER_ELIG_MMR_FILE_2023_20240814_332.csv',\n",
       " 'TX_TX0185252_MCR_TCOC_OTHER_ADJUSTMENTS_FILE_2023_20240814_331.csv',\n",
       " 'TX_TX0185252_MCR_TCOC_MED_CLAIMS_FILE_2023_20240814_331.csv',\n",
       " 'AR_AR0185420_MCR_TCOC_MED_CLAIMS_FILE_2023_20240814_332.csv',\n",
       " 'TX_TX0185252_MCR_TCOC_RX_CLAIM_FILE_2023_20240814_331.csv',\n",
       " 'AR_AR0185420_MCR_TCOC_RX_CLAIM_FILE_2023_20240814_332.csv',\n",
       " 'AR_AR0185420_MCR_TCOC_CAPITATION_FILE_2023_20240814_332.csv']"
      ]
     },
     "execution_count": 59,
     "metadata": {},
     "output_type": "execute_result"
    }
   ],
   "source": [
    "files[9:]"
   ]
  },
  {
   "cell_type": "code",
   "execution_count": 60,
   "id": "699121ec-98c5-4ac1-8542-552c9bbff995",
   "metadata": {},
   "outputs": [
    {
     "name": "stdout",
     "output_type": "stream",
     "text": [
      "select * from raw.mcr_tcoc_20240814_tx_tx0185252_capitation\n",
      "select * from raw.mcr_tcoc_20240814_ar_ar0185420_other_adjustments\n",
      "select * from raw.mcr_tcoc_20240814_tx_tx0185252_member_elig_mmr\n",
      "select * from raw.mcr_tcoc_20240814_ar_ar0185420_member_elig_mmr\n",
      "select * from raw.mcr_tcoc_20240814_tx_tx0185252_other_adjustments\n",
      "select * from raw.mcr_tcoc_20240814_tx_tx0185252_med_claims\n",
      "select * from raw.mcr_tcoc_20240814_ar_ar0185420_med_claims\n",
      "select * from raw.mcr_tcoc_20240814_tx_tx0185252_rx_claim\n",
      "select * from raw.mcr_tcoc_20240814_ar_ar0185420_rx_claim\n",
      "select * from raw.mcr_tcoc_20240814_ar_ar0185420_capitation\n"
     ]
    }
   ],
   "source": [
    "for f in files[10:]:\n",
    "    df = pd.read_csv(f'{data_dir}/{current_folder}/{f}', dtype=str)\n",
    "    df = cb_utils.df_format_columns(df) \n",
    "    table_name = ('MCR_TCOC_20240814_' + re.sub(r'_FILE_202._20240814_.*', '', f.replace('MCR_TCOC_', ''))).lower()\n",
    "    schema = 'raw'\n",
    "    print(f'select * from {schema}.{table_name}')\n",
    "    conn = cb_utils.get_engine(source='msh_analytics')\n",
    "    df.to_sql(table_name, conn, schema=schema, index=False, if_exists='append', method='multi', chunksize=1000) # , if_exists='replace'"
   ]
  },
  {
   "cell_type": "code",
   "execution_count": null,
   "id": "085e91b7-d29e-4c32-a834-660ab15dca97",
   "metadata": {},
   "outputs": [],
   "source": []
  },
  {
   "cell_type": "code",
   "execution_count": null,
   "id": "af946c7b-a778-4d0c-a3cd-57efb44ab73f",
   "metadata": {},
   "outputs": [],
   "source": []
  },
  {
   "cell_type": "code",
   "execution_count": null,
   "id": "303fdd76-e1b9-436b-b9d3-ddb2081805b8",
   "metadata": {},
   "outputs": [],
   "source": []
  },
  {
   "cell_type": "code",
   "execution_count": null,
   "id": "57ec33ee-be76-42b3-a786-499db1c430d7",
   "metadata": {},
   "outputs": [],
   "source": []
  },
  {
   "cell_type": "code",
   "execution_count": null,
   "id": "955ff192-255f-43fc-84cf-41014a4e0be2",
   "metadata": {},
   "outputs": [],
   "source": []
  }
 ],
 "metadata": {
  "kernelspec": {
   "display_name": "Python 3 (ipykernel)",
   "language": "python",
   "name": "python3"
  },
  "language_info": {
   "codemirror_mode": {
    "name": "ipython",
    "version": 3
   },
   "file_extension": ".py",
   "mimetype": "text/x-python",
   "name": "python",
   "nbconvert_exporter": "python",
   "pygments_lexer": "ipython3",
   "version": "3.10.8"
  }
 },
 "nbformat": 4,
 "nbformat_minor": 5
}
