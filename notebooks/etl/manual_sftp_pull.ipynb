{
 "cells": [
  {
   "cell_type": "code",
   "execution_count": 2,
   "metadata": {},
   "outputs": [],
   "source": [
    "import sys\n",
    "from time import sleep\n",
    "from time import time\n",
    "from pathlib import Path\n",
    "import paramiko\n",
    "from datetime import datetime\n",
    "from tqdm import tqdm\n",
    "from IPython.display import clear_output\n",
    "import boto3\n",
    "import pandas as pd\n",
    "import seaborn as sns\n",
    "\n",
    "sys.path.append('../src')\n",
    "import cb_utils"
   ]
  },
  {
   "cell_type": "code",
   "execution_count": null,
   "metadata": {},
   "outputs": [],
   "source": [
    "def get_dev_ssh_client(env='dev'):\n",
    "    secrets = cb_utils.get_secrets()\n",
    "\n",
    "    client = paramiko.SSHClient()\n",
    "    client.set_missing_host_key_policy(paramiko.AutoAddPolicy())\n",
    "    client.connect(\n",
    "        hostname=secrets[f'{env}_sftp_hostname'],\n",
    "        username=secrets[f'{env}_sftp_username'],\n",
    "        password=secrets[f'{env}_sftp_password']\n",
    "    )\n",
    "    return client"
   ]
  },
  {
   "cell_type": "code",
   "execution_count": null,
   "metadata": {},
   "outputs": [],
   "source": [
    "def list_files(client, path='/home/csc-xx-dev/input/'):\n",
    "    # PUll files that haven't been edited in the past hour to prevent pulling file that is being written to\n",
    "    stdin,stdout,stderr = client.exec_command(f'sudo find {path} -cmin +60 -type f -maxdepth 1')\n",
    "\n",
    "    files = []\n",
    "    for i in stdout:\n",
    "        files.append(i.strip())\n",
    "    return files"
   ]
  },
  {
   "cell_type": "code",
   "execution_count": null,
   "metadata": {},
   "outputs": [],
   "source": [
    "def print_files(i, files, times):\n",
    "    clear_output(wait=True)\n",
    "    for j, (f, t) in enumerate(zip(files, times)):\n",
    "        if j < i:\n",
    "            print(f'Processed: {t:.2f}s {f}')\n",
    "        elif j == i:\n",
    "            print('Processing ', f)\n",
    "        else:\n",
    "            print('TODO: ', f)\n",
    "\n",
    "def pull_files(client, files, client_name='csc-xx-dev', debug=False):\n",
    "    sftp = client.open_sftp()\n",
    "    now = datetime.today().strftime('%Y%m%d_%H%M%S')\n",
    "    times = [0 for _ in files]\n",
    "    local_files = []\n",
    "\n",
    "    \n",
    "    if debug:\n",
    "        print(f'Pulling {len(files)} files for {client_name}')\n",
    "    for i, file in enumerate(files): \n",
    "        s = time()\n",
    "        if debug:\n",
    "            print_files(i, files, times)       \n",
    "\n",
    "        file_path = Path(file)\n",
    "        file_name = file_path.name\n",
    "        file_dir = Path(f'../data/{client_name}/{now}')\n",
    "        file_dir.mkdir(parents=True, exist_ok=True)\n",
    "        local_path = Path(file_dir, file_name)\n",
    "        \n",
    "        sftp.get(f'{file}', local_path)\n",
    "        \n",
    "        local_files.append(local_path)\n",
    "        times[i] = time() - s\n",
    "\n",
    "    if debug:\n",
    "        print_files(i+1, files, times)\n",
    "    return local_files"
   ]
  },
  {
   "cell_type": "code",
   "execution_count": null,
   "metadata": {},
   "outputs": [],
   "source": [
    "client = get_dev_ssh_client('dev')"
   ]
  },
  {
   "cell_type": "code",
   "execution_count": null,
   "metadata": {},
   "outputs": [],
   "source": [
    "files = list_files(client)"
   ]
  },
  {
   "cell_type": "code",
   "execution_count": null,
   "metadata": {},
   "outputs": [],
   "source": [
    "local_files = pull_files(client, files, debug=True)"
   ]
  },
  {
   "cell_type": "code",
   "execution_count": null,
   "metadata": {},
   "outputs": [],
   "source": [
    "client.close()"
   ]
  },
  {
   "cell_type": "code",
   "execution_count": null,
   "metadata": {},
   "outputs": [],
   "source": []
  },
  {
   "cell_type": "code",
   "execution_count": null,
   "metadata": {},
   "outputs": [],
   "source": [
    "s3 = boto3.client('s3')"
   ]
  },
  {
   "cell_type": "code",
   "execution_count": null,
   "metadata": {},
   "outputs": [],
   "source": [
    "for file in local_files:\n",
    "    data = open(file, 'rb')\n",
    "    key = f'csc-xx-dev/inbound/20201113_154306/{file.name}'\n",
    "    s3.upload_file(str(file), 'cb-analytics-us-east-2-prd', key, ExtraArgs={'ServerSideEncryption': 'AES256'})"
   ]
  }
 ],
 "metadata": {
  "kernelspec": {
   "display_name": "Python 3 (ipykernel)",
   "language": "python",
   "name": "python3"
  },
  "language_info": {
   "codemirror_mode": {
    "name": "ipython",
    "version": 3
   },
   "file_extension": ".py",
   "mimetype": "text/x-python",
   "name": "python",
   "nbconvert_exporter": "python",
   "pygments_lexer": "ipython3",
   "version": "3.10.8"
  }
 },
 "nbformat": 4,
 "nbformat_minor": 4
}
