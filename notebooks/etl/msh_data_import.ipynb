{
 "cells": [
  {
   "cell_type": "code",
   "execution_count": null,
   "metadata": {},
   "outputs": [],
   "source": [
    "import os\n",
    "import sys\n",
    "import re\n",
    "import time\n",
    "import random\n",
    "import warnings\n",
    "import collections\n",
    "from tqdm import tqdm\n",
    "import numpy as np\n",
    "import pandas as pd\n",
    "import matplotlib.pyplot as plt\n",
    "import matplotlib.gridspec as gridspec\n",
    "import seaborn as sns\n",
    "\n",
    "sys.path.append('../src')\n",
    "import cb_utils\n",
    "\n",
    "sns.set(style=\"darkgrid\")\n",
    "pd.options.display.max_columns = 500\n",
    "\n",
    "%load_ext autoreload\n",
    "%autoreload 2"
   ]
  },
  {
   "cell_type": "code",
   "execution_count": null,
   "metadata": {},
   "outputs": [],
   "source": []
  },
  {
   "cell_type": "markdown",
   "metadata": {},
   "source": [
    "### medina from Bennett"
   ]
  },
  {
   "cell_type": "code",
   "execution_count": null,
   "metadata": {},
   "outputs": [],
   "source": [
    "base_dir = '/Users/bp/msh/external_emr_data/'\n",
    "file_names = [f for f in os.listdir(base_dir) if '20211101_medina' in f]\n",
    "file_names"
   ]
  },
  {
   "cell_type": "code",
   "execution_count": null,
   "metadata": {},
   "outputs": [],
   "source": [
    "file_name = file_names[0]\n",
    "sheet_name = 'Sheet1'\n",
    "header_row = 0\n",
    "df = pd.read_excel(f'{base_dir}/{file_name}', sheet_name=sheet_name, header=header_row)\n",
    "# df = pd.read_csv(f'{base_dir}/{file_name}')\n",
    "df = cb_utils.df_format_columns(df)\n",
    "df = cb_utils.df_add_inserted_at_col(df)\n",
    "df = cb_utils.df_col_format_icd10(df, 'diag')\n",
    "df.head()"
   ]
  },
  {
   "cell_type": "code",
   "execution_count": null,
   "metadata": {},
   "outputs": [],
   "source": []
  },
  {
   "cell_type": "code",
   "execution_count": null,
   "metadata": {},
   "outputs": [],
   "source": [
    "eng = cb_utils.get_engine(source='msh_analytics')\n",
    "table = file_name.replace('.xlsx', '').replace('.csv', '')\n",
    "\n",
    "df.to_sql(f'external_emr_data_{table}', eng, schema='raw', if_exists='replace', method='multi', index=True, index_label='id')"
   ]
  },
  {
   "cell_type": "markdown",
   "metadata": {},
   "source": [
    "### hometown from Bennett"
   ]
  },
  {
   "cell_type": "code",
   "execution_count": null,
   "metadata": {},
   "outputs": [],
   "source": [
    "base_dir = '/Users/bp/msh/external_emr_data/'\n",
    "file_names = [f for f in os.listdir(base_dir) if '20211101_hometown' in f]\n",
    "file_names"
   ]
  },
  {
   "cell_type": "code",
   "execution_count": null,
   "metadata": {},
   "outputs": [],
   "source": [
    "file_name = file_names[0]\n",
    "sheet_name = 'Sheet1'\n",
    "header_row = 0\n",
    "df = pd.read_excel(f'{base_dir}/{file_name}', sheet_name=sheet_name, header=header_row)\n",
    "# df = pd.read_csv(f'{base_dir}/{file_name}')\n",
    "df = cb_utils.df_format_columns(df)\n",
    "df = cb_utils.df_add_inserted_at_col(df)\n",
    "df = cb_utils.df_col_format_icd10(df, 'diag')\n",
    "df.head()"
   ]
  },
  {
   "cell_type": "code",
   "execution_count": null,
   "metadata": {},
   "outputs": [],
   "source": [
    "eng = cb_utils.get_engine(source='msh_analytics')\n",
    "table = file_name.replace('.xlsx', '').replace('.csv', '')\n",
    "\n",
    "df.to_sql(f'external_emr_data_{table}', eng, schema='raw', if_exists='replace', method='multi', index=True, index_label='id')"
   ]
  },
  {
   "cell_type": "markdown",
   "metadata": {},
   "source": [
    "### BCBS for eastwood from Bennett"
   ]
  },
  {
   "cell_type": "code",
   "execution_count": null,
   "metadata": {},
   "outputs": [],
   "source": [
    "base_dir = '/Users/bp/msh/external_emr_data/'\n",
    "file_names = [f for f in os.listdir(base_dir) if '20211029_bcbs_from_bennett' in f]\n",
    "file_names"
   ]
  },
  {
   "cell_type": "code",
   "execution_count": null,
   "metadata": {},
   "outputs": [],
   "source": [
    "file_name = file_names[0]\n",
    "# df = pd.read_excel(f'{base_dir}/{file_name}', sheet_name=sheet_name, header=header_row)\n",
    "df = pd.read_csv(f'{base_dir}/{file_name}')\n",
    "df = cb_utils.df_format_columns(df)\n",
    "df = cb_utils.df_add_inserted_at_col(df)\n",
    "df = cb_utils.df_col_format_icd10(df, 'diag')\n",
    "df.head()"
   ]
  },
  {
   "cell_type": "code",
   "execution_count": null,
   "metadata": {},
   "outputs": [],
   "source": [
    "eng = cb_utils.get_engine(source='msh_analytics')\n",
    "table = file_name.replace('.xlsx', '').replace('.csv', '')\n",
    "\n",
    "df.to_sql(f'external_emr_data_{table}', eng, schema='raw', if_exists='replace', method='multi', index=True, index_label='id')"
   ]
  },
  {
   "cell_type": "code",
   "execution_count": null,
   "metadata": {},
   "outputs": [],
   "source": []
  },
  {
   "cell_type": "markdown",
   "metadata": {},
   "source": [
    "### Recap for eastwood from Bennett"
   ]
  },
  {
   "cell_type": "code",
   "execution_count": null,
   "metadata": {},
   "outputs": [],
   "source": [
    "base_dir = '/Users/bp/msh/external_emr_data/'\n",
    "file_names = [f for f in os.listdir(base_dir) if '20211027' in f]\n",
    "file_names"
   ]
  },
  {
   "cell_type": "code",
   "execution_count": null,
   "metadata": {},
   "outputs": [],
   "source": [
    "file_name = file_names[0]\n",
    "sheet_name = 're-capture report 20211027'\n",
    "header_row = 2\n",
    "# df = pd.read_excel(f'{base_dir}/{file_name}', sheet_name=sheet_name, header=header_row)\n",
    "df = pd.read_csv(f'{base_dir}/{file_name}')\n",
    "# df.head()"
   ]
  },
  {
   "cell_type": "code",
   "execution_count": null,
   "metadata": {},
   "outputs": [],
   "source": [
    "df = cb_utils.df_col_format_icd10(df, 'Diagnosis Code')\n",
    "df.head()"
   ]
  },
  {
   "cell_type": "code",
   "execution_count": null,
   "metadata": {},
   "outputs": [],
   "source": [
    "df.columns = [re.sub('\\(|\\)| |\\/', '_', c).lower() for c in df.columns]\n",
    "df.head()"
   ]
  },
  {
   "cell_type": "code",
   "execution_count": null,
   "metadata": {},
   "outputs": [],
   "source": [
    "\n",
    "table = file_name.replace('.xlsx', '').replace('.csv', '')"
   ]
  },
  {
   "cell_type": "code",
   "execution_count": null,
   "metadata": {},
   "outputs": [],
   "source": [
    "df.to_sql(f'external_emr_data_eastwood_recap_20211027', eng, schema='junk', if_exists='replace', method='multi', index=False)"
   ]
  },
  {
   "cell_type": "code",
   "execution_count": null,
   "metadata": {},
   "outputs": [],
   "source": []
  },
  {
   "cell_type": "code",
   "execution_count": null,
   "metadata": {},
   "outputs": [],
   "source": []
  },
  {
   "cell_type": "markdown",
   "metadata": {},
   "source": [
    "### Recap for eastwood from Bennett"
   ]
  },
  {
   "cell_type": "code",
   "execution_count": null,
   "metadata": {},
   "outputs": [],
   "source": [
    "base_dir = '/Users/bp/msh/external_emr_data/'\n",
    "file_names = [f for f in os.listdir(base_dir) if '20211027' in f]\n",
    "file_names"
   ]
  },
  {
   "cell_type": "code",
   "execution_count": null,
   "metadata": {},
   "outputs": [],
   "source": [
    "file_name = file_names[0]\n",
    "sheet_name = 're-capture report 20211027'\n",
    "header_row = 2\n",
    "# df = pd.read_excel(f'{base_dir}/{file_name}', sheet_name=sheet_name, header=header_row)\n",
    "df = pd.read_csv(f'{base_dir}/{file_name}')\n",
    "# df.head()"
   ]
  },
  {
   "cell_type": "code",
   "execution_count": null,
   "metadata": {},
   "outputs": [],
   "source": [
    "df = cb_utils.df_col_format_icd10(df, 'Diagnosis Code')\n",
    "df.head()"
   ]
  },
  {
   "cell_type": "code",
   "execution_count": null,
   "metadata": {},
   "outputs": [],
   "source": [
    "df.columns = [re.sub('\\(|\\)| |\\/', '_', c).lower() for c in df.columns]\n",
    "df.head()"
   ]
  },
  {
   "cell_type": "code",
   "execution_count": null,
   "metadata": {},
   "outputs": [],
   "source": []
  },
  {
   "cell_type": "code",
   "execution_count": null,
   "metadata": {},
   "outputs": [],
   "source": [
    "df.to_sql(f'external_emr_data_eastwood_recap_20211027', eng, schema='junk', if_exists='replace', method='multi', index=False)"
   ]
  },
  {
   "cell_type": "code",
   "execution_count": null,
   "metadata": {},
   "outputs": [],
   "source": []
  },
  {
   "cell_type": "markdown",
   "metadata": {},
   "source": [
    "### Premier data from Bennett"
   ]
  },
  {
   "cell_type": "code",
   "execution_count": null,
   "metadata": {},
   "outputs": [],
   "source": [
    "base_dir = '/Users/bp/msh/external_emr_data/'\n",
    "file_names = [f for f in os.listdir(base_dir) if '20211022_bennett_premier' in f]\n",
    "file_names"
   ]
  },
  {
   "cell_type": "code",
   "execution_count": null,
   "metadata": {},
   "outputs": [],
   "source": [
    "file_name = file_names[0]\n",
    "sheet_name = 'ICD report'\n",
    "header_row = 0\n",
    "# df = pd.read_excel(f'{base_dir}/{file_name}', sheet_name=sheet_name, header=header_row)\n",
    "df = pd.read_csv(f'{base_dir}/{file_name}', header=header_row)\n",
    "df.head()"
   ]
  },
  {
   "cell_type": "code",
   "execution_count": null,
   "metadata": {},
   "outputs": [],
   "source": [
    "# remove null icds\n",
    "# df.loc[]\n",
    "# df.head()\n",
    "df.shape\n",
    "df = df.assign(icd=df['Diagnosis Name + Code'].str.split(': ').apply(lambda x: x[0].strip().lower().replace('.','')))\n",
    "df.head()"
   ]
  },
  {
   "cell_type": "code",
   "execution_count": null,
   "metadata": {},
   "outputs": [],
   "source": []
  },
  {
   "cell_type": "code",
   "execution_count": null,
   "metadata": {},
   "outputs": [],
   "source": [
    "df = df.assign(first_name=df.Patient.str.split(', ').apply(lambda x: x[1]), last_name=df.Patient.str.split(', ').apply(lambda x: x[0]))\n",
    "df.head()"
   ]
  },
  {
   "cell_type": "code",
   "execution_count": null,
   "metadata": {},
   "outputs": [],
   "source": []
  },
  {
   "cell_type": "code",
   "execution_count": null,
   "metadata": {},
   "outputs": [],
   "source": [
    "table = file_name.replace('.xlsx', '').replace('.csv', '')\n",
    "eng = cb_utils.get_engine(source='msh_analytics')\n",
    "\n",
    "cols = ['Patient', 'Patient Age', 'None', 'None.1', 'Rank', 'Diagnosis Name + Code', 'Visit Count', 'icd', 'first_name', 'last_name']\n",
    "\n",
    "df[cols].to_sql(f'external_emr_data_{table}', eng, schema='junk', if_exists='replace', method='multi', index=False)\n",
    "# df[cols].to_sql(f'external_emr_data_{table}', eng, schema='raw', if_exists='append', method='multi', index=False)"
   ]
  },
  {
   "cell_type": "markdown",
   "metadata": {},
   "source": [
    "### Eastwood data from Bennett"
   ]
  },
  {
   "cell_type": "code",
   "execution_count": null,
   "metadata": {},
   "outputs": [],
   "source": [
    "base_dir = '/Users/bp/msh/external_emr_data/'\n",
    "file_names = [f for f in os.listdir(base_dir) if 'bennett' in f]\n",
    "file_names"
   ]
  },
  {
   "cell_type": "code",
   "execution_count": null,
   "metadata": {},
   "outputs": [],
   "source": [
    "file_name = file_names[0]\n",
    "sheet_name = 'ICD report'\n",
    "header_row = 1\n",
    "df = pd.read_excel(f'{base_dir}/{file_name}', sheet_name=sheet_name, header=header_row)\n",
    "df.head()"
   ]
  },
  {
   "cell_type": "code",
   "execution_count": null,
   "metadata": {},
   "outputs": [],
   "source": [
    "# remove null icds\n",
    "df = df.loc[~df.icd10encounterdiagcode.isna()]\n",
    "df.head()"
   ]
  },
  {
   "cell_type": "code",
   "execution_count": null,
   "metadata": {},
   "outputs": [],
   "source": [
    "df = cb_utils.df_col_format_icd10(df, 'icd10encounterdiagcode')\n",
    "df.head(10)"
   ]
  },
  {
   "cell_type": "code",
   "execution_count": null,
   "metadata": {},
   "outputs": [],
   "source": [
    "table = file_name.replace('.xlsx', '')\n",
    "eng = cb_utils.get_engine(source='msh_analytics')\n",
    "# df.to_sql(f'external_emr_data_{table}', eng, schema='raw', if_exists='append', method='multi', index=False)"
   ]
  },
  {
   "cell_type": "markdown",
   "metadata": {},
   "source": [
    "### CFM from Diane 10-21-2021"
   ]
  },
  {
   "cell_type": "code",
   "execution_count": null,
   "metadata": {},
   "outputs": [],
   "source": [
    "base_dir = '/Users/bp/msh/external_emr_data/'\n",
    "file_names = [f for f in os.listdir(base_dir) if '20210727_CFM' in f]\n",
    "file_names"
   ]
  },
  {
   "cell_type": "code",
   "execution_count": null,
   "metadata": {},
   "outputs": [],
   "source": [
    "file_name = file_names[0]\n",
    "sheet_name = 'Sheet1'\n",
    "header_row = 0\n",
    "df = pd.read_excel(f'{base_dir}/{file_name}', sheet_name=sheet_name, header=header_row)\n",
    "df.head()"
   ]
  },
  {
   "cell_type": "code",
   "execution_count": null,
   "metadata": {},
   "outputs": [],
   "source": [
    "# remove null icds\n",
    "df = df.loc[~df.Active_Diagnosis.isna()]"
   ]
  },
  {
   "cell_type": "code",
   "execution_count": null,
   "metadata": {},
   "outputs": [],
   "source": [
    "df[['Last Visit Date', 'First Visit Date', 'DOB']] = df[['Last Visit Date', 'First Visit Date', 'DOB']].astype(np.Datetime64)"
   ]
  },
  {
   "cell_type": "code",
   "execution_count": null,
   "metadata": {},
   "outputs": [],
   "source": [
    "# split icd string\n",
    "df.Active_Diagnosis = df.Active_Diagnosis.str.split(';').apply(lambda x: list(set(e.lower().strip().replace('.', '') for e in x if e != \"\")))"
   ]
  },
  {
   "cell_type": "code",
   "execution_count": null,
   "metadata": {},
   "outputs": [],
   "source": [
    "for i in range(1, 16):\n",
    "    df = df.assign(**{f'diag_{i}': df.Active_Diagnosis.apply(lambda x: x[i - 1] if len(x) >= i else None)})\n",
    "#     df = cb_utils.df_col_format_icd10(df, f'diag_{i}')"
   ]
  },
  {
   "cell_type": "code",
   "execution_count": null,
   "metadata": {},
   "outputs": [],
   "source": [
    "df.head()"
   ]
  },
  {
   "cell_type": "code",
   "execution_count": null,
   "metadata": {},
   "outputs": [],
   "source": [
    "table = file_name.replace('.xlsx', '')\n",
    "eng = cb_utils.get_engine(source='msh_analytics')\n",
    "df.to_sql(f'external_emr_data_20210727_cfm_from_diane', eng, schema='raw', if_exists='append', method='multi', index=False)"
   ]
  },
  {
   "cell_type": "code",
   "execution_count": null,
   "metadata": {},
   "outputs": [],
   "source": []
  },
  {
   "cell_type": "markdown",
   "metadata": {},
   "source": [
    "### Hometown from Diane 10-21-2021"
   ]
  },
  {
   "cell_type": "code",
   "execution_count": null,
   "metadata": {},
   "outputs": [],
   "source": [
    "base_dir = '/Users/bp/msh/external_emr_data/'\n",
    "file_names = [f for f in os.listdir(base_dir) if '20211015_hometown_from_diane' in f]\n",
    "file_names"
   ]
  },
  {
   "cell_type": "code",
   "execution_count": null,
   "metadata": {},
   "outputs": [],
   "source": [
    "file_name = file_names[0]\n",
    "df = pd.read_csv(f'{base_dir}/{file_name}')\n",
    "df.head()"
   ]
  },
  {
   "cell_type": "code",
   "execution_count": null,
   "metadata": {},
   "outputs": [],
   "source": [
    "df.columns"
   ]
  },
  {
   "cell_type": "code",
   "execution_count": null,
   "metadata": {},
   "outputs": [],
   "source": [
    "df.dtypes"
   ]
  },
  {
   "cell_type": "code",
   "execution_count": null,
   "metadata": {},
   "outputs": [],
   "source": [
    "df[['Patient - DOB - Full', 'Procedure - DOS']] = df[['Patient - DOB - Full', 'Procedure - DOS']].astype(np.Datetime64)"
   ]
  },
  {
   "cell_type": "code",
   "execution_count": null,
   "metadata": {},
   "outputs": [],
   "source": [
    "dx_cols = ['Diagnosis - Diagnosis 1',\n",
    "       'Diagnosis - Diagnosis 2', 'Diagnosis - Diagnosis 3',\n",
    "       'Diagnosis - Diagnosis 4', 'Diagnosis - Diagnosis 5',\n",
    "       'Diagnosis - Diagnosis 6', 'Diagnosis - Diagnosis 7',\n",
    "       'Diagnosis - Diagnosis 8', 'Diagnosis - Diagnosis 9',\n",
    "       'Diagnosis - Diagnosis 10', 'Diagnosis - Diagnosis 11',\n",
    "       'Diagnosis - Diagnosis 12']\n",
    "\n",
    "for c in dx_cols:\n",
    "    df = cb_utils.df_col_format_icd10(df, c)"
   ]
  },
  {
   "cell_type": "code",
   "execution_count": null,
   "metadata": {},
   "outputs": [],
   "source": []
  },
  {
   "cell_type": "code",
   "execution_count": null,
   "metadata": {},
   "outputs": [],
   "source": []
  },
  {
   "cell_type": "code",
   "execution_count": null,
   "metadata": {},
   "outputs": [],
   "source": []
  },
  {
   "cell_type": "code",
   "execution_count": null,
   "metadata": {},
   "outputs": [],
   "source": [
    "table = file_name.replace('.xlsx', '').replace('.csv', '')\n",
    "eng = cb_utils.get_engine(source='msh_analytics')\n",
    "df.to_sql(f'external_emr_data_{table}', eng, schema='raw', if_exists='append', method='multi', index=False)\n",
    "# df.to_sql(f'external_emr_data_{table}', eng, schema='junk', if_exists='replace', method='multi', index=False)"
   ]
  },
  {
   "cell_type": "code",
   "execution_count": null,
   "metadata": {},
   "outputs": [],
   "source": []
  },
  {
   "cell_type": "code",
   "execution_count": null,
   "metadata": {},
   "outputs": [],
   "source": []
  },
  {
   "cell_type": "code",
   "execution_count": null,
   "metadata": {},
   "outputs": [],
   "source": []
  },
  {
   "cell_type": "code",
   "execution_count": null,
   "metadata": {},
   "outputs": [],
   "source": []
  },
  {
   "cell_type": "code",
   "execution_count": null,
   "metadata": {},
   "outputs": [],
   "source": []
  },
  {
   "cell_type": "code",
   "execution_count": null,
   "metadata": {},
   "outputs": [],
   "source": []
  },
  {
   "cell_type": "code",
   "execution_count": null,
   "metadata": {},
   "outputs": [],
   "source": []
  },
  {
   "cell_type": "code",
   "execution_count": null,
   "metadata": {},
   "outputs": [],
   "source": []
  },
  {
   "cell_type": "code",
   "execution_count": null,
   "metadata": {},
   "outputs": [],
   "source": []
  },
  {
   "cell_type": "code",
   "execution_count": null,
   "metadata": {},
   "outputs": [],
   "source": []
  },
  {
   "cell_type": "markdown",
   "metadata": {},
   "source": [
    "# Imort External EMR data"
   ]
  },
  {
   "cell_type": "code",
   "execution_count": null,
   "metadata": {},
   "outputs": [],
   "source": [
    "base_dir = '/Users/bp/msh/external_emr_data/'\n",
    "file_names = [f for f in os.listdir(base_dir) if '20211029_all' in f and '~$' not in f]\n",
    "file_names"
   ]
  },
  {
   "cell_type": "code",
   "execution_count": null,
   "metadata": {},
   "outputs": [],
   "source": []
  },
  {
   "cell_type": "code",
   "execution_count": null,
   "metadata": {},
   "outputs": [],
   "source": [
    "for file_name in file_names:\n",
    "    emr_data = pd.read_excel(f'{base_dir}/{file_name}', sheet_name='Sheet1', header=0)\n",
    "    emr_data = emr_data.rename(columns={\"notes \": \"notes\"})\n",
    "    emr_data = emr_data[['golgi_id', 'patient_name_last', 'patient_name_first', 'dob', 'location', 'captured_icd_10', 'date_captured', 'recapture_icd_10', 'date_last_captured', 'suspect_icd_10', 'notes']]\n",
    "    icd_cols = ['captured_icd_10', 'recapture_icd_10', 'suspect_icd_10']\n",
    "    for col in icd_cols:\n",
    "        emr_data = cb_utils.df_col_format_icd10(emr_data, col)\n",
    "    \n",
    "    table = file_name.replace('.xlsx', '')\n",
    "    eng = cb_utils.get_engine(source='msh_analytics')\n",
    "    emr_data.to_sql(f'external_emr_data_{table}', eng, schema='junk', if_exists='replace', method='multi', index=False)"
   ]
  },
  {
   "cell_type": "code",
   "execution_count": null,
   "metadata": {},
   "outputs": [],
   "source": [
    "emr_data.head(100)"
   ]
  },
  {
   "cell_type": "code",
   "execution_count": null,
   "metadata": {},
   "outputs": [],
   "source": []
  },
  {
   "cell_type": "code",
   "execution_count": null,
   "metadata": {},
   "outputs": [],
   "source": []
  },
  {
   "cell_type": "code",
   "execution_count": null,
   "metadata": {},
   "outputs": [],
   "source": []
  },
  {
   "cell_type": "code",
   "execution_count": null,
   "metadata": {},
   "outputs": [],
   "source": [
    "file_name = '20211006_medina.xlsx'\n",
    "emr_data = pd.read_excel(f'{base_dir}/{file_name}', sheet_name='Sheet1', header=0)"
   ]
  },
  {
   "cell_type": "code",
   "execution_count": null,
   "metadata": {},
   "outputs": [],
   "source": [
    "emr_data.head()"
   ]
  },
  {
   "cell_type": "code",
   "execution_count": null,
   "metadata": {},
   "outputs": [],
   "source": [
    "name_mapping = {\n",
    "    'Patient Name': 'patient_name',\n",
    "    'Golgi ID': 'golgi_id', \n",
    "    'IT Upload Date': 'it_upload_date',\n",
    "    'DOB': 'dob',\n",
    "    'Location': 'location',\n",
    "    'Insurance': 'insurance',\n",
    "    'Billed ICD10s 2021': 'billed_icd10_2021',\n",
    "    'DOS': 'dos',\n",
    "    'Suspected ICD10': 'suspected_icd10',\n",
    "    'DOS of Suspected': 'date_of_suspected_icd10',\n",
    "    'Historical ICD10': 'historical_icd10',\n",
    "#     'Historical ICD10-before 2021': 'historical_icd10',\n",
    "}\n",
    "emr_data = emr_data.rename(columns=name_mapping)\n",
    "# emr_data.rename(columns=name_mapping)\n",
    "emr_data.head()"
   ]
  },
  {
   "cell_type": "code",
   "execution_count": null,
   "metadata": {},
   "outputs": [],
   "source": [
    "def format_icd10(df, col):\n",
    "    df[col] = df[col].str.replace('.', '', regex=False).str.lower().str.strip()\n",
    "    return df"
   ]
  },
  {
   "cell_type": "code",
   "execution_count": null,
   "metadata": {},
   "outputs": [],
   "source": [
    "icd_cols = ['suspected_icd10', 'billed_icd10_2021', 'historical_icd10', 'missed_icd10']\n",
    "for col in icd_cols:\n",
    "    emr_data = format_icd10(emr_data, col)"
   ]
  },
  {
   "cell_type": "code",
   "execution_count": null,
   "metadata": {},
   "outputs": [],
   "source": [
    "emr_data.head()\n",
    "list(emr_data.columns)"
   ]
  },
  {
   "cell_type": "code",
   "execution_count": null,
   "metadata": {},
   "outputs": [],
   "source": [
    "cols = [\n",
    " 'patient_name',\n",
    " 'golgi_id',\n",
    " 'location',\n",
    " 'insurance',\n",
    " 'billed_icd10_2021',\n",
    " 'dos',\n",
    " 'suspected_icd10',\n",
    "#  'date_of_suspected_icd10',\n",
    " 'historical_icd10',\n",
    " 'missed_icd10',\n",
    " 'dos_of_missed',\n",
    "]"
   ]
  },
  {
   "cell_type": "code",
   "execution_count": null,
   "metadata": {},
   "outputs": [],
   "source": [
    "eng = cb_utils.get_engine(source='msh_analytics')\n",
    "emr_data[cols].to_sql('external_emr_data', eng, schema='raw', if_exists='append', method='multi', index=False)"
   ]
  },
  {
   "cell_type": "code",
   "execution_count": null,
   "metadata": {},
   "outputs": [],
   "source": []
  },
  {
   "cell_type": "markdown",
   "metadata": {},
   "source": [
    "# Import Labs"
   ]
  },
  {
   "cell_type": "code",
   "execution_count": null,
   "metadata": {},
   "outputs": [],
   "source": [
    "def rename_lab_cols(labs):\n",
    "    name_mapping = {\n",
    "       \"creatinine_eGFR_nonafricn_am\": \"creatinine_egfr_nonafricn_am\",\n",
    "       \"creatinine_eGFR_africn_am\": \"creatinine_egfr_africn_am\",\n",
    "       \"hemoglobin_A1c\": \"hemoglobin_a1c\"\n",
    "    }\n",
    "    return labs.rename(columns=name_mapping)"
   ]
  },
  {
   "cell_type": "code",
   "execution_count": null,
   "metadata": {},
   "outputs": [],
   "source": [
    "base_dir = '/Users/bp/msh/labs/'\n",
    "file_names = [f for f in os.listdir(base_dir) if '20211029' in f and '~$' not in f]\n",
    "file_names"
   ]
  },
  {
   "cell_type": "code",
   "execution_count": null,
   "metadata": {},
   "outputs": [],
   "source": [
    "for file_name in file_names:\n",
    "    lab_data = pd.read_excel(f'{base_dir}/{file_name}', sheet_name='2021Oct29', header=0)\n",
    "    lab_data = rename_lab_cols(lab_data)\n",
    "    lab_data = lab_data.replace({'hiv_ag_ab_with_reflex': {'Non Reactive': 0, 'non reactive': 0, 'non reactive ': 0, 'Non Reactive ': 0, 'Reactive': 1}})\n",
    "    lab_data = pd.melt(lab_data, id_vars=['patient_id', 'patient_first_name', 'patient_last_name', 'date_of_birth', 'date_of_lab_collection'], var_name='lab_type', value_name='lab_value', ignore_index=True)\n",
    "\n",
    "    table = file_name.replace('.xlsx', '')\n",
    "    eng = cb_utils.get_engine(source='msh_analytics')\n",
    "    lab_data.to_sql(f'hcc_suspecting_lab_data', eng, schema='raw', if_exists='append', method='multi', index=False)\n",
    "    \n",
    "\n",
    "    # old\n",
    "#     lab_data.to_sql(f'hcc_suspecting_lab_data', eng, schema='junk', if_exists='replace', method='multi', index=False)"
   ]
  },
  {
   "cell_type": "code",
   "execution_count": null,
   "metadata": {},
   "outputs": [],
   "source": [
    "lab_data.dtypes"
   ]
  },
  {
   "cell_type": "code",
   "execution_count": null,
   "metadata": {},
   "outputs": [],
   "source": [
    "lab_data.head(100)"
   ]
  },
  {
   "cell_type": "code",
   "execution_count": null,
   "metadata": {},
   "outputs": [],
   "source": []
  },
  {
   "cell_type": "code",
   "execution_count": null,
   "metadata": {},
   "outputs": [],
   "source": [
    "lab_data.hiv_ag_ab_with_reflex.value_counts()"
   ]
  },
  {
   "cell_type": "code",
   "execution_count": null,
   "metadata": {},
   "outputs": [],
   "source": []
  },
  {
   "cell_type": "markdown",
   "metadata": {},
   "source": [
    "# Old"
   ]
  },
  {
   "cell_type": "code",
   "execution_count": null,
   "metadata": {},
   "outputs": [],
   "source": [
    "base_dir = '/Users/bp/msh/suspecting_analysis'\n",
    "ndcs = pd.read_excel(f'{base_dir}/Xwalk_Master_Final_NDC.xlsx', sheet_name='RB NDC updates', header=1)"
   ]
  },
  {
   "cell_type": "code",
   "execution_count": null,
   "metadata": {},
   "outputs": [],
   "source": [
    "ndcs.head()"
   ]
  },
  {
   "cell_type": "code",
   "execution_count": null,
   "metadata": {},
   "outputs": [],
   "source": []
  },
  {
   "cell_type": "code",
   "execution_count": null,
   "metadata": {},
   "outputs": [],
   "source": [
    "hcc_col = ndcs.columns[0]\n",
    "\n",
    "ndcs = ndcs.loc[~ndcs[hcc_col].isna()]"
   ]
  },
  {
   "cell_type": "code",
   "execution_count": null,
   "metadata": {},
   "outputs": [],
   "source": [
    "ndcs['ICD10s'] = ndcs['ICD10s'].str.split('\\n|,')\n",
    "ndcs = ndcs.explode('ICD10s').query(\"ICD10s != ''\")\n",
    "ndcs['ICD10s'] = ndcs['ICD10s'].str.replace('.', '', regex=False).str.lower().str.strip()"
   ]
  },
  {
   "cell_type": "code",
   "execution_count": null,
   "metadata": {},
   "outputs": [],
   "source": [
    "ndcs.columns =  ['hcc', 'hcc_descr', 'coefficient', 'icd10', 'med', 'ndc', 'non_hcc_codes']\n",
    "ndcs['med'] = ndcs['med'].str.lower().str.strip()\n",
    "ndcs = ndcs.assign(ndc_code=ndcs['ndc'].str.replace('-', '', regex=False))"
   ]
  },
  {
   "cell_type": "code",
   "execution_count": null,
   "metadata": {},
   "outputs": [],
   "source": [
    "ndcs.head()"
   ]
  },
  {
   "cell_type": "code",
   "execution_count": null,
   "metadata": {},
   "outputs": [],
   "source": [
    "ndcs.shape"
   ]
  },
  {
   "cell_type": "code",
   "execution_count": null,
   "metadata": {},
   "outputs": [],
   "source": [
    "eng = cb_utils.get_engine()"
   ]
  },
  {
   "cell_type": "code",
   "execution_count": null,
   "metadata": {},
   "outputs": [],
   "source": [
    "ndcs.to_sql('ndc_xwalk', eng, schema='junk', if_exists='replace', index=False)"
   ]
  },
  {
   "cell_type": "code",
   "execution_count": null,
   "metadata": {},
   "outputs": [],
   "source": []
  },
  {
   "cell_type": "code",
   "execution_count": null,
   "metadata": {},
   "outputs": [],
   "source": []
  },
  {
   "cell_type": "code",
   "execution_count": null,
   "metadata": {},
   "outputs": [],
   "source": []
  },
  {
   "cell_type": "code",
   "execution_count": null,
   "metadata": {},
   "outputs": [],
   "source": []
  },
  {
   "cell_type": "code",
   "execution_count": null,
   "metadata": {},
   "outputs": [],
   "source": []
  },
  {
   "cell_type": "code",
   "execution_count": null,
   "metadata": {},
   "outputs": [],
   "source": []
  },
  {
   "cell_type": "code",
   "execution_count": null,
   "metadata": {},
   "outputs": [],
   "source": []
  },
  {
   "cell_type": "code",
   "execution_count": null,
   "metadata": {},
   "outputs": [],
   "source": [
    "base_dir = '/Users/bp/msh/suspecting_analysis'\n",
    "ndcs = pd.read_excel(f'{base_dir}/Xwalk_Master_Final_NDC_cleanedup.xlsx', sheet_name='verified_ndc', header=0, converters={'ndc': lambda x: str(x)})"
   ]
  },
  {
   "cell_type": "code",
   "execution_count": null,
   "metadata": {},
   "outputs": [],
   "source": [
    "ndcs.head()"
   ]
  },
  {
   "cell_type": "code",
   "execution_count": null,
   "metadata": {},
   "outputs": [],
   "source": [
    "ndcs.to_sql('ndc_xwalk_clean', eng, schema='junk', if_exists='replace', index=False)"
   ]
  },
  {
   "cell_type": "code",
   "execution_count": null,
   "metadata": {},
   "outputs": [],
   "source": []
  },
  {
   "cell_type": "code",
   "execution_count": null,
   "metadata": {},
   "outputs": [],
   "source": []
  },
  {
   "cell_type": "code",
   "execution_count": null,
   "metadata": {},
   "outputs": [],
   "source": []
  },
  {
   "cell_type": "code",
   "execution_count": null,
   "metadata": {},
   "outputs": [],
   "source": []
  },
  {
   "cell_type": "code",
   "execution_count": null,
   "metadata": {},
   "outputs": [],
   "source": []
  },
  {
   "cell_type": "code",
   "execution_count": null,
   "metadata": {},
   "outputs": [],
   "source": []
  },
  {
   "cell_type": "code",
   "execution_count": null,
   "metadata": {},
   "outputs": [],
   "source": []
  },
  {
   "cell_type": "code",
   "execution_count": null,
   "metadata": {},
   "outputs": [],
   "source": []
  },
  {
   "cell_type": "code",
   "execution_count": null,
   "metadata": {},
   "outputs": [],
   "source": []
  },
  {
   "cell_type": "code",
   "execution_count": null,
   "metadata": {},
   "outputs": [],
   "source": []
  },
  {
   "cell_type": "code",
   "execution_count": null,
   "metadata": {},
   "outputs": [],
   "source": [
    "query = f\"SELECT dtw.* FROM cb.ds_tall_wide dtw JOIN cb.mcos m ON m.id = {mco_id} AND m.ds_batch_id = dtw.ds_batch_id;\"\n",
    "ds_tall_wide = cb_utils.sql_query_to_df(query, use_cache=use_cache)\n",
    "ds_tall_wide = ds_tall_wide.drop(columns=['created_at'])\n",
    "ds_tall_wide.transplant_ddos = [0 if r is None else r for r in ds_tall_wide.transplant_ddos]"
   ]
  },
  {
   "cell_type": "code",
   "execution_count": null,
   "metadata": {},
   "outputs": [],
   "source": [
    "query = f\"SELECT v.* FROM cb.ds_vaps v JOIN cb.mcos m on m.id = {mco_id} and m.ds_batch_id = v.ds_batch_id;\"\n",
    "# query = \"SELECT * FROM cb.ds_vaps v WHERE v.ds_batch_id = 18;\"\n",
    "vap = cb_utils.sql_query_to_df(query, use_cache=use_cache)"
   ]
  },
  {
   "cell_type": "code",
   "execution_count": null,
   "metadata": {},
   "outputs": [],
   "source": []
  },
  {
   "cell_type": "code",
   "execution_count": null,
   "metadata": {},
   "outputs": [],
   "source": []
  },
  {
   "cell_type": "code",
   "execution_count": null,
   "metadata": {},
   "outputs": [],
   "source": []
  },
  {
   "cell_type": "code",
   "execution_count": null,
   "metadata": {},
   "outputs": [],
   "source": []
  },
  {
   "cell_type": "code",
   "execution_count": null,
   "metadata": {},
   "outputs": [],
   "source": []
  },
  {
   "cell_type": "code",
   "execution_count": null,
   "metadata": {},
   "outputs": [],
   "source": []
  },
  {
   "cell_type": "code",
   "execution_count": null,
   "metadata": {},
   "outputs": [],
   "source": []
  },
  {
   "cell_type": "code",
   "execution_count": null,
   "metadata": {},
   "outputs": [],
   "source": []
  },
  {
   "cell_type": "code",
   "execution_count": null,
   "metadata": {},
   "outputs": [],
   "source": []
  },
  {
   "cell_type": "code",
   "execution_count": null,
   "metadata": {},
   "outputs": [],
   "source": []
  },
  {
   "cell_type": "code",
   "execution_count": null,
   "metadata": {},
   "outputs": [],
   "source": []
  },
  {
   "cell_type": "code",
   "execution_count": null,
   "metadata": {},
   "outputs": [],
   "source": []
  },
  {
   "cell_type": "code",
   "execution_count": null,
   "metadata": {},
   "outputs": [],
   "source": []
  },
  {
   "cell_type": "markdown",
   "metadata": {},
   "source": [
    "sql 2021 11 01 - imports from bennet bcbs, medina, hometown\n",
    "```sql\n",
    "WITH\n",
    "    new_dirty AS (\n",
    "        INSERT\n",
    "            INTO\n",
    "                cb.dirty_claims(raw_id, source, is_rx, member_id, date_from, diag_code_01)\n",
    "                SELECT DISTINCT\n",
    "                    r.id\n",
    "--                   , 'raw.external_emr_data_20211029_bcbs_from_bennett'\n",
    "--                               , 'raw.external_emr_data_20211101_medina_from_bennett'\n",
    "                              , 'raw.external_emr_data_20211101_hometown'\n",
    "                  , FALSE\n",
    "                  , m.id\n",
    "                  , last_dos::date\n",
    "                  , diag\n",
    "                FROM\n",
    "--                     raw.external_emr_data_20211029_bcbs_from_bennett r\n",
    "--                     raw.external_emr_data_20211101_medina_from_bennett r\n",
    "                    raw.external_emr_data_20211101_hometown r\n",
    "                    JOIN cb.members m ON LOWER(m.first_name) = LOWER(r.first_name)\n",
    "                        AND LOWER(m.last_name) = LOWER(r.last_name)\n",
    "                        AND m.date_of_birth = r.dob::DATE\n",
    "                        AND diag != 'nan'\n",
    "                RETURNING id, diag_code_01\n",
    "    )\n",
    "INSERT\n",
    "INTO\n",
    "    cb.dirty_claims_diagnosis (dirty_claim_id, diag_sequence, diag, icd10_id)\n",
    "SELECT\n",
    "    nd.id\n",
    "  , 1\n",
    "  , nd.diag_code_01\n",
    "  , i.id\n",
    "FROM\n",
    "    new_dirty nd\n",
    "    JOIN ref.icd10s i ON i.icd10 = nd.diag_code_01;\n",
    "```"
   ]
  },
  {
   "cell_type": "markdown",
   "metadata": {},
   "source": [
    "sql 20211022\n",
    "\n",
    "begin;\n",
    "ROLLBACK ;\n",
    "WITH\n",
    "    dc AS (\n",
    "        INSERT INTO cb.dirty_claims(raw_id, source, is_rx, member_id, date_from, diag_code_01)\n",
    "            SELECT\n",
    "                r.id\n",
    "              , 'raw.external_emr_data_20211022_bennett_premier'\n",
    "              , FALSE\n",
    "              , m.id\n",
    "              , '2020-12-31'\n",
    "              , icd\n",
    "            FROM\n",
    "                raw.external_emr_data_20211022_bennett_premier r\n",
    "                JOIN members m ON\n",
    "                         LOWER(m.first_name) = REGEXP_REPLACE(LOWER(r.first_name), ' [a-z]$', '')\n",
    "                    AND LOWER(m.last_name) = LOWER(r.last_name)\n",
    "                    AND m.date_of_birth BETWEEN r.dob_start AND r.dob_end\n",
    "            RETURNING id, diag_code_01\n",
    "    )\n",
    "INSERT\n",
    "INTO\n",
    "    dirty_claims_diagnosis (dirty_claim_id, diag_sequence, diag, icd10_id)\n",
    "SELECT dc.id, 1, diag_code_01, i.id\n",
    "FROM\n",
    "    dc\n",
    "join ref.icd10s i on diag_code_01 = i.icd10\n",
    ";"
   ]
  },
  {
   "cell_type": "markdown",
   "metadata": {},
   "source": [
    "SQl importing emr exports 20211021\n",
    "\n",
    "\n",
    "WITH\n",
    "    dc AS\n",
    "        (\n",
    "            INSERT\n",
    "                INTO\n",
    "                    dirty_claims(raw_id, source, is_rx, member_id, date_from, date_to, diag_code_01, inserted_at,\n",
    "                                 updated_at)\n",
    "                    SELECT\n",
    "                        j.id\n",
    "                      , 'raw.external_emr_data_20201019_eastwood_bennett'\n",
    "                      , FALSE\n",
    "                      , m.id\n",
    "                      , \"cln enc date\"\n",
    "                      , \"cln enc date\"\n",
    "                      , icd10encounterdiagcode\n",
    "                      , NOW()\n",
    "                      , NOW()\n",
    "                    FROM\n",
    "                        raw.external_emr_data_20201019_eastwood_bennett j\n",
    "                        JOIN members m ON LOWER(m.first_name) = LOWER(j.\"patient firstname\")\n",
    "                            AND LOWER(m.last_name) = LOWER(j.\"patient lastname\")\n",
    "                            AND m.date_of_birth = j.patientdob::DATE\n",
    "                    RETURNING id, diag_code_01\n",
    "        )\n",
    "INSERT\n",
    "INTO\n",
    "    dirty_claims_diagnosis (dirty_claim_id, diag_sequence, diag, icd10_id)\n",
    "SELECT\n",
    "    dc.id\n",
    "  , 1\n",
    "  , dc.diag_code_01\n",
    "  , i.id\n",
    "FROM\n",
    "    dc\n",
    "    JOIN ref.icd10s i ON i.icd10 = dc.diag_code_01\n",
    ";\n",
    "\n",
    "SELECT *\n",
    "FROM\n",
    "    junk.\"external_emr_data_20210727_CFM\";\n",
    " ;\n",
    "SELECT\n",
    "FROM\n",
    "    raw.external_emr_data_20210727_cfm_from_diane ;\n",
    "\n",
    "\n",
    "\n",
    "WITH\n",
    "    dc AS\n",
    "        (\n",
    "            INSERT\n",
    "                INTO\n",
    "                    dirty_claims(raw_id, source, is_rx, member_id, date_from, date_to, diag_code_01, inserted_at,\n",
    "                                 updated_at,  diag_code_02\n",
    "  , diag_code_03\n",
    "  , diag_code_04\n",
    "  , diag_code_05\n",
    "  , diag_code_06\n",
    "  , diag_code_07\n",
    "  , diag_code_08\n",
    "  , diag_code_09\n",
    "  , diag_code_10\n",
    "  , diag_code_11\n",
    "  , diag_code_12\n",
    "  , diag_code_13\n",
    "  , diag_code_14\n",
    "  , diag_code_15)\n",
    "                    SELECT\n",
    "                        j.id\n",
    "                      , 'raw.external_emr_data_20210727_cfm_from_diane'\n",
    "                      , FALSE\n",
    "                      , m.id\n",
    "                      , \"Last Visit Date\"\n",
    "                         , null\n",
    "                      , diag_1\n",
    "                      , NOW()\n",
    "                      , NOW()\n",
    "                    , diag_2\n",
    "                      , diag_3\n",
    "                      , diag_4\n",
    "                      , diag_5\n",
    "                      , diag_6\n",
    "                      , diag_7\n",
    "                      , diag_8\n",
    "                      , diag_9\n",
    "                      , diag_10\n",
    "                      , diag_11\n",
    "                      , diag_12\n",
    "                      , diag_13\n",
    "                      , diag_14\n",
    "                      , diag_15\n",
    "                    FROM\n",
    "                        raw.external_emr_data_20210727_cfm_from_diane j\n",
    "                        JOIN members m ON LOWER(m.first_name) = LOWER(j.\"First Name\")\n",
    "                            AND LOWER(m.last_name) = LOWER(j.\"Last Name\")\n",
    "                            AND m.date_of_birth = j.\"DOB\"::DATE\n",
    "                    RETURNING id , raw_id\n",
    "        )\n",
    ", unnested as (\n",
    " SELECT\n",
    "    dc.id\n",
    "  ,  UNNEST(r.\"Active_Diagnosis\"::TEXT[]) icd\n",
    "FROM\n",
    "    dc\n",
    "        join raw.external_emr_data_20210727_cfm_from_diane r on r.id = dc.raw_id\n",
    ")\n",
    "INSERT\n",
    "INTO\n",
    "    dirty_claims_diagnosis (dirty_claim_id, diag_sequence, diag, icd10_id)\n",
    "\n",
    "SELECT un.id\n",
    "     , row_number() OVER (PARTITION BY un.id)\n",
    "     , un.icd\n",
    "    , i.id\n",
    "    from unnested un\n",
    "    JOIN ref.icd10s i ON i.icd10 = un.icd\n",
    ";\n",
    "\n",
    "\n",
    "    DROP TABLE IF EXISTS  junk.\"external_emr_data_20211015_hometown_from_diane.csv\";\n",
    "\n",
    "\n",
    "SELECT\n",
    "    id\n",
    "  , \"Encounter - ID\"\n",
    "  , \"Patient - ID\"\n",
    "  , \"Patient - Name - First\"\n",
    "  , \"Patient - Name - Last\"\n",
    "  , \"Rendering Provider - NPI\"\n",
    "  , \"Patient - DOB - Full\"\n",
    "  , \"Procedure - DOS\"\n",
    "  , \"Diagnosis - Diagnosis 1\"\n",
    "\n",
    "  , inserted_at\n",
    "FROM\n",
    "    raw.external_emr_data_20211015_hometown_from_diane;\n",
    "\n",
    "-- begin;\n",
    "-- ROLLBACK ;\n",
    "-- commit;\n",
    "SELECT *\n",
    "FROM\n",
    "    cb.dirty_claims dc\n",
    "    JOIN dirty_claims_diagnosis dcd ON dc.id = dcd.dirty_claim_id\n",
    "WHERE source =   'raw.external_emr_data_20211015_hometown_from_diane'\n",
    "\n",
    ";\n",
    "\n",
    "WITH\n",
    "    dc AS\n",
    "        (\n",
    "            INSERT\n",
    "                INTO\n",
    "                    dirty_claims(raw_id, source, is_rx, member_id, date_from, date_to, diag_code_01, inserted_at,\n",
    "                                 updated_at,  diag_code_02\n",
    "  , diag_code_03\n",
    "  , diag_code_04\n",
    "  , diag_code_05\n",
    "  , diag_code_06\n",
    "  , diag_code_07\n",
    "  , diag_code_08\n",
    "  , diag_code_09\n",
    "  , diag_code_10\n",
    "  , diag_code_11\n",
    "  , diag_code_12\n",
    ")\n",
    "                    SELECT\n",
    "                        j.id\n",
    "                      , 'raw.external_emr_data_20211015_hometown_from_diane'\n",
    "                      , FALSE\n",
    "                      , m.id\n",
    "                         , \"Procedure - DOS\"\n",
    "                      , \"Procedure - DOS\"\n",
    "                         , \"Diagnosis - Diagnosis 1\"\n",
    "                      , NOW()\n",
    "                      , NOW()\n",
    "                    , \"Diagnosis - Diagnosis 2\"\n",
    "  , \"Diagnosis - Diagnosis 3\"\n",
    "  , \"Diagnosis - Diagnosis 4\"\n",
    "  , \"Diagnosis - Diagnosis 5\"\n",
    "  , \"Diagnosis - Diagnosis 6\"\n",
    "  , \"Diagnosis - Diagnosis 7\"\n",
    "  , \"Diagnosis - Diagnosis 8\"\n",
    "  , \"Diagnosis - Diagnosis 9\"\n",
    "  , \"Diagnosis - Diagnosis 10\"\n",
    "  , \"Diagnosis - Diagnosis 11\"\n",
    "  , \"Diagnosis - Diagnosis 12\"\n",
    "                    FROM\n",
    "                        raw.external_emr_data_20211015_hometown_from_diane j\n",
    "                        JOIN members m ON LOWER(m.first_name) = LOWER(j.\"Patient - Name - First\")\n",
    "                            AND LOWER(m.last_name) = LOWER(j.\"Patient - Name - Last\")\n",
    "                            AND m.date_of_birth = j.\"Patient - DOB - Full\"\n",
    "                    RETURNING *\n",
    "        )\n",
    "INSERT\n",
    "INTO\n",
    "    dirty_claims_diagnosis (dirty_claim_id, diag_sequence, diag, icd10_id)\n",
    "SELECT\n",
    "    dc.id\n",
    "  , 1\n",
    "  , dc.diag_code_01\n",
    "  , i.id\n",
    "FROM\n",
    "    dc\n",
    "    JOIN ref.icd10s i ON i.icd10 = dc.diag_code_01\n",
    "union\n",
    "SELECT\n",
    "    dc.id\n",
    "  , 2\n",
    "  , dc.diag_code_02\n",
    "  , i.id\n",
    "FROM\n",
    "    dc\n",
    "    JOIN ref.icd10s i ON i.icd10 = dc.diag_code_02\n",
    "WHERE diag_code_02 != 'nan'\n",
    "union\n",
    "SELECT\n",
    "    dc.id\n",
    "  , 3\n",
    "  , dc.diag_code_03\n",
    "  , i.id\n",
    "FROM\n",
    "    dc\n",
    "    JOIN ref.icd10s i ON i.icd10 = dc.diag_code_03\n",
    "WHERE diag_code_03 != 'nan'\n",
    "union\n",
    "SELECT\n",
    "    dc.id\n",
    "  , 4\n",
    "  , dc.diag_code_04\n",
    "  , i.id\n",
    "FROM\n",
    "    dc\n",
    "    JOIN ref.icd10s i ON i.icd10 = dc.diag_code_04\n",
    "WHERE diag_code_04 != 'nan'\n",
    "union\n",
    "SELECT\n",
    "    dc.id\n",
    "  , 5\n",
    "  , dc.diag_code_05\n",
    "  , i.id\n",
    "FROM\n",
    "    dc\n",
    "    JOIN ref.icd10s i ON i.icd10 = dc.diag_code_05\n",
    "WHERE diag_code_05 != 'nan'\n",
    "union\n",
    "SELECT\n",
    "    dc.id\n",
    "  , 6\n",
    "  , dc.diag_code_06\n",
    "  , i.id\n",
    "FROM\n",
    "    dc\n",
    "    JOIN ref.icd10s i ON i.icd10 = dc.diag_code_06\n",
    "WHERE diag_code_06 != 'nan'\n",
    "union\n",
    "SELECT\n",
    "    dc.id\n",
    "  , 7\n",
    "  , dc.diag_code_07\n",
    "  , i.id\n",
    "FROM\n",
    "    dc\n",
    "    JOIN ref.icd10s i ON i.icd10 = dc.diag_code_07\n",
    "WHERE diag_code_07 != 'nan'\n",
    "union\n",
    "SELECT\n",
    "    dc.id\n",
    "  , 8\n",
    "  , dc.diag_code_08\n",
    "  , i.id\n",
    "FROM\n",
    "    dc\n",
    "    JOIN ref.icd10s i ON i.icd10 = dc.diag_code_08\n",
    "WHERE diag_code_08 != 'nan'\n",
    "union\n",
    "SELECT\n",
    "    dc.id\n",
    "  , 9\n",
    "  , dc.diag_code_09\n",
    "  , i.id\n",
    "FROM\n",
    "    dc\n",
    "    JOIN ref.icd10s i ON i.icd10 = dc.diag_code_09\n",
    "WHERE diag_code_09 != 'nan'\n",
    "union\n",
    "SELECT\n",
    "    dc.id\n",
    "  , 10\n",
    "  , dc.diag_code_10\n",
    "  , i.id\n",
    "FROM\n",
    "    dc\n",
    "    JOIN ref.icd10s i ON i.icd10 = dc.diag_code_10\n",
    "WHERE diag_code_10 != 'nan'\n",
    "union\n",
    "SELECT\n",
    "    dc.id\n",
    "  , 11\n",
    "  , dc.diag_code_11\n",
    "  , i.id\n",
    "FROM\n",
    "    dc\n",
    "    JOIN ref.icd10s i ON i.icd10 = dc.diag_code_11\n",
    "WHERE diag_code_11 != 'nan'\n",
    "union\n",
    "SELECT\n",
    "    dc.id\n",
    "  , 12\n",
    "  , dc.diag_code_12\n",
    "  , i.id\n",
    "FROM\n",
    "    dc\n",
    "    JOIN ref.icd10s i ON i.icd10 = dc.diag_code_12\n",
    "WHERE diag_code_12 != 'nan'\n",
    "\n",
    ";"
   ]
  }
 ],
 "metadata": {
  "kernelspec": {
   "display_name": "Python 3 (ipykernel)",
   "language": "python",
   "name": "python3"
  },
  "language_info": {
   "codemirror_mode": {
    "name": "ipython",
    "version": 3
   },
   "file_extension": ".py",
   "mimetype": "text/x-python",
   "name": "python",
   "nbconvert_exporter": "python",
   "pygments_lexer": "ipython3",
   "version": "3.8.5"
  }
 },
 "nbformat": 4,
 "nbformat_minor": 4
}
