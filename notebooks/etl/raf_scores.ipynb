{
 "cells": [
  {
   "cell_type": "code",
   "execution_count": null,
   "id": "dccbcddc",
   "metadata": {},
   "outputs": [],
   "source": [
    "import json\n",
    "import sys\n",
    "import pandas as pd\n",
    "from hccpy.hcc import HCCEngine\n",
    "sys.path.append('../src')\n",
    "import cb_utils"
   ]
  },
  {
   "cell_type": "code",
   "execution_count": null,
   "id": "008d5f03",
   "metadata": {},
   "outputs": [],
   "source": [
    "query = \"\"\"\n",
    "\n",
    "WITH\n",
    "    mems AS (\n",
    "        SELECT\n",
    "            m.id\n",
    "          , DATE_PART('year', AGE(m.date_of_birth))                          age\n",
    "          , UPPER(m.gender)                                                  sex\n",
    "          , ROW_NUMBER() OVER (PARTITION BY m.id ORDER BY es.end_date DESC ) rn\n",
    "          , CASE\n",
    "--              \"INS\": Long Term Institutional\n",
    "                WHEN ggroup = '1'                                                    THEN 'INS'\n",
    "--              \"CFD\": Community Full Benefit Dual Disabled\n",
    "                WHEN product = 'ecf' OR DATE_PART('year', AGE(m.date_of_birth)) < 65 THEN 'CFD'\n",
    "--              \"CFA\": Community Full Benefit Dual Aged\n",
    "                ELSE 'CFA' END AS                                            hcc_elg\n",
    "          , product = 'ecf'                                                  is_disabled\n",
    "          , es.line_of_business_id\n",
    "          , ggroup\n",
    "          , is_dual\n",
    "          , MAX(cd.id) IS NOT NULL                                           is_esrd\n",
    "        FROM\n",
    "            cb.members m\n",
    "            LEFT JOIN cb.claims c ON m.id = c.member_id AND m.mco_id = c.mco_id\n",
    "            LEFT JOIN cb.claims_diagnosis cd ON c.id = cd.claim_id AND cd.diag = 'n18.6'\n",
    "--             JOIN      cb.cb_risk_batch_members rm ON rm.member_id = m.id\n",
    "            JOIN      cb.eligibility_segments es ON es.member_id = m.id\n",
    "                AND start_date <= '2020-01-01'\n",
    "        where m.mco_id in (1,2)\n",
    "        GROUP BY m.id, DATE_PART('year', AGE(m.date_of_birth)), UPPER(m.gender), CASE\n",
    "--              \"INS\": Long Term Institutional\n",
    "                WHEN ggroup = '1'                                                    THEN 'INS'\n",
    "--              \"CFD\": Community Full Benefit Dual Disabled\n",
    "                WHEN product = 'ecf' OR DATE_PART('year', AGE(m.date_of_birth)) < 65 THEN 'CFD'\n",
    "--              \"CFA\": Community Full Benefit Dual Aged\n",
    "                ELSE 'CFA' END, product = 'ecf', es.line_of_business_id, ggroup, is_dual\n",
    "        , es.end_date\n",
    "    )\n",
    "SELECT\n",
    "    m.id\n",
    "  , m.age\n",
    "  , m.sex\n",
    "  , m.hcc_elg\n",
    "--              orec: str\n",
    "--               Original reason for entitlement code.\n",
    "--               - \"0\": Old age and survivor's insurance\n",
    "--               - \"1\": Disability insurance benefits\n",
    "--               - \"2\": End-stage renal disease\n",
    "--               - \"3\": Both DIB and ESRD\n",
    "  , CASE WHEN m.is_disabled AND m.is_esrd THEN '3' -- not perfect is_disabled flag\n",
    "         WHEN m.is_esrd                   THEN '2'\n",
    "         WHEN m.is_disabled OR m.age < 65 THEN '1'\n",
    "         ELSE '0' END           orec\n",
    "  , ARRAY_AGG(DISTINCT cd.diag) dx\n",
    "FROM\n",
    "    mems m\n",
    "    JOIN cb.claims c ON c.member_id = m.id\n",
    "    JOIN cb.claims_diagnosis cd ON c.id = cd.claim_id\n",
    "WHERE\n",
    "    DATE_PART('year', c.date_from) = 2020\n",
    "    and m.rn = 1\n",
    "GROUP BY\n",
    "    1, 2, 3, 4, 5;\n",
    "\n",
    "\"\"\""
   ]
  },
  {
   "cell_type": "code",
   "execution_count": null,
   "id": "81db8478",
   "metadata": {},
   "outputs": [],
   "source": []
  },
  {
   "cell_type": "code",
   "execution_count": null,
   "id": "99183cf4",
   "metadata": {},
   "outputs": [],
   "source": [
    "df = cb_utils.sql_query_to_df(query)\n",
    "# pd.read_sql?"
   ]
  },
  {
   "cell_type": "code",
   "execution_count": null,
   "id": "ec0cc3a4",
   "metadata": {},
   "outputs": [],
   "source": [
    "df.shape"
   ]
  },
  {
   "cell_type": "code",
   "execution_count": null,
   "id": "b227a656",
   "metadata": {},
   "outputs": [],
   "source": [
    "df.head()"
   ]
  },
  {
   "cell_type": "code",
   "execution_count": null,
   "id": "acc19e37",
   "metadata": {},
   "outputs": [],
   "source": [
    "df.to_csv('all_tn_query_df.csv')\n",
    "# df = pd.read_csv('all_tn_query_df.csv')"
   ]
  },
  {
   "cell_type": "code",
   "execution_count": null,
   "id": "84346b52",
   "metadata": {},
   "outputs": [],
   "source": [
    "results = []\n",
    "he = HCCEngine(year='2020')\n",
    "for i, r in df.iterrows():\n",
    "    rp = he.profile(r.dx, age=r.age, sex=r.sex, elig=r.hcc_elg, orec=r.orec, medicaid=True)\n",
    "    result = {}\n",
    "    result['member_id'] = r.id\n",
    "    result['raw'] = json.dumps(rp)\n",
    "    result['risk_score'] = rp['risk_score']\n",
    "    results.append(result)\n",
    "# rp = he.profile()"
   ]
  },
  {
   "cell_type": "code",
   "execution_count": null,
   "id": "00fd0105",
   "metadata": {},
   "outputs": [],
   "source": [
    "results_df = pd.DataFrame(results)"
   ]
  },
  {
   "cell_type": "code",
   "execution_count": null,
   "id": "e6f015e5",
   "metadata": {},
   "outputs": [],
   "source": [
    "results_df.head()"
   ]
  },
  {
   "cell_type": "code",
   "execution_count": null,
   "id": "278de633-73e3-4fcd-9d71-3e962623c6b8",
   "metadata": {},
   "outputs": [],
   "source": [
    "results_df.shape"
   ]
  },
  {
   "cell_type": "code",
   "execution_count": null,
   "id": "fcf1bb51-a47c-420b-8235-c2f9af80a54f",
   "metadata": {},
   "outputs": [],
   "source": [
    "results_df.describe()"
   ]
  },
  {
   "cell_type": "code",
   "execution_count": null,
   "id": "f1e08153",
   "metadata": {},
   "outputs": [],
   "source": [
    "results_df.to_sql('raf_for_tn_mems_20210602', cb_utils.get_engine(), schema='junk', index=False, if_exists='replace')"
   ]
  },
  {
   "cell_type": "code",
   "execution_count": null,
   "id": "f1c47bee",
   "metadata": {},
   "outputs": [],
   "source": []
  }
 ],
 "metadata": {
  "kernelspec": {
   "display_name": "Python 3 (ipykernel)",
   "language": "python",
   "name": "python3"
  },
  "language_info": {
   "codemirror_mode": {
    "name": "ipython",
    "version": 3
   },
   "file_extension": ".py",
   "mimetype": "text/x-python",
   "name": "python",
   "nbconvert_exporter": "python",
   "pygments_lexer": "ipython3",
   "version": "3.8.5"
  }
 },
 "nbformat": 4,
 "nbformat_minor": 5
}
