{
 "cells": [
  {
   "cell_type": "code",
   "execution_count": 4,
   "metadata": {},
   "outputs": [],
   "source": [
    "import sys\n",
    "import pandas as pd\n",
    "import boto3\n",
    "from time import time\n",
    "import subprocess\n",
    "sys.path.append('../../src')\n",
    "import cb_utils\n",
    "import datetime\n",
    "import json\n",
    "\n",
    "pd.options.display.max_columns = 500\n",
    "con = cb_utils.get_engine()\n",
    "\n",
    "%load_ext autoreload\n",
    "%autoreload 2"
   ]
  },
  {
   "cell_type": "code",
   "execution_count": 2,
   "metadata": {},
   "outputs": [
    {
     "data": {
      "text/html": [
       "<div>\n",
       "<style scoped>\n",
       "    .dataframe tbody tr th:only-of-type {\n",
       "        vertical-align: middle;\n",
       "    }\n",
       "\n",
       "    .dataframe tbody tr th {\n",
       "        vertical-align: top;\n",
       "    }\n",
       "\n",
       "    .dataframe thead th {\n",
       "        text-align: right;\n",
       "    }\n",
       "</style>\n",
       "<table border=\"1\" class=\"dataframe\">\n",
       "  <thead>\n",
       "    <tr style=\"text-align: right;\">\n",
       "      <th></th>\n",
       "      <th>id</th>\n",
       "      <th>original_name</th>\n",
       "      <th>s3_bucket</th>\n",
       "      <th>s3_key</th>\n",
       "      <th>hash</th>\n",
       "      <th>is_already_transferred</th>\n",
       "      <th>is_successful_download</th>\n",
       "      <th>is_successful_upload</th>\n",
       "      <th>is_successful_job_enqueued</th>\n",
       "      <th>is_still_being_written</th>\n",
       "      <th>has_error</th>\n",
       "      <th>error</th>\n",
       "      <th>job_id</th>\n",
       "      <th>path</th>\n",
       "      <th>file_size</th>\n",
       "      <th>modified_at</th>\n",
       "      <th>retrieval_batch_id</th>\n",
       "      <th>ftp_server_id</th>\n",
       "      <th>inserted_at</th>\n",
       "      <th>updated_at</th>\n",
       "      <th>is_ignored</th>\n",
       "    </tr>\n",
       "  </thead>\n",
       "  <tbody>\n",
       "    <tr>\n",
       "      <th>0</th>\n",
       "      <td>98788</td>\n",
       "      <td>cb_ip_auth_20211005.txt</td>\n",
       "      <td>cb-analytics-us-east-2-prd</td>\n",
       "      <td>inbound/uhc_tn/authorization_notifications/163...</td>\n",
       "      <td>cb_ip_auth_20211005.txt-2021-10-5-10-13-5-37906</td>\n",
       "      <td>False</td>\n",
       "      <td>True</td>\n",
       "      <td>True</td>\n",
       "      <td>True</td>\n",
       "      <td>False</td>\n",
       "      <td>False</td>\n",
       "      <td>NaN</td>\n",
       "      <td>190754</td>\n",
       "      <td>NaN</td>\n",
       "      <td>37906</td>\n",
       "      <td>2021-10-05 10:13:05</td>\n",
       "      <td>104546</td>\n",
       "      <td>5</td>\n",
       "      <td>2021-10-05 11:10:04.306068</td>\n",
       "      <td>2021-10-05 11:10:04.421982</td>\n",
       "      <td>NaN</td>\n",
       "    </tr>\n",
       "    <tr>\n",
       "      <th>1</th>\n",
       "      <td>98789</td>\n",
       "      <td>cb_op_auth_20211005.txt</td>\n",
       "      <td>cb-analytics-us-east-2-prd</td>\n",
       "      <td>inbound/uhc_tn/authorization_notifications/163...</td>\n",
       "      <td>cb_op_auth_20211005.txt-2021-10-5-10-13-5-20079</td>\n",
       "      <td>False</td>\n",
       "      <td>True</td>\n",
       "      <td>True</td>\n",
       "      <td>True</td>\n",
       "      <td>False</td>\n",
       "      <td>False</td>\n",
       "      <td>NaN</td>\n",
       "      <td>190755</td>\n",
       "      <td>NaN</td>\n",
       "      <td>20079</td>\n",
       "      <td>2021-10-05 10:13:05</td>\n",
       "      <td>104546</td>\n",
       "      <td>5</td>\n",
       "      <td>2021-10-05 11:10:04.424588</td>\n",
       "      <td>2021-10-05 11:10:04.507572</td>\n",
       "      <td>NaN</td>\n",
       "    </tr>\n",
       "    <tr>\n",
       "      <th>2</th>\n",
       "      <td>99263</td>\n",
       "      <td>cb_ip_auth_20211006.txt</td>\n",
       "      <td>cb-analytics-us-east-2-prd</td>\n",
       "      <td>inbound/uhc_tn/authorization_notifications/163...</td>\n",
       "      <td>cb_ip_auth_20211006.txt-2021-10-6-10-9-51-43627</td>\n",
       "      <td>False</td>\n",
       "      <td>True</td>\n",
       "      <td>True</td>\n",
       "      <td>True</td>\n",
       "      <td>False</td>\n",
       "      <td>False</td>\n",
       "      <td>NaN</td>\n",
       "      <td>192051</td>\n",
       "      <td>NaN</td>\n",
       "      <td>43627</td>\n",
       "      <td>2021-10-06 10:09:51</td>\n",
       "      <td>105683</td>\n",
       "      <td>5</td>\n",
       "      <td>2021-10-06 11:10:06.990966</td>\n",
       "      <td>2021-10-06 11:10:07.156720</td>\n",
       "      <td>NaN</td>\n",
       "    </tr>\n",
       "    <tr>\n",
       "      <th>3</th>\n",
       "      <td>99264</td>\n",
       "      <td>cb_op_auth_20211006.txt</td>\n",
       "      <td>cb-analytics-us-east-2-prd</td>\n",
       "      <td>inbound/uhc_tn/authorization_notifications/163...</td>\n",
       "      <td>cb_op_auth_20211006.txt-2021-10-6-10-9-51-34478</td>\n",
       "      <td>False</td>\n",
       "      <td>True</td>\n",
       "      <td>True</td>\n",
       "      <td>True</td>\n",
       "      <td>False</td>\n",
       "      <td>False</td>\n",
       "      <td>NaN</td>\n",
       "      <td>192052</td>\n",
       "      <td>NaN</td>\n",
       "      <td>34478</td>\n",
       "      <td>2021-10-06 10:09:51</td>\n",
       "      <td>105683</td>\n",
       "      <td>5</td>\n",
       "      <td>2021-10-06 11:10:07.159226</td>\n",
       "      <td>2021-10-06 11:10:07.230596</td>\n",
       "      <td>NaN</td>\n",
       "    </tr>\n",
       "    <tr>\n",
       "      <th>4</th>\n",
       "      <td>99496</td>\n",
       "      <td>Authenticare10-05-2021.xlsx</td>\n",
       "      <td>cb-analytics-us-east-2-prd</td>\n",
       "      <td>inbound/uhc_ks/authorization/1633540201_99496_...</td>\n",
       "      <td>Authenticare10-05-2021.xlsx-2021-10-5-18-1-42-...</td>\n",
       "      <td>False</td>\n",
       "      <td>True</td>\n",
       "      <td>True</td>\n",
       "      <td>True</td>\n",
       "      <td>False</td>\n",
       "      <td>False</td>\n",
       "      <td>NaN</td>\n",
       "      <td>192544</td>\n",
       "      <td>NaN</td>\n",
       "      <td>4798952</td>\n",
       "      <td>2021-10-05 18:01:42</td>\n",
       "      <td>105999</td>\n",
       "      <td>176</td>\n",
       "      <td>2021-10-06 17:10:01.264796</td>\n",
       "      <td>2021-10-06 17:10:02.289531</td>\n",
       "      <td>NaN</td>\n",
       "    </tr>\n",
       "  </tbody>\n",
       "</table>\n",
       "</div>"
      ],
      "text/plain": [
       "      id                original_name                   s3_bucket  \\\n",
       "0  98788      cb_ip_auth_20211005.txt  cb-analytics-us-east-2-prd   \n",
       "1  98789      cb_op_auth_20211005.txt  cb-analytics-us-east-2-prd   \n",
       "2  99263      cb_ip_auth_20211006.txt  cb-analytics-us-east-2-prd   \n",
       "3  99264      cb_op_auth_20211006.txt  cb-analytics-us-east-2-prd   \n",
       "4  99496  Authenticare10-05-2021.xlsx  cb-analytics-us-east-2-prd   \n",
       "\n",
       "                                              s3_key  \\\n",
       "0  inbound/uhc_tn/authorization_notifications/163...   \n",
       "1  inbound/uhc_tn/authorization_notifications/163...   \n",
       "2  inbound/uhc_tn/authorization_notifications/163...   \n",
       "3  inbound/uhc_tn/authorization_notifications/163...   \n",
       "4  inbound/uhc_ks/authorization/1633540201_99496_...   \n",
       "\n",
       "                                                hash  is_already_transferred  \\\n",
       "0    cb_ip_auth_20211005.txt-2021-10-5-10-13-5-37906                   False   \n",
       "1    cb_op_auth_20211005.txt-2021-10-5-10-13-5-20079                   False   \n",
       "2    cb_ip_auth_20211006.txt-2021-10-6-10-9-51-43627                   False   \n",
       "3    cb_op_auth_20211006.txt-2021-10-6-10-9-51-34478                   False   \n",
       "4  Authenticare10-05-2021.xlsx-2021-10-5-18-1-42-...                   False   \n",
       "\n",
       "   is_successful_download  is_successful_upload  is_successful_job_enqueued  \\\n",
       "0                    True                  True                        True   \n",
       "1                    True                  True                        True   \n",
       "2                    True                  True                        True   \n",
       "3                    True                  True                        True   \n",
       "4                    True                  True                        True   \n",
       "\n",
       "   is_still_being_written  has_error  error  job_id  path  file_size  \\\n",
       "0                   False      False    NaN  190754   NaN      37906   \n",
       "1                   False      False    NaN  190755   NaN      20079   \n",
       "2                   False      False    NaN  192051   NaN      43627   \n",
       "3                   False      False    NaN  192052   NaN      34478   \n",
       "4                   False      False    NaN  192544   NaN    4798952   \n",
       "\n",
       "           modified_at  retrieval_batch_id  ftp_server_id  \\\n",
       "0  2021-10-05 10:13:05              104546              5   \n",
       "1  2021-10-05 10:13:05              104546              5   \n",
       "2  2021-10-06 10:09:51              105683              5   \n",
       "3  2021-10-06 10:09:51              105683              5   \n",
       "4  2021-10-05 18:01:42              105999            176   \n",
       "\n",
       "                  inserted_at                  updated_at  is_ignored  \n",
       "0  2021-10-05 11:10:04.306068  2021-10-05 11:10:04.421982         NaN  \n",
       "1  2021-10-05 11:10:04.424588  2021-10-05 11:10:04.507572         NaN  \n",
       "2  2021-10-06 11:10:06.990966  2021-10-06 11:10:07.156720         NaN  \n",
       "3  2021-10-06 11:10:07.159226  2021-10-06 11:10:07.230596         NaN  \n",
       "4  2021-10-06 17:10:01.264796  2021-10-06 17:10:02.289531         NaN  "
      ]
     },
     "execution_count": 2,
     "metadata": {},
     "output_type": "execute_result"
    }
   ],
   "source": [
    "df = pd.read_csv('/Users/bp/Downloads/member_doc_file_router_external_files.csv')\n",
    "df.head()"
   ]
  },
  {
   "cell_type": "code",
   "execution_count": 24,
   "metadata": {},
   "outputs": [],
   "source": [
    "files = []\n",
    "for idx, r in df.iterrows():\n",
    "    files.append((r.id, r.original_name, r.s3_bucket, format_path(r.s3_key)))\n",
    "#     print(r)"
   ]
  },
  {
   "cell_type": "code",
   "execution_count": 23,
   "metadata": {},
   "outputs": [],
   "source": [
    "import os\n",
    "import subprocess\n",
    "def format_path(p):\n",
    "    path_parts = p.split(\"/\")\n",
    "    path_parts.insert(3, \"processed\")\n",
    "    return \"/\".join(path_parts)"
   ]
  },
  {
   "cell_type": "code",
   "execution_count": 28,
   "metadata": {},
   "outputs": [],
   "source": []
  },
  {
   "cell_type": "code",
   "execution_count": 38,
   "metadata": {},
   "outputs": [
    {
     "name": "stdout",
     "output_type": "stream",
     "text": [
      "Authenticare10-05-2021.xlsx\n",
      "Authenticare10-06-2021.xlsx\n",
      "Authenticare10-07-2021.xlsx\n",
      "Authenticare10-08-2021.xlsx\n",
      "Authenticare10-11-2021.xlsx\n",
      "Authenticare10-12-2021.xlsx\n",
      "Authenticare10-13-2021.xlsx\n",
      "Authenticare10-14-2021.xlsx\n",
      "Authenticare10-15-2021.xlsx\n",
      "Authenticare10-18-2021.xlsx\n",
      "Authenticare10-19-2021.xlsx\n",
      "TN_2021Q4_XWALK_2021_10_18.xlsx\n",
      "failed for:  103100 TN_2021Q4_XWALK_2021_10_18.xlsx\n",
      "Authenticare10-20-2021.xlsx\n",
      "Authenticare10-21-2021.xlsx\n",
      "Authenticare10-22-2021.xlsx\n",
      "Authenticare10-25-2021.xlsx\n"
     ]
    }
   ],
   "source": [
    "results = []\n",
    "for i, f, b, p in files:\n",
    "    try:\n",
    "        if '.xlsx' in f:\n",
    "            print(f)\n",
    "            s3.download_file(b, p, f)\n",
    "\n",
    "            d = pd.read_excel(f, sheet_name='Sheet1')\n",
    "#             num_lines = sum(1 for line in open(f))\n",
    "            num_lines = d.shape[0]\n",
    "            results.append({'file_id': i, 'num_lines': num_lines})\n",
    "            os.remove(f)\n",
    "    except:\n",
    "        print('failed for: ', i, f)"
   ]
  },
  {
   "cell_type": "code",
   "execution_count": 39,
   "metadata": {},
   "outputs": [
    {
     "data": {
      "text/html": [
       "<div>\n",
       "<style scoped>\n",
       "    .dataframe tbody tr th:only-of-type {\n",
       "        vertical-align: middle;\n",
       "    }\n",
       "\n",
       "    .dataframe tbody tr th {\n",
       "        vertical-align: top;\n",
       "    }\n",
       "\n",
       "    .dataframe thead th {\n",
       "        text-align: right;\n",
       "    }\n",
       "</style>\n",
       "<table border=\"1\" class=\"dataframe\">\n",
       "  <thead>\n",
       "    <tr style=\"text-align: right;\">\n",
       "      <th></th>\n",
       "      <th>file_id</th>\n",
       "      <th>num_lines</th>\n",
       "    </tr>\n",
       "  </thead>\n",
       "  <tbody>\n",
       "    <tr>\n",
       "      <th>0</th>\n",
       "      <td>99496</td>\n",
       "      <td>108923</td>\n",
       "    </tr>\n",
       "    <tr>\n",
       "      <th>1</th>\n",
       "      <td>99498</td>\n",
       "      <td>109372</td>\n",
       "    </tr>\n",
       "    <tr>\n",
       "      <th>2</th>\n",
       "      <td>99926</td>\n",
       "      <td>109642</td>\n",
       "    </tr>\n",
       "    <tr>\n",
       "      <th>3</th>\n",
       "      <td>100276</td>\n",
       "      <td>110099</td>\n",
       "    </tr>\n",
       "    <tr>\n",
       "      <th>4</th>\n",
       "      <td>101102</td>\n",
       "      <td>110535</td>\n",
       "    </tr>\n",
       "  </tbody>\n",
       "</table>\n",
       "</div>"
      ],
      "text/plain": [
       "   file_id  num_lines\n",
       "0    99496     108923\n",
       "1    99498     109372\n",
       "2    99926     109642\n",
       "3   100276     110099\n",
       "4   101102     110535"
      ]
     },
     "execution_count": 39,
     "metadata": {},
     "output_type": "execute_result"
    }
   ],
   "source": [
    "rdf = pd.DataFrame(results)\n",
    "rdf.head()"
   ]
  },
  {
   "cell_type": "code",
   "execution_count": 40,
   "metadata": {},
   "outputs": [],
   "source": [
    "eng = cb_utils.get_engine()\n",
    "\n",
    "rdf.to_sql('line_counts_20211026', eng, schema='junk', if_exists='append', method='multi', index=False)"
   ]
  },
  {
   "cell_type": "code",
   "execution_count": null,
   "metadata": {},
   "outputs": [],
   "source": [
    "# \n",
    "failed for:  103101 TN_Expanded_Member_Eligibility_20211018.txt --\n",
    "failed for:  104421 TN_Member_Eligibility_20211018.txt -- 8937\n",
    "failed for:  104420 TN_Member_Eligibility_20210816.txt -- 6220"
   ]
  },
  {
   "cell_type": "code",
   "execution_count": null,
   "metadata": {},
   "outputs": [],
   "source": []
  },
  {
   "cell_type": "code",
   "execution_count": null,
   "metadata": {},
   "outputs": [],
   "source": []
  },
  {
   "cell_type": "code",
   "execution_count": null,
   "metadata": {},
   "outputs": [],
   "source": []
  },
  {
   "cell_type": "code",
   "execution_count": null,
   "metadata": {},
   "outputs": [],
   "source": []
  },
  {
   "cell_type": "code",
   "execution_count": null,
   "metadata": {},
   "outputs": [],
   "source": [
    "AWS_ACCESS_KEY_ID\n",
    "The access key for your AWS account.\n",
    "\n",
    "AWS_SECRET_ACCESS_KEY\n",
    "The secret key for your AWS account."
   ]
  },
  {
   "cell_type": "code",
   "execution_count": null,
   "metadata": {},
   "outputs": [],
   "source": []
  },
  {
   "cell_type": "code",
   "execution_count": 5,
   "metadata": {},
   "outputs": [],
   "source": [
    "bucket_name = 'cb-member-doc-us-east-2-prd'\n",
    "prefix = 'parsed_claim_file_archive/'"
   ]
  },
  {
   "cell_type": "code",
   "execution_count": 6,
   "metadata": {},
   "outputs": [],
   "source": [
    "client = boto3.client('s3')"
   ]
  },
  {
   "cell_type": "code",
   "execution_count": 7,
   "metadata": {},
   "outputs": [],
   "source": [
    "response = client.list_objects_v2(Bucket=bucket_name, Prefix=prefix)"
   ]
  },
  {
   "cell_type": "code",
   "execution_count": 7,
   "metadata": {},
   "outputs": [],
   "source": [
    "contents = response['Contents']"
   ]
  },
  {
   "cell_type": "code",
   "execution_count": 52,
   "metadata": {},
   "outputs": [],
   "source": [
    "s3 = boto3.resource('s3')\n",
    "bucket = s3.Bucket(bucket_name)    \n",
    "files = []\n",
    "for file in bucket.objects.filter(Prefix=prefix):\n",
    "    #compare dates \n",
    "    if (file.last_modified).replace(tzinfo = None).date() >= datetime.datetime(2021,1, 5,tzinfo = None).date():\n",
    "        files.append(file)"
   ]
  },
  {
   "cell_type": "code",
   "execution_count": 53,
   "metadata": {},
   "outputs": [
    {
     "data": {
      "text/plain": [
       "551"
      ]
     },
     "execution_count": 53,
     "metadata": {},
     "output_type": "execute_result"
    }
   ],
   "source": [
    "len(files)"
   ]
  },
  {
   "cell_type": "code",
   "execution_count": 54,
   "metadata": {},
   "outputs": [],
   "source": [
    "files = [f for f in files if '999.x12.json' not in f.key]"
   ]
  },
  {
   "cell_type": "code",
   "execution_count": 55,
   "metadata": {},
   "outputs": [
    {
     "data": {
      "text/plain": [
       "365"
      ]
     },
     "execution_count": 55,
     "metadata": {},
     "output_type": "execute_result"
    }
   ],
   "source": [
    "len(files)"
   ]
  },
  {
   "cell_type": "code",
   "execution_count": 56,
   "metadata": {},
   "outputs": [],
   "source": [
    "files = [f for f in files if '.277Ack.x12.json' not in f.key]"
   ]
  },
  {
   "cell_type": "code",
   "execution_count": 57,
   "metadata": {},
   "outputs": [
    {
     "data": {
      "text/plain": [
       "189"
      ]
     },
     "execution_count": 57,
     "metadata": {},
     "output_type": "execute_result"
    }
   ],
   "source": [
    "len(files)"
   ]
  },
  {
   "cell_type": "code",
   "execution_count": 58,
   "metadata": {},
   "outputs": [],
   "source": [
    "files = [f for f in files if '.277.json' in f.key]"
   ]
  },
  {
   "cell_type": "code",
   "execution_count": 59,
   "metadata": {},
   "outputs": [
    {
     "data": {
      "text/plain": [
       "35"
      ]
     },
     "execution_count": 59,
     "metadata": {},
     "output_type": "execute_result"
    }
   ],
   "source": [
    "len(files)"
   ]
  },
  {
   "cell_type": "code",
   "execution_count": 60,
   "metadata": {},
   "outputs": [],
   "source": [
    "hs_files = [\n",
    "'10472_UB920166_2021010406020901.277.json',\n",
    "'10652_UB920166_2021010501521901.277.json',\n",
    "'10653_UB920166_2021010502035101.277.json',\n",
    "'10654_UB920166_2021010502071001.277.json',\n",
    "'10655_UB920166_2021010502194201.277.json',\n",
    "'10656_UB920166_2021010502411601.277.json',\n",
    "'10657_UB920166_2021010504160001.277.json',\n",
    "'10658_UB920166_2021010504160002.277.json',\n",
    "'10659_UB920166_2021010504160003.277.json',\n",
    "'10660_UB920166_2021010504160004.277.json',\n",
    "'10661_UB920166_2021010504160005.277.json',\n",
    "'10662_UB920166_2021010504160006.277.json',\n",
    "'10663_UB920166_2021010504160101.277.json',\n",
    "]\n",
    "def hs_file(f):\n",
    "    is_hs_file = False\n",
    "    for hs_f in hs_files:\n",
    "        if hs_f in f.key:\n",
    "            is_hs_file = True\n",
    "            break\n",
    "    return is_hs_file"
   ]
  },
  {
   "cell_type": "code",
   "execution_count": 61,
   "metadata": {},
   "outputs": [],
   "source": [
    "files = [f for f in files if not hs_file(f)]"
   ]
  },
  {
   "cell_type": "code",
   "execution_count": 62,
   "metadata": {},
   "outputs": [
    {
     "data": {
      "text/plain": [
       "23"
      ]
     },
     "execution_count": 62,
     "metadata": {},
     "output_type": "execute_result"
    }
   ],
   "source": [
    "len(files)"
   ]
  },
  {
   "cell_type": "code",
   "execution_count": null,
   "metadata": {},
   "outputs": [],
   "source": []
  },
  {
   "cell_type": "code",
   "execution_count": 36,
   "metadata": {},
   "outputs": [
    {
     "name": "stdout",
     "output_type": "stream",
     "text": [
      "parsed_claim_file_archive/10474_GATE0166_2021010413064501.277.json 2021-01-05 00:00:22+00:00\n",
      "parsed_claim_file_archive/10475_GATE0166_2021010416160401.277.json 2021-01-05 00:00:23+00:00\n",
      "parsed_claim_file_archive/10476_GATE0166_2021010420005201.277.json 2021-01-05 06:00:23+00:00\n",
      "parsed_claim_file_archive/10735_UB920166_2021010506015101.277.json 2021-01-05 18:00:25+00:00\n",
      "parsed_claim_file_archive/10736_UB920166_2021010506160101.277.json 2021-01-05 18:00:25+00:00\n",
      "parsed_claim_file_archive/10737_UB920166_2021010507160301.277.json 2021-01-05 18:00:26+00:00\n",
      "parsed_claim_file_archive/10739_GATE0166_2021010511524401.277.json 2021-01-06 00:00:24+00:00\n",
      "parsed_claim_file_archive/10740_GATE0166_2021010512312601.277.json 2021-01-06 00:00:25+00:00\n",
      "parsed_claim_file_archive/10741_GATE0166_2021010516160501.277.json 2021-01-06 00:00:25+00:00\n",
      "parsed_claim_file_archive/10742_UB920166_2021010516020001.277.json 2021-01-06 00:00:26+00:00\n",
      "parsed_claim_file_archive/10743_GATE0166_2021010520080901.277.json 2021-01-06 06:00:25+00:00\n",
      "parsed_claim_file_archive/10744_GATE0166_2021010521024201.277.json 2021-01-06 06:00:25+00:00\n",
      "parsed_claim_file_archive/11016_UB920166_2021010602022801.277.json 2021-01-06 12:00:25+00:00\n",
      "parsed_claim_file_archive/11017_UB920166_2021010602035001.277.json 2021-01-06 12:00:26+00:00\n",
      "parsed_claim_file_archive/11018_UB920166_2021010602124601.277.json 2021-01-06 12:00:26+00:00\n",
      "parsed_claim_file_archive/11019_UB920166_2021010602253201.277.json 2021-01-06 12:00:27+00:00\n",
      "parsed_claim_file_archive/11020_UB920166_2021010604160001.277.json 2021-01-06 12:00:27+00:00\n",
      "parsed_claim_file_archive/11021_UB920166_2021010604160002.277.json 2021-01-06 12:00:28+00:00\n",
      "parsed_claim_file_archive/11022_UB920166_2021010604160101.277.json 2021-01-06 12:00:28+00:00\n",
      "parsed_claim_file_archive/11023_UB920166_2021010604160102.277.json 2021-01-06 12:00:28+00:00\n",
      "parsed_claim_file_archive/11024_UB920166_2021010604160103.277.json 2021-01-06 12:00:29+00:00\n",
      "parsed_claim_file_archive/11025_UB920166_2021010604160201.277.json 2021-01-06 12:00:29+00:00\n",
      "parsed_claim_file_archive/11026_UB920166_2021010604160301.277.json 2021-01-06 12:00:29+00:00\n"
     ]
    }
   ],
   "source": [
    "for f in files[:23]:\n",
    "    print(f.key, f.last_modified)"
   ]
  },
  {
   "cell_type": "code",
   "execution_count": 37,
   "metadata": {},
   "outputs": [],
   "source": [
    "potential = [\n",
    "'parsed_claim_file_archive/10735_UB920166_2021010506015101.277.json',\n",
    "'parsed_claim_file_archive/10736_UB920166_2021010506160101.277.json',\n",
    "'parsed_claim_file_archive/10737_UB920166_2021010507160301.277.json',\n",
    "]"
   ]
  },
  {
   "cell_type": "code",
   "execution_count": 38,
   "metadata": {},
   "outputs": [
    {
     "name": "stdout",
     "output_type": "stream",
     "text": [
      "s3.ObjectSummary(bucket_name='cb-member-doc-us-east-2-prd', key='parsed_claim_file_archive/10735_UB920166_2021010506015101.277.json')\n",
      "s3.ObjectSummary(bucket_name='cb-member-doc-us-east-2-prd', key='parsed_claim_file_archive/10736_UB920166_2021010506160101.277.json')\n",
      "s3.ObjectSummary(bucket_name='cb-member-doc-us-east-2-prd', key='parsed_claim_file_archive/10737_UB920166_2021010507160301.277.json')\n"
     ]
    }
   ],
   "source": [
    "for f in files:\n",
    "    if f.key in potential:\n",
    "        print(f)"
   ]
  },
  {
   "cell_type": "code",
   "execution_count": 70,
   "metadata": {},
   "outputs": [],
   "source": [
    "content = [(f, f.get()['Body'].read().decode('utf-8')) for f in files]"
   ]
  },
  {
   "cell_type": "code",
   "execution_count": 71,
   "metadata": {},
   "outputs": [],
   "source": [
    "# json.loads?\n",
    "# c = content[0]['Body'].read().decode('utf-8')"
   ]
  },
  {
   "cell_type": "code",
   "execution_count": 74,
   "metadata": {},
   "outputs": [
    {
     "name": "stdout",
     "output_type": "stream",
     "text": [
      "one s3.ObjectSummary(bucket_name='cb-member-doc-us-east-2-prd', key='parsed_claim_file_archive/10739_GATE0166_2021010511524401.277.json')\n",
      "two s3.ObjectSummary(bucket_name='cb-member-doc-us-east-2-prd', key='parsed_claim_file_archive/10739_GATE0166_2021010511524401.277.json')\n"
     ]
    }
   ],
   "source": [
    "for f, c in content:\n",
    "    if '100000035' in c:\n",
    "        if '3785' in c:\n",
    "            print('one', f)\n",
    "            file_content_3785 = json.loads(c)\n",
    "        if '3778' in c:\n",
    "            print('two', f)\n",
    "            file_content_3778 = json.loads(c)"
   ]
  },
  {
   "cell_type": "code",
   "execution_count": 75,
   "metadata": {},
   "outputs": [
    {
     "data": {
      "text/plain": [
       "{'document': [{'billing_provider_name': 'CAREBRIDGE MEDICAL GROUP, PC',\n",
       "   'billing_provider_npi': '1124656616',\n",
       "   'check_date': None,\n",
       "   'check_number': '',\n",
       "   'claim_amount': '0',\n",
       "   'claim_external_status_code': 'A6:21',\n",
       "   'claim_external_status_description': 'Missing or invalid information. Note: At least one other status code is required to identify the missing or invalid information.',\n",
       "   'claim_status': 'U',\n",
       "   'clearinghouse_id': None,\n",
       "   'date_of_service': '2020-10-13',\n",
       "   'date_of_services': '20201013-20201013',\n",
       "   'is_claim_accepted': False,\n",
       "   'is_claim_denied': False,\n",
       "   'is_claim_paid': False,\n",
       "   'is_claim_rejected': True,\n",
       "   'is_submitter_accepted': True,\n",
       "   'paid_amount': '',\n",
       "   'patient_control_num': '3778',\n",
       "   'patient_fname': 'SHIRLEY',\n",
       "   'patient_id': '106538691',\n",
       "   'patient_lname': 'LINCOLN',\n",
       "   'payer_clrhs_name': 'INGENIX - EDIS',\n",
       "   'payer_entity_identifier_code': 'AY',\n",
       "   'payer_entity_type_qualifier': '2',\n",
       "   'payer_identifier': '9080180109',\n",
       "   'process_date': '2021-01-05',\n",
       "   'raw_data': \"ST*277*000000001*005010X214~BHT*0085*08*000000001*20210105*1152*TH~HL*1**20*1~NM1*AY*2*INGENIX - EDIS*****46*9080180109~TRN*1*000000001~DTP*050*D8*20210105~DTP*009*D8*20210105~HL*2*1*21*1~NM1*41*2*CAREBRIDGEHEALTH*****46*GATE0166~TRN*2*100000035-0159~STC*A0:16*20210105*WQ*0~QTY*90*0~QTY*AA*1~AMT*YU*0~AMT*YY*0~HL*3*2*19*1~NM1*85*2*CAREBRIDGE MEDICAL GROUP, PC*****XX*1124656616~TRN*1*0~QTY*QA*0~QTY*QC*1~AMT*YU*0~AMT*YY*0~HL*4*3*PT~NM1*QC*1*LINCOLN*SHIRLEY****MI*106538691~TRN*2*3778~STC*A6:21*20210105*U*0********H10614 Missing Mandatory 'Professional Service - Product/Service ID', required for HIPAA.~DTP*472*RD8*20201013-20201013~SE*28*000000001\",\n",
       "   'received_date': '2021-01-05',\n",
       "   'submitter_external_status_code': 'A0:16',\n",
       "   'submitter_external_status_description': 'Claim/encounter has been forwarded to entity. Note: This code requires use of an Entity Code.',\n",
       "   'submitter_status': 'WQ',\n",
       "   'transmit_receipt': '000000001'},\n",
       "  {'billing_provider_name': 'CAREBRIDGE MEDICAL GROUP, PC',\n",
       "   'billing_provider_npi': '1124656616',\n",
       "   'check_date': None,\n",
       "   'check_number': '',\n",
       "   'claim_amount': '0',\n",
       "   'claim_external_status_code': 'A6:21',\n",
       "   'claim_external_status_description': 'Missing or invalid information. Note: At least one other status code is required to identify the missing or invalid information.',\n",
       "   'claim_status': 'U',\n",
       "   'clearinghouse_id': None,\n",
       "   'date_of_service': '2020-10-13',\n",
       "   'date_of_services': '20201013-20201013',\n",
       "   'is_claim_accepted': False,\n",
       "   'is_claim_denied': False,\n",
       "   'is_claim_paid': False,\n",
       "   'is_claim_rejected': True,\n",
       "   'is_submitter_accepted': True,\n",
       "   'paid_amount': '',\n",
       "   'patient_control_num': '3785',\n",
       "   'patient_fname': 'ELLA',\n",
       "   'patient_id': '106452415',\n",
       "   'patient_lname': 'BAKER',\n",
       "   'payer_clrhs_name': 'INGENIX - EDIS',\n",
       "   'payer_entity_identifier_code': 'AY',\n",
       "   'payer_entity_type_qualifier': '2',\n",
       "   'payer_identifier': '9080180109',\n",
       "   'process_date': '2021-01-05',\n",
       "   'raw_data': \"ST*277*000000002*005010X214~BHT*0085*08*000000002*20210105*1152*TH~HL*1**20*1~NM1*AY*2*INGENIX - EDIS*****46*9080180109~TRN*1*000000002~DTP*050*D8*20210105~DTP*009*D8*20210105~HL*2*1*21*1~NM1*41*2*CAREBRIDGEHEALTH*****46*GATE0166~TRN*2*100000035-0198~STC*A0:16*20210105*WQ*0~QTY*90*0~QTY*AA*1~AMT*YU*0~AMT*YY*0~HL*3*2*19*1~NM1*85*2*CAREBRIDGE MEDICAL GROUP, PC*****XX*1124656616~TRN*1*0~QTY*QA*0~QTY*QC*1~AMT*YU*0~AMT*YY*0~HL*4*3*PT~NM1*QC*1*BAKER*ELLA****MI*106452415~TRN*2*3785~STC*A6:21*20210105*U*0********H10614 Missing Mandatory 'Professional Service - Product/Service ID', required for HIPAA.~DTP*472*RD8*20201013-20201013~SE*28*000000002~GE*2*26324679~IEA*1*026324679\",\n",
       "   'received_date': '2021-01-05',\n",
       "   'submitter_external_status_code': 'A0:16',\n",
       "   'submitter_external_status_description': 'Claim/encounter has been forwarded to entity. Note: This code requires use of an Entity Code.',\n",
       "   'submitter_status': 'WQ',\n",
       "   'transmit_receipt': '000000002'}],\n",
       " 's3_e_tag': '\"008754dee0a271d5ba245157581d02d6\"',\n",
       " 's3_last_modified': '2021-01-05T23:45:04.000Z',\n",
       " 's3_size': '1614',\n",
       " 'status': 'success'}"
      ]
     },
     "execution_count": 75,
     "metadata": {},
     "output_type": "execute_result"
    }
   ],
   "source": [
    "file_content_3778"
   ]
  },
  {
   "cell_type": "code",
   "execution_count": null,
   "metadata": {},
   "outputs": [],
   "source": []
  }
 ],
 "metadata": {
  "kernelspec": {
   "display_name": "Python 3 (ipykernel)",
   "language": "python",
   "name": "python3"
  },
  "language_info": {
   "codemirror_mode": {
    "name": "ipython",
    "version": 3
   },
   "file_extension": ".py",
   "mimetype": "text/x-python",
   "name": "python",
   "nbconvert_exporter": "python",
   "pygments_lexer": "ipython3",
   "version": "3.10.8"
  }
 },
 "nbformat": 4,
 "nbformat_minor": 4
}
