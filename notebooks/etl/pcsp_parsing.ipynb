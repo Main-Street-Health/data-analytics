{
 "cells": [
  {
   "cell_type": "code",
   "execution_count": null,
   "id": "9429ec3a-b8c0-484f-83c4-f655e275e940",
   "metadata": {},
   "outputs": [],
   "source": [
    "import pandas as pd\n",
    "import pdfplumber\n",
    "from tqdm import tqdm\n",
    "import os"
   ]
  },
  {
   "cell_type": "code",
   "execution_count": null,
   "id": "d34473c0-0c51-406a-bfca-2dc1f9d5c951",
   "metadata": {},
   "outputs": [],
   "source": [
    "files_dir = '/Users/bp/Downloads/ds_documents'"
   ]
  },
  {
   "cell_type": "code",
   "execution_count": null,
   "id": "af017363-c921-43da-98e8-f37d8c9f15f2",
   "metadata": {},
   "outputs": [],
   "source": [
    "file_names = [f for f in os.listdir(files_dir) if f[:5] == 'PCSP_']\n",
    "file_names "
   ]
  },
  {
   "cell_type": "code",
   "execution_count": null,
   "id": "84ec4954-c336-41d3-86eb-89488641d853",
   "metadata": {},
   "outputs": [],
   "source": [
    "columns = ['service_code_and_description', 'mod', 'units', 'span', 'rate', 'start_date', 'end_date', 'self_directed', 'provider_responsible', 'status']\n",
    "n_cols = len(columns)"
   ]
  },
  {
   "cell_type": "code",
   "execution_count": null,
   "id": "9acc7b07-dcb2-4dd3-8cb6-0c98c4f221e4",
   "metadata": {},
   "outputs": [],
   "source": [
    "# for file_name in file_names:\n",
    "# 6: random box\n",
    "# 7: missing modifier\n",
    "# 9: works but some extra on page2\n",
    "# 12: only header on p1, rest on p2\n",
    "# 15: works but some extra on page2\n",
    "# 18: waiver services on p1, rest on p2\n",
    "# bad = [6, 7]\n",
    "# file_name = file_names[20]\n",
    "# path = f'{files_dir}/{file_name}'\n",
    "# opts = {\"edge_min_length\": 75}"
   ]
  },
  {
   "cell_type": "code",
   "execution_count": null,
   "id": "3edb4f7c-7fce-4b7f-ad3a-e442cd1faa63",
   "metadata": {},
   "outputs": [],
   "source": [
    "opts = {\"edge_min_length\": 75}"
   ]
  },
  {
   "cell_type": "code",
   "execution_count": null,
   "id": "629ac3cc-fa97-42bc-b9d0-d464497b20ec",
   "metadata": {},
   "outputs": [],
   "source": [
    "def get_table_section_of_page(page):\n",
    "    my_waiver_services = [d for d in page.extract_words(x_tolerance=3, y_tolerance=1, use_text_flow=True, keep_blank_chars=True)\n",
    "                          if 'My Waiver Services' in d['text']][0]\n",
    "    table_crop = (0, my_waiver_services['bottom'], page.width, page.height)\n",
    "    return page.crop(table_crop )"
   ]
  },
  {
   "cell_type": "code",
   "execution_count": null,
   "id": "64c3bc05-868f-409a-b06c-4214b29c2c9c",
   "metadata": {},
   "outputs": [],
   "source": [
    "def get_name_dob_sid(page):\n",
    "    name, dob, sid = page.extract_text().split('\\n')[:3]\n",
    "    name = name.replace('Member Name: ', '').strip()\n",
    "    dob = dob.replace('DOB: ', '').strip()\n",
    "    sid = sid.replace('SID: ', '').strip()\n",
    "    return name, dob, sid"
   ]
  },
  {
   "cell_type": "code",
   "execution_count": null,
   "id": "086c2f2d-b0dc-4be2-94bf-e27d767dc89d",
   "metadata": {},
   "outputs": [],
   "source": [
    "def build_waver_services_df(page):\n",
    "    lines = page.extract_table(opts)\n",
    "    try:\n",
    "        df = pd.DataFrame(lines[1:], columns=columns)\n",
    "        original_rows = df.shape[0]\n",
    "        df = df.loc[df.service_code_and_description != '']\n",
    "\n",
    "        df['code'] = df.service_code_and_description.str.split('-').apply(lambda x: x[0])\n",
    "        for col in df.columns:\n",
    "            df[col] = df[col].str.replace('\\n', ' ')\n",
    "            \n",
    "        return df\n",
    "    \n",
    "    except Exception as e:\n",
    "        im = page.to_image()\n",
    "        display(im.reset().debug_tablefinder(opts))\n",
    "        display(e)\n",
    "        display(lines)\n",
    "        # raise"
   ]
  },
  {
   "cell_type": "code",
   "execution_count": null,
   "id": "f2f9db2f-ac9d-4efa-aa99-7f3c1de2d3f2",
   "metadata": {},
   "outputs": [],
   "source": [
    "def parse_waiver_services(path):\n",
    "    pdf = pdfplumber.open(path)\n",
    "    for i, page in enumerate(pdf.pages):\n",
    "        page_text = page.extract_text().replace('\\n', ' ')\n",
    "\n",
    "        if 'Service Code and Description' in page_text or 'My Waiver Services' in page_text:\n",
    "            break\n",
    "\n",
    "    name, dob, sid = get_name_dob_sid(page)\n",
    "    table_crop = get_table_section_of_page(page)\n",
    "    # display(table_crop.to_image())\n",
    "    df = build_waver_services_df(table_crop)\n",
    "    \n",
    "    next_page = pdf.pages[i+1]\n",
    "    lines = next_page.extract_table()\n",
    "    if df is not None and lines is not None and len(lines[0]) == df.shape[1]:\n",
    "        if lines[0][0].strip() == '':\n",
    "            for i, v in enumerate(lines[0]):\n",
    "                df.iat[-1, i] = df.iat[-1, i] + v\n",
    "        elif df is not None:\n",
    "            df.append(build_waver_services_df(next_page))\n",
    "        else:\n",
    "            df = build_waver_services_df(next_page)\n",
    "            \n",
    "    if df is not None:\n",
    "        df = df.assign(name=name, dob=dob, sid=sid)\n",
    "    else:\n",
    "        print(path)\n",
    "    return df"
   ]
  },
  {
   "cell_type": "code",
   "execution_count": null,
   "id": "747b967c-b0aa-4d24-bb90-694e47182c6f",
   "metadata": {},
   "outputs": [],
   "source": [
    "dfs = []\n",
    "for file_name in tqdm(file_names):\n",
    "    path = f'{files_dir}/{file_name}'\n",
    "    df = parse_waiver_services(path)\n",
    "    dfs.append(df)\n",
    "\n",
    "combined_df = pd.concat(dfs)\n",
    "\n",
    "combined_df.head()"
   ]
  },
  {
   "cell_type": "code",
   "execution_count": null,
   "id": "db7f1248-29d5-45ef-b4b9-32d18fe1d4b9",
   "metadata": {},
   "outputs": [],
   "source": [
    "combined_df.to_csv('/Users/bp/Downloads/parsed_waivers.csv', index=False)"
   ]
  },
  {
   "cell_type": "markdown",
   "id": "9276c61f-caa8-4e26-94ee-96ab6b2bdee0",
   "metadata": {},
   "source": [
    "### workspace"
   ]
  },
  {
   "cell_type": "code",
   "execution_count": null,
   "id": "02ebcf3a-3ee1-4eb9-a2f8-02d82fbf7be4",
   "metadata": {},
   "outputs": [],
   "source": [
    "file_name = file_names[4]\n",
    "path = f'{files_dir}/{file_name}'\n",
    "opts = {\"edge_min_length\": 75}\n",
    "pdf =  pdf = pdfplumber.open(path)\n",
    "\n",
    "for i, page in tqdm(enumerate(pdf.pages)):\n",
    "    if 'Service Code and Description' in page.extract_text() or 'My Waiver Services' in page.extract_text():\n",
    "        break\n",
    "        \n",
    "im = page.to_image()\n",
    "display(im.reset().debug_tablefinder(opts))"
   ]
  },
  {
   "cell_type": "code",
   "execution_count": null,
   "id": "4c39762f-40c2-4c5e-b861-e803b3397791",
   "metadata": {},
   "outputs": [],
   "source": [
    "# page = pdf.pages[i+1]\n",
    "# im = page.to_image()\n",
    "# im.reset().debug_tablefinder(opts)"
   ]
  },
  {
   "cell_type": "code",
   "execution_count": null,
   "id": "05bb0fe6-7cd1-4e62-867a-e49d15d2cd76",
   "metadata": {},
   "outputs": [],
   "source": [
    "lines = page.extract_table()\n",
    "df = pd.DataFrame(lines[3:], columns=columns)\n",
    "df = df.loc[df.service_code_and_description != '']\n",
    "\n",
    "df['code'] = df.service_code_and_description.str.split('-').apply(lambda x: x[0])\n",
    "df['span'] = df.span.str.replace('\\n', '')\n",
    "df['start_date'] = df.start_date.str.replace('\\n', '')\n",
    "df['end_date'] = df.end_date.str.replace('\\n', '')\n",
    "df['provider_responsible'] = df.provider_responsible.str.replace('\\n', ' ')\n",
    "df = df[real_cols]\n",
    "return df"
   ]
  },
  {
   "cell_type": "code",
   "execution_count": null,
   "id": "d94bfc5b-9958-4fd2-809f-23bf5a8be495",
   "metadata": {},
   "outputs": [],
   "source": [
    "# im = page.to_image()\n",
    "# im.reset().debug_tablefinder(opts)"
   ]
  },
  {
   "cell_type": "code",
   "execution_count": null,
   "id": "b1aef9df-c5e2-44d6-a405-a6fed6499da2",
   "metadata": {},
   "outputs": [],
   "source": [
    "def build_df(lines):\n",
    "    df = pd.DataFrame(lines[1:], columns=columns)\n",
    "    original_rows = df.shape[0]\n",
    "    df = df.loc[df.service_code_and_description != '']\n",
    "\n",
    "    df['code'] = df.service_code_and_description.str.split('-').apply(lambda x: x[0])\n",
    "    for col in df.columns:\n",
    "        df[col] = df[col].str.replace('\\n', ' ')\n",
    "    # df = df[real_cols]\n",
    "    return df\n",
    "    \n",
    "# df.head()"
   ]
  },
  {
   "cell_type": "code",
   "execution_count": null,
   "id": "9d393ae2-c6a4-4707-a97c-7c0c91a9b9bb",
   "metadata": {},
   "outputs": [],
   "source": []
  },
  {
   "cell_type": "code",
   "execution_count": null,
   "id": "4e921bb5-333f-4720-838f-551e1e6d8780",
   "metadata": {},
   "outputs": [],
   "source": [
    "def get_name_dob_sid(page):\n",
    "    name, dob, sid = page.extract_text().split('\\n')[:3]\n",
    "    name = name.replace('Member Name: ', '').strip()\n",
    "    dob = dob.replace('DOB: ', '').strip()\n",
    "    sid = sid.replace('SID: ', '').strip()\n",
    "    return name, dob, sid"
   ]
  },
  {
   "cell_type": "code",
   "execution_count": null,
   "id": "ca22d8df-efa7-44f8-8097-ac539c89e6b3",
   "metadata": {},
   "outputs": [],
   "source": [
    "# if original_rows == df.shape[0]:\n",
    "# if 'SCL and Habilitation information' not in next_page.extract_text():\n",
    "next_page = pdf.pages[i+1]\n",
    "lines = next_page.extract_table()\n",
    "im = next_page.to_image()\n",
    "im.reset().debug_tablefinder(opts)\n",
    "# else:\n",
    "#     # remove \n",
    "#     next_page = pdf.pages[i+1]\n",
    "#     lines = next_page.extract_table()\n",
    "#     im = next_page.to_image()\n",
    "#     im.reset().debug_tablefinder()\n",
    "#     print('no second page')\n",
    "        "
   ]
  },
  {
   "cell_type": "code",
   "execution_count": null,
   "id": "f04c5e1c-ad64-4954-b49c-3aa19934534e",
   "metadata": {},
   "outputs": [],
   "source": []
  },
  {
   "cell_type": "code",
   "execution_count": null,
   "id": "faf8d357-49e2-4d0f-8dd2-3d6b21055a79",
   "metadata": {},
   "outputs": [],
   "source": [
    "# next_page = pdf.pages[i+1]\n",
    "# im = next_page.to_image()\n",
    "# im.reset().debug_tablefinder()"
   ]
  },
  {
   "cell_type": "code",
   "execution_count": null,
   "id": "1e3443c3-2fc5-49f6-bb0f-4696926f4aba",
   "metadata": {},
   "outputs": [],
   "source": [
    "if 'SCL and Habilitation information' not in next_page.extract_text():\n",
    "    lines = next_page.extract_table()"
   ]
  },
  {
   "cell_type": "code",
   "execution_count": null,
   "id": "9549ca62-0f1f-486b-b941-f4dbc53dece4",
   "metadata": {},
   "outputs": [],
   "source": [
    "lines"
   ]
  },
  {
   "cell_type": "code",
   "execution_count": null,
   "id": "e3b607a4-e955-4172-a555-cf86a7f7f56d",
   "metadata": {},
   "outputs": [],
   "source": []
  },
  {
   "cell_type": "code",
   "execution_count": null,
   "id": "694839e2-db92-43b3-a889-cbed1edae6ff",
   "metadata": {},
   "outputs": [],
   "source": []
  },
  {
   "cell_type": "code",
   "execution_count": null,
   "id": "9c9433b5-9d4f-4fe6-b142-866fe3721810",
   "metadata": {},
   "outputs": [],
   "source": [
    "lines = page.extract_table()\n",
    "if n_cols == len(lines[0]):"
   ]
  },
  {
   "cell_type": "code",
   "execution_count": null,
   "id": "f28ec35c-b2cf-4d43-9781-1d3d109bf024",
   "metadata": {},
   "outputs": [],
   "source": []
  },
  {
   "cell_type": "code",
   "execution_count": null,
   "id": "57f2f2a1-969a-45ce-9780-27985e48c910",
   "metadata": {},
   "outputs": [],
   "source": []
  },
  {
   "cell_type": "code",
   "execution_count": null,
   "id": "85922a55-3a5f-42e8-b1b9-8f35b9a431d2",
   "metadata": {},
   "outputs": [],
   "source": []
  }
 ],
 "metadata": {
  "kernelspec": {
   "display_name": "Python 3 (ipykernel)",
   "language": "python",
   "name": "python3"
  },
  "language_info": {
   "codemirror_mode": {
    "name": "ipython",
    "version": 3
   },
   "file_extension": ".py",
   "mimetype": "text/x-python",
   "name": "python",
   "nbconvert_exporter": "python",
   "pygments_lexer": "ipython3",
   "version": "3.9.10"
  }
 },
 "nbformat": 4,
 "nbformat_minor": 5
}
