{
 "cells": [
  {
   "cell_type": "code",
   "execution_count": null,
   "id": "9b004343-8e4c-4d6c-b404-5229f4bfc7ac",
   "metadata": {},
   "outputs": [],
   "source": [
    "import pandas as pd\n",
    "from sqlalchemy import create_engine"
   ]
  },
  {
   "cell_type": "code",
   "execution_count": null,
   "id": "20b297c3-cd25-4506-8794-c1306f7288e8",
   "metadata": {},
   "outputs": [],
   "source": [
    "! cat '../../thrio-prod-carebridge-metabase-1171d896c535.json'"
   ]
  },
  {
   "cell_type": "code",
   "execution_count": null,
   "id": "a00e129b-7c73-4cc3-8a8c-2b13d5767fab",
   "metadata": {},
   "outputs": [],
   "source": [
    "db = create_engine('bigquery://', credentials_path='../../thrio-prod-carebridge-metabase-1171d896c535.json')"
   ]
  },
  {
   "cell_type": "code",
   "execution_count": null,
   "id": "9c8e311a-2b9b-44f8-ad85-dab5b968c3fb",
   "metadata": {},
   "outputs": [],
   "source": []
  },
  {
   "cell_type": "code",
   "execution_count": null,
   "id": "69119409-4704-416b-8dbf-dcbb50154e0f",
   "metadata": {},
   "outputs": [],
   "source": []
  },
  {
   "cell_type": "code",
   "execution_count": null,
   "id": "29fa4d6c-1597-480d-b54d-3eff701beda2",
   "metadata": {},
   "outputs": [],
   "source": []
  },
  {
   "cell_type": "code",
   "execution_count": null,
   "id": "47711a79-ec62-467d-8975-bf29b47bd60d",
   "metadata": {},
   "outputs": [],
   "source": []
  },
  {
   "cell_type": "code",
   "execution_count": null,
   "id": "0da0eec1-06c4-430e-9e58-cc4ad9e4b4bb",
   "metadata": {},
   "outputs": [],
   "source": []
  },
  {
   "cell_type": "code",
   "execution_count": null,
   "id": "cc42da8c-5f3c-4cb3-b93e-9b6cdc658ead",
   "metadata": {},
   "outputs": [],
   "source": [
    "from google.cloud import bigquery"
   ]
  },
  {
   "cell_type": "code",
   "execution_count": null,
   "id": "e9928d8a-6557-4451-997e-6158aef560b0",
   "metadata": {},
   "outputs": [],
   "source": [
    "# Construct a BigQuery client object.\n",
    "client = bigquery.Client()"
   ]
  },
  {
   "cell_type": "code",
   "execution_count": null,
   "id": "1a04ca3b-66a3-4158-861a-efebae0da959",
   "metadata": {},
   "outputs": [],
   "source": [
    "query = \"\"\"\n",
    "SELECT *\n",
    "FROM\n",
    "    carebridge_out.OUT1619126300715\n",
    "LIMIT 1;\n",
    "\"\"\"\n",
    "\n",
    "dataframe = (\n",
    "    client.query(query_string)\n",
    "    .result()\n",
    "    # .to_dataframe(\n",
    "    #     # Optionally, explicitly request to use the BigQuery Storage API. As of\n",
    "    #     # google-cloud-bigquery version 1.26.0 and above, the BigQuery Storage\n",
    "    #     # API is used by default.\n",
    "    #     create_bqstorage_client=True,\n",
    "    # )\n",
    ")\n",
    "print(dataframe.head())\n"
   ]
  }
 ],
 "metadata": {
  "kernelspec": {
   "display_name": "Python 3 (ipykernel)",
   "language": "python",
   "name": "python3"
  },
  "language_info": {
   "codemirror_mode": {
    "name": "ipython",
    "version": 3
   },
   "file_extension": ".py",
   "mimetype": "text/x-python",
   "name": "python",
   "nbconvert_exporter": "python",
   "pygments_lexer": "ipython3",
   "version": "3.10.4"
  }
 },
 "nbformat": 4,
 "nbformat_minor": 5
}
