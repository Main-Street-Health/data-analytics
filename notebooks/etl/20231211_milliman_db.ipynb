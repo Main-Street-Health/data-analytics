{
 "cells": [
  {
   "cell_type": "code",
   "execution_count": 1,
   "id": "39494305-5cba-421d-9de8-dc19abaf685e",
   "metadata": {},
   "outputs": [],
   "source": [
    "import os\n",
    "import sys\n",
    "import re\n",
    "import time\n",
    "import random\n",
    "import warnings\n",
    "import collections\n",
    "from tqdm import tqdm\n",
    "import numpy as np\n",
    "import pandas as pd\n",
    "import matplotlib.pyplot as plt\n",
    "import matplotlib.gridspec as gridspec\n",
    "import seaborn as sns\n",
    "\n",
    "sys.path.append('../../src')\n",
    "import cb_utils\n",
    "\n",
    "sns.set(style=\"darkgrid\")\n",
    "pd.options.display.max_columns = 500\n",
    "\n",
    "%load_ext autoreload\n",
    "%autoreload 2"
   ]
  },
  {
   "cell_type": "markdown",
   "id": "2529f94e-739c-44c3-b29e-46caf7b10032",
   "metadata": {},
   "source": [
    "# Milliman PAC File ETL\n",
    "1) log into SFTP site: https://secureftp.milliman.com  \n",
    "2) In the \"from milliman\" folder, go to the latest directory  \n",
    "     - In this case, the latest directory is \"20221216\"  \n",
    "3) Make sure you have access to the following folder: \\\\Main Street Health\\MSH_Strategy_Group - ACO Analyses\\Raw MIlliman Flat FIles\\  \n",
    "     - create folder with same datestamp as file from milliman, in this case \"20221216\"  \n",
    "4) Download the files from the SFTP site  \n",
    "     - in this case there are 3  \n",
    "5) copy the data disctionary to the folder on the network drive.  \n",
    "6) download the prospective and retrospective CSV files into database tables in both the MSH and CB datagrip environments (Alan has a place he puts them)  \n",
    "7) delete the last 30 columns from these database tables (we will create a \"pivot file\" with these 30 columns):  \n",
    "8) with these 30 columns, run Alan's \"pivot code\" to create these files:  \n",
    "     - strategic_milliman_prosp_20221128_pivot\n",
    "     -  strategic_milliman_retro_20221128_pivot\n",
    "9) copy 4 files to the \"20221216\" folder  \n",
    "     - prospective flat file (without the 30 MA columns)\n",
    "     - retrospective flat file (without the 30 MA columns)\n",
    "     - prospective MA pivot file\n",
    "     - retrospective MA pivor file\n",
    "10) email Ali and Ben that process is complete with the following summaries that you can pull via queries and paste in excel into the same folder.  "
   ]
  },
  {
   "cell_type": "markdown",
   "id": "44215ce0-432e-4587-84b8-a042cd97819e",
   "metadata": {},
   "source": [
    "### Config"
   ]
  },
  {
   "cell_type": "code",
   "execution_count": 2,
   "id": "32367e78-9b95-4d7f-9a6f-791f100c15a4",
   "metadata": {},
   "outputs": [],
   "source": [
    "data_dir = '/Users/bp/workspace/msh/milliman_data'\n",
    "current_folder = '20231212'\n",
    "pro_file_name = 'ACO Builder MSSP Prospective Explorer No MD Visit Req v2024.3.txt'\n",
    "retro_file_name = 'ACO Builder MSSP Retrospective Explorer No MD Visit Req v2024.3.txt'"
   ]
  },
  {
   "cell_type": "markdown",
   "id": "b615fbb8-c175-4b0d-9a4b-6017485c8ca0",
   "metadata": {},
   "source": [
    "### Pro load"
   ]
  },
  {
   "cell_type": "code",
   "execution_count": 3,
   "id": "b7dae4a0-e460-409d-9d44-bef70f6abfa7",
   "metadata": {},
   "outputs": [
    {
     "name": "stdout",
     "output_type": "stream",
     "text": [
      "711630 rows, 32 columns\n"
     ]
    },
    {
     "data": {
      "text/html": [
       "<div>\n",
       "<style scoped>\n",
       "    .dataframe tbody tr th:only-of-type {\n",
       "        vertical-align: middle;\n",
       "    }\n",
       "\n",
       "    .dataframe tbody tr th {\n",
       "        vertical-align: top;\n",
       "    }\n",
       "\n",
       "    .dataframe thead th {\n",
       "        text-align: right;\n",
       "    }\n",
       "</style>\n",
       "<table border=\"1\" class=\"dataframe\">\n",
       "  <thead>\n",
       "    <tr style=\"text-align: right;\">\n",
       "      <th></th>\n",
       "      <th>pac_id</th>\n",
       "      <th>deid_tin</th>\n",
       "      <th>prvdr_name</th>\n",
       "      <th>year</th>\n",
       "      <th>program_type</th>\n",
       "      <th>mms_esrd</th>\n",
       "      <th>mms_dis</th>\n",
       "      <th>mms_ad</th>\n",
       "      <th>mms_and</th>\n",
       "      <th>mms_total</th>\n",
       "      <th>rs_esrd</th>\n",
       "      <th>rs_dis</th>\n",
       "      <th>rs_ad</th>\n",
       "      <th>rs_and</th>\n",
       "      <th>risk_composite</th>\n",
       "      <th>paid_esrd</th>\n",
       "      <th>paid_dis</th>\n",
       "      <th>paid_ad</th>\n",
       "      <th>paid_and</th>\n",
       "      <th>paid_composite</th>\n",
       "      <th>reg_ret_exp_esrd</th>\n",
       "      <th>reg_ret_exp_dis</th>\n",
       "      <th>reg_ret_exp_ad</th>\n",
       "      <th>reg_ret_exp_and</th>\n",
       "      <th>reg_ret_exp_composite</th>\n",
       "      <th>regional_efficiency_ret</th>\n",
       "      <th>reg_pro_exp_esrd</th>\n",
       "      <th>reg_pro_exp_dis</th>\n",
       "      <th>reg_pro_exp_ad</th>\n",
       "      <th>reg_pro_exp_and</th>\n",
       "      <th>reg_pro_exp_composite</th>\n",
       "      <th>regional_efficiency_pro</th>\n",
       "    </tr>\n",
       "  </thead>\n",
       "  <tbody>\n",
       "    <tr>\n",
       "      <th>0</th>\n",
       "      <td>9.335446e+09</td>\n",
       "      <td>00004B7C4023</td>\n",
       "      <td>RINDFLEISCH FAMILY PRACTICE PLLC</td>\n",
       "      <td>2017</td>\n",
       "      <td>MSSP Prospective</td>\n",
       "      <td>24.0</td>\n",
       "      <td>127.0</td>\n",
       "      <td>91.0</td>\n",
       "      <td>786.0</td>\n",
       "      <td>1028</td>\n",
       "      <td>1.246027</td>\n",
       "      <td>1.053987</td>\n",
       "      <td>0.743116</td>\n",
       "      <td>1.192508</td>\n",
       "      <td>1.149579</td>\n",
       "      <td>4486.701037</td>\n",
       "      <td>1541.033458</td>\n",
       "      <td>1227.484241</td>\n",
       "      <td>1592.224074</td>\n",
       "      <td>1621.187999</td>\n",
       "      <td>6422.618344</td>\n",
       "      <td>971.738226</td>\n",
       "      <td>1453.909645</td>\n",
       "      <td>855.287752</td>\n",
       "      <td>1034.153660</td>\n",
       "      <td>1.363671</td>\n",
       "      <td>6190.214378</td>\n",
       "      <td>926.960749</td>\n",
       "      <td>1414.578839</td>\n",
       "      <td>829.504110</td>\n",
       "      <td>1000.500081</td>\n",
       "      <td>1.409540</td>\n",
       "    </tr>\n",
       "    <tr>\n",
       "      <th>1</th>\n",
       "      <td>9.335446e+09</td>\n",
       "      <td>00004B7C4023</td>\n",
       "      <td>RINDFLEISCH FAMILY PRACTICE PLLC</td>\n",
       "      <td>2018</td>\n",
       "      <td>MSSP Prospective</td>\n",
       "      <td>12.0</td>\n",
       "      <td>164.0</td>\n",
       "      <td>169.0</td>\n",
       "      <td>1275.0</td>\n",
       "      <td>1620</td>\n",
       "      <td>0.775247</td>\n",
       "      <td>1.726701</td>\n",
       "      <td>1.030603</td>\n",
       "      <td>1.093249</td>\n",
       "      <td>1.129966</td>\n",
       "      <td>4806.024031</td>\n",
       "      <td>1316.571793</td>\n",
       "      <td>2488.021439</td>\n",
       "      <td>1422.827226</td>\n",
       "      <td>1548.253332</td>\n",
       "      <td>6401.790718</td>\n",
       "      <td>980.975629</td>\n",
       "      <td>1485.288591</td>\n",
       "      <td>896.260666</td>\n",
       "      <td>1008.078954</td>\n",
       "      <td>1.359196</td>\n",
       "      <td>6588.785764</td>\n",
       "      <td>895.084955</td>\n",
       "      <td>1418.841402</td>\n",
       "      <td>857.921752</td>\n",
       "      <td>960.226328</td>\n",
       "      <td>1.426931</td>\n",
       "    </tr>\n",
       "    <tr>\n",
       "      <th>2</th>\n",
       "      <td>9.335446e+09</td>\n",
       "      <td>00004B7C4023</td>\n",
       "      <td>RINDFLEISCH FAMILY PRACTICE PLLC</td>\n",
       "      <td>2019</td>\n",
       "      <td>MSSP Prospective</td>\n",
       "      <td>0.0</td>\n",
       "      <td>229.0</td>\n",
       "      <td>128.0</td>\n",
       "      <td>1134.0</td>\n",
       "      <td>1491</td>\n",
       "      <td>NaN</td>\n",
       "      <td>1.321597</td>\n",
       "      <td>1.503569</td>\n",
       "      <td>1.176729</td>\n",
       "      <td>1.238518</td>\n",
       "      <td>NaN</td>\n",
       "      <td>1086.645206</td>\n",
       "      <td>1408.122757</td>\n",
       "      <td>976.842764</td>\n",
       "      <td>1030.731831</td>\n",
       "      <td>NaN</td>\n",
       "      <td>1033.170868</td>\n",
       "      <td>1453.326795</td>\n",
       "      <td>947.102605</td>\n",
       "      <td>1005.188258</td>\n",
       "      <td>0.827935</td>\n",
       "      <td>NaN</td>\n",
       "      <td>951.267784</td>\n",
       "      <td>1395.566254</td>\n",
       "      <td>905.352361</td>\n",
       "      <td>955.575731</td>\n",
       "      <td>0.870920</td>\n",
       "    </tr>\n",
       "    <tr>\n",
       "      <th>3</th>\n",
       "      <td>9.335446e+09</td>\n",
       "      <td>00004B7C4023</td>\n",
       "      <td>RINDFLEISCH FAMILY PRACTICE PLLC</td>\n",
       "      <td>2020</td>\n",
       "      <td>MSSP Prospective</td>\n",
       "      <td>12.0</td>\n",
       "      <td>208.0</td>\n",
       "      <td>131.0</td>\n",
       "      <td>1311.0</td>\n",
       "      <td>1662</td>\n",
       "      <td>0.702839</td>\n",
       "      <td>1.421957</td>\n",
       "      <td>0.809204</td>\n",
       "      <td>1.033532</td>\n",
       "      <td>1.079534</td>\n",
       "      <td>3627.703418</td>\n",
       "      <td>1436.731663</td>\n",
       "      <td>816.391181</td>\n",
       "      <td>945.456704</td>\n",
       "      <td>1016.133340</td>\n",
       "      <td>6493.866590</td>\n",
       "      <td>985.203048</td>\n",
       "      <td>1577.222921</td>\n",
       "      <td>891.456731</td>\n",
       "      <td>959.344803</td>\n",
       "      <td>0.981159</td>\n",
       "      <td>6687.820022</td>\n",
       "      <td>878.592349</td>\n",
       "      <td>1428.220968</td>\n",
       "      <td>850.629683</td>\n",
       "      <td>903.046192</td>\n",
       "      <td>1.042328</td>\n",
       "    </tr>\n",
       "    <tr>\n",
       "      <th>4</th>\n",
       "      <td>9.335446e+09</td>\n",
       "      <td>00004B7C4023</td>\n",
       "      <td>RINDFLEISCH FAMILY PRACTICE PLLC</td>\n",
       "      <td>2021</td>\n",
       "      <td>MSSP Prospective</td>\n",
       "      <td>NaN</td>\n",
       "      <td>220.0</td>\n",
       "      <td>110.0</td>\n",
       "      <td>1218.0</td>\n",
       "      <td>1548</td>\n",
       "      <td>0.935558</td>\n",
       "      <td>1.365572</td>\n",
       "      <td>1.009259</td>\n",
       "      <td>1.006248</td>\n",
       "      <td>1.072736</td>\n",
       "      <td>2840.723750</td>\n",
       "      <td>1281.514409</td>\n",
       "      <td>990.256818</td>\n",
       "      <td>934.094249</td>\n",
       "      <td>987.460087</td>\n",
       "      <td>6654.828765</td>\n",
       "      <td>971.299281</td>\n",
       "      <td>1378.755186</td>\n",
       "      <td>929.492779</td>\n",
       "      <td>953.914452</td>\n",
       "      <td>0.964978</td>\n",
       "      <td>6338.796906</td>\n",
       "      <td>926.928509</td>\n",
       "      <td>1360.255980</td>\n",
       "      <td>893.385741</td>\n",
       "      <td>918.001423</td>\n",
       "      <td>1.002728</td>\n",
       "    </tr>\n",
       "  </tbody>\n",
       "</table>\n",
       "</div>"
      ],
      "text/plain": [
       "         pac_id      deid_tin                        prvdr_name  year  \\\n",
       "0  9.335446e+09  00004B7C4023  RINDFLEISCH FAMILY PRACTICE PLLC  2017   \n",
       "1  9.335446e+09  00004B7C4023  RINDFLEISCH FAMILY PRACTICE PLLC  2018   \n",
       "2  9.335446e+09  00004B7C4023  RINDFLEISCH FAMILY PRACTICE PLLC  2019   \n",
       "3  9.335446e+09  00004B7C4023  RINDFLEISCH FAMILY PRACTICE PLLC  2020   \n",
       "4  9.335446e+09  00004B7C4023  RINDFLEISCH FAMILY PRACTICE PLLC  2021   \n",
       "\n",
       "       program_type  mms_esrd  mms_dis  mms_ad  mms_and  mms_total   rs_esrd  \\\n",
       "0  MSSP Prospective      24.0    127.0    91.0    786.0       1028  1.246027   \n",
       "1  MSSP Prospective      12.0    164.0   169.0   1275.0       1620  0.775247   \n",
       "2  MSSP Prospective       0.0    229.0   128.0   1134.0       1491       NaN   \n",
       "3  MSSP Prospective      12.0    208.0   131.0   1311.0       1662  0.702839   \n",
       "4  MSSP Prospective       NaN    220.0   110.0   1218.0       1548  0.935558   \n",
       "\n",
       "     rs_dis     rs_ad    rs_and  risk_composite    paid_esrd     paid_dis  \\\n",
       "0  1.053987  0.743116  1.192508        1.149579  4486.701037  1541.033458   \n",
       "1  1.726701  1.030603  1.093249        1.129966  4806.024031  1316.571793   \n",
       "2  1.321597  1.503569  1.176729        1.238518          NaN  1086.645206   \n",
       "3  1.421957  0.809204  1.033532        1.079534  3627.703418  1436.731663   \n",
       "4  1.365572  1.009259  1.006248        1.072736  2840.723750  1281.514409   \n",
       "\n",
       "       paid_ad     paid_and  paid_composite  reg_ret_exp_esrd  \\\n",
       "0  1227.484241  1592.224074     1621.187999       6422.618344   \n",
       "1  2488.021439  1422.827226     1548.253332       6401.790718   \n",
       "2  1408.122757   976.842764     1030.731831               NaN   \n",
       "3   816.391181   945.456704     1016.133340       6493.866590   \n",
       "4   990.256818   934.094249      987.460087       6654.828765   \n",
       "\n",
       "   reg_ret_exp_dis  reg_ret_exp_ad  reg_ret_exp_and  reg_ret_exp_composite  \\\n",
       "0       971.738226     1453.909645       855.287752            1034.153660   \n",
       "1       980.975629     1485.288591       896.260666            1008.078954   \n",
       "2      1033.170868     1453.326795       947.102605            1005.188258   \n",
       "3       985.203048     1577.222921       891.456731             959.344803   \n",
       "4       971.299281     1378.755186       929.492779             953.914452   \n",
       "\n",
       "   regional_efficiency_ret  reg_pro_exp_esrd  reg_pro_exp_dis  reg_pro_exp_ad  \\\n",
       "0                 1.363671       6190.214378       926.960749     1414.578839   \n",
       "1                 1.359196       6588.785764       895.084955     1418.841402   \n",
       "2                 0.827935               NaN       951.267784     1395.566254   \n",
       "3                 0.981159       6687.820022       878.592349     1428.220968   \n",
       "4                 0.964978       6338.796906       926.928509     1360.255980   \n",
       "\n",
       "   reg_pro_exp_and  reg_pro_exp_composite  regional_efficiency_pro  \n",
       "0       829.504110            1000.500081                 1.409540  \n",
       "1       857.921752             960.226328                 1.426931  \n",
       "2       905.352361             955.575731                 0.870920  \n",
       "3       850.629683             903.046192                 1.042328  \n",
       "4       893.385741             918.001423                 1.002728  "
      ]
     },
     "execution_count": 3,
     "metadata": {},
     "output_type": "execute_result"
    }
   ],
   "source": [
    "pro_df = pd.read_csv(f'{data_dir}/{current_folder}/{pro_file_name}',  encoding='latin1', low_memory=False, delimiter='\\t')\n",
    "pro_df = cb_utils.df_format_columns(pro_df)\n",
    "print(f'{pro_df.shape[0]} rows, {pro_df.shape[1]} columns')\n",
    "pro_df.head()"
   ]
  },
  {
   "cell_type": "code",
   "execution_count": null,
   "id": "569658c1-fc47-4eab-92a9-734cc74ab83a",
   "metadata": {},
   "outputs": [],
   "source": []
  },
  {
   "cell_type": "code",
   "execution_count": null,
   "id": "56cb6a37-168c-4305-83dd-4e1816991e45",
   "metadata": {},
   "outputs": [],
   "source": []
  },
  {
   "cell_type": "code",
   "execution_count": null,
   "id": "96ee1a4d-2ac4-4fd4-87e2-b8e82b7138bb",
   "metadata": {},
   "outputs": [],
   "source": []
  },
  {
   "cell_type": "code",
   "execution_count": 4,
   "id": "d3c63277-5dc7-4ab2-97d6-911b569e0d09",
   "metadata": {},
   "outputs": [
    {
     "data": {
      "text/plain": [
       "711630"
      ]
     },
     "execution_count": 4,
     "metadata": {},
     "output_type": "execute_result"
    }
   ],
   "source": [
    "conn = cb_utils.get_engine(source='msh_analytics')\n",
    "pro_df.to_sql(f'milliman_pro_no_md_{current_folder}', conn, schema='raw', index=False, method='multi', chunksize=1000) # , if_exists='replace'"
   ]
  },
  {
   "cell_type": "code",
   "execution_count": 7,
   "id": "e35dfd7e-f320-433e-a103-74bfcea86dfd",
   "metadata": {},
   "outputs": [],
   "source": []
  },
  {
   "cell_type": "code",
   "execution_count": null,
   "id": "e8d84dd1-feda-46c6-87ef-0a24556ae6e3",
   "metadata": {},
   "outputs": [],
   "source": []
  },
  {
   "cell_type": "code",
   "execution_count": 5,
   "id": "f7c245e8-3a8d-4052-848d-f15b621d06c7",
   "metadata": {},
   "outputs": [
    {
     "name": "stdout",
     "output_type": "stream",
     "text": [
      "691123 rows, 32 columns\n"
     ]
    },
    {
     "data": {
      "text/html": [
       "<div>\n",
       "<style scoped>\n",
       "    .dataframe tbody tr th:only-of-type {\n",
       "        vertical-align: middle;\n",
       "    }\n",
       "\n",
       "    .dataframe tbody tr th {\n",
       "        vertical-align: top;\n",
       "    }\n",
       "\n",
       "    .dataframe thead th {\n",
       "        text-align: right;\n",
       "    }\n",
       "</style>\n",
       "<table border=\"1\" class=\"dataframe\">\n",
       "  <thead>\n",
       "    <tr style=\"text-align: right;\">\n",
       "      <th></th>\n",
       "      <th>pac_id</th>\n",
       "      <th>deid_tin</th>\n",
       "      <th>prvdr_name</th>\n",
       "      <th>year</th>\n",
       "      <th>program_type</th>\n",
       "      <th>mms_esrd</th>\n",
       "      <th>mms_dis</th>\n",
       "      <th>mms_ad</th>\n",
       "      <th>mms_and</th>\n",
       "      <th>mms_total</th>\n",
       "      <th>rs_esrd</th>\n",
       "      <th>rs_dis</th>\n",
       "      <th>rs_ad</th>\n",
       "      <th>rs_and</th>\n",
       "      <th>risk_composite</th>\n",
       "      <th>paid_esrd</th>\n",
       "      <th>paid_dis</th>\n",
       "      <th>paid_ad</th>\n",
       "      <th>paid_and</th>\n",
       "      <th>paid_composite</th>\n",
       "      <th>reg_ret_exp_esrd</th>\n",
       "      <th>reg_ret_exp_dis</th>\n",
       "      <th>reg_ret_exp_ad</th>\n",
       "      <th>reg_ret_exp_and</th>\n",
       "      <th>reg_ret_exp_composite</th>\n",
       "      <th>regional_efficiency_ret</th>\n",
       "      <th>reg_pro_exp_esrd</th>\n",
       "      <th>reg_pro_exp_dis</th>\n",
       "      <th>reg_pro_exp_ad</th>\n",
       "      <th>reg_pro_exp_and</th>\n",
       "      <th>reg_pro_exp_composite</th>\n",
       "      <th>regional_efficiency_pro</th>\n",
       "    </tr>\n",
       "  </thead>\n",
       "  <tbody>\n",
       "    <tr>\n",
       "      <th>0</th>\n",
       "      <td>9.335446e+09</td>\n",
       "      <td>00004B7C4023</td>\n",
       "      <td>RINDFLEISCH FAMILY PRACTICE PLLC</td>\n",
       "      <td>2016</td>\n",
       "      <td>MSSP Retrospective</td>\n",
       "      <td>24.0</td>\n",
       "      <td>206.0</td>\n",
       "      <td>173.0</td>\n",
       "      <td>1313.0</td>\n",
       "      <td>1716</td>\n",
       "      <td>1.090726</td>\n",
       "      <td>0.971947</td>\n",
       "      <td>0.849591</td>\n",
       "      <td>1.073577</td>\n",
       "      <td>1.039898</td>\n",
       "      <td>4715.462628</td>\n",
       "      <td>1458.454427</td>\n",
       "      <td>1856.114031</td>\n",
       "      <td>1713.535182</td>\n",
       "      <td>1739.272807</td>\n",
       "      <td>5827.437531</td>\n",
       "      <td>905.793140</td>\n",
       "      <td>1387.197402</td>\n",
       "      <td>855.340674</td>\n",
       "      <td>977.037120</td>\n",
       "      <td>1.711850</td>\n",
       "      <td>NaN</td>\n",
       "      <td>NaN</td>\n",
       "      <td>NaN</td>\n",
       "      <td>NaN</td>\n",
       "      <td>NaN</td>\n",
       "      <td>NaN</td>\n",
       "    </tr>\n",
       "    <tr>\n",
       "      <th>1</th>\n",
       "      <td>9.335446e+09</td>\n",
       "      <td>00004B7C4023</td>\n",
       "      <td>RINDFLEISCH FAMILY PRACTICE PLLC</td>\n",
       "      <td>2017</td>\n",
       "      <td>MSSP Retrospective</td>\n",
       "      <td>12.0</td>\n",
       "      <td>250.0</td>\n",
       "      <td>174.0</td>\n",
       "      <td>1805.0</td>\n",
       "      <td>2241</td>\n",
       "      <td>0.859486</td>\n",
       "      <td>1.433233</td>\n",
       "      <td>0.946422</td>\n",
       "      <td>1.229279</td>\n",
       "      <td>1.224837</td>\n",
       "      <td>2934.181769</td>\n",
       "      <td>1462.664500</td>\n",
       "      <td>1587.616993</td>\n",
       "      <td>1692.850230</td>\n",
       "      <td>1665.647625</td>\n",
       "      <td>6245.434358</td>\n",
       "      <td>993.532432</td>\n",
       "      <td>1462.243362</td>\n",
       "      <td>852.690082</td>\n",
       "      <td>930.172550</td>\n",
       "      <td>1.461979</td>\n",
       "      <td>NaN</td>\n",
       "      <td>NaN</td>\n",
       "      <td>NaN</td>\n",
       "      <td>NaN</td>\n",
       "      <td>NaN</td>\n",
       "      <td>NaN</td>\n",
       "    </tr>\n",
       "    <tr>\n",
       "      <th>2</th>\n",
       "      <td>9.335446e+09</td>\n",
       "      <td>00004B7C4023</td>\n",
       "      <td>RINDFLEISCH FAMILY PRACTICE PLLC</td>\n",
       "      <td>2018</td>\n",
       "      <td>MSSP Retrospective</td>\n",
       "      <td>12.0</td>\n",
       "      <td>323.0</td>\n",
       "      <td>185.0</td>\n",
       "      <td>1554.0</td>\n",
       "      <td>2074</td>\n",
       "      <td>0.775247</td>\n",
       "      <td>1.217963</td>\n",
       "      <td>1.497643</td>\n",
       "      <td>1.153835</td>\n",
       "      <td>1.200671</td>\n",
       "      <td>4806.024031</td>\n",
       "      <td>1463.421215</td>\n",
       "      <td>2310.076821</td>\n",
       "      <td>1518.970887</td>\n",
       "      <td>1599.904682</td>\n",
       "      <td>6401.790718</td>\n",
       "      <td>974.462100</td>\n",
       "      <td>1464.472430</td>\n",
       "      <td>901.920668</td>\n",
       "      <td>990.229857</td>\n",
       "      <td>1.345656</td>\n",
       "      <td>NaN</td>\n",
       "      <td>NaN</td>\n",
       "      <td>NaN</td>\n",
       "      <td>NaN</td>\n",
       "      <td>NaN</td>\n",
       "      <td>NaN</td>\n",
       "    </tr>\n",
       "    <tr>\n",
       "      <th>3</th>\n",
       "      <td>9.335446e+09</td>\n",
       "      <td>00004B7C4023</td>\n",
       "      <td>RINDFLEISCH FAMILY PRACTICE PLLC</td>\n",
       "      <td>2019</td>\n",
       "      <td>MSSP Retrospective</td>\n",
       "      <td>0.0</td>\n",
       "      <td>342.0</td>\n",
       "      <td>160.0</td>\n",
       "      <td>1508.0</td>\n",
       "      <td>2010</td>\n",
       "      <td>NaN</td>\n",
       "      <td>1.291056</td>\n",
       "      <td>1.117051</td>\n",
       "      <td>0.991496</td>\n",
       "      <td>1.048423</td>\n",
       "      <td>NaN</td>\n",
       "      <td>1054.832327</td>\n",
       "      <td>1238.552681</td>\n",
       "      <td>1178.032843</td>\n",
       "      <td>1161.887867</td>\n",
       "      <td>NaN</td>\n",
       "      <td>1046.043523</td>\n",
       "      <td>1483.259105</td>\n",
       "      <td>946.421710</td>\n",
       "      <td>1016.469788</td>\n",
       "      <td>1.090267</td>\n",
       "      <td>NaN</td>\n",
       "      <td>NaN</td>\n",
       "      <td>NaN</td>\n",
       "      <td>NaN</td>\n",
       "      <td>NaN</td>\n",
       "      <td>NaN</td>\n",
       "    </tr>\n",
       "    <tr>\n",
       "      <th>4</th>\n",
       "      <td>9.335446e+09</td>\n",
       "      <td>00004B7C4023</td>\n",
       "      <td>RINDFLEISCH FAMILY PRACTICE PLLC</td>\n",
       "      <td>2020</td>\n",
       "      <td>MSSP Retrospective</td>\n",
       "      <td>12.0</td>\n",
       "      <td>257.0</td>\n",
       "      <td>120.0</td>\n",
       "      <td>1327.0</td>\n",
       "      <td>1716</td>\n",
       "      <td>0.702839</td>\n",
       "      <td>1.133058</td>\n",
       "      <td>0.665621</td>\n",
       "      <td>0.944445</td>\n",
       "      <td>0.973295</td>\n",
       "      <td>3627.703418</td>\n",
       "      <td>1393.406361</td>\n",
       "      <td>318.074898</td>\n",
       "      <td>880.118517</td>\n",
       "      <td>936.902177</td>\n",
       "      <td>6493.866590</td>\n",
       "      <td>991.092451</td>\n",
       "      <td>1560.750987</td>\n",
       "      <td>893.150238</td>\n",
       "      <td>950.440769</td>\n",
       "      <td>1.012802</td>\n",
       "      <td>NaN</td>\n",
       "      <td>NaN</td>\n",
       "      <td>NaN</td>\n",
       "      <td>NaN</td>\n",
       "      <td>NaN</td>\n",
       "      <td>NaN</td>\n",
       "    </tr>\n",
       "  </tbody>\n",
       "</table>\n",
       "</div>"
      ],
      "text/plain": [
       "         pac_id      deid_tin                        prvdr_name  year  \\\n",
       "0  9.335446e+09  00004B7C4023  RINDFLEISCH FAMILY PRACTICE PLLC  2016   \n",
       "1  9.335446e+09  00004B7C4023  RINDFLEISCH FAMILY PRACTICE PLLC  2017   \n",
       "2  9.335446e+09  00004B7C4023  RINDFLEISCH FAMILY PRACTICE PLLC  2018   \n",
       "3  9.335446e+09  00004B7C4023  RINDFLEISCH FAMILY PRACTICE PLLC  2019   \n",
       "4  9.335446e+09  00004B7C4023  RINDFLEISCH FAMILY PRACTICE PLLC  2020   \n",
       "\n",
       "         program_type  mms_esrd  mms_dis  mms_ad  mms_and  mms_total  \\\n",
       "0  MSSP Retrospective      24.0    206.0   173.0   1313.0       1716   \n",
       "1  MSSP Retrospective      12.0    250.0   174.0   1805.0       2241   \n",
       "2  MSSP Retrospective      12.0    323.0   185.0   1554.0       2074   \n",
       "3  MSSP Retrospective       0.0    342.0   160.0   1508.0       2010   \n",
       "4  MSSP Retrospective      12.0    257.0   120.0   1327.0       1716   \n",
       "\n",
       "    rs_esrd    rs_dis     rs_ad    rs_and  risk_composite    paid_esrd  \\\n",
       "0  1.090726  0.971947  0.849591  1.073577        1.039898  4715.462628   \n",
       "1  0.859486  1.433233  0.946422  1.229279        1.224837  2934.181769   \n",
       "2  0.775247  1.217963  1.497643  1.153835        1.200671  4806.024031   \n",
       "3       NaN  1.291056  1.117051  0.991496        1.048423          NaN   \n",
       "4  0.702839  1.133058  0.665621  0.944445        0.973295  3627.703418   \n",
       "\n",
       "      paid_dis      paid_ad     paid_and  paid_composite  reg_ret_exp_esrd  \\\n",
       "0  1458.454427  1856.114031  1713.535182     1739.272807       5827.437531   \n",
       "1  1462.664500  1587.616993  1692.850230     1665.647625       6245.434358   \n",
       "2  1463.421215  2310.076821  1518.970887     1599.904682       6401.790718   \n",
       "3  1054.832327  1238.552681  1178.032843     1161.887867               NaN   \n",
       "4  1393.406361   318.074898   880.118517      936.902177       6493.866590   \n",
       "\n",
       "   reg_ret_exp_dis  reg_ret_exp_ad  reg_ret_exp_and  reg_ret_exp_composite  \\\n",
       "0       905.793140     1387.197402       855.340674             977.037120   \n",
       "1       993.532432     1462.243362       852.690082             930.172550   \n",
       "2       974.462100     1464.472430       901.920668             990.229857   \n",
       "3      1046.043523     1483.259105       946.421710            1016.469788   \n",
       "4       991.092451     1560.750987       893.150238             950.440769   \n",
       "\n",
       "   regional_efficiency_ret  reg_pro_exp_esrd  reg_pro_exp_dis  reg_pro_exp_ad  \\\n",
       "0                 1.711850               NaN              NaN             NaN   \n",
       "1                 1.461979               NaN              NaN             NaN   \n",
       "2                 1.345656               NaN              NaN             NaN   \n",
       "3                 1.090267               NaN              NaN             NaN   \n",
       "4                 1.012802               NaN              NaN             NaN   \n",
       "\n",
       "   reg_pro_exp_and  reg_pro_exp_composite  regional_efficiency_pro  \n",
       "0              NaN                    NaN                      NaN  \n",
       "1              NaN                    NaN                      NaN  \n",
       "2              NaN                    NaN                      NaN  \n",
       "3              NaN                    NaN                      NaN  \n",
       "4              NaN                    NaN                      NaN  "
      ]
     },
     "execution_count": 5,
     "metadata": {},
     "output_type": "execute_result"
    }
   ],
   "source": [
    "ret_df = pd.read_csv(f'{data_dir}/{current_folder}/{retro_file_name}',  encoding='latin1', low_memory=False, delimiter='\\t')\n",
    "ret_df = cb_utils.df_format_columns(ret_df)\n",
    "print(f'{ret_df.shape[0]} rows, {ret_df.shape[1]} columns')\n",
    "ret_df.head()"
   ]
  },
  {
   "cell_type": "code",
   "execution_count": 6,
   "id": "c590a337-78b0-4ab6-880e-ae4cfffe2b4f",
   "metadata": {},
   "outputs": [
    {
     "data": {
      "text/plain": [
       "691123"
      ]
     },
     "execution_count": 6,
     "metadata": {},
     "output_type": "execute_result"
    }
   ],
   "source": [
    "ret_df.to_sql(f'milliman_ret_no_md_{current_folder}', conn, schema='raw', index=False, method='multi', chunksize=1000) # if_exists='replace', "
   ]
  },
  {
   "cell_type": "code",
   "execution_count": null,
   "id": "d903949b-d6f3-4eec-a4f4-0e63fe9743a4",
   "metadata": {},
   "outputs": [],
   "source": []
  },
  {
   "cell_type": "code",
   "execution_count": 9,
   "id": "65edcef7-a4a4-4e3e-9b00-4d423883d784",
   "metadata": {},
   "outputs": [
    {
     "data": {
      "text/plain": [
       "2016    93392\n",
       "2017    90403\n",
       "2018    87384\n",
       "2019    84748\n",
       "2020    82510\n",
       "2021    79560\n",
       "2022    76027\n",
       "Name: year, dtype: int64"
      ]
     },
     "execution_count": 9,
     "metadata": {},
     "output_type": "execute_result"
    }
   ],
   "source": [
    "ret_df.year.value_counts()"
   ]
  },
  {
   "cell_type": "code",
   "execution_count": 10,
   "id": "cc45b6bb-d0ac-43d3-8ef9-154cf87ebc6f",
   "metadata": {},
   "outputs": [],
   "source": [
    "for yr in [2016, 2017, 2018, 2019, 2020, 2021, 2022]:\n",
    "    ret_df.loc[ret_df.year == yr].to_csv(f'{data_dir}/{current_folder}/ret_{yr}.csv',index=False)"
   ]
  },
  {
   "cell_type": "code",
   "execution_count": null,
   "id": "a495470a-13c3-4f62-99f5-46fcf05bb27a",
   "metadata": {},
   "outputs": [],
   "source": []
  },
  {
   "cell_type": "code",
   "execution_count": null,
   "id": "955ff192-255f-43fc-84cf-41014a4e0be2",
   "metadata": {},
   "outputs": [],
   "source": []
  },
  {
   "cell_type": "markdown",
   "id": "bd681eab-7021-4940-95bb-3f47309feed8",
   "metadata": {},
   "source": [
    "# Did not use below"
   ]
  },
  {
   "cell_type": "code",
   "execution_count": 6,
   "id": "64b0bd43-b764-443f-a779-16eb5d26062b",
   "metadata": {},
   "outputs": [
    {
     "data": {
      "text/plain": [
       "613556"
      ]
     },
     "execution_count": 6,
     "metadata": {},
     "output_type": "execute_result"
    }
   ],
   "source": [
    "conn = cb_utils.get_engine()\n",
    "pro_df.to_sql(f'milliman_pro_{current_folder}', conn, schema='strategic', index=False, method='multi', chunksize=1000) # , if_exists='replace'"
   ]
  },
  {
   "cell_type": "markdown",
   "id": "c717b56c-c212-47a0-a087-6d937a65c5cc",
   "metadata": {},
   "source": [
    "### Retro load"
   ]
  },
  {
   "cell_type": "code",
   "execution_count": 33,
   "id": "fc2a2515-c9ce-43d0-869c-0111ef4912f1",
   "metadata": {},
   "outputs": [],
   "source": [
    "\n",
    "ret_df.to_csv('ret.csv',index=False)"
   ]
  },
  {
   "cell_type": "code",
   "execution_count": 10,
   "id": "95052b74-0f5c-443b-84d4-79011bf772da",
   "metadata": {},
   "outputs": [
    {
     "data": {
      "text/plain": [
       "594838"
      ]
     },
     "execution_count": 10,
     "metadata": {},
     "output_type": "execute_result"
    }
   ],
   "source": [
    "conn = cb_utils.get_engine()\n",
    "ret_df.to_sql(f'milliman_ret_{current_folder}', conn, schema='strategic', index=False, method='multi', chunksize=1000) # if_exists='replace', "
   ]
  },
  {
   "cell_type": "markdown",
   "id": "ac4afbf3-18de-48c5-b79f-7be01241e0af",
   "metadata": {},
   "source": [
    "### Pivots"
   ]
  },
  {
   "cell_type": "code",
   "execution_count": 11,
   "id": "dd02fba0-6777-40df-93a3-76ce04ec06ff",
   "metadata": {},
   "outputs": [],
   "source": [
    "def pivot_ma_plan_enrollment(df):\n",
    "    dfs = []\n",
    "    for i in range(1, 16):\n",
    "        name, enrollment = f'ma_plan_{i}_name', f'ma_plan_{i}_enrollment'\n",
    "        plan = df[['deid_tin', 'pac_id', 'year', name, enrollment]]\n",
    "        plan = plan.loc[~(plan[name].isna()) & ~(plan[enrollment].isna())]\n",
    "        plan.columns = ['deid_tin', 'pac_id', 'year', 'ma_plan_name', 'ma_enrollment']\n",
    "        dfs.append(plan)\n",
    "    return pd.concat(dfs)"
   ]
  },
  {
   "cell_type": "code",
   "execution_count": 12,
   "id": "d9ff5d68-9fd8-4f78-8d7e-23c22e9e37ca",
   "metadata": {},
   "outputs": [
    {
     "ename": "KeyError",
     "evalue": "\"['ma_plan_1_name', 'ma_plan_1_enrollment'] not in index\"",
     "output_type": "error",
     "traceback": [
      "\u001b[0;31m---------------------------------------------------------------------------\u001b[0m",
      "\u001b[0;31mKeyError\u001b[0m                                  Traceback (most recent call last)",
      "Cell \u001b[0;32mIn[12], line 1\u001b[0m\n\u001b[0;32m----> 1\u001b[0m ret_pivot_df \u001b[38;5;241m=\u001b[39m \u001b[43mpivot_ma_plan_enrollment\u001b[49m\u001b[43m(\u001b[49m\u001b[43mret_df\u001b[49m\u001b[43m)\u001b[49m\n",
      "Cell \u001b[0;32mIn[11], line 5\u001b[0m, in \u001b[0;36mpivot_ma_plan_enrollment\u001b[0;34m(df)\u001b[0m\n\u001b[1;32m      3\u001b[0m \u001b[38;5;28;01mfor\u001b[39;00m i \u001b[38;5;129;01min\u001b[39;00m \u001b[38;5;28mrange\u001b[39m(\u001b[38;5;241m1\u001b[39m, \u001b[38;5;241m16\u001b[39m):\n\u001b[1;32m      4\u001b[0m     name, enrollment \u001b[38;5;241m=\u001b[39m \u001b[38;5;124mf\u001b[39m\u001b[38;5;124m'\u001b[39m\u001b[38;5;124mma_plan_\u001b[39m\u001b[38;5;132;01m{\u001b[39;00mi\u001b[38;5;132;01m}\u001b[39;00m\u001b[38;5;124m_name\u001b[39m\u001b[38;5;124m'\u001b[39m, \u001b[38;5;124mf\u001b[39m\u001b[38;5;124m'\u001b[39m\u001b[38;5;124mma_plan_\u001b[39m\u001b[38;5;132;01m{\u001b[39;00mi\u001b[38;5;132;01m}\u001b[39;00m\u001b[38;5;124m_enrollment\u001b[39m\u001b[38;5;124m'\u001b[39m\n\u001b[0;32m----> 5\u001b[0m     plan \u001b[38;5;241m=\u001b[39m \u001b[43mdf\u001b[49m\u001b[43m[\u001b[49m\u001b[43m[\u001b[49m\u001b[38;5;124;43m'\u001b[39;49m\u001b[38;5;124;43mdeid_tin\u001b[39;49m\u001b[38;5;124;43m'\u001b[39;49m\u001b[43m,\u001b[49m\u001b[43m \u001b[49m\u001b[38;5;124;43m'\u001b[39;49m\u001b[38;5;124;43mpac_id\u001b[39;49m\u001b[38;5;124;43m'\u001b[39;49m\u001b[43m,\u001b[49m\u001b[43m \u001b[49m\u001b[38;5;124;43m'\u001b[39;49m\u001b[38;5;124;43myear\u001b[39;49m\u001b[38;5;124;43m'\u001b[39;49m\u001b[43m,\u001b[49m\u001b[43m \u001b[49m\u001b[43mname\u001b[49m\u001b[43m,\u001b[49m\u001b[43m \u001b[49m\u001b[43menrollment\u001b[49m\u001b[43m]\u001b[49m\u001b[43m]\u001b[49m\n\u001b[1;32m      6\u001b[0m     plan \u001b[38;5;241m=\u001b[39m plan\u001b[38;5;241m.\u001b[39mloc[\u001b[38;5;241m~\u001b[39m(plan[name]\u001b[38;5;241m.\u001b[39misna()) \u001b[38;5;241m&\u001b[39m \u001b[38;5;241m~\u001b[39m(plan[enrollment]\u001b[38;5;241m.\u001b[39misna())]\n\u001b[1;32m      7\u001b[0m     plan\u001b[38;5;241m.\u001b[39mcolumns \u001b[38;5;241m=\u001b[39m [\u001b[38;5;124m'\u001b[39m\u001b[38;5;124mdeid_tin\u001b[39m\u001b[38;5;124m'\u001b[39m, \u001b[38;5;124m'\u001b[39m\u001b[38;5;124mpac_id\u001b[39m\u001b[38;5;124m'\u001b[39m, \u001b[38;5;124m'\u001b[39m\u001b[38;5;124myear\u001b[39m\u001b[38;5;124m'\u001b[39m, \u001b[38;5;124m'\u001b[39m\u001b[38;5;124mma_plan_name\u001b[39m\u001b[38;5;124m'\u001b[39m, \u001b[38;5;124m'\u001b[39m\u001b[38;5;124mma_enrollment\u001b[39m\u001b[38;5;124m'\u001b[39m]\n",
      "File \u001b[0;32m~/miniforge3/envs/data-analytics/lib/python3.10/site-packages/pandas/core/frame.py:3511\u001b[0m, in \u001b[0;36mDataFrame.__getitem__\u001b[0;34m(self, key)\u001b[0m\n\u001b[1;32m   3509\u001b[0m     \u001b[38;5;28;01mif\u001b[39;00m is_iterator(key):\n\u001b[1;32m   3510\u001b[0m         key \u001b[38;5;241m=\u001b[39m \u001b[38;5;28mlist\u001b[39m(key)\n\u001b[0;32m-> 3511\u001b[0m     indexer \u001b[38;5;241m=\u001b[39m \u001b[38;5;28;43mself\u001b[39;49m\u001b[38;5;241;43m.\u001b[39;49m\u001b[43mcolumns\u001b[49m\u001b[38;5;241;43m.\u001b[39;49m\u001b[43m_get_indexer_strict\u001b[49m\u001b[43m(\u001b[49m\u001b[43mkey\u001b[49m\u001b[43m,\u001b[49m\u001b[43m \u001b[49m\u001b[38;5;124;43m\"\u001b[39;49m\u001b[38;5;124;43mcolumns\u001b[39;49m\u001b[38;5;124;43m\"\u001b[39;49m\u001b[43m)\u001b[49m[\u001b[38;5;241m1\u001b[39m]\n\u001b[1;32m   3513\u001b[0m \u001b[38;5;66;03m# take() does not accept boolean indexers\u001b[39;00m\n\u001b[1;32m   3514\u001b[0m \u001b[38;5;28;01mif\u001b[39;00m \u001b[38;5;28mgetattr\u001b[39m(indexer, \u001b[38;5;124m\"\u001b[39m\u001b[38;5;124mdtype\u001b[39m\u001b[38;5;124m\"\u001b[39m, \u001b[38;5;28;01mNone\u001b[39;00m) \u001b[38;5;241m==\u001b[39m \u001b[38;5;28mbool\u001b[39m:\n",
      "File \u001b[0;32m~/miniforge3/envs/data-analytics/lib/python3.10/site-packages/pandas/core/indexes/base.py:5782\u001b[0m, in \u001b[0;36mIndex._get_indexer_strict\u001b[0;34m(self, key, axis_name)\u001b[0m\n\u001b[1;32m   5779\u001b[0m \u001b[38;5;28;01melse\u001b[39;00m:\n\u001b[1;32m   5780\u001b[0m     keyarr, indexer, new_indexer \u001b[38;5;241m=\u001b[39m \u001b[38;5;28mself\u001b[39m\u001b[38;5;241m.\u001b[39m_reindex_non_unique(keyarr)\n\u001b[0;32m-> 5782\u001b[0m \u001b[38;5;28;43mself\u001b[39;49m\u001b[38;5;241;43m.\u001b[39;49m\u001b[43m_raise_if_missing\u001b[49m\u001b[43m(\u001b[49m\u001b[43mkeyarr\u001b[49m\u001b[43m,\u001b[49m\u001b[43m \u001b[49m\u001b[43mindexer\u001b[49m\u001b[43m,\u001b[49m\u001b[43m \u001b[49m\u001b[43maxis_name\u001b[49m\u001b[43m)\u001b[49m\n\u001b[1;32m   5784\u001b[0m keyarr \u001b[38;5;241m=\u001b[39m \u001b[38;5;28mself\u001b[39m\u001b[38;5;241m.\u001b[39mtake(indexer)\n\u001b[1;32m   5785\u001b[0m \u001b[38;5;28;01mif\u001b[39;00m \u001b[38;5;28misinstance\u001b[39m(key, Index):\n\u001b[1;32m   5786\u001b[0m     \u001b[38;5;66;03m# GH 42790 - Preserve name from an Index\u001b[39;00m\n",
      "File \u001b[0;32m~/miniforge3/envs/data-analytics/lib/python3.10/site-packages/pandas/core/indexes/base.py:5845\u001b[0m, in \u001b[0;36mIndex._raise_if_missing\u001b[0;34m(self, key, indexer, axis_name)\u001b[0m\n\u001b[1;32m   5842\u001b[0m     \u001b[38;5;28;01mraise\u001b[39;00m \u001b[38;5;167;01mKeyError\u001b[39;00m(\u001b[38;5;124mf\u001b[39m\u001b[38;5;124m\"\u001b[39m\u001b[38;5;124mNone of [\u001b[39m\u001b[38;5;132;01m{\u001b[39;00mkey\u001b[38;5;132;01m}\u001b[39;00m\u001b[38;5;124m] are in the [\u001b[39m\u001b[38;5;132;01m{\u001b[39;00maxis_name\u001b[38;5;132;01m}\u001b[39;00m\u001b[38;5;124m]\u001b[39m\u001b[38;5;124m\"\u001b[39m)\n\u001b[1;32m   5844\u001b[0m not_found \u001b[38;5;241m=\u001b[39m \u001b[38;5;28mlist\u001b[39m(ensure_index(key)[missing_mask\u001b[38;5;241m.\u001b[39mnonzero()[\u001b[38;5;241m0\u001b[39m]]\u001b[38;5;241m.\u001b[39munique())\n\u001b[0;32m-> 5845\u001b[0m \u001b[38;5;28;01mraise\u001b[39;00m \u001b[38;5;167;01mKeyError\u001b[39;00m(\u001b[38;5;124mf\u001b[39m\u001b[38;5;124m\"\u001b[39m\u001b[38;5;132;01m{\u001b[39;00mnot_found\u001b[38;5;132;01m}\u001b[39;00m\u001b[38;5;124m not in index\u001b[39m\u001b[38;5;124m\"\u001b[39m)\n",
      "\u001b[0;31mKeyError\u001b[0m: \"['ma_plan_1_name', 'ma_plan_1_enrollment'] not in index\""
     ]
    }
   ],
   "source": [
    "ret_pivot_df = pivot_ma_plan_enrollment(ret_df)"
   ]
  },
  {
   "cell_type": "code",
   "execution_count": null,
   "id": "715c39a1-ade8-46da-8f8b-599faffaf827",
   "metadata": {},
   "outputs": [],
   "source": [
    "ret_pivot_df.head()"
   ]
  },
  {
   "cell_type": "code",
   "execution_count": null,
   "id": "4cf2fd6b-7839-4b56-930b-42afdfcc8a79",
   "metadata": {},
   "outputs": [],
   "source": []
  },
  {
   "cell_type": "code",
   "execution_count": 13,
   "id": "fc60f336-7df8-49ea-a81d-6571d7669351",
   "metadata": {},
   "outputs": [
    {
     "ename": "KeyError",
     "evalue": "\"['ma_plan_1_name', 'ma_plan_1_enrollment'] not in index\"",
     "output_type": "error",
     "traceback": [
      "\u001b[0;31m---------------------------------------------------------------------------\u001b[0m",
      "\u001b[0;31mKeyError\u001b[0m                                  Traceback (most recent call last)",
      "Cell \u001b[0;32mIn[13], line 1\u001b[0m\n\u001b[0;32m----> 1\u001b[0m pro_pivot_df \u001b[38;5;241m=\u001b[39m \u001b[43mpivot_ma_plan_enrollment\u001b[49m\u001b[43m(\u001b[49m\u001b[43mpro_df\u001b[49m\u001b[43m)\u001b[49m\n",
      "Cell \u001b[0;32mIn[11], line 5\u001b[0m, in \u001b[0;36mpivot_ma_plan_enrollment\u001b[0;34m(df)\u001b[0m\n\u001b[1;32m      3\u001b[0m \u001b[38;5;28;01mfor\u001b[39;00m i \u001b[38;5;129;01min\u001b[39;00m \u001b[38;5;28mrange\u001b[39m(\u001b[38;5;241m1\u001b[39m, \u001b[38;5;241m16\u001b[39m):\n\u001b[1;32m      4\u001b[0m     name, enrollment \u001b[38;5;241m=\u001b[39m \u001b[38;5;124mf\u001b[39m\u001b[38;5;124m'\u001b[39m\u001b[38;5;124mma_plan_\u001b[39m\u001b[38;5;132;01m{\u001b[39;00mi\u001b[38;5;132;01m}\u001b[39;00m\u001b[38;5;124m_name\u001b[39m\u001b[38;5;124m'\u001b[39m, \u001b[38;5;124mf\u001b[39m\u001b[38;5;124m'\u001b[39m\u001b[38;5;124mma_plan_\u001b[39m\u001b[38;5;132;01m{\u001b[39;00mi\u001b[38;5;132;01m}\u001b[39;00m\u001b[38;5;124m_enrollment\u001b[39m\u001b[38;5;124m'\u001b[39m\n\u001b[0;32m----> 5\u001b[0m     plan \u001b[38;5;241m=\u001b[39m \u001b[43mdf\u001b[49m\u001b[43m[\u001b[49m\u001b[43m[\u001b[49m\u001b[38;5;124;43m'\u001b[39;49m\u001b[38;5;124;43mdeid_tin\u001b[39;49m\u001b[38;5;124;43m'\u001b[39;49m\u001b[43m,\u001b[49m\u001b[43m \u001b[49m\u001b[38;5;124;43m'\u001b[39;49m\u001b[38;5;124;43mpac_id\u001b[39;49m\u001b[38;5;124;43m'\u001b[39;49m\u001b[43m,\u001b[49m\u001b[43m \u001b[49m\u001b[38;5;124;43m'\u001b[39;49m\u001b[38;5;124;43myear\u001b[39;49m\u001b[38;5;124;43m'\u001b[39;49m\u001b[43m,\u001b[49m\u001b[43m \u001b[49m\u001b[43mname\u001b[49m\u001b[43m,\u001b[49m\u001b[43m \u001b[49m\u001b[43menrollment\u001b[49m\u001b[43m]\u001b[49m\u001b[43m]\u001b[49m\n\u001b[1;32m      6\u001b[0m     plan \u001b[38;5;241m=\u001b[39m plan\u001b[38;5;241m.\u001b[39mloc[\u001b[38;5;241m~\u001b[39m(plan[name]\u001b[38;5;241m.\u001b[39misna()) \u001b[38;5;241m&\u001b[39m \u001b[38;5;241m~\u001b[39m(plan[enrollment]\u001b[38;5;241m.\u001b[39misna())]\n\u001b[1;32m      7\u001b[0m     plan\u001b[38;5;241m.\u001b[39mcolumns \u001b[38;5;241m=\u001b[39m [\u001b[38;5;124m'\u001b[39m\u001b[38;5;124mdeid_tin\u001b[39m\u001b[38;5;124m'\u001b[39m, \u001b[38;5;124m'\u001b[39m\u001b[38;5;124mpac_id\u001b[39m\u001b[38;5;124m'\u001b[39m, \u001b[38;5;124m'\u001b[39m\u001b[38;5;124myear\u001b[39m\u001b[38;5;124m'\u001b[39m, \u001b[38;5;124m'\u001b[39m\u001b[38;5;124mma_plan_name\u001b[39m\u001b[38;5;124m'\u001b[39m, \u001b[38;5;124m'\u001b[39m\u001b[38;5;124mma_enrollment\u001b[39m\u001b[38;5;124m'\u001b[39m]\n",
      "File \u001b[0;32m~/miniforge3/envs/data-analytics/lib/python3.10/site-packages/pandas/core/frame.py:3511\u001b[0m, in \u001b[0;36mDataFrame.__getitem__\u001b[0;34m(self, key)\u001b[0m\n\u001b[1;32m   3509\u001b[0m     \u001b[38;5;28;01mif\u001b[39;00m is_iterator(key):\n\u001b[1;32m   3510\u001b[0m         key \u001b[38;5;241m=\u001b[39m \u001b[38;5;28mlist\u001b[39m(key)\n\u001b[0;32m-> 3511\u001b[0m     indexer \u001b[38;5;241m=\u001b[39m \u001b[38;5;28;43mself\u001b[39;49m\u001b[38;5;241;43m.\u001b[39;49m\u001b[43mcolumns\u001b[49m\u001b[38;5;241;43m.\u001b[39;49m\u001b[43m_get_indexer_strict\u001b[49m\u001b[43m(\u001b[49m\u001b[43mkey\u001b[49m\u001b[43m,\u001b[49m\u001b[43m \u001b[49m\u001b[38;5;124;43m\"\u001b[39;49m\u001b[38;5;124;43mcolumns\u001b[39;49m\u001b[38;5;124;43m\"\u001b[39;49m\u001b[43m)\u001b[49m[\u001b[38;5;241m1\u001b[39m]\n\u001b[1;32m   3513\u001b[0m \u001b[38;5;66;03m# take() does not accept boolean indexers\u001b[39;00m\n\u001b[1;32m   3514\u001b[0m \u001b[38;5;28;01mif\u001b[39;00m \u001b[38;5;28mgetattr\u001b[39m(indexer, \u001b[38;5;124m\"\u001b[39m\u001b[38;5;124mdtype\u001b[39m\u001b[38;5;124m\"\u001b[39m, \u001b[38;5;28;01mNone\u001b[39;00m) \u001b[38;5;241m==\u001b[39m \u001b[38;5;28mbool\u001b[39m:\n",
      "File \u001b[0;32m~/miniforge3/envs/data-analytics/lib/python3.10/site-packages/pandas/core/indexes/base.py:5782\u001b[0m, in \u001b[0;36mIndex._get_indexer_strict\u001b[0;34m(self, key, axis_name)\u001b[0m\n\u001b[1;32m   5779\u001b[0m \u001b[38;5;28;01melse\u001b[39;00m:\n\u001b[1;32m   5780\u001b[0m     keyarr, indexer, new_indexer \u001b[38;5;241m=\u001b[39m \u001b[38;5;28mself\u001b[39m\u001b[38;5;241m.\u001b[39m_reindex_non_unique(keyarr)\n\u001b[0;32m-> 5782\u001b[0m \u001b[38;5;28;43mself\u001b[39;49m\u001b[38;5;241;43m.\u001b[39;49m\u001b[43m_raise_if_missing\u001b[49m\u001b[43m(\u001b[49m\u001b[43mkeyarr\u001b[49m\u001b[43m,\u001b[49m\u001b[43m \u001b[49m\u001b[43mindexer\u001b[49m\u001b[43m,\u001b[49m\u001b[43m \u001b[49m\u001b[43maxis_name\u001b[49m\u001b[43m)\u001b[49m\n\u001b[1;32m   5784\u001b[0m keyarr \u001b[38;5;241m=\u001b[39m \u001b[38;5;28mself\u001b[39m\u001b[38;5;241m.\u001b[39mtake(indexer)\n\u001b[1;32m   5785\u001b[0m \u001b[38;5;28;01mif\u001b[39;00m \u001b[38;5;28misinstance\u001b[39m(key, Index):\n\u001b[1;32m   5786\u001b[0m     \u001b[38;5;66;03m# GH 42790 - Preserve name from an Index\u001b[39;00m\n",
      "File \u001b[0;32m~/miniforge3/envs/data-analytics/lib/python3.10/site-packages/pandas/core/indexes/base.py:5845\u001b[0m, in \u001b[0;36mIndex._raise_if_missing\u001b[0;34m(self, key, indexer, axis_name)\u001b[0m\n\u001b[1;32m   5842\u001b[0m     \u001b[38;5;28;01mraise\u001b[39;00m \u001b[38;5;167;01mKeyError\u001b[39;00m(\u001b[38;5;124mf\u001b[39m\u001b[38;5;124m\"\u001b[39m\u001b[38;5;124mNone of [\u001b[39m\u001b[38;5;132;01m{\u001b[39;00mkey\u001b[38;5;132;01m}\u001b[39;00m\u001b[38;5;124m] are in the [\u001b[39m\u001b[38;5;132;01m{\u001b[39;00maxis_name\u001b[38;5;132;01m}\u001b[39;00m\u001b[38;5;124m]\u001b[39m\u001b[38;5;124m\"\u001b[39m)\n\u001b[1;32m   5844\u001b[0m not_found \u001b[38;5;241m=\u001b[39m \u001b[38;5;28mlist\u001b[39m(ensure_index(key)[missing_mask\u001b[38;5;241m.\u001b[39mnonzero()[\u001b[38;5;241m0\u001b[39m]]\u001b[38;5;241m.\u001b[39munique())\n\u001b[0;32m-> 5845\u001b[0m \u001b[38;5;28;01mraise\u001b[39;00m \u001b[38;5;167;01mKeyError\u001b[39;00m(\u001b[38;5;124mf\u001b[39m\u001b[38;5;124m\"\u001b[39m\u001b[38;5;132;01m{\u001b[39;00mnot_found\u001b[38;5;132;01m}\u001b[39;00m\u001b[38;5;124m not in index\u001b[39m\u001b[38;5;124m\"\u001b[39m)\n",
      "\u001b[0;31mKeyError\u001b[0m: \"['ma_plan_1_name', 'ma_plan_1_enrollment'] not in index\""
     ]
    }
   ],
   "source": [
    "pro_pivot_df = pivot_ma_plan_enrollment(pro_df)"
   ]
  },
  {
   "cell_type": "code",
   "execution_count": null,
   "id": "f4b9a2d8-600a-4b9d-a428-225d8eeec6d7",
   "metadata": {},
   "outputs": [],
   "source": [
    "pro_pivot_df.head()"
   ]
  },
  {
   "cell_type": "markdown",
   "id": "012fe1e6-5032-4ae5-89cb-71d2bb194add",
   "metadata": {},
   "source": [
    "### Summaries \n",
    "### Prospective"
   ]
  },
  {
   "cell_type": "code",
   "execution_count": null,
   "id": "c4f76c7a-0b95-4843-84bc-63d60fed8405",
   "metadata": {},
   "outputs": [],
   "source": [
    "s1 = ret_df[['year', 'unique_members']].groupby('year', as_index=False).sum()\n",
    "s1.head()"
   ]
  },
  {
   "cell_type": "markdown",
   "id": "60440a9d-07c9-4ed7-868e-d324d7635ed7",
   "metadata": {},
   "source": [
    "### Retro"
   ]
  },
  {
   "cell_type": "code",
   "execution_count": null,
   "id": "0b65bb6e-240e-4a3a-b6f7-233b29f5d870",
   "metadata": {},
   "outputs": [],
   "source": [
    "s2 = pro_df[['year', 'unique_members']].groupby('year', as_index=False).sum()\n",
    "s2.head()"
   ]
  },
  {
   "cell_type": "markdown",
   "id": "037cc9c4-d4f9-4692-a691-098a5f1b5865",
   "metadata": {},
   "source": [
    "### Prospective"
   ]
  },
  {
   "cell_type": "code",
   "execution_count": null,
   "id": "2d6d2854-e683-411c-8c25-a9d3ea23014f",
   "metadata": {},
   "outputs": [],
   "source": [
    "s3 = pro_pivot_df[['year', 'ma_plan_name', 'ma_enrollment']].groupby(['year', 'ma_plan_name'], as_index=False).sum().sort_values('ma_enrollment', ascending=False)\n",
    "s3.head()"
   ]
  },
  {
   "cell_type": "markdown",
   "id": "241c6ff4-007d-4b97-be22-a777616496d6",
   "metadata": {},
   "source": [
    "### Retro"
   ]
  },
  {
   "cell_type": "code",
   "execution_count": null,
   "id": "f8f450dd-b33f-468b-ba4d-9a5319d2e434",
   "metadata": {},
   "outputs": [],
   "source": [
    "s4 = ret_pivot_df[['year', 'ma_plan_name', 'ma_enrollment']].groupby(['year', 'ma_plan_name'], as_index=False).sum().sort_values('ma_enrollment', ascending=False)\n",
    "s4.head()"
   ]
  },
  {
   "cell_type": "code",
   "execution_count": null,
   "id": "83b9b8c1-9a82-4685-87e3-ec1c8080ed10",
   "metadata": {},
   "outputs": [],
   "source": []
  },
  {
   "cell_type": "code",
   "execution_count": null,
   "id": "7c076c39-7ace-4808-ac98-3219d1e4334c",
   "metadata": {},
   "outputs": [],
   "source": []
  },
  {
   "cell_type": "code",
   "execution_count": null,
   "id": "c93cb43a-2f55-4fda-8648-ad01c44bcc01",
   "metadata": {},
   "outputs": [],
   "source": []
  },
  {
   "cell_type": "markdown",
   "id": "b768991e-fc74-41f7-ae7a-ee48e0d9db1a",
   "metadata": {},
   "source": [
    "### Outputs"
   ]
  },
  {
   "cell_type": "code",
   "execution_count": null,
   "id": "d8a8b27c-9fb4-4443-9270-312d797d7cae",
   "metadata": {},
   "outputs": [],
   "source": [
    "ret_df.loc[:, ret_df.columns[:-30]].to_csv(f'{data_dir}/{current_folder}/ours_milliman_ret_{current_folder}.csv', index=False)"
   ]
  },
  {
   "cell_type": "code",
   "execution_count": null,
   "id": "9ab56d6a-3830-4bd8-98c5-f05ecd9926a2",
   "metadata": {},
   "outputs": [],
   "source": [
    "pro_df.loc[:, pro_df.columns[:-30]].to_csv(f'{data_dir}/{current_folder}/ours_milliman_pro_{current_folder}.csv', index=False)"
   ]
  },
  {
   "cell_type": "code",
   "execution_count": null,
   "id": "277db72e-1400-4ffc-bc7c-073ef5f412ff",
   "metadata": {},
   "outputs": [],
   "source": [
    "pro_pivot_df.to_csv(f'{data_dir}/{current_folder}/pro_pivot.csv', index=False)\n",
    "ret_pivot_df.to_csv(f'{data_dir}/{current_folder}/ret_pivot.csv', index=False)"
   ]
  },
  {
   "cell_type": "code",
   "execution_count": null,
   "id": "73f0b2ce-1057-4711-b38a-f6f3c515b92e",
   "metadata": {},
   "outputs": [],
   "source": [
    "with pd.ExcelWriter(f'{data_dir}/{current_folder}/summary.xlsx') as writer:\n",
    "    s1.to_excel(writer, sheet_name='retrospective', index=False)\n",
    "    s2.to_excel(writer, sheet_name='prospective', index=False)\n",
    "    s3.to_excel(writer, sheet_name='prospective_pivot', index=False)\n",
    "    s4.to_excel(writer, sheet_name='retrospective_pivot', index=False)"
   ]
  },
  {
   "cell_type": "code",
   "execution_count": null,
   "id": "7d3cc2a1-9a9d-40ca-8456-7adf79b1183c",
   "metadata": {},
   "outputs": [],
   "source": []
  },
  {
   "cell_type": "code",
   "execution_count": null,
   "id": "79c54bf2-21d7-494a-926c-3ced40ee7c74",
   "metadata": {},
   "outputs": [],
   "source": []
  },
  {
   "cell_type": "code",
   "execution_count": null,
   "id": "1a873528-9783-4519-8d9c-daf7aead664c",
   "metadata": {},
   "outputs": [],
   "source": []
  },
  {
   "cell_type": "code",
   "execution_count": null,
   "id": "4cef265a-234e-40dd-99b3-649cf6eb5a3e",
   "metadata": {},
   "outputs": [],
   "source": []
  },
  {
   "cell_type": "code",
   "execution_count": null,
   "id": "32cf758d-a238-4ef3-9fcd-524e0127c0b9",
   "metadata": {},
   "outputs": [],
   "source": []
  }
 ],
 "metadata": {
  "kernelspec": {
   "display_name": "Python 3 (ipykernel)",
   "language": "python",
   "name": "python3"
  },
  "language_info": {
   "codemirror_mode": {
    "name": "ipython",
    "version": 3
   },
   "file_extension": ".py",
   "mimetype": "text/x-python",
   "name": "python",
   "nbconvert_exporter": "python",
   "pygments_lexer": "ipython3",
   "version": "3.10.8"
  }
 },
 "nbformat": 4,
 "nbformat_minor": 5
}
