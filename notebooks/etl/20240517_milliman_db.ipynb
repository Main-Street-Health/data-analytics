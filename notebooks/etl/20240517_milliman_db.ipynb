{
 "cells": [
  {
   "cell_type": "code",
   "execution_count": 1,
   "id": "39494305-5cba-421d-9de8-dc19abaf685e",
   "metadata": {},
   "outputs": [],
   "source": [
    "import os\n",
    "import sys\n",
    "import re\n",
    "import time\n",
    "import random\n",
    "import warnings\n",
    "import collections\n",
    "from tqdm import tqdm\n",
    "import numpy as np\n",
    "import pandas as pd\n",
    "import matplotlib.pyplot as plt\n",
    "import matplotlib.gridspec as gridspec\n",
    "import seaborn as sns\n",
    "\n",
    "sys.path.append('../../src')\n",
    "import cb_utils\n",
    "\n",
    "sns.set(style=\"darkgrid\")\n",
    "pd.options.display.max_columns = 500\n",
    "\n",
    "%load_ext autoreload\n",
    "%autoreload 2"
   ]
  },
  {
   "cell_type": "markdown",
   "id": "2529f94e-739c-44c3-b29e-46caf7b10032",
   "metadata": {},
   "source": [
    "# Milliman PAC File ETL\n",
    "1) log into SFTP site: https://secureftp.milliman.com  \n",
    "2) In the \"from milliman\" folder, go to the latest directory  \n",
    "     - In this case, the latest directory is \"20221216\"  \n",
    "3) Make sure you have access to the following folder: \\\\Main Street Health\\MSH_Strategy_Group - ACO Analyses\\Raw MIlliman Flat FIles\\  \n",
    "     - create folder with same datestamp as file from milliman, in this case \"20221216\"  \n",
    "4) Download the files from the SFTP site  \n",
    "     - in this case there are 3  \n",
    "5) copy the data disctionary to the folder on the network drive.  \n",
    "6) download the prospective and retrospective CSV files into database tables in both the MSH and CB datagrip environments (Alan has a place he puts them)  \n",
    "7) delete the last 30 columns from these database tables (we will create a \"pivot file\" with these 30 columns):  \n",
    "8) with these 30 columns, run Alan's \"pivot code\" to create these files:  \n",
    "     - strategic_milliman_prosp_20221128_pivot\n",
    "     -  strategic_milliman_retro_20221128_pivot\n",
    "9) copy 4 files to the \"20221216\" folder  \n",
    "     - prospective flat file (without the 30 MA columns)\n",
    "     - retrospective flat file (without the 30 MA columns)\n",
    "     - prospective MA pivot file\n",
    "     - retrospective MA pivor file\n",
    "10) email Ali and Ben that process is complete with the following summaries that you can pull via queries and paste in excel into the same folder.  "
   ]
  },
  {
   "cell_type": "markdown",
   "id": "44215ce0-432e-4587-84b8-a042cd97819e",
   "metadata": {},
   "source": [
    "### Config"
   ]
  },
  {
   "cell_type": "code",
   "execution_count": 2,
   "id": "32367e78-9b95-4d7f-9a6f-791f100c15a4",
   "metadata": {},
   "outputs": [],
   "source": [
    "data_dir = '/Users/bp/workspace/msh/milliman_data'\n",
    "current_folder = '20240517'\n",
    "pro_file_name = 'ACO Builder MSSP Prospective Explorer v2025.2.txt'\n",
    "retro_file_name = 'ACO Builder MSSP Retrospective Explorer v2025.2.txt'"
   ]
  },
  {
   "cell_type": "markdown",
   "id": "b615fbb8-c175-4b0d-9a4b-6017485c8ca0",
   "metadata": {},
   "source": [
    "### Pro load"
   ]
  },
  {
   "cell_type": "code",
   "execution_count": 3,
   "id": "b7dae4a0-e460-409d-9d44-bef70f6abfa7",
   "metadata": {},
   "outputs": [
    {
     "name": "stdout",
     "output_type": "stream",
     "text": [
      "1073472 rows, 61 columns\n"
     ]
    },
    {
     "data": {
      "text/html": [
       "<div>\n",
       "<style scoped>\n",
       "    .dataframe tbody tr th:only-of-type {\n",
       "        vertical-align: middle;\n",
       "    }\n",
       "\n",
       "    .dataframe tbody tr th {\n",
       "        vertical-align: top;\n",
       "    }\n",
       "\n",
       "    .dataframe thead th {\n",
       "        text-align: right;\n",
       "    }\n",
       "</style>\n",
       "<table border=\"1\" class=\"dataframe\">\n",
       "  <thead>\n",
       "    <tr style=\"text-align: right;\">\n",
       "      <th></th>\n",
       "      <th>pac_id</th>\n",
       "      <th>deid_tin</th>\n",
       "      <th>year</th>\n",
       "      <th>program_type</th>\n",
       "      <th>provider_name</th>\n",
       "      <th>mssp_aco_name</th>\n",
       "      <th>reach_aco_name</th>\n",
       "      <th>practice_state</th>\n",
       "      <th>practice_msa</th>\n",
       "      <th>practice_st_msa</th>\n",
       "      <th>practice_msa_name</th>\n",
       "      <th>practice_zip</th>\n",
       "      <th>pys_esrd</th>\n",
       "      <th>pys_dis</th>\n",
       "      <th>pys_ad</th>\n",
       "      <th>pys_and</th>\n",
       "      <th>pys_total</th>\n",
       "      <th>rs_esrd_legacy</th>\n",
       "      <th>rs_dis_legacy</th>\n",
       "      <th>rs_ad_legacy</th>\n",
       "      <th>rs_and_legacy</th>\n",
       "      <th>risk_composite_legacy</th>\n",
       "      <th>rs_esrd_v24</th>\n",
       "      <th>rs_dis_v28</th>\n",
       "      <th>rs_ad_v28</th>\n",
       "      <th>rs_and_v28</th>\n",
       "      <th>risk_composite_v28</th>\n",
       "      <th>rs_esrd_demog</th>\n",
       "      <th>rs_dis_demog</th>\n",
       "      <th>rs_ad_demog</th>\n",
       "      <th>rs_and_demog</th>\n",
       "      <th>risk_composite_demog</th>\n",
       "      <th>paid_esrd</th>\n",
       "      <th>paid_dis</th>\n",
       "      <th>paid_ad</th>\n",
       "      <th>paid_and</th>\n",
       "      <th>paid_composite</th>\n",
       "      <th>reg_ret_exp_esrd</th>\n",
       "      <th>reg_ret_exp_dis</th>\n",
       "      <th>reg_ret_exp_ad</th>\n",
       "      <th>reg_ret_exp_and</th>\n",
       "      <th>reg_ret_exp_composite</th>\n",
       "      <th>regional_efficiency_ret</th>\n",
       "      <th>reg_pro_exp_esrd</th>\n",
       "      <th>reg_pro_exp_dis</th>\n",
       "      <th>reg_pro_exp_ad</th>\n",
       "      <th>reg_pro_exp_and</th>\n",
       "      <th>reg_pro_exp_composite</th>\n",
       "      <th>regional_efficiency_pro</th>\n",
       "      <th>reg_ret_exp_esrd_v24</th>\n",
       "      <th>reg_ret_exp_dis_v28</th>\n",
       "      <th>reg_ret_exp_ad_v28</th>\n",
       "      <th>reg_ret_exp_and_v28</th>\n",
       "      <th>reg_ret_exp_composite_v28</th>\n",
       "      <th>regional_efficiency_ret_v28</th>\n",
       "      <th>reg_pro_exp_esrd_v24</th>\n",
       "      <th>reg_pro_exp_dis_v28</th>\n",
       "      <th>reg_pro_exp_ad_v28</th>\n",
       "      <th>reg_pro_exp_and_v28</th>\n",
       "      <th>reg_pro_exp_composite_v28</th>\n",
       "      <th>regional_efficiency_pro_v28</th>\n",
       "    </tr>\n",
       "  </thead>\n",
       "  <tbody>\n",
       "    <tr>\n",
       "      <th>0</th>\n",
       "      <td>42100091</td>\n",
       "      <td>441836</td>\n",
       "      <td>2016</td>\n",
       "      <td>Prospective</td>\n",
       "      <td>HARTSVILLE PRIMARY CARE CENTER</td>\n",
       "      <td>NC TN MSSP CHC</td>\n",
       "      <td>NaN</td>\n",
       "      <td>Tennessee</td>\n",
       "      <td>34980.0</td>\n",
       "      <td>TN-34980</td>\n",
       "      <td>Nashville-Davidson--Murfreesboro--Franklin, TN</td>\n",
       "      <td>37074.0</td>\n",
       "      <td>0.0</td>\n",
       "      <td>5.00</td>\n",
       "      <td>0.00</td>\n",
       "      <td>2.00</td>\n",
       "      <td>7.00</td>\n",
       "      <td>NaN</td>\n",
       "      <td>0.863795</td>\n",
       "      <td>NaN</td>\n",
       "      <td>0.739380</td>\n",
       "      <td>0.859959</td>\n",
       "      <td>NaN</td>\n",
       "      <td>0.863795</td>\n",
       "      <td>NaN</td>\n",
       "      <td>0.739380</td>\n",
       "      <td>0.859959</td>\n",
       "      <td>NaN</td>\n",
       "      <td>1.001509</td>\n",
       "      <td>NaN</td>\n",
       "      <td>1.119004</td>\n",
       "      <td>1.035079</td>\n",
       "      <td>NaN</td>\n",
       "      <td>7121.444000</td>\n",
       "      <td>NaN</td>\n",
       "      <td>566.425000</td>\n",
       "      <td>5248.581429</td>\n",
       "      <td>0.0</td>\n",
       "      <td>10157.99</td>\n",
       "      <td>0.00</td>\n",
       "      <td>9727.06</td>\n",
       "      <td>9677.555738</td>\n",
       "      <td>0.630665</td>\n",
       "      <td>0.0</td>\n",
       "      <td>9646.00</td>\n",
       "      <td>0.00</td>\n",
       "      <td>9412.85</td>\n",
       "      <td>9233.030572</td>\n",
       "      <td>0.661028</td>\n",
       "      <td>0.0</td>\n",
       "      <td>10157.99</td>\n",
       "      <td>0.00</td>\n",
       "      <td>9727.06</td>\n",
       "      <td>9677.555738</td>\n",
       "      <td>0.630665</td>\n",
       "      <td>0.0</td>\n",
       "      <td>9646.00</td>\n",
       "      <td>0.00</td>\n",
       "      <td>9412.85</td>\n",
       "      <td>9233.030572</td>\n",
       "      <td>0.661028</td>\n",
       "    </tr>\n",
       "    <tr>\n",
       "      <th>1</th>\n",
       "      <td>42100091</td>\n",
       "      <td>441836</td>\n",
       "      <td>2017</td>\n",
       "      <td>Prospective</td>\n",
       "      <td>HARTSVILLE PRIMARY CARE CENTER</td>\n",
       "      <td>NC TN MSSP CHC</td>\n",
       "      <td>NaN</td>\n",
       "      <td>Tennessee</td>\n",
       "      <td>34980.0</td>\n",
       "      <td>TN-34980</td>\n",
       "      <td>Nashville-Davidson--Murfreesboro--Franklin, TN</td>\n",
       "      <td>37074.0</td>\n",
       "      <td>0.0</td>\n",
       "      <td>7.08</td>\n",
       "      <td>0.92</td>\n",
       "      <td>6.00</td>\n",
       "      <td>14.00</td>\n",
       "      <td>NaN</td>\n",
       "      <td>0.932630</td>\n",
       "      <td>0.752984</td>\n",
       "      <td>0.750412</td>\n",
       "      <td>0.854342</td>\n",
       "      <td>NaN</td>\n",
       "      <td>0.822170</td>\n",
       "      <td>0.945082</td>\n",
       "      <td>0.817481</td>\n",
       "      <td>0.866952</td>\n",
       "      <td>NaN</td>\n",
       "      <td>1.120542</td>\n",
       "      <td>0.871022</td>\n",
       "      <td>1.178063</td>\n",
       "      <td>1.128797</td>\n",
       "      <td>NaN</td>\n",
       "      <td>8765.182203</td>\n",
       "      <td>43792.967391</td>\n",
       "      <td>1242.408333</td>\n",
       "      <td>7842.962143</td>\n",
       "      <td>0.0</td>\n",
       "      <td>11900.28</td>\n",
       "      <td>17513.31</td>\n",
       "      <td>10026.15</td>\n",
       "      <td>11358.163673</td>\n",
       "      <td>0.808240</td>\n",
       "      <td>0.0</td>\n",
       "      <td>10674.83</td>\n",
       "      <td>16837.99</td>\n",
       "      <td>9594.32</td>\n",
       "      <td>10479.976924</td>\n",
       "      <td>0.875968</td>\n",
       "      <td>0.0</td>\n",
       "      <td>11288.74</td>\n",
       "      <td>17598.56</td>\n",
       "      <td>9972.35</td>\n",
       "      <td>10704.671486</td>\n",
       "      <td>0.845107</td>\n",
       "      <td>0.0</td>\n",
       "      <td>10168.06</td>\n",
       "      <td>16995.97</td>\n",
       "      <td>9535.23</td>\n",
       "      <td>9947.387910</td>\n",
       "      <td>0.909444</td>\n",
       "    </tr>\n",
       "    <tr>\n",
       "      <th>2</th>\n",
       "      <td>42100091</td>\n",
       "      <td>441836</td>\n",
       "      <td>2018</td>\n",
       "      <td>Prospective</td>\n",
       "      <td>HARTSVILLE PRIMARY CARE CENTER</td>\n",
       "      <td>NC TN MSSP CHC</td>\n",
       "      <td>NaN</td>\n",
       "      <td>Tennessee</td>\n",
       "      <td>34980.0</td>\n",
       "      <td>TN-34980</td>\n",
       "      <td>Nashville-Davidson--Murfreesboro--Franklin, TN</td>\n",
       "      <td>37074.0</td>\n",
       "      <td>0.0</td>\n",
       "      <td>7.00</td>\n",
       "      <td>1.00</td>\n",
       "      <td>9.00</td>\n",
       "      <td>17.00</td>\n",
       "      <td>NaN</td>\n",
       "      <td>0.755567</td>\n",
       "      <td>2.139504</td>\n",
       "      <td>0.746941</td>\n",
       "      <td>0.779248</td>\n",
       "      <td>NaN</td>\n",
       "      <td>0.749534</td>\n",
       "      <td>1.382706</td>\n",
       "      <td>0.826464</td>\n",
       "      <td>0.773139</td>\n",
       "      <td>NaN</td>\n",
       "      <td>1.119854</td>\n",
       "      <td>0.749096</td>\n",
       "      <td>1.051986</td>\n",
       "      <td>1.062115</td>\n",
       "      <td>NaN</td>\n",
       "      <td>24440.150000</td>\n",
       "      <td>3757.030000</td>\n",
       "      <td>3642.783333</td>\n",
       "      <td>12213.125294</td>\n",
       "      <td>0.0</td>\n",
       "      <td>10128.24</td>\n",
       "      <td>17690.27</td>\n",
       "      <td>10204.42</td>\n",
       "      <td>12079.163437</td>\n",
       "      <td>1.297521</td>\n",
       "      <td>0.0</td>\n",
       "      <td>10591.36</td>\n",
       "      <td>17856.92</td>\n",
       "      <td>9851.13</td>\n",
       "      <td>12111.698118</td>\n",
       "      <td>1.294035</td>\n",
       "      <td>0.0</td>\n",
       "      <td>10134.85</td>\n",
       "      <td>17773.01</td>\n",
       "      <td>10255.81</td>\n",
       "      <td>11719.540343</td>\n",
       "      <td>1.347902</td>\n",
       "      <td>0.0</td>\n",
       "      <td>10759.92</td>\n",
       "      <td>17954.16</td>\n",
       "      <td>9946.30</td>\n",
       "      <td>11812.961388</td>\n",
       "      <td>1.337243</td>\n",
       "    </tr>\n",
       "    <tr>\n",
       "      <th>3</th>\n",
       "      <td>42100091</td>\n",
       "      <td>441836</td>\n",
       "      <td>2019</td>\n",
       "      <td>Prospective</td>\n",
       "      <td>HARTSVILLE PRIMARY CARE CENTER</td>\n",
       "      <td>NC TN MSSP CHC</td>\n",
       "      <td>NaN</td>\n",
       "      <td>Tennessee</td>\n",
       "      <td>34980.0</td>\n",
       "      <td>TN-34980</td>\n",
       "      <td>Nashville-Davidson--Murfreesboro--Franklin, TN</td>\n",
       "      <td>37074.0</td>\n",
       "      <td>0.0</td>\n",
       "      <td>7.58</td>\n",
       "      <td>1.00</td>\n",
       "      <td>7.42</td>\n",
       "      <td>16.00</td>\n",
       "      <td>NaN</td>\n",
       "      <td>1.442499</td>\n",
       "      <td>1.348140</td>\n",
       "      <td>0.846099</td>\n",
       "      <td>1.127700</td>\n",
       "      <td>NaN</td>\n",
       "      <td>1.208815</td>\n",
       "      <td>1.449134</td>\n",
       "      <td>0.828398</td>\n",
       "      <td>1.043732</td>\n",
       "      <td>NaN</td>\n",
       "      <td>0.992623</td>\n",
       "      <td>0.907614</td>\n",
       "      <td>1.147268</td>\n",
       "      <td>1.059026</td>\n",
       "      <td>NaN</td>\n",
       "      <td>7320.637203</td>\n",
       "      <td>17721.800000</td>\n",
       "      <td>10229.787062</td>\n",
       "      <td>9319.828125</td>\n",
       "      <td>0.0</td>\n",
       "      <td>11657.38</td>\n",
       "      <td>18373.78</td>\n",
       "      <td>10513.03</td>\n",
       "      <td>12095.152494</td>\n",
       "      <td>0.683287</td>\n",
       "      <td>0.0</td>\n",
       "      <td>11434.88</td>\n",
       "      <td>18332.67</td>\n",
       "      <td>10028.94</td>\n",
       "      <td>11788.809232</td>\n",
       "      <td>0.701042</td>\n",
       "      <td>0.0</td>\n",
       "      <td>11078.98</td>\n",
       "      <td>18365.63</td>\n",
       "      <td>10554.33</td>\n",
       "      <td>11557.284513</td>\n",
       "      <td>0.772615</td>\n",
       "      <td>0.0</td>\n",
       "      <td>10995.70</td>\n",
       "      <td>18384.85</td>\n",
       "      <td>10144.58</td>\n",
       "      <td>11362.440375</td>\n",
       "      <td>0.785864</td>\n",
       "    </tr>\n",
       "    <tr>\n",
       "      <th>4</th>\n",
       "      <td>42100091</td>\n",
       "      <td>441836</td>\n",
       "      <td>2020</td>\n",
       "      <td>Prospective</td>\n",
       "      <td>HARTSVILLE PRIMARY CARE CENTER</td>\n",
       "      <td>NC TN MSSP CHC</td>\n",
       "      <td>NaN</td>\n",
       "      <td>Tennessee</td>\n",
       "      <td>34980.0</td>\n",
       "      <td>TN-34980</td>\n",
       "      <td>Nashville-Davidson--Murfreesboro--Franklin, TN</td>\n",
       "      <td>37074.0</td>\n",
       "      <td>0.0</td>\n",
       "      <td>10.00</td>\n",
       "      <td>2.33</td>\n",
       "      <td>7.42</td>\n",
       "      <td>19.75</td>\n",
       "      <td>NaN</td>\n",
       "      <td>0.736111</td>\n",
       "      <td>1.214575</td>\n",
       "      <td>1.090537</td>\n",
       "      <td>0.908417</td>\n",
       "      <td>NaN</td>\n",
       "      <td>0.714473</td>\n",
       "      <td>1.291778</td>\n",
       "      <td>1.138687</td>\n",
       "      <td>0.921810</td>\n",
       "      <td>NaN</td>\n",
       "      <td>0.960056</td>\n",
       "      <td>0.986459</td>\n",
       "      <td>1.116323</td>\n",
       "      <td>1.021880</td>\n",
       "      <td>NaN</td>\n",
       "      <td>17862.057000</td>\n",
       "      <td>30592.888412</td>\n",
       "      <td>6626.024259</td>\n",
       "      <td>15142.637975</td>\n",
       "      <td>0.0</td>\n",
       "      <td>10737.27</td>\n",
       "      <td>20318.36</td>\n",
       "      <td>9180.01</td>\n",
       "      <td>11750.644964</td>\n",
       "      <td>1.418583</td>\n",
       "      <td>0.0</td>\n",
       "      <td>10666.57</td>\n",
       "      <td>19361.55</td>\n",
       "      <td>8642.32</td>\n",
       "      <td>11328.208114</td>\n",
       "      <td>1.471483</td>\n",
       "      <td>0.0</td>\n",
       "      <td>9688.76</td>\n",
       "      <td>20174.22</td>\n",
       "      <td>9160.97</td>\n",
       "      <td>11389.061079</td>\n",
       "      <td>1.442355</td>\n",
       "      <td>0.0</td>\n",
       "      <td>9595.68</td>\n",
       "      <td>19342.80</td>\n",
       "      <td>8664.51</td>\n",
       "      <td>10984.678151</td>\n",
       "      <td>1.495453</td>\n",
       "    </tr>\n",
       "  </tbody>\n",
       "</table>\n",
       "</div>"
      ],
      "text/plain": [
       "     pac_id deid_tin  year program_type                   provider_name  \\\n",
       "0  42100091   441836  2016  Prospective  HARTSVILLE PRIMARY CARE CENTER   \n",
       "1  42100091   441836  2017  Prospective  HARTSVILLE PRIMARY CARE CENTER   \n",
       "2  42100091   441836  2018  Prospective  HARTSVILLE PRIMARY CARE CENTER   \n",
       "3  42100091   441836  2019  Prospective  HARTSVILLE PRIMARY CARE CENTER   \n",
       "4  42100091   441836  2020  Prospective  HARTSVILLE PRIMARY CARE CENTER   \n",
       "\n",
       "    mssp_aco_name reach_aco_name practice_state  practice_msa practice_st_msa  \\\n",
       "0  NC TN MSSP CHC            NaN      Tennessee       34980.0        TN-34980   \n",
       "1  NC TN MSSP CHC            NaN      Tennessee       34980.0        TN-34980   \n",
       "2  NC TN MSSP CHC            NaN      Tennessee       34980.0        TN-34980   \n",
       "3  NC TN MSSP CHC            NaN      Tennessee       34980.0        TN-34980   \n",
       "4  NC TN MSSP CHC            NaN      Tennessee       34980.0        TN-34980   \n",
       "\n",
       "                                practice_msa_name  practice_zip  pys_esrd  \\\n",
       "0  Nashville-Davidson--Murfreesboro--Franklin, TN       37074.0       0.0   \n",
       "1  Nashville-Davidson--Murfreesboro--Franklin, TN       37074.0       0.0   \n",
       "2  Nashville-Davidson--Murfreesboro--Franklin, TN       37074.0       0.0   \n",
       "3  Nashville-Davidson--Murfreesboro--Franklin, TN       37074.0       0.0   \n",
       "4  Nashville-Davidson--Murfreesboro--Franklin, TN       37074.0       0.0   \n",
       "\n",
       "   pys_dis  pys_ad  pys_and  pys_total  rs_esrd_legacy  rs_dis_legacy  \\\n",
       "0     5.00    0.00     2.00       7.00             NaN       0.863795   \n",
       "1     7.08    0.92     6.00      14.00             NaN       0.932630   \n",
       "2     7.00    1.00     9.00      17.00             NaN       0.755567   \n",
       "3     7.58    1.00     7.42      16.00             NaN       1.442499   \n",
       "4    10.00    2.33     7.42      19.75             NaN       0.736111   \n",
       "\n",
       "   rs_ad_legacy  rs_and_legacy  risk_composite_legacy  rs_esrd_v24  \\\n",
       "0           NaN       0.739380               0.859959          NaN   \n",
       "1      0.752984       0.750412               0.854342          NaN   \n",
       "2      2.139504       0.746941               0.779248          NaN   \n",
       "3      1.348140       0.846099               1.127700          NaN   \n",
       "4      1.214575       1.090537               0.908417          NaN   \n",
       "\n",
       "   rs_dis_v28  rs_ad_v28  rs_and_v28  risk_composite_v28  rs_esrd_demog  \\\n",
       "0    0.863795        NaN    0.739380            0.859959            NaN   \n",
       "1    0.822170   0.945082    0.817481            0.866952            NaN   \n",
       "2    0.749534   1.382706    0.826464            0.773139            NaN   \n",
       "3    1.208815   1.449134    0.828398            1.043732            NaN   \n",
       "4    0.714473   1.291778    1.138687            0.921810            NaN   \n",
       "\n",
       "   rs_dis_demog  rs_ad_demog  rs_and_demog  risk_composite_demog  paid_esrd  \\\n",
       "0      1.001509          NaN      1.119004              1.035079        NaN   \n",
       "1      1.120542     0.871022      1.178063              1.128797        NaN   \n",
       "2      1.119854     0.749096      1.051986              1.062115        NaN   \n",
       "3      0.992623     0.907614      1.147268              1.059026        NaN   \n",
       "4      0.960056     0.986459      1.116323              1.021880        NaN   \n",
       "\n",
       "       paid_dis       paid_ad      paid_and  paid_composite  reg_ret_exp_esrd  \\\n",
       "0   7121.444000           NaN    566.425000     5248.581429               0.0   \n",
       "1   8765.182203  43792.967391   1242.408333     7842.962143               0.0   \n",
       "2  24440.150000   3757.030000   3642.783333    12213.125294               0.0   \n",
       "3   7320.637203  17721.800000  10229.787062     9319.828125               0.0   \n",
       "4  17862.057000  30592.888412   6626.024259    15142.637975               0.0   \n",
       "\n",
       "   reg_ret_exp_dis  reg_ret_exp_ad  reg_ret_exp_and  reg_ret_exp_composite  \\\n",
       "0         10157.99            0.00          9727.06            9677.555738   \n",
       "1         11900.28        17513.31         10026.15           11358.163673   \n",
       "2         10128.24        17690.27         10204.42           12079.163437   \n",
       "3         11657.38        18373.78         10513.03           12095.152494   \n",
       "4         10737.27        20318.36          9180.01           11750.644964   \n",
       "\n",
       "   regional_efficiency_ret  reg_pro_exp_esrd  reg_pro_exp_dis  reg_pro_exp_ad  \\\n",
       "0                 0.630665               0.0          9646.00            0.00   \n",
       "1                 0.808240               0.0         10674.83        16837.99   \n",
       "2                 1.297521               0.0         10591.36        17856.92   \n",
       "3                 0.683287               0.0         11434.88        18332.67   \n",
       "4                 1.418583               0.0         10666.57        19361.55   \n",
       "\n",
       "   reg_pro_exp_and  reg_pro_exp_composite  regional_efficiency_pro  \\\n",
       "0          9412.85            9233.030572                 0.661028   \n",
       "1          9594.32           10479.976924                 0.875968   \n",
       "2          9851.13           12111.698118                 1.294035   \n",
       "3         10028.94           11788.809232                 0.701042   \n",
       "4          8642.32           11328.208114                 1.471483   \n",
       "\n",
       "   reg_ret_exp_esrd_v24  reg_ret_exp_dis_v28  reg_ret_exp_ad_v28  \\\n",
       "0                   0.0             10157.99                0.00   \n",
       "1                   0.0             11288.74            17598.56   \n",
       "2                   0.0             10134.85            17773.01   \n",
       "3                   0.0             11078.98            18365.63   \n",
       "4                   0.0              9688.76            20174.22   \n",
       "\n",
       "   reg_ret_exp_and_v28  reg_ret_exp_composite_v28  \\\n",
       "0              9727.06                9677.555738   \n",
       "1              9972.35               10704.671486   \n",
       "2             10255.81               11719.540343   \n",
       "3             10554.33               11557.284513   \n",
       "4              9160.97               11389.061079   \n",
       "\n",
       "   regional_efficiency_ret_v28  reg_pro_exp_esrd_v24  reg_pro_exp_dis_v28  \\\n",
       "0                     0.630665                   0.0              9646.00   \n",
       "1                     0.845107                   0.0             10168.06   \n",
       "2                     1.347902                   0.0             10759.92   \n",
       "3                     0.772615                   0.0             10995.70   \n",
       "4                     1.442355                   0.0              9595.68   \n",
       "\n",
       "   reg_pro_exp_ad_v28  reg_pro_exp_and_v28  reg_pro_exp_composite_v28  \\\n",
       "0                0.00              9412.85                9233.030572   \n",
       "1            16995.97              9535.23                9947.387910   \n",
       "2            17954.16              9946.30               11812.961388   \n",
       "3            18384.85             10144.58               11362.440375   \n",
       "4            19342.80              8664.51               10984.678151   \n",
       "\n",
       "   regional_efficiency_pro_v28  \n",
       "0                     0.661028  \n",
       "1                     0.909444  \n",
       "2                     1.337243  \n",
       "3                     0.785864  \n",
       "4                     1.495453  "
      ]
     },
     "execution_count": 3,
     "metadata": {},
     "output_type": "execute_result"
    }
   ],
   "source": [
    "pro_df = pd.read_csv(f'{data_dir}/{current_folder}/{pro_file_name}',  encoding='latin1', low_memory=False, delimiter='\\t')\n",
    "pro_df = cb_utils.df_format_columns(pro_df)\n",
    "print(f'{pro_df.shape[0]} rows, {pro_df.shape[1]} columns')\n",
    "pro_df.head()"
   ]
  },
  {
   "cell_type": "code",
   "execution_count": null,
   "id": "569658c1-fc47-4eab-92a9-734cc74ab83a",
   "metadata": {},
   "outputs": [],
   "source": []
  },
  {
   "cell_type": "code",
   "execution_count": null,
   "id": "56cb6a37-168c-4305-83dd-4e1816991e45",
   "metadata": {},
   "outputs": [],
   "source": []
  },
  {
   "cell_type": "code",
   "execution_count": null,
   "id": "96ee1a4d-2ac4-4fd4-87e2-b8e82b7138bb",
   "metadata": {},
   "outputs": [],
   "source": []
  },
  {
   "cell_type": "code",
   "execution_count": 4,
   "id": "d3c63277-5dc7-4ab2-97d6-911b569e0d09",
   "metadata": {},
   "outputs": [
    {
     "data": {
      "text/plain": [
       "1073472"
      ]
     },
     "execution_count": 4,
     "metadata": {},
     "output_type": "execute_result"
    }
   ],
   "source": [
    "conn = cb_utils.get_engine(source='msh_analytics')\n",
    "pro_table_name = f'milliman_pro_{current_folder}'\n",
    "pro_schema = 'raw\n",
    "print(f'select * from {pro_schema}.{pro_table_name}')\n",
    "# pro_df.to_sql(pro_table_name, conn, schema=pro_schema, index=False, method='multi', chunksize=1000) # , if_exists='replace'"
   ]
  },
  {
   "cell_type": "code",
   "execution_count": null,
   "id": "e35dfd7e-f320-433e-a103-74bfcea86dfd",
   "metadata": {},
   "outputs": [],
   "source": [
    "pro_df.to_sql(pro_table_name, conn, schema=pro_schema, index=False, method='multi', chunksize=1000) # , if_exists='replace'"
   ]
  },
  {
   "cell_type": "code",
   "execution_count": null,
   "id": "e8d84dd1-feda-46c6-87ef-0a24556ae6e3",
   "metadata": {},
   "outputs": [],
   "source": []
  },
  {
   "cell_type": "code",
   "execution_count": null,
   "id": "1e71dfe7-7941-47fb-87c6-8b6da7df7d14",
   "metadata": {},
   "outputs": [],
   "source": [
    "ret_df = pd.read_csv(f'{data_dir}/{current_folder}/{retro_file_name}',  encoding='latin1', low_memory=False, delimiter='\\t')\n",
    "ret_df = cb_utils.df_format_columns(ret_df)\n",
    "print(f'{ret_df.shape[0]} rows, {ret_df.shape[1]} columns')\n",
    "ret_df.head()"
   ]
  },
  {
   "cell_type": "code",
   "execution_count": null,
   "id": "6d8f1901-74c5-4166-808a-17b3650866f8",
   "metadata": {},
   "outputs": [],
   "source": [
    "ret_table_name = f'milliman_ret_{current_folder}'\n",
    "ret_schema = 'raw\n",
    "print(f'select * from {ret_schema}.{ret_table_name}')"
   ]
  },
  {
   "cell_type": "code",
   "execution_count": 6,
   "id": "c590a337-78b0-4ab6-880e-ae4cfffe2b4f",
   "metadata": {},
   "outputs": [
    {
     "data": {
      "text/plain": [
       "1073472"
      ]
     },
     "execution_count": 6,
     "metadata": {},
     "output_type": "execute_result"
    }
   ],
   "source": [
    "ret_df.to_sql(f'milliman_ret_{current_folder}', conn, schema='raw', index=False, method='multi', chunksize=1000) # if_exists='replace', "
   ]
  },
  {
   "cell_type": "code",
   "execution_count": null,
   "id": "d903949b-d6f3-4eec-a4f4-0e63fe9743a4",
   "metadata": {},
   "outputs": [],
   "source": []
  },
  {
   "cell_type": "code",
   "execution_count": 9,
   "id": "65edcef7-a4a4-4e3e-9b00-4d423883d784",
   "metadata": {},
   "outputs": [
    {
     "data": {
      "text/plain": [
       "2016    93392\n",
       "2017    90403\n",
       "2018    87384\n",
       "2019    84748\n",
       "2020    82510\n",
       "2021    79560\n",
       "2022    76027\n",
       "2023    75310\n",
       "Name: year, dtype: int64"
      ]
     },
     "execution_count": 9,
     "metadata": {},
     "output_type": "execute_result"
    }
   ],
   "source": [
    "ret_df.year.value_counts()"
   ]
  },
  {
   "cell_type": "code",
   "execution_count": 10,
   "id": "cc45b6bb-d0ac-43d3-8ef9-154cf87ebc6f",
   "metadata": {},
   "outputs": [],
   "source": [
    "for yr in [2016, 2017, 2018, 2019, 2020, 2021, 2022]:\n",
    "    ret_df.loc[ret_df.year == yr].to_csv(f'{data_dir}/{current_folder}/ret_{yr}.csv',index=False)"
   ]
  },
  {
   "cell_type": "code",
   "execution_count": null,
   "id": "a495470a-13c3-4f62-99f5-46fcf05bb27a",
   "metadata": {},
   "outputs": [],
   "source": []
  },
  {
   "cell_type": "code",
   "execution_count": null,
   "id": "955ff192-255f-43fc-84cf-41014a4e0be2",
   "metadata": {},
   "outputs": [],
   "source": []
  },
  {
   "cell_type": "markdown",
   "id": "bd681eab-7021-4940-95bb-3f47309feed8",
   "metadata": {},
   "source": [
    "# Did not use below"
   ]
  },
  {
   "cell_type": "code",
   "execution_count": 6,
   "id": "64b0bd43-b764-443f-a779-16eb5d26062b",
   "metadata": {},
   "outputs": [
    {
     "data": {
      "text/plain": [
       "613556"
      ]
     },
     "execution_count": 6,
     "metadata": {},
     "output_type": "execute_result"
    }
   ],
   "source": [
    "conn = cb_utils.get_engine()\n",
    "pro_df.to_sql(f'milliman_pro_{current_folder}', conn, schema='strategic', index=False, method='multi', chunksize=1000) # , if_exists='replace'"
   ]
  },
  {
   "cell_type": "markdown",
   "id": "c717b56c-c212-47a0-a087-6d937a65c5cc",
   "metadata": {},
   "source": [
    "### Retro load"
   ]
  },
  {
   "cell_type": "code",
   "execution_count": 33,
   "id": "fc2a2515-c9ce-43d0-869c-0111ef4912f1",
   "metadata": {},
   "outputs": [],
   "source": [
    "\n",
    "ret_df.to_csv('ret.csv',index=False)"
   ]
  },
  {
   "cell_type": "code",
   "execution_count": 10,
   "id": "95052b74-0f5c-443b-84d4-79011bf772da",
   "metadata": {},
   "outputs": [
    {
     "data": {
      "text/plain": [
       "594838"
      ]
     },
     "execution_count": 10,
     "metadata": {},
     "output_type": "execute_result"
    }
   ],
   "source": [
    "conn = cb_utils.get_engine()\n",
    "ret_df.to_sql(f'milliman_ret_{current_folder}', conn, schema='strategic', index=False, method='multi', chunksize=1000) # if_exists='replace', "
   ]
  },
  {
   "cell_type": "markdown",
   "id": "ac4afbf3-18de-48c5-b79f-7be01241e0af",
   "metadata": {},
   "source": [
    "### Pivots"
   ]
  },
  {
   "cell_type": "code",
   "execution_count": 11,
   "id": "dd02fba0-6777-40df-93a3-76ce04ec06ff",
   "metadata": {},
   "outputs": [],
   "source": [
    "def pivot_ma_plan_enrollment(df):\n",
    "    dfs = []\n",
    "    for i in range(1, 16):\n",
    "        name, enrollment = f'ma_plan_{i}_name', f'ma_plan_{i}_enrollment'\n",
    "        plan = df[['deid_tin', 'pac_id', 'year', name, enrollment]]\n",
    "        plan = plan.loc[~(plan[name].isna()) & ~(plan[enrollment].isna())]\n",
    "        plan.columns = ['deid_tin', 'pac_id', 'year', 'ma_plan_name', 'ma_enrollment']\n",
    "        dfs.append(plan)\n",
    "    return pd.concat(dfs)"
   ]
  },
  {
   "cell_type": "code",
   "execution_count": 12,
   "id": "d9ff5d68-9fd8-4f78-8d7e-23c22e9e37ca",
   "metadata": {},
   "outputs": [
    {
     "ename": "KeyError",
     "evalue": "\"['ma_plan_1_name', 'ma_plan_1_enrollment'] not in index\"",
     "output_type": "error",
     "traceback": [
      "\u001b[0;31m---------------------------------------------------------------------------\u001b[0m",
      "\u001b[0;31mKeyError\u001b[0m                                  Traceback (most recent call last)",
      "Cell \u001b[0;32mIn[12], line 1\u001b[0m\n\u001b[0;32m----> 1\u001b[0m ret_pivot_df \u001b[38;5;241m=\u001b[39m \u001b[43mpivot_ma_plan_enrollment\u001b[49m\u001b[43m(\u001b[49m\u001b[43mret_df\u001b[49m\u001b[43m)\u001b[49m\n",
      "Cell \u001b[0;32mIn[11], line 5\u001b[0m, in \u001b[0;36mpivot_ma_plan_enrollment\u001b[0;34m(df)\u001b[0m\n\u001b[1;32m      3\u001b[0m \u001b[38;5;28;01mfor\u001b[39;00m i \u001b[38;5;129;01min\u001b[39;00m \u001b[38;5;28mrange\u001b[39m(\u001b[38;5;241m1\u001b[39m, \u001b[38;5;241m16\u001b[39m):\n\u001b[1;32m      4\u001b[0m     name, enrollment \u001b[38;5;241m=\u001b[39m \u001b[38;5;124mf\u001b[39m\u001b[38;5;124m'\u001b[39m\u001b[38;5;124mma_plan_\u001b[39m\u001b[38;5;132;01m{\u001b[39;00mi\u001b[38;5;132;01m}\u001b[39;00m\u001b[38;5;124m_name\u001b[39m\u001b[38;5;124m'\u001b[39m, \u001b[38;5;124mf\u001b[39m\u001b[38;5;124m'\u001b[39m\u001b[38;5;124mma_plan_\u001b[39m\u001b[38;5;132;01m{\u001b[39;00mi\u001b[38;5;132;01m}\u001b[39;00m\u001b[38;5;124m_enrollment\u001b[39m\u001b[38;5;124m'\u001b[39m\n\u001b[0;32m----> 5\u001b[0m     plan \u001b[38;5;241m=\u001b[39m \u001b[43mdf\u001b[49m\u001b[43m[\u001b[49m\u001b[43m[\u001b[49m\u001b[38;5;124;43m'\u001b[39;49m\u001b[38;5;124;43mdeid_tin\u001b[39;49m\u001b[38;5;124;43m'\u001b[39;49m\u001b[43m,\u001b[49m\u001b[43m \u001b[49m\u001b[38;5;124;43m'\u001b[39;49m\u001b[38;5;124;43mpac_id\u001b[39;49m\u001b[38;5;124;43m'\u001b[39;49m\u001b[43m,\u001b[49m\u001b[43m \u001b[49m\u001b[38;5;124;43m'\u001b[39;49m\u001b[38;5;124;43myear\u001b[39;49m\u001b[38;5;124;43m'\u001b[39;49m\u001b[43m,\u001b[49m\u001b[43m \u001b[49m\u001b[43mname\u001b[49m\u001b[43m,\u001b[49m\u001b[43m \u001b[49m\u001b[43menrollment\u001b[49m\u001b[43m]\u001b[49m\u001b[43m]\u001b[49m\n\u001b[1;32m      6\u001b[0m     plan \u001b[38;5;241m=\u001b[39m plan\u001b[38;5;241m.\u001b[39mloc[\u001b[38;5;241m~\u001b[39m(plan[name]\u001b[38;5;241m.\u001b[39misna()) \u001b[38;5;241m&\u001b[39m \u001b[38;5;241m~\u001b[39m(plan[enrollment]\u001b[38;5;241m.\u001b[39misna())]\n\u001b[1;32m      7\u001b[0m     plan\u001b[38;5;241m.\u001b[39mcolumns \u001b[38;5;241m=\u001b[39m [\u001b[38;5;124m'\u001b[39m\u001b[38;5;124mdeid_tin\u001b[39m\u001b[38;5;124m'\u001b[39m, \u001b[38;5;124m'\u001b[39m\u001b[38;5;124mpac_id\u001b[39m\u001b[38;5;124m'\u001b[39m, \u001b[38;5;124m'\u001b[39m\u001b[38;5;124myear\u001b[39m\u001b[38;5;124m'\u001b[39m, \u001b[38;5;124m'\u001b[39m\u001b[38;5;124mma_plan_name\u001b[39m\u001b[38;5;124m'\u001b[39m, \u001b[38;5;124m'\u001b[39m\u001b[38;5;124mma_enrollment\u001b[39m\u001b[38;5;124m'\u001b[39m]\n",
      "File \u001b[0;32m~/miniforge3/envs/data-analytics/lib/python3.10/site-packages/pandas/core/frame.py:3511\u001b[0m, in \u001b[0;36mDataFrame.__getitem__\u001b[0;34m(self, key)\u001b[0m\n\u001b[1;32m   3509\u001b[0m     \u001b[38;5;28;01mif\u001b[39;00m is_iterator(key):\n\u001b[1;32m   3510\u001b[0m         key \u001b[38;5;241m=\u001b[39m \u001b[38;5;28mlist\u001b[39m(key)\n\u001b[0;32m-> 3511\u001b[0m     indexer \u001b[38;5;241m=\u001b[39m \u001b[38;5;28;43mself\u001b[39;49m\u001b[38;5;241;43m.\u001b[39;49m\u001b[43mcolumns\u001b[49m\u001b[38;5;241;43m.\u001b[39;49m\u001b[43m_get_indexer_strict\u001b[49m\u001b[43m(\u001b[49m\u001b[43mkey\u001b[49m\u001b[43m,\u001b[49m\u001b[43m \u001b[49m\u001b[38;5;124;43m\"\u001b[39;49m\u001b[38;5;124;43mcolumns\u001b[39;49m\u001b[38;5;124;43m\"\u001b[39;49m\u001b[43m)\u001b[49m[\u001b[38;5;241m1\u001b[39m]\n\u001b[1;32m   3513\u001b[0m \u001b[38;5;66;03m# take() does not accept boolean indexers\u001b[39;00m\n\u001b[1;32m   3514\u001b[0m \u001b[38;5;28;01mif\u001b[39;00m \u001b[38;5;28mgetattr\u001b[39m(indexer, \u001b[38;5;124m\"\u001b[39m\u001b[38;5;124mdtype\u001b[39m\u001b[38;5;124m\"\u001b[39m, \u001b[38;5;28;01mNone\u001b[39;00m) \u001b[38;5;241m==\u001b[39m \u001b[38;5;28mbool\u001b[39m:\n",
      "File \u001b[0;32m~/miniforge3/envs/data-analytics/lib/python3.10/site-packages/pandas/core/indexes/base.py:5782\u001b[0m, in \u001b[0;36mIndex._get_indexer_strict\u001b[0;34m(self, key, axis_name)\u001b[0m\n\u001b[1;32m   5779\u001b[0m \u001b[38;5;28;01melse\u001b[39;00m:\n\u001b[1;32m   5780\u001b[0m     keyarr, indexer, new_indexer \u001b[38;5;241m=\u001b[39m \u001b[38;5;28mself\u001b[39m\u001b[38;5;241m.\u001b[39m_reindex_non_unique(keyarr)\n\u001b[0;32m-> 5782\u001b[0m \u001b[38;5;28;43mself\u001b[39;49m\u001b[38;5;241;43m.\u001b[39;49m\u001b[43m_raise_if_missing\u001b[49m\u001b[43m(\u001b[49m\u001b[43mkeyarr\u001b[49m\u001b[43m,\u001b[49m\u001b[43m \u001b[49m\u001b[43mindexer\u001b[49m\u001b[43m,\u001b[49m\u001b[43m \u001b[49m\u001b[43maxis_name\u001b[49m\u001b[43m)\u001b[49m\n\u001b[1;32m   5784\u001b[0m keyarr \u001b[38;5;241m=\u001b[39m \u001b[38;5;28mself\u001b[39m\u001b[38;5;241m.\u001b[39mtake(indexer)\n\u001b[1;32m   5785\u001b[0m \u001b[38;5;28;01mif\u001b[39;00m \u001b[38;5;28misinstance\u001b[39m(key, Index):\n\u001b[1;32m   5786\u001b[0m     \u001b[38;5;66;03m# GH 42790 - Preserve name from an Index\u001b[39;00m\n",
      "File \u001b[0;32m~/miniforge3/envs/data-analytics/lib/python3.10/site-packages/pandas/core/indexes/base.py:5845\u001b[0m, in \u001b[0;36mIndex._raise_if_missing\u001b[0;34m(self, key, indexer, axis_name)\u001b[0m\n\u001b[1;32m   5842\u001b[0m     \u001b[38;5;28;01mraise\u001b[39;00m \u001b[38;5;167;01mKeyError\u001b[39;00m(\u001b[38;5;124mf\u001b[39m\u001b[38;5;124m\"\u001b[39m\u001b[38;5;124mNone of [\u001b[39m\u001b[38;5;132;01m{\u001b[39;00mkey\u001b[38;5;132;01m}\u001b[39;00m\u001b[38;5;124m] are in the [\u001b[39m\u001b[38;5;132;01m{\u001b[39;00maxis_name\u001b[38;5;132;01m}\u001b[39;00m\u001b[38;5;124m]\u001b[39m\u001b[38;5;124m\"\u001b[39m)\n\u001b[1;32m   5844\u001b[0m not_found \u001b[38;5;241m=\u001b[39m \u001b[38;5;28mlist\u001b[39m(ensure_index(key)[missing_mask\u001b[38;5;241m.\u001b[39mnonzero()[\u001b[38;5;241m0\u001b[39m]]\u001b[38;5;241m.\u001b[39munique())\n\u001b[0;32m-> 5845\u001b[0m \u001b[38;5;28;01mraise\u001b[39;00m \u001b[38;5;167;01mKeyError\u001b[39;00m(\u001b[38;5;124mf\u001b[39m\u001b[38;5;124m\"\u001b[39m\u001b[38;5;132;01m{\u001b[39;00mnot_found\u001b[38;5;132;01m}\u001b[39;00m\u001b[38;5;124m not in index\u001b[39m\u001b[38;5;124m\"\u001b[39m)\n",
      "\u001b[0;31mKeyError\u001b[0m: \"['ma_plan_1_name', 'ma_plan_1_enrollment'] not in index\""
     ]
    }
   ],
   "source": [
    "ret_pivot_df = pivot_ma_plan_enrollment(ret_df)"
   ]
  },
  {
   "cell_type": "code",
   "execution_count": null,
   "id": "715c39a1-ade8-46da-8f8b-599faffaf827",
   "metadata": {},
   "outputs": [],
   "source": [
    "ret_pivot_df.head()"
   ]
  },
  {
   "cell_type": "code",
   "execution_count": null,
   "id": "4cf2fd6b-7839-4b56-930b-42afdfcc8a79",
   "metadata": {},
   "outputs": [],
   "source": []
  },
  {
   "cell_type": "code",
   "execution_count": 13,
   "id": "fc60f336-7df8-49ea-a81d-6571d7669351",
   "metadata": {},
   "outputs": [
    {
     "ename": "KeyError",
     "evalue": "\"['ma_plan_1_name', 'ma_plan_1_enrollment'] not in index\"",
     "output_type": "error",
     "traceback": [
      "\u001b[0;31m---------------------------------------------------------------------------\u001b[0m",
      "\u001b[0;31mKeyError\u001b[0m                                  Traceback (most recent call last)",
      "Cell \u001b[0;32mIn[13], line 1\u001b[0m\n\u001b[0;32m----> 1\u001b[0m pro_pivot_df \u001b[38;5;241m=\u001b[39m \u001b[43mpivot_ma_plan_enrollment\u001b[49m\u001b[43m(\u001b[49m\u001b[43mpro_df\u001b[49m\u001b[43m)\u001b[49m\n",
      "Cell \u001b[0;32mIn[11], line 5\u001b[0m, in \u001b[0;36mpivot_ma_plan_enrollment\u001b[0;34m(df)\u001b[0m\n\u001b[1;32m      3\u001b[0m \u001b[38;5;28;01mfor\u001b[39;00m i \u001b[38;5;129;01min\u001b[39;00m \u001b[38;5;28mrange\u001b[39m(\u001b[38;5;241m1\u001b[39m, \u001b[38;5;241m16\u001b[39m):\n\u001b[1;32m      4\u001b[0m     name, enrollment \u001b[38;5;241m=\u001b[39m \u001b[38;5;124mf\u001b[39m\u001b[38;5;124m'\u001b[39m\u001b[38;5;124mma_plan_\u001b[39m\u001b[38;5;132;01m{\u001b[39;00mi\u001b[38;5;132;01m}\u001b[39;00m\u001b[38;5;124m_name\u001b[39m\u001b[38;5;124m'\u001b[39m, \u001b[38;5;124mf\u001b[39m\u001b[38;5;124m'\u001b[39m\u001b[38;5;124mma_plan_\u001b[39m\u001b[38;5;132;01m{\u001b[39;00mi\u001b[38;5;132;01m}\u001b[39;00m\u001b[38;5;124m_enrollment\u001b[39m\u001b[38;5;124m'\u001b[39m\n\u001b[0;32m----> 5\u001b[0m     plan \u001b[38;5;241m=\u001b[39m \u001b[43mdf\u001b[49m\u001b[43m[\u001b[49m\u001b[43m[\u001b[49m\u001b[38;5;124;43m'\u001b[39;49m\u001b[38;5;124;43mdeid_tin\u001b[39;49m\u001b[38;5;124;43m'\u001b[39;49m\u001b[43m,\u001b[49m\u001b[43m \u001b[49m\u001b[38;5;124;43m'\u001b[39;49m\u001b[38;5;124;43mpac_id\u001b[39;49m\u001b[38;5;124;43m'\u001b[39;49m\u001b[43m,\u001b[49m\u001b[43m \u001b[49m\u001b[38;5;124;43m'\u001b[39;49m\u001b[38;5;124;43myear\u001b[39;49m\u001b[38;5;124;43m'\u001b[39;49m\u001b[43m,\u001b[49m\u001b[43m \u001b[49m\u001b[43mname\u001b[49m\u001b[43m,\u001b[49m\u001b[43m \u001b[49m\u001b[43menrollment\u001b[49m\u001b[43m]\u001b[49m\u001b[43m]\u001b[49m\n\u001b[1;32m      6\u001b[0m     plan \u001b[38;5;241m=\u001b[39m plan\u001b[38;5;241m.\u001b[39mloc[\u001b[38;5;241m~\u001b[39m(plan[name]\u001b[38;5;241m.\u001b[39misna()) \u001b[38;5;241m&\u001b[39m \u001b[38;5;241m~\u001b[39m(plan[enrollment]\u001b[38;5;241m.\u001b[39misna())]\n\u001b[1;32m      7\u001b[0m     plan\u001b[38;5;241m.\u001b[39mcolumns \u001b[38;5;241m=\u001b[39m [\u001b[38;5;124m'\u001b[39m\u001b[38;5;124mdeid_tin\u001b[39m\u001b[38;5;124m'\u001b[39m, \u001b[38;5;124m'\u001b[39m\u001b[38;5;124mpac_id\u001b[39m\u001b[38;5;124m'\u001b[39m, \u001b[38;5;124m'\u001b[39m\u001b[38;5;124myear\u001b[39m\u001b[38;5;124m'\u001b[39m, \u001b[38;5;124m'\u001b[39m\u001b[38;5;124mma_plan_name\u001b[39m\u001b[38;5;124m'\u001b[39m, \u001b[38;5;124m'\u001b[39m\u001b[38;5;124mma_enrollment\u001b[39m\u001b[38;5;124m'\u001b[39m]\n",
      "File \u001b[0;32m~/miniforge3/envs/data-analytics/lib/python3.10/site-packages/pandas/core/frame.py:3511\u001b[0m, in \u001b[0;36mDataFrame.__getitem__\u001b[0;34m(self, key)\u001b[0m\n\u001b[1;32m   3509\u001b[0m     \u001b[38;5;28;01mif\u001b[39;00m is_iterator(key):\n\u001b[1;32m   3510\u001b[0m         key \u001b[38;5;241m=\u001b[39m \u001b[38;5;28mlist\u001b[39m(key)\n\u001b[0;32m-> 3511\u001b[0m     indexer \u001b[38;5;241m=\u001b[39m \u001b[38;5;28;43mself\u001b[39;49m\u001b[38;5;241;43m.\u001b[39;49m\u001b[43mcolumns\u001b[49m\u001b[38;5;241;43m.\u001b[39;49m\u001b[43m_get_indexer_strict\u001b[49m\u001b[43m(\u001b[49m\u001b[43mkey\u001b[49m\u001b[43m,\u001b[49m\u001b[43m \u001b[49m\u001b[38;5;124;43m\"\u001b[39;49m\u001b[38;5;124;43mcolumns\u001b[39;49m\u001b[38;5;124;43m\"\u001b[39;49m\u001b[43m)\u001b[49m[\u001b[38;5;241m1\u001b[39m]\n\u001b[1;32m   3513\u001b[0m \u001b[38;5;66;03m# take() does not accept boolean indexers\u001b[39;00m\n\u001b[1;32m   3514\u001b[0m \u001b[38;5;28;01mif\u001b[39;00m \u001b[38;5;28mgetattr\u001b[39m(indexer, \u001b[38;5;124m\"\u001b[39m\u001b[38;5;124mdtype\u001b[39m\u001b[38;5;124m\"\u001b[39m, \u001b[38;5;28;01mNone\u001b[39;00m) \u001b[38;5;241m==\u001b[39m \u001b[38;5;28mbool\u001b[39m:\n",
      "File \u001b[0;32m~/miniforge3/envs/data-analytics/lib/python3.10/site-packages/pandas/core/indexes/base.py:5782\u001b[0m, in \u001b[0;36mIndex._get_indexer_strict\u001b[0;34m(self, key, axis_name)\u001b[0m\n\u001b[1;32m   5779\u001b[0m \u001b[38;5;28;01melse\u001b[39;00m:\n\u001b[1;32m   5780\u001b[0m     keyarr, indexer, new_indexer \u001b[38;5;241m=\u001b[39m \u001b[38;5;28mself\u001b[39m\u001b[38;5;241m.\u001b[39m_reindex_non_unique(keyarr)\n\u001b[0;32m-> 5782\u001b[0m \u001b[38;5;28;43mself\u001b[39;49m\u001b[38;5;241;43m.\u001b[39;49m\u001b[43m_raise_if_missing\u001b[49m\u001b[43m(\u001b[49m\u001b[43mkeyarr\u001b[49m\u001b[43m,\u001b[49m\u001b[43m \u001b[49m\u001b[43mindexer\u001b[49m\u001b[43m,\u001b[49m\u001b[43m \u001b[49m\u001b[43maxis_name\u001b[49m\u001b[43m)\u001b[49m\n\u001b[1;32m   5784\u001b[0m keyarr \u001b[38;5;241m=\u001b[39m \u001b[38;5;28mself\u001b[39m\u001b[38;5;241m.\u001b[39mtake(indexer)\n\u001b[1;32m   5785\u001b[0m \u001b[38;5;28;01mif\u001b[39;00m \u001b[38;5;28misinstance\u001b[39m(key, Index):\n\u001b[1;32m   5786\u001b[0m     \u001b[38;5;66;03m# GH 42790 - Preserve name from an Index\u001b[39;00m\n",
      "File \u001b[0;32m~/miniforge3/envs/data-analytics/lib/python3.10/site-packages/pandas/core/indexes/base.py:5845\u001b[0m, in \u001b[0;36mIndex._raise_if_missing\u001b[0;34m(self, key, indexer, axis_name)\u001b[0m\n\u001b[1;32m   5842\u001b[0m     \u001b[38;5;28;01mraise\u001b[39;00m \u001b[38;5;167;01mKeyError\u001b[39;00m(\u001b[38;5;124mf\u001b[39m\u001b[38;5;124m\"\u001b[39m\u001b[38;5;124mNone of [\u001b[39m\u001b[38;5;132;01m{\u001b[39;00mkey\u001b[38;5;132;01m}\u001b[39;00m\u001b[38;5;124m] are in the [\u001b[39m\u001b[38;5;132;01m{\u001b[39;00maxis_name\u001b[38;5;132;01m}\u001b[39;00m\u001b[38;5;124m]\u001b[39m\u001b[38;5;124m\"\u001b[39m)\n\u001b[1;32m   5844\u001b[0m not_found \u001b[38;5;241m=\u001b[39m \u001b[38;5;28mlist\u001b[39m(ensure_index(key)[missing_mask\u001b[38;5;241m.\u001b[39mnonzero()[\u001b[38;5;241m0\u001b[39m]]\u001b[38;5;241m.\u001b[39munique())\n\u001b[0;32m-> 5845\u001b[0m \u001b[38;5;28;01mraise\u001b[39;00m \u001b[38;5;167;01mKeyError\u001b[39;00m(\u001b[38;5;124mf\u001b[39m\u001b[38;5;124m\"\u001b[39m\u001b[38;5;132;01m{\u001b[39;00mnot_found\u001b[38;5;132;01m}\u001b[39;00m\u001b[38;5;124m not in index\u001b[39m\u001b[38;5;124m\"\u001b[39m)\n",
      "\u001b[0;31mKeyError\u001b[0m: \"['ma_plan_1_name', 'ma_plan_1_enrollment'] not in index\""
     ]
    }
   ],
   "source": [
    "pro_pivot_df = pivot_ma_plan_enrollment(pro_df)"
   ]
  },
  {
   "cell_type": "code",
   "execution_count": null,
   "id": "f4b9a2d8-600a-4b9d-a428-225d8eeec6d7",
   "metadata": {},
   "outputs": [],
   "source": [
    "pro_pivot_df.head()"
   ]
  },
  {
   "cell_type": "markdown",
   "id": "012fe1e6-5032-4ae5-89cb-71d2bb194add",
   "metadata": {},
   "source": [
    "### Summaries \n",
    "### Prospective"
   ]
  },
  {
   "cell_type": "code",
   "execution_count": null,
   "id": "c4f76c7a-0b95-4843-84bc-63d60fed8405",
   "metadata": {},
   "outputs": [],
   "source": [
    "s1 = ret_df[['year', 'unique_members']].groupby('year', as_index=False).sum()\n",
    "s1.head()"
   ]
  },
  {
   "cell_type": "markdown",
   "id": "60440a9d-07c9-4ed7-868e-d324d7635ed7",
   "metadata": {},
   "source": [
    "### Retro"
   ]
  },
  {
   "cell_type": "code",
   "execution_count": null,
   "id": "0b65bb6e-240e-4a3a-b6f7-233b29f5d870",
   "metadata": {},
   "outputs": [],
   "source": [
    "s2 = pro_df[['year', 'unique_members']].groupby('year', as_index=False).sum()\n",
    "s2.head()"
   ]
  },
  {
   "cell_type": "markdown",
   "id": "037cc9c4-d4f9-4692-a691-098a5f1b5865",
   "metadata": {},
   "source": [
    "### Prospective"
   ]
  },
  {
   "cell_type": "code",
   "execution_count": null,
   "id": "2d6d2854-e683-411c-8c25-a9d3ea23014f",
   "metadata": {},
   "outputs": [],
   "source": [
    "s3 = pro_pivot_df[['year', 'ma_plan_name', 'ma_enrollment']].groupby(['year', 'ma_plan_name'], as_index=False).sum().sort_values('ma_enrollment', ascending=False)\n",
    "s3.head()"
   ]
  },
  {
   "cell_type": "markdown",
   "id": "241c6ff4-007d-4b97-be22-a777616496d6",
   "metadata": {},
   "source": [
    "### Retro"
   ]
  },
  {
   "cell_type": "code",
   "execution_count": null,
   "id": "f8f450dd-b33f-468b-ba4d-9a5319d2e434",
   "metadata": {},
   "outputs": [],
   "source": [
    "s4 = ret_pivot_df[['year', 'ma_plan_name', 'ma_enrollment']].groupby(['year', 'ma_plan_name'], as_index=False).sum().sort_values('ma_enrollment', ascending=False)\n",
    "s4.head()"
   ]
  },
  {
   "cell_type": "code",
   "execution_count": null,
   "id": "83b9b8c1-9a82-4685-87e3-ec1c8080ed10",
   "metadata": {},
   "outputs": [],
   "source": []
  },
  {
   "cell_type": "code",
   "execution_count": null,
   "id": "7c076c39-7ace-4808-ac98-3219d1e4334c",
   "metadata": {},
   "outputs": [],
   "source": []
  },
  {
   "cell_type": "code",
   "execution_count": null,
   "id": "c93cb43a-2f55-4fda-8648-ad01c44bcc01",
   "metadata": {},
   "outputs": [],
   "source": []
  },
  {
   "cell_type": "markdown",
   "id": "b768991e-fc74-41f7-ae7a-ee48e0d9db1a",
   "metadata": {},
   "source": [
    "### Outputs"
   ]
  },
  {
   "cell_type": "code",
   "execution_count": null,
   "id": "d8a8b27c-9fb4-4443-9270-312d797d7cae",
   "metadata": {},
   "outputs": [],
   "source": [
    "ret_df.loc[:, ret_df.columns[:-30]].to_csv(f'{data_dir}/{current_folder}/ours_milliman_ret_{current_folder}.csv', index=False)"
   ]
  },
  {
   "cell_type": "code",
   "execution_count": null,
   "id": "9ab56d6a-3830-4bd8-98c5-f05ecd9926a2",
   "metadata": {},
   "outputs": [],
   "source": [
    "pro_df.loc[:, pro_df.columns[:-30]].to_csv(f'{data_dir}/{current_folder}/ours_milliman_pro_{current_folder}.csv', index=False)"
   ]
  },
  {
   "cell_type": "code",
   "execution_count": null,
   "id": "277db72e-1400-4ffc-bc7c-073ef5f412ff",
   "metadata": {},
   "outputs": [],
   "source": [
    "pro_pivot_df.to_csv(f'{data_dir}/{current_folder}/pro_pivot.csv', index=False)\n",
    "ret_pivot_df.to_csv(f'{data_dir}/{current_folder}/ret_pivot.csv', index=False)"
   ]
  },
  {
   "cell_type": "code",
   "execution_count": null,
   "id": "73f0b2ce-1057-4711-b38a-f6f3c515b92e",
   "metadata": {},
   "outputs": [],
   "source": [
    "with pd.ExcelWriter(f'{data_dir}/{current_folder}/summary.xlsx') as writer:\n",
    "    s1.to_excel(writer, sheet_name='retrospective', index=False)\n",
    "    s2.to_excel(writer, sheet_name='prospective', index=False)\n",
    "    s3.to_excel(writer, sheet_name='prospective_pivot', index=False)\n",
    "    s4.to_excel(writer, sheet_name='retrospective_pivot', index=False)"
   ]
  },
  {
   "cell_type": "code",
   "execution_count": null,
   "id": "7d3cc2a1-9a9d-40ca-8456-7adf79b1183c",
   "metadata": {},
   "outputs": [],
   "source": []
  },
  {
   "cell_type": "code",
   "execution_count": null,
   "id": "79c54bf2-21d7-494a-926c-3ced40ee7c74",
   "metadata": {},
   "outputs": [],
   "source": []
  },
  {
   "cell_type": "code",
   "execution_count": null,
   "id": "1a873528-9783-4519-8d9c-daf7aead664c",
   "metadata": {},
   "outputs": [],
   "source": []
  },
  {
   "cell_type": "code",
   "execution_count": null,
   "id": "4cef265a-234e-40dd-99b3-649cf6eb5a3e",
   "metadata": {},
   "outputs": [],
   "source": []
  },
  {
   "cell_type": "code",
   "execution_count": null,
   "id": "32cf758d-a238-4ef3-9fcd-524e0127c0b9",
   "metadata": {},
   "outputs": [],
   "source": []
  }
 ],
 "metadata": {
  "kernelspec": {
   "display_name": "Python 3 (ipykernel)",
   "language": "python",
   "name": "python3"
  },
  "language_info": {
   "codemirror_mode": {
    "name": "ipython",
    "version": 3
   },
   "file_extension": ".py",
   "mimetype": "text/x-python",
   "name": "python",
   "nbconvert_exporter": "python",
   "pygments_lexer": "ipython3",
   "version": "3.10.8"
  }
 },
 "nbformat": 4,
 "nbformat_minor": 5
}
