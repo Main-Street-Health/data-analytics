{
 "cells": [
  {
   "cell_type": "code",
   "execution_count": 1,
   "metadata": {},
   "outputs": [],
   "source": [
    "import os\n",
    "import sys\n",
    "import time\n",
    "import random\n",
    "import warnings\n",
    "import collections\n",
    "from multiprocessing import Pool\n",
    "from tqdm import tqdm\n",
    "import numpy as np\n",
    "import pandas as pd\n",
    "import matplotlib.pyplot as plt\n",
    "import matplotlib.gridspec as gridspec\n",
    "import seaborn as sns\n",
    "from sklearn.model_selection import train_test_split, cross_val_score, GridSearchCV\n",
    "from sklearn.ensemble import RandomForestRegressor, GradientBoostingRegressor, BaggingRegressor, StackingRegressor\n",
    "from sklearn.linear_model import Ridge, Lasso, BayesianRidge, ElasticNet\n",
    "\n",
    "sys.path.append('../src')\n",
    "import cb_utils\n",
    "\n",
    "sns.set(style=\"darkgrid\")\n",
    "pd.options.display.max_columns = 500\n",
    "\n",
    "%load_ext autoreload\n",
    "%autoreload 2"
   ]
  },
  {
   "cell_type": "markdown",
   "metadata": {},
   "source": [
    "### -----DECLARE EVERYTHING HERE-----"
   ]
  },
  {
   "cell_type": "code",
   "execution_count": 4,
   "metadata": {},
   "outputs": [
    {
     "name": "stdout",
     "output_type": "stream",
     "text": [
      "Seed: 3\n"
     ]
    },
    {
     "data": {
      "text/plain": [
       "<module 'random' from '/usr/lib/python3.8/random.py'>"
      ]
     },
     "execution_count": 4,
     "metadata": {},
     "output_type": "execute_result"
    }
   ],
   "source": [
    "# configuration\n",
    "mco_id = 2\n",
    "date = '2021_01_14'\n",
    "use_cache = False\n",
    "#use_cache = True\n",
    "\n",
    "mco_name = 'uhc' if mco_id == 2 else 'agp' if mco_id == 1 else 'fail'\n",
    "auth_table_name = mco_name + '_healthstar_authorizations_' + date\n",
    "apts_table_name = mco_name + '_healthstar_appointments_' + date\n",
    "input_batch_descr = mco_name + ' healthstar auths and appts delta'\n",
    "auth_descr = mco_name + ' auths delta'\n",
    "apts_descr = mco_name + ' appts delta'\n",
    "source = 'hs_' + mco_name\n",
    "con = cb_utils.get_engine()\n",
    "seed = random.randint(0, 100)\n",
    "\n",
    "print(f'Seed: {seed}')\n",
    "random"
   ]
  },
  {
   "cell_type": "markdown",
   "metadata": {},
   "source": [
    "### GET AUTHS"
   ]
  },
  {
   "cell_type": "code",
   "execution_count": 5,
   "metadata": {},
   "outputs": [
    {
     "name": "stdout",
     "output_type": "stream",
     "text": [
      "Pulling query from db\n"
     ]
    },
    {
     "data": {
      "text/plain": [
       "-1"
      ]
     },
     "execution_count": 5,
     "metadata": {},
     "output_type": "execute_result"
    }
   ],
   "source": [
    "query = f\"select max(ath.watermark) highwatermark from cb.hcbs_auths ath where ath.mco_id = {mco_id}\"\n",
    "auth_watermark = cb_utils.sql_query_to_df(query, use_cache=use_cache)\n",
    "hcbs_auth_highwatermark = -1 #auth_watermark['highwatermark'][0]\n",
    "hcbs_auth_highwatermark"
   ]
  },
  {
   "cell_type": "code",
   "execution_count": 6,
   "metadata": {},
   "outputs": [
    {
     "name": "stdout",
     "output_type": "stream",
     "text": [
      "Pulling query from db\n"
     ]
    }
   ],
   "source": [
    "query = f\"select * from visitverify.v_analytics_auths2 vath where vath.watermark > {hcbs_auth_highwatermark}\"\n",
    "auths = cb_utils.sql_query_to_df(query, use_cache=use_cache, source=source)"
   ]
  },
  {
   "cell_type": "code",
   "execution_count": 7,
   "metadata": {},
   "outputs": [
    {
     "data": {
      "text/plain": [
       "(227439, 41)"
      ]
     },
     "execution_count": 7,
     "metadata": {},
     "output_type": "execute_result"
    }
   ],
   "source": [
    "auths.shape"
   ]
  },
  {
   "cell_type": "markdown",
   "metadata": {},
   "source": [
    "### GET APTS"
   ]
  },
  {
   "cell_type": "code",
   "execution_count": 8,
   "metadata": {},
   "outputs": [
    {
     "name": "stdout",
     "output_type": "stream",
     "text": [
      "Pulling query from db\n"
     ]
    },
    {
     "data": {
      "text/plain": [
       "-1"
      ]
     },
     "execution_count": 8,
     "metadata": {},
     "output_type": "execute_result"
    }
   ],
   "source": [
    "query = f\"select max(watermark) highwatermark from cb.appointments_visits av where av.mco_id = {mco_id}\"\n",
    "apt_auth_watermark = cb_utils.sql_query_to_df(query, use_cache=use_cache)\n",
    "apt_highwatermark = -1 #apt_auth_watermark['highwatermark'][0]\n",
    "apt_highwatermark"
   ]
  },
  {
   "cell_type": "code",
   "execution_count": null,
   "metadata": {},
   "outputs": [
    {
     "name": "stdout",
     "output_type": "stream",
     "text": [
      "Pulling query from db\n"
     ]
    }
   ],
   "source": [
    "query = f\"select * from visitverify.v_analytics_appointments2 vapt where vapt.watermark > {apt_highwatermark}\"\n",
    "apts = cb_utils.sql_query_to_df(query, use_cache=use_cache, source=source)"
   ]
  },
  {
   "cell_type": "code",
   "execution_count": null,
   "metadata": {},
   "outputs": [],
   "source": [
    "apts.shape"
   ]
  },
  {
   "cell_type": "markdown",
   "metadata": {},
   "source": [
    "### CREATE batch_input_id"
   ]
  },
  {
   "cell_type": "code",
   "execution_count": null,
   "metadata": {},
   "outputs": [],
   "source": [
    "conn = cb_utils.get_conn()\n",
    "query = \"\"\"\n",
    "insert into cb.input_batches (mco_id, description)\n",
    "select %s, %s\n",
    "returning id;\n",
    "\"\"\"\n",
    "with conn.cursor() as cur:\n",
    "    cur.execute(query, [ mco_id, input_batch_descr])\n",
    "    result = cur.fetchone()\n",
    "conn.commit()\n",
    "conn.close()\n",
    "\n",
    "batch_id = result[0]\n",
    "batch_id"
   ]
  },
  {
   "cell_type": "markdown",
   "metadata": {},
   "source": [
    "### INSERT AUTHS INTO RAW"
   ]
  },
  {
   "cell_type": "code",
   "execution_count": null,
   "metadata": {},
   "outputs": [],
   "source": [
    "conn = cb_utils.get_conn()\n",
    "query = \"\"\"\n",
    "insert into cb.inputs (input_batch_id, file_name, description, type, table_name, mco_id)\n",
    "select %s, %s, %s, 'auth_hcbs', %s, %s\n",
    "returning id;\n",
    "\"\"\"\n",
    "with conn.cursor() as cur:\n",
    "    cur.execute(query, [ batch_id, auth_table_name, auth_descr, auth_table_name, mco_id])\n",
    "    result = cur.fetchone()\n",
    "conn.commit()\n",
    "conn.close()\n",
    "\n",
    "auth_input_id = result[0]\n",
    "auth_input_id"
   ]
  },
  {
   "cell_type": "code",
   "execution_count": null,
   "metadata": {},
   "outputs": [],
   "source": [
    "auths.to_sql(auth_table_name, con, 'raw')"
   ]
  },
  {
   "cell_type": "code",
   "execution_count": null,
   "metadata": {},
   "outputs": [],
   "source": [
    "query = f\"alter table raw.{auth_table_name} add column raw_id bigserial; select 1 x;\"\n",
    "cb_utils.sql_query_to_df(query, use_cache=use_cache)"
   ]
  },
  {
   "cell_type": "markdown",
   "metadata": {},
   "source": [
    "### INSERT APTS INTO RAW"
   ]
  },
  {
   "cell_type": "code",
   "execution_count": null,
   "metadata": {},
   "outputs": [],
   "source": [
    "conn = cb_utils.get_conn()\n",
    "query = \"\"\"\n",
    "insert into cb.inputs (input_batch_id, file_name, description, type, table_name, mco_id)\n",
    "select %s, %s, %s, 'hcbs_visits', %s, %s\n",
    "returning id;\n",
    "\"\"\"\n",
    "with conn.cursor() as cur:\n",
    "    cur.execute(query, [ batch_id, apts_table_name, apts_descr, apts_table_name, mco_id])\n",
    "    result = cur.fetchone()\n",
    "conn.commit()\n",
    "conn.close()\n",
    "\n",
    "apt_input_id = result[0]\n",
    "apt_input_id"
   ]
  },
  {
   "cell_type": "code",
   "execution_count": null,
   "metadata": {},
   "outputs": [],
   "source": [
    "apts.to_sql(apts_table_name, con, 'raw')"
   ]
  },
  {
   "cell_type": "code",
   "execution_count": null,
   "metadata": {},
   "outputs": [],
   "source": [
    "query = f\"alter table raw.{apts_table_name} add column raw_id bigserial; select 1 x;\"\n",
    "cb_utils.sql_query_to_df(query, use_cache=use_cache)"
   ]
  },
  {
   "cell_type": "code",
   "execution_count": null,
   "metadata": {},
   "outputs": [],
   "source": []
  }
 ],
 "metadata": {
  "kernelspec": {
   "display_name": "Python 3",
   "language": "python",
   "name": "python3"
  },
  "language_info": {
   "codemirror_mode": {
    "name": "ipython",
    "version": 3
   },
   "file_extension": ".py",
   "mimetype": "text/x-python",
   "name": "python",
   "nbconvert_exporter": "python",
   "pygments_lexer": "ipython3",
   "version": "3.8.5"
  }
 },
 "nbformat": 4,
 "nbformat_minor": 4
}
