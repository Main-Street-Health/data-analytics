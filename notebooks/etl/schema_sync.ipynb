{
 "cells": [
  {
   "cell_type": "code",
   "execution_count": null,
   "metadata": {},
   "outputs": [],
   "source": [
    "# Schema Sync\n",
    "This notebook will diff prd analytics with dev and stg\n",
    "Any missing updates can be applied"
   ]
  },
  {
   "cell_type": "code",
   "execution_count": null,
   "metadata": {},
   "outputs": [],
   "source": [
    "import sys\n",
    "sys.path.append('../src')\n",
    "\n",
    "import cb_utils\n",
    "from migra import Migration\n",
    "from sqlbag import S, temporary_database as temporary_db"
   ]
  },
  {
   "cell_type": "code",
   "execution_count": null,
   "metadata": {},
   "outputs": [],
   "source": [
    "prd = cb_utils.get_db_url(source='analytics')\n",
    "dev = cb_utils.get_db_url(source='analytics_dev')\n",
    "stg = cb_utils.get_db_url(source='analytics_stg')"
   ]
  },
  {
   "cell_type": "code",
   "execution_count": null,
   "metadata": {},
   "outputs": [],
   "source": [
    "def sync(to_change):\n",
    "    with S(prd) as target, S(to_change) as current:\n",
    "        m = Migration(current, target, schema='cb')\n",
    "\n",
    "        m.set_safety(False)\n",
    "\n",
    "        if m.statements:\n",
    "            print('THE FOLLOWING CHANGES ARE PENDING:', end='\\n\\n')\n",
    "            print(m.sql)\n",
    "            print()\n",
    "            if input('Apply these changes?') == 'yes':\n",
    "                print('Applying...')\n",
    "        #     m.apply()\n",
    "            else:\n",
    "                print('Not applying.')\n",
    "        else:\n",
    "            print('Already synced.')"
   ]
  },
  {
   "cell_type": "code",
   "execution_count": null,
   "metadata": {},
   "outputs": [],
   "source": [
    "sync(dev)"
   ]
  },
  {
   "cell_type": "code",
   "execution_count": null,
   "metadata": {},
   "outputs": [],
   "source": [
    "sync(stg)"
   ]
  }
 ],
 "metadata": {
  "kernelspec": {
   "display_name": "Python 3",
   "language": "python",
   "name": "python3"
  },
  "language_info": {
   "codemirror_mode": {
    "name": "ipython",
    "version": 3
   },
   "file_extension": ".py",
   "mimetype": "text/x-python",
   "name": "python",
   "nbconvert_exporter": "python",
   "pygments_lexer": "ipython3",
   "version": "3.8.6"
  }
 },
 "nbformat": 4,
 "nbformat_minor": 4
}
