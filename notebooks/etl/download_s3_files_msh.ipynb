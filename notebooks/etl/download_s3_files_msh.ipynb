{
 "cells": [
  {
   "cell_type": "code",
   "execution_count": 2,
   "id": "d21e3dae-a40e-41fb-b4e2-2d15238ef979",
   "metadata": {},
   "outputs": [],
   "source": [
    "import os\n",
    "import pandas as pd\n",
    "import boto3\n",
    "import tqdm\n",
    "import sys\n",
    "sys.path.append('../../src')\n",
    "import cb_utils\n",
    "\n",
    "pd.options.display.max_columns = 500\n",
    "\n",
    "%load_ext autoreload\n",
    "%autoreload 2"
   ]
  },
  {
   "cell_type": "code",
   "execution_count": 3,
   "id": "b1d87cd8-a01b-4823-b868-dba6c61bcd30",
   "metadata": {},
   "outputs": [],
   "source": [
    "secrets = cb_utils.get_secrets()"
   ]
  },
  {
   "cell_type": "code",
   "execution_count": 4,
   "id": "bbb937d3-dc84-473a-ad17-6ed2c71b6af9",
   "metadata": {},
   "outputs": [],
   "source": [
    "s3_client = boto3.client(\n",
    "    's3',\n",
    "    aws_access_key_id=secrets[\"msh_aws_access_key_id\"],\n",
    "    aws_secret_access_key=secrets[\"msh_aws_secret_access_key\"],\n",
    "    region_name='us-east-1'\n",
    ")"
   ]
  },
  {
   "cell_type": "code",
   "execution_count": null,
   "id": "5da0e98a-bd34-4d97-9f1a-9c0768287d74",
   "metadata": {},
   "outputs": [],
   "source": []
  },
  {
   "cell_type": "code",
   "execution_count": 51,
   "id": "367e8909-10ac-44da-a35b-25bbdabea62b",
   "metadata": {},
   "outputs": [],
   "source": [
    "docs_df = pd.read_csv('/Users/bp/Downloads/2023_cca_worksheets.csv')"
   ]
  },
  {
   "cell_type": "code",
   "execution_count": 52,
   "id": "21ded94f-e8cd-4bd0-8bf5-374f6d3b916f",
   "metadata": {},
   "outputs": [
    {
     "data": {
      "text/html": [
       "<div>\n",
       "<style scoped>\n",
       "    .dataframe tbody tr th:only-of-type {\n",
       "        vertical-align: middle;\n",
       "    }\n",
       "\n",
       "    .dataframe tbody tr th {\n",
       "        vertical-align: top;\n",
       "    }\n",
       "\n",
       "    .dataframe thead th {\n",
       "        text-align: right;\n",
       "    }\n",
       "</style>\n",
       "<table border=\"1\" class=\"dataframe\">\n",
       "  <thead>\n",
       "    <tr style=\"text-align: right;\">\n",
       "      <th></th>\n",
       "      <th>s3_bucket</th>\n",
       "      <th>s3_key</th>\n",
       "    </tr>\n",
       "  </thead>\n",
       "  <tbody>\n",
       "    <tr>\n",
       "      <th>0</th>\n",
       "      <td>msh-member-doc-us-east-1-prd</td>\n",
       "      <td>patient_documents/100006/77afae35-c3e3-467e-86...</td>\n",
       "    </tr>\n",
       "    <tr>\n",
       "      <th>1</th>\n",
       "      <td>msh-member-doc-us-east-1-prd</td>\n",
       "      <td>patient_documents/100007/e553f2b9-2644-463a-8b...</td>\n",
       "    </tr>\n",
       "    <tr>\n",
       "      <th>2</th>\n",
       "      <td>msh-member-doc-us-east-1-prd</td>\n",
       "      <td>patient_documents/100012/7e35f91d-d3ee-4939-82...</td>\n",
       "    </tr>\n",
       "    <tr>\n",
       "      <th>3</th>\n",
       "      <td>msh-member-doc-us-east-1-prd</td>\n",
       "      <td>patient_documents/100023/42255c29-cba6-4f29-8e...</td>\n",
       "    </tr>\n",
       "    <tr>\n",
       "      <th>4</th>\n",
       "      <td>msh-member-doc-us-east-1-prd</td>\n",
       "      <td>patient_documents/100025/ff4c3354-49d7-45b9-9b...</td>\n",
       "    </tr>\n",
       "  </tbody>\n",
       "</table>\n",
       "</div>"
      ],
      "text/plain": [
       "                      s3_bucket  \\\n",
       "0  msh-member-doc-us-east-1-prd   \n",
       "1  msh-member-doc-us-east-1-prd   \n",
       "2  msh-member-doc-us-east-1-prd   \n",
       "3  msh-member-doc-us-east-1-prd   \n",
       "4  msh-member-doc-us-east-1-prd   \n",
       "\n",
       "                                              s3_key  \n",
       "0  patient_documents/100006/77afae35-c3e3-467e-86...  \n",
       "1  patient_documents/100007/e553f2b9-2644-463a-8b...  \n",
       "2  patient_documents/100012/7e35f91d-d3ee-4939-82...  \n",
       "3  patient_documents/100023/42255c29-cba6-4f29-8e...  \n",
       "4  patient_documents/100025/ff4c3354-49d7-45b9-9b...  "
      ]
     },
     "execution_count": 52,
     "metadata": {},
     "output_type": "execute_result"
    }
   ],
   "source": [
    "docs_df.head()"
   ]
  },
  {
   "cell_type": "code",
   "execution_count": 53,
   "id": "199f2cde-38d3-47f8-acfc-be4310e9d001",
   "metadata": {},
   "outputs": [],
   "source": [
    "data_dir = 'cca_pdfs'"
   ]
  },
  {
   "cell_type": "code",
   "execution_count": 54,
   "id": "b9fc00f8-e4d2-434d-ad56-1fe2ed10f2b1",
   "metadata": {},
   "outputs": [],
   "source": [
    "if not os.path.exists(data_dir):\n",
    "    os.makedirs(data_dir)"
   ]
  },
  {
   "cell_type": "code",
   "execution_count": 58,
   "id": "579e68dc-7079-4a37-acfc-0ec282328b9b",
   "metadata": {},
   "outputs": [],
   "source": [
    "for index, row in tqdm.tqdm(docs_df.iterrows()):\n",
    "    file = os.path.basename(row['s3_key'])\n",
    "    s3_client.download_file(row['s3_bucket'], row['s3_key'], f'{data_dir}/{file}')"
   ]
  },
  {
   "cell_type": "code",
   "execution_count": null,
   "id": "347fda42-1897-4d7e-8135-d98ea29abbe0",
   "metadata": {},
   "outputs": [],
   "source": []
  },
  {
   "cell_type": "code",
   "execution_count": null,
   "id": "8c0cdf7f-d03e-4cfc-8689-1a03219a54bb",
   "metadata": {},
   "outputs": [],
   "source": []
  },
  {
   "cell_type": "code",
   "execution_count": null,
   "id": "f90bd5ea-7de4-47b0-9276-d66bd4f548fb",
   "metadata": {},
   "outputs": [],
   "source": []
  },
  {
   "cell_type": "code",
   "execution_count": 22,
   "id": "5a70f9ae-9337-46fe-a774-2041af99a0d0",
   "metadata": {},
   "outputs": [
    {
     "name": "stdout",
     "output_type": "stream",
     "text": [
      "folder:  test/test.txt\n",
      "parsing:  s3.ObjectSummary(bucket_name='msh-member-doc-us-east-1-prd', key='test/test.txt')\n",
      "parsing:  s3.ObjectSummary(bucket_name='msh-member-doc-us-east-1-prd', key='test/test.txt')\n"
     ]
    }
   ],
   "source": [
    "session = boto3.Session(\n",
    "    aws_access_key_id=secrets[\"msh_aws_access_key_id\"],\n",
    "    aws_secret_access_key=secrets[\"msh_aws_secret_access_key\"],\n",
    "    region_name='us-east-1'\n",
    ")\n",
    "\n",
    "s3 = session.resource(\"s3\")\n",
    "\n",
    "bucket = s3.Bucket('msh-member-doc-us-east-1-prd')\n",
    "\n",
    "for obj2 in bucket.objects.filter(Prefix=\"test\"):\n",
    "    if obj2.key[-1] == \"/\":\n",
    "        print(\"folder: \", obj.key)\n",
    "        continue\n",
    "\n",
    "    print(\"parsing: \", obj)\n",
    "\n"
   ]
  },
  {
   "cell_type": "code",
   "execution_count": 25,
   "id": "85bd8388-282b-48b4-b85f-0ca4b3467b7a",
   "metadata": {},
   "outputs": [
    {
     "data": {
      "text/plain": [
       "True"
      ]
     },
     "execution_count": 25,
     "metadata": {},
     "output_type": "execute_result"
    }
   ],
   "source": [
    "obj.size == 0"
   ]
  },
  {
   "cell_type": "code",
   "execution_count": 24,
   "id": "1b98ba6c-367b-4f57-8c47-b355a77858fc",
   "metadata": {},
   "outputs": [
    {
     "data": {
      "text/plain": [
       "False"
      ]
     },
     "execution_count": 24,
     "metadata": {},
     "output_type": "execute_result"
    }
   ],
   "source": [
    "obj2.size == 0"
   ]
  },
  {
   "cell_type": "code",
   "execution_count": null,
   "id": "a627ae58-12db-49dd-a6f5-8bdb09cd05e4",
   "metadata": {},
   "outputs": [],
   "source": []
  }
 ],
 "metadata": {
  "kernelspec": {
   "display_name": "Python 3 (ipykernel)",
   "language": "python",
   "name": "python3"
  },
  "language_info": {
   "codemirror_mode": {
    "name": "ipython",
    "version": 3
   },
   "file_extension": ".py",
   "mimetype": "text/x-python",
   "name": "python",
   "nbconvert_exporter": "python",
   "pygments_lexer": "ipython3",
   "version": "3.10.8"
  }
 },
 "nbformat": 4,
 "nbformat_minor": 5
}
