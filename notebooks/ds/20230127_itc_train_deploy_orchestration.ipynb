{
 "cells": [
  {
   "cell_type": "code",
   "execution_count": 5,
   "id": "f35b8c40",
   "metadata": {},
   "outputs": [],
   "source": [
    "from time import gmtime, strftime\n",
    "import sagemaker\n",
    "from sagemaker.sklearn.estimator import SKLearn"
   ]
  },
  {
   "cell_type": "code",
   "execution_count": 4,
   "id": "95536cbb",
   "metadata": {},
   "outputs": [
    {
     "name": "stdout",
     "output_type": "stream",
     "text": [
      "Looking in indexes: https://pypi.org/simple, https://pip.repos.neuron.amazonaws.com\n",
      "Requirement already satisfied: boto3 in /home/ec2-user/anaconda3/envs/python3/lib/python3.10/site-packages (1.26.46)\n",
      "Collecting boto3\n",
      "  Downloading boto3-1.26.58-py3-none-any.whl (132 kB)\n",
      "\u001B[2K     \u001B[90m━━━━━━━━━━━━━━━━━━━━━━━━━━━━━━━━━━━━━━\u001B[0m \u001B[32m132.7/132.7 kB\u001B[0m \u001B[31m15.3 MB/s\u001B[0m eta \u001B[36m0:00:00\u001B[0m\n",
      "\u001B[?25hRequirement already satisfied: jmespath<2.0.0,>=0.7.1 in /home/ec2-user/anaconda3/envs/python3/lib/python3.10/site-packages (from boto3) (0.10.0)\n",
      "Collecting botocore<1.30.0,>=1.29.58\n",
      "  Downloading botocore-1.29.58-py3-none-any.whl (10.4 MB)\n",
      "\u001B[2K     \u001B[90m━━━━━━━━━━━━━━━━━━━━━━━━━━━━━━━━━━━━━━━━\u001B[0m \u001B[32m10.4/10.4 MB\u001B[0m \u001B[31m39.8 MB/s\u001B[0m eta \u001B[36m0:00:00\u001B[0m00:01\u001B[0m00:01\u001B[0m\n",
      "\u001B[?25hRequirement already satisfied: s3transfer<0.7.0,>=0.6.0 in /home/ec2-user/anaconda3/envs/python3/lib/python3.10/site-packages (from boto3) (0.6.0)\n",
      "Requirement already satisfied: urllib3<1.27,>=1.25.4 in /home/ec2-user/anaconda3/envs/python3/lib/python3.10/site-packages (from botocore<1.30.0,>=1.29.58->boto3) (1.26.8)\n",
      "Requirement already satisfied: python-dateutil<3.0.0,>=2.1 in /home/ec2-user/anaconda3/envs/python3/lib/python3.10/site-packages (from botocore<1.30.0,>=1.29.58->boto3) (2.8.2)\n",
      "Requirement already satisfied: six>=1.5 in /home/ec2-user/anaconda3/envs/python3/lib/python3.10/site-packages (from python-dateutil<3.0.0,>=2.1->botocore<1.30.0,>=1.29.58->boto3) (1.16.0)\n",
      "Installing collected packages: botocore, boto3\n",
      "  Attempting uninstall: botocore\n",
      "    Found existing installation: botocore 1.24.19\n",
      "    Uninstalling botocore-1.24.19:\n",
      "      Successfully uninstalled botocore-1.24.19\n",
      "  Attempting uninstall: boto3\n",
      "    Found existing installation: boto3 1.26.46\n",
      "    Uninstalling boto3-1.26.46:\n",
      "      Successfully uninstalled boto3-1.26.46\n",
      "\u001B[31mERROR: pip's dependency resolver does not currently take into account all the packages that are installed. This behaviour is the source of the following dependency conflicts.\n",
      "awscli 1.27.46 requires botocore==1.29.46, but you have botocore 1.29.58 which is incompatible.\n",
      "aiobotocore 2.0.1 requires botocore<1.22.9,>=1.22.8, but you have botocore 1.29.58 which is incompatible.\u001B[0m\u001B[31m\n",
      "\u001B[0mSuccessfully installed boto3-1.26.58 botocore-1.29.58\n",
      "Note: you may need to restart the kernel to use updated packages.\n"
     ]
    }
   ],
   "source": [
    "%pip install --upgrade boto3"
   ]
  },
  {
   "cell_type": "markdown",
   "id": "550c683a",
   "metadata": {},
   "source": [
    "### Script to train and deploy model to sagemaker\n",
    "Requires training data to be generated and uploaded to s3\n",
    "See model training notebook\n",
    "\n",
    "Deploys to a serverless endpoint that scales on demand, tests show cold start is ~6s, after that subsecond"
   ]
  },
  {
   "cell_type": "code",
   "execution_count": 6,
   "id": "bcaceef5",
   "metadata": {},
   "outputs": [],
   "source": [
    "bucket = 'cb-analytics-us-east-2-prd'\n",
    "prefix = 'sagemaker/training_data'"
   ]
  },
  {
   "cell_type": "code",
   "execution_count": 7,
   "id": "00328edf",
   "metadata": {},
   "outputs": [
    {
     "name": "stdout",
     "output_type": "stream",
     "text": [
      "AWS Region: us-east-2\n",
      "RoleArn: arn:aws:iam::257056996471:role/cb-sagemaker\n"
     ]
    }
   ],
   "source": [
    "region = sagemaker.Session().boto_region_name\n",
    "print(\"AWS Region: {}\".format(region))\n",
    "\n",
    "role = sagemaker.get_execution_role()\n",
    "print(\"RoleArn: {}\".format(role))"
   ]
  },
  {
   "cell_type": "code",
   "execution_count": 13,
   "id": "0df9f985",
   "metadata": {},
   "outputs": [],
   "source": [
    "# Train my estimator\n",
    "# from sagemaker import SKLearn\n",
    "\n",
    "itc_mse_no_cur_hrs_est = SKLearn(entry_point='20230127_itc_train_deploy.py',\n",
    "                            instance_type='ml.m5.xlarge',\n",
    "                            role=role,\n",
    "                            hyperparameters={\n",
    "                                'error': 'mse',\n",
    "                                'include_current_hours': False\n",
    "                            },\n",
    "                            framework_version='1.0-1')"
   ]
  },
  {
   "cell_type": "code",
   "execution_count": 14,
   "id": "9f5923d2",
   "metadata": {},
   "outputs": [
    {
     "name": "stderr",
     "output_type": "stream",
     "text": [
      "INFO:sagemaker:Creating training-job with name: sagemaker-scikit-learn-2023-01-27-20-26-35-150\n"
     ]
    },
    {
     "name": "stdout",
     "output_type": "stream",
     "text": [
      "2023-01-27 20:26:35 Starting - Starting the training job...\n",
      "2023-01-27 20:26:50 Starting - Preparing the instances for training......\n",
      "2023-01-27 20:28:03 Downloading - Downloading input data\n",
      "2023-01-27 20:28:03 Training - Downloading the training image...\n",
      "2023-01-27 20:28:28 Training - Training image download completed. Training in progress...\u001B[34m2023-01-27 20:28:45,901 sagemaker-containers INFO     Imported framework sagemaker_sklearn_container.training\u001B[0m\n",
      "\u001B[34m2023-01-27 20:28:45,904 sagemaker-training-toolkit INFO     No GPUs detected (normal if no gpus installed)\u001B[0m\n",
      "\u001B[34m2023-01-27 20:28:45,912 sagemaker_sklearn_container.training INFO     Invoking user training script.\u001B[0m\n",
      "\u001B[34m2023-01-27 20:28:46,091 sagemaker-training-toolkit INFO     No GPUs detected (normal if no gpus installed)\u001B[0m\n",
      "\u001B[34m2023-01-27 20:28:46,102 sagemaker-training-toolkit INFO     No GPUs detected (normal if no gpus installed)\u001B[0m\n",
      "\u001B[34m2023-01-27 20:28:46,112 sagemaker-training-toolkit INFO     No GPUs detected (normal if no gpus installed)\u001B[0m\n",
      "\u001B[34m2023-01-27 20:28:46,120 sagemaker-training-toolkit INFO     Invoking user script\u001B[0m\n",
      "\u001B[34mTraining Env:\u001B[0m\n",
      "\u001B[34m{\n",
      "    \"additional_framework_parameters\": {},\n",
      "    \"channel_input_dirs\": {\n",
      "        \"train\": \"/opt/ml/input/data/train\"\n",
      "    },\n",
      "    \"current_host\": \"algo-1\",\n",
      "    \"framework_module\": \"sagemaker_sklearn_container.training:main\",\n",
      "    \"hosts\": [\n",
      "        \"algo-1\"\n",
      "    ],\n",
      "    \"hyperparameters\": {\n",
      "        \"error\": \"mse\",\n",
      "        \"include_current_hours\": false\n",
      "    },\n",
      "    \"input_config_dir\": \"/opt/ml/input/config\",\n",
      "    \"input_data_config\": {\n",
      "        \"train\": {\n",
      "            \"TrainingInputMode\": \"File\",\n",
      "            \"S3DistributionType\": \"FullyReplicated\",\n",
      "            \"RecordWrapperType\": \"None\"\n",
      "        }\n",
      "    },\n",
      "    \"input_dir\": \"/opt/ml/input\",\n",
      "    \"is_master\": true,\n",
      "    \"job_name\": \"sagemaker-scikit-learn-2023-01-27-20-26-35-150\",\n",
      "    \"log_level\": 20,\n",
      "    \"master_hostname\": \"algo-1\",\n",
      "    \"model_dir\": \"/opt/ml/model\",\n",
      "    \"module_dir\": \"s3://sagemaker-us-east-2-257056996471/sagemaker-scikit-learn-2023-01-27-20-26-35-150/source/sourcedir.tar.gz\",\n",
      "    \"module_name\": \"20230127_itc_train_deploy\",\n",
      "    \"network_interface_name\": \"eth0\",\n",
      "    \"num_cpus\": 4,\n",
      "    \"num_gpus\": 0,\n",
      "    \"output_data_dir\": \"/opt/ml/output/data\",\n",
      "    \"output_dir\": \"/opt/ml/output\",\n",
      "    \"output_intermediate_dir\": \"/opt/ml/output/intermediate\",\n",
      "    \"resource_config\": {\n",
      "        \"current_host\": \"algo-1\",\n",
      "        \"current_instance_type\": \"ml.m5.xlarge\",\n",
      "        \"current_group_name\": \"homogeneousCluster\",\n",
      "        \"hosts\": [\n",
      "            \"algo-1\"\n",
      "        ],\n",
      "        \"instance_groups\": [\n",
      "            {\n",
      "                \"instance_group_name\": \"homogeneousCluster\",\n",
      "                \"instance_type\": \"ml.m5.xlarge\",\n",
      "                \"hosts\": [\n",
      "                    \"algo-1\"\n",
      "                ]\n",
      "            }\n",
      "        ],\n",
      "        \"network_interface_name\": \"eth0\"\n",
      "    },\n",
      "    \"user_entry_point\": \"20230127_itc_train_deploy.py\"\u001B[0m\n",
      "\u001B[34m}\u001B[0m\n",
      "\u001B[34mEnvironment variables:\u001B[0m\n",
      "\u001B[34mSM_HOSTS=[\"algo-1\"]\u001B[0m\n",
      "\u001B[34mSM_NETWORK_INTERFACE_NAME=eth0\u001B[0m\n",
      "\u001B[34mSM_HPS={\"error\":\"mse\",\"include_current_hours\":false}\u001B[0m\n",
      "\u001B[34mSM_USER_ENTRY_POINT=20230127_itc_train_deploy.py\u001B[0m\n",
      "\u001B[34mSM_FRAMEWORK_PARAMS={}\u001B[0m\n",
      "\u001B[34mSM_RESOURCE_CONFIG={\"current_group_name\":\"homogeneousCluster\",\"current_host\":\"algo-1\",\"current_instance_type\":\"ml.m5.xlarge\",\"hosts\":[\"algo-1\"],\"instance_groups\":[{\"hosts\":[\"algo-1\"],\"instance_group_name\":\"homogeneousCluster\",\"instance_type\":\"ml.m5.xlarge\"}],\"network_interface_name\":\"eth0\"}\u001B[0m\n",
      "\u001B[34mSM_INPUT_DATA_CONFIG={\"train\":{\"RecordWrapperType\":\"None\",\"S3DistributionType\":\"FullyReplicated\",\"TrainingInputMode\":\"File\"}}\u001B[0m\n",
      "\u001B[34mSM_OUTPUT_DATA_DIR=/opt/ml/output/data\u001B[0m\n",
      "\u001B[34mSM_CHANNELS=[\"train\"]\u001B[0m\n",
      "\u001B[34mSM_CURRENT_HOST=algo-1\u001B[0m\n",
      "\u001B[34mSM_MODULE_NAME=20230127_itc_train_deploy\u001B[0m\n",
      "\u001B[34mSM_LOG_LEVEL=20\u001B[0m\n",
      "\u001B[34mSM_FRAMEWORK_MODULE=sagemaker_sklearn_container.training:main\u001B[0m\n",
      "\u001B[34mSM_INPUT_DIR=/opt/ml/input\u001B[0m\n",
      "\u001B[34mSM_INPUT_CONFIG_DIR=/opt/ml/input/config\u001B[0m\n",
      "\u001B[34mSM_OUTPUT_DIR=/opt/ml/output\u001B[0m\n",
      "\u001B[34mSM_NUM_CPUS=4\u001B[0m\n",
      "\u001B[34mSM_NUM_GPUS=0\u001B[0m\n",
      "\u001B[34mSM_MODEL_DIR=/opt/ml/model\u001B[0m\n",
      "\u001B[34mSM_MODULE_DIR=s3://sagemaker-us-east-2-257056996471/sagemaker-scikit-learn-2023-01-27-20-26-35-150/source/sourcedir.tar.gz\u001B[0m\n",
      "\u001B[34mSM_TRAINING_ENV={\"additional_framework_parameters\":{},\"channel_input_dirs\":{\"train\":\"/opt/ml/input/data/train\"},\"current_host\":\"algo-1\",\"framework_module\":\"sagemaker_sklearn_container.training:main\",\"hosts\":[\"algo-1\"],\"hyperparameters\":{\"error\":\"mse\",\"include_current_hours\":false},\"input_config_dir\":\"/opt/ml/input/config\",\"input_data_config\":{\"train\":{\"RecordWrapperType\":\"None\",\"S3DistributionType\":\"FullyReplicated\",\"TrainingInputMode\":\"File\"}},\"input_dir\":\"/opt/ml/input\",\"is_master\":true,\"job_name\":\"sagemaker-scikit-learn-2023-01-27-20-26-35-150\",\"log_level\":20,\"master_hostname\":\"algo-1\",\"model_dir\":\"/opt/ml/model\",\"module_dir\":\"s3://sagemaker-us-east-2-257056996471/sagemaker-scikit-learn-2023-01-27-20-26-35-150/source/sourcedir.tar.gz\",\"module_name\":\"20230127_itc_train_deploy\",\"network_interface_name\":\"eth0\",\"num_cpus\":4,\"num_gpus\":0,\"output_data_dir\":\"/opt/ml/output/data\",\"output_dir\":\"/opt/ml/output\",\"output_intermediate_dir\":\"/opt/ml/output/intermediate\",\"resource_config\":{\"current_group_name\":\"homogeneousCluster\",\"current_host\":\"algo-1\",\"current_instance_type\":\"ml.m5.xlarge\",\"hosts\":[\"algo-1\"],\"instance_groups\":[{\"hosts\":[\"algo-1\"],\"instance_group_name\":\"homogeneousCluster\",\"instance_type\":\"ml.m5.xlarge\"}],\"network_interface_name\":\"eth0\"},\"user_entry_point\":\"20230127_itc_train_deploy.py\"}\u001B[0m\n",
      "\u001B[34mSM_USER_ARGS=[\"--error\",\"mse\",\"--include_current_hours\",\"False\"]\u001B[0m\n",
      "\u001B[34mSM_OUTPUT_INTERMEDIATE_DIR=/opt/ml/output/intermediate\u001B[0m\n",
      "\u001B[34mSM_CHANNEL_TRAIN=/opt/ml/input/data/train\u001B[0m\n",
      "\u001B[34mSM_HP_ERROR=mse\u001B[0m\n",
      "\u001B[34mSM_HP_INCLUDE_CURRENT_HOURS=false\u001B[0m\n",
      "\u001B[34mPYTHONPATH=/opt/ml/code:/miniconda3/bin:/miniconda3/lib/python38.zip:/miniconda3/lib/python3.8:/miniconda3/lib/python3.8/lib-dynload:/miniconda3/lib/python3.8/site-packages\u001B[0m\n",
      "\u001B[34mInvoking script with the following command:\u001B[0m\n",
      "\u001B[34m/miniconda3/bin/python 20230127_itc_train_deploy.py --error mse --include_current_hours False\u001B[0m\n",
      "\u001B[34m2023-01-27 20:28:47,471 sagemaker-containers INFO     Reporting training SUCCESS\u001B[0m\n",
      "\n",
      "2023-01-27 20:29:05 Uploading - Uploading generated training model\n",
      "2023-01-27 20:29:05 Completed - Training job completed\n",
      "Training seconds: 82\n",
      "Billable seconds: 82\n"
     ]
    }
   ],
   "source": [
    "itc_mse_no_cur_hrs_est.fit({'train': f's3://{bucket}/{prefix}/20230127201843_itc_traning_data.csv'})"
   ]
  },
  {
   "cell_type": "markdown",
   "id": "902d8a3e",
   "metadata": {},
   "source": [
    "### Serverless deploy"
   ]
  },
  {
   "cell_type": "code",
   "execution_count": 15,
   "id": "0ddfd63c",
   "metadata": {},
   "outputs": [
    {
     "name": "stdout",
     "output_type": "stream",
     "text": [
      "Model name: ds-rec-hrs-itc-no-cur-hrs-serverless-20230127-202916\n"
     ]
    }
   ],
   "source": [
    "model_name = \"ds-rec-hrs-itc-no-cur-hrs-serverless-\" + strftime(\"%Y%m%d-%H%M%S\", gmtime())\n",
    "print(\"Model name: \" + model_name)"
   ]
  },
  {
   "cell_type": "code",
   "execution_count": 16,
   "id": "152b1d29",
   "metadata": {},
   "outputs": [],
   "source": [
    "serverless_conf = sagemaker.serverless.serverless_inference_config.ServerlessInferenceConfig(\n",
    "    memory_size_in_mb=6144,\n",
    "    max_concurrency=100\n",
    ")"
   ]
  },
  {
   "cell_type": "code",
   "execution_count": 17,
   "id": "f8dedefe",
   "metadata": {},
   "outputs": [
    {
     "name": "stderr",
     "output_type": "stream",
     "text": [
      "INFO:sagemaker:Creating model with name: ds-rec-hrs-itc-no-cur-hrs-serverless-20230127-202916\n",
      "INFO:sagemaker:Creating endpoint-config with name ep-ds-rec-hrs-itc-no-cur-hrs-serverless-20230127-202916\n",
      "INFO:sagemaker:Creating endpoint with name ep-ds-rec-hrs-itc-no-cur-hrs-serverless-20230127-202916\n"
     ]
    },
    {
     "name": "stdout",
     "output_type": "stream",
     "text": [
      "-----!"
     ]
    }
   ],
   "source": [
    "itc_mse_no_cur_hrs_predictor = itc_mse_no_cur_hrs_est.deploy(serverless_inference_config=serverless_conf,\n",
    "                                     endpoint_name='ep-' + model_name,\n",
    "                                     model_name=model_name\n",
    "                                    )"
   ]
  },
  {
   "cell_type": "code",
   "execution_count": 18,
   "id": "9eeb8a8e",
   "metadata": {},
   "outputs": [
    {
     "data": {
      "text/plain": [
       "'ep-ds-rec-hrs-itc-no-cur-hrs-serverless-20230127-202916'"
      ]
     },
     "execution_count": 18,
     "metadata": {},
     "output_type": "execute_result"
    }
   ],
   "source": [
    "itc_mse_no_cur_hrs_predictor.endpoint_name"
   ]
  },
  {
   "cell_type": "code",
   "execution_count": null,
   "id": "d946f57b",
   "metadata": {},
   "outputs": [],
   "source": []
  },
  {
   "cell_type": "code",
   "execution_count": 19,
   "id": "b2a090c7",
   "metadata": {},
   "outputs": [],
   "source": [
    "# Train my estimator\n",
    "# from sagemaker import SKLearn\n",
    "\n",
    "itc_mse_w_cur_hrs_est = SKLearn(entry_point='20230127_itc_train_deploy.py',\n",
    "                            instance_type='ml.m5.xlarge',\n",
    "                            role=role,\n",
    "                            hyperparameters={\n",
    "                                'error': 'mse',\n",
    "                                'include_current_hours': True\n",
    "                            },\n",
    "                            framework_version='1.0-1')"
   ]
  },
  {
   "cell_type": "code",
   "execution_count": 20,
   "id": "2c5497fa",
   "metadata": {},
   "outputs": [
    {
     "name": "stderr",
     "output_type": "stream",
     "text": [
      "INFO:sagemaker:Creating training-job with name: sagemaker-scikit-learn-2023-01-27-20-36-51-528\n"
     ]
    },
    {
     "name": "stdout",
     "output_type": "stream",
     "text": [
      "2023-01-27 20:36:52 Starting - Starting the training job...\n",
      "2023-01-27 20:37:06 Starting - Preparing the instances for training......\n",
      "2023-01-27 20:38:18 Downloading - Downloading input data\n",
      "2023-01-27 20:38:18 Training - Downloading the training image...\n",
      "2023-01-27 20:38:43 Training - Training image download completed. Training in progress...\u001B[34m2023-01-27 20:39:02,067 sagemaker-containers INFO     Imported framework sagemaker_sklearn_container.training\u001B[0m\n",
      "\u001B[34m2023-01-27 20:39:02,071 sagemaker-training-toolkit INFO     No GPUs detected (normal if no gpus installed)\u001B[0m\n",
      "\u001B[34m2023-01-27 20:39:02,079 sagemaker_sklearn_container.training INFO     Invoking user training script.\u001B[0m\n",
      "\u001B[34m2023-01-27 20:39:02,298 sagemaker-training-toolkit INFO     No GPUs detected (normal if no gpus installed)\u001B[0m\n",
      "\u001B[34m2023-01-27 20:39:02,311 sagemaker-training-toolkit INFO     No GPUs detected (normal if no gpus installed)\u001B[0m\n",
      "\u001B[34m2023-01-27 20:39:02,327 sagemaker-training-toolkit INFO     No GPUs detected (normal if no gpus installed)\u001B[0m\n",
      "\u001B[34m2023-01-27 20:39:02,335 sagemaker-training-toolkit INFO     Invoking user script\u001B[0m\n",
      "\u001B[34mTraining Env:\u001B[0m\n",
      "\u001B[34m{\n",
      "    \"additional_framework_parameters\": {},\n",
      "    \"channel_input_dirs\": {\n",
      "        \"train\": \"/opt/ml/input/data/train\"\n",
      "    },\n",
      "    \"current_host\": \"algo-1\",\n",
      "    \"framework_module\": \"sagemaker_sklearn_container.training:main\",\n",
      "    \"hosts\": [\n",
      "        \"algo-1\"\n",
      "    ],\n",
      "    \"hyperparameters\": {\n",
      "        \"error\": \"mse\",\n",
      "        \"include_current_hours\": true\n",
      "    },\n",
      "    \"input_config_dir\": \"/opt/ml/input/config\",\n",
      "    \"input_data_config\": {\n",
      "        \"train\": {\n",
      "            \"TrainingInputMode\": \"File\",\n",
      "            \"S3DistributionType\": \"FullyReplicated\",\n",
      "            \"RecordWrapperType\": \"None\"\n",
      "        }\n",
      "    },\n",
      "    \"input_dir\": \"/opt/ml/input\",\n",
      "    \"is_master\": true,\n",
      "    \"job_name\": \"sagemaker-scikit-learn-2023-01-27-20-36-51-528\",\n",
      "    \"log_level\": 20,\n",
      "    \"master_hostname\": \"algo-1\",\n",
      "    \"model_dir\": \"/opt/ml/model\",\n",
      "    \"module_dir\": \"s3://sagemaker-us-east-2-257056996471/sagemaker-scikit-learn-2023-01-27-20-36-51-528/source/sourcedir.tar.gz\",\n",
      "    \"module_name\": \"20230127_itc_train_deploy\",\n",
      "    \"network_interface_name\": \"eth0\",\n",
      "    \"num_cpus\": 4,\n",
      "    \"num_gpus\": 0,\n",
      "    \"output_data_dir\": \"/opt/ml/output/data\",\n",
      "    \"output_dir\": \"/opt/ml/output\",\n",
      "    \"output_intermediate_dir\": \"/opt/ml/output/intermediate\",\n",
      "    \"resource_config\": {\n",
      "        \"current_host\": \"algo-1\",\n",
      "        \"current_instance_type\": \"ml.m5.xlarge\",\n",
      "        \"current_group_name\": \"homogeneousCluster\",\n",
      "        \"hosts\": [\n",
      "            \"algo-1\"\n",
      "        ],\n",
      "        \"instance_groups\": [\n",
      "            {\n",
      "                \"instance_group_name\": \"homogeneousCluster\",\n",
      "                \"instance_type\": \"ml.m5.xlarge\",\n",
      "                \"hosts\": [\n",
      "                    \"algo-1\"\n",
      "                ]\n",
      "            }\n",
      "        ],\n",
      "        \"network_interface_name\": \"eth0\"\n",
      "    },\n",
      "    \"user_entry_point\": \"20230127_itc_train_deploy.py\"\u001B[0m\n",
      "\u001B[34m}\u001B[0m\n",
      "\u001B[34mEnvironment variables:\u001B[0m\n",
      "\u001B[34mSM_HOSTS=[\"algo-1\"]\u001B[0m\n",
      "\u001B[34mSM_NETWORK_INTERFACE_NAME=eth0\u001B[0m\n",
      "\u001B[34mSM_HPS={\"error\":\"mse\",\"include_current_hours\":true}\u001B[0m\n",
      "\u001B[34mSM_USER_ENTRY_POINT=20230127_itc_train_deploy.py\u001B[0m\n",
      "\u001B[34mSM_FRAMEWORK_PARAMS={}\u001B[0m\n",
      "\u001B[34mSM_RESOURCE_CONFIG={\"current_group_name\":\"homogeneousCluster\",\"current_host\":\"algo-1\",\"current_instance_type\":\"ml.m5.xlarge\",\"hosts\":[\"algo-1\"],\"instance_groups\":[{\"hosts\":[\"algo-1\"],\"instance_group_name\":\"homogeneousCluster\",\"instance_type\":\"ml.m5.xlarge\"}],\"network_interface_name\":\"eth0\"}\u001B[0m\n",
      "\u001B[34mSM_INPUT_DATA_CONFIG={\"train\":{\"RecordWrapperType\":\"None\",\"S3DistributionType\":\"FullyReplicated\",\"TrainingInputMode\":\"File\"}}\u001B[0m\n",
      "\u001B[34mSM_OUTPUT_DATA_DIR=/opt/ml/output/data\u001B[0m\n",
      "\u001B[34mSM_CHANNELS=[\"train\"]\u001B[0m\n",
      "\u001B[34mSM_CURRENT_HOST=algo-1\u001B[0m\n",
      "\u001B[34mSM_MODULE_NAME=20230127_itc_train_deploy\u001B[0m\n",
      "\u001B[34mSM_LOG_LEVEL=20\u001B[0m\n",
      "\u001B[34mSM_FRAMEWORK_MODULE=sagemaker_sklearn_container.training:main\u001B[0m\n",
      "\u001B[34mSM_INPUT_DIR=/opt/ml/input\u001B[0m\n",
      "\u001B[34mSM_INPUT_CONFIG_DIR=/opt/ml/input/config\u001B[0m\n",
      "\u001B[34mSM_OUTPUT_DIR=/opt/ml/output\u001B[0m\n",
      "\u001B[34mSM_NUM_CPUS=4\u001B[0m\n",
      "\u001B[34mSM_NUM_GPUS=0\u001B[0m\n",
      "\u001B[34mSM_MODEL_DIR=/opt/ml/model\u001B[0m\n",
      "\u001B[34mSM_MODULE_DIR=s3://sagemaker-us-east-2-257056996471/sagemaker-scikit-learn-2023-01-27-20-36-51-528/source/sourcedir.tar.gz\u001B[0m\n",
      "\u001B[34mSM_TRAINING_ENV={\"additional_framework_parameters\":{},\"channel_input_dirs\":{\"train\":\"/opt/ml/input/data/train\"},\"current_host\":\"algo-1\",\"framework_module\":\"sagemaker_sklearn_container.training:main\",\"hosts\":[\"algo-1\"],\"hyperparameters\":{\"error\":\"mse\",\"include_current_hours\":true},\"input_config_dir\":\"/opt/ml/input/config\",\"input_data_config\":{\"train\":{\"RecordWrapperType\":\"None\",\"S3DistributionType\":\"FullyReplicated\",\"TrainingInputMode\":\"File\"}},\"input_dir\":\"/opt/ml/input\",\"is_master\":true,\"job_name\":\"sagemaker-scikit-learn-2023-01-27-20-36-51-528\",\"log_level\":20,\"master_hostname\":\"algo-1\",\"model_dir\":\"/opt/ml/model\",\"module_dir\":\"s3://sagemaker-us-east-2-257056996471/sagemaker-scikit-learn-2023-01-27-20-36-51-528/source/sourcedir.tar.gz\",\"module_name\":\"20230127_itc_train_deploy\",\"network_interface_name\":\"eth0\",\"num_cpus\":4,\"num_gpus\":0,\"output_data_dir\":\"/opt/ml/output/data\",\"output_dir\":\"/opt/ml/output\",\"output_intermediate_dir\":\"/opt/ml/output/intermediate\",\"resource_config\":{\"current_group_name\":\"homogeneousCluster\",\"current_host\":\"algo-1\",\"current_instance_type\":\"ml.m5.xlarge\",\"hosts\":[\"algo-1\"],\"instance_groups\":[{\"hosts\":[\"algo-1\"],\"instance_group_name\":\"homogeneousCluster\",\"instance_type\":\"ml.m5.xlarge\"}],\"network_interface_name\":\"eth0\"},\"user_entry_point\":\"20230127_itc_train_deploy.py\"}\u001B[0m\n",
      "\u001B[34mSM_USER_ARGS=[\"--error\",\"mse\",\"--include_current_hours\",\"True\"]\u001B[0m\n",
      "\u001B[34mSM_OUTPUT_INTERMEDIATE_DIR=/opt/ml/output/intermediate\u001B[0m\n",
      "\u001B[34mSM_CHANNEL_TRAIN=/opt/ml/input/data/train\u001B[0m\n",
      "\u001B[34mSM_HP_ERROR=mse\u001B[0m\n",
      "\u001B[34mSM_HP_INCLUDE_CURRENT_HOURS=true\u001B[0m\n",
      "\u001B[34mPYTHONPATH=/opt/ml/code:/miniconda3/bin:/miniconda3/lib/python38.zip:/miniconda3/lib/python3.8:/miniconda3/lib/python3.8/lib-dynload:/miniconda3/lib/python3.8/site-packages\u001B[0m\n",
      "\u001B[34mInvoking script with the following command:\u001B[0m\n",
      "\u001B[34m/miniconda3/bin/python 20230127_itc_train_deploy.py --error mse --include_current_hours True\u001B[0m\n",
      "\u001B[34m2023-01-27 20:39:03,941 sagemaker-containers INFO     Reporting training SUCCESS\u001B[0m\n",
      "\n",
      "2023-01-27 20:39:19 Uploading - Uploading generated training model\n",
      "2023-01-27 20:39:19 Completed - Training job completed\n",
      "Training seconds: 81\n",
      "Billable seconds: 81\n"
     ]
    }
   ],
   "source": [
    "itc_mse_w_cur_hrs_est.fit({'train': f's3://{bucket}/{prefix}/20230127201843_itc_traning_data.csv'})"
   ]
  },
  {
   "cell_type": "code",
   "execution_count": null,
   "id": "59be0f8d",
   "metadata": {},
   "outputs": [],
   "source": [
    "### Serverless deploy"
   ]
  },
  {
   "cell_type": "code",
   "execution_count": 21,
   "id": "ad26284e",
   "metadata": {},
   "outputs": [
    {
     "name": "stdout",
     "output_type": "stream",
     "text": [
      "Model name: ds-rec-hrs-itc-w-cur-hrs-serverless-20230127-203933\n"
     ]
    }
   ],
   "source": [
    "model_name = \"ds-rec-hrs-itc-w-cur-hrs-serverless-\" + strftime(\"%Y%m%d-%H%M%S\", gmtime())\n",
    "print(\"Model name: \" + model_name)"
   ]
  },
  {
   "cell_type": "code",
   "execution_count": 22,
   "id": "7013f634",
   "metadata": {},
   "outputs": [],
   "source": [
    "serverless_conf = sagemaker.serverless.serverless_inference_config.ServerlessInferenceConfig(\n",
    "    memory_size_in_mb=6144,\n",
    "    max_concurrency=100\n",
    ")"
   ]
  },
  {
   "cell_type": "code",
   "execution_count": 23,
   "id": "d8600817",
   "metadata": {},
   "outputs": [
    {
     "name": "stderr",
     "output_type": "stream",
     "text": [
      "INFO:sagemaker:Creating model with name: ds-rec-hrs-itc-w-cur-hrs-serverless-20230127-203933\n",
      "INFO:sagemaker:Creating endpoint-config with name ep-ds-rec-hrs-itc-w-cur-hrs-serverless-20230127-203933\n",
      "INFO:sagemaker:Creating endpoint with name ep-ds-rec-hrs-itc-w-cur-hrs-serverless-20230127-203933\n"
     ]
    },
    {
     "name": "stdout",
     "output_type": "stream",
     "text": [
      "-----!"
     ]
    }
   ],
   "source": [
    "itc_mse_w_cur_hrs_predictor = itc_mse_w_cur_hrs_est.deploy(serverless_inference_config=serverless_conf,\n",
    "                                     endpoint_name='ep-' + model_name,\n",
    "                                     model_name=model_name\n",
    "                                    )"
   ]
  },
  {
   "cell_type": "code",
   "execution_count": 24,
   "id": "58498504",
   "metadata": {},
   "outputs": [
    {
     "data": {
      "text/plain": [
       "'ep-ds-rec-hrs-itc-w-cur-hrs-serverless-20230127-203933'"
      ]
     },
     "execution_count": 24,
     "metadata": {},
     "output_type": "execute_result"
    }
   ],
   "source": [
    "itc_mse_w_cur_hrs_predictor.endpoint_name"
   ]
  },
  {
   "cell_type": "code",
   "execution_count": null,
   "id": "a4d36aa2",
   "metadata": {},
   "outputs": [],
   "source": []
  },
  {
   "cell_type": "markdown",
   "id": "374ca05d",
   "metadata": {},
   "source": [
    "### quantile no cur hrs low"
   ]
  },
  {
   "cell_type": "code",
   "execution_count": 25,
   "id": "31360a8f",
   "metadata": {},
   "outputs": [],
   "source": [
    "# Train my estimator\n",
    "# from sagemaker import SKLearn\n",
    "\n",
    "itc_qtl_no_cur_hrs_est = SKLearn(entry_point='20230127_itc_train_deploy.py',\n",
    "                            instance_type='ml.m5.xlarge',\n",
    "                            role=role,\n",
    "                            hyperparameters={\n",
    "                                'error': 'quantile',\n",
    "                                'quantile': 0.1,\n",
    "                                'include_current_hours': False\n",
    "                            },\n",
    "                            framework_version='1.0-1')"
   ]
  },
  {
   "cell_type": "code",
   "execution_count": 26,
   "id": "5a2abcbd",
   "metadata": {},
   "outputs": [
    {
     "name": "stderr",
     "output_type": "stream",
     "text": [
      "INFO:sagemaker:Creating training-job with name: sagemaker-scikit-learn-2023-01-27-21-28-45-881\n"
     ]
    },
    {
     "name": "stdout",
     "output_type": "stream",
     "text": [
      "2023-01-27 21:28:46 Starting - Starting the training job...\n",
      "2023-01-27 21:29:02 Starting - Preparing the instances for training......\n",
      "2023-01-27 21:30:10 Downloading - Downloading input data\n",
      "2023-01-27 21:30:10 Training - Downloading the training image...\n",
      "2023-01-27 21:30:35 Training - Training image download completed. Training in progress...\u001B[34m2023-01-27 21:30:51,428 sagemaker-containers INFO     Imported framework sagemaker_sklearn_container.training\u001B[0m\n",
      "\u001B[34m2023-01-27 21:30:51,431 sagemaker-training-toolkit INFO     No GPUs detected (normal if no gpus installed)\u001B[0m\n",
      "\u001B[34m2023-01-27 21:30:51,438 sagemaker_sklearn_container.training INFO     Invoking user training script.\u001B[0m\n",
      "\u001B[34m2023-01-27 21:30:51,604 sagemaker-training-toolkit INFO     No GPUs detected (normal if no gpus installed)\u001B[0m\n",
      "\u001B[34m2023-01-27 21:30:51,615 sagemaker-training-toolkit INFO     No GPUs detected (normal if no gpus installed)\u001B[0m\n",
      "\u001B[34m2023-01-27 21:30:51,627 sagemaker-training-toolkit INFO     No GPUs detected (normal if no gpus installed)\u001B[0m\n",
      "\u001B[34m2023-01-27 21:30:51,636 sagemaker-training-toolkit INFO     Invoking user script\u001B[0m\n",
      "\u001B[34mTraining Env:\u001B[0m\n",
      "\u001B[34m{\n",
      "    \"additional_framework_parameters\": {},\n",
      "    \"channel_input_dirs\": {\n",
      "        \"train\": \"/opt/ml/input/data/train\"\n",
      "    },\n",
      "    \"current_host\": \"algo-1\",\n",
      "    \"framework_module\": \"sagemaker_sklearn_container.training:main\",\n",
      "    \"hosts\": [\n",
      "        \"algo-1\"\n",
      "    ],\n",
      "    \"hyperparameters\": {\n",
      "        \"error\": \"quantile\",\n",
      "        \"include_current_hours\": false,\n",
      "        \"quantile\": 0.1\n",
      "    },\n",
      "    \"input_config_dir\": \"/opt/ml/input/config\",\n",
      "    \"input_data_config\": {\n",
      "        \"train\": {\n",
      "            \"TrainingInputMode\": \"File\",\n",
      "            \"S3DistributionType\": \"FullyReplicated\",\n",
      "            \"RecordWrapperType\": \"None\"\n",
      "        }\n",
      "    },\n",
      "    \"input_dir\": \"/opt/ml/input\",\n",
      "    \"is_master\": true,\n",
      "    \"job_name\": \"sagemaker-scikit-learn-2023-01-27-21-28-45-881\",\n",
      "    \"log_level\": 20,\n",
      "    \"master_hostname\": \"algo-1\",\n",
      "    \"model_dir\": \"/opt/ml/model\",\n",
      "    \"module_dir\": \"s3://sagemaker-us-east-2-257056996471/sagemaker-scikit-learn-2023-01-27-21-28-45-881/source/sourcedir.tar.gz\",\n",
      "    \"module_name\": \"20230127_itc_train_deploy\",\n",
      "    \"network_interface_name\": \"eth0\",\n",
      "    \"num_cpus\": 4,\n",
      "    \"num_gpus\": 0,\n",
      "    \"output_data_dir\": \"/opt/ml/output/data\",\n",
      "    \"output_dir\": \"/opt/ml/output\",\n",
      "    \"output_intermediate_dir\": \"/opt/ml/output/intermediate\",\n",
      "    \"resource_config\": {\n",
      "        \"current_host\": \"algo-1\",\n",
      "        \"current_instance_type\": \"ml.m5.xlarge\",\n",
      "        \"current_group_name\": \"homogeneousCluster\",\n",
      "        \"hosts\": [\n",
      "            \"algo-1\"\n",
      "        ],\n",
      "        \"instance_groups\": [\n",
      "            {\n",
      "                \"instance_group_name\": \"homogeneousCluster\",\n",
      "                \"instance_type\": \"ml.m5.xlarge\",\n",
      "                \"hosts\": [\n",
      "                    \"algo-1\"\n",
      "                ]\n",
      "            }\n",
      "        ],\n",
      "        \"network_interface_name\": \"eth0\"\n",
      "    },\n",
      "    \"user_entry_point\": \"20230127_itc_train_deploy.py\"\u001B[0m\n",
      "\u001B[34m}\u001B[0m\n",
      "\u001B[34mEnvironment variables:\u001B[0m\n",
      "\u001B[34mSM_HOSTS=[\"algo-1\"]\u001B[0m\n",
      "\u001B[34mSM_NETWORK_INTERFACE_NAME=eth0\u001B[0m\n",
      "\u001B[34mSM_HPS={\"error\":\"quantile\",\"include_current_hours\":false,\"quantile\":0.1}\u001B[0m\n",
      "\u001B[34mSM_USER_ENTRY_POINT=20230127_itc_train_deploy.py\u001B[0m\n",
      "\u001B[34mSM_FRAMEWORK_PARAMS={}\u001B[0m\n",
      "\u001B[34mSM_RESOURCE_CONFIG={\"current_group_name\":\"homogeneousCluster\",\"current_host\":\"algo-1\",\"current_instance_type\":\"ml.m5.xlarge\",\"hosts\":[\"algo-1\"],\"instance_groups\":[{\"hosts\":[\"algo-1\"],\"instance_group_name\":\"homogeneousCluster\",\"instance_type\":\"ml.m5.xlarge\"}],\"network_interface_name\":\"eth0\"}\u001B[0m\n",
      "\u001B[34mSM_INPUT_DATA_CONFIG={\"train\":{\"RecordWrapperType\":\"None\",\"S3DistributionType\":\"FullyReplicated\",\"TrainingInputMode\":\"File\"}}\u001B[0m\n",
      "\u001B[34mSM_OUTPUT_DATA_DIR=/opt/ml/output/data\u001B[0m\n",
      "\u001B[34mSM_CHANNELS=[\"train\"]\u001B[0m\n",
      "\u001B[34mSM_CURRENT_HOST=algo-1\u001B[0m\n",
      "\u001B[34mSM_MODULE_NAME=20230127_itc_train_deploy\u001B[0m\n",
      "\u001B[34mSM_LOG_LEVEL=20\u001B[0m\n",
      "\u001B[34mSM_FRAMEWORK_MODULE=sagemaker_sklearn_container.training:main\u001B[0m\n",
      "\u001B[34mSM_INPUT_DIR=/opt/ml/input\u001B[0m\n",
      "\u001B[34mSM_INPUT_CONFIG_DIR=/opt/ml/input/config\u001B[0m\n",
      "\u001B[34mSM_OUTPUT_DIR=/opt/ml/output\u001B[0m\n",
      "\u001B[34mSM_NUM_CPUS=4\u001B[0m\n",
      "\u001B[34mSM_NUM_GPUS=0\u001B[0m\n",
      "\u001B[34mSM_MODEL_DIR=/opt/ml/model\u001B[0m\n",
      "\u001B[34mSM_MODULE_DIR=s3://sagemaker-us-east-2-257056996471/sagemaker-scikit-learn-2023-01-27-21-28-45-881/source/sourcedir.tar.gz\u001B[0m\n",
      "\u001B[34mSM_TRAINING_ENV={\"additional_framework_parameters\":{},\"channel_input_dirs\":{\"train\":\"/opt/ml/input/data/train\"},\"current_host\":\"algo-1\",\"framework_module\":\"sagemaker_sklearn_container.training:main\",\"hosts\":[\"algo-1\"],\"hyperparameters\":{\"error\":\"quantile\",\"include_current_hours\":false,\"quantile\":0.1},\"input_config_dir\":\"/opt/ml/input/config\",\"input_data_config\":{\"train\":{\"RecordWrapperType\":\"None\",\"S3DistributionType\":\"FullyReplicated\",\"TrainingInputMode\":\"File\"}},\"input_dir\":\"/opt/ml/input\",\"is_master\":true,\"job_name\":\"sagemaker-scikit-learn-2023-01-27-21-28-45-881\",\"log_level\":20,\"master_hostname\":\"algo-1\",\"model_dir\":\"/opt/ml/model\",\"module_dir\":\"s3://sagemaker-us-east-2-257056996471/sagemaker-scikit-learn-2023-01-27-21-28-45-881/source/sourcedir.tar.gz\",\"module_name\":\"20230127_itc_train_deploy\",\"network_interface_name\":\"eth0\",\"num_cpus\":4,\"num_gpus\":0,\"output_data_dir\":\"/opt/ml/output/data\",\"output_dir\":\"/opt/ml/output\",\"output_intermediate_dir\":\"/opt/ml/output/intermediate\",\"resource_config\":{\"current_group_name\":\"homogeneousCluster\",\"current_host\":\"algo-1\",\"current_instance_type\":\"ml.m5.xlarge\",\"hosts\":[\"algo-1\"],\"instance_groups\":[{\"hosts\":[\"algo-1\"],\"instance_group_name\":\"homogeneousCluster\",\"instance_type\":\"ml.m5.xlarge\"}],\"network_interface_name\":\"eth0\"},\"user_entry_point\":\"20230127_itc_train_deploy.py\"}\u001B[0m\n",
      "\u001B[34mSM_USER_ARGS=[\"--error\",\"quantile\",\"--include_current_hours\",\"False\",\"--quantile\",\"0.1\"]\u001B[0m\n",
      "\u001B[34mSM_OUTPUT_INTERMEDIATE_DIR=/opt/ml/output/intermediate\u001B[0m\n",
      "\u001B[34mSM_CHANNEL_TRAIN=/opt/ml/input/data/train\u001B[0m\n",
      "\u001B[34mSM_HP_ERROR=quantile\u001B[0m\n",
      "\u001B[34mSM_HP_INCLUDE_CURRENT_HOURS=false\u001B[0m\n",
      "\u001B[34mSM_HP_QUANTILE=0.1\u001B[0m\n",
      "\u001B[34mPYTHONPATH=/opt/ml/code:/miniconda3/bin:/miniconda3/lib/python38.zip:/miniconda3/lib/python3.8:/miniconda3/lib/python3.8/lib-dynload:/miniconda3/lib/python3.8/site-packages\u001B[0m\n",
      "\u001B[34mInvoking script with the following command:\u001B[0m\n",
      "\u001B[34m/miniconda3/bin/python 20230127_itc_train_deploy.py --error quantile --include_current_hours False --quantile 0.1\u001B[0m\n",
      "\u001B[34mTraceback (most recent call last):\n",
      "  File \"20230127_itc_train_deploy.py\", line 54, in <module>\n",
      "    clf = HistGradientBoostingRegressor(**hyper_params)\u001B[0m\n",
      "\u001B[34mTypeError: __init__() got an unexpected keyword argument 'quantile'\u001B[0m\n",
      "\u001B[34m2023-01-27 21:30:52,540 sagemaker-containers ERROR    Reporting training FAILURE\u001B[0m\n",
      "\u001B[34m2023-01-27 21:30:52,540 sagemaker-containers ERROR    framework error: \u001B[0m\n",
      "\u001B[34mTraceback (most recent call last):\n",
      "  File \"/miniconda3/lib/python3.8/site-packages/sagemaker_containers/_trainer.py\", line 84, in train\n",
      "    entrypoint()\n",
      "  File \"/miniconda3/lib/python3.8/site-packages/sagemaker_sklearn_container/training.py\", line 39, in main\n",
      "    train(environment.Environment())\n",
      "  File \"/miniconda3/lib/python3.8/site-packages/sagemaker_sklearn_container/training.py\", line 31, in train\n",
      "    entry_point.run(uri=training_environment.module_dir,\n",
      "  File \"/miniconda3/lib/python3.8/site-packages/sagemaker_training/entry_point.py\", line 99, in run\n",
      "    return runner.get(runner_type, user_entry_point, args, env_vars, extra_opts).run(\n",
      "  File \"/miniconda3/lib/python3.8/site-packages/sagemaker_training/process.py\", line 286, in run\n",
      "    process = check_error(\n",
      "  File \"/miniconda3/lib/python3.8/site-packages/sagemaker_training/process.py\", line 204, in check_error\n",
      "    raise error_class(\u001B[0m\n",
      "\u001B[34msagemaker_training.errors.ExecuteUserScriptError: ExecuteUserScriptError:\u001B[0m\n",
      "\u001B[34mExitCode 1\u001B[0m\n",
      "\u001B[34mErrorMessage \"\"\u001B[0m\n",
      "\u001B[34mCommand \"/miniconda3/bin/python 20230127_itc_train_deploy.py --error quantile --include_current_hours False --quantile 0.1\"\u001B[0m\n",
      "\u001B[34mExecuteUserScriptError:\u001B[0m\n",
      "\u001B[34mExitCode 1\u001B[0m\n",
      "\u001B[34mErrorMessage \"\"\u001B[0m\n",
      "\u001B[34mCommand \"/miniconda3/bin/python 20230127_itc_train_deploy.py --error quantile --include_current_hours False --quantile 0.1\"\u001B[0m\n",
      "\n",
      "2023-01-27 21:31:02 Uploading - Uploading generated training model\n",
      "2023-01-27 21:31:02 Failed - Training job failed\n"
     ]
    },
    {
     "ename": "UnexpectedStatusException",
     "evalue": "Error for Training job sagemaker-scikit-learn-2023-01-27-21-28-45-881: Failed. Reason: AlgorithmError: framework error: \nTraceback (most recent call last):\n  File \"/miniconda3/lib/python3.8/site-packages/sagemaker_containers/_trainer.py\", line 84, in train\n    entrypoint()\n  File \"/miniconda3/lib/python3.8/site-packages/sagemaker_sklearn_container/training.py\", line 39, in main\n    train(environment.Environment())\n  File \"/miniconda3/lib/python3.8/site-packages/sagemaker_sklearn_container/training.py\", line 31, in train\n    entry_point.run(uri=training_environment.module_dir,\n  File \"/miniconda3/lib/python3.8/site-packages/sagemaker_training/entry_point.py\", line 99, in run\n    return runner.get(runner_type, user_entry_point, args, env_vars, extra_opts).run(\n  File \"/miniconda3/lib/python3.8/site-packages/sagemaker_training/process.py\", line 286, in run\n    process = check_error(\n  File \"/miniconda3/lib/python3.8/site-packages/sagemaker_training/process.py\", line 204, in check_error\n    raise error_class(\nsagemaker_training.errors.ExecuteUserScriptError: ExecuteUserScriptError:\nExitCode 1\nError",
     "output_type": "error",
     "traceback": [
      "\u001B[0;31m---------------------------------------------------------------------------\u001B[0m",
      "\u001B[0;31mUnexpectedStatusException\u001B[0m                 Traceback (most recent call last)",
      "\u001B[0;32m/tmp/ipykernel_30009/140254105.py\u001B[0m in \u001B[0;36m<cell line: 1>\u001B[0;34m()\u001B[0m\n\u001B[0;32m----> 1\u001B[0;31m \u001B[0mitc_qtl_no_cur_hrs_est\u001B[0m\u001B[0;34m.\u001B[0m\u001B[0mfit\u001B[0m\u001B[0;34m(\u001B[0m\u001B[0;34m{\u001B[0m\u001B[0;34m'train'\u001B[0m\u001B[0;34m:\u001B[0m \u001B[0;34mf's3://{bucket}/{prefix}/20230127201843_itc_traning_data.csv'\u001B[0m\u001B[0;34m}\u001B[0m\u001B[0;34m)\u001B[0m\u001B[0;34m\u001B[0m\u001B[0;34m\u001B[0m\u001B[0m\n\u001B[0m",
      "\u001B[0;32m~/anaconda3/envs/python3/lib/python3.10/site-packages/sagemaker/workflow/pipeline_context.py\u001B[0m in \u001B[0;36mwrapper\u001B[0;34m(*args, **kwargs)\u001B[0m\n\u001B[1;32m    270\u001B[0m             \u001B[0;32mreturn\u001B[0m \u001B[0m_StepArguments\u001B[0m\u001B[0;34m(\u001B[0m\u001B[0mretrieve_caller_name\u001B[0m\u001B[0;34m(\u001B[0m\u001B[0mself_instance\u001B[0m\u001B[0;34m)\u001B[0m\u001B[0;34m,\u001B[0m \u001B[0mrun_func\u001B[0m\u001B[0;34m,\u001B[0m \u001B[0;34m*\u001B[0m\u001B[0margs\u001B[0m\u001B[0;34m,\u001B[0m \u001B[0;34m**\u001B[0m\u001B[0mkwargs\u001B[0m\u001B[0;34m)\u001B[0m\u001B[0;34m\u001B[0m\u001B[0;34m\u001B[0m\u001B[0m\n\u001B[1;32m    271\u001B[0m \u001B[0;34m\u001B[0m\u001B[0m\n\u001B[0;32m--> 272\u001B[0;31m         \u001B[0;32mreturn\u001B[0m \u001B[0mrun_func\u001B[0m\u001B[0;34m(\u001B[0m\u001B[0;34m*\u001B[0m\u001B[0margs\u001B[0m\u001B[0;34m,\u001B[0m \u001B[0;34m**\u001B[0m\u001B[0mkwargs\u001B[0m\u001B[0;34m)\u001B[0m\u001B[0;34m\u001B[0m\u001B[0;34m\u001B[0m\u001B[0m\n\u001B[0m\u001B[1;32m    273\u001B[0m \u001B[0;34m\u001B[0m\u001B[0m\n\u001B[1;32m    274\u001B[0m     \u001B[0;32mreturn\u001B[0m \u001B[0mwrapper\u001B[0m\u001B[0;34m\u001B[0m\u001B[0;34m\u001B[0m\u001B[0m\n",
      "\u001B[0;32m~/anaconda3/envs/python3/lib/python3.10/site-packages/sagemaker/estimator.py\u001B[0m in \u001B[0;36mfit\u001B[0;34m(self, inputs, wait, logs, job_name, experiment_config)\u001B[0m\n\u001B[1;32m   1131\u001B[0m         \u001B[0mself\u001B[0m\u001B[0;34m.\u001B[0m\u001B[0mjobs\u001B[0m\u001B[0;34m.\u001B[0m\u001B[0mappend\u001B[0m\u001B[0;34m(\u001B[0m\u001B[0mself\u001B[0m\u001B[0;34m.\u001B[0m\u001B[0mlatest_training_job\u001B[0m\u001B[0;34m)\u001B[0m\u001B[0;34m\u001B[0m\u001B[0;34m\u001B[0m\u001B[0m\n\u001B[1;32m   1132\u001B[0m         \u001B[0;32mif\u001B[0m \u001B[0mwait\u001B[0m\u001B[0;34m:\u001B[0m\u001B[0;34m\u001B[0m\u001B[0;34m\u001B[0m\u001B[0m\n\u001B[0;32m-> 1133\u001B[0;31m             \u001B[0mself\u001B[0m\u001B[0;34m.\u001B[0m\u001B[0mlatest_training_job\u001B[0m\u001B[0;34m.\u001B[0m\u001B[0mwait\u001B[0m\u001B[0;34m(\u001B[0m\u001B[0mlogs\u001B[0m\u001B[0;34m=\u001B[0m\u001B[0mlogs\u001B[0m\u001B[0;34m)\u001B[0m\u001B[0;34m\u001B[0m\u001B[0;34m\u001B[0m\u001B[0m\n\u001B[0m\u001B[1;32m   1134\u001B[0m \u001B[0;34m\u001B[0m\u001B[0m\n\u001B[1;32m   1135\u001B[0m     \u001B[0;32mdef\u001B[0m \u001B[0m_compilation_job_name\u001B[0m\u001B[0;34m(\u001B[0m\u001B[0mself\u001B[0m\u001B[0;34m)\u001B[0m\u001B[0;34m:\u001B[0m\u001B[0;34m\u001B[0m\u001B[0;34m\u001B[0m\u001B[0m\n",
      "\u001B[0;32m~/anaconda3/envs/python3/lib/python3.10/site-packages/sagemaker/estimator.py\u001B[0m in \u001B[0;36mwait\u001B[0;34m(self, logs)\u001B[0m\n\u001B[1;32m   2247\u001B[0m         \u001B[0;31m# If logs are requested, call logs_for_jobs.\u001B[0m\u001B[0;34m\u001B[0m\u001B[0;34m\u001B[0m\u001B[0m\n\u001B[1;32m   2248\u001B[0m         \u001B[0;32mif\u001B[0m \u001B[0mlogs\u001B[0m \u001B[0;34m!=\u001B[0m \u001B[0;34m\"None\"\u001B[0m\u001B[0;34m:\u001B[0m\u001B[0;34m\u001B[0m\u001B[0;34m\u001B[0m\u001B[0m\n\u001B[0;32m-> 2249\u001B[0;31m             \u001B[0mself\u001B[0m\u001B[0;34m.\u001B[0m\u001B[0msagemaker_session\u001B[0m\u001B[0;34m.\u001B[0m\u001B[0mlogs_for_job\u001B[0m\u001B[0;34m(\u001B[0m\u001B[0mself\u001B[0m\u001B[0;34m.\u001B[0m\u001B[0mjob_name\u001B[0m\u001B[0;34m,\u001B[0m \u001B[0mwait\u001B[0m\u001B[0;34m=\u001B[0m\u001B[0;32mTrue\u001B[0m\u001B[0;34m,\u001B[0m \u001B[0mlog_type\u001B[0m\u001B[0;34m=\u001B[0m\u001B[0mlogs\u001B[0m\u001B[0;34m)\u001B[0m\u001B[0;34m\u001B[0m\u001B[0;34m\u001B[0m\u001B[0m\n\u001B[0m\u001B[1;32m   2250\u001B[0m         \u001B[0;32melse\u001B[0m\u001B[0;34m:\u001B[0m\u001B[0;34m\u001B[0m\u001B[0;34m\u001B[0m\u001B[0m\n\u001B[1;32m   2251\u001B[0m             \u001B[0mself\u001B[0m\u001B[0;34m.\u001B[0m\u001B[0msagemaker_session\u001B[0m\u001B[0;34m.\u001B[0m\u001B[0mwait_for_job\u001B[0m\u001B[0;34m(\u001B[0m\u001B[0mself\u001B[0m\u001B[0;34m.\u001B[0m\u001B[0mjob_name\u001B[0m\u001B[0;34m)\u001B[0m\u001B[0;34m\u001B[0m\u001B[0;34m\u001B[0m\u001B[0m\n",
      "\u001B[0;32m~/anaconda3/envs/python3/lib/python3.10/site-packages/sagemaker/session.py\u001B[0m in \u001B[0;36mlogs_for_job\u001B[0;34m(self, job_name, wait, poll, log_type)\u001B[0m\n\u001B[1;32m   4114\u001B[0m \u001B[0;34m\u001B[0m\u001B[0m\n\u001B[1;32m   4115\u001B[0m         \u001B[0;32mif\u001B[0m \u001B[0mwait\u001B[0m\u001B[0;34m:\u001B[0m\u001B[0;34m\u001B[0m\u001B[0;34m\u001B[0m\u001B[0m\n\u001B[0;32m-> 4116\u001B[0;31m             \u001B[0mself\u001B[0m\u001B[0;34m.\u001B[0m\u001B[0m_check_job_status\u001B[0m\u001B[0;34m(\u001B[0m\u001B[0mjob_name\u001B[0m\u001B[0;34m,\u001B[0m \u001B[0mdescription\u001B[0m\u001B[0;34m,\u001B[0m \u001B[0;34m\"TrainingJobStatus\"\u001B[0m\u001B[0;34m)\u001B[0m\u001B[0;34m\u001B[0m\u001B[0;34m\u001B[0m\u001B[0m\n\u001B[0m\u001B[1;32m   4117\u001B[0m             \u001B[0;32mif\u001B[0m \u001B[0mdot\u001B[0m\u001B[0;34m:\u001B[0m\u001B[0;34m\u001B[0m\u001B[0;34m\u001B[0m\u001B[0m\n\u001B[1;32m   4118\u001B[0m                 \u001B[0mprint\u001B[0m\u001B[0;34m(\u001B[0m\u001B[0;34m)\u001B[0m\u001B[0;34m\u001B[0m\u001B[0;34m\u001B[0m\u001B[0m\n",
      "\u001B[0;32m~/anaconda3/envs/python3/lib/python3.10/site-packages/sagemaker/session.py\u001B[0m in \u001B[0;36m_check_job_status\u001B[0;34m(self, job, desc, status_key_name)\u001B[0m\n\u001B[1;32m   3645\u001B[0m                     \u001B[0mactual_status\u001B[0m\u001B[0;34m=\u001B[0m\u001B[0mstatus\u001B[0m\u001B[0;34m,\u001B[0m\u001B[0;34m\u001B[0m\u001B[0;34m\u001B[0m\u001B[0m\n\u001B[1;32m   3646\u001B[0m                 )\n\u001B[0;32m-> 3647\u001B[0;31m             raise exceptions.UnexpectedStatusException(\n\u001B[0m\u001B[1;32m   3648\u001B[0m                 \u001B[0mmessage\u001B[0m\u001B[0;34m=\u001B[0m\u001B[0mmessage\u001B[0m\u001B[0;34m,\u001B[0m\u001B[0;34m\u001B[0m\u001B[0;34m\u001B[0m\u001B[0m\n\u001B[1;32m   3649\u001B[0m                 \u001B[0mallowed_statuses\u001B[0m\u001B[0;34m=\u001B[0m\u001B[0;34m[\u001B[0m\u001B[0;34m\"Completed\"\u001B[0m\u001B[0;34m,\u001B[0m \u001B[0;34m\"Stopped\"\u001B[0m\u001B[0;34m]\u001B[0m\u001B[0;34m,\u001B[0m\u001B[0;34m\u001B[0m\u001B[0;34m\u001B[0m\u001B[0m\n",
      "\u001B[0;31mUnexpectedStatusException\u001B[0m: Error for Training job sagemaker-scikit-learn-2023-01-27-21-28-45-881: Failed. Reason: AlgorithmError: framework error: \nTraceback (most recent call last):\n  File \"/miniconda3/lib/python3.8/site-packages/sagemaker_containers/_trainer.py\", line 84, in train\n    entrypoint()\n  File \"/miniconda3/lib/python3.8/site-packages/sagemaker_sklearn_container/training.py\", line 39, in main\n    train(environment.Environment())\n  File \"/miniconda3/lib/python3.8/site-packages/sagemaker_sklearn_container/training.py\", line 31, in train\n    entry_point.run(uri=training_environment.module_dir,\n  File \"/miniconda3/lib/python3.8/site-packages/sagemaker_training/entry_point.py\", line 99, in run\n    return runner.get(runner_type, user_entry_point, args, env_vars, extra_opts).run(\n  File \"/miniconda3/lib/python3.8/site-packages/sagemaker_training/process.py\", line 286, in run\n    process = check_error(\n  File \"/miniconda3/lib/python3.8/site-packages/sagemaker_training/process.py\", line 204, in check_error\n    raise error_class(\nsagemaker_training.errors.ExecuteUserScriptError: ExecuteUserScriptError:\nExitCode 1\nError"
     ]
    }
   ],
   "source": [
    "itc_qtl_no_cur_hrs_est.fit({'train': f's3://{bucket}/{prefix}/20230127201843_itc_traning_data.csv'})"
   ]
  },
  {
   "cell_type": "code",
   "execution_count": null,
   "id": "4c0611d4",
   "metadata": {},
   "outputs": [],
   "source": [
    "### Serverless deploy"
   ]
  },
  {
   "cell_type": "code",
   "execution_count": null,
   "id": "7ac075a4",
   "metadata": {},
   "outputs": [],
   "source": [
    "model_name = \"ds-rec-hrs-itc-quant-low-no-cur-hrs-serverless-\" + strftime(\"%Y%m%d-%H%M%S\", gmtime())\n",
    "print(\"Model name: \" + model_name)"
   ]
  },
  {
   "cell_type": "code",
   "execution_count": null,
   "id": "d7b4c4bb",
   "metadata": {},
   "outputs": [],
   "source": [
    "serverless_conf = sagemaker.serverless.serverless_inference_config.ServerlessInferenceConfig(\n",
    "    memory_size_in_mb=6144,\n",
    "    max_concurrency=100\n",
    ")"
   ]
  },
  {
   "cell_type": "code",
   "execution_count": null,
   "id": "545f8e81",
   "metadata": {},
   "outputs": [],
   "source": [
    "itc_qtl_no_cur_hrs_predictor = itc_qtl_no_cur_hrs_est.deploy(serverless_inference_config=serverless_conf,\n",
    "                                     endpoint_name='ep-' + model_name,\n",
    "                                     model_name=model_name\n",
    "                                    )"
   ]
  },
  {
   "cell_type": "code",
   "execution_count": null,
   "id": "c318941f",
   "metadata": {},
   "outputs": [],
   "source": [
    "itc_qtl_no_cur_hrs_predictor.endpoint_name"
   ]
  },
  {
   "cell_type": "code",
   "execution_count": null,
   "id": "f86ced37",
   "metadata": {},
   "outputs": [],
   "source": []
  },
  {
   "cell_type": "markdown",
   "id": "a7d430e7",
   "metadata": {},
   "source": [
    "### quantile no cur hrs high"
   ]
  },
  {
   "cell_type": "code",
   "execution_count": null,
   "id": "0d31adb0",
   "metadata": {},
   "outputs": [],
   "source": [
    "# Train my estimator\n",
    "# from sagemaker import SKLearn\n",
    "\n",
    "itc_qth_no_cur_hrs_est = SKLearn(entry_point='20230127_itc_train_deploy.py',\n",
    "                            instance_type='ml.m5.xlarge',\n",
    "                            role=role,\n",
    "                            hyperparameters={\n",
    "                                'error': 'quantile',\n",
    "                                'quantile': 0.9,\n",
    "                                'include_current_hours': False\n",
    "                            },\n",
    "                            framework_version='1.0-1')"
   ]
  },
  {
   "cell_type": "code",
   "execution_count": null,
   "id": "3cd2c403",
   "metadata": {},
   "outputs": [],
   "source": [
    "itc_qtl_no_cur_hrs_est.fit({'train': f's3://{bucket}/{prefix}/20230127201843_itc_traning_data.csv'})"
   ]
  },
  {
   "cell_type": "code",
   "execution_count": null,
   "id": "a16314f7",
   "metadata": {},
   "outputs": [],
   "source": [
    "### Serverless deploy"
   ]
  },
  {
   "cell_type": "code",
   "execution_count": null,
   "id": "8b4cde9d",
   "metadata": {},
   "outputs": [],
   "source": [
    "model_name = \"ds-rec-hrs-itc-quant-high-no-cur-hrs-serverless-\" + strftime(\"%Y%m%d-%H%M%S\", gmtime())\n",
    "print(\"Model name: \" + model_name)"
   ]
  },
  {
   "cell_type": "code",
   "execution_count": null,
   "id": "a4b119a6",
   "metadata": {},
   "outputs": [],
   "source": [
    "serverless_conf = sagemaker.serverless.serverless_inference_config.ServerlessInferenceConfig(\n",
    "    memory_size_in_mb=6144,\n",
    "    max_concurrency=100\n",
    ")"
   ]
  },
  {
   "cell_type": "code",
   "execution_count": null,
   "id": "50488a59",
   "metadata": {},
   "outputs": [],
   "source": [
    "itc_qth_no_cur_hrs_predictor = itc_qth_no_cur_hrs_est.deploy(serverless_inference_config=serverless_conf,\n",
    "                                     endpoint_name='ep-' + model_name,\n",
    "                                     model_name=model_name\n",
    "                                    )"
   ]
  },
  {
   "cell_type": "code",
   "execution_count": null,
   "id": "c0974f92",
   "metadata": {},
   "outputs": [],
   "source": [
    "itc_qth_no_cur_hrs_predictor.endpoint_name"
   ]
  },
  {
   "cell_type": "code",
   "execution_count": null,
   "id": "daf2146a",
   "metadata": {},
   "outputs": [],
   "source": []
  },
  {
   "cell_type": "markdown",
   "id": "37b4dda4",
   "metadata": {},
   "source": [
    "### quantile w cur hrs low"
   ]
  },
  {
   "cell_type": "code",
   "execution_count": 27,
   "id": "e390773d",
   "metadata": {},
   "outputs": [],
   "source": [
    "# Train my estimator\n",
    "# from sagemaker import SKLearn\n",
    "\n",
    "itc_qtl_w_cur_hrs_est = SKLearn(entry_point='20230127_itc_train_deploy.py',\n",
    "                            instance_type='ml.m5.xlarge',\n",
    "                            role=role,\n",
    "                            hyperparameters={\n",
    "                                'error': 'quantile',\n",
    "                                'quantile': 0.1,\n",
    "                                'include_current_hours': True\n",
    "                            },\n",
    "                            framework_version='1.0-1')"
   ]
  },
  {
   "cell_type": "code",
   "execution_count": 28,
   "id": "ca9cb0da",
   "metadata": {},
   "outputs": [
    {
     "name": "stderr",
     "output_type": "stream",
     "text": [
      "INFO:sagemaker:Creating training-job with name: sagemaker-scikit-learn-2023-01-27-21-31-52-569\n"
     ]
    },
    {
     "name": "stdout",
     "output_type": "stream",
     "text": [
      "2023-01-27 21:31:52 Starting - Starting the training job...\n",
      "2023-01-27 21:32:07 Starting - Preparing the instances for training......\n",
      "2023-01-27 21:33:18 Downloading - Downloading input data\n",
      "2023-01-27 21:33:18 Training - Downloading the training image...\n",
      "2023-01-27 21:33:43 Training - Training image download completed. Training in progress...\u001B[34m2023-01-27 21:34:01,616 sagemaker-containers INFO     Imported framework sagemaker_sklearn_container.training\u001B[0m\n",
      "\u001B[34m2023-01-27 21:34:01,619 sagemaker-training-toolkit INFO     No GPUs detected (normal if no gpus installed)\u001B[0m\n",
      "\u001B[34m2023-01-27 21:34:01,627 sagemaker_sklearn_container.training INFO     Invoking user training script.\u001B[0m\n",
      "\u001B[34m2023-01-27 21:34:01,840 sagemaker-training-toolkit INFO     No GPUs detected (normal if no gpus installed)\u001B[0m\n",
      "\u001B[34m2023-01-27 21:34:01,851 sagemaker-training-toolkit INFO     No GPUs detected (normal if no gpus installed)\u001B[0m\n",
      "\u001B[34m2023-01-27 21:34:01,862 sagemaker-training-toolkit INFO     No GPUs detected (normal if no gpus installed)\u001B[0m\n",
      "\u001B[34m2023-01-27 21:34:01,870 sagemaker-training-toolkit INFO     Invoking user script\u001B[0m\n",
      "\u001B[34mTraining Env:\u001B[0m\n",
      "\u001B[34m{\n",
      "    \"additional_framework_parameters\": {},\n",
      "    \"channel_input_dirs\": {\n",
      "        \"train\": \"/opt/ml/input/data/train\"\n",
      "    },\n",
      "    \"current_host\": \"algo-1\",\n",
      "    \"framework_module\": \"sagemaker_sklearn_container.training:main\",\n",
      "    \"hosts\": [\n",
      "        \"algo-1\"\n",
      "    ],\n",
      "    \"hyperparameters\": {\n",
      "        \"error\": \"quantile\",\n",
      "        \"include_current_hours\": true,\n",
      "        \"quantile\": 0.1\n",
      "    },\n",
      "    \"input_config_dir\": \"/opt/ml/input/config\",\n",
      "    \"input_data_config\": {\n",
      "        \"train\": {\n",
      "            \"TrainingInputMode\": \"File\",\n",
      "            \"S3DistributionType\": \"FullyReplicated\",\n",
      "            \"RecordWrapperType\": \"None\"\n",
      "        }\n",
      "    },\n",
      "    \"input_dir\": \"/opt/ml/input\",\n",
      "    \"is_master\": true,\n",
      "    \"job_name\": \"sagemaker-scikit-learn-2023-01-27-21-31-52-569\",\n",
      "    \"log_level\": 20,\n",
      "    \"master_hostname\": \"algo-1\",\n",
      "    \"model_dir\": \"/opt/ml/model\",\n",
      "    \"module_dir\": \"s3://sagemaker-us-east-2-257056996471/sagemaker-scikit-learn-2023-01-27-21-31-52-569/source/sourcedir.tar.gz\",\n",
      "    \"module_name\": \"20230127_itc_train_deploy\",\n",
      "    \"network_interface_name\": \"eth0\",\n",
      "    \"num_cpus\": 4,\n",
      "    \"num_gpus\": 0,\n",
      "    \"output_data_dir\": \"/opt/ml/output/data\",\n",
      "    \"output_dir\": \"/opt/ml/output\",\n",
      "    \"output_intermediate_dir\": \"/opt/ml/output/intermediate\",\n",
      "    \"resource_config\": {\n",
      "        \"current_host\": \"algo-1\",\n",
      "        \"current_instance_type\": \"ml.m5.xlarge\",\n",
      "        \"current_group_name\": \"homogeneousCluster\",\n",
      "        \"hosts\": [\n",
      "            \"algo-1\"\n",
      "        ],\n",
      "        \"instance_groups\": [\n",
      "            {\n",
      "                \"instance_group_name\": \"homogeneousCluster\",\n",
      "                \"instance_type\": \"ml.m5.xlarge\",\n",
      "                \"hosts\": [\n",
      "                    \"algo-1\"\n",
      "                ]\n",
      "            }\n",
      "        ],\n",
      "        \"network_interface_name\": \"eth0\"\n",
      "    },\n",
      "    \"user_entry_point\": \"20230127_itc_train_deploy.py\"\u001B[0m\n",
      "\u001B[34m}\u001B[0m\n",
      "\u001B[34mEnvironment variables:\u001B[0m\n",
      "\u001B[34mSM_HOSTS=[\"algo-1\"]\u001B[0m\n",
      "\u001B[34mSM_NETWORK_INTERFACE_NAME=eth0\u001B[0m\n",
      "\u001B[34mSM_HPS={\"error\":\"quantile\",\"include_current_hours\":true,\"quantile\":0.1}\u001B[0m\n",
      "\u001B[34mSM_USER_ENTRY_POINT=20230127_itc_train_deploy.py\u001B[0m\n",
      "\u001B[34mSM_FRAMEWORK_PARAMS={}\u001B[0m\n",
      "\u001B[34mSM_RESOURCE_CONFIG={\"current_group_name\":\"homogeneousCluster\",\"current_host\":\"algo-1\",\"current_instance_type\":\"ml.m5.xlarge\",\"hosts\":[\"algo-1\"],\"instance_groups\":[{\"hosts\":[\"algo-1\"],\"instance_group_name\":\"homogeneousCluster\",\"instance_type\":\"ml.m5.xlarge\"}],\"network_interface_name\":\"eth0\"}\u001B[0m\n",
      "\u001B[34mSM_INPUT_DATA_CONFIG={\"train\":{\"RecordWrapperType\":\"None\",\"S3DistributionType\":\"FullyReplicated\",\"TrainingInputMode\":\"File\"}}\u001B[0m\n",
      "\u001B[34mSM_OUTPUT_DATA_DIR=/opt/ml/output/data\u001B[0m\n",
      "\u001B[34mSM_CHANNELS=[\"train\"]\u001B[0m\n",
      "\u001B[34mSM_CURRENT_HOST=algo-1\u001B[0m\n",
      "\u001B[34mSM_MODULE_NAME=20230127_itc_train_deploy\u001B[0m\n",
      "\u001B[34mSM_LOG_LEVEL=20\u001B[0m\n",
      "\u001B[34mSM_FRAMEWORK_MODULE=sagemaker_sklearn_container.training:main\u001B[0m\n",
      "\u001B[34mSM_INPUT_DIR=/opt/ml/input\u001B[0m\n",
      "\u001B[34mSM_INPUT_CONFIG_DIR=/opt/ml/input/config\u001B[0m\n",
      "\u001B[34mSM_OUTPUT_DIR=/opt/ml/output\u001B[0m\n",
      "\u001B[34mSM_NUM_CPUS=4\u001B[0m\n",
      "\u001B[34mSM_NUM_GPUS=0\u001B[0m\n",
      "\u001B[34mSM_MODEL_DIR=/opt/ml/model\u001B[0m\n",
      "\u001B[34mSM_MODULE_DIR=s3://sagemaker-us-east-2-257056996471/sagemaker-scikit-learn-2023-01-27-21-31-52-569/source/sourcedir.tar.gz\u001B[0m\n",
      "\u001B[34mSM_TRAINING_ENV={\"additional_framework_parameters\":{},\"channel_input_dirs\":{\"train\":\"/opt/ml/input/data/train\"},\"current_host\":\"algo-1\",\"framework_module\":\"sagemaker_sklearn_container.training:main\",\"hosts\":[\"algo-1\"],\"hyperparameters\":{\"error\":\"quantile\",\"include_current_hours\":true,\"quantile\":0.1},\"input_config_dir\":\"/opt/ml/input/config\",\"input_data_config\":{\"train\":{\"RecordWrapperType\":\"None\",\"S3DistributionType\":\"FullyReplicated\",\"TrainingInputMode\":\"File\"}},\"input_dir\":\"/opt/ml/input\",\"is_master\":true,\"job_name\":\"sagemaker-scikit-learn-2023-01-27-21-31-52-569\",\"log_level\":20,\"master_hostname\":\"algo-1\",\"model_dir\":\"/opt/ml/model\",\"module_dir\":\"s3://sagemaker-us-east-2-257056996471/sagemaker-scikit-learn-2023-01-27-21-31-52-569/source/sourcedir.tar.gz\",\"module_name\":\"20230127_itc_train_deploy\",\"network_interface_name\":\"eth0\",\"num_cpus\":4,\"num_gpus\":0,\"output_data_dir\":\"/opt/ml/output/data\",\"output_dir\":\"/opt/ml/output\",\"output_intermediate_dir\":\"/opt/ml/output/intermediate\",\"resource_config\":{\"current_group_name\":\"homogeneousCluster\",\"current_host\":\"algo-1\",\"current_instance_type\":\"ml.m5.xlarge\",\"hosts\":[\"algo-1\"],\"instance_groups\":[{\"hosts\":[\"algo-1\"],\"instance_group_name\":\"homogeneousCluster\",\"instance_type\":\"ml.m5.xlarge\"}],\"network_interface_name\":\"eth0\"},\"user_entry_point\":\"20230127_itc_train_deploy.py\"}\u001B[0m\n",
      "\u001B[34mSM_USER_ARGS=[\"--error\",\"quantile\",\"--include_current_hours\",\"True\",\"--quantile\",\"0.1\"]\u001B[0m\n",
      "\u001B[34mSM_OUTPUT_INTERMEDIATE_DIR=/opt/ml/output/intermediate\u001B[0m\n",
      "\u001B[34mSM_CHANNEL_TRAIN=/opt/ml/input/data/train\u001B[0m\n",
      "\u001B[34mSM_HP_ERROR=quantile\u001B[0m\n",
      "\u001B[34mSM_HP_INCLUDE_CURRENT_HOURS=true\u001B[0m\n",
      "\u001B[34mSM_HP_QUANTILE=0.1\u001B[0m\n",
      "\u001B[34mPYTHONPATH=/opt/ml/code:/miniconda3/bin:/miniconda3/lib/python38.zip:/miniconda3/lib/python3.8:/miniconda3/lib/python3.8/lib-dynload:/miniconda3/lib/python3.8/site-packages\u001B[0m\n",
      "\u001B[34mInvoking script with the following command:\u001B[0m\n",
      "\u001B[34m/miniconda3/bin/python 20230127_itc_train_deploy.py --error quantile --include_current_hours True --quantile 0.1\u001B[0m\n",
      "\u001B[34mTraceback (most recent call last):\n",
      "  File \"20230127_itc_train_deploy.py\", line 54, in <module>\n",
      "    clf = HistGradientBoostingRegressor(**hyper_params)\u001B[0m\n",
      "\u001B[34mTypeError: __init__() got an unexpected keyword argument 'quantile'\u001B[0m\n",
      "\u001B[34m2023-01-27 21:34:02,856 sagemaker-containers ERROR    Reporting training FAILURE\u001B[0m\n",
      "\u001B[34m2023-01-27 21:34:02,856 sagemaker-containers ERROR    framework error: \u001B[0m\n",
      "\u001B[34mTraceback (most recent call last):\n",
      "  File \"/miniconda3/lib/python3.8/site-packages/sagemaker_containers/_trainer.py\", line 84, in train\n",
      "    entrypoint()\n",
      "  File \"/miniconda3/lib/python3.8/site-packages/sagemaker_sklearn_container/training.py\", line 39, in main\n",
      "    train(environment.Environment())\n",
      "  File \"/miniconda3/lib/python3.8/site-packages/sagemaker_sklearn_container/training.py\", line 31, in train\n",
      "    entry_point.run(uri=training_environment.module_dir,\n",
      "  File \"/miniconda3/lib/python3.8/site-packages/sagemaker_training/entry_point.py\", line 99, in run\n",
      "    return runner.get(runner_type, user_entry_point, args, env_vars, extra_opts).run(\n",
      "  File \"/miniconda3/lib/python3.8/site-packages/sagemaker_training/process.py\", line 286, in run\n",
      "    process = check_error(\n",
      "  File \"/miniconda3/lib/python3.8/site-packages/sagemaker_training/process.py\", line 204, in check_error\n",
      "    raise error_class(\u001B[0m\n",
      "\u001B[34msagemaker_training.errors.ExecuteUserScriptError: ExecuteUserScriptError:\u001B[0m\n",
      "\u001B[34mExitCode 1\u001B[0m\n",
      "\u001B[34mErrorMessage \"\"\u001B[0m\n",
      "\u001B[34mCommand \"/miniconda3/bin/python 20230127_itc_train_deploy.py --error quantile --include_current_hours True --quantile 0.1\"\u001B[0m\n",
      "\u001B[34mExecuteUserScriptError:\u001B[0m\n",
      "\u001B[34mExitCode 1\u001B[0m\n",
      "\u001B[34mErrorMessage \"\"\u001B[0m\n",
      "\u001B[34mCommand \"/miniconda3/bin/python 20230127_itc_train_deploy.py --error quantile --include_current_hours True --quantile 0.1\"\u001B[0m\n",
      "\n",
      "2023-01-27 21:34:14 Uploading - Uploading generated training model\n",
      "2023-01-27 21:34:14 Failed - Training job failed\n"
     ]
    },
    {
     "ename": "UnexpectedStatusException",
     "evalue": "Error for Training job sagemaker-scikit-learn-2023-01-27-21-31-52-569: Failed. Reason: AlgorithmError: framework error: \nTraceback (most recent call last):\n  File \"/miniconda3/lib/python3.8/site-packages/sagemaker_containers/_trainer.py\", line 84, in train\n    entrypoint()\n  File \"/miniconda3/lib/python3.8/site-packages/sagemaker_sklearn_container/training.py\", line 39, in main\n    train(environment.Environment())\n  File \"/miniconda3/lib/python3.8/site-packages/sagemaker_sklearn_container/training.py\", line 31, in train\n    entry_point.run(uri=training_environment.module_dir,\n  File \"/miniconda3/lib/python3.8/site-packages/sagemaker_training/entry_point.py\", line 99, in run\n    return runner.get(runner_type, user_entry_point, args, env_vars, extra_opts).run(\n  File \"/miniconda3/lib/python3.8/site-packages/sagemaker_training/process.py\", line 286, in run\n    process = check_error(\n  File \"/miniconda3/lib/python3.8/site-packages/sagemaker_training/process.py\", line 204, in check_error\n    raise error_class(\nsagemaker_training.errors.ExecuteUserScriptError: ExecuteUserScriptError:\nExitCode 1\nError",
     "output_type": "error",
     "traceback": [
      "\u001B[0;31m---------------------------------------------------------------------------\u001B[0m",
      "\u001B[0;31mUnexpectedStatusException\u001B[0m                 Traceback (most recent call last)",
      "\u001B[0;32m/tmp/ipykernel_30009/1570985626.py\u001B[0m in \u001B[0;36m<cell line: 1>\u001B[0;34m()\u001B[0m\n\u001B[0;32m----> 1\u001B[0;31m \u001B[0mitc_qtl_w_cur_hrs_est\u001B[0m\u001B[0;34m.\u001B[0m\u001B[0mfit\u001B[0m\u001B[0;34m(\u001B[0m\u001B[0;34m{\u001B[0m\u001B[0;34m'train'\u001B[0m\u001B[0;34m:\u001B[0m \u001B[0;34mf's3://{bucket}/{prefix}/20230127201843_itc_traning_data.csv'\u001B[0m\u001B[0;34m}\u001B[0m\u001B[0;34m)\u001B[0m\u001B[0;34m\u001B[0m\u001B[0;34m\u001B[0m\u001B[0m\n\u001B[0m",
      "\u001B[0;32m~/anaconda3/envs/python3/lib/python3.10/site-packages/sagemaker/workflow/pipeline_context.py\u001B[0m in \u001B[0;36mwrapper\u001B[0;34m(*args, **kwargs)\u001B[0m\n\u001B[1;32m    270\u001B[0m             \u001B[0;32mreturn\u001B[0m \u001B[0m_StepArguments\u001B[0m\u001B[0;34m(\u001B[0m\u001B[0mretrieve_caller_name\u001B[0m\u001B[0;34m(\u001B[0m\u001B[0mself_instance\u001B[0m\u001B[0;34m)\u001B[0m\u001B[0;34m,\u001B[0m \u001B[0mrun_func\u001B[0m\u001B[0;34m,\u001B[0m \u001B[0;34m*\u001B[0m\u001B[0margs\u001B[0m\u001B[0;34m,\u001B[0m \u001B[0;34m**\u001B[0m\u001B[0mkwargs\u001B[0m\u001B[0;34m)\u001B[0m\u001B[0;34m\u001B[0m\u001B[0;34m\u001B[0m\u001B[0m\n\u001B[1;32m    271\u001B[0m \u001B[0;34m\u001B[0m\u001B[0m\n\u001B[0;32m--> 272\u001B[0;31m         \u001B[0;32mreturn\u001B[0m \u001B[0mrun_func\u001B[0m\u001B[0;34m(\u001B[0m\u001B[0;34m*\u001B[0m\u001B[0margs\u001B[0m\u001B[0;34m,\u001B[0m \u001B[0;34m**\u001B[0m\u001B[0mkwargs\u001B[0m\u001B[0;34m)\u001B[0m\u001B[0;34m\u001B[0m\u001B[0;34m\u001B[0m\u001B[0m\n\u001B[0m\u001B[1;32m    273\u001B[0m \u001B[0;34m\u001B[0m\u001B[0m\n\u001B[1;32m    274\u001B[0m     \u001B[0;32mreturn\u001B[0m \u001B[0mwrapper\u001B[0m\u001B[0;34m\u001B[0m\u001B[0;34m\u001B[0m\u001B[0m\n",
      "\u001B[0;32m~/anaconda3/envs/python3/lib/python3.10/site-packages/sagemaker/estimator.py\u001B[0m in \u001B[0;36mfit\u001B[0;34m(self, inputs, wait, logs, job_name, experiment_config)\u001B[0m\n\u001B[1;32m   1131\u001B[0m         \u001B[0mself\u001B[0m\u001B[0;34m.\u001B[0m\u001B[0mjobs\u001B[0m\u001B[0;34m.\u001B[0m\u001B[0mappend\u001B[0m\u001B[0;34m(\u001B[0m\u001B[0mself\u001B[0m\u001B[0;34m.\u001B[0m\u001B[0mlatest_training_job\u001B[0m\u001B[0;34m)\u001B[0m\u001B[0;34m\u001B[0m\u001B[0;34m\u001B[0m\u001B[0m\n\u001B[1;32m   1132\u001B[0m         \u001B[0;32mif\u001B[0m \u001B[0mwait\u001B[0m\u001B[0;34m:\u001B[0m\u001B[0;34m\u001B[0m\u001B[0;34m\u001B[0m\u001B[0m\n\u001B[0;32m-> 1133\u001B[0;31m             \u001B[0mself\u001B[0m\u001B[0;34m.\u001B[0m\u001B[0mlatest_training_job\u001B[0m\u001B[0;34m.\u001B[0m\u001B[0mwait\u001B[0m\u001B[0;34m(\u001B[0m\u001B[0mlogs\u001B[0m\u001B[0;34m=\u001B[0m\u001B[0mlogs\u001B[0m\u001B[0;34m)\u001B[0m\u001B[0;34m\u001B[0m\u001B[0;34m\u001B[0m\u001B[0m\n\u001B[0m\u001B[1;32m   1134\u001B[0m \u001B[0;34m\u001B[0m\u001B[0m\n\u001B[1;32m   1135\u001B[0m     \u001B[0;32mdef\u001B[0m \u001B[0m_compilation_job_name\u001B[0m\u001B[0;34m(\u001B[0m\u001B[0mself\u001B[0m\u001B[0;34m)\u001B[0m\u001B[0;34m:\u001B[0m\u001B[0;34m\u001B[0m\u001B[0;34m\u001B[0m\u001B[0m\n",
      "\u001B[0;32m~/anaconda3/envs/python3/lib/python3.10/site-packages/sagemaker/estimator.py\u001B[0m in \u001B[0;36mwait\u001B[0;34m(self, logs)\u001B[0m\n\u001B[1;32m   2247\u001B[0m         \u001B[0;31m# If logs are requested, call logs_for_jobs.\u001B[0m\u001B[0;34m\u001B[0m\u001B[0;34m\u001B[0m\u001B[0m\n\u001B[1;32m   2248\u001B[0m         \u001B[0;32mif\u001B[0m \u001B[0mlogs\u001B[0m \u001B[0;34m!=\u001B[0m \u001B[0;34m\"None\"\u001B[0m\u001B[0;34m:\u001B[0m\u001B[0;34m\u001B[0m\u001B[0;34m\u001B[0m\u001B[0m\n\u001B[0;32m-> 2249\u001B[0;31m             \u001B[0mself\u001B[0m\u001B[0;34m.\u001B[0m\u001B[0msagemaker_session\u001B[0m\u001B[0;34m.\u001B[0m\u001B[0mlogs_for_job\u001B[0m\u001B[0;34m(\u001B[0m\u001B[0mself\u001B[0m\u001B[0;34m.\u001B[0m\u001B[0mjob_name\u001B[0m\u001B[0;34m,\u001B[0m \u001B[0mwait\u001B[0m\u001B[0;34m=\u001B[0m\u001B[0;32mTrue\u001B[0m\u001B[0;34m,\u001B[0m \u001B[0mlog_type\u001B[0m\u001B[0;34m=\u001B[0m\u001B[0mlogs\u001B[0m\u001B[0;34m)\u001B[0m\u001B[0;34m\u001B[0m\u001B[0;34m\u001B[0m\u001B[0m\n\u001B[0m\u001B[1;32m   2250\u001B[0m         \u001B[0;32melse\u001B[0m\u001B[0;34m:\u001B[0m\u001B[0;34m\u001B[0m\u001B[0;34m\u001B[0m\u001B[0m\n\u001B[1;32m   2251\u001B[0m             \u001B[0mself\u001B[0m\u001B[0;34m.\u001B[0m\u001B[0msagemaker_session\u001B[0m\u001B[0;34m.\u001B[0m\u001B[0mwait_for_job\u001B[0m\u001B[0;34m(\u001B[0m\u001B[0mself\u001B[0m\u001B[0;34m.\u001B[0m\u001B[0mjob_name\u001B[0m\u001B[0;34m)\u001B[0m\u001B[0;34m\u001B[0m\u001B[0;34m\u001B[0m\u001B[0m\n",
      "\u001B[0;32m~/anaconda3/envs/python3/lib/python3.10/site-packages/sagemaker/session.py\u001B[0m in \u001B[0;36mlogs_for_job\u001B[0;34m(self, job_name, wait, poll, log_type)\u001B[0m\n\u001B[1;32m   4114\u001B[0m \u001B[0;34m\u001B[0m\u001B[0m\n\u001B[1;32m   4115\u001B[0m         \u001B[0;32mif\u001B[0m \u001B[0mwait\u001B[0m\u001B[0;34m:\u001B[0m\u001B[0;34m\u001B[0m\u001B[0;34m\u001B[0m\u001B[0m\n\u001B[0;32m-> 4116\u001B[0;31m             \u001B[0mself\u001B[0m\u001B[0;34m.\u001B[0m\u001B[0m_check_job_status\u001B[0m\u001B[0;34m(\u001B[0m\u001B[0mjob_name\u001B[0m\u001B[0;34m,\u001B[0m \u001B[0mdescription\u001B[0m\u001B[0;34m,\u001B[0m \u001B[0;34m\"TrainingJobStatus\"\u001B[0m\u001B[0;34m)\u001B[0m\u001B[0;34m\u001B[0m\u001B[0;34m\u001B[0m\u001B[0m\n\u001B[0m\u001B[1;32m   4117\u001B[0m             \u001B[0;32mif\u001B[0m \u001B[0mdot\u001B[0m\u001B[0;34m:\u001B[0m\u001B[0;34m\u001B[0m\u001B[0;34m\u001B[0m\u001B[0m\n\u001B[1;32m   4118\u001B[0m                 \u001B[0mprint\u001B[0m\u001B[0;34m(\u001B[0m\u001B[0;34m)\u001B[0m\u001B[0;34m\u001B[0m\u001B[0;34m\u001B[0m\u001B[0m\n",
      "\u001B[0;32m~/anaconda3/envs/python3/lib/python3.10/site-packages/sagemaker/session.py\u001B[0m in \u001B[0;36m_check_job_status\u001B[0;34m(self, job, desc, status_key_name)\u001B[0m\n\u001B[1;32m   3645\u001B[0m                     \u001B[0mactual_status\u001B[0m\u001B[0;34m=\u001B[0m\u001B[0mstatus\u001B[0m\u001B[0;34m,\u001B[0m\u001B[0;34m\u001B[0m\u001B[0;34m\u001B[0m\u001B[0m\n\u001B[1;32m   3646\u001B[0m                 )\n\u001B[0;32m-> 3647\u001B[0;31m             raise exceptions.UnexpectedStatusException(\n\u001B[0m\u001B[1;32m   3648\u001B[0m                 \u001B[0mmessage\u001B[0m\u001B[0;34m=\u001B[0m\u001B[0mmessage\u001B[0m\u001B[0;34m,\u001B[0m\u001B[0;34m\u001B[0m\u001B[0;34m\u001B[0m\u001B[0m\n\u001B[1;32m   3649\u001B[0m                 \u001B[0mallowed_statuses\u001B[0m\u001B[0;34m=\u001B[0m\u001B[0;34m[\u001B[0m\u001B[0;34m\"Completed\"\u001B[0m\u001B[0;34m,\u001B[0m \u001B[0;34m\"Stopped\"\u001B[0m\u001B[0;34m]\u001B[0m\u001B[0;34m,\u001B[0m\u001B[0;34m\u001B[0m\u001B[0;34m\u001B[0m\u001B[0m\n",
      "\u001B[0;31mUnexpectedStatusException\u001B[0m: Error for Training job sagemaker-scikit-learn-2023-01-27-21-31-52-569: Failed. Reason: AlgorithmError: framework error: \nTraceback (most recent call last):\n  File \"/miniconda3/lib/python3.8/site-packages/sagemaker_containers/_trainer.py\", line 84, in train\n    entrypoint()\n  File \"/miniconda3/lib/python3.8/site-packages/sagemaker_sklearn_container/training.py\", line 39, in main\n    train(environment.Environment())\n  File \"/miniconda3/lib/python3.8/site-packages/sagemaker_sklearn_container/training.py\", line 31, in train\n    entry_point.run(uri=training_environment.module_dir,\n  File \"/miniconda3/lib/python3.8/site-packages/sagemaker_training/entry_point.py\", line 99, in run\n    return runner.get(runner_type, user_entry_point, args, env_vars, extra_opts).run(\n  File \"/miniconda3/lib/python3.8/site-packages/sagemaker_training/process.py\", line 286, in run\n    process = check_error(\n  File \"/miniconda3/lib/python3.8/site-packages/sagemaker_training/process.py\", line 204, in check_error\n    raise error_class(\nsagemaker_training.errors.ExecuteUserScriptError: ExecuteUserScriptError:\nExitCode 1\nError"
     ]
    }
   ],
   "source": [
    "itc_qtl_w_cur_hrs_est.fit({'train': f's3://{bucket}/{prefix}/20230127201843_itc_traning_data.csv'})"
   ]
  },
  {
   "cell_type": "code",
   "execution_count": null,
   "id": "ca7c0ee0",
   "metadata": {},
   "outputs": [],
   "source": [
    "### Serverless deploy"
   ]
  },
  {
   "cell_type": "code",
   "execution_count": null,
   "id": "2c62520d",
   "metadata": {},
   "outputs": [],
   "source": [
    "model_name = \"ds-rec-hrs-itc-quant-low-w-cur-hrs-serverless-\" + strftime(\"%Y%m%d-%H%M%S\", gmtime())\n",
    "print(\"Model name: \" + model_name)"
   ]
  },
  {
   "cell_type": "code",
   "execution_count": null,
   "id": "9d0eadc7",
   "metadata": {},
   "outputs": [],
   "source": [
    "serverless_conf = sagemaker.serverless.serverless_inference_config.ServerlessInferenceConfig(\n",
    "    memory_size_in_mb=6144,\n",
    "    max_concurrency=100\n",
    ")"
   ]
  },
  {
   "cell_type": "code",
   "execution_count": null,
   "id": "4553df91",
   "metadata": {},
   "outputs": [],
   "source": [
    "itc_qtl_w_cur_hrs_predictor = itc_qtl_w_cur_hrs_est.deploy(serverless_inference_config=serverless_conf,\n",
    "                                     endpoint_name='ep-' + model_name,\n",
    "                                     model_name=model_name\n",
    "                                    )"
   ]
  },
  {
   "cell_type": "code",
   "execution_count": null,
   "id": "03fac2ea",
   "metadata": {},
   "outputs": [],
   "source": [
    "itc_qtl_w_cur_hrs_predictor.endpoint_name"
   ]
  },
  {
   "cell_type": "code",
   "execution_count": null,
   "id": "923d40a0",
   "metadata": {},
   "outputs": [],
   "source": []
  },
  {
   "cell_type": "markdown",
   "id": "be721900",
   "metadata": {},
   "source": [
    "### quantile w cur hrs high"
   ]
  },
  {
   "cell_type": "code",
   "execution_count": null,
   "id": "de035ba1",
   "metadata": {},
   "outputs": [],
   "source": [
    "# Train my estimator\n",
    "# from sagemaker import SKLearn\n",
    "\n",
    "itc_qth_w_cur_hrs_est = SKLearn(entry_point='20230127_itc_train_deploy.py',\n",
    "                            instance_type='ml.m5.xlarge',\n",
    "                            role=role,\n",
    "                            hyperparameters={\n",
    "                                'error': 'quantile',\n",
    "                                'quantile': 0.9,\n",
    "                                'include_current_hours': True\n",
    "                            },\n",
    "                            framework_version='1.0-1')"
   ]
  },
  {
   "cell_type": "code",
   "execution_count": null,
   "id": "f722e24a",
   "metadata": {},
   "outputs": [],
   "source": [
    "itc_qtl_w_cur_hrs_est.fit({'train': f's3://{bucket}/{prefix}/20230127201843_itc_traning_data.csv'})"
   ]
  },
  {
   "cell_type": "code",
   "execution_count": null,
   "id": "3e2e608e",
   "metadata": {},
   "outputs": [],
   "source": [
    "### Serverless deploy"
   ]
  },
  {
   "cell_type": "code",
   "execution_count": null,
   "id": "8ecebeec",
   "metadata": {},
   "outputs": [],
   "source": [
    "model_name = \"ds-rec-hrs-itc-quant-high-w-cur-hrs-serverless-\" + strftime(\"%Y%m%d-%H%M%S\", gmtime())\n",
    "print(\"Model name: \" + model_name)"
   ]
  },
  {
   "cell_type": "code",
   "execution_count": null,
   "id": "ebaf6508",
   "metadata": {},
   "outputs": [],
   "source": [
    "serverless_conf = sagemaker.serverless.serverless_inference_config.ServerlessInferenceConfig(\n",
    "    memory_size_in_mb=6144,\n",
    "    max_concurrency=100\n",
    ")"
   ]
  },
  {
   "cell_type": "code",
   "execution_count": null,
   "id": "e851d3b2",
   "metadata": {},
   "outputs": [],
   "source": [
    "itc_qth_w_cur_hrs_predictor = itc_qth_w_cur_hrs_est.deploy(serverless_inference_config=serverless_conf,\n",
    "                                     endpoint_name='ep-' + model_name,\n",
    "                                     model_name=model_name\n",
    "                                    )"
   ]
  },
  {
   "cell_type": "code",
   "execution_count": null,
   "id": "2bfc7f97",
   "metadata": {},
   "outputs": [],
   "source": [
    "itc_qth_w_cur_hrs_predictor.endpoint_name"
   ]
  },
  {
   "cell_type": "code",
   "execution_count": null,
   "id": "4bf3e78a",
   "metadata": {},
   "outputs": [],
   "source": []
  },
  {
   "cell_type": "code",
   "execution_count": null,
   "id": "5baf2cbf",
   "metadata": {},
   "outputs": [],
   "source": []
  },
  {
   "cell_type": "code",
   "execution_count": null,
   "id": "ee8b9f84",
   "metadata": {},
   "outputs": [],
   "source": []
  },
  {
   "cell_type": "code",
   "execution_count": null,
   "id": "b7a06b60",
   "metadata": {},
   "outputs": [],
   "source": []
  }
 ],
 "metadata": {
  "kernelspec": {
   "display_name": "Python 3 (ipykernel)",
   "language": "python",
   "name": "python3"
  },
  "language_info": {
   "codemirror_mode": {
    "name": "ipython",
    "version": 3
   },
   "file_extension": ".py",
   "mimetype": "text/x-python",
   "name": "python",
   "nbconvert_exporter": "python",
   "pygments_lexer": "ipython3",
   "version": "3.10.8"
  }
 },
 "nbformat": 4,
 "nbformat_minor": 5
}
